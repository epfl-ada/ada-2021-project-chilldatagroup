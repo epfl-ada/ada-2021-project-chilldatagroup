{
 "cells": [
  {
   "cell_type": "markdown",
   "id": "d23d2ba5",
   "metadata": {},
   "source": [
    "## Quotations indicate the career success of public figures\n",
    "**ChillDataGroup: Zihan Wu, Yinhao Wang, Yihang Chen**"
   ]
  },
  {
   "cell_type": "code",
   "execution_count": 1,
   "id": "4713920f",
   "metadata": {},
   "outputs": [],
   "source": [
    "import pandas as pd\n",
    "import seaborn as sns\n",
    "import numpy as np\n",
    "import matplotlib.pyplot as plt"
   ]
  },
  {
   "cell_type": "markdown",
   "id": "35a243e4",
   "metadata": {},
   "source": [
    "## Load QuoteBank Dataset\n",
    "We refer to the pipeline provided in Google Colab to load the quotations from 2015 to 2020.\n",
    "\n",
    "Due to the large size of data, when loading them, we just load the data said by the senate election since 2015 candidates. The dataset for senate elections is obtained from MIT Election Data and Science Lab [1].\n",
    "\n",
    "We also provide the codes for loading these senate candidate quotations below, but those are run ahead in google colab (takes around 30min for each year's data). We did not re-run them here. It contains the senate election results for all candidates\n",
    "\n",
    "[1] MIT Election Data and Science Lab, 2017, \"U.S. Senate 1976–2020\", https://doi.org/10.7910/DVN/PEJ5QU, Harvard Dataverse, V5."
   ]
  },
  {
   "cell_type": "code",
   "execution_count": 2,
   "id": "01f3f51e",
   "metadata": {},
   "outputs": [],
   "source": [
    "# Pipeline obtained from the course google colab\n",
    "from tld import get_tld\n",
    "\n",
    "def get_domain(url):\n",
    "    res = get_tld(url, as_object=True)\n",
    "    return res.tld"
   ]
  },
  {
   "cell_type": "code",
   "execution_count": 3,
   "id": "a453a63e",
   "metadata": {
    "scrolled": true
   },
   "outputs": [
    {
     "data": {
      "text/html": [
       "<div>\n",
       "<style scoped>\n",
       "    .dataframe tbody tr th:only-of-type {\n",
       "        vertical-align: middle;\n",
       "    }\n",
       "\n",
       "    .dataframe tbody tr th {\n",
       "        vertical-align: top;\n",
       "    }\n",
       "\n",
       "    .dataframe thead th {\n",
       "        text-align: right;\n",
       "    }\n",
       "</style>\n",
       "<table border=\"1\" class=\"dataframe\">\n",
       "  <thead>\n",
       "    <tr style=\"text-align: right;\">\n",
       "      <th></th>\n",
       "      <th>year</th>\n",
       "      <th>state</th>\n",
       "      <th>state_po</th>\n",
       "      <th>state_fips</th>\n",
       "      <th>state_cen</th>\n",
       "      <th>state_ic</th>\n",
       "      <th>office</th>\n",
       "      <th>district</th>\n",
       "      <th>stage</th>\n",
       "      <th>special</th>\n",
       "      <th>candidate</th>\n",
       "      <th>party_detailed</th>\n",
       "      <th>writein</th>\n",
       "      <th>mode</th>\n",
       "      <th>candidatevotes</th>\n",
       "      <th>totalvotes</th>\n",
       "      <th>unofficial</th>\n",
       "      <th>version</th>\n",
       "      <th>party_simplified</th>\n",
       "    </tr>\n",
       "  </thead>\n",
       "  <tbody>\n",
       "    <tr>\n",
       "      <th>3437</th>\n",
       "      <td>2020</td>\n",
       "      <td>ARIZONA</td>\n",
       "      <td>AZ</td>\n",
       "      <td>4</td>\n",
       "      <td>86</td>\n",
       "      <td>61</td>\n",
       "      <td>US SENATE</td>\n",
       "      <td>statewide</td>\n",
       "      <td>gen</td>\n",
       "      <td>True</td>\n",
       "      <td>BUZZ STEWART</td>\n",
       "      <td>DEMOCRAT</td>\n",
       "      <td>True</td>\n",
       "      <td>total</td>\n",
       "      <td>22</td>\n",
       "      <td>3355307</td>\n",
       "      <td>False</td>\n",
       "      <td>20210114</td>\n",
       "      <td>DEMOCRAT</td>\n",
       "    </tr>\n",
       "    <tr>\n",
       "      <th>894</th>\n",
       "      <td>1988</td>\n",
       "      <td>WISCONSIN</td>\n",
       "      <td>WI</td>\n",
       "      <td>55</td>\n",
       "      <td>35</td>\n",
       "      <td>25</td>\n",
       "      <td>US SENATE</td>\n",
       "      <td>statewide</td>\n",
       "      <td>gen</td>\n",
       "      <td>False</td>\n",
       "      <td>HERBERT H. KOHL</td>\n",
       "      <td>DEMOCRAT</td>\n",
       "      <td>False</td>\n",
       "      <td>total</td>\n",
       "      <td>1128625</td>\n",
       "      <td>2168190</td>\n",
       "      <td>False</td>\n",
       "      <td>20210114</td>\n",
       "      <td>DEMOCRAT</td>\n",
       "    </tr>\n",
       "    <tr>\n",
       "      <th>3097</th>\n",
       "      <td>2016</td>\n",
       "      <td>FLORIDA</td>\n",
       "      <td>FL</td>\n",
       "      <td>12</td>\n",
       "      <td>59</td>\n",
       "      <td>43</td>\n",
       "      <td>US SENATE</td>\n",
       "      <td>statewide</td>\n",
       "      <td>gen</td>\n",
       "      <td>False</td>\n",
       "      <td>NaN</td>\n",
       "      <td>NaN</td>\n",
       "      <td>True</td>\n",
       "      <td>total</td>\n",
       "      <td>37</td>\n",
       "      <td>9301820</td>\n",
       "      <td>False</td>\n",
       "      <td>20210114</td>\n",
       "      <td>OTHER</td>\n",
       "    </tr>\n",
       "    <tr>\n",
       "      <th>3534</th>\n",
       "      <td>2020</td>\n",
       "      <td>MAINE</td>\n",
       "      <td>ME</td>\n",
       "      <td>23</td>\n",
       "      <td>11</td>\n",
       "      <td>2</td>\n",
       "      <td>US SENATE</td>\n",
       "      <td>statewide</td>\n",
       "      <td>gen</td>\n",
       "      <td>False</td>\n",
       "      <td>BLANK VOTES</td>\n",
       "      <td>NaN</td>\n",
       "      <td>False</td>\n",
       "      <td>total</td>\n",
       "      <td>9122</td>\n",
       "      <td>828305</td>\n",
       "      <td>False</td>\n",
       "      <td>20210114</td>\n",
       "      <td>OTHER</td>\n",
       "    </tr>\n",
       "  </tbody>\n",
       "</table>\n",
       "</div>"
      ],
      "text/plain": [
       "      year      state state_po  state_fips  state_cen  state_ic     office  \\\n",
       "3437  2020    ARIZONA       AZ           4         86        61  US SENATE   \n",
       "894   1988  WISCONSIN       WI          55         35        25  US SENATE   \n",
       "3097  2016    FLORIDA       FL          12         59        43  US SENATE   \n",
       "3534  2020      MAINE       ME          23         11         2  US SENATE   \n",
       "\n",
       "       district stage  special        candidate party_detailed  writein  \\\n",
       "3437  statewide   gen     True     BUZZ STEWART       DEMOCRAT     True   \n",
       "894   statewide   gen    False  HERBERT H. KOHL       DEMOCRAT    False   \n",
       "3097  statewide   gen    False              NaN            NaN     True   \n",
       "3534  statewide   gen    False      BLANK VOTES            NaN    False   \n",
       "\n",
       "       mode  candidatevotes  totalvotes  unofficial   version party_simplified  \n",
       "3437  total              22     3355307       False  20210114         DEMOCRAT  \n",
       "894   total         1128625     2168190       False  20210114         DEMOCRAT  \n",
       "3097  total              37     9301820       False  20210114            OTHER  \n",
       "3534  total            9122      828305       False  20210114            OTHER  "
      ]
     },
     "execution_count": 3,
     "metadata": {},
     "output_type": "execute_result"
    }
   ],
   "source": [
    "# Load the Senate Election Result data \n",
    "import pandas as pd\n",
    "senate_file = 'SenateData/1976-2020-senate.csv'\n",
    "senate_election = pd.read_csv(senate_file, encoding= 'unicode_escape')\n",
    "senate_election.sample(4) # demonstrate the format of election data"
   ]
  },
  {
   "cell_type": "markdown",
   "id": "e166a7cb",
   "metadata": {},
   "source": [
    "Here, we only choose the candidate running for elections since 2016, because the supported Quotebank data goes back to 2015"
   ]
  },
  {
   "cell_type": "code",
   "execution_count": 4,
   "id": "0fa9750d",
   "metadata": {},
   "outputs": [
    {
     "data": {
      "text/plain": [
       "[{'RICHARD', 'SHELBY'},\n",
       " {'JOE', 'MILLER'},\n",
       " {'GIANOUTSOS', 'TED'},\n",
       " {'METCALFE', 'RAY'},\n",
       " {'MARGARET', 'STOCK'},\n",
       " {'BRECK', 'CRAIG'},\n",
       " {'LISA', 'MURKOWSKI'},\n",
       " {'ANTHONY', 'CAMBONI'},\n",
       " {'ANN', 'KIRKPATRICK'}]"
      ]
     },
     "execution_count": 4,
     "metadata": {},
     "output_type": "execute_result"
    }
   ],
   "source": [
    "# Load the names of candidates since 2016\n",
    "# The NaN names are dropped, and repeated names are dropped\n",
    "def delete_middle_name(name): # delete middle name\n",
    "  name_split = name.upper().split()\n",
    "  if len(name_split) > 2:\n",
    "    senate_delete_middle_name = name_split[0] + ' ' + name_split[-1]\n",
    "    return senate_delete_middle_name\n",
    "  return name\n",
    "\n",
    "# To address the variation of names, we use this function to determine whether the speaker name matches the first and \n",
    "# last name of any senate candidates. In this way, we can find speakers with different name writing style like:\n",
    "# 'Senate Lindsey Graham', 'Lindsey Olin Graham', 'Lindsey O. Graham' (they all indicate the same candidate)\n",
    "\n",
    "# The function below takes in a speaker name and a list of senate names (already split into first and last name)\n",
    "# It returns a boolean whether the speaker is a senate, and the name of senate (in the form of first + last name) if true\n",
    "def isSenate(name,senate_names):\n",
    "  name_set = set(name.upper().split())\n",
    "  for i in range(len(senate_names)):\n",
    "    if senate_names[i] <= name_set:\n",
    "      return (True, i)\n",
    "  return (False, None)\n",
    "\n",
    "senate_candidates = senate_election[senate_election['year'] >= 2016].dropna(subset=['candidate', 'party_detailed'])['candidate'].unique()\n",
    "senate_candidates_splitted = list(map(lambda senate: set(delete_middle_name(senate).split()), senate_candidates))\n",
    "senate_candidates_splitted[1:10]"
   ]
  },
  {
   "cell_type": "code",
   "execution_count": 5,
   "id": "8cec8de5",
   "metadata": {},
   "outputs": [
    {
     "name": "stdout",
     "output_type": "stream",
     "text": [
      "there are total 439 names\n"
     ]
    }
   ],
   "source": [
    "#Sanity Check: all names at least have a first and last name\n",
    "for split in senate_candidates_splitted:\n",
    "    assert(len(split) > 1)\n",
    "print('there are total {} names'.format(len(senate_candidates_splitted)))"
   ]
  },
  {
   "cell_type": "markdown",
   "id": "42c252e0",
   "metadata": {},
   "source": [
    "**We do not run the cell below because takes too long.** We have run those on google colab to load the quotation data we need"
   ]
  },
  {
   "cell_type": "code",
   "execution_count": 6,
   "id": "726a21e8",
   "metadata": {},
   "outputs": [
    {
     "name": "stdout",
     "output_type": "stream",
     "text": [
      "skipping\n"
     ]
    }
   ],
   "source": [
    "%%script echo skipping\n",
    "# Load each year's data, filtering out the quotations said by senates\n",
    "# We have considered the different writing styles of name. We extract the quote as long as the speaker has the same\n",
    "# first name and last name as a senate\n",
    "import bz2\n",
    "import json\n",
    "\n",
    "path_to_file = '/content/drive/MyDrive/Quotebank/quotes-{}.json.bz2' \n",
    "path_to_out = '/content/drive/MyDrive/MyQuoteBank/quotes-{}-senates-said.json.bz2'\n",
    "\n",
    "for year in range(2015, 2021):\n",
    "  print('... Start reading quotations in year ' + str(year))\n",
    "  with bz2.open(path_to_file.format(year), 'rb') as s_file:\n",
    "      with bz2.open(path_to_out.format(year), 'wb') as d_file:\n",
    "          for instance in s_file:\n",
    "              instance = json.loads(instance) # loading a sample\n",
    "              issenate = isSenate(instance['speaker'], senate_candidates_splitted)\n",
    "              if issenate[0]:\n",
    "                instance['speaker'] = senate_candidates[issenate[1]] # use name from the \"1976-2020-senate.csv\" as the standard name.\n",
    "                urls = instance['urls'] # extracting list of links\n",
    "                domains = []\n",
    "                for url in urls:\n",
    "                    tld = get_domain(url)\n",
    "                    domains.append(tld)\n",
    "                instance['domains'] = domains # updating the sample with domain name\n",
    "                d_file.write((json.dumps(instance)+'\\n').encode('utf-8')) # writing in the new file\n",
    "\n",
    "# Load each year's data, filtering out the quotations that mention senates\n",
    "path_to_file = '/content/drive/MyDrive/Quotebank/quotes-{}.json.bz2'\n",
    "path_to_out = '/content/drive/MyDrive/ADAQuoteBank/quotes-{}-senates-mention.json.bz2'\n",
    "\n",
    "senate_candidates = list(map(lambda x:x.title(), senate_candidates))\n",
    "\n",
    "for year in range(2016,2021):\n",
    "    print('... Start processing quotations in year {}'.format(year))\n",
    "    with bz2.open(path_to_file.format(year), 'rb') as s_file:\n",
    "        with bz2.open(path_to_out.format(year), 'wb') as d_file:\n",
    "            for instance in s_file:\n",
    "                instance = json.loads(instance)\n",
    "                is_senate = isSenate(instance['quotation'], senate_candidates_splitted)\n",
    "                if is_senate[0]:\n",
    "                    instance['mention']=senate_candidates[is_senate[1]]\n",
    "                    urls = instance['urls'] # extracting list of links\n",
    "                    domains = []\n",
    "                    for url in urls:\n",
    "                        tld = get_domain(url)\n",
    "                        domains.append(tld)\n",
    "                    instance['domains'] = domains # updating the sample with domain name\n",
    "                    d_file.write((json.dumps(instance)+'\\n').encode('utf-8'))\n",
    "    print('... End processing quotations in year {}'.format(year))"
   ]
  },
  {
   "cell_type": "markdown",
   "id": "dd2896a2",
   "metadata": {},
   "source": [
    "## 1. Process Senate Candidate Data\n",
    "**1.1** In this section, we load the information of senate candidates (since 2016) and their election information."
   ]
  },
  {
   "cell_type": "code",
   "execution_count": 7,
   "id": "847a9fb6",
   "metadata": {},
   "outputs": [],
   "source": [
    "# First, we get the election information of the candidates since 2016 (again, we drop NaN and repeated names)\n",
    "candidate_info = senate_election[senate_election['year'] >= 2016].dropna(subset=['candidate', 'party_detailed']).drop_duplicates(subset=['candidate'], ignore_index=True)"
   ]
  },
  {
   "cell_type": "code",
   "execution_count": 8,
   "id": "0de063d3",
   "metadata": {},
   "outputs": [],
   "source": [
    "# Load the stored quotations said by senate candidates since 2015 (by year)\n",
    "senate_quote_20 = pd.read_json('SenateData/quotes-2020-senates-said.json.bz2', lines=True, compression='bz2')\n",
    "senate_quote_19 = pd.read_json('SenateData/quotes-2019-senates-said.json.bz2', lines=True, compression='bz2')\n",
    "senate_quote_18 = pd.read_json('SenateData/quotes-2018-senates-said.json.bz2', lines=True, compression='bz2')\n",
    "senate_quote_17 = pd.read_json('SenateData/quotes-2017-senates-said.json.bz2', lines=True, compression='bz2')\n",
    "senate_quote_16 = pd.read_json('SenateData/quotes-2016-senates-said.json.bz2', lines=True, compression='bz2')\n",
    "senate_quote_15 = pd.read_json('SenateData/quotes-2015-senates-said.json.bz2', lines=True, compression='bz2')"
   ]
  },
  {
   "cell_type": "code",
   "execution_count": 9,
   "id": "7f2c2dc1",
   "metadata": {},
   "outputs": [
    {
     "data": {
      "text/html": [
       "<div>\n",
       "<style scoped>\n",
       "    .dataframe tbody tr th:only-of-type {\n",
       "        vertical-align: middle;\n",
       "    }\n",
       "\n",
       "    .dataframe tbody tr th {\n",
       "        vertical-align: top;\n",
       "    }\n",
       "\n",
       "    .dataframe thead th {\n",
       "        text-align: right;\n",
       "    }\n",
       "</style>\n",
       "<table border=\"1\" class=\"dataframe\">\n",
       "  <thead>\n",
       "    <tr style=\"text-align: right;\">\n",
       "      <th></th>\n",
       "      <th>index</th>\n",
       "      <th>quoteID</th>\n",
       "      <th>quotation</th>\n",
       "      <th>speaker</th>\n",
       "      <th>qids</th>\n",
       "      <th>date</th>\n",
       "      <th>numOccurrences</th>\n",
       "      <th>probas</th>\n",
       "      <th>urls</th>\n",
       "      <th>phase</th>\n",
       "      <th>domains</th>\n",
       "    </tr>\n",
       "  </thead>\n",
       "  <tbody>\n",
       "    <tr>\n",
       "      <th>346709</th>\n",
       "      <td>32311</td>\n",
       "      <td>2017-05-04-127469</td>\n",
       "      <td>These... programs are what pay for schools, ro...</td>\n",
       "      <td>PATTY MURRAY</td>\n",
       "      <td>[Q258825]</td>\n",
       "      <td>2017-05-04 03:00:00</td>\n",
       "      <td>1</td>\n",
       "      <td>[[Patty Murray, 0.4163], [None, 0.3747], [Mari...</td>\n",
       "      <td>[http://tdn.com/news/local/cantwell-herrera-be...</td>\n",
       "      <td>E</td>\n",
       "      <td>[com]</td>\n",
       "    </tr>\n",
       "    <tr>\n",
       "      <th>26221</th>\n",
       "      <td>26221</td>\n",
       "      <td>2015-03-10-043063</td>\n",
       "      <td>It is outrageous that any parent should be wor...</td>\n",
       "      <td>KIRSTEN E. GILLIBRAND</td>\n",
       "      <td>[Q22222]</td>\n",
       "      <td>2015-03-10 08:00:00</td>\n",
       "      <td>4</td>\n",
       "      <td>[[Kirsten Gillibrand, 0.5231], [None, 0.4534],...</td>\n",
       "      <td>[http://www.mcclatchydc.com/2015/03/10/259266/...</td>\n",
       "      <td>E</td>\n",
       "      <td>[com, com, com, com]</td>\n",
       "    </tr>\n",
       "    <tr>\n",
       "      <th>977694</th>\n",
       "      <td>169241</td>\n",
       "      <td>2019-12-02-100071</td>\n",
       "      <td>We've got our job cut out for us,</td>\n",
       "      <td>SHELLEY MOORE CAPITO</td>\n",
       "      <td>[Q459618, Q47506415]</td>\n",
       "      <td>2019-12-02 11:15:18</td>\n",
       "      <td>1</td>\n",
       "      <td>[[Shelley Moore Capito, 0.888], [None, 0.1109]...</td>\n",
       "      <td>[http://blogs.rollcall.com/news/congress-seeks...</td>\n",
       "      <td>E</td>\n",
       "      <td>[com]</td>\n",
       "    </tr>\n",
       "    <tr>\n",
       "      <th>504943</th>\n",
       "      <td>190545</td>\n",
       "      <td>2017-05-26-020408</td>\n",
       "      <td>Expanding opportunities for higher education a...</td>\n",
       "      <td>TAMMY DUCKWORTH</td>\n",
       "      <td>[Q3036410]</td>\n",
       "      <td>2017-05-26 22:00:40</td>\n",
       "      <td>2</td>\n",
       "      <td>[[Tammy Duckworth, 0.618], [None, 0.3821]]</td>\n",
       "      <td>[https://enewspf.com/2017/05/26/senator-duckwo...</td>\n",
       "      <td>E</td>\n",
       "      <td>[com, com]</td>\n",
       "    </tr>\n",
       "  </tbody>\n",
       "</table>\n",
       "</div>"
      ],
      "text/plain": [
       "         index            quoteID  \\\n",
       "346709   32311  2017-05-04-127469   \n",
       "26221    26221  2015-03-10-043063   \n",
       "977694  169241  2019-12-02-100071   \n",
       "504943  190545  2017-05-26-020408   \n",
       "\n",
       "                                                quotation  \\\n",
       "346709  These... programs are what pay for schools, ro...   \n",
       "26221   It is outrageous that any parent should be wor...   \n",
       "977694                  We've got our job cut out for us,   \n",
       "504943  Expanding opportunities for higher education a...   \n",
       "\n",
       "                      speaker                  qids                date  \\\n",
       "346709           PATTY MURRAY             [Q258825] 2017-05-04 03:00:00   \n",
       "26221   KIRSTEN E. GILLIBRAND              [Q22222] 2015-03-10 08:00:00   \n",
       "977694   SHELLEY MOORE CAPITO  [Q459618, Q47506415] 2019-12-02 11:15:18   \n",
       "504943        TAMMY DUCKWORTH            [Q3036410] 2017-05-26 22:00:40   \n",
       "\n",
       "        numOccurrences                                             probas  \\\n",
       "346709               1  [[Patty Murray, 0.4163], [None, 0.3747], [Mari...   \n",
       "26221                4  [[Kirsten Gillibrand, 0.5231], [None, 0.4534],...   \n",
       "977694               1  [[Shelley Moore Capito, 0.888], [None, 0.1109]...   \n",
       "504943               2         [[Tammy Duckworth, 0.618], [None, 0.3821]]   \n",
       "\n",
       "                                                     urls phase  \\\n",
       "346709  [http://tdn.com/news/local/cantwell-herrera-be...     E   \n",
       "26221   [http://www.mcclatchydc.com/2015/03/10/259266/...     E   \n",
       "977694  [http://blogs.rollcall.com/news/congress-seeks...     E   \n",
       "504943  [https://enewspf.com/2017/05/26/senator-duckwo...     E   \n",
       "\n",
       "                     domains  \n",
       "346709                 [com]  \n",
       "26221   [com, com, com, com]  \n",
       "977694                 [com]  \n",
       "504943            [com, com]  "
      ]
     },
     "execution_count": 9,
     "metadata": {},
     "output_type": "execute_result"
    }
   ],
   "source": [
    "# Concatenate data across all years and display the format of quotation data\n",
    "annual_frames = [senate_quote_15, senate_quote_16, senate_quote_17, senate_quote_18, senate_quote_19, senate_quote_20]\n",
    "candidate_quotes = pd.concat(annual_frames).reset_index()\n",
    "candidate_quotes.sample(4)"
   ]
  },
  {
   "cell_type": "markdown",
   "id": "70dbf5bb-9830-4468-afa7-1ddd49d68bf7",
   "metadata": {},
   "source": [
    "Since QuoteBank may extract different number of total quotes at different time. An increase in quotations may just be caused by an increase of quotes extracted by Quotebanks. So, we use the total quotation number in QuoteBank to normalize our data"
   ]
  },
  {
   "cell_type": "code",
   "execution_count": 10,
   "id": "0c4df216-ad23-431e-a309-e9c01d9c3abe",
   "metadata": {},
   "outputs": [
    {
     "data": {
      "text/plain": [
       "2015-01    1661137\n",
       "2015-02    1659518\n",
       "2015-03    1867911\n",
       "2015-04    1522315\n",
       "2015-05    1136152\n",
       "            ...   \n",
       "2019-12    1565321\n",
       "2020-01    1732238\n",
       "2020-02    1599019\n",
       "2020-03    1323347\n",
       "2020-04     589845\n",
       "Length: 64, dtype: int64"
      ]
     },
     "execution_count": 10,
     "metadata": {},
     "output_type": "execute_result"
    }
   ],
   "source": [
    "# read the quote number data for each month\n",
    "\n",
    "import csv\n",
    "with open('SenateData/quote_num.csv','r') as inFile:\n",
    "    reader = csv.DictReader(inFile)\n",
    "    for row in reader:\n",
    "        quote_num = dict(row)\n",
    "quote_num = pd.Series({k:int(v) for k, v in quote_num.items()})\n",
    "quote_num"
   ]
  },
  {
   "cell_type": "code",
   "execution_count": 11,
   "id": "72f415ba-2fb9-43fa-983b-ec41f38813cd",
   "metadata": {},
   "outputs": [
    {
     "data": {
      "text/html": [
       "<div>\n",
       "<style scoped>\n",
       "    .dataframe tbody tr th:only-of-type {\n",
       "        vertical-align: middle;\n",
       "    }\n",
       "\n",
       "    .dataframe tbody tr th {\n",
       "        vertical-align: top;\n",
       "    }\n",
       "\n",
       "    .dataframe thead th {\n",
       "        text-align: right;\n",
       "    }\n",
       "</style>\n",
       "<table border=\"1\" class=\"dataframe\">\n",
       "  <thead>\n",
       "    <tr style=\"text-align: right;\">\n",
       "      <th></th>\n",
       "      <th>index</th>\n",
       "      <th>quoteID</th>\n",
       "      <th>quotation</th>\n",
       "      <th>speaker</th>\n",
       "      <th>qids</th>\n",
       "      <th>date</th>\n",
       "      <th>numOccurrences</th>\n",
       "      <th>probas</th>\n",
       "      <th>urls</th>\n",
       "      <th>phase</th>\n",
       "      <th>domains</th>\n",
       "      <th>normalize_factor</th>\n",
       "      <th>normalize_quotes</th>\n",
       "    </tr>\n",
       "  </thead>\n",
       "  <tbody>\n",
       "    <tr>\n",
       "      <th>971384</th>\n",
       "      <td>162931</td>\n",
       "      <td>2019-11-06-006387</td>\n",
       "      <td>and the completion of these improvements will ...</td>\n",
       "      <td>JERRY MORAN</td>\n",
       "      <td>[Q1365787]</td>\n",
       "      <td>2019-11-06 21:51:45</td>\n",
       "      <td>1</td>\n",
       "      <td>[[Jerry Moran, 0.8736], [None, 0.1264]]</td>\n",
       "      <td>[https://www.kshb.com/news/local-news/federal-...</td>\n",
       "      <td>E</td>\n",
       "      <td>[com]</td>\n",
       "      <td>0.542426</td>\n",
       "      <td>0.542426</td>\n",
       "    </tr>\n",
       "    <tr>\n",
       "      <th>507244</th>\n",
       "      <td>192846</td>\n",
       "      <td>2017-11-18-079586</td>\n",
       "      <td>We were always trying to keep the characters l...</td>\n",
       "      <td>ROBERT G. FLANDERS, JR.</td>\n",
       "      <td>[Q165219]</td>\n",
       "      <td>2017-11-18 00:59:47</td>\n",
       "      <td>1</td>\n",
       "      <td>[[Robert Downey Jr. ., 0.6588], [None, 0.3412]]</td>\n",
       "      <td>[https://www.awn.com/vfxworld/hard-act-follow-...</td>\n",
       "      <td>E</td>\n",
       "      <td>[com]</td>\n",
       "      <td>0.380549</td>\n",
       "      <td>0.380549</td>\n",
       "    </tr>\n",
       "    <tr>\n",
       "      <th>95407</th>\n",
       "      <td>95407</td>\n",
       "      <td>2015-03-26-014888</td>\n",
       "      <td>Don't go out and have a beer before late-night...</td>\n",
       "      <td>JOHNNY ISAKSON</td>\n",
       "      <td>[Q130024]</td>\n",
       "      <td>2015-03-26 21:03:59</td>\n",
       "      <td>3</td>\n",
       "      <td>[[Johnny Isakson, 0.7105], [None, 0.1871], [Bi...</td>\n",
       "      <td>[http://www.cnn.com/2015/03/26/politics/senate...</td>\n",
       "      <td>E</td>\n",
       "      <td>[com, com, com]</td>\n",
       "      <td>0.535357</td>\n",
       "      <td>1.606072</td>\n",
       "    </tr>\n",
       "    <tr>\n",
       "      <th>929361</th>\n",
       "      <td>120908</td>\n",
       "      <td>2019-11-04-067562</td>\n",
       "      <td>purported independence is hopelessly compromised.</td>\n",
       "      <td>MIKE LEE</td>\n",
       "      <td>[Q21064126, Q30122331, Q55622025, Q627098, Q68...</td>\n",
       "      <td>2019-11-04 21:56:05</td>\n",
       "      <td>1</td>\n",
       "      <td>[[Mike Lee, 0.8498], [None, 0.1322], [William ...</td>\n",
       "      <td>[http://ksl.com/article/46667360/why-sen-mike-...</td>\n",
       "      <td>E</td>\n",
       "      <td>[com]</td>\n",
       "      <td>0.542426</td>\n",
       "      <td>0.542426</td>\n",
       "    </tr>\n",
       "  </tbody>\n",
       "</table>\n",
       "</div>"
      ],
      "text/plain": [
       "         index            quoteID  \\\n",
       "971384  162931  2019-11-06-006387   \n",
       "507244  192846  2017-11-18-079586   \n",
       "95407    95407  2015-03-26-014888   \n",
       "929361  120908  2019-11-04-067562   \n",
       "\n",
       "                                                quotation  \\\n",
       "971384  and the completion of these improvements will ...   \n",
       "507244  We were always trying to keep the characters l...   \n",
       "95407   Don't go out and have a beer before late-night...   \n",
       "929361  purported independence is hopelessly compromised.   \n",
       "\n",
       "                        speaker  \\\n",
       "971384              JERRY MORAN   \n",
       "507244  ROBERT G. FLANDERS, JR.   \n",
       "95407            JOHNNY ISAKSON   \n",
       "929361                 MIKE LEE   \n",
       "\n",
       "                                                     qids                date  \\\n",
       "971384                                         [Q1365787] 2019-11-06 21:51:45   \n",
       "507244                                          [Q165219] 2017-11-18 00:59:47   \n",
       "95407                                           [Q130024] 2015-03-26 21:03:59   \n",
       "929361  [Q21064126, Q30122331, Q55622025, Q627098, Q68... 2019-11-04 21:56:05   \n",
       "\n",
       "        numOccurrences                                             probas  \\\n",
       "971384               1            [[Jerry Moran, 0.8736], [None, 0.1264]]   \n",
       "507244               1    [[Robert Downey Jr. ., 0.6588], [None, 0.3412]]   \n",
       "95407                3  [[Johnny Isakson, 0.7105], [None, 0.1871], [Bi...   \n",
       "929361               1  [[Mike Lee, 0.8498], [None, 0.1322], [William ...   \n",
       "\n",
       "                                                     urls phase  \\\n",
       "971384  [https://www.kshb.com/news/local-news/federal-...     E   \n",
       "507244  [https://www.awn.com/vfxworld/hard-act-follow-...     E   \n",
       "95407   [http://www.cnn.com/2015/03/26/politics/senate...     E   \n",
       "929361  [http://ksl.com/article/46667360/why-sen-mike-...     E   \n",
       "\n",
       "                domains  normalize_factor  normalize_quotes  \n",
       "971384            [com]          0.542426          0.542426  \n",
       "507244            [com]          0.380549          0.380549  \n",
       "95407   [com, com, com]          0.535357          1.606072  \n",
       "929361            [com]          0.542426          0.542426  "
      ]
     },
     "execution_count": 11,
     "metadata": {},
     "output_type": "execute_result"
    }
   ],
   "source": [
    "# we use 10^6/total_quote_num as normalize factor\n",
    "\n",
    "candidate_quotes['normalize_factor'] = candidate_quotes['date'].map(lambda x: 1/quote_num[str(x)[:7]]*1e6)\n",
    "candidate_quotes['normalize_quotes'] = candidate_quotes['numOccurrences']*candidate_quotes['normalize_factor']\n",
    "candidate_quotes.sample(4)"
   ]
  },
  {
   "cell_type": "markdown",
   "id": "2c6a88cf",
   "metadata": {},
   "source": [
    "**1.2** We group the total number of quotations by speaker and dates. By doing so, we can visualize the change of quoted numbers as time goes on. Below, we take Bernie Sanders as an example."
   ]
  },
  {
   "cell_type": "code",
   "execution_count": 12,
   "id": "10f66fd3",
   "metadata": {},
   "outputs": [
    {
     "data": {
      "text/plain": [
       "speaker           date_only \n",
       "A. WAYNE JOHNSON  2015-01-06    0.601997\n",
       "                  2015-02-09    0.602585\n",
       "                  2015-02-11    1.205169\n",
       "                  2015-02-20    0.602585\n",
       "                  2015-03-01    0.535357\n",
       "                                  ...   \n",
       "ZAK RINGELSTEIN   2018-10-30    5.125275\n",
       "                  2018-11-01    2.381878\n",
       "                  2018-11-05    0.476376\n",
       "                  2018-11-07    0.476376\n",
       "                  2019-03-21    0.503878\n",
       "Name: normalize_quotes, Length: 136070, dtype: float64"
      ]
     },
     "execution_count": 12,
     "metadata": {},
     "output_type": "execute_result"
    }
   ],
   "source": [
    "# Clean the names by taking only upper case\n",
    "# Group the candidate total number of normalized quotes by day\n",
    "candidate_quotes['speaker'] = candidate_quotes['speaker'].str.upper()\n",
    "candidate_quotes['date_only'] = candidate_quotes['date'].dt.date\n",
    "candidate_quotes_byday = candidate_quotes.groupby(['speaker', 'date_only'])['normalize_quotes'].sum()\n",
    "candidate_quotes_byday"
   ]
  },
  {
   "cell_type": "code",
   "execution_count": 13,
   "id": "66baa32f",
   "metadata": {},
   "outputs": [
    {
     "data": {
      "text/plain": [
       "Text(0.5, 1.0, 'Bernie Sanders')"
      ]
     },
     "execution_count": 13,
     "metadata": {},
     "output_type": "execute_result"
    },
    {
     "data": {
      "image/png": "[encoded data removed]",
      "text/plain": [
       "<Figure size 432x288 with 1 Axes>"
      ]
     },
     "metadata": {
      "needs_background": "light"
     },
     "output_type": "display_data"
    }
   ],
   "source": [
    "# For example, we can visualize the quotation changes of Bernie Sanders\n",
    "candidate_quotes_byday['BERNIE SANDERS'].rolling(window=30).sum().plot() # one months average\n",
    "plt.xlabel('time')\n",
    "plt.xticks(rotation=90)\n",
    "plt.ylabel('Quoted numbers: Said')\n",
    "plt.title('Bernie Sanders')"
   ]
  },
  {
   "cell_type": "markdown",
   "id": "affd7213",
   "metadata": {},
   "source": [
    "**1.3** We compute the total number of quotations until their election. The election dataset only contains the year of election. However, since the U.S. Senate elections always take place in the first week of November, we just compute the total number of quotations until November.1st of the election year."
   ]
  },
  {
   "cell_type": "code",
   "execution_count": 14,
   "id": "5394320f",
   "metadata": {},
   "outputs": [],
   "source": [
    "# Add the election day corresponding to each candidate speaker\n",
    "candidate_info_byname = candidate_info.set_index(['candidate']) # Allow access info by name as index\n",
    "candidate_quotes['election_day'] = candidate_quotes['speaker'].map(candidate_info_byname['year']).astype(str)+ '-11-01'\n",
    "candidate_quotes['election_day'] = pd.to_datetime(candidate_quotes['election_day'])"
   ]
  },
  {
   "cell_type": "code",
   "execution_count": 15,
   "id": "1c0e2c40",
   "metadata": {},
   "outputs": [],
   "source": [
    "# Add election result (i.e. vote rate) for each candidate speaker\n",
    "candidate_info_byname['vote_rate'] = candidate_info_byname['candidatevotes']/candidate_info_byname['totalvotes']"
   ]
  },
  {
   "cell_type": "code",
   "execution_count": 16,
   "id": "4ab9dd4d",
   "metadata": {},
   "outputs": [],
   "source": [
    "# We group the number of quotations by election day\n",
    "quotes_byelection = candidate_quotes[candidate_quotes['date_only'] < candidate_quotes['election_day']]\n",
    "tot_quotes_byelection = pd.DataFrame(quotes_byelection.groupby(['speaker'])['normalize_quotes'].sum())\n",
    "tot_quotes_byelection.rename(columns = {'normalize_quotes': 'total_quotes_byelection'}, inplace=True)"
   ]
  },
  {
   "cell_type": "code",
   "execution_count": 17,
   "id": "dfe01a90",
   "metadata": {},
   "outputs": [
    {
     "name": "stdout",
     "output_type": "stream",
     "text": [
      "Pearson coefficient: 0.6112235983030401, p value: 3.506776291721692e-26\n"
     ]
    },
    {
     "data": {
      "image/png": "[encoded data removed]",
      "text/plain": [
       "<Figure size 432x288 with 1 Axes>"
      ]
     },
     "metadata": {
      "needs_background": "light"
     },
     "output_type": "display_data"
    }
   ],
   "source": [
    "# We add the vote rate and plot the scatter plot of vote rate against total quotes by election\n",
    "from scipy.stats import pearsonr\n",
    "tot_quotes_byelection['vote_rate'] = tot_quotes_byelection.index.map(candidate_info_byname['vote_rate'])\n",
    "quotes_vote = tot_quotes_byelection.plot.scatter(x = 'total_quotes_byelection', y = 'vote_rate', logx=True)\n",
    "(corr1, pvalue) = pearsonr(np.log(tot_quotes_byelection['total_quotes_byelection']), tot_quotes_byelection['vote_rate'])\n",
    "print(f'Pearson coefficient: {corr1}, p value: {pvalue}')"
   ]
  },
  {
   "cell_type": "markdown",
   "id": "77202c41",
   "metadata": {},
   "source": [
    "**Observation**: Based on the plot above, we can see that there is a positive correlation between quotations and vote_rate with p value < 0.05. The more a candidate was quoted before the election, the higher the voting rate he or she got."
   ]
  },
  {
   "cell_type": "markdown",
   "id": "c5755dbd",
   "metadata": {},
   "source": [
    "**1.4** We can also apply the analysis on quotations that mention senates."
   ]
  },
  {
   "cell_type": "code",
   "execution_count": 18,
   "id": "77227984",
   "metadata": {},
   "outputs": [],
   "source": [
    "# Load the stored quotations mention senate candidates since 2015 (by year)\n",
    "senate_quote_20_mention = pd.read_json('SenateData/quotes-2020-senates-mention.json.bz2', lines=True, compression='bz2')\n",
    "senate_quote_19_mention = pd.read_json('SenateData/quotes-2019-senates-mention.json.bz2', lines=True, compression='bz2')\n",
    "senate_quote_18_mention = pd.read_json('SenateData/quotes-2018-senates-mention.json.bz2', lines=True, compression='bz2')\n",
    "senate_quote_17_mention = pd.read_json('SenateData/quotes-2017-senates-mention.json.bz2', lines=True, compression='bz2')\n",
    "senate_quote_16_mention = pd.read_json('SenateData/quotes-2016-senates-mention.json.bz2', lines=True, compression='bz2')\n",
    "senate_quote_15_mention = pd.read_json('SenateData/quotes-2015-senates-mention.json.bz2', lines=True, compression='bz2')"
   ]
  },
  {
   "cell_type": "code",
   "execution_count": 19,
   "id": "98427f70",
   "metadata": {
    "scrolled": true
   },
   "outputs": [
    {
     "data": {
      "text/html": [
       "<div>\n",
       "<style scoped>\n",
       "    .dataframe tbody tr th:only-of-type {\n",
       "        vertical-align: middle;\n",
       "    }\n",
       "\n",
       "    .dataframe tbody tr th {\n",
       "        vertical-align: top;\n",
       "    }\n",
       "\n",
       "    .dataframe thead th {\n",
       "        text-align: right;\n",
       "    }\n",
       "</style>\n",
       "<table border=\"1\" class=\"dataframe\">\n",
       "  <thead>\n",
       "    <tr style=\"text-align: right;\">\n",
       "      <th></th>\n",
       "      <th>quoteID</th>\n",
       "      <th>quotation</th>\n",
       "      <th>speaker</th>\n",
       "      <th>qids</th>\n",
       "      <th>date</th>\n",
       "      <th>numOccurrences</th>\n",
       "      <th>probas</th>\n",
       "      <th>urls</th>\n",
       "      <th>phase</th>\n",
       "      <th>mention</th>\n",
       "      <th>domains</th>\n",
       "    </tr>\n",
       "  </thead>\n",
       "  <tbody>\n",
       "    <tr>\n",
       "      <th>4069</th>\n",
       "      <td>2015-04-10-017637</td>\n",
       "      <td>Gov. Rick Scott shifts again on Medicaid expan...</td>\n",
       "      <td>None</td>\n",
       "      <td>[]</td>\n",
       "      <td>2015-04-10 11:25:23</td>\n",
       "      <td>3</td>\n",
       "      <td>[[None, 0.5139], [Jeremy Wallace, 0.4065], [Go...</td>\n",
       "      <td>[http://www.politico.com/floridaplaybook/0415/...</td>\n",
       "      <td>E</td>\n",
       "      <td>Rick Scott</td>\n",
       "      <td>[com, com, com]</td>\n",
       "    </tr>\n",
       "    <tr>\n",
       "      <th>3257</th>\n",
       "      <td>2016-05-19-090488</td>\n",
       "      <td>Should he not be the nominee, when he comes ba...</td>\n",
       "      <td>Jeff Merkley</td>\n",
       "      <td>[Q1368405]</td>\n",
       "      <td>2016-05-19 21:09:20</td>\n",
       "      <td>25</td>\n",
       "      <td>[[Jeff Merkley, 0.7755], [None, 0.1891], [Bern...</td>\n",
       "      <td>[http://kgw.com/news/politics/sen-merkley-befo...</td>\n",
       "      <td>E</td>\n",
       "      <td>Bernie Sanders</td>\n",
       "      <td>[com, com, com, com, net, com, com, com, com, ...</td>\n",
       "    </tr>\n",
       "    <tr>\n",
       "      <th>7049</th>\n",
       "      <td>2017-11-02-167111</td>\n",
       "      <td>When Congress is trying to reform the tax code...</td>\n",
       "      <td>None</td>\n",
       "      <td>[]</td>\n",
       "      <td>2017-11-02 12:09:42</td>\n",
       "      <td>2</td>\n",
       "      <td>[[None, 0.9337], [Tammy Baldwin, 0.0423], [Pre...</td>\n",
       "      <td>[http://mysanantonio.com/news/article/The-Dail...</td>\n",
       "      <td>E</td>\n",
       "      <td>Tammy Baldwin</td>\n",
       "      <td>[com, com]</td>\n",
       "    </tr>\n",
       "    <tr>\n",
       "      <th>7799</th>\n",
       "      <td>2017-08-11-075484</td>\n",
       "      <td>It's two-fold because we grieve for Aaron ever...</td>\n",
       "      <td>Steven Myers</td>\n",
       "      <td>[Q3499252, Q7615076]</td>\n",
       "      <td>2017-08-11 02:03:58</td>\n",
       "      <td>1</td>\n",
       "      <td>[[Steven Myers, 0.8447], [None, 0.1553]]</td>\n",
       "      <td>[http://www2.wsls.com/news/virginia/roanoke/sa...</td>\n",
       "      <td>E</td>\n",
       "      <td>Aaron Day</td>\n",
       "      <td>[com]</td>\n",
       "    </tr>\n",
       "  </tbody>\n",
       "</table>\n",
       "</div>"
      ],
      "text/plain": [
       "                quoteID                                          quotation  \\\n",
       "4069  2015-04-10-017637  Gov. Rick Scott shifts again on Medicaid expan...   \n",
       "3257  2016-05-19-090488  Should he not be the nominee, when he comes ba...   \n",
       "7049  2017-11-02-167111  When Congress is trying to reform the tax code...   \n",
       "7799  2017-08-11-075484  It's two-fold because we grieve for Aaron ever...   \n",
       "\n",
       "           speaker                  qids                date  numOccurrences  \\\n",
       "4069          None                    [] 2015-04-10 11:25:23               3   \n",
       "3257  Jeff Merkley            [Q1368405] 2016-05-19 21:09:20              25   \n",
       "7049          None                    [] 2017-11-02 12:09:42               2   \n",
       "7799  Steven Myers  [Q3499252, Q7615076] 2017-08-11 02:03:58               1   \n",
       "\n",
       "                                                 probas  \\\n",
       "4069  [[None, 0.5139], [Jeremy Wallace, 0.4065], [Go...   \n",
       "3257  [[Jeff Merkley, 0.7755], [None, 0.1891], [Bern...   \n",
       "7049  [[None, 0.9337], [Tammy Baldwin, 0.0423], [Pre...   \n",
       "7799           [[Steven Myers, 0.8447], [None, 0.1553]]   \n",
       "\n",
       "                                                   urls phase         mention  \\\n",
       "4069  [http://www.politico.com/floridaplaybook/0415/...     E      Rick Scott   \n",
       "3257  [http://kgw.com/news/politics/sen-merkley-befo...     E  Bernie Sanders   \n",
       "7049  [http://mysanantonio.com/news/article/The-Dail...     E   Tammy Baldwin   \n",
       "7799  [http://www2.wsls.com/news/virginia/roanoke/sa...     E       Aaron Day   \n",
       "\n",
       "                                                domains  \n",
       "4069                                    [com, com, com]  \n",
       "3257  [com, com, com, com, net, com, com, com, com, ...  \n",
       "7049                                         [com, com]  \n",
       "7799                                              [com]  "
      ]
     },
     "execution_count": 19,
     "metadata": {},
     "output_type": "execute_result"
    }
   ],
   "source": [
    "# Concatenate data across all years and display the format of quotation data\n",
    "annual_frames_mention = [senate_quote_15_mention, senate_quote_16_mention, senate_quote_17_mention, senate_quote_18_mention, senate_quote_19_mention, senate_quote_20_mention]\n",
    "candidate_quotes_mention = pd.concat(annual_frames_mention)\n",
    "candidate_quotes_mention.sample(4)"
   ]
  },
  {
   "cell_type": "code",
   "execution_count": 20,
   "id": "f80a5cf4",
   "metadata": {},
   "outputs": [
    {
     "data": {
      "text/html": [
       "<div>\n",
       "<style scoped>\n",
       "    .dataframe tbody tr th:only-of-type {\n",
       "        vertical-align: middle;\n",
       "    }\n",
       "\n",
       "    .dataframe tbody tr th {\n",
       "        vertical-align: top;\n",
       "    }\n",
       "\n",
       "    .dataframe thead th {\n",
       "        text-align: right;\n",
       "    }\n",
       "</style>\n",
       "<table border=\"1\" class=\"dataframe\">\n",
       "  <thead>\n",
       "    <tr style=\"text-align: right;\">\n",
       "      <th></th>\n",
       "      <th>quoteID</th>\n",
       "      <th>quotation</th>\n",
       "      <th>speaker</th>\n",
       "      <th>qids</th>\n",
       "      <th>date</th>\n",
       "      <th>numOccurrences</th>\n",
       "      <th>probas</th>\n",
       "      <th>urls</th>\n",
       "      <th>phase</th>\n",
       "      <th>mention</th>\n",
       "      <th>domains</th>\n",
       "      <th>date_only</th>\n",
       "      <th>normalize_factor</th>\n",
       "      <th>normalize_quotes</th>\n",
       "    </tr>\n",
       "  </thead>\n",
       "  <tbody>\n",
       "    <tr>\n",
       "      <th>4259</th>\n",
       "      <td>2018-07-29-046856</td>\n",
       "      <td>The Yankees are all I've ever known, but I cou...</td>\n",
       "      <td>None</td>\n",
       "      <td>[]</td>\n",
       "      <td>2018-07-29 05:34:51</td>\n",
       "      <td>1</td>\n",
       "      <td>[[None, 0.6373], [Josh Rogers, 0.2094], [Dillo...</td>\n",
       "      <td>[http://www.milb.com/news/article.jsp?ymd=2018...</td>\n",
       "      <td>E</td>\n",
       "      <td>RON JOHNSON</td>\n",
       "      <td>[com]</td>\n",
       "      <td>2018-07-29</td>\n",
       "      <td>0.517383</td>\n",
       "      <td>0.517383</td>\n",
       "    </tr>\n",
       "    <tr>\n",
       "      <th>168</th>\n",
       "      <td>2015-10-29-037814</td>\n",
       "      <td>I can't think of a way Mitt Romney could possi...</td>\n",
       "      <td>None</td>\n",
       "      <td>[]</td>\n",
       "      <td>2015-10-29 21:51:12</td>\n",
       "      <td>6</td>\n",
       "      <td>[[None, 0.5352], [Lawrence O'Donnell, 0.4392],...</td>\n",
       "      <td>[http://thedenverchannel.com/newsy/why-its-a-g...</td>\n",
       "      <td>E</td>\n",
       "      <td>MITT ROMNEY</td>\n",
       "      <td>[com, com, com, com, com, com]</td>\n",
       "      <td>2015-10-29</td>\n",
       "      <td>0.416694</td>\n",
       "      <td>2.500166</td>\n",
       "    </tr>\n",
       "    <tr>\n",
       "      <th>8739</th>\n",
       "      <td>2019-03-03-005497</td>\n",
       "      <td>But his best known area of expertise was on pr...</td>\n",
       "      <td>Laurin L. Henry</td>\n",
       "      <td>[Q6501820]</td>\n",
       "      <td>2019-03-03 12:55:24</td>\n",
       "      <td>1</td>\n",
       "      <td>[[Laurin L. Henry, 0.7575], [None, 0.2425]]</td>\n",
       "      <td>[https://www.depauw.edu/news-media/latest-news...</td>\n",
       "      <td>E</td>\n",
       "      <td>JOHN KENNEDY</td>\n",
       "      <td>[edu]</td>\n",
       "      <td>2019-03-03</td>\n",
       "      <td>0.503878</td>\n",
       "      <td>0.503878</td>\n",
       "    </tr>\n",
       "    <tr>\n",
       "      <th>3374</th>\n",
       "      <td>2020-03-04-053695</td>\n",
       "      <td>Succumbing to overtures from national Democrat...</td>\n",
       "      <td>Nathan Brand</td>\n",
       "      <td>[Q18191218]</td>\n",
       "      <td>2020-03-04 21:43:31</td>\n",
       "      <td>5</td>\n",
       "      <td>[[Nathan Brand, 0.6424], [None, 0.2499], [Chuc...</td>\n",
       "      <td>[http://rss.cnn.com/~r/rss/cnn_allpolitics/~3/...</td>\n",
       "      <td>E</td>\n",
       "      <td>STEVE BULLOCK</td>\n",
       "      <td>[com, com, com, com, com]</td>\n",
       "      <td>2020-03-04</td>\n",
       "      <td>0.755660</td>\n",
       "      <td>3.778299</td>\n",
       "    </tr>\n",
       "    <tr>\n",
       "      <th>18201</th>\n",
       "      <td>2018-07-21-040666</td>\n",
       "      <td>The question is whether (Senate Majority Leade...</td>\n",
       "      <td>None</td>\n",
       "      <td>[]</td>\n",
       "      <td>2018-07-21 09:00:02</td>\n",
       "      <td>10</td>\n",
       "      <td>[[None, 0.8457], [Bill Nelson, 0.1315], [Doug ...</td>\n",
       "      <td>[http://wftv.com/news/national-news/congress-o...</td>\n",
       "      <td>E</td>\n",
       "      <td>BILL NELSON</td>\n",
       "      <td>[com, com, com, com, com, com, com, com, com, ...</td>\n",
       "      <td>2018-07-21</td>\n",
       "      <td>0.517383</td>\n",
       "      <td>5.173833</td>\n",
       "    </tr>\n",
       "  </tbody>\n",
       "</table>\n",
       "</div>"
      ],
      "text/plain": [
       "                 quoteID                                          quotation  \\\n",
       "4259   2018-07-29-046856  The Yankees are all I've ever known, but I cou...   \n",
       "168    2015-10-29-037814  I can't think of a way Mitt Romney could possi...   \n",
       "8739   2019-03-03-005497  But his best known area of expertise was on pr...   \n",
       "3374   2020-03-04-053695  Succumbing to overtures from national Democrat...   \n",
       "18201  2018-07-21-040666  The question is whether (Senate Majority Leade...   \n",
       "\n",
       "               speaker         qids                date  numOccurrences  \\\n",
       "4259              None           [] 2018-07-29 05:34:51               1   \n",
       "168               None           [] 2015-10-29 21:51:12               6   \n",
       "8739   Laurin L. Henry   [Q6501820] 2019-03-03 12:55:24               1   \n",
       "3374      Nathan Brand  [Q18191218] 2020-03-04 21:43:31               5   \n",
       "18201             None           [] 2018-07-21 09:00:02              10   \n",
       "\n",
       "                                                  probas  \\\n",
       "4259   [[None, 0.6373], [Josh Rogers, 0.2094], [Dillo...   \n",
       "168    [[None, 0.5352], [Lawrence O'Donnell, 0.4392],...   \n",
       "8739         [[Laurin L. Henry, 0.7575], [None, 0.2425]]   \n",
       "3374   [[Nathan Brand, 0.6424], [None, 0.2499], [Chuc...   \n",
       "18201  [[None, 0.8457], [Bill Nelson, 0.1315], [Doug ...   \n",
       "\n",
       "                                                    urls phase        mention  \\\n",
       "4259   [http://www.milb.com/news/article.jsp?ymd=2018...     E    RON JOHNSON   \n",
       "168    [http://thedenverchannel.com/newsy/why-its-a-g...     E    MITT ROMNEY   \n",
       "8739   [https://www.depauw.edu/news-media/latest-news...     E   JOHN KENNEDY   \n",
       "3374   [http://rss.cnn.com/~r/rss/cnn_allpolitics/~3/...     E  STEVE BULLOCK   \n",
       "18201  [http://wftv.com/news/national-news/congress-o...     E    BILL NELSON   \n",
       "\n",
       "                                                 domains   date_only  \\\n",
       "4259                                               [com]  2018-07-29   \n",
       "168                       [com, com, com, com, com, com]  2015-10-29   \n",
       "8739                                               [edu]  2019-03-03   \n",
       "3374                           [com, com, com, com, com]  2020-03-04   \n",
       "18201  [com, com, com, com, com, com, com, com, com, ...  2018-07-21   \n",
       "\n",
       "       normalize_factor  normalize_quotes  \n",
       "4259           0.517383          0.517383  \n",
       "168            0.416694          2.500166  \n",
       "8739           0.503878          0.503878  \n",
       "3374           0.755660          3.778299  \n",
       "18201          0.517383          5.173833  "
      ]
     },
     "execution_count": 20,
     "metadata": {},
     "output_type": "execute_result"
    }
   ],
   "source": [
    "# format the date\n",
    "candidate_quotes_mention['date_only'] = candidate_quotes_mention['date'].dt.date\n",
    "# change the name to upper format\n",
    "candidate_quotes_mention['mention'] = candidate_quotes_mention['mention'].str.upper()\n",
    "\n",
    "# Normalize the quotes\n",
    "candidate_quotes_mention['normalize_factor'] = candidate_quotes_mention['date'].map(lambda x: 1/quote_num[str(x)[:7]]*1e6)\n",
    "candidate_quotes_mention['normalize_quotes'] = candidate_quotes_mention['numOccurrences']*candidate_quotes_mention['normalize_factor']\n",
    "candidate_quotes_mention.sample(5)"
   ]
  },
  {
   "cell_type": "code",
   "execution_count": 21,
   "id": "5de83206",
   "metadata": {},
   "outputs": [
    {
     "data": {
      "text/plain": [
       "mention           date_only \n",
       "A. WAYNE JOHNSON  2015-01-16    0.601997\n",
       "                  2015-08-04    0.473512\n",
       "                  2015-12-11    0.955093\n",
       "                  2017-02-12    2.080072\n",
       "                  2017-05-28    0.401338\n",
       "                                  ...   \n",
       "WILLIE L. WILSON  2019-03-30    0.503878\n",
       "                  2019-07-16    0.668486\n",
       "                  2019-11-04    0.542426\n",
       "ZAK RINGELSTEIN   2018-06-22    0.482000\n",
       "                  2018-10-24    0.427106\n",
       "Name: normalize_quotes, Length: 34904, dtype: float64"
      ]
     },
     "execution_count": 21,
     "metadata": {},
     "output_type": "execute_result"
    }
   ],
   "source": [
    "# obtain normalized quotations by day\n",
    "candidate_quotes_mention_byday = candidate_quotes_mention.groupby(['mention', 'date_only'])['normalize_quotes'].sum()\n",
    "candidate_quotes_mention_byday"
   ]
  },
  {
   "cell_type": "code",
   "execution_count": 22,
   "id": "09bd3ad2",
   "metadata": {},
   "outputs": [
    {
     "data": {
      "text/plain": [
       "Text(0.5, 1.0, 'Bernie Sanders')"
      ]
     },
     "execution_count": 22,
     "metadata": {},
     "output_type": "execute_result"
    },
    {
     "data": {
      "image/png": "[encoded data removed]",
      "text/plain": [
       "<Figure size 432x288 with 1 Axes>"
      ]
     },
     "metadata": {
      "needs_background": "light"
     },
     "output_type": "display_data"
    }
   ],
   "source": [
    "# For example, we can visualize the quotation changes of Bernie Sanders\n",
    "candidate_quotes_mention_byday['BERNIE SANDERS'].rolling(window=30).sum().plot() # one months average\n",
    "plt.xlabel('time')\n",
    "plt.ylabel('Quoted numbers: Mention')\n",
    "plt.title('Bernie Sanders')"
   ]
  },
  {
   "cell_type": "code",
   "execution_count": 23,
   "id": "0c4ef323",
   "metadata": {},
   "outputs": [
    {
     "data": {
      "text/html": [
       "<div>\n",
       "<style scoped>\n",
       "    .dataframe tbody tr th:only-of-type {\n",
       "        vertical-align: middle;\n",
       "    }\n",
       "\n",
       "    .dataframe tbody tr th {\n",
       "        vertical-align: top;\n",
       "    }\n",
       "\n",
       "    .dataframe thead th {\n",
       "        text-align: right;\n",
       "    }\n",
       "</style>\n",
       "<table border=\"1\" class=\"dataframe\">\n",
       "  <thead>\n",
       "    <tr style=\"text-align: right;\">\n",
       "      <th></th>\n",
       "      <th>quoteID</th>\n",
       "      <th>quotation</th>\n",
       "      <th>speaker</th>\n",
       "      <th>qids</th>\n",
       "      <th>date</th>\n",
       "      <th>numOccurrences</th>\n",
       "      <th>probas</th>\n",
       "      <th>urls</th>\n",
       "      <th>phase</th>\n",
       "      <th>mention</th>\n",
       "      <th>domains</th>\n",
       "      <th>date_only</th>\n",
       "      <th>normalize_factor</th>\n",
       "      <th>normalize_quotes</th>\n",
       "      <th>election_day</th>\n",
       "    </tr>\n",
       "  </thead>\n",
       "  <tbody>\n",
       "    <tr>\n",
       "      <th>0</th>\n",
       "      <td>2015-05-17-016225</td>\n",
       "      <td>I really like Bernie Sanders and his policies ...</td>\n",
       "      <td>None</td>\n",
       "      <td>[]</td>\n",
       "      <td>2015-05-17 07:09:22</td>\n",
       "      <td>1</td>\n",
       "      <td>[[None, 0.81], [Bernie Sanders, 0.19]]</td>\n",
       "      <td>[http://dailykos.com/story/2015/05/15/1384917/...</td>\n",
       "      <td>E</td>\n",
       "      <td>BERNIE SANDERS</td>\n",
       "      <td>[com]</td>\n",
       "      <td>2015-05-17</td>\n",
       "      <td>0.880164</td>\n",
       "      <td>0.880164</td>\n",
       "      <td>2018-11-01</td>\n",
       "    </tr>\n",
       "    <tr>\n",
       "      <th>1</th>\n",
       "      <td>2015-08-25-018582</td>\n",
       "      <td>Elizabeth Warren does have a thumb on the puls...</td>\n",
       "      <td>Bakari Sellers</td>\n",
       "      <td>[Q4849014]</td>\n",
       "      <td>2015-08-25 10:02:35</td>\n",
       "      <td>4</td>\n",
       "      <td>[[Bakari Sellers, 0.8813], [None, 0.1075], [El...</td>\n",
       "      <td>[http://www.kspr.com/news/politics/does-elizab...</td>\n",
       "      <td>E</td>\n",
       "      <td>ELIZABETH A. WARREN</td>\n",
       "      <td>[com, com, com, com]</td>\n",
       "      <td>2015-08-25</td>\n",
       "      <td>0.473512</td>\n",
       "      <td>1.894046</td>\n",
       "      <td>2018-11-01</td>\n",
       "    </tr>\n",
       "    <tr>\n",
       "      <th>2</th>\n",
       "      <td>2015-03-11-040221</td>\n",
       "      <td>I'll invoke the marital privilege on some of i...</td>\n",
       "      <td>Mike Coffman</td>\n",
       "      <td>[Q547218]</td>\n",
       "      <td>2015-03-11 17:09:31</td>\n",
       "      <td>1</td>\n",
       "      <td>[[Mike Coffman, 0.4786], [None, 0.3104], [Tom ...</td>\n",
       "      <td>[http://www.huffingtonpost.com/jason-salzman/r...</td>\n",
       "      <td>E</td>\n",
       "      <td>CORY GARDNER</td>\n",
       "      <td>[com]</td>\n",
       "      <td>2015-03-11</td>\n",
       "      <td>0.535357</td>\n",
       "      <td>0.535357</td>\n",
       "      <td>2020-11-01</td>\n",
       "    </tr>\n",
       "    <tr>\n",
       "      <th>3</th>\n",
       "      <td>2015-09-24-081451</td>\n",
       "      <td>Richard Burr truly is North Carolina's `Invisi...</td>\n",
       "      <td>None</td>\n",
       "      <td>[]</td>\n",
       "      <td>2015-09-24 02:04:45</td>\n",
       "      <td>1</td>\n",
       "      <td>[[None, 0.7571], [Richard Burr, 0.182], [Paul ...</td>\n",
       "      <td>[http://www.wcti12.com/news/Ross-leaves-job-po...</td>\n",
       "      <td>E</td>\n",
       "      <td>RICHARD BURR</td>\n",
       "      <td>[com]</td>\n",
       "      <td>2015-09-24</td>\n",
       "      <td>0.447555</td>\n",
       "      <td>0.447555</td>\n",
       "      <td>2016-11-01</td>\n",
       "    </tr>\n",
       "  </tbody>\n",
       "</table>\n",
       "</div>"
      ],
      "text/plain": [
       "             quoteID                                          quotation  \\\n",
       "0  2015-05-17-016225  I really like Bernie Sanders and his policies ...   \n",
       "1  2015-08-25-018582  Elizabeth Warren does have a thumb on the puls...   \n",
       "2  2015-03-11-040221  I'll invoke the marital privilege on some of i...   \n",
       "3  2015-09-24-081451  Richard Burr truly is North Carolina's `Invisi...   \n",
       "\n",
       "          speaker        qids                date  numOccurrences  \\\n",
       "0            None          [] 2015-05-17 07:09:22               1   \n",
       "1  Bakari Sellers  [Q4849014] 2015-08-25 10:02:35               4   \n",
       "2    Mike Coffman   [Q547218] 2015-03-11 17:09:31               1   \n",
       "3            None          [] 2015-09-24 02:04:45               1   \n",
       "\n",
       "                                              probas  \\\n",
       "0             [[None, 0.81], [Bernie Sanders, 0.19]]   \n",
       "1  [[Bakari Sellers, 0.8813], [None, 0.1075], [El...   \n",
       "2  [[Mike Coffman, 0.4786], [None, 0.3104], [Tom ...   \n",
       "3  [[None, 0.7571], [Richard Burr, 0.182], [Paul ...   \n",
       "\n",
       "                                                urls phase  \\\n",
       "0  [http://dailykos.com/story/2015/05/15/1384917/...     E   \n",
       "1  [http://www.kspr.com/news/politics/does-elizab...     E   \n",
       "2  [http://www.huffingtonpost.com/jason-salzman/r...     E   \n",
       "3  [http://www.wcti12.com/news/Ross-leaves-job-po...     E   \n",
       "\n",
       "               mention               domains   date_only  normalize_factor  \\\n",
       "0       BERNIE SANDERS                 [com]  2015-05-17          0.880164   \n",
       "1  ELIZABETH A. WARREN  [com, com, com, com]  2015-08-25          0.473512   \n",
       "2         CORY GARDNER                 [com]  2015-03-11          0.535357   \n",
       "3         RICHARD BURR                 [com]  2015-09-24          0.447555   \n",
       "\n",
       "   normalize_quotes election_day  \n",
       "0          0.880164   2018-11-01  \n",
       "1          1.894046   2018-11-01  \n",
       "2          0.535357   2020-11-01  \n",
       "3          0.447555   2016-11-01  "
      ]
     },
     "execution_count": 23,
     "metadata": {},
     "output_type": "execute_result"
    }
   ],
   "source": [
    "# Add the election day corresponding to each candidate mentioned\n",
    "candidate_info_byname = candidate_info.set_index(['candidate']) # Allow access info by name as index\n",
    "candidate_quotes_mention['mention']=candidate_quotes_mention.mention.map(lambda x:x.upper())\n",
    "candidate_quotes_mention['election_day'] = candidate_quotes_mention['mention'].map(candidate_info_byname['year']).astype(str)+ '-11-01'\n",
    "candidate_quotes_mention['election_day'] = pd.to_datetime(candidate_quotes_mention['election_day'])\n",
    "candidate_quotes_mention.head(4)"
   ]
  },
  {
   "cell_type": "code",
   "execution_count": 24,
   "id": "d1ba356c",
   "metadata": {},
   "outputs": [
    {
     "name": "stdout",
     "output_type": "stream",
     "text": [
      "Pearson coefficient: 0.5320764453359699, p value: 1.1343252830666171e-22\n"
     ]
    },
    {
     "data": {
      "image/png": "[encoded data removed]",
      "text/plain": [
       "<Figure size 432x288 with 1 Axes>"
      ]
     },
     "metadata": {
      "needs_background": "light"
     },
     "output_type": "display_data"
    }
   ],
   "source": [
    "from scipy.stats import pearsonr\n",
    "\n",
    "# Add election result (i.e. vote rate) for each candidate speaker\n",
    "candidate_info_byname['vote_rate'] = candidate_info_byname['candidatevotes']/candidate_info_byname['totalvotes']\n",
    "\n",
    "# We group the number of normalized quotations before election day\n",
    "quotes_byelection = candidate_quotes_mention[candidate_quotes_mention['date_only'] < candidate_quotes_mention['election_day']]\n",
    "tot_quotes_byelection = pd.DataFrame(quotes_byelection.groupby(['mention'])['normalize_quotes'].sum())\n",
    "tot_quotes_byelection.rename(columns = {'normalize_quotes': 'total_quotes_byelection'}, inplace=True)\n",
    "\n",
    "# We add the vote rate and plot the scatter plot of vote rate against total quotes by election\n",
    "tot_quotes_byelection['vote_rate'] = tot_quotes_byelection.index.map(candidate_info_byname['vote_rate'])\n",
    "\n",
    "# linear regression\n",
    "quotes_vote = tot_quotes_byelection.plot.scatter(x = 'total_quotes_byelection', y = 'vote_rate', logx=True)\n",
    "(corr1, pvalue) = pearsonr(np.log(tot_quotes_byelection['total_quotes_byelection']), tot_quotes_byelection['vote_rate'])\n",
    "print(f'Pearson coefficient: {corr1}, p value: {pvalue}')"
   ]
  },
  {
   "cell_type": "markdown",
   "id": "d10ca665-aab8-4eb6-a3b8-5b32ba2dc165",
   "metadata": {},
   "source": [
    "**Observation**: Based on the plot above, we can see that there is also a positive correlation between number of mentioned quotations and vote_rate with p value < 0.05."
   ]
  },
  {
   "cell_type": "markdown",
   "id": "465f405e",
   "metadata": {},
   "source": [
    "## 2. Weigh the quotations by readership\n",
    "We are aware of the different reading statistics of different media. We try to weigh the quotations by the readership of the source media."
   ]
  },
  {
   "cell_type": "markdown",
   "id": "78072790",
   "metadata": {},
   "source": [
    "**2.1** First, we sample 50k quotes and look at the source media of those quotations. This would give us a feel of how much media is covered by QuoteBank and which media appear most often. To balance the data said by candidates and the data mentioning candidates, we sample the 50k quotes according to the ratio of total data in 'candidate_quotes' and 'candidate_quotes_mention'"
   ]
  },
  {
   "cell_type": "code",
   "execution_count": 25,
   "id": "d885f7be",
   "metadata": {},
   "outputs": [
    {
     "name": "stdout",
     "output_type": "stream",
     "text": [
      "we sample 46123 quotes said by candidates and 3877 quotes mentioning candidates\n"
     ]
    }
   ],
   "source": [
    "# sample 50k quotes and see where quotes are published\n",
    "candidate_quotes_mention.reset_index(inplace=True) # Reset index of mention dataset\n",
    "sample_n = 50000\n",
    "said_n = len(candidate_quotes.index) # total number of quotes said by candidates\n",
    "mention_n = len(candidate_quotes_mention.index) # total number of quotes mentioning candidates\n",
    "mention_sample_n = int(sample_n * mention_n/(mention_n + said_n))\n",
    "said_sample_n = sample_n - mention_sample_n\n",
    "print('we sample {} quotes said by candidates and {} quotes mentioning candidates'.format(said_sample_n, mention_sample_n))"
   ]
  },
  {
   "cell_type": "code",
   "execution_count": 26,
   "id": "27cb8060",
   "metadata": {},
   "outputs": [],
   "source": [
    "# We extract the domains from two data set based on the ratio computed above\n",
    "total_domains = []\n",
    "said_sample = candidate_quotes.sample(said_sample_n) # sample from quotes said by candidates\n",
    "# We extract web domains from the url\n",
    "for i in said_sample.index:\n",
    "    urls = said_sample.at[i,'urls']\n",
    "    for url in urls: # Some URL here is actually a list (there are lists in list), not sure why it happens\n",
    "        total_domains.append(get_tld(url, as_object=True).domain)\n",
    "\n",
    "mention_sample = candidate_quotes.sample(mention_sample_n) # sample from quotes said by candidates\n",
    "# We use the same pipeline to extract domain\n",
    "for i in mention_sample.index:\n",
    "    urls = mention_sample.at[i,'urls']\n",
    "    for url in urls: # Some URL here is actually a list (there are lists in list), not sure why it happens\n",
    "        total_domains.append(get_tld(url, as_object=True).domain)"
   ]
  },
  {
   "cell_type": "markdown",
   "id": "9d14268e",
   "metadata": {},
   "source": [
    "We use the code below to find top 30 frequently appearing media in the sample. (Note: the last several media may be different from sample to sample, but overall they do not affect the result!)"
   ]
  },
  {
   "cell_type": "code",
   "execution_count": 27,
   "id": "e5460c99",
   "metadata": {},
   "outputs": [
    {
     "name": "stdout",
     "output_type": "stream",
     "text": [
      "----top 30 news agency/publisher:\n",
      "  [('krmg', 6194), ('news965', 3091), ('msn', 3087), ('wokv', 2748), ('breitbart', 2569), ('thehill', 2388), ('businessinsider', 2201), ('washingtonexaminer', 2147), ('cnn', 2078), ('yahoo', 2067), ('washingtontimes', 2051), ('cbsnews', 1988), ('einnews', 1986), ('wsbradio', 1942), ('foxnews', 1671), ('sfgate', 1490), ('newsmax', 1455), ('washingtonpost', 1434), ('politico', 1426), ('huffingtonpost', 1327), ('nbcnews', 1280), ('nytimes', 1259), ('kdhnews', 1046), ('news12', 959), ('abc-7', 907), ('startribune', 853), ('rollcall', 804), ('wftv', 802), ('ktvz', 799), ('upi', 798)]\n",
      "----number of news agency covered: 5077\n"
     ]
    }
   ],
   "source": [
    "# Count the frequency of media occurences in quotation dataset\n",
    "from collections import Counter\n",
    "domain_count = Counter(total_domains).most_common()\n",
    "print(\"----top 30 news agency/publisher:\\n \", domain_count[0:30])\n",
    "print('----number of news agency covered:', len(domain_count))\n"
   ]
  },
  {
   "cell_type": "markdown",
   "id": "02273b19",
   "metadata": {},
   "source": [
    "Among 50k samples, there are over 4000 different website domains, indicating a sufficiently wide coverage of media. So the quotations can be an indicator of public exposure. Besides, we observe an exponential decrease of counts in the database."
   ]
  },
  {
   "cell_type": "code",
   "execution_count": 28,
   "id": "f56d72aa",
   "metadata": {},
   "outputs": [
    {
     "data": {
      "text/plain": [
       "Text(0.5, 0, 'occurences in sampled quote data')"
      ]
     },
     "execution_count": 28,
     "metadata": {},
     "output_type": "execute_result"
    },
    {
     "data": {
      "image/png": "[encoded data removed]",
      "text/plain": [
       "<Figure size 432x288 with 1 Axes>"
      ]
     },
     "metadata": {
      "needs_background": "light"
     },
     "output_type": "display_data"
    }
   ],
   "source": [
    "# Plot the histogram characterizing the frequency of each media appearing\n",
    "_, y_counts = zip(*domain_count)\n",
    "plt.hist(y_counts, bins=20)\n",
    "plt.yscale('log')\n",
    "plt.ylabel('number of media')\n",
    "plt.xlabel('occurences in sampled quote data')"
   ]
  },
  {
   "cell_type": "markdown",
   "id": "348f4862",
   "metadata": {},
   "source": [
    "**Do Not Re run the cell below! In case sample changes**\n",
    "\n",
    "10 randomly selected news agency/publisher except the top 30:\n",
    "\n",
    "  ['bakersfield','wtkr', 'go', 'navytimes', 'advertiser-tribune', 'circleofblue', 'nbcphiladelphia', 'malaymail', 'illawarramercury', 'hawaiinewsnow']\n",
    "  \n",
    "The code to get the 10 random media is shown below, we comment it out because each time it selects 10 different media, which may confuse the viewer of this notebook."
   ]
  },
  {
   "cell_type": "code",
   "execution_count": 29,
   "id": "b473f8d5",
   "metadata": {},
   "outputs": [
    {
     "name": "stdout",
     "output_type": "stream",
     "text": [
      "skipping\n"
     ]
    }
   ],
   "source": [
    "%%script echo skipping\n",
    "#media_ind = np.random.randint(31, len(domain_count), size=10)\n",
    "#print(\"10 randomly selected news agency/publisher except the top 30:\\n \", [domain_count[i] for i in media_ind])"
   ]
  },
  {
   "cell_type": "markdown",
   "id": "182839a2",
   "metadata": {},
   "source": [
    "The distribution is heavy-tailed, with only a few big media like CNN and Fox News occurring frequently. Most media occurs no more than 1.5% among all quotations. So, we think it is sufficient to just weigh the quotations extracted from those frequently occurring media. Moreover, it is very difficult to automatically find media's reading statistics (or other indicators of popularity) just based on the url major domain name. We could not think of a way to do so. Neither could we find an open dataset helping us. Therefore, we decide to manually look up the readership of those top 30 new agencies. For the rest media, we will sample 10 media from them and manually look up the reading statistics. We will take the average readership of those 10 media to represent the readership of the rest media. This will take up some time, so we plan to finish those manual work in the following weeks (see proposed timeline). As a result, we do not include any exposure level (quotation weighted by media readership) in Milestone 2. Instead, we just use the number of quotations (assuming all media offer the same public exposure)."
   ]
  },
  {
   "cell_type": "markdown",
   "id": "2b201045",
   "metadata": {},
   "source": [
    "**2.2** We manually search the total website visits of top 30 news agencies of the 10 randomly selected agencies among the rest. We could not find the data of some websites, so we use the median of others to fill it."
   ]
  },
  {
   "cell_type": "code",
   "execution_count": 30,
   "id": "3ae3c340",
   "metadata": {},
   "outputs": [
    {
     "data": {
      "text/html": [
       "<div>\n",
       "<style scoped>\n",
       "    .dataframe tbody tr th:only-of-type {\n",
       "        vertical-align: middle;\n",
       "    }\n",
       "\n",
       "    .dataframe tbody tr th {\n",
       "        vertical-align: top;\n",
       "    }\n",
       "\n",
       "    .dataframe thead th {\n",
       "        text-align: right;\n",
       "    }\n",
       "</style>\n",
       "<table border=\"1\" class=\"dataframe\">\n",
       "  <thead>\n",
       "    <tr style=\"text-align: right;\">\n",
       "      <th></th>\n",
       "      <th>webdomain</th>\n",
       "      <th>media</th>\n",
       "      <th>total_view_in_US</th>\n",
       "    </tr>\n",
       "  </thead>\n",
       "  <tbody>\n",
       "    <tr>\n",
       "      <th>0</th>\n",
       "      <td>KRMG</td>\n",
       "      <td>KRMG</td>\n",
       "      <td>0.11</td>\n",
       "    </tr>\n",
       "    <tr>\n",
       "      <th>1</th>\n",
       "      <td>news965</td>\n",
       "      <td>WBDO</td>\n",
       "      <td>21.68</td>\n",
       "    </tr>\n",
       "    <tr>\n",
       "      <th>2</th>\n",
       "      <td>wokv</td>\n",
       "      <td>WOKV</td>\n",
       "      <td>0.09</td>\n",
       "    </tr>\n",
       "    <tr>\n",
       "      <th>3</th>\n",
       "      <td>msn</td>\n",
       "      <td>MSN</td>\n",
       "      <td>323.98</td>\n",
       "    </tr>\n",
       "    <tr>\n",
       "      <th>4</th>\n",
       "      <td>breitbart</td>\n",
       "      <td>Breitbart</td>\n",
       "      <td>42.19</td>\n",
       "    </tr>\n",
       "  </tbody>\n",
       "</table>\n",
       "</div>"
      ],
      "text/plain": [
       "   webdomain      media  total_view_in_US\n",
       "0       KRMG       KRMG              0.11\n",
       "1    news965       WBDO             21.68\n",
       "2       wokv       WOKV              0.09\n",
       "3        msn        MSN            323.98\n",
       "4  breitbart  Breitbart             42.19"
      ]
     },
     "execution_count": 30,
     "metadata": {},
     "output_type": "execute_result"
    }
   ],
   "source": [
    "weight_file = 'SenateData/WebsiteVisit.csv'\n",
    "weight_df = pd.read_csv(weight_file)\n",
    "# Fill the NaN value by median (which avoid effect from outliers)\n",
    "weight_df.loc[:, ['total_view_in_US']] = weight_df[['total_view_in_US']].fillna(weight_df[['total_view_in_US']].median())\n",
    "weight_df.head(5) # demonstrate the format website view data for weight\n"
   ]
  },
  {
   "cell_type": "code",
   "execution_count": 31,
   "id": "d4c3453a",
   "metadata": {},
   "outputs": [
    {
     "name": "stdout",
     "output_type": "stream",
     "text": [
      "The median value of total views of the 10 agencies is 0.675\n"
     ]
    }
   ],
   "source": [
    "# Get the views for the 10 randomly selected agencies\n",
    "random_file = 'SenateData/RandomVisit.csv'\n",
    "random_df = pd.read_csv(random_file)\n",
    "# We take the median of total_US_view of the 10 agencies, as view for other agencies\n",
    "random_view = random_df['total_view_in_US'].median()\n",
    "print('The median value of total views of the 10 agencies is {}'.format(random_view))"
   ]
  },
  {
   "cell_type": "markdown",
   "id": "d6c7eb73",
   "metadata": {},
   "source": [
    "Then, we add those weights to the 'candidate_quotes' and 'candidate_quotes_mention'"
   ]
  },
  {
   "cell_type": "code",
   "execution_count": 32,
   "id": "5b63449c",
   "metadata": {},
   "outputs": [
    {
     "name": "stdout",
     "output_type": "stream",
     "text": [
      "For quotes said by candidates, we found 1042718 numbers of quotation occurrences from top 30\n"
     ]
    }
   ],
   "source": [
    "# assign weights to quotes said by candidates\n",
    "weight_dict = dict(zip(weight_df['webdomain'], weight_df['total_view_in_US']))\n",
    "n_hit = 0\n",
    "for i in candidate_quotes.index:\n",
    "    urls = candidate_quotes.at[i,'urls']\n",
    "    weight_ = 0\n",
    "    for url in urls: # Some URL here is actually a list (there are lists in list), not sure why it happens\n",
    "        webdomain = get_tld(url, as_object=True).domain # when it is a list, the multiply urls point to the same website\n",
    "        if webdomain in weight_dict.keys():\n",
    "            weight_ = weight_ + weight_dict[webdomain]\n",
    "            n_hit = n_hit + 1\n",
    "        else:\n",
    "            weight_ = weight_ + random_view\n",
    "    candidate_quotes.at[i,'views'] = weight_ \n",
    "print('For quotes said by candidates, we found {} numbers of quotation occurrences from top 30'.format(n_hit))"
   ]
  },
  {
   "cell_type": "code",
   "execution_count": 33,
   "id": "16027420",
   "metadata": {},
   "outputs": [
    {
     "data": {
      "text/html": [
       "<div>\n",
       "<style scoped>\n",
       "    .dataframe tbody tr th:only-of-type {\n",
       "        vertical-align: middle;\n",
       "    }\n",
       "\n",
       "    .dataframe tbody tr th {\n",
       "        vertical-align: top;\n",
       "    }\n",
       "\n",
       "    .dataframe thead th {\n",
       "        text-align: right;\n",
       "    }\n",
       "</style>\n",
       "<table border=\"1\" class=\"dataframe\">\n",
       "  <thead>\n",
       "    <tr style=\"text-align: right;\">\n",
       "      <th></th>\n",
       "      <th>index</th>\n",
       "      <th>quoteID</th>\n",
       "      <th>quotation</th>\n",
       "      <th>speaker</th>\n",
       "      <th>qids</th>\n",
       "      <th>date</th>\n",
       "      <th>numOccurrences</th>\n",
       "      <th>probas</th>\n",
       "      <th>urls</th>\n",
       "      <th>phase</th>\n",
       "      <th>domains</th>\n",
       "      <th>normalize_factor</th>\n",
       "      <th>normalize_quotes</th>\n",
       "      <th>date_only</th>\n",
       "      <th>election_day</th>\n",
       "      <th>views</th>\n",
       "      <th>normalize_views</th>\n",
       "    </tr>\n",
       "  </thead>\n",
       "  <tbody>\n",
       "    <tr>\n",
       "      <th>347830</th>\n",
       "      <td>33432</td>\n",
       "      <td>2017-09-20-060786</td>\n",
       "      <td>If he uses nuclear weapons against us or our a...</td>\n",
       "      <td>RICHARD C. SHELBY</td>\n",
       "      <td>[Q472254]</td>\n",
       "      <td>2017-09-20 19:05:26</td>\n",
       "      <td>1</td>\n",
       "      <td>[[Richard Shelby, 0.9039], [None, 0.0841], [Pr...</td>\n",
       "      <td>[http://kimatv.com/news/connect-to-congress/du...</td>\n",
       "      <td>E</td>\n",
       "      <td>[com]</td>\n",
       "      <td>0.370432</td>\n",
       "      <td>0.370432</td>\n",
       "      <td>2017-09-20</td>\n",
       "      <td>2016-11-01</td>\n",
       "      <td>0.675</td>\n",
       "      <td>0.250042</td>\n",
       "    </tr>\n",
       "    <tr>\n",
       "      <th>873445</th>\n",
       "      <td>64992</td>\n",
       "      <td>2019-05-20-091785</td>\n",
       "      <td>This is a way of beginning to build a new coal...</td>\n",
       "      <td>MICHAEL F. BENNET</td>\n",
       "      <td>[Q554792]</td>\n",
       "      <td>2019-05-20 14:57:46</td>\n",
       "      <td>12</td>\n",
       "      <td>[[Michael Bennet, 0.6082], [None, 0.3293], [Pr...</td>\n",
       "      <td>[http://cnn.com/2019/05/20/politics/michael-be...</td>\n",
       "      <td>E</td>\n",
       "      <td>[com, com, com, com, com, com, com]</td>\n",
       "      <td>0.488273</td>\n",
       "      <td>5.859278</td>\n",
       "      <td>2019-05-20</td>\n",
       "      <td>2016-11-01</td>\n",
       "      <td>788.575</td>\n",
       "      <td>385.039994</td>\n",
       "    </tr>\n",
       "    <tr>\n",
       "      <th>119674</th>\n",
       "      <td>119674</td>\n",
       "      <td>2015-05-06-058192</td>\n",
       "      <td>We're living in an on-demand delivery world,</td>\n",
       "      <td>RON JOHNSON</td>\n",
       "      <td>[Q1741083, Q19879325, Q20639273, Q21229090, Q2...</td>\n",
       "      <td>2015-05-06 09:00:47</td>\n",
       "      <td>3</td>\n",
       "      <td>[[Ron Johnson, 0.8012], [None, 0.1988]]</td>\n",
       "      <td>[http://blogs.wsj.com/digits/2015/05/06/former...</td>\n",
       "      <td>E</td>\n",
       "      <td>[com, com, com]</td>\n",
       "      <td>0.880164</td>\n",
       "      <td>2.640492</td>\n",
       "      <td>2015-05-06</td>\n",
       "      <td>2016-11-01</td>\n",
       "      <td>2.025</td>\n",
       "      <td>1.782332</td>\n",
       "    </tr>\n",
       "    <tr>\n",
       "      <th>820553</th>\n",
       "      <td>12100</td>\n",
       "      <td>2019-07-22-028624</td>\n",
       "      <td>in research and innovation in the heartland of...</td>\n",
       "      <td>JOSH HAWLEY</td>\n",
       "      <td>[Q23020745]</td>\n",
       "      <td>2019-07-22 12:00:22</td>\n",
       "      <td>1</td>\n",
       "      <td>[[Josh Hawley, 0.783], [None, 0.217]]</td>\n",
       "      <td>[https://thinkprogress.org/a-u-s-senator-just-...</td>\n",
       "      <td>E</td>\n",
       "      <td>[org]</td>\n",
       "      <td>0.668486</td>\n",
       "      <td>0.668486</td>\n",
       "      <td>2019-07-22</td>\n",
       "      <td>2018-11-01</td>\n",
       "      <td>0.675</td>\n",
       "      <td>0.451228</td>\n",
       "    </tr>\n",
       "    <tr>\n",
       "      <th>292350</th>\n",
       "      <td>100766</td>\n",
       "      <td>2016-02-18-081504</td>\n",
       "      <td>more tax breaks to billionaires,</td>\n",
       "      <td>BERNIE SANDERS</td>\n",
       "      <td>[Q359442]</td>\n",
       "      <td>2016-02-18 17:44:20</td>\n",
       "      <td>2</td>\n",
       "      <td>[[Bernie Sanders, 0.4572], [None, 0.3429], [Hi...</td>\n",
       "      <td>[http://burlingtonfreepress.com/story/news/pol...</td>\n",
       "      <td>E</td>\n",
       "      <td>[com, com]</td>\n",
       "      <td>0.959534</td>\n",
       "      <td>1.919067</td>\n",
       "      <td>2016-02-18</td>\n",
       "      <td>2018-11-01</td>\n",
       "      <td>1.350</td>\n",
       "      <td>1.295370</td>\n",
       "    </tr>\n",
       "  </tbody>\n",
       "</table>\n",
       "</div>"
      ],
      "text/plain": [
       "         index            quoteID  \\\n",
       "347830   33432  2017-09-20-060786   \n",
       "873445   64992  2019-05-20-091785   \n",
       "119674  119674  2015-05-06-058192   \n",
       "820553   12100  2019-07-22-028624   \n",
       "292350  100766  2016-02-18-081504   \n",
       "\n",
       "                                                quotation            speaker  \\\n",
       "347830  If he uses nuclear weapons against us or our a...  RICHARD C. SHELBY   \n",
       "873445  This is a way of beginning to build a new coal...  MICHAEL F. BENNET   \n",
       "119674       We're living in an on-demand delivery world,        RON JOHNSON   \n",
       "820553  in research and innovation in the heartland of...        JOSH HAWLEY   \n",
       "292350                   more tax breaks to billionaires,     BERNIE SANDERS   \n",
       "\n",
       "                                                     qids                date  \\\n",
       "347830                                          [Q472254] 2017-09-20 19:05:26   \n",
       "873445                                          [Q554792] 2019-05-20 14:57:46   \n",
       "119674  [Q1741083, Q19879325, Q20639273, Q21229090, Q2... 2015-05-06 09:00:47   \n",
       "820553                                        [Q23020745] 2019-07-22 12:00:22   \n",
       "292350                                          [Q359442] 2016-02-18 17:44:20   \n",
       "\n",
       "        numOccurrences                                             probas  \\\n",
       "347830               1  [[Richard Shelby, 0.9039], [None, 0.0841], [Pr...   \n",
       "873445              12  [[Michael Bennet, 0.6082], [None, 0.3293], [Pr...   \n",
       "119674               3            [[Ron Johnson, 0.8012], [None, 0.1988]]   \n",
       "820553               1              [[Josh Hawley, 0.783], [None, 0.217]]   \n",
       "292350               2  [[Bernie Sanders, 0.4572], [None, 0.3429], [Hi...   \n",
       "\n",
       "                                                     urls phase  \\\n",
       "347830  [http://kimatv.com/news/connect-to-congress/du...     E   \n",
       "873445  [http://cnn.com/2019/05/20/politics/michael-be...     E   \n",
       "119674  [http://blogs.wsj.com/digits/2015/05/06/former...     E   \n",
       "820553  [https://thinkprogress.org/a-u-s-senator-just-...     E   \n",
       "292350  [http://burlingtonfreepress.com/story/news/pol...     E   \n",
       "\n",
       "                                    domains  normalize_factor  \\\n",
       "347830                                [com]          0.370432   \n",
       "873445  [com, com, com, com, com, com, com]          0.488273   \n",
       "119674                      [com, com, com]          0.880164   \n",
       "820553                                [org]          0.668486   \n",
       "292350                           [com, com]          0.959534   \n",
       "\n",
       "        normalize_quotes   date_only election_day    views  normalize_views  \n",
       "347830          0.370432  2017-09-20   2016-11-01    0.675         0.250042  \n",
       "873445          5.859278  2019-05-20   2016-11-01  788.575       385.039994  \n",
       "119674          2.640492  2015-05-06   2016-11-01    2.025         1.782332  \n",
       "820553          0.668486  2019-07-22   2018-11-01    0.675         0.451228  \n",
       "292350          1.919067  2016-02-18   2018-11-01    1.350         1.295370  "
      ]
     },
     "execution_count": 33,
     "metadata": {},
     "output_type": "execute_result"
    }
   ],
   "source": [
    "# Multiply views by normalization factors\n",
    "candidate_quotes['normalize_views'] = candidate_quotes['views']*candidate_quotes['normalize_factor']\n",
    "candidate_quotes.sample(5)"
   ]
  },
  {
   "cell_type": "code",
   "execution_count": 34,
   "id": "c40427e3",
   "metadata": {},
   "outputs": [
    {
     "name": "stdout",
     "output_type": "stream",
     "text": [
      "For quotes mentioning candidates, we found 63187 numbers of quotation occurrences from top 30\n"
     ]
    }
   ],
   "source": [
    "# assign weights to quotes mentioning candidates\n",
    "n_hit = 0\n",
    "for i in candidate_quotes_mention.index:\n",
    "    urls = candidate_quotes_mention.at[i,'urls']\n",
    "    weight_ = 0\n",
    "    for url in urls: # Some URL here is actually a list (there are lists in list), not sure why it happens\n",
    "        webdomain = get_tld(url, as_object=True).domain # when it is a list, the multiply urls point to the same website\n",
    "        if webdomain in weight_dict.keys():\n",
    "            weight_ = weight_ + weight_dict[webdomain]\n",
    "            n_hit = n_hit + 1\n",
    "        else:\n",
    "            weight_ = weight_ + random_view\n",
    "    candidate_quotes_mention.at[i,'views'] = weight_ \n",
    "print('For quotes mentioning candidates, we found {} numbers of quotation occurrences from top 30'.format(n_hit))"
   ]
  },
  {
   "cell_type": "code",
   "execution_count": 35,
   "id": "157f9716",
   "metadata": {},
   "outputs": [
    {
     "data": {
      "text/html": [
       "<div>\n",
       "<style scoped>\n",
       "    .dataframe tbody tr th:only-of-type {\n",
       "        vertical-align: middle;\n",
       "    }\n",
       "\n",
       "    .dataframe tbody tr th {\n",
       "        vertical-align: top;\n",
       "    }\n",
       "\n",
       "    .dataframe thead th {\n",
       "        text-align: right;\n",
       "    }\n",
       "</style>\n",
       "<table border=\"1\" class=\"dataframe\">\n",
       "  <thead>\n",
       "    <tr style=\"text-align: right;\">\n",
       "      <th></th>\n",
       "      <th>index</th>\n",
       "      <th>quoteID</th>\n",
       "      <th>quotation</th>\n",
       "      <th>speaker</th>\n",
       "      <th>qids</th>\n",
       "      <th>date</th>\n",
       "      <th>numOccurrences</th>\n",
       "      <th>probas</th>\n",
       "      <th>urls</th>\n",
       "      <th>phase</th>\n",
       "      <th>mention</th>\n",
       "      <th>domains</th>\n",
       "      <th>date_only</th>\n",
       "      <th>normalize_factor</th>\n",
       "      <th>normalize_quotes</th>\n",
       "      <th>election_day</th>\n",
       "      <th>views</th>\n",
       "      <th>normalize_views</th>\n",
       "    </tr>\n",
       "  </thead>\n",
       "  <tbody>\n",
       "    <tr>\n",
       "      <th>51684</th>\n",
       "      <td>3680</td>\n",
       "      <td>2018-06-11-041037</td>\n",
       "      <td>If you've watched over time I think what you'v...</td>\n",
       "      <td>Howard Paul</td>\n",
       "      <td>[Q5920581]</td>\n",
       "      <td>2018-06-11 22:50:56</td>\n",
       "      <td>1</td>\n",
       "      <td>[[Howard Paul, 0.7407], [None, 0.2158], [Linds...</td>\n",
       "      <td>[http://thehill.com/homenews/senate/391726-ran...</td>\n",
       "      <td>E</td>\n",
       "      <td>LINDSEY GRAHAM</td>\n",
       "      <td>[com]</td>\n",
       "      <td>2018-06-11</td>\n",
       "      <td>0.482000</td>\n",
       "      <td>0.482000</td>\n",
       "      <td>2020-11-01</td>\n",
       "      <td>42.070</td>\n",
       "      <td>20.277728</td>\n",
       "    </tr>\n",
       "    <tr>\n",
       "      <th>91783</th>\n",
       "      <td>5798</td>\n",
       "      <td>2020-02-29-013888</td>\n",
       "      <td>I mean, the fact that Bernie Sanders is leadin...</td>\n",
       "      <td>David Harris</td>\n",
       "      <td>[Q1174678, Q16209429, Q16729662, Q18391693, Q2...</td>\n",
       "      <td>2020-02-29 22:45:50</td>\n",
       "      <td>1</td>\n",
       "      <td>[[David Harris, 0.6985], [None, 0.3015]]</td>\n",
       "      <td>[http://www.breitbart.com/politics/2020/02/29/...</td>\n",
       "      <td>E</td>\n",
       "      <td>BERNIE SANDERS</td>\n",
       "      <td>[com]</td>\n",
       "      <td>2020-02-29</td>\n",
       "      <td>0.625383</td>\n",
       "      <td>0.625383</td>\n",
       "      <td>2018-11-01</td>\n",
       "      <td>42.190</td>\n",
       "      <td>26.384927</td>\n",
       "    </tr>\n",
       "    <tr>\n",
       "      <th>17647</th>\n",
       "      <td>1350</td>\n",
       "      <td>2016-04-21-037270</td>\n",
       "      <td>I disagree with Ted Cruz on many issues tactic...</td>\n",
       "      <td>Lindsey Graham</td>\n",
       "      <td>[Q22212]</td>\n",
       "      <td>2016-04-21 13:01:22</td>\n",
       "      <td>1</td>\n",
       "      <td>[[Lindsey Graham, 0.7497], [None, 0.2338], [Jo...</td>\n",
       "      <td>[http://www.newsmax.com/Politics/lindsey-graha...</td>\n",
       "      <td>E</td>\n",
       "      <td>TED CRUZ</td>\n",
       "      <td>[com]</td>\n",
       "      <td>2016-04-21</td>\n",
       "      <td>0.939819</td>\n",
       "      <td>0.939819</td>\n",
       "      <td>2018-11-01</td>\n",
       "      <td>26.930</td>\n",
       "      <td>25.309318</td>\n",
       "    </tr>\n",
       "    <tr>\n",
       "      <th>8663</th>\n",
       "      <td>8663</td>\n",
       "      <td>2015-01-09-001741</td>\n",
       "      <td>Aaron shows up every day so well prepared and ...</td>\n",
       "      <td>Aaron Stanford</td>\n",
       "      <td>[Q302786]</td>\n",
       "      <td>2015-01-09 20:45:00</td>\n",
       "      <td>1</td>\n",
       "      <td>[[Aaron Stanford, 0.5521], [Amanda Schull, 0.2...</td>\n",
       "      <td>[http://www.fashionnstyle.com/articles/39906/2...</td>\n",
       "      <td>E</td>\n",
       "      <td>AARON DAY</td>\n",
       "      <td>[com]</td>\n",
       "      <td>2015-01-09</td>\n",
       "      <td>0.601997</td>\n",
       "      <td>0.601997</td>\n",
       "      <td>2016-11-01</td>\n",
       "      <td>0.675</td>\n",
       "      <td>0.406348</td>\n",
       "    </tr>\n",
       "    <tr>\n",
       "      <th>45701</th>\n",
       "      <td>13391</td>\n",
       "      <td>2017-12-08-063256</td>\n",
       "      <td>Is this hire more like Chip Kelly or Mark Helf...</td>\n",
       "      <td>Mario Cristobal</td>\n",
       "      <td>[Q6764626]</td>\n",
       "      <td>2017-12-08 16:54:48</td>\n",
       "      <td>1</td>\n",
       "      <td>[[Mario Cristobal, 0.4743], [None, 0.4731], [C...</td>\n",
       "      <td>[http://www.oregonlive.com/sports/oregonian/jo...</td>\n",
       "      <td>E</td>\n",
       "      <td>MARK KELLY</td>\n",
       "      <td>[com]</td>\n",
       "      <td>2017-12-08</td>\n",
       "      <td>0.440932</td>\n",
       "      <td>0.440932</td>\n",
       "      <td>2020-11-01</td>\n",
       "      <td>0.675</td>\n",
       "      <td>0.297629</td>\n",
       "    </tr>\n",
       "  </tbody>\n",
       "</table>\n",
       "</div>"
      ],
      "text/plain": [
       "       index            quoteID  \\\n",
       "51684   3680  2018-06-11-041037   \n",
       "91783   5798  2020-02-29-013888   \n",
       "17647   1350  2016-04-21-037270   \n",
       "8663    8663  2015-01-09-001741   \n",
       "45701  13391  2017-12-08-063256   \n",
       "\n",
       "                                               quotation          speaker  \\\n",
       "51684  If you've watched over time I think what you'v...      Howard Paul   \n",
       "91783  I mean, the fact that Bernie Sanders is leadin...     David Harris   \n",
       "17647  I disagree with Ted Cruz on many issues tactic...   Lindsey Graham   \n",
       "8663   Aaron shows up every day so well prepared and ...   Aaron Stanford   \n",
       "45701  Is this hire more like Chip Kelly or Mark Helf...  Mario Cristobal   \n",
       "\n",
       "                                                    qids                date  \\\n",
       "51684                                         [Q5920581] 2018-06-11 22:50:56   \n",
       "91783  [Q1174678, Q16209429, Q16729662, Q18391693, Q2... 2020-02-29 22:45:50   \n",
       "17647                                           [Q22212] 2016-04-21 13:01:22   \n",
       "8663                                           [Q302786] 2015-01-09 20:45:00   \n",
       "45701                                         [Q6764626] 2017-12-08 16:54:48   \n",
       "\n",
       "       numOccurrences                                             probas  \\\n",
       "51684               1  [[Howard Paul, 0.7407], [None, 0.2158], [Linds...   \n",
       "91783               1           [[David Harris, 0.6985], [None, 0.3015]]   \n",
       "17647               1  [[Lindsey Graham, 0.7497], [None, 0.2338], [Jo...   \n",
       "8663                1  [[Aaron Stanford, 0.5521], [Amanda Schull, 0.2...   \n",
       "45701               1  [[Mario Cristobal, 0.4743], [None, 0.4731], [C...   \n",
       "\n",
       "                                                    urls phase  \\\n",
       "51684  [http://thehill.com/homenews/senate/391726-ran...     E   \n",
       "91783  [http://www.breitbart.com/politics/2020/02/29/...     E   \n",
       "17647  [http://www.newsmax.com/Politics/lindsey-graha...     E   \n",
       "8663   [http://www.fashionnstyle.com/articles/39906/2...     E   \n",
       "45701  [http://www.oregonlive.com/sports/oregonian/jo...     E   \n",
       "\n",
       "              mention domains   date_only  normalize_factor  normalize_quotes  \\\n",
       "51684  LINDSEY GRAHAM   [com]  2018-06-11          0.482000          0.482000   \n",
       "91783  BERNIE SANDERS   [com]  2020-02-29          0.625383          0.625383   \n",
       "17647        TED CRUZ   [com]  2016-04-21          0.939819          0.939819   \n",
       "8663        AARON DAY   [com]  2015-01-09          0.601997          0.601997   \n",
       "45701      MARK KELLY   [com]  2017-12-08          0.440932          0.440932   \n",
       "\n",
       "      election_day   views  normalize_views  \n",
       "51684   2020-11-01  42.070        20.277728  \n",
       "91783   2018-11-01  42.190        26.384927  \n",
       "17647   2018-11-01  26.930        25.309318  \n",
       "8663    2016-11-01   0.675         0.406348  \n",
       "45701   2020-11-01   0.675         0.297629  "
      ]
     },
     "execution_count": 35,
     "metadata": {},
     "output_type": "execute_result"
    }
   ],
   "source": [
    "# Multiply views by normalization factors\n",
    "candidate_quotes_mention['normalize_views'] = candidate_quotes_mention['views']*candidate_quotes_mention['normalize_factor']\n",
    "candidate_quotes_mention.sample(5)"
   ]
  },
  {
   "cell_type": "markdown",
   "id": "b51e738a",
   "metadata": {},
   "source": [
    "**2.3** We repeat the protocol in section **1.2-1.3** to examine the effect of weighted quotations by candidates on their election results "
   ]
  },
  {
   "cell_type": "code",
   "execution_count": 36,
   "id": "56a35498",
   "metadata": {},
   "outputs": [
    {
     "data": {
      "text/plain": [
       "speaker           date_only \n",
       "A. WAYNE JOHNSON  2015-01-06    0.406348\n",
       "                  2015-02-09    0.406745\n",
       "                  2015-02-11    0.813489\n",
       "                  2015-02-20    0.406745\n",
       "                  2015-03-01    0.361366\n",
       "                                  ...   \n",
       "ZAK RINGELSTEIN   2018-10-30    3.459560\n",
       "                  2018-11-01    1.607768\n",
       "                  2018-11-05    0.321554\n",
       "                  2018-11-07    0.321554\n",
       "                  2019-03-21    0.340118\n",
       "Name: normalize_views, Length: 136070, dtype: float64"
      ]
     },
     "execution_count": 36,
     "metadata": {},
     "output_type": "execute_result"
    }
   ],
   "source": [
    "# Clean the names by taking only upper case\n",
    "# Group the candidate total number of quotes by day\n",
    "candidate_quotes['speaker'] = candidate_quotes['speaker'].str.upper()\n",
    "candidate_quotes['date_only'] = candidate_quotes['date'].dt.date\n",
    "candidate_views_byday = candidate_quotes.groupby(['speaker', 'date_only'])['normalize_views'].sum()\n",
    "candidate_views_byday"
   ]
  },
  {
   "cell_type": "code",
   "execution_count": 37,
   "id": "2c48ef66",
   "metadata": {
    "scrolled": true
   },
   "outputs": [
    {
     "data": {
      "text/plain": [
       "Text(0.5, 1.0, 'Bernie Sanders')"
      ]
     },
     "execution_count": 37,
     "metadata": {},
     "output_type": "execute_result"
    },
    {
     "data": {
      "image/png": "[encoded data removed]",
      "text/plain": [
       "<Figure size 432x288 with 1 Axes>"
      ]
     },
     "metadata": {
      "needs_background": "light"
     },
     "output_type": "display_data"
    }
   ],
   "source": [
    "# For example, we can visualize the quotation changes of Bernie Sanders\n",
    "candidate_quotes_byday['BERNIE SANDERS'].rolling(window=30).sum().plot() # one months average\n",
    "plt.xlabel('time')\n",
    "plt.xticks(rotation=90)\n",
    "plt.ylabel('Weight Quotes: Said')\n",
    "plt.title('Bernie Sanders')"
   ]
  },
  {
   "cell_type": "code",
   "execution_count": 38,
   "id": "bddc3da3",
   "metadata": {},
   "outputs": [],
   "source": [
    "# We group weighted quotations (audience views) by election day\n",
    "quotes_byelection = candidate_quotes[candidate_quotes['date_only'] < candidate_quotes['election_day']]\n",
    "views_byelection = pd.DataFrame(quotes_byelection.groupby(['speaker'])['normalize_views'].sum())\n",
    "views_byelection.rename(columns = {'normalize_views': 'views_byelection'}, inplace=True)"
   ]
  },
  {
   "cell_type": "code",
   "execution_count": 39,
   "id": "6dd92364",
   "metadata": {},
   "outputs": [
    {
     "name": "stdout",
     "output_type": "stream",
     "text": [
      "Pearson coefficient: 0.6234484341423221, p value: 1.842289412562091e-27\n"
     ]
    },
    {
     "data": {
      "image/png": "[encoded data removed]",
      "text/plain": [
       "<Figure size 432x288 with 1 Axes>"
      ]
     },
     "metadata": {
      "needs_background": "light"
     },
     "output_type": "display_data"
    }
   ],
   "source": [
    "# We add the vote rate and plot the scatter plot of vote rate against total quotes by election\n",
    "from scipy.stats import pearsonr\n",
    "views_byelection['vote_rate'] = views_byelection.index.map(candidate_info_byname['vote_rate'])\n",
    "views_vote = views_byelection.plot.scatter(x = 'views_byelection', y = 'vote_rate', logx=True)\n",
    "(corr1, pvalue) = pearsonr(np.log(views_byelection['views_byelection']), views_byelection['vote_rate'])\n",
    "print(f'Pearson coefficient: {corr1}, p value: {pvalue}')"
   ]
  },
  {
   "cell_type": "markdown",
   "id": "d9ec06fe",
   "metadata": {},
   "source": [
    "\n",
    "We notice very little change in the Pearson coefficient and p-value when comparing the result to section **1.3** (where we did not weigh the quotes by website views). "
   ]
  },
  {
   "cell_type": "markdown",
   "id": "97b34976",
   "metadata": {},
   "source": [
    "**2.4** We repeat the protocol in section **1.4** to examine the effect of weighted quotations mentioning candidates on their election results"
   ]
  },
  {
   "cell_type": "code",
   "execution_count": 40,
   "id": "5f05e086",
   "metadata": {},
   "outputs": [
    {
     "data": {
      "text/plain": [
       "mention           date_only \n",
       "A. WAYNE JOHNSON  2015-01-16      0.406348\n",
       "                  2015-08-04    153.408265\n",
       "                  2015-12-11      0.644688\n",
       "                  2017-02-12      1.404049\n",
       "                  2017-05-28      0.270903\n",
       "                                   ...    \n",
       "WILLIE L. WILSON  2019-03-30      0.340118\n",
       "                  2019-07-16     28.203418\n",
       "                  2019-11-04     11.759805\n",
       "ZAK RINGELSTEIN   2018-06-22      0.325350\n",
       "                  2018-10-24      0.288297\n",
       "Name: normalize_views, Length: 34904, dtype: float64"
      ]
     },
     "execution_count": 40,
     "metadata": {},
     "output_type": "execute_result"
    }
   ],
   "source": [
    "# obtain normalized views by day\n",
    "candidate_quotes_mention_byday = candidate_quotes_mention.groupby(['mention', 'date_only'])['normalize_views'].sum()\n",
    "candidate_quotes_mention_byday"
   ]
  },
  {
   "cell_type": "code",
   "execution_count": 41,
   "id": "6d00d21d",
   "metadata": {},
   "outputs": [
    {
     "data": {
      "text/plain": [
       "Text(0.5, 1.0, 'Bernie Sanders')"
      ]
     },
     "execution_count": 41,
     "metadata": {},
     "output_type": "execute_result"
    },
    {
     "data": {
      "image/png": "[encoded data removed]",
      "text/plain": [
       "<Figure size 432x288 with 1 Axes>"
      ]
     },
     "metadata": {
      "needs_background": "light"
     },
     "output_type": "display_data"
    }
   ],
   "source": [
    "# For example, we can visualize the normalized view changes of Bernie Sanders\n",
    "candidate_quotes_mention_byday['BERNIE SANDERS'].rolling(window=30).sum().plot() # one months average\n",
    "plt.xlabel('time')\n",
    "plt.ylabel('Quoted numbers: Mention')\n",
    "plt.title('Bernie Sanders')"
   ]
  },
  {
   "cell_type": "code",
   "execution_count": 42,
   "id": "ad1f1e0e",
   "metadata": {},
   "outputs": [
    {
     "name": "stdout",
     "output_type": "stream",
     "text": [
      "Pearson coefficient: 0.5944534670274672, p value: 3.416648866161606e-29\n"
     ]
    },
    {
     "data": {
      "image/png": "[encoded data removed]",
      "text/plain": [
       "<Figure size 432x288 with 1 Axes>"
      ]
     },
     "metadata": {
      "needs_background": "light"
     },
     "output_type": "display_data"
    }
   ],
   "source": [
    "from scipy.stats import pearsonr\n",
    "\n",
    "# We group the number of normalized views before election day\n",
    "quotes_byelection = candidate_quotes_mention[candidate_quotes_mention['date_only'] < candidate_quotes_mention['election_day']]\n",
    "tot_quotes_byelection = pd.DataFrame(quotes_byelection.groupby(['mention'])['normalize_views'].sum())\n",
    "tot_quotes_byelection.rename(columns = {'normalize_views': 'total_views_byelection'}, inplace=True)\n",
    "\n",
    "# We add the vote rate and plot the scatter plot of vote rate against total quotes by election\n",
    "tot_quotes_byelection['vote_rate'] = tot_quotes_byelection.index.map(candidate_info_byname['vote_rate'])\n",
    "\n",
    "# linear regression\n",
    "quotes_vote = tot_quotes_byelection.plot.scatter(x = 'total_views_byelection', y = 'vote_rate', logx=True)\n",
    "(corr1, pvalue) = pearsonr(np.log(tot_quotes_byelection['total_views_byelection']), tot_quotes_byelection['vote_rate'])\n",
    "print(f'Pearson coefficient: {corr1}, p value: {pvalue}')"
   ]
  },
  {
   "cell_type": "markdown",
   "id": "b82a3c76",
   "metadata": {},
   "source": [
    "Again, we notice very little change in the Pearson coefficient and p-value when comparing the result to section **1.4** (where we did not weigh the quotes by website views). "
   ]
  },
  {
   "cell_type": "markdown",
   "id": "3427df77",
   "metadata": {},
   "source": [
    "# 3. Clustering the quotation data\n",
    "To answer our proposed question 3, we clustered the quotation data to find different exposure-gaining process."
   ]
  },
  {
   "cell_type": "markdown",
   "id": "9bab413f",
   "metadata": {},
   "source": [
    "**3.1** For each senate candidate, we first aggregate daily quotations within 300 days before election."
   ]
  },
  {
   "cell_type": "code",
   "execution_count": 43,
   "id": "1a055bfc",
   "metadata": {},
   "outputs": [
    {
     "data": {
      "text/html": [
       "<div>\n",
       "<style scoped>\n",
       "    .dataframe tbody tr th:only-of-type {\n",
       "        vertical-align: middle;\n",
       "    }\n",
       "\n",
       "    .dataframe tbody tr th {\n",
       "        vertical-align: top;\n",
       "    }\n",
       "\n",
       "    .dataframe thead th {\n",
       "        text-align: right;\n",
       "    }\n",
       "</style>\n",
       "<table border=\"1\" class=\"dataframe\">\n",
       "  <thead>\n",
       "    <tr style=\"text-align: right;\">\n",
       "      <th></th>\n",
       "      <th>index</th>\n",
       "      <th>quoteID</th>\n",
       "      <th>quotation</th>\n",
       "      <th>speaker</th>\n",
       "      <th>qids</th>\n",
       "      <th>date</th>\n",
       "      <th>numOccurrences</th>\n",
       "      <th>probas</th>\n",
       "      <th>urls</th>\n",
       "      <th>phase</th>\n",
       "      <th>domains</th>\n",
       "      <th>normalize_factor</th>\n",
       "      <th>normalize_quotes</th>\n",
       "      <th>date_only</th>\n",
       "      <th>election_day</th>\n",
       "      <th>views</th>\n",
       "      <th>normalize_views</th>\n",
       "      <th>days_before_election</th>\n",
       "    </tr>\n",
       "  </thead>\n",
       "  <tbody>\n",
       "    <tr>\n",
       "      <th>346276</th>\n",
       "      <td>31878</td>\n",
       "      <td>2017-11-13-129911</td>\n",
       "      <td>We have to find a way to restore trust and con...</td>\n",
       "      <td>TIM SCOTT</td>\n",
       "      <td>[Q12068555, Q3528687, Q41449449, Q55188449, Q5...</td>\n",
       "      <td>2017-11-13 14:33:08</td>\n",
       "      <td>1</td>\n",
       "      <td>[[Tim Scott, 0.5232], [Pat Toomey, 0.3813], [N...</td>\n",
       "      <td>[http://www.wbko.com/content/news/Alabamas-Roy...</td>\n",
       "      <td>E</td>\n",
       "      <td>[com]</td>\n",
       "      <td>0.380549</td>\n",
       "      <td>0.380549</td>\n",
       "      <td>2017-11-13</td>\n",
       "      <td>2016-11-01</td>\n",
       "      <td>0.675</td>\n",
       "      <td>0.256871</td>\n",
       "      <td>-377</td>\n",
       "    </tr>\n",
       "    <tr>\n",
       "      <th>1058979</th>\n",
       "      <td>21749</td>\n",
       "      <td>2020-01-24-017239</td>\n",
       "      <td>establish a Justice Department Task Force to i...</td>\n",
       "      <td>ELIZABETH A. WARREN</td>\n",
       "      <td>[Q434706]</td>\n",
       "      <td>2020-01-24 13:45:14</td>\n",
       "      <td>1</td>\n",
       "      <td>[[Elizabeth Warren, 0.5926], [None, 0.359], [P...</td>\n",
       "      <td>[https://www.lifezette.com/2020/01/warren-vows...</td>\n",
       "      <td>E</td>\n",
       "      <td>[com]</td>\n",
       "      <td>0.577288</td>\n",
       "      <td>0.577288</td>\n",
       "      <td>2020-01-24</td>\n",
       "      <td>2018-11-01</td>\n",
       "      <td>0.675</td>\n",
       "      <td>0.389669</td>\n",
       "      <td>-449</td>\n",
       "    </tr>\n",
       "    <tr>\n",
       "      <th>354966</th>\n",
       "      <td>40568</td>\n",
       "      <td>2017-04-06-102207</td>\n",
       "      <td>Our system is also held together by rules, wri...</td>\n",
       "      <td>MICHAEL F. BENNET</td>\n",
       "      <td>[Q554792]</td>\n",
       "      <td>2017-04-06 23:50:14</td>\n",
       "      <td>1</td>\n",
       "      <td>[[Michael Bennet, 0.8735], [None, 0.1265]]</td>\n",
       "      <td>[http://www.durangoherald.com/articles/148942-...</td>\n",
       "      <td>E</td>\n",
       "      <td>[com]</td>\n",
       "      <td>0.398950</td>\n",
       "      <td>0.398950</td>\n",
       "      <td>2017-04-06</td>\n",
       "      <td>2016-11-01</td>\n",
       "      <td>0.675</td>\n",
       "      <td>0.269291</td>\n",
       "      <td>-156</td>\n",
       "    </tr>\n",
       "    <tr>\n",
       "      <th>532841</th>\n",
       "      <td>218443</td>\n",
       "      <td>2017-12-08-159360</td>\n",
       "      <td>You can make it through Monday. You can make i...</td>\n",
       "      <td>MICHAEL SANCHEZ</td>\n",
       "      <td>[Q54810673, Q6834125, Q939545]</td>\n",
       "      <td>2017-12-08 05:00:00</td>\n",
       "      <td>1</td>\n",
       "      <td>[[Michael Sanchez, 0.7775], [None, 0.2225]]</td>\n",
       "      <td>[http://www.wsws.org/en/articles/2017/12/08/te...</td>\n",
       "      <td>E</td>\n",
       "      <td>[org]</td>\n",
       "      <td>0.440932</td>\n",
       "      <td>0.440932</td>\n",
       "      <td>2017-12-08</td>\n",
       "      <td>2020-11-01</td>\n",
       "      <td>0.675</td>\n",
       "      <td>0.297629</td>\n",
       "      <td>1059</td>\n",
       "    </tr>\n",
       "  </tbody>\n",
       "</table>\n",
       "</div>"
      ],
      "text/plain": [
       "          index            quoteID  \\\n",
       "346276    31878  2017-11-13-129911   \n",
       "1058979   21749  2020-01-24-017239   \n",
       "354966    40568  2017-04-06-102207   \n",
       "532841   218443  2017-12-08-159360   \n",
       "\n",
       "                                                 quotation  \\\n",
       "346276   We have to find a way to restore trust and con...   \n",
       "1058979  establish a Justice Department Task Force to i...   \n",
       "354966   Our system is also held together by rules, wri...   \n",
       "532841   You can make it through Monday. You can make i...   \n",
       "\n",
       "                     speaker  \\\n",
       "346276             TIM SCOTT   \n",
       "1058979  ELIZABETH A. WARREN   \n",
       "354966     MICHAEL F. BENNET   \n",
       "532841       MICHAEL SANCHEZ   \n",
       "\n",
       "                                                      qids  \\\n",
       "346276   [Q12068555, Q3528687, Q41449449, Q55188449, Q5...   \n",
       "1058979                                          [Q434706]   \n",
       "354966                                           [Q554792]   \n",
       "532841                      [Q54810673, Q6834125, Q939545]   \n",
       "\n",
       "                       date  numOccurrences  \\\n",
       "346276  2017-11-13 14:33:08               1   \n",
       "1058979 2020-01-24 13:45:14               1   \n",
       "354966  2017-04-06 23:50:14               1   \n",
       "532841  2017-12-08 05:00:00               1   \n",
       "\n",
       "                                                    probas  \\\n",
       "346276   [[Tim Scott, 0.5232], [Pat Toomey, 0.3813], [N...   \n",
       "1058979  [[Elizabeth Warren, 0.5926], [None, 0.359], [P...   \n",
       "354966          [[Michael Bennet, 0.8735], [None, 0.1265]]   \n",
       "532841         [[Michael Sanchez, 0.7775], [None, 0.2225]]   \n",
       "\n",
       "                                                      urls phase domains  \\\n",
       "346276   [http://www.wbko.com/content/news/Alabamas-Roy...     E   [com]   \n",
       "1058979  [https://www.lifezette.com/2020/01/warren-vows...     E   [com]   \n",
       "354966   [http://www.durangoherald.com/articles/148942-...     E   [com]   \n",
       "532841   [http://www.wsws.org/en/articles/2017/12/08/te...     E   [org]   \n",
       "\n",
       "         normalize_factor  normalize_quotes   date_only election_day  views  \\\n",
       "346276           0.380549          0.380549  2017-11-13   2016-11-01  0.675   \n",
       "1058979          0.577288          0.577288  2020-01-24   2018-11-01  0.675   \n",
       "354966           0.398950          0.398950  2017-04-06   2016-11-01  0.675   \n",
       "532841           0.440932          0.440932  2017-12-08   2020-11-01  0.675   \n",
       "\n",
       "         normalize_views  days_before_election  \n",
       "346276          0.256871                  -377  \n",
       "1058979         0.389669                  -449  \n",
       "354966          0.269291                  -156  \n",
       "532841          0.297629                  1059  "
      ]
     },
     "execution_count": 43,
     "metadata": {},
     "output_type": "execute_result"
    }
   ],
   "source": [
    "# Calculate the number of days before election for each quotation\n",
    "candidate_quotes['days_before_election'] = pd.to_datetime(candidate_quotes['election_day'])- pd.to_datetime(candidate_quotes['date_only'])\n",
    "candidate_quotes['days_before_election'] = candidate_quotes['days_before_election'].map(lambda x:x.days)\n",
    "candidate_quotes.sample(4)"
   ]
  },
  {
   "cell_type": "code",
   "execution_count": 44,
   "id": "51db1155",
   "metadata": {},
   "outputs": [
    {
     "data": {
      "text/html": [
       "<div>\n",
       "<style scoped>\n",
       "    .dataframe tbody tr th:only-of-type {\n",
       "        vertical-align: middle;\n",
       "    }\n",
       "\n",
       "    .dataframe tbody tr th {\n",
       "        vertical-align: top;\n",
       "    }\n",
       "\n",
       "    .dataframe thead th {\n",
       "        text-align: right;\n",
       "    }\n",
       "</style>\n",
       "<table border=\"1\" class=\"dataframe\">\n",
       "  <thead>\n",
       "    <tr style=\"text-align: right;\">\n",
       "      <th></th>\n",
       "      <th>index</th>\n",
       "      <th>quoteID</th>\n",
       "      <th>quotation</th>\n",
       "      <th>speaker</th>\n",
       "      <th>qids</th>\n",
       "      <th>date</th>\n",
       "      <th>numOccurrences</th>\n",
       "      <th>probas</th>\n",
       "      <th>urls</th>\n",
       "      <th>phase</th>\n",
       "      <th>domains</th>\n",
       "      <th>normalize_factor</th>\n",
       "      <th>normalize_quotes</th>\n",
       "      <th>date_only</th>\n",
       "      <th>election_day</th>\n",
       "      <th>views</th>\n",
       "      <th>normalize_views</th>\n",
       "      <th>days_before_election</th>\n",
       "    </tr>\n",
       "  </thead>\n",
       "  <tbody>\n",
       "    <tr>\n",
       "      <th>767100</th>\n",
       "      <td>212158</td>\n",
       "      <td>2018-03-14-065168</td>\n",
       "      <td>I'm a driver, and I know I wouldn't feel very ...</td>\n",
       "      <td>DIANNE FEINSTEIN</td>\n",
       "      <td>[Q230733]</td>\n",
       "      <td>2018-03-14 07:00:00</td>\n",
       "      <td>6</td>\n",
       "      <td>[[Dianne Feinstein, 0.8244], [None, 0.1756]]</td>\n",
       "      <td>[http://www.santacruzsentinel.com/general-news...</td>\n",
       "      <td>E</td>\n",
       "      <td>[com, com, com, com, com, com]</td>\n",
       "      <td>0.358144</td>\n",
       "      <td>2.148866</td>\n",
       "      <td>2018-03-14</td>\n",
       "      <td>2018-11-01</td>\n",
       "      <td>4.050</td>\n",
       "      <td>1.450484</td>\n",
       "      <td>232</td>\n",
       "    </tr>\n",
       "    <tr>\n",
       "      <th>560532</th>\n",
       "      <td>5590</td>\n",
       "      <td>2018-06-03-026859</td>\n",
       "      <td>Individual gyro measurements of the rover's or...</td>\n",
       "      <td>BILL NELSON</td>\n",
       "      <td>[Q22639331, Q3272899, Q358437, Q4910326]</td>\n",
       "      <td>2018-06-03 04:30:44</td>\n",
       "      <td>1</td>\n",
       "      <td>[[Bill Nelson, 0.8876], [None, 0.1124]]</td>\n",
       "      <td>[http://www.planetary.org/explore/space-topics...</td>\n",
       "      <td>E</td>\n",
       "      <td>[org]</td>\n",
       "      <td>0.482000</td>\n",
       "      <td>0.482000</td>\n",
       "      <td>2018-06-03</td>\n",
       "      <td>2018-11-01</td>\n",
       "      <td>0.675</td>\n",
       "      <td>0.325350</td>\n",
       "      <td>151</td>\n",
       "    </tr>\n",
       "    <tr>\n",
       "      <th>761486</th>\n",
       "      <td>206544</td>\n",
       "      <td>2018-09-27-028212</td>\n",
       "      <td>Have you ever drank so much you didn't remembe...</td>\n",
       "      <td>AMY KLOBUCHAR</td>\n",
       "      <td>[Q22237]</td>\n",
       "      <td>2018-09-27 00:00:00</td>\n",
       "      <td>109</td>\n",
       "      <td>[[Amy Klobuchar, 0.8424], [None, 0.1265], [Bre...</td>\n",
       "      <td>[http://kstp.com/national/kavanaugh-ford-heari...</td>\n",
       "      <td>E</td>\n",
       "      <td>[com, com, com, com, com, com, com, com, com, ...</td>\n",
       "      <td>0.459009</td>\n",
       "      <td>50.031947</td>\n",
       "      <td>2018-09-27</td>\n",
       "      <td>2018-11-01</td>\n",
       "      <td>171.075</td>\n",
       "      <td>78.524911</td>\n",
       "      <td>35</td>\n",
       "    </tr>\n",
       "    <tr>\n",
       "      <th>591090</th>\n",
       "      <td>36148</td>\n",
       "      <td>2018-02-15-136904</td>\n",
       "      <td>They immediately start calling that we have to...</td>\n",
       "      <td>TED CRUZ</td>\n",
       "      <td>[Q2036942]</td>\n",
       "      <td>2018-02-15 10:58:38</td>\n",
       "      <td>1</td>\n",
       "      <td>[[Ted Cruz, 0.5847], [None, 0.3827], [Nikolas ...</td>\n",
       "      <td>[http://www.newsmax.com/us/second-amendment-ri...</td>\n",
       "      <td>E</td>\n",
       "      <td>[com]</td>\n",
       "      <td>0.401482</td>\n",
       "      <td>0.401482</td>\n",
       "      <td>2018-02-15</td>\n",
       "      <td>2018-11-01</td>\n",
       "      <td>26.930</td>\n",
       "      <td>10.811905</td>\n",
       "      <td>259</td>\n",
       "    </tr>\n",
       "  </tbody>\n",
       "</table>\n",
       "</div>"
      ],
      "text/plain": [
       "         index            quoteID  \\\n",
       "767100  212158  2018-03-14-065168   \n",
       "560532    5590  2018-06-03-026859   \n",
       "761486  206544  2018-09-27-028212   \n",
       "591090   36148  2018-02-15-136904   \n",
       "\n",
       "                                                quotation           speaker  \\\n",
       "767100  I'm a driver, and I know I wouldn't feel very ...  DIANNE FEINSTEIN   \n",
       "560532  Individual gyro measurements of the rover's or...       BILL NELSON   \n",
       "761486  Have you ever drank so much you didn't remembe...     AMY KLOBUCHAR   \n",
       "591090  They immediately start calling that we have to...          TED CRUZ   \n",
       "\n",
       "                                            qids                date  \\\n",
       "767100                                 [Q230733] 2018-03-14 07:00:00   \n",
       "560532  [Q22639331, Q3272899, Q358437, Q4910326] 2018-06-03 04:30:44   \n",
       "761486                                  [Q22237] 2018-09-27 00:00:00   \n",
       "591090                                [Q2036942] 2018-02-15 10:58:38   \n",
       "\n",
       "        numOccurrences                                             probas  \\\n",
       "767100               6       [[Dianne Feinstein, 0.8244], [None, 0.1756]]   \n",
       "560532               1            [[Bill Nelson, 0.8876], [None, 0.1124]]   \n",
       "761486             109  [[Amy Klobuchar, 0.8424], [None, 0.1265], [Bre...   \n",
       "591090               1  [[Ted Cruz, 0.5847], [None, 0.3827], [Nikolas ...   \n",
       "\n",
       "                                                     urls phase  \\\n",
       "767100  [http://www.santacruzsentinel.com/general-news...     E   \n",
       "560532  [http://www.planetary.org/explore/space-topics...     E   \n",
       "761486  [http://kstp.com/national/kavanaugh-ford-heari...     E   \n",
       "591090  [http://www.newsmax.com/us/second-amendment-ri...     E   \n",
       "\n",
       "                                                  domains  normalize_factor  \\\n",
       "767100                     [com, com, com, com, com, com]          0.358144   \n",
       "560532                                              [org]          0.482000   \n",
       "761486  [com, com, com, com, com, com, com, com, com, ...          0.459009   \n",
       "591090                                              [com]          0.401482   \n",
       "\n",
       "        normalize_quotes   date_only election_day    views  normalize_views  \\\n",
       "767100          2.148866  2018-03-14   2018-11-01    4.050         1.450484   \n",
       "560532          0.482000  2018-06-03   2018-11-01    0.675         0.325350   \n",
       "761486         50.031947  2018-09-27   2018-11-01  171.075        78.524911   \n",
       "591090          0.401482  2018-02-15   2018-11-01   26.930        10.811905   \n",
       "\n",
       "        days_before_election  \n",
       "767100                   232  \n",
       "560532                   151  \n",
       "761486                    35  \n",
       "591090                   259  "
      ]
     },
     "execution_count": 44,
     "metadata": {},
     "output_type": "execute_result"
    }
   ],
   "source": [
    "feature_length = 300  # we use data of 300 days before the election\n",
    "quotes_timespan = candidate_quotes[candidate_quotes['days_before_election']>=0]\n",
    "quotes_timespan = quotes_timespan[quotes_timespan['days_before_election']<feature_length]\n",
    "quotes_timespan.sample(4)"
   ]
  },
  {
   "cell_type": "code",
   "execution_count": 45,
   "id": "7fde6478",
   "metadata": {
    "scrolled": true
   },
   "outputs": [
    {
     "data": {
      "text/plain": [
       "speaker           days_before_election\n",
       "A. WAYNE JOHNSON  225                      0.510070\n",
       "                  234                      2.040281\n",
       "                  241                     11.395348\n",
       "                  251                     99.717389\n",
       "                  261                      2.532803\n",
       "                                            ...    \n",
       "ZAK RINGELSTEIN   141                      1.626749\n",
       "                  147                      0.650700\n",
       "                  160                      0.815621\n",
       "                  227                      1.933979\n",
       "                  235                      0.241747\n",
       "Name: normalize_views, Length: 19165, dtype: float64"
      ]
     },
     "execution_count": 45,
     "metadata": {},
     "output_type": "execute_result"
    }
   ],
   "source": [
    "# group the quotations by speaker\n",
    "quotes_timespan_byday = quotes_timespan.groupby(['speaker', 'days_before_election'])['normalize_views'].sum()\n",
    "quotes_timespan_byday"
   ]
  },
  {
   "cell_type": "markdown",
   "id": "04a5c76e",
   "metadata": {},
   "source": [
    "For each candidate, we use the total weighted quotations each day as the feature vector characterizing their exposure-gaining process."
   ]
  },
  {
   "cell_type": "code",
   "execution_count": 46,
   "id": "d3a8aaaf",
   "metadata": {},
   "outputs": [
    {
     "data": {
      "text/html": [
       "<div>\n",
       "<style scoped>\n",
       "    .dataframe tbody tr th:only-of-type {\n",
       "        vertical-align: middle;\n",
       "    }\n",
       "\n",
       "    .dataframe tbody tr th {\n",
       "        vertical-align: top;\n",
       "    }\n",
       "\n",
       "    .dataframe thead th {\n",
       "        text-align: right;\n",
       "    }\n",
       "</style>\n",
       "<table border=\"1\" class=\"dataframe\">\n",
       "  <thead>\n",
       "    <tr style=\"text-align: right;\">\n",
       "      <th></th>\n",
       "      <th>A. WAYNE JOHNSON</th>\n",
       "      <th>AARON JAMES</th>\n",
       "      <th>ABHAY PATEL</th>\n",
       "      <th>AL GROSS</th>\n",
       "      <th>ALEX MERCED</th>\n",
       "      <th>ALLEN BUCKLEY</th>\n",
       "      <th>AMY KLOBUCHAR</th>\n",
       "      <th>AMY MCGRATH</th>\n",
       "      <th>ANN KIRKPATRICK</th>\n",
       "      <th>ARN MENCONI</th>\n",
       "      <th>...</th>\n",
       "      <th>TOM COTTON</th>\n",
       "      <th>TOM JONES</th>\n",
       "      <th>TOMMY TUBERVILLE</th>\n",
       "      <th>TONY CAMPBELL</th>\n",
       "      <th>TROY HEBERT</th>\n",
       "      <th>VALENCIA STOVALL</th>\n",
       "      <th>WENDY LONG</th>\n",
       "      <th>WILLIAM ROBERT LANG, JR.</th>\n",
       "      <th>WILLIE L. WILSON</th>\n",
       "      <th>ZAK RINGELSTEIN</th>\n",
       "    </tr>\n",
       "  </thead>\n",
       "  <tbody>\n",
       "    <tr>\n",
       "      <th>0</th>\n",
       "      <td>0.0</td>\n",
       "      <td>0.000000</td>\n",
       "      <td>0.0</td>\n",
       "      <td>0.0</td>\n",
       "      <td>0.0</td>\n",
       "      <td>0.0</td>\n",
       "      <td>0.643107</td>\n",
       "      <td>0.000000</td>\n",
       "      <td>0.0</td>\n",
       "      <td>0.0</td>\n",
       "      <td>...</td>\n",
       "      <td>0.000000</td>\n",
       "      <td>0.0</td>\n",
       "      <td>0.000000</td>\n",
       "      <td>0.000000</td>\n",
       "      <td>0.0</td>\n",
       "      <td>0.0</td>\n",
       "      <td>0.0</td>\n",
       "      <td>0.0</td>\n",
       "      <td>0.0</td>\n",
       "      <td>1.607768</td>\n",
       "    </tr>\n",
       "    <tr>\n",
       "      <th>1</th>\n",
       "      <td>0.0</td>\n",
       "      <td>0.000000</td>\n",
       "      <td>0.0</td>\n",
       "      <td>0.0</td>\n",
       "      <td>0.0</td>\n",
       "      <td>0.0</td>\n",
       "      <td>0.864890</td>\n",
       "      <td>0.000000</td>\n",
       "      <td>0.0</td>\n",
       "      <td>0.0</td>\n",
       "      <td>...</td>\n",
       "      <td>0.000000</td>\n",
       "      <td>0.0</td>\n",
       "      <td>0.000000</td>\n",
       "      <td>0.000000</td>\n",
       "      <td>0.0</td>\n",
       "      <td>0.0</td>\n",
       "      <td>0.0</td>\n",
       "      <td>0.0</td>\n",
       "      <td>0.0</td>\n",
       "      <td>0.000000</td>\n",
       "    </tr>\n",
       "    <tr>\n",
       "      <th>2</th>\n",
       "      <td>0.0</td>\n",
       "      <td>0.000000</td>\n",
       "      <td>0.0</td>\n",
       "      <td>0.0</td>\n",
       "      <td>0.0</td>\n",
       "      <td>0.0</td>\n",
       "      <td>41.414354</td>\n",
       "      <td>0.000000</td>\n",
       "      <td>0.0</td>\n",
       "      <td>0.0</td>\n",
       "      <td>...</td>\n",
       "      <td>0.000000</td>\n",
       "      <td>0.0</td>\n",
       "      <td>0.000000</td>\n",
       "      <td>0.000000</td>\n",
       "      <td>0.0</td>\n",
       "      <td>0.0</td>\n",
       "      <td>0.0</td>\n",
       "      <td>0.0</td>\n",
       "      <td>0.0</td>\n",
       "      <td>3.459560</td>\n",
       "    </tr>\n",
       "    <tr>\n",
       "      <th>3</th>\n",
       "      <td>0.0</td>\n",
       "      <td>0.000000</td>\n",
       "      <td>0.0</td>\n",
       "      <td>0.0</td>\n",
       "      <td>0.0</td>\n",
       "      <td>0.0</td>\n",
       "      <td>4.324450</td>\n",
       "      <td>0.000000</td>\n",
       "      <td>0.0</td>\n",
       "      <td>0.0</td>\n",
       "      <td>...</td>\n",
       "      <td>0.000000</td>\n",
       "      <td>0.0</td>\n",
       "      <td>0.000000</td>\n",
       "      <td>2.306374</td>\n",
       "      <td>0.0</td>\n",
       "      <td>0.0</td>\n",
       "      <td>0.0</td>\n",
       "      <td>0.0</td>\n",
       "      <td>0.0</td>\n",
       "      <td>0.576593</td>\n",
       "    </tr>\n",
       "    <tr>\n",
       "      <th>4</th>\n",
       "      <td>0.0</td>\n",
       "      <td>0.000000</td>\n",
       "      <td>0.0</td>\n",
       "      <td>0.0</td>\n",
       "      <td>0.0</td>\n",
       "      <td>0.0</td>\n",
       "      <td>4.901044</td>\n",
       "      <td>0.000000</td>\n",
       "      <td>0.0</td>\n",
       "      <td>0.0</td>\n",
       "      <td>...</td>\n",
       "      <td>0.000000</td>\n",
       "      <td>0.0</td>\n",
       "      <td>0.000000</td>\n",
       "      <td>2.882967</td>\n",
       "      <td>0.0</td>\n",
       "      <td>0.0</td>\n",
       "      <td>0.0</td>\n",
       "      <td>0.0</td>\n",
       "      <td>0.0</td>\n",
       "      <td>0.000000</td>\n",
       "    </tr>\n",
       "    <tr>\n",
       "      <th>...</th>\n",
       "      <td>...</td>\n",
       "      <td>...</td>\n",
       "      <td>...</td>\n",
       "      <td>...</td>\n",
       "      <td>...</td>\n",
       "      <td>...</td>\n",
       "      <td>...</td>\n",
       "      <td>...</td>\n",
       "      <td>...</td>\n",
       "      <td>...</td>\n",
       "      <td>...</td>\n",
       "      <td>...</td>\n",
       "      <td>...</td>\n",
       "      <td>...</td>\n",
       "      <td>...</td>\n",
       "      <td>...</td>\n",
       "      <td>...</td>\n",
       "      <td>...</td>\n",
       "      <td>...</td>\n",
       "      <td>...</td>\n",
       "      <td>...</td>\n",
       "    </tr>\n",
       "    <tr>\n",
       "      <th>295</th>\n",
       "      <td>0.0</td>\n",
       "      <td>0.000000</td>\n",
       "      <td>0.0</td>\n",
       "      <td>0.0</td>\n",
       "      <td>0.0</td>\n",
       "      <td>0.0</td>\n",
       "      <td>69.388074</td>\n",
       "      <td>0.000000</td>\n",
       "      <td>0.0</td>\n",
       "      <td>0.0</td>\n",
       "      <td>...</td>\n",
       "      <td>552.756030</td>\n",
       "      <td>0.0</td>\n",
       "      <td>0.000000</td>\n",
       "      <td>0.000000</td>\n",
       "      <td>0.0</td>\n",
       "      <td>0.0</td>\n",
       "      <td>0.0</td>\n",
       "      <td>0.0</td>\n",
       "      <td>0.0</td>\n",
       "      <td>0.000000</td>\n",
       "    </tr>\n",
       "    <tr>\n",
       "      <th>296</th>\n",
       "      <td>0.0</td>\n",
       "      <td>1.169008</td>\n",
       "      <td>0.0</td>\n",
       "      <td>0.0</td>\n",
       "      <td>0.0</td>\n",
       "      <td>0.0</td>\n",
       "      <td>8.435176</td>\n",
       "      <td>0.000000</td>\n",
       "      <td>0.0</td>\n",
       "      <td>0.0</td>\n",
       "      <td>...</td>\n",
       "      <td>3.896693</td>\n",
       "      <td>0.0</td>\n",
       "      <td>0.000000</td>\n",
       "      <td>0.000000</td>\n",
       "      <td>0.0</td>\n",
       "      <td>0.0</td>\n",
       "      <td>0.0</td>\n",
       "      <td>0.0</td>\n",
       "      <td>0.0</td>\n",
       "      <td>0.000000</td>\n",
       "    </tr>\n",
       "    <tr>\n",
       "      <th>297</th>\n",
       "      <td>0.0</td>\n",
       "      <td>0.779339</td>\n",
       "      <td>0.0</td>\n",
       "      <td>0.0</td>\n",
       "      <td>0.0</td>\n",
       "      <td>0.0</td>\n",
       "      <td>1.357593</td>\n",
       "      <td>1.169008</td>\n",
       "      <td>0.0</td>\n",
       "      <td>0.0</td>\n",
       "      <td>...</td>\n",
       "      <td>239.637971</td>\n",
       "      <td>0.0</td>\n",
       "      <td>0.000000</td>\n",
       "      <td>0.000000</td>\n",
       "      <td>0.0</td>\n",
       "      <td>0.0</td>\n",
       "      <td>0.0</td>\n",
       "      <td>0.0</td>\n",
       "      <td>0.0</td>\n",
       "      <td>0.000000</td>\n",
       "    </tr>\n",
       "    <tr>\n",
       "      <th>298</th>\n",
       "      <td>0.0</td>\n",
       "      <td>0.779339</td>\n",
       "      <td>0.0</td>\n",
       "      <td>0.0</td>\n",
       "      <td>0.0</td>\n",
       "      <td>0.0</td>\n",
       "      <td>0.814556</td>\n",
       "      <td>0.000000</td>\n",
       "      <td>0.0</td>\n",
       "      <td>0.0</td>\n",
       "      <td>...</td>\n",
       "      <td>726.124239</td>\n",
       "      <td>0.0</td>\n",
       "      <td>191.316089</td>\n",
       "      <td>0.000000</td>\n",
       "      <td>0.0</td>\n",
       "      <td>0.0</td>\n",
       "      <td>0.0</td>\n",
       "      <td>0.0</td>\n",
       "      <td>0.0</td>\n",
       "      <td>0.000000</td>\n",
       "    </tr>\n",
       "    <tr>\n",
       "      <th>299</th>\n",
       "      <td>0.0</td>\n",
       "      <td>0.000000</td>\n",
       "      <td>0.0</td>\n",
       "      <td>0.0</td>\n",
       "      <td>0.0</td>\n",
       "      <td>0.0</td>\n",
       "      <td>13.467320</td>\n",
       "      <td>0.000000</td>\n",
       "      <td>0.0</td>\n",
       "      <td>0.0</td>\n",
       "      <td>...</td>\n",
       "      <td>3.507024</td>\n",
       "      <td>0.0</td>\n",
       "      <td>0.000000</td>\n",
       "      <td>0.000000</td>\n",
       "      <td>0.0</td>\n",
       "      <td>0.0</td>\n",
       "      <td>0.0</td>\n",
       "      <td>0.0</td>\n",
       "      <td>0.0</td>\n",
       "      <td>0.000000</td>\n",
       "    </tr>\n",
       "  </tbody>\n",
       "</table>\n",
       "<p>300 rows × 234 columns</p>\n",
       "</div>"
      ],
      "text/plain": [
       "     A. WAYNE JOHNSON  AARON JAMES  ABHAY PATEL  AL GROSS  ALEX MERCED  \\\n",
       "0                 0.0     0.000000          0.0       0.0          0.0   \n",
       "1                 0.0     0.000000          0.0       0.0          0.0   \n",
       "2                 0.0     0.000000          0.0       0.0          0.0   \n",
       "3                 0.0     0.000000          0.0       0.0          0.0   \n",
       "4                 0.0     0.000000          0.0       0.0          0.0   \n",
       "..                ...          ...          ...       ...          ...   \n",
       "295               0.0     0.000000          0.0       0.0          0.0   \n",
       "296               0.0     1.169008          0.0       0.0          0.0   \n",
       "297               0.0     0.779339          0.0       0.0          0.0   \n",
       "298               0.0     0.779339          0.0       0.0          0.0   \n",
       "299               0.0     0.000000          0.0       0.0          0.0   \n",
       "\n",
       "     ALLEN BUCKLEY  AMY KLOBUCHAR  AMY MCGRATH  ANN KIRKPATRICK  ARN MENCONI  \\\n",
       "0              0.0       0.643107     0.000000              0.0          0.0   \n",
       "1              0.0       0.864890     0.000000              0.0          0.0   \n",
       "2              0.0      41.414354     0.000000              0.0          0.0   \n",
       "3              0.0       4.324450     0.000000              0.0          0.0   \n",
       "4              0.0       4.901044     0.000000              0.0          0.0   \n",
       "..             ...            ...          ...              ...          ...   \n",
       "295            0.0      69.388074     0.000000              0.0          0.0   \n",
       "296            0.0       8.435176     0.000000              0.0          0.0   \n",
       "297            0.0       1.357593     1.169008              0.0          0.0   \n",
       "298            0.0       0.814556     0.000000              0.0          0.0   \n",
       "299            0.0      13.467320     0.000000              0.0          0.0   \n",
       "\n",
       "     ...  TOM COTTON  TOM JONES  TOMMY TUBERVILLE  TONY CAMPBELL  TROY HEBERT  \\\n",
       "0    ...    0.000000        0.0          0.000000       0.000000          0.0   \n",
       "1    ...    0.000000        0.0          0.000000       0.000000          0.0   \n",
       "2    ...    0.000000        0.0          0.000000       0.000000          0.0   \n",
       "3    ...    0.000000        0.0          0.000000       2.306374          0.0   \n",
       "4    ...    0.000000        0.0          0.000000       2.882967          0.0   \n",
       "..   ...         ...        ...               ...            ...          ...   \n",
       "295  ...  552.756030        0.0          0.000000       0.000000          0.0   \n",
       "296  ...    3.896693        0.0          0.000000       0.000000          0.0   \n",
       "297  ...  239.637971        0.0          0.000000       0.000000          0.0   \n",
       "298  ...  726.124239        0.0        191.316089       0.000000          0.0   \n",
       "299  ...    3.507024        0.0          0.000000       0.000000          0.0   \n",
       "\n",
       "     VALENCIA STOVALL  WENDY LONG  WILLIAM ROBERT LANG, JR.  WILLIE L. WILSON  \\\n",
       "0                 0.0         0.0                       0.0               0.0   \n",
       "1                 0.0         0.0                       0.0               0.0   \n",
       "2                 0.0         0.0                       0.0               0.0   \n",
       "3                 0.0         0.0                       0.0               0.0   \n",
       "4                 0.0         0.0                       0.0               0.0   \n",
       "..                ...         ...                       ...               ...   \n",
       "295               0.0         0.0                       0.0               0.0   \n",
       "296               0.0         0.0                       0.0               0.0   \n",
       "297               0.0         0.0                       0.0               0.0   \n",
       "298               0.0         0.0                       0.0               0.0   \n",
       "299               0.0         0.0                       0.0               0.0   \n",
       "\n",
       "     ZAK RINGELSTEIN  \n",
       "0           1.607768  \n",
       "1           0.000000  \n",
       "2           3.459560  \n",
       "3           0.576593  \n",
       "4           0.000000  \n",
       "..               ...  \n",
       "295         0.000000  \n",
       "296         0.000000  \n",
       "297         0.000000  \n",
       "298         0.000000  \n",
       "299         0.000000  \n",
       "\n",
       "[300 rows x 234 columns]"
      ]
     },
     "execution_count": 46,
     "metadata": {},
     "output_type": "execute_result"
    }
   ],
   "source": [
    "# build the feature vectors\n",
    "# Rows represent numbers of days before the election\n",
    "# columns represent candidates\n",
    "\n",
    "candidate_name = quotes_timespan_byday.index.map(lambda x:x[0]).drop_duplicates()\n",
    "candidate_quotes_cluster_feature = pd.DataFrame(np.zeros([feature_length,len(candidate_name)]), columns=candidate_name)\n",
    "\n",
    "for candidate in candidate_name:\n",
    "    candidate_quotes_timespan = quotes_timespan_byday[candidate]\n",
    "    for days in candidate_quotes_timespan.index:\n",
    "        candidate_quotes_cluster_feature[candidate].iloc[days] = candidate_quotes_timespan.loc[days]\n",
    "        \n",
    "candidate_quotes_cluster_feature"
   ]
  },
  {
   "cell_type": "markdown",
   "id": "f930b6d2-e677-4dc4-aceb-d9342c7bd9b6",
   "metadata": {},
   "source": [
    "Since the feature vector is 300-dimension, we will use PCA to reduce the dimension and visualize the data."
   ]
  },
  {
   "cell_type": "code",
   "execution_count": 47,
   "id": "6647728c",
   "metadata": {},
   "outputs": [
    {
     "data": {
      "text/plain": [
       "<matplotlib.collections.PathCollection at 0x22d029b20>"
      ]
     },
     "execution_count": 47,
     "metadata": {},
     "output_type": "execute_result"
    },
    {
     "data": {
      "image/png": "[encoded data removed]",
      "text/plain": [
       "<Figure size 432x288 with 1 Axes>"
      ]
     },
     "metadata": {
      "needs_background": "light"
     },
     "output_type": "display_data"
    }
   ],
   "source": [
    "# Use PCA to visualize the feature vectors\n",
    "from sklearn.decomposition import PCA\n",
    "\n",
    "candidate_feature_vectors = candidate_quotes_cluster_feature.to_numpy().T\n",
    "candidate_feature_vectors/=np.linalg.norm(candidate_feature_vectors,axis=1)[:,np.newaxis]\n",
    "reduced_feature_PCA = PCA(n_components=2).fit(candidate_feature_vectors).transform(candidate_feature_vectors)\n",
    "\n",
    "plt.scatter(reduced_feature_PCA[:,0],reduced_feature_PCA[:,1], alpha=0.5)"
   ]
  },
  {
   "cell_type": "markdown",
   "id": "f9848661",
   "metadata": {},
   "source": [
    "**3.2** We clustered the candidate using the vector after PCA. This may help us identify different shapes of quotation changes over time."
   ]
  },
  {
   "cell_type": "markdown",
   "id": "e64bcb17-7f08-4197-9920-7700f2033bfa",
   "metadata": {},
   "source": [
    "In the reduced space, we applied KMeans for clustering."
   ]
  },
  {
   "cell_type": "code",
   "execution_count": 48,
   "id": "71778b09",
   "metadata": {},
   "outputs": [
    {
     "data": {
      "text/plain": [
       "[<matplotlib.lines.Line2D at 0x176e3ac40>]"
      ]
     },
     "execution_count": 48,
     "metadata": {},
     "output_type": "execute_result"
    },
    {
     "data": {
      "image/png": "[encoded data removed]",
      "text/plain": [
       "<Figure size 432x288 with 1 Axes>"
      ]
     },
     "metadata": {
      "needs_background": "light"
     },
     "output_type": "display_data"
    }
   ],
   "source": [
    "# find the cluster number to use by silhouette_score\n",
    "\n",
    "from sklearn.cluster import KMeans\n",
    "from sklearn.metrics import silhouette_score\n",
    "\n",
    "silhouettes=[]\n",
    "for n_clusters in range(2,10):\n",
    "    labels = KMeans(n_clusters=n_clusters).fit_predict(reduced_feature_PCA)\n",
    "    score = silhouette_score(reduced_feature_PCA,labels)\n",
    "    silhouettes.append(score)\n",
    "    \n",
    "plt.plot(range(2,10),silhouettes)"
   ]
  },
  {
   "cell_type": "code",
   "execution_count": 49,
   "id": "03695de1",
   "metadata": {},
   "outputs": [
    {
     "data": {
      "text/plain": [
       "<matplotlib.collections.PathCollection at 0x1e0597cd0>"
      ]
     },
     "execution_count": 49,
     "metadata": {},
     "output_type": "execute_result"
    },
    {
     "data": {
      "image/png": "[encoded data removed]",
      "text/plain": [
       "<Figure size 432x288 with 1 Axes>"
      ]
     },
     "metadata": {
      "needs_background": "light"
     },
     "output_type": "display_data"
    }
   ],
   "source": [
    "# based on previous result, we use 2 clusters.\n",
    "n_clusters = 2\n",
    "labels = KMeans(n_clusters=n_clusters).fit_predict(reduced_feature_PCA)\n",
    "plt.scatter(reduced_feature_PCA[:,0],reduced_feature_PCA[:,1], alpha=0.5,c=labels)"
   ]
  },
  {
   "cell_type": "code",
   "execution_count": 50,
   "id": "81a4b29b",
   "metadata": {},
   "outputs": [
    {
     "name": "stdout",
     "output_type": "stream",
     "text": [
      "22 candidates in type 0: Index(['AMY MCGRATH', 'BEN SASSE', 'CORY BOOKER', 'CORY GARDNER',\n",
      "       'DAVID A. PERDUE', 'DOUG COLLINS', 'DOUG JONES', 'GARY PETERS',\n",
      "       'JEANNE SHAHEEN', 'JEFF MERKLEY', 'JOHN CORNYN', 'JON OSSOFF',\n",
      "       'JONI ERNST', 'LINDSEY GRAHAM', 'MARK KELLY', 'MARK R. WARNER',\n",
      "       'MITCH MCCONNELL', 'SARA I. GIDEON', 'SHELLEY MOORE CAPITO',\n",
      "       'SUSAN MARGARET COLLINS', 'THOM TILLIS', 'TOM COTTON'],\n",
      "      dtype='object')\n",
      "212 candidates in type 1: Index(['A. WAYNE JOHNSON', 'AARON JAMES', 'ABHAY PATEL', 'AL GROSS',\n",
      "       'ALEX MERCED', 'ALLEN BUCKLEY', 'AMY KLOBUCHAR', 'ANN KIRKPATRICK',\n",
      "       'ARN MENCONI', 'ARVIN VOHRA',\n",
      "       ...\n",
      "       'TOM CONNORS', 'TOM JONES', 'TOMMY TUBERVILLE', 'TONY CAMPBELL',\n",
      "       'TROY HEBERT', 'VALENCIA STOVALL', 'WENDY LONG',\n",
      "       'WILLIAM ROBERT LANG, JR.', 'WILLIE L. WILSON', 'ZAK RINGELSTEIN'],\n",
      "      dtype='object', length=212)\n"
     ]
    }
   ],
   "source": [
    "# show candidates of each cluster\n",
    "\n",
    "for candidate_type in range(0,n_clusters):\n",
    "    print('{} candidates in type {}: {}'.format(np.where(labels==candidate_type)[0].shape[0],candidate_type,candidate_name[np.where(labels==candidate_type)]))"
   ]
  },
  {
   "cell_type": "markdown",
   "id": "cc0f3239-2f22-4c0f-8d39-c3563804d012",
   "metadata": {},
   "source": [
    "After clustering, we'd like to know how each cluster looks like. First, we just take the average the feature from each cluster and visualize them."
   ]
  },
  {
   "cell_type": "code",
   "execution_count": 51,
   "id": "26d85072",
   "metadata": {},
   "outputs": [
    {
     "data": {
      "image/png": "[encoded data removed]",
      "text/plain": [
       "<Figure size 1440x360 with 2 Axes>"
      ]
     },
     "metadata": {
      "needs_background": "light"
     },
     "output_type": "display_data"
    }
   ],
   "source": [
    "fig, axs = plt.subplots(1,n_clusters, figsize=(20,5))\n",
    "for candidate_type in range(0,n_clusters):\n",
    "    axs[candidate_type].plot(range(0,feature_length), np.mean(candidate_feature_vectors[np.where(labels==candidate_type)], axis=0))\n",
    "    axs[candidate_type].set_title('type {}'.format(candidate_type))\n",
    "    axs[candidate_type].set_xlabel('days before election')"
   ]
  },
  {
   "cell_type": "markdown",
   "id": "f6178005",
   "metadata": {},
   "source": [
    "In Type 0, we get almost no citation from roughly 200 days before the election. This is mainly caused by lacking quotation data after April 2020 in the QuoteBank. Therefore, we remove the candidate for 2020 because of the lack of data after April. Then, we repeat the pipeline used above."
   ]
  },
  {
   "cell_type": "code",
   "execution_count": 52,
   "id": "af520b48",
   "metadata": {},
   "outputs": [
    {
     "data": {
      "text/plain": [
       "A. WAYNE JOHNSON            2020\n",
       "AARON JAMES                 2020\n",
       "ABHAY PATEL                 2016\n",
       "AL GROSS                    2020\n",
       "ALEX MERCED                 2016\n",
       "                            ... \n",
       "VALENCIA STOVALL            2020\n",
       "WENDY LONG                  2016\n",
       "WILLIAM ROBERT LANG, JR.    2016\n",
       "WILLIE L. WILSON            2020\n",
       "ZAK RINGELSTEIN             2018\n",
       "Name: year, Length: 234, dtype: int64"
      ]
     },
     "execution_count": 52,
     "metadata": {},
     "output_type": "execute_result"
    }
   ],
   "source": [
    "# find each candidates' election year.\n",
    "\n",
    "election_year = candidate_info_byname.loc[candidate_name]['year']\n",
    "election_year"
   ]
  },
  {
   "cell_type": "code",
   "execution_count": 53,
   "id": "43415d16",
   "metadata": {},
   "outputs": [
    {
     "data": {
      "text/plain": [
       "Index(['ABHAY PATEL', 'ALEX MERCED', 'ALLEN BUCKLEY', 'AMY KLOBUCHAR',\n",
       "       'ANN KIRKPATRICK', 'ARN MENCONI', 'ARVIN VOHRA', 'BARRY MICHAELS',\n",
       "       'BEN CARDIN', 'BERNIE SANDERS',\n",
       "       ...\n",
       "       'TIMOTHY M. KAINE', 'TINA SMITH', 'TODD C. YOUNG', 'TOM CONNORS',\n",
       "       'TOM JONES', 'TONY CAMPBELL', 'TROY HEBERT', 'WENDY LONG',\n",
       "       'WILLIAM ROBERT LANG, JR.', 'ZAK RINGELSTEIN'],\n",
       "      dtype='object', length=171)"
      ]
     },
     "execution_count": 53,
     "metadata": {},
     "output_type": "execute_result"
    }
   ],
   "source": [
    "# filter out 2020 election\n",
    "\n",
    "candidate_name_filted = candidate_name[election_year!=2020]\n",
    "candidate_name_filted"
   ]
  },
  {
   "cell_type": "code",
   "execution_count": 54,
   "id": "a3424648",
   "metadata": {},
   "outputs": [
    {
     "data": {
      "text/html": [
       "<div>\n",
       "<style scoped>\n",
       "    .dataframe tbody tr th:only-of-type {\n",
       "        vertical-align: middle;\n",
       "    }\n",
       "\n",
       "    .dataframe tbody tr th {\n",
       "        vertical-align: top;\n",
       "    }\n",
       "\n",
       "    .dataframe thead th {\n",
       "        text-align: right;\n",
       "    }\n",
       "</style>\n",
       "<table border=\"1\" class=\"dataframe\">\n",
       "  <thead>\n",
       "    <tr style=\"text-align: right;\">\n",
       "      <th></th>\n",
       "      <th>ABHAY PATEL</th>\n",
       "      <th>ALEX MERCED</th>\n",
       "      <th>ALLEN BUCKLEY</th>\n",
       "      <th>AMY KLOBUCHAR</th>\n",
       "      <th>ANN KIRKPATRICK</th>\n",
       "      <th>ARN MENCONI</th>\n",
       "      <th>ARVIN VOHRA</th>\n",
       "      <th>BARRY MICHAELS</th>\n",
       "      <th>BEN CARDIN</th>\n",
       "      <th>BERNIE SANDERS</th>\n",
       "      <th>...</th>\n",
       "      <th>TIMOTHY M. KAINE</th>\n",
       "      <th>TINA SMITH</th>\n",
       "      <th>TODD C. YOUNG</th>\n",
       "      <th>TOM CONNORS</th>\n",
       "      <th>TOM JONES</th>\n",
       "      <th>TONY CAMPBELL</th>\n",
       "      <th>TROY HEBERT</th>\n",
       "      <th>WENDY LONG</th>\n",
       "      <th>WILLIAM ROBERT LANG, JR.</th>\n",
       "      <th>ZAK RINGELSTEIN</th>\n",
       "    </tr>\n",
       "  </thead>\n",
       "  <tbody>\n",
       "    <tr>\n",
       "      <th>0</th>\n",
       "      <td>0.0</td>\n",
       "      <td>0.0</td>\n",
       "      <td>0.0</td>\n",
       "      <td>0.643107</td>\n",
       "      <td>0.0</td>\n",
       "      <td>0.0</td>\n",
       "      <td>0.000000</td>\n",
       "      <td>0.00000</td>\n",
       "      <td>0.964661</td>\n",
       "      <td>60.447298</td>\n",
       "      <td>...</td>\n",
       "      <td>0.0</td>\n",
       "      <td>45.258062</td>\n",
       "      <td>0.0</td>\n",
       "      <td>0.0</td>\n",
       "      <td>0.0</td>\n",
       "      <td>0.000000</td>\n",
       "      <td>0.0</td>\n",
       "      <td>0.0</td>\n",
       "      <td>0.0</td>\n",
       "      <td>1.607768</td>\n",
       "    </tr>\n",
       "    <tr>\n",
       "      <th>1</th>\n",
       "      <td>0.0</td>\n",
       "      <td>0.0</td>\n",
       "      <td>0.0</td>\n",
       "      <td>0.864890</td>\n",
       "      <td>0.0</td>\n",
       "      <td>0.0</td>\n",
       "      <td>0.000000</td>\n",
       "      <td>0.00000</td>\n",
       "      <td>0.864890</td>\n",
       "      <td>1160.084533</td>\n",
       "      <td>...</td>\n",
       "      <td>0.0</td>\n",
       "      <td>0.576593</td>\n",
       "      <td>0.0</td>\n",
       "      <td>0.0</td>\n",
       "      <td>0.0</td>\n",
       "      <td>0.000000</td>\n",
       "      <td>0.0</td>\n",
       "      <td>0.0</td>\n",
       "      <td>0.0</td>\n",
       "      <td>0.000000</td>\n",
       "    </tr>\n",
       "    <tr>\n",
       "      <th>2</th>\n",
       "      <td>0.0</td>\n",
       "      <td>0.0</td>\n",
       "      <td>0.0</td>\n",
       "      <td>41.414354</td>\n",
       "      <td>0.0</td>\n",
       "      <td>0.0</td>\n",
       "      <td>0.000000</td>\n",
       "      <td>0.00000</td>\n",
       "      <td>3.171264</td>\n",
       "      <td>89.959246</td>\n",
       "      <td>...</td>\n",
       "      <td>0.0</td>\n",
       "      <td>45.040485</td>\n",
       "      <td>0.0</td>\n",
       "      <td>0.0</td>\n",
       "      <td>0.0</td>\n",
       "      <td>0.000000</td>\n",
       "      <td>0.0</td>\n",
       "      <td>0.0</td>\n",
       "      <td>0.0</td>\n",
       "      <td>3.459560</td>\n",
       "    </tr>\n",
       "    <tr>\n",
       "      <th>3</th>\n",
       "      <td>0.0</td>\n",
       "      <td>0.0</td>\n",
       "      <td>0.0</td>\n",
       "      <td>4.324450</td>\n",
       "      <td>0.0</td>\n",
       "      <td>0.0</td>\n",
       "      <td>1.153187</td>\n",
       "      <td>0.00000</td>\n",
       "      <td>3.171264</td>\n",
       "      <td>407.068522</td>\n",
       "      <td>...</td>\n",
       "      <td>0.0</td>\n",
       "      <td>0.000000</td>\n",
       "      <td>0.0</td>\n",
       "      <td>0.0</td>\n",
       "      <td>0.0</td>\n",
       "      <td>2.306374</td>\n",
       "      <td>0.0</td>\n",
       "      <td>0.0</td>\n",
       "      <td>0.0</td>\n",
       "      <td>0.576593</td>\n",
       "    </tr>\n",
       "    <tr>\n",
       "      <th>4</th>\n",
       "      <td>0.0</td>\n",
       "      <td>0.0</td>\n",
       "      <td>0.0</td>\n",
       "      <td>4.901044</td>\n",
       "      <td>0.0</td>\n",
       "      <td>0.0</td>\n",
       "      <td>0.000000</td>\n",
       "      <td>0.86489</td>\n",
       "      <td>3.747857</td>\n",
       "      <td>2512.988300</td>\n",
       "      <td>...</td>\n",
       "      <td>0.0</td>\n",
       "      <td>1.441483</td>\n",
       "      <td>0.0</td>\n",
       "      <td>0.0</td>\n",
       "      <td>0.0</td>\n",
       "      <td>2.882967</td>\n",
       "      <td>0.0</td>\n",
       "      <td>0.0</td>\n",
       "      <td>0.0</td>\n",
       "      <td>0.000000</td>\n",
       "    </tr>\n",
       "    <tr>\n",
       "      <th>...</th>\n",
       "      <td>...</td>\n",
       "      <td>...</td>\n",
       "      <td>...</td>\n",
       "      <td>...</td>\n",
       "      <td>...</td>\n",
       "      <td>...</td>\n",
       "      <td>...</td>\n",
       "      <td>...</td>\n",
       "      <td>...</td>\n",
       "      <td>...</td>\n",
       "      <td>...</td>\n",
       "      <td>...</td>\n",
       "      <td>...</td>\n",
       "      <td>...</td>\n",
       "      <td>...</td>\n",
       "      <td>...</td>\n",
       "      <td>...</td>\n",
       "      <td>...</td>\n",
       "      <td>...</td>\n",
       "      <td>...</td>\n",
       "      <td>...</td>\n",
       "    </tr>\n",
       "    <tr>\n",
       "      <th>295</th>\n",
       "      <td>0.0</td>\n",
       "      <td>0.0</td>\n",
       "      <td>0.0</td>\n",
       "      <td>69.388074</td>\n",
       "      <td>0.0</td>\n",
       "      <td>0.0</td>\n",
       "      <td>0.000000</td>\n",
       "      <td>0.00000</td>\n",
       "      <td>3532.054072</td>\n",
       "      <td>0.814556</td>\n",
       "      <td>...</td>\n",
       "      <td>0.0</td>\n",
       "      <td>1.900630</td>\n",
       "      <td>0.0</td>\n",
       "      <td>0.0</td>\n",
       "      <td>0.0</td>\n",
       "      <td>0.000000</td>\n",
       "      <td>0.0</td>\n",
       "      <td>0.0</td>\n",
       "      <td>0.0</td>\n",
       "      <td>0.000000</td>\n",
       "    </tr>\n",
       "    <tr>\n",
       "      <th>296</th>\n",
       "      <td>0.0</td>\n",
       "      <td>0.0</td>\n",
       "      <td>0.0</td>\n",
       "      <td>8.435176</td>\n",
       "      <td>0.0</td>\n",
       "      <td>0.0</td>\n",
       "      <td>0.000000</td>\n",
       "      <td>0.00000</td>\n",
       "      <td>1112.789610</td>\n",
       "      <td>203.735452</td>\n",
       "      <td>...</td>\n",
       "      <td>0.0</td>\n",
       "      <td>0.814556</td>\n",
       "      <td>0.0</td>\n",
       "      <td>0.0</td>\n",
       "      <td>0.0</td>\n",
       "      <td>0.000000</td>\n",
       "      <td>0.0</td>\n",
       "      <td>0.0</td>\n",
       "      <td>0.0</td>\n",
       "      <td>0.000000</td>\n",
       "    </tr>\n",
       "    <tr>\n",
       "      <th>297</th>\n",
       "      <td>0.0</td>\n",
       "      <td>0.0</td>\n",
       "      <td>0.0</td>\n",
       "      <td>1.357593</td>\n",
       "      <td>0.0</td>\n",
       "      <td>0.0</td>\n",
       "      <td>0.000000</td>\n",
       "      <td>0.00000</td>\n",
       "      <td>0.271519</td>\n",
       "      <td>51.317006</td>\n",
       "      <td>...</td>\n",
       "      <td>0.0</td>\n",
       "      <td>47.781231</td>\n",
       "      <td>0.0</td>\n",
       "      <td>0.0</td>\n",
       "      <td>0.0</td>\n",
       "      <td>0.000000</td>\n",
       "      <td>0.0</td>\n",
       "      <td>0.0</td>\n",
       "      <td>0.0</td>\n",
       "      <td>0.000000</td>\n",
       "    </tr>\n",
       "    <tr>\n",
       "      <th>298</th>\n",
       "      <td>0.0</td>\n",
       "      <td>0.0</td>\n",
       "      <td>0.0</td>\n",
       "      <td>0.814556</td>\n",
       "      <td>0.0</td>\n",
       "      <td>0.0</td>\n",
       "      <td>0.000000</td>\n",
       "      <td>0.00000</td>\n",
       "      <td>0.814556</td>\n",
       "      <td>943.311754</td>\n",
       "      <td>...</td>\n",
       "      <td>0.0</td>\n",
       "      <td>11.150362</td>\n",
       "      <td>0.0</td>\n",
       "      <td>0.0</td>\n",
       "      <td>0.0</td>\n",
       "      <td>0.000000</td>\n",
       "      <td>0.0</td>\n",
       "      <td>0.0</td>\n",
       "      <td>0.0</td>\n",
       "      <td>0.000000</td>\n",
       "    </tr>\n",
       "    <tr>\n",
       "      <th>299</th>\n",
       "      <td>0.0</td>\n",
       "      <td>0.0</td>\n",
       "      <td>0.0</td>\n",
       "      <td>13.467320</td>\n",
       "      <td>0.0</td>\n",
       "      <td>0.0</td>\n",
       "      <td>0.000000</td>\n",
       "      <td>0.00000</td>\n",
       "      <td>4.072778</td>\n",
       "      <td>119.872422</td>\n",
       "      <td>...</td>\n",
       "      <td>0.0</td>\n",
       "      <td>7.874038</td>\n",
       "      <td>0.0</td>\n",
       "      <td>0.0</td>\n",
       "      <td>0.0</td>\n",
       "      <td>0.000000</td>\n",
       "      <td>0.0</td>\n",
       "      <td>0.0</td>\n",
       "      <td>0.0</td>\n",
       "      <td>0.000000</td>\n",
       "    </tr>\n",
       "  </tbody>\n",
       "</table>\n",
       "<p>300 rows × 171 columns</p>\n",
       "</div>"
      ],
      "text/plain": [
       "     ABHAY PATEL  ALEX MERCED  ALLEN BUCKLEY  AMY KLOBUCHAR  ANN KIRKPATRICK  \\\n",
       "0            0.0          0.0            0.0       0.643107              0.0   \n",
       "1            0.0          0.0            0.0       0.864890              0.0   \n",
       "2            0.0          0.0            0.0      41.414354              0.0   \n",
       "3            0.0          0.0            0.0       4.324450              0.0   \n",
       "4            0.0          0.0            0.0       4.901044              0.0   \n",
       "..           ...          ...            ...            ...              ...   \n",
       "295          0.0          0.0            0.0      69.388074              0.0   \n",
       "296          0.0          0.0            0.0       8.435176              0.0   \n",
       "297          0.0          0.0            0.0       1.357593              0.0   \n",
       "298          0.0          0.0            0.0       0.814556              0.0   \n",
       "299          0.0          0.0            0.0      13.467320              0.0   \n",
       "\n",
       "     ARN MENCONI  ARVIN VOHRA  BARRY MICHAELS   BEN CARDIN  BERNIE SANDERS  \\\n",
       "0            0.0     0.000000         0.00000     0.964661       60.447298   \n",
       "1            0.0     0.000000         0.00000     0.864890     1160.084533   \n",
       "2            0.0     0.000000         0.00000     3.171264       89.959246   \n",
       "3            0.0     1.153187         0.00000     3.171264      407.068522   \n",
       "4            0.0     0.000000         0.86489     3.747857     2512.988300   \n",
       "..           ...          ...             ...          ...             ...   \n",
       "295          0.0     0.000000         0.00000  3532.054072        0.814556   \n",
       "296          0.0     0.000000         0.00000  1112.789610      203.735452   \n",
       "297          0.0     0.000000         0.00000     0.271519       51.317006   \n",
       "298          0.0     0.000000         0.00000     0.814556      943.311754   \n",
       "299          0.0     0.000000         0.00000     4.072778      119.872422   \n",
       "\n",
       "     ...  TIMOTHY M. KAINE  TINA SMITH  TODD C. YOUNG  TOM CONNORS  TOM JONES  \\\n",
       "0    ...               0.0   45.258062            0.0          0.0        0.0   \n",
       "1    ...               0.0    0.576593            0.0          0.0        0.0   \n",
       "2    ...               0.0   45.040485            0.0          0.0        0.0   \n",
       "3    ...               0.0    0.000000            0.0          0.0        0.0   \n",
       "4    ...               0.0    1.441483            0.0          0.0        0.0   \n",
       "..   ...               ...         ...            ...          ...        ...   \n",
       "295  ...               0.0    1.900630            0.0          0.0        0.0   \n",
       "296  ...               0.0    0.814556            0.0          0.0        0.0   \n",
       "297  ...               0.0   47.781231            0.0          0.0        0.0   \n",
       "298  ...               0.0   11.150362            0.0          0.0        0.0   \n",
       "299  ...               0.0    7.874038            0.0          0.0        0.0   \n",
       "\n",
       "     TONY CAMPBELL  TROY HEBERT  WENDY LONG  WILLIAM ROBERT LANG, JR.  \\\n",
       "0         0.000000          0.0         0.0                       0.0   \n",
       "1         0.000000          0.0         0.0                       0.0   \n",
       "2         0.000000          0.0         0.0                       0.0   \n",
       "3         2.306374          0.0         0.0                       0.0   \n",
       "4         2.882967          0.0         0.0                       0.0   \n",
       "..             ...          ...         ...                       ...   \n",
       "295       0.000000          0.0         0.0                       0.0   \n",
       "296       0.000000          0.0         0.0                       0.0   \n",
       "297       0.000000          0.0         0.0                       0.0   \n",
       "298       0.000000          0.0         0.0                       0.0   \n",
       "299       0.000000          0.0         0.0                       0.0   \n",
       "\n",
       "     ZAK RINGELSTEIN  \n",
       "0           1.607768  \n",
       "1           0.000000  \n",
       "2           3.459560  \n",
       "3           0.576593  \n",
       "4           0.000000  \n",
       "..               ...  \n",
       "295         0.000000  \n",
       "296         0.000000  \n",
       "297         0.000000  \n",
       "298         0.000000  \n",
       "299         0.000000  \n",
       "\n",
       "[300 rows x 171 columns]"
      ]
     },
     "execution_count": 54,
     "metadata": {},
     "output_type": "execute_result"
    }
   ],
   "source": [
    "# rebuild our feature vectors\n",
    "\n",
    "candidate_quotes_cluster_feature_filted = pd.DataFrame(np.zeros([feature_length,len(candidate_name_filted)]), columns=candidate_name_filted)\n",
    "\n",
    "for candidate in candidate_name_filted:\n",
    "    candidate_quotes_timespan = quotes_timespan_byday[candidate]\n",
    "    for days in candidate_quotes_timespan.index:\n",
    "        candidate_quotes_cluster_feature_filted[candidate].iloc[days] = candidate_quotes_timespan.loc[days]\n",
    "        \n",
    "candidate_quotes_cluster_feature_filted"
   ]
  },
  {
   "cell_type": "code",
   "execution_count": 55,
   "id": "ac4d85e3",
   "metadata": {},
   "outputs": [
    {
     "data": {
      "text/plain": [
       "<matplotlib.collections.PathCollection at 0x1e2179970>"
      ]
     },
     "execution_count": 55,
     "metadata": {},
     "output_type": "execute_result"
    },
    {
     "data": {
      "image/png": "[encoded data removed]",
      "text/plain": [
       "<Figure size 432x288 with 1 Axes>"
      ]
     },
     "metadata": {
      "needs_background": "light"
     },
     "output_type": "display_data"
    }
   ],
   "source": [
    "# PCA visualization\n",
    "candidate_feature_vectors = candidate_quotes_cluster_feature_filted.to_numpy().T\n",
    "candidate_feature_vectors/=np.linalg.norm(candidate_feature_vectors,axis=1)[:,np.newaxis]\n",
    "reduced_feature_PCA = PCA(n_components=2).fit(candidate_feature_vectors).transform(candidate_feature_vectors)\n",
    "\n",
    "plt.scatter(reduced_feature_PCA[:,0],reduced_feature_PCA[:,1], alpha=0.5)"
   ]
  },
  {
   "cell_type": "code",
   "execution_count": 56,
   "id": "8e0ff0e7",
   "metadata": {},
   "outputs": [
    {
     "data": {
      "text/plain": [
       "[<matplotlib.lines.Line2D at 0x1e21b00d0>]"
      ]
     },
     "execution_count": 56,
     "metadata": {},
     "output_type": "execute_result"
    },
    {
     "data": {
      "image/png": "[encoded data removed]",
      "text/plain": [
       "<Figure size 432x288 with 1 Axes>"
      ]
     },
     "metadata": {
      "needs_background": "light"
     },
     "output_type": "display_data"
    }
   ],
   "source": [
    "# find the optimal cluster number\n",
    "silhouettes=[]\n",
    "for n_clusters in range(2,10):\n",
    "    labels = KMeans(n_clusters=n_clusters).fit_predict(reduced_feature_PCA)\n",
    "    score = silhouette_score(reduced_feature_PCA,labels)\n",
    "    silhouettes.append(score)\n",
    "    \n",
    "plt.plot(range(2,10),silhouettes)"
   ]
  },
  {
   "cell_type": "code",
   "execution_count": 57,
   "id": "272f0dba",
   "metadata": {},
   "outputs": [
    {
     "data": {
      "text/plain": [
       "<matplotlib.collections.PathCollection at 0x1e2134ac0>"
      ]
     },
     "execution_count": 57,
     "metadata": {},
     "output_type": "execute_result"
    },
    {
     "data": {
      "image/png": "[encoded data removed]",
      "text/plain": [
       "<Figure size 432x288 with 1 Axes>"
      ]
     },
     "metadata": {
      "needs_background": "light"
     },
     "output_type": "display_data"
    }
   ],
   "source": [
    "n_clusters = 2\n",
    "labels = KMeans(n_clusters=n_clusters).fit_predict(reduced_feature_PCA)\n",
    "plt.scatter(reduced_feature_PCA[:,0],reduced_feature_PCA[:,1], alpha=0.5,c=labels)"
   ]
  },
  {
   "cell_type": "code",
   "execution_count": 58,
   "id": "de08da42",
   "metadata": {},
   "outputs": [
    {
     "name": "stdout",
     "output_type": "stream",
     "text": [
      "166 candidates in type 0: Index(['A. WAYNE JOHNSON', 'AARON JAMES', 'ABHAY PATEL', 'AL GROSS',\n",
      "       'ALEX MERCED', 'ALLEN BUCKLEY', 'AMY KLOBUCHAR', 'AMY MCGRATH',\n",
      "       'ANN KIRKPATRICK', 'ARN MENCONI',\n",
      "       ...\n",
      "       'MITCH MCCONNELL', 'MITT ROMNEY', 'MOHAMMAD \"MIKE OBAMA\" ARIF',\n",
      "       'MURRAY SABRIN', 'NEAL SIMON', 'PATRICK \"PAT\" THOMAS',\n",
      "       'PATRICK J. LEAHY', 'PATRICK J. TOOMEY', 'PATRICK MORRISEY',\n",
      "       'PATRICK MURPHY'],\n",
      "      dtype='object', length=166)\n",
      "5 candidates in type 1: Index(['BOB WALSH', 'JEFF RUSSELL', 'JERRY STURGILL', 'JOHNNY ISAKSON',\n",
      "       'MARK KIRK'],\n",
      "      dtype='object')\n"
     ]
    }
   ],
   "source": [
    "# again we show the candidates of each cluster\n",
    "for candidate_type in range(0,n_clusters):\n",
    "    print('{} candidates in type {}: {}'.format(np.where(labels==candidate_type)[0].shape[0],candidate_type,candidate_name[np.where(labels==candidate_type)]))"
   ]
  },
  {
   "cell_type": "code",
   "execution_count": 59,
   "id": "4728806d",
   "metadata": {},
   "outputs": [
    {
     "data": {
      "image/png": "[encoded data removed]",
      "text/plain": [
       "<Figure size 1800x360 with 2 Axes>"
      ]
     },
     "metadata": {
      "needs_background": "light"
     },
     "output_type": "display_data"
    }
   ],
   "source": [
    "# use simple average to visualize the pattern of each cluster\n",
    "fig, axs = plt.subplots(1,n_clusters, figsize=(25,5))\n",
    "for candidate_type in range(0,n_clusters):\n",
    "    axs[candidate_type].plot(range(0,feature_length), np.mean(candidate_feature_vectors[np.where(labels==candidate_type)], axis=0))\n",
    "    axs[candidate_type].set_title('type {}'.format(candidate_type))\n",
    "    axs[candidate_type].set_xlabel('days before election')"
   ]
  },
  {
   "cell_type": "markdown",
   "id": "96e6534b",
   "metadata": {},
   "source": [
    "We also noticed that for most candidates, their quotation number of each day is relatively sparse. That's why we have those huge oscillations in type 0. KMeans also tend to fail in high dimensions. So it is reasonable to discretize our feature vectors by aggregating monthly quotations. Here we sum the weighted quotation number of each 30 days."
   ]
  },
  {
   "cell_type": "code",
   "execution_count": 60,
   "id": "893bb305",
   "metadata": {},
   "outputs": [],
   "source": [
    "# sum for each 30 day\n",
    "candidate_feature_vectors = candidate_quotes_cluster_feature_filted.to_numpy().T\n",
    "candidate_feature_vectors/=np.linalg.norm(candidate_feature_vectors,axis=1)[:,np.newaxis]\n",
    "candidate_feature_vectors_sum = np.array(np.split(candidate_feature_vectors,10, axis=1)).sum(axis=2).T"
   ]
  },
  {
   "cell_type": "code",
   "execution_count": 61,
   "id": "70f8efaf",
   "metadata": {},
   "outputs": [
    {
     "data": {
      "text/plain": [
       "<matplotlib.collections.PathCollection at 0x1e105efd0>"
      ]
     },
     "execution_count": 61,
     "metadata": {},
     "output_type": "execute_result"
    },
    {
     "data": {
      "image/png": "[encoded data removed]",
      "text/plain": [
       "<Figure size 432x288 with 1 Axes>"
      ]
     },
     "metadata": {
      "needs_background": "light"
     },
     "output_type": "display_data"
    }
   ],
   "source": [
    "# PCA visualization\n",
    "reduced_feature_PCA = PCA(n_components=2).fit(candidate_feature_vectors_sum).transform(candidate_feature_vectors_sum)\n",
    "\n",
    "plt.scatter(reduced_feature_PCA[:,0],reduced_feature_PCA[:,1], alpha=0.5)"
   ]
  },
  {
   "cell_type": "code",
   "execution_count": 62,
   "id": "d0236198",
   "metadata": {},
   "outputs": [
    {
     "data": {
      "text/plain": [
       "Text(0.5, 0, 'n_clusters')"
      ]
     },
     "execution_count": 62,
     "metadata": {},
     "output_type": "execute_result"
    },
    {
     "data": {
      "image/png": "[encoded data removed]",
      "text/plain": [
       "<Figure size 432x288 with 1 Axes>"
      ]
     },
     "metadata": {
      "needs_background": "light"
     },
     "output_type": "display_data"
    }
   ],
   "source": [
    "# find the optimal cluster number\n",
    "silhouettes=[]\n",
    "for n_clusters in range(2,10):\n",
    "    labels = KMeans(n_clusters=n_clusters).fit_predict(reduced_feature_PCA)\n",
    "    score = silhouette_score(reduced_feature_PCA,labels)\n",
    "    silhouettes.append(score)\n",
    "    \n",
    "plt.plot(range(2,10),silhouettes)\n",
    "plt.xlabel('n_clusters')"
   ]
  },
  {
   "cell_type": "code",
   "execution_count": 96,
   "id": "9d349d84",
   "metadata": {},
   "outputs": [
    {
     "data": {
      "text/plain": [
       "Text(0, 0.5, 'PCA Dimension 1')"
      ]
     },
     "execution_count": 96,
     "metadata": {},
     "output_type": "execute_result"
    },
    {
     "data": {
      "image/png": "[encoded data removed]",
      "text/plain": [
       "<Figure size 432x288 with 1 Axes>"
      ]
     },
     "metadata": {
      "needs_background": "light"
     },
     "output_type": "display_data"
    }
   ],
   "source": [
    "# KMeans Clustering\n",
    "n_clusters = 3\n",
    "labels = KMeans(n_clusters=n_clusters).fit_predict(reduced_feature_PCA)\n",
    "plt.scatter(reduced_feature_PCA[:,0],reduced_feature_PCA[:,1], alpha=0.5,c=labels)\n",
    "plt.xlabel('PCA Dimension 0')\n",
    "plt.ylabel('PCA Dimension 1')"
   ]
  },
  {
   "cell_type": "code",
   "execution_count": 64,
   "id": "63014d57",
   "metadata": {},
   "outputs": [
    {
     "data": {
      "image/png": "[encoded data removed]",
      "text/plain": [
       "<Figure size 1440x360 with 3 Axes>"
      ]
     },
     "metadata": {
      "needs_background": "light"
     },
     "output_type": "display_data"
    }
   ],
   "source": [
    "# Visualize the centroids of three clusters\n",
    "fig, axs = plt.subplots(1,n_clusters, figsize=(20,5))\n",
    "for candidate_type in range(0,n_clusters):\n",
    "    axs[candidate_type].plot(range(0,10), np.mean(candidate_feature_vectors_sum[np.where(labels==candidate_type)], axis=0))\n",
    "    axs[candidate_type].set_title('type {}'.format(candidate_type))\n",
    "    axs[candidate_type].set_xlabel('months before election')\n",
    "    axs[candidate_type].set_ylabel('normalized quotes')"
   ]
  },
  {
   "cell_type": "markdown",
   "id": "0e460c36",
   "metadata": {},
   "source": [
    "We see three types of exposure gaining: politicians in type 0 have several peaks of quotations before the election; politicians in type 1 have one major peak within a month before the election; and politicians in type 2 have one major peak roughly 1-2 months before the election. We look at who are in which cluster."
   ]
  },
  {
   "cell_type": "code",
   "execution_count": 65,
   "id": "cd10a8fd",
   "metadata": {},
   "outputs": [
    {
     "name": "stdout",
     "output_type": "stream",
     "text": [
      "113 candidates in type 0: Index(['ABHAY PATEL', 'ALEX MERCED', 'ALLEN BUCKLEY', 'ANN KIRKPATRICK',\n",
      "       'ARN MENCONI', 'ARVIN VOHRA', 'BARRY MICHAELS', 'BEN CARDIN',\n",
      "       'BRAD J. PEACOCK', 'BRIAN SCHATZ',\n",
      "       ...\n",
      "       'THOMAS R CARPER', 'TIM HAGAN', 'TIM SCOTT', 'TIMOTHY M. KAINE',\n",
      "       'TOM JONES', 'TONY CAMPBELL', 'TROY HEBERT', 'WENDY LONG',\n",
      "       'WILLIAM ROBERT LANG, JR.', 'ZAK RINGELSTEIN'],\n",
      "      dtype='object', length=113)\n",
      "35 candidates in type 1: Index(['BERNIE SANDERS', 'BETO O'ROURKE', 'BILL NELSON', 'BOB HUGIN',\n",
      "       'CHELE CHIAVACCI FARLEY', 'CLAIRE MCCASKILL', 'DEAN HELLER',\n",
      "       'ELIZABETH A. WARREN', 'ERIC L. BRAKEY', 'HEIDI HEITKAMP',\n",
      "       'JACKY ROSEN', 'JIM NEWBERGER', 'JOE DONNELLY', 'JOE MANCHIN',\n",
      "       'JOHN BARRASSO', 'JOHN JAMES', 'JON TESTER', 'JOSH HAWLEY',\n",
      "       'KARIN HOUSLEY', 'KEVIN CRAMER', 'KIRSTEN E. GILLIBRAND',\n",
      "       'KYRSTEN SINEMA', 'LEAH VUKMIR', 'MARSHA BLACKBURN', 'MARTHA MCSALLY',\n",
      "       'MITT ROMNEY', 'MURRAY SABRIN', 'PATRICK MORRISEY', 'PHIL BREDESEN',\n",
      "       'RICK SCOTT', 'ROBERT MENENDEZ', 'SHERROD BROWN', 'TAMMY BALDWIN',\n",
      "       'TED CRUZ', 'TINA SMITH'],\n",
      "      dtype='object')\n",
      "23 candidates in type 2: Index(['AMY KLOBUCHAR', 'CAROLINE FAYARD', 'CATHERINE CORTEZ MASTO',\n",
      "       'CHRISTOPHER S MURPHY', 'DIANNE FEINSTEIN', 'FOSTER CAMPBELL',\n",
      "       'GARY E JOHNSON', 'JASON KANDER', 'JERRY STURGILL', 'JIM BARKSDALE',\n",
      "       'JOHN CARROLL', 'JOHN FLEMING', 'LILY TANG WILLIAMS', 'MAZIE K. HIRONO',\n",
      "       'PAUL STANTON', 'PETER WILLIAMS', 'RICHARD BLUMENTHAL',\n",
      "       'RICHARD C. SHELBY', 'ROBERT T. MURPHY', 'SHELDON WHITEHOUSE',\n",
      "       'STEVEN MACHAT', 'TODD C. YOUNG', 'TOM CONNORS'],\n",
      "      dtype='object')\n"
     ]
    }
   ],
   "source": [
    "# Display candidate names in each cluster\n",
    "for candidate_type in range(0,n_clusters):\n",
    "    print('{} candidates in type {}: {}'.format(np.where(labels==candidate_type)[0].shape[0],candidate_type,candidate_name_filted[np.where(labels==candidate_type)]))"
   ]
  },
  {
   "cell_type": "markdown",
   "id": "bcdb5694",
   "metadata": {},
   "source": [
    "We pick three examples candidate to visualize."
   ]
  },
  {
   "cell_type": "code",
   "execution_count": 92,
   "id": "95e19491",
   "metadata": {},
   "outputs": [
    {
     "data": {
      "image/png": "[encoded data removed]",
      "text/plain": [
       "<Figure size 1440x360 with 3 Axes>"
      ]
     },
     "metadata": {
      "needs_background": "light"
     },
     "output_type": "display_data"
    }
   ],
   "source": [
    "# Visualize three example candidates\n",
    "fig, axs = plt.subplots(1,n_clusters, figsize=(20,5))\n",
    "sample_candidates = ['Allen Buckley', 'Kevin Cramer', 'Dianne Feinstein'] # we select a candidate from each type\n",
    "for i, candidate in enumerate(sample_candidates):\n",
    "    candidate_quotes_cluster_feature_filted[candidate.upper()].rolling(window=30).sum().plot(ax=axs[i])\n",
    "    axs[i].set_title('{}, Example of Type {}'.format(candidate, i))\n",
    "    axs[i].set_xlabel('days before election')\n",
    "    axs[i].set_ylabel('L2 normalized quotes')"
   ]
  },
  {
   "cell_type": "markdown",
   "id": "b5a01e76",
   "metadata": {},
   "source": [
    "**3.3** Finally, we ask if the three types of quotations have different vote result."
   ]
  },
  {
   "cell_type": "code",
   "execution_count": 69,
   "id": "dabe5482-7ef7-473e-a82f-b35ead549c83",
   "metadata": {},
   "outputs": [],
   "source": [
    "# Extract the vote rate of candidates assigned to each cluster\n",
    "voterate_type0 = candidate_info_byname.loc[candidate_name_filted[np.where(labels==0)]]['vote_rate']\n",
    "voterate_type1 = candidate_info_byname.loc[candidate_name_filted[np.where(labels==1)]]['vote_rate']\n",
    "voterate_type2 = candidate_info_byname.loc[candidate_name_filted[np.where(labels==2)]]['vote_rate']"
   ]
  },
  {
   "cell_type": "code",
   "execution_count": 93,
   "id": "88126cfb-54bd-4e49-95ce-f2bfe0abdabf",
   "metadata": {},
   "outputs": [
    {
     "data": {
      "text/plain": [
       "Text(0, 0.5, 'vote rate')"
      ]
     },
     "execution_count": 93,
     "metadata": {},
     "output_type": "execute_result"
    },
    {
     "data": {
      "image/png": "[encoded data removed]",
      "text/plain": [
       "<Figure size 432x288 with 1 Axes>"
      ]
     },
     "metadata": {
      "needs_background": "light"
     },
     "output_type": "display_data"
    }
   ],
   "source": [
    "# Use boxplot to visualize vote rate distribution of each cluster\n",
    "plt.boxplot([voterate_type0.to_numpy(),voterate_type1.to_numpy(),voterate_type2.to_numpy()])\n",
    "plt.xticks([1, 2, 3], ['type0', 'type1', 'type2'])\n",
    "plt.ylabel('vote rate')"
   ]
  },
  {
   "cell_type": "code",
   "execution_count": 71,
   "id": "e56f46e2-0c59-403c-9fc2-bcf75937fa2e",
   "metadata": {},
   "outputs": [
    {
     "name": "stdout",
     "output_type": "stream",
     "text": [
      "Ttest_indResult(statistic=-3.5554217588675883, pvalue=0.0005090308639396297)\n",
      "Ttest_indResult(statistic=0.3958945279886066, pvalue=0.6928124741628414)\n",
      "Ttest_indResult(statistic=3.4156442755250054, pvalue=0.0011906388893072695)\n"
     ]
    }
   ],
   "source": [
    "# Test whether the mean vote rate of different clusters are significantly different\n",
    "from scipy.stats import ttest_ind\n",
    "print(ttest_ind(voterate_type0.to_numpy(),voterate_type1.to_numpy()))\n",
    "print(ttest_ind(voterate_type0.to_numpy(),voterate_type2.to_numpy()))\n",
    "print(ttest_ind(voterate_type1.to_numpy(),voterate_type2.to_numpy()))"
   ]
  },
  {
   "cell_type": "markdown",
   "id": "604b01f4-2027-4bd2-a3dd-dacdc2329c2c",
   "metadata": {},
   "source": [
    "The vote rate of type 1 is significantly higher than other types. The major quotation peak right before the election may indicate that the last month is crucial in the election campaign."
   ]
  },
  {
   "cell_type": "markdown",
   "id": "1a29c6f1",
   "metadata": {},
   "source": [
    "# 4. Prediction Model\n",
    "In this section, we will try to build the prediction model that uses the senate quotation data to predict election result.\n",
    "\n",
    "**4.1:** First, we label the data by whether the candidate win the election in a new column 'is_winner'"
   ]
  },
  {
   "cell_type": "code",
   "execution_count": 72,
   "id": "8b989331",
   "metadata": {},
   "outputs": [
    {
     "data": {
      "text/html": [
       "<div>\n",
       "<style scoped>\n",
       "    .dataframe tbody tr th:only-of-type {\n",
       "        vertical-align: middle;\n",
       "    }\n",
       "\n",
       "    .dataframe tbody tr th {\n",
       "        vertical-align: top;\n",
       "    }\n",
       "\n",
       "    .dataframe thead th {\n",
       "        text-align: right;\n",
       "    }\n",
       "</style>\n",
       "<table border=\"1\" class=\"dataframe\">\n",
       "  <thead>\n",
       "    <tr style=\"text-align: right;\">\n",
       "      <th></th>\n",
       "      <th>year</th>\n",
       "      <th>state</th>\n",
       "      <th>state_po</th>\n",
       "      <th>state_fips</th>\n",
       "      <th>state_cen</th>\n",
       "      <th>state_ic</th>\n",
       "      <th>office</th>\n",
       "      <th>district</th>\n",
       "      <th>stage</th>\n",
       "      <th>special</th>\n",
       "      <th>candidate</th>\n",
       "      <th>party_detailed</th>\n",
       "      <th>writein</th>\n",
       "      <th>mode</th>\n",
       "      <th>candidatevotes</th>\n",
       "      <th>totalvotes</th>\n",
       "      <th>unofficial</th>\n",
       "      <th>version</th>\n",
       "      <th>party_simplified</th>\n",
       "      <th>is_winner</th>\n",
       "    </tr>\n",
       "  </thead>\n",
       "  <tbody>\n",
       "    <tr>\n",
       "      <th>1</th>\n",
       "      <td>2016</td>\n",
       "      <td>ALABAMA</td>\n",
       "      <td>AL</td>\n",
       "      <td>1</td>\n",
       "      <td>63</td>\n",
       "      <td>41</td>\n",
       "      <td>US SENATE</td>\n",
       "      <td>statewide</td>\n",
       "      <td>gen</td>\n",
       "      <td>False</td>\n",
       "      <td>RICHARD C. SHELBY</td>\n",
       "      <td>REPUBLICAN</td>\n",
       "      <td>False</td>\n",
       "      <td>total</td>\n",
       "      <td>1335104</td>\n",
       "      <td>2087444</td>\n",
       "      <td>False</td>\n",
       "      <td>20210114</td>\n",
       "      <td>REPUBLICAN</td>\n",
       "      <td>True</td>\n",
       "    </tr>\n",
       "    <tr>\n",
       "      <th>7</th>\n",
       "      <td>2016</td>\n",
       "      <td>ALASKA</td>\n",
       "      <td>AK</td>\n",
       "      <td>2</td>\n",
       "      <td>94</td>\n",
       "      <td>81</td>\n",
       "      <td>US SENATE</td>\n",
       "      <td>statewide</td>\n",
       "      <td>gen</td>\n",
       "      <td>False</td>\n",
       "      <td>LISA MURKOWSKI</td>\n",
       "      <td>REPUBLICAN</td>\n",
       "      <td>False</td>\n",
       "      <td>total</td>\n",
       "      <td>138149</td>\n",
       "      <td>311441</td>\n",
       "      <td>False</td>\n",
       "      <td>20210114</td>\n",
       "      <td>REPUBLICAN</td>\n",
       "      <td>True</td>\n",
       "    </tr>\n",
       "    <tr>\n",
       "      <th>12</th>\n",
       "      <td>2016</td>\n",
       "      <td>ARIZONA</td>\n",
       "      <td>AZ</td>\n",
       "      <td>4</td>\n",
       "      <td>86</td>\n",
       "      <td>61</td>\n",
       "      <td>US SENATE</td>\n",
       "      <td>statewide</td>\n",
       "      <td>gen</td>\n",
       "      <td>False</td>\n",
       "      <td>JOHN MCCAIN</td>\n",
       "      <td>REPUBLICAN</td>\n",
       "      <td>False</td>\n",
       "      <td>total</td>\n",
       "      <td>1359267</td>\n",
       "      <td>2530730</td>\n",
       "      <td>False</td>\n",
       "      <td>20210114</td>\n",
       "      <td>REPUBLICAN</td>\n",
       "      <td>True</td>\n",
       "    </tr>\n",
       "    <tr>\n",
       "      <th>14</th>\n",
       "      <td>2016</td>\n",
       "      <td>ARKANSAS</td>\n",
       "      <td>AR</td>\n",
       "      <td>5</td>\n",
       "      <td>71</td>\n",
       "      <td>42</td>\n",
       "      <td>US SENATE</td>\n",
       "      <td>statewide</td>\n",
       "      <td>gen</td>\n",
       "      <td>False</td>\n",
       "      <td>JOHN BOOZMAN</td>\n",
       "      <td>REPUBLICAN</td>\n",
       "      <td>False</td>\n",
       "      <td>total</td>\n",
       "      <td>661984</td>\n",
       "      <td>1107522</td>\n",
       "      <td>False</td>\n",
       "      <td>20210114</td>\n",
       "      <td>REPUBLICAN</td>\n",
       "      <td>True</td>\n",
       "    </tr>\n",
       "    <tr>\n",
       "      <th>18</th>\n",
       "      <td>2016</td>\n",
       "      <td>CALIFORNIA</td>\n",
       "      <td>CA</td>\n",
       "      <td>6</td>\n",
       "      <td>93</td>\n",
       "      <td>71</td>\n",
       "      <td>US SENATE</td>\n",
       "      <td>statewide</td>\n",
       "      <td>gen</td>\n",
       "      <td>False</td>\n",
       "      <td>KAMALA D. HARRIS</td>\n",
       "      <td>DEMOCRAT</td>\n",
       "      <td>False</td>\n",
       "      <td>total</td>\n",
       "      <td>7542753</td>\n",
       "      <td>12244170</td>\n",
       "      <td>False</td>\n",
       "      <td>20210114</td>\n",
       "      <td>DEMOCRAT</td>\n",
       "      <td>True</td>\n",
       "    </tr>\n",
       "  </tbody>\n",
       "</table>\n",
       "</div>"
      ],
      "text/plain": [
       "    year       state state_po  state_fips  state_cen  state_ic     office  \\\n",
       "1   2016     ALABAMA       AL           1         63        41  US SENATE   \n",
       "7   2016      ALASKA       AK           2         94        81  US SENATE   \n",
       "12  2016     ARIZONA       AZ           4         86        61  US SENATE   \n",
       "14  2016    ARKANSAS       AR           5         71        42  US SENATE   \n",
       "18  2016  CALIFORNIA       CA           6         93        71  US SENATE   \n",
       "\n",
       "     district stage  special          candidate party_detailed  writein  \\\n",
       "1   statewide   gen    False  RICHARD C. SHELBY     REPUBLICAN    False   \n",
       "7   statewide   gen    False     LISA MURKOWSKI     REPUBLICAN    False   \n",
       "12  statewide   gen    False        JOHN MCCAIN     REPUBLICAN    False   \n",
       "14  statewide   gen    False       JOHN BOOZMAN     REPUBLICAN    False   \n",
       "18  statewide   gen    False   KAMALA D. HARRIS       DEMOCRAT    False   \n",
       "\n",
       "     mode  candidatevotes  totalvotes  unofficial   version party_simplified  \\\n",
       "1   total         1335104     2087444       False  20210114       REPUBLICAN   \n",
       "7   total          138149      311441       False  20210114       REPUBLICAN   \n",
       "12  total         1359267     2530730       False  20210114       REPUBLICAN   \n",
       "14  total          661984     1107522       False  20210114       REPUBLICAN   \n",
       "18  total         7542753    12244170       False  20210114         DEMOCRAT   \n",
       "\n",
       "    is_winner  \n",
       "1        True  \n",
       "7        True  \n",
       "12       True  \n",
       "14       True  \n",
       "18       True  "
      ]
     },
     "execution_count": 72,
     "metadata": {},
     "output_type": "execute_result"
    }
   ],
   "source": [
    "# Add 'is_winner' feature\n",
    "candidate_info['is_winner'] = False\n",
    "candidate_info.loc[candidate_info.groupby(['year', 'state'])['candidatevotes'].idxmax(), 'is_winner'] = True\n",
    "candidate_info[candidate_info['is_winner'] == True].head(5) # we display 5 winners"
   ]
  },
  {
   "cell_type": "markdown",
   "id": "7752d793",
   "metadata": {},
   "source": [
    "We notice that the dataset also contains situation in which more than one senate are elected in a state in the same year (such situations are officialy called special senate election in the U.S.). To find these special elections, we check whether the sum of candidate votes exceed the total number of votes. "
   ]
  },
  {
   "cell_type": "code",
   "execution_count": 73,
   "id": "58bec1cc",
   "metadata": {},
   "outputs": [
    {
     "data": {
      "text/plain": [
       "year  state      \n",
       "2018  MINNESOTA      False\n",
       "      MISSISSIPPI    False\n",
       "2020  GEORGIA        False\n",
       "dtype: bool"
      ]
     },
     "execution_count": 73,
     "metadata": {},
     "output_type": "execute_result"
    }
   ],
   "source": [
    "# Find the special situations\n",
    "sanity = candidate_info.groupby(['year', 'state'])['candidatevotes'].sum() <= candidate_info.groupby(['year', 'state'])['totalvotes'].mean()\n",
    "sanity[sanity == False]"
   ]
  },
  {
   "cell_type": "markdown",
   "id": "3e9ffeca",
   "metadata": {},
   "source": [
    "After manually looking at the dataset, we find two more winners: Tina Smith in 2018 Minnesota election and Cindy Hyde-Smith in 2018 MIssissippi election. The 2020 Georgia election held an additional runoff in 2021, in which Jon Ossof actually won the election. However, since QuoteBank only contains citations before April 2020, the data cannot reflect quotation changes before elections. We have decided not to include elections happening since 2020. So, we just add the two previously overlooked winners."
   ]
  },
  {
   "cell_type": "code",
   "execution_count": 74,
   "id": "4e551509",
   "metadata": {},
   "outputs": [],
   "source": [
    "# Add winners in special elections\n",
    "candidate_info.loc[candidate_info['candidate'] == 'TINA SMITH','is_winner'] = True\n",
    "candidate_info.loc[candidate_info['candidate'] == 'CINDY HYDE-SMITH','is_winner'] = True"
   ]
  },
  {
   "cell_type": "markdown",
   "id": "680e8130",
   "metadata": {},
   "source": [
    "**4.2:** we now generate features by concatenating the monthly discretized quotation data (defined in clustering section above) and affiliated party information (defined below)"
   ]
  },
  {
   "cell_type": "markdown",
   "id": "8ca88b18",
   "metadata": {},
   "source": [
    "Since affiliated party plays an important role in election, we  include the party affiliation of each candidate. For senate elction in each state, we also consider the affiliated party's vote rate in the most recent presidential election. Since we are looking at the senate election from 2016 to 2029, we will use the 2016 presidential election data.\n",
    "\n",
    "The presidential election data also comes from the MIT Election Data and Science Lab[2]. It contains the presidential election voting result by each state.\n",
    "\n",
    "[2]MIT Election Data and Science Lab, 2017, \"U.S. President 1976–2020\", https://doi.org/10.7910/DVN/42MVDX, Harvard Dataverse, V6."
   ]
  },
  {
   "cell_type": "code",
   "execution_count": 75,
   "id": "0d054640",
   "metadata": {},
   "outputs": [
    {
     "data": {
      "text/html": [
       "<div>\n",
       "<style scoped>\n",
       "    .dataframe tbody tr th:only-of-type {\n",
       "        vertical-align: middle;\n",
       "    }\n",
       "\n",
       "    .dataframe tbody tr th {\n",
       "        vertical-align: top;\n",
       "    }\n",
       "\n",
       "    .dataframe thead th {\n",
       "        text-align: right;\n",
       "    }\n",
       "</style>\n",
       "<table border=\"1\" class=\"dataframe\">\n",
       "  <thead>\n",
       "    <tr style=\"text-align: right;\">\n",
       "      <th></th>\n",
       "      <th>year</th>\n",
       "      <th>state</th>\n",
       "      <th>state_po</th>\n",
       "      <th>state_fips</th>\n",
       "      <th>state_cen</th>\n",
       "      <th>state_ic</th>\n",
       "      <th>office</th>\n",
       "      <th>candidate</th>\n",
       "      <th>party_detailed</th>\n",
       "      <th>writein</th>\n",
       "      <th>candidatevotes</th>\n",
       "      <th>totalvotes</th>\n",
       "      <th>version</th>\n",
       "      <th>notes</th>\n",
       "      <th>party_simplified</th>\n",
       "    </tr>\n",
       "  </thead>\n",
       "  <tbody>\n",
       "    <tr>\n",
       "      <th>3589</th>\n",
       "      <td>2016</td>\n",
       "      <td>NEBRASKA</td>\n",
       "      <td>NE</td>\n",
       "      <td>31</td>\n",
       "      <td>46</td>\n",
       "      <td>35</td>\n",
       "      <td>US PRESIDENT</td>\n",
       "      <td>NaN</td>\n",
       "      <td>NaN</td>\n",
       "      <td>True</td>\n",
       "      <td>16051</td>\n",
       "      <td>844227</td>\n",
       "      <td>20210113</td>\n",
       "      <td>NaN</td>\n",
       "      <td>OTHER</td>\n",
       "    </tr>\n",
       "    <tr>\n",
       "      <th>3587</th>\n",
       "      <td>2016</td>\n",
       "      <td>NEBRASKA</td>\n",
       "      <td>NE</td>\n",
       "      <td>31</td>\n",
       "      <td>46</td>\n",
       "      <td>35</td>\n",
       "      <td>US PRESIDENT</td>\n",
       "      <td>CLINTON, HILLARY</td>\n",
       "      <td>DEMOCRAT</td>\n",
       "      <td>False</td>\n",
       "      <td>284494</td>\n",
       "      <td>844227</td>\n",
       "      <td>20210113</td>\n",
       "      <td>NaN</td>\n",
       "      <td>DEMOCRAT</td>\n",
       "    </tr>\n",
       "    <tr>\n",
       "      <th>3429</th>\n",
       "      <td>2016</td>\n",
       "      <td>CALIFORNIA</td>\n",
       "      <td>CA</td>\n",
       "      <td>6</td>\n",
       "      <td>93</td>\n",
       "      <td>71</td>\n",
       "      <td>US PRESIDENT</td>\n",
       "      <td>NaN</td>\n",
       "      <td>NaN</td>\n",
       "      <td>True</td>\n",
       "      <td>120739</td>\n",
       "      <td>14181595</td>\n",
       "      <td>20210113</td>\n",
       "      <td>NaN</td>\n",
       "      <td>OTHER</td>\n",
       "    </tr>\n",
       "    <tr>\n",
       "      <th>3515</th>\n",
       "      <td>2016</td>\n",
       "      <td>KANSAS</td>\n",
       "      <td>KS</td>\n",
       "      <td>20</td>\n",
       "      <td>47</td>\n",
       "      <td>32</td>\n",
       "      <td>US PRESIDENT</td>\n",
       "      <td>STEIN, JILL</td>\n",
       "      <td>INDEPENDENT</td>\n",
       "      <td>False</td>\n",
       "      <td>23506</td>\n",
       "      <td>1184402</td>\n",
       "      <td>20210113</td>\n",
       "      <td>NaN</td>\n",
       "      <td>OTHER</td>\n",
       "    </tr>\n",
       "  </tbody>\n",
       "</table>\n",
       "</div>"
      ],
      "text/plain": [
       "      year       state state_po  state_fips  state_cen  state_ic  \\\n",
       "3589  2016    NEBRASKA       NE          31         46        35   \n",
       "3587  2016    NEBRASKA       NE          31         46        35   \n",
       "3429  2016  CALIFORNIA       CA           6         93        71   \n",
       "3515  2016      KANSAS       KS          20         47        32   \n",
       "\n",
       "            office         candidate party_detailed writein  candidatevotes  \\\n",
       "3589  US PRESIDENT               NaN            NaN    True           16051   \n",
       "3587  US PRESIDENT  CLINTON, HILLARY       DEMOCRAT   False          284494   \n",
       "3429  US PRESIDENT               NaN            NaN    True          120739   \n",
       "3515  US PRESIDENT       STEIN, JILL    INDEPENDENT   False           23506   \n",
       "\n",
       "      totalvotes   version  notes party_simplified  \n",
       "3589      844227  20210113    NaN            OTHER  \n",
       "3587      844227  20210113    NaN         DEMOCRAT  \n",
       "3429    14181595  20210113    NaN            OTHER  \n",
       "3515     1184402  20210113    NaN            OTHER  "
      ]
     },
     "execution_count": 75,
     "metadata": {},
     "output_type": "execute_result"
    }
   ],
   "source": [
    "# We load 2016 result separately\n",
    "president = pd.read_csv('SenateData/1976-2020-president.csv')\n",
    "president16 = president[president['year'] == 2016].copy()\n",
    "president16.sample(4) #display format of president election data"
   ]
  },
  {
   "cell_type": "code",
   "execution_count": 76,
   "id": "84a8ea82",
   "metadata": {},
   "outputs": [
    {
     "data": {
      "text/plain": [
       "state      party_simplified\n",
       "ALABAMA    DEMOCRAT            0.343579\n",
       "           LIBERTARIAN         0.020942\n",
       "           OTHER               0.014648\n",
       "           REPUBLICAN          0.620831\n",
       "ALASKA     DEMOCRAT            0.365509\n",
       "                                 ...   \n",
       "WISCONSIN  REPUBLICAN          0.472182\n",
       "WYOMING    DEMOCRAT            0.216289\n",
       "           LIBERTARIAN         0.051343\n",
       "           OTHER               0.058384\n",
       "           REPUBLICAN          0.673984\n",
       "Name: vote_rate, Length: 201, dtype: float64"
      ]
     },
     "execution_count": 76,
     "metadata": {},
     "output_type": "execute_result"
    }
   ],
   "source": [
    "# We add vote rate to each candidate in each state\n",
    "president16['vote_rate'] = president16['candidatevotes']/president16['totalvotes']\n",
    "# We group the data by states and party_simplified (represent small parties, independent, NaN all by 'Others'). \n",
    "# We take sum of vote rates of cadidates from the same party_simplified\n",
    "vote_byparty16 = president16.groupby(['state', 'party_simplified'])['vote_rate'].sum()\n",
    "vote_byparty16"
   ]
  },
  {
   "cell_type": "code",
   "execution_count": 77,
   "id": "6ede7665",
   "metadata": {},
   "outputs": [
    {
     "data": {
      "text/html": [
       "<div>\n",
       "<style scoped>\n",
       "    .dataframe tbody tr th:only-of-type {\n",
       "        vertical-align: middle;\n",
       "    }\n",
       "\n",
       "    .dataframe tbody tr th {\n",
       "        vertical-align: top;\n",
       "    }\n",
       "\n",
       "    .dataframe thead th {\n",
       "        text-align: right;\n",
       "    }\n",
       "</style>\n",
       "<table border=\"1\" class=\"dataframe\">\n",
       "  <thead>\n",
       "    <tr style=\"text-align: right;\">\n",
       "      <th></th>\n",
       "      <th>party_simplified</th>\n",
       "      <th>party_vote_rate</th>\n",
       "    </tr>\n",
       "    <tr>\n",
       "      <th>candidate</th>\n",
       "      <th></th>\n",
       "      <th></th>\n",
       "    </tr>\n",
       "  </thead>\n",
       "  <tbody>\n",
       "    <tr>\n",
       "      <th>BILL HAMMONS</th>\n",
       "      <td>OTHER</td>\n",
       "      <td>0.034078</td>\n",
       "    </tr>\n",
       "    <tr>\n",
       "      <th>BILL BARRON</th>\n",
       "      <td>OTHER</td>\n",
       "      <td>0.234969</td>\n",
       "    </tr>\n",
       "    <tr>\n",
       "      <th>SHELDON WHITEHOUSE</th>\n",
       "      <td>DEMOCRAT</td>\n",
       "      <td>0.544066</td>\n",
       "    </tr>\n",
       "    <tr>\n",
       "      <th>YOMI \"FAPAS\" FAPARUSI SR.</th>\n",
       "      <td>OTHER</td>\n",
       "      <td>0.045616</td>\n",
       "    </tr>\n",
       "    <tr>\n",
       "      <th>LEAH VUKMIR</th>\n",
       "      <td>REPUBLICAN</td>\n",
       "      <td>0.472182</td>\n",
       "    </tr>\n",
       "  </tbody>\n",
       "</table>\n",
       "</div>"
      ],
      "text/plain": [
       "                          party_simplified  party_vote_rate\n",
       "candidate                                                  \n",
       "BILL HAMMONS                         OTHER         0.034078\n",
       "BILL BARRON                          OTHER         0.234969\n",
       "SHELDON WHITEHOUSE                DEMOCRAT         0.544066\n",
       "YOMI \"FAPAS\" FAPARUSI SR.            OTHER         0.045616\n",
       "LEAH VUKMIR                     REPUBLICAN         0.472182"
      ]
     },
     "execution_count": 77,
     "metadata": {},
     "output_type": "execute_result"
    }
   ],
   "source": [
    "# We create feature dataframe and add in party_simplified, party vote rate in most recent presidential election, and final vote rate\n",
    "# If the senate candidate's affiliated party does not show up in the most recent president election, party_vote_rate is 0\n",
    "party_features = candidate_info_byname[['party_simplified']].copy()\n",
    "for name in party_features.index:\n",
    "    state_ = candidate_info_byname.loc[name, 'state']\n",
    "    party_ = candidate_info_byname.loc[name, 'party_simplified']\n",
    "    if party_ in vote_byparty16[state_].index:  #check whether the affiliated party is in recent president election\n",
    "        party_features.loc[name, 'party_vote_rate'] = vote_byparty16[state_][party_]\n",
    "    else: \n",
    "        party_features.loc[name, 'party_vote_rate'] = 0\n",
    "        \n",
    "party_features.sample(5)"
   ]
  },
  {
   "cell_type": "code",
   "execution_count": 78,
   "id": "99f95b9e",
   "metadata": {},
   "outputs": [
    {
     "name": "stdout",
     "output_type": "stream",
     "text": [
      "we have feature vectors from 171 candidates, each with dimension 11\n"
     ]
    }
   ],
   "source": [
    "# We get the candidates used for model and extract the vector corresponding to affliated party's performance in last election\n",
    "candidates_model = candidate_quotes_cluster_feature_filted.T.index\n",
    "party_vote_model = party_features.loc[candidates_model].party_vote_rate\n",
    "# We then concatenate this vector to our model\n",
    "features = np.concatenate((candidate_feature_vectors_sum, party_vote_model.to_numpy()[:, np.newaxis]), axis=1)\n",
    "print('we have feature vectors from {} candidates, each with dimension {}'.format(features.shape[0], features.shape[1]))"
   ]
  },
  {
   "cell_type": "code",
   "execution_count": 79,
   "id": "5487ec7d",
   "metadata": {},
   "outputs": [
    {
     "name": "stdout",
     "output_type": "stream",
     "text": [
      "we have 68 winner candidates and 103 loser candidate\n"
     ]
    }
   ],
   "source": [
    "# we also obtain the corresponding labels, with 0 meaning lose and 1 meaning win\n",
    "labels = candidate_info.set_index('candidate').loc[candidates_model].is_winner.astype(int).to_numpy()\n",
    "print('we have {} winner candidates and {} loser candidate'.format(sum(labels), len(labels) - sum(labels)))\n"
   ]
  },
  {
   "cell_type": "code",
   "execution_count": 80,
   "id": "7da278ff",
   "metadata": {},
   "outputs": [
    {
     "name": "stdout",
     "output_type": "stream",
     "text": [
      "we have 128 training data and 43 test data\n"
     ]
    }
   ],
   "source": [
    "# This helps split the data if we want to split train and test\n",
    "from sklearn.model_selection import train_test_split\n",
    "X_train, X_test, y_train, y_test = train_test_split(features, labels, test_size=0.25, random_state=123)\n",
    "print('we have {} training data and {} test data'.format(len(y_train), len(y_test)))"
   ]
  },
  {
   "cell_type": "markdown",
   "id": "47a07ffb",
   "metadata": {},
   "source": [
    "**4.3:** We build a Logistic Regression Model to predict the result"
   ]
  },
  {
   "cell_type": "code",
   "execution_count": 81,
   "id": "be8a56dd",
   "metadata": {},
   "outputs": [],
   "source": [
    "from sklearn.linear_model import LogisticRegression\n",
    "from sklearn.model_selection import cross_val_predict, cross_val_score\n",
    "from sklearn.metrics import accuracy_score, f1_score"
   ]
  },
  {
   "cell_type": "markdown",
   "id": "b7cfc3c5",
   "metadata": {},
   "source": [
    "We use 5-fold cross-validation on the whole dataset, to see how well logistic regression can perform on training set."
   ]
  },
  {
   "cell_type": "code",
   "execution_count": 103,
   "id": "38cbe6f0",
   "metadata": {},
   "outputs": [
    {
     "name": "stdout",
     "output_type": "stream",
     "text": [
      "Cross-Validated Training Accuracy: 0.73 (+/- 0.09)\n",
      "Cross-Validated Training F1: 0.53 (+/- 0.20)\n"
     ]
    }
   ],
   "source": [
    "logistic = LogisticRegression(solver='lbfgs') # define logistic model\n",
    "\n",
    "acc_train = cross_val_score(logistic, X_train, y_train, cv=5, scoring=\"accuracy\") # get cross-validated accuracy\n",
    "f1_train = cross_val_score(logistic, X_train, y_train, cv=5, scoring=\"f1\") # get cross-validated f1 score\n",
    "\n",
    "# Accuracy\n",
    "print(\"Cross-Validated Training Accuracy: %0.2f (+/- %0.2f)\" % (acc_train.mean(), acc_train.std() * 2))\n",
    "# F1 Score\n",
    "print(\"Cross-Validated Training F1: %0.2f (+/- %0.2f)\" % (f1_train.mean(), f1_train.std() * 2))"
   ]
  },
  {
   "cell_type": "markdown",
   "id": "0a1fef99",
   "metadata": {},
   "source": [
    "Then, we train the logistic regression on the traing dataset and predict the test dataset"
   ]
  },
  {
   "cell_type": "code",
   "execution_count": 104,
   "id": "25de09bc",
   "metadata": {},
   "outputs": [
    {
     "name": "stdout",
     "output_type": "stream",
     "text": [
      "On the test dataset, we obtain accuracy 0.7674418604651163 and f1 score 0.7058823529411764\n"
     ]
    }
   ],
   "source": [
    "logistic = LogisticRegression(solver='lbfgs')\n",
    "logistic.fit(X_train, y_train) # train the model\n",
    "y_preds = logistic.predict(X_test)\n",
    "accuracy = accuracy_score(y_test, y_preds)\n",
    "f1 = f1_score(y_test, y_preds)\n",
    "print(\"On the test dataset, we obtain accuracy {} and f1 score {}\".format(accuracy, f1))"
   ]
  },
  {
   "cell_type": "markdown",
   "id": "2da3fd18",
   "metadata": {},
   "source": [
    "The result from logistic regression was not bad, but can be improved. We then apply the XGBoost, which is a more advanced model for binary classification"
   ]
  },
  {
   "cell_type": "code",
   "execution_count": 105,
   "id": "1b34af76",
   "metadata": {},
   "outputs": [
    {
     "name": "stdout",
     "output_type": "stream",
     "text": [
      "Cross-Validated Training Accuracy: 0.79 (+/- 0.21)\n",
      "Cross-Validated Training F1: 0.70 (+/- 0.27)\n"
     ]
    }
   ],
   "source": [
    "import xgboost as xgb\n",
    "clf = xgb.XGBClassifier(\n",
    "    n_estimators=100,\n",
    "    reg_lambda=0.5,\n",
    "    gamma=1,\n",
    "    max_depth=1,\n",
    "    use_label_encoder=False,\n",
    "    eval_metric='mlogloss'\n",
    ")\n",
    "acc_train = cross_val_score(clf, X_train, y_train, cv=5, scoring=\"accuracy\")\n",
    "f1_train = cross_val_score(clf, X_train, y_train, cv=5, scoring=\"f1\")\n",
    "# Accuracy\n",
    "print(\"Cross-Validated Training Accuracy: %0.2f (+/- %0.2f)\" % (acc_train.mean(), acc_train.std() * 2))\n",
    "# F1 Score\n",
    "print(\"Cross-Validated Training F1: %0.2f (+/- %0.2f)\" % (f1_train.mean(), f1_train.std() * 2))"
   ]
  },
  {
   "cell_type": "code",
   "execution_count": 106,
   "id": "863245c7",
   "metadata": {},
   "outputs": [
    {
     "name": "stdout",
     "output_type": "stream",
     "text": [
      "On the test dataset, we obtain accuracy 0.9069767441860465 and f1 score 0.9047619047619048\n"
     ]
    }
   ],
   "source": [
    "# Try XGBoost on test dataset\n",
    "clf.fit(X_train, y_train)\n",
    "y_preds = clf.predict(X_test)\n",
    "accuracy = accuracy_score(y_test, y_preds)\n",
    "f1 = f1_score(y_test, y_preds)\n",
    "print(\"On the test dataset, we obtain accuracy {} and f1 score {}\".format(accuracy, f1))"
   ]
  },
  {
   "cell_type": "markdown",
   "id": "95e66d5d",
   "metadata": {},
   "source": [
    "The performance of our classifiers is reasonably good. Weighted number of quotations thereby can be used to predict the election result!"
   ]
  },
  {
   "cell_type": "markdown",
   "id": "de0b4e76",
   "metadata": {
    "jp-MarkdownHeadingCollapsed": true,
    "tags": []
   },
   "source": [
    "# 5. Sentiment Analysis\n",
    "\n",
    "In this section, we use VADER to extract the attitude toward candidates in those quotations mentioning the candidates (candidate_quotes_mention). This answers the proposed question 5."
   ]
  },
  {
   "cell_type": "code",
   "execution_count": 86,
   "id": "241cd01f",
   "metadata": {},
   "outputs": [],
   "source": [
    "# Obtain quotation's sentiment toward mentioned candidates\n",
    "import bz2\n",
    "import json\n",
    "from vaderSentiment.vaderSentiment import SentimentIntensityAnalyzer\n",
    "import pickle\n",
    "analyzer = SentimentIntensityAnalyzer()\n",
    "from collections import defaultdict\n",
    "\n",
    "\n",
    "senate_candidates = list(map(lambda x:x.title(), senate_candidates))\n",
    "senate_candidates_sentiment = defaultdict(list)\n",
    "\n",
    "#candidate_quotes_mention = pd.read_pickle('SenateData/candidate_quotes_mention.pkl') \n",
    "#The above line was used to load previously stored mention data, no need to run it if you have run the above cells\n",
    "candidate_quotes_mention['quotation_score'] =  candidate_quotes_mention.apply(lambda x: analyzer.polarity_scores(x['quotation'])['compound'], axis=1)\n",
    "scale = candidate_quotes_mention['normalize_factor'].max() \n",
    "#we will divide the above scale factor when normalizing sentiment, to make sure the normalized sentimate still range from -1 to 1\n",
    "candidate_quotes_mention['normalize_quotation_score'] = candidate_quotes_mention['quotation_score']*(candidate_quotes_mention['normalize_factor']/scale)\n",
    "for index, instance in candidate_quotes_mention.iterrows():\n",
    "    senate_candidates_sentiment[instance['mention']].append((instance['date'].date(), instance['quotation_score']))\n",
    "\n",
    "# The function to extract sentiment of the sentence\n",
    "def obtain_mean_sentiment(sentiment_list, time_span=None):\n",
    "    # sentiment_list consists of (date, sentiment), we obtain mean sentiment in each timespan\n",
    "    # time span (date_lower: str, date upper: str) \n",
    "    if time_span is None:\n",
    "        return sum(map(lambda x: x[1], sentiment_list)) / len(sentiment_list)\n",
    "    date_start=pd.to_datetime(time_span[0], format='%Y-%m-%d') \n",
    "    date_end=pd.to_datetime(time_span[1], format='%Y-%m-%d')\n",
    "    filtered_sentiment_list = list(filter(lambda x: date_start <= pd.to_datetime(x[0], format='%Y-%m-%d')  < date_end, sentiment_list))\n",
    "    return sum(map(lambda x: x[1], filtered_sentiment_list)) / max(len(filtered_sentiment_list),1)"
   ]
  },
  {
   "cell_type": "markdown",
   "id": "4a532eb5",
   "metadata": {},
   "source": [
    "We can visualize the sentiment changes toward each candidate over time. We take Bernie Sanders as an example."
   ]
  },
  {
   "cell_type": "code",
   "execution_count": 87,
   "id": "42981a07",
   "metadata": {
    "scrolled": true
   },
   "outputs": [
    {
     "data": {
      "text/plain": [
       "Text(0.5, 1.0, 'Bernie Sanders')"
      ]
     },
     "execution_count": 87,
     "metadata": {},
     "output_type": "execute_result"
    },
    {
     "data": {
      "image/png": "[encoded data removed]",
      "text/plain": [
       "<Figure size 432x288 with 1 Axes>"
      ]
     },
     "metadata": {
      "needs_background": "light"
     },
     "output_type": "display_data"
    }
   ],
   "source": [
    "# Group sentiment scores by candidates and dates, average the score in each day\n",
    "candidate_senti_byday = candidate_quotes_mention.groupby(['mention', 'date_only'])['normalize_quotation_score'].mean()\n",
    "# Visualize the sentiment change of Bernie Sanders\n",
    "candidate_senti_byday['BERNIE SANDERS'].rolling(window=30).mean().plot() # we take monthly average for better display\n",
    "plt.xlabel('time')\n",
    "plt.ylabel('Sentiment Score (monthly average)')\n",
    "plt.title('Bernie Sanders')"
   ]
  },
  {
   "cell_type": "markdown",
   "id": "5362af72",
   "metadata": {},
   "source": [
    "We then look at the average sentiment toward each candidate within a year before the election. We can compare this to the final vote rate, so that we know whether the sentiment displayed in quotations reflect support rate."
   ]
  },
  {
   "cell_type": "code",
   "execution_count": 88,
   "id": "0a9159ac",
   "metadata": {},
   "outputs": [],
   "source": [
    "# We group the quotations within 1 year before election day\n",
    "quotes_byelection = candidate_quotes_mention[candidate_quotes_mention['date_only'] < candidate_quotes_mention['election_day']]\n",
    "start_date = pd.to_datetime(quotes_byelection ['mention'].map(candidate_info_byname['year'] - 1).astype(str)+ '-11-01') # start date 1 yr before election\n",
    "quotes_byelection = quotes_byelection[quotes_byelection['date_only'] > start_date] # all quotes within 1 year before election\n",
    "# We compute the mean sentiment within that year\n",
    "senti_byelection = pd.DataFrame(quotes_byelection.groupby(['mention'])['normalize_quotation_score'].mean())\n",
    "senti_byelection.rename(columns = {'normalize_quotation_score': 'mean_sentiment_byelection'}, inplace=True)\n"
   ]
  },
  {
   "cell_type": "code",
   "execution_count": 89,
   "id": "bebcfadb",
   "metadata": {
    "scrolled": true
   },
   "outputs": [
    {
     "name": "stdout",
     "output_type": "stream",
     "text": [
      "Pearson coefficient: -0.10998685465657197, p value: 0.09323745970762687\n"
     ]
    },
    {
     "data": {
      "image/png": "[encoded data removed]",
      "text/plain": [
       "<Figure size 432x288 with 1 Axes>"
      ]
     },
     "metadata": {
      "needs_background": "light"
     },
     "output_type": "display_data"
    }
   ],
   "source": [
    "# We add the vote rate and plot the scatter plot of vote rate against total quotes by election\n",
    "senti_byelection['vote_rate'] = senti_byelection.index.map(candidate_info_byname['vote_rate'])\n",
    "\n",
    "# linear regression\n",
    "senti_vote = senti_byelection.plot.scatter(x = 'mean_sentiment_byelection', y = 'vote_rate', logx=True)\n",
    "(corr1, pvalue) = pearsonr(senti_byelection['mean_sentiment_byelection'], senti_byelection['vote_rate'])\n",
    "print(f'Pearson coefficient: {corr1}, p value: {pvalue}')"
   ]
  },
  {
   "cell_type": "markdown",
   "id": "86104964",
   "metadata": {},
   "source": [
    "We find that the p-value > 0.05, indicating a non-significant correlation between vote rate and average sentiment scores. However, if we discard candidates having low vote_rate (< 1%), we would find a negative correlation between the vote rate and mean sentiment (p-value < 0.05). We discard those candidates because they usually come from a small party and have very limited quotations. As a result, the calculated average sentiment scores cannot reflect overall sentiment toward them."
   ]
  },
  {
   "cell_type": "code",
   "execution_count": 90,
   "id": "a30bc88a",
   "metadata": {
    "scrolled": true
   },
   "outputs": [
    {
     "name": "stdout",
     "output_type": "stream",
     "text": [
      "Pearson coefficient: -0.14221865107938755, p value: 0.03996084568718259\n"
     ]
    },
    {
     "data": {
      "image/png": "[encoded data removed]",
      "text/plain": [
       "<Figure size 432x288 with 1 Axes>"
      ]
     },
     "metadata": {
      "needs_background": "light"
     },
     "output_type": "display_data"
    }
   ],
   "source": [
    "# filter out candidates with very low vote rate\n",
    "senti_byelection['vote_rate'] = senti_byelection.index.map(candidate_info_byname['vote_rate'])\n",
    "senti_byelection = senti_byelection[senti_byelection['vote_rate'] > 0.01]\n",
    "# visualize the correlation and compute pearson coefficient\n",
    "senti_vote = senti_byelection.plot.scatter(x = 'mean_sentiment_byelection', y = 'vote_rate', logx=True)\n",
    "(corr1, pvalue) = pearsonr(senti_byelection['mean_sentiment_byelection'], senti_byelection['vote_rate'])\n",
    "print(f'Pearson coefficient: {corr1}, p value: {pvalue}')"
   ]
  },
  {
   "cell_type": "markdown",
   "id": "8286d02c",
   "metadata": {},
   "source": [
    "Such observation seems to be contrary to the intuition that favorable people will receive more votes. There are three possible explanations for this: (1) The mention data are limited and the correlation is spurious. (2) Those candidates who adopt a less aggressive campaign strategy (so the average sentiment is more neutral) may receive more votes from the public. (3) Media do not reflect the actual ideas of most people (which was seldomly realized by the public until Donald Trump)."
   ]
  },
  {
   "cell_type": "code",
   "execution_count": null,
   "id": "0e089f7d",
   "metadata": {},
   "outputs": [],
   "source": []
  }
 ],
 "metadata": {
  "interpreter": {
   "hash": "db666ba5cfc1e6b340ffb8c99ac64e84d1885a4fc4ce42ed4b6eb0071bb1085a"
  },
  "kernelspec": {
   "display_name": "ada",
   "language": "python",
   "name": "ada"
  },
  "language_info": {
   "codemirror_mode": {
    "name": "ipython",
    "version": 3
   },
   "file_extension": ".py",
   "mimetype": "text/x-python",
   "name": "python",
   "nbconvert_exporter": "python",
   "pygments_lexer": "ipython3",
   "version": "3.8.11"
  }
 },
 "nbformat": 4,
 "nbformat_minor": 5
}
