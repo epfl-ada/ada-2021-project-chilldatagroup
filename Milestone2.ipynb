{
 "cells": [
  {
   "cell_type": "markdown",
   "id": "d23d2ba5",
   "metadata": {},
   "source": [
    "## Quotations indicate the career success of public figures\n",
    "**ChillDataGroup: Zihan Wu, Yinhao Wang, Yihang Chen**"
   ]
  },
  {
   "cell_type": "code",
   "execution_count": 1,
   "id": "4713920f",
   "metadata": {},
   "outputs": [],
   "source": [
    "import pandas as pd\n",
    "import seaborn as sns\n",
    "import numpy as np\n",
    "import matplotlib.pyplot as plt"
   ]
  },
  {
   "cell_type": "markdown",
   "id": "35a243e4",
   "metadata": {},
   "source": [
    "## Load QuoteBank Dataset\n",
    "We refer to the pipeline provided in Google Colab to load the quotations from 2015 to 2020.\n",
    "\n",
    "Due to the large size of data, when loading them, we just load the data said by the senate election since 2015 candidates. The dataset for senate elections is obtained from MIT Election Data and Science Lab [1].\n",
    "\n",
    "We also provide the codes for loading these senate candidate quotations below, but those are run ahead in google colab (takes around 30min for each year's data). We did not re-run them here. It contains the senate election results for all candidates\n",
    "\n",
    "[1] MIT Election Data and Science Lab, 2017, \"U.S. Senate 1976–2020\", https://doi.org/10.7910/DVN/PEJ5QU, Harvard Dataverse, V5."
   ]
  },
  {
   "cell_type": "code",
   "execution_count": 2,
   "id": "01f3f51e",
   "metadata": {},
   "outputs": [],
   "source": [
    "# Pipeline obtained from the course google colab\n",
    "from tld import get_tld\n",
    "\n",
    "def get_domain(url):\n",
    "    res = get_tld(url, as_object=True)\n",
    "    return res.tld"
   ]
  },
  {
   "cell_type": "code",
   "execution_count": 3,
   "id": "a453a63e",
   "metadata": {
    "scrolled": true
   },
   "outputs": [
    {
     "data": {
      "text/html": [
       "<div>\n",
       "<style scoped>\n",
       "    .dataframe tbody tr th:only-of-type {\n",
       "        vertical-align: middle;\n",
       "    }\n",
       "\n",
       "    .dataframe tbody tr th {\n",
       "        vertical-align: top;\n",
       "    }\n",
       "\n",
       "    .dataframe thead th {\n",
       "        text-align: right;\n",
       "    }\n",
       "</style>\n",
       "<table border=\"1\" class=\"dataframe\">\n",
       "  <thead>\n",
       "    <tr style=\"text-align: right;\">\n",
       "      <th></th>\n",
       "      <th>year</th>\n",
       "      <th>state</th>\n",
       "      <th>state_po</th>\n",
       "      <th>state_fips</th>\n",
       "      <th>state_cen</th>\n",
       "      <th>state_ic</th>\n",
       "      <th>office</th>\n",
       "      <th>district</th>\n",
       "      <th>stage</th>\n",
       "      <th>special</th>\n",
       "      <th>candidate</th>\n",
       "      <th>party_detailed</th>\n",
       "      <th>writein</th>\n",
       "      <th>mode</th>\n",
       "      <th>candidatevotes</th>\n",
       "      <th>totalvotes</th>\n",
       "      <th>unofficial</th>\n",
       "      <th>version</th>\n",
       "      <th>party_simplified</th>\n",
       "    </tr>\n",
       "  </thead>\n",
       "  <tbody>\n",
       "    <tr>\n",
       "      <th>414</th>\n",
       "      <td>1982</td>\n",
       "      <td>CONNECTICUT</td>\n",
       "      <td>CT</td>\n",
       "      <td>9</td>\n",
       "      <td>16</td>\n",
       "      <td>1</td>\n",
       "      <td>US SENATE</td>\n",
       "      <td>statewide</td>\n",
       "      <td>gen</td>\n",
       "      <td>False</td>\n",
       "      <td>JAMES A. LEWIS</td>\n",
       "      <td>LIBERTARIAN</td>\n",
       "      <td>False</td>\n",
       "      <td>total</td>\n",
       "      <td>8163</td>\n",
       "      <td>1083508</td>\n",
       "      <td>False</td>\n",
       "      <td>20210114</td>\n",
       "      <td>LIBERTARIAN</td>\n",
       "    </tr>\n",
       "    <tr>\n",
       "      <th>295</th>\n",
       "      <td>1980</td>\n",
       "      <td>COLORADO</td>\n",
       "      <td>CO</td>\n",
       "      <td>8</td>\n",
       "      <td>84</td>\n",
       "      <td>62</td>\n",
       "      <td>US SENATE</td>\n",
       "      <td>statewide</td>\n",
       "      <td>gen</td>\n",
       "      <td>False</td>\n",
       "      <td>HENRY JOHN OLSHAW</td>\n",
       "      <td>UNAFFILIATED-AMERICAN</td>\n",
       "      <td>False</td>\n",
       "      <td>total</td>\n",
       "      <td>4081</td>\n",
       "      <td>1173142</td>\n",
       "      <td>False</td>\n",
       "      <td>20210114</td>\n",
       "      <td>OTHER</td>\n",
       "    </tr>\n",
       "    <tr>\n",
       "      <th>1692</th>\n",
       "      <td>2000</td>\n",
       "      <td>MICHIGAN</td>\n",
       "      <td>MI</td>\n",
       "      <td>26</td>\n",
       "      <td>34</td>\n",
       "      <td>23</td>\n",
       "      <td>US SENATE</td>\n",
       "      <td>statewide</td>\n",
       "      <td>gen</td>\n",
       "      <td>False</td>\n",
       "      <td>SPENCER ABRAHAM</td>\n",
       "      <td>REPUBLICAN</td>\n",
       "      <td>False</td>\n",
       "      <td>total</td>\n",
       "      <td>1994693</td>\n",
       "      <td>4167685</td>\n",
       "      <td>False</td>\n",
       "      <td>20210114</td>\n",
       "      <td>REPUBLICAN</td>\n",
       "    </tr>\n",
       "    <tr>\n",
       "      <th>2306</th>\n",
       "      <td>2008</td>\n",
       "      <td>GEORGIA</td>\n",
       "      <td>GA</td>\n",
       "      <td>13</td>\n",
       "      <td>58</td>\n",
       "      <td>44</td>\n",
       "      <td>US SENATE</td>\n",
       "      <td>statewide</td>\n",
       "      <td>gen</td>\n",
       "      <td>False</td>\n",
       "      <td>JIM MARTIN</td>\n",
       "      <td>DEMOCRAT</td>\n",
       "      <td>False</td>\n",
       "      <td>total</td>\n",
       "      <td>909923</td>\n",
       "      <td>2137956</td>\n",
       "      <td>False</td>\n",
       "      <td>20210114</td>\n",
       "      <td>DEMOCRAT</td>\n",
       "    </tr>\n",
       "  </tbody>\n",
       "</table>\n",
       "</div>"
      ],
      "text/plain": [
       "      year        state state_po  state_fips  state_cen  state_ic     office  \\\n",
       "414   1982  CONNECTICUT       CT           9         16         1  US SENATE   \n",
       "295   1980     COLORADO       CO           8         84        62  US SENATE   \n",
       "1692  2000     MICHIGAN       MI          26         34        23  US SENATE   \n",
       "2306  2008      GEORGIA       GA          13         58        44  US SENATE   \n",
       "\n",
       "       district stage  special          candidate         party_detailed  \\\n",
       "414   statewide   gen    False     JAMES A. LEWIS            LIBERTARIAN   \n",
       "295   statewide   gen    False  HENRY JOHN OLSHAW  UNAFFILIATED-AMERICAN   \n",
       "1692  statewide   gen    False    SPENCER ABRAHAM             REPUBLICAN   \n",
       "2306  statewide   gen    False         JIM MARTIN               DEMOCRAT   \n",
       "\n",
       "      writein   mode  candidatevotes  totalvotes  unofficial   version  \\\n",
       "414     False  total            8163     1083508       False  20210114   \n",
       "295     False  total            4081     1173142       False  20210114   \n",
       "1692    False  total         1994693     4167685       False  20210114   \n",
       "2306    False  total          909923     2137956       False  20210114   \n",
       "\n",
       "     party_simplified  \n",
       "414       LIBERTARIAN  \n",
       "295             OTHER  \n",
       "1692       REPUBLICAN  \n",
       "2306         DEMOCRAT  "
      ]
     },
     "execution_count": 3,
     "metadata": {},
     "output_type": "execute_result"
    }
   ],
   "source": [
    "# Load the Senate Election Result data \n",
    "import pandas as pd\n",
    "senate_file = 'SenateData/1976-2020-senate.csv'\n",
    "senate_election = pd.read_csv(senate_file, encoding= 'unicode_escape')\n",
    "senate_election.sample(4) # demonstrate the format of election data"
   ]
  },
  {
   "cell_type": "markdown",
   "id": "e166a7cb",
   "metadata": {},
   "source": [
    "Here, we only choose the candidate running for elections since 2016, because the supported Quotebank data goes back to 2015"
   ]
  },
  {
   "cell_type": "code",
   "execution_count": 4,
   "id": "0fa9750d",
   "metadata": {},
   "outputs": [
    {
     "data": {
      "text/plain": [
       "[{'RICHARD', 'SHELBY'},\n",
       " {'JOE', 'MILLER'},\n",
       " {'GIANOUTSOS', 'TED'},\n",
       " {'METCALFE', 'RAY'},\n",
       " {'MARGARET', 'STOCK'},\n",
       " {'BRECK', 'CRAIG'},\n",
       " {'LISA', 'MURKOWSKI'},\n",
       " {'ANTHONY', 'CAMBONI'},\n",
       " {'ANN', 'KIRKPATRICK'}]"
      ]
     },
     "execution_count": 4,
     "metadata": {},
     "output_type": "execute_result"
    }
   ],
   "source": [
    "# Load the names of candidates since 2016\n",
    "# The NaN names are dropped, and repeated names are dropped\n",
    "def delete_middle_name(name): # delete middle name\n",
    "  name_split = name.upper().split()\n",
    "  if len(name_split) > 2:\n",
    "    senate_delete_middle_name = name_split[0] + ' ' + name_split[-1]\n",
    "    return senate_delete_middle_name\n",
    "  return name\n",
    "\n",
    "# To address the variation of names, we use this function to determine whether the speaker name matches the first and \n",
    "# last name of any senate candidates. In this way, we can find speakers with different name writing style like:\n",
    "# 'Senate Lindsey Graham', 'Lindsey Olin Graham', 'Lindsey O. Graham' (they all indicate the same candidate)\n",
    "\n",
    "# The function below takes in a speaker name and a list of senate names (already split into first and last name)\n",
    "# It returns a boolean whether the speaker is a senate, and the name of senate (in the form of first + last name) if true\n",
    "def isSenate(name,senate_names):\n",
    "  name_set = set(name.upper().split())\n",
    "  for i in range(len(senate_names)):\n",
    "    if senate_names[i] <= name_set:\n",
    "      return (True, i)\n",
    "  return (False, None)\n",
    "\n",
    "senate_candidates = senate_election[senate_election['year'] >= 2016].dropna(subset=['candidate', 'party_detailed'])['candidate'].unique()\n",
    "senate_candidates_splitted = list(map(lambda senate: set(delete_middle_name(senate).split()), senate_candidates))\n",
    "senate_candidates_splitted[1:10]"
   ]
  },
  {
   "cell_type": "code",
   "execution_count": 5,
   "id": "8cec8de5",
   "metadata": {},
   "outputs": [
    {
     "name": "stdout",
     "output_type": "stream",
     "text": [
      "there are total 439 names\n"
     ]
    }
   ],
   "source": [
    "#Sanity Check: all names at least have a first and last name\n",
    "for split in senate_candidates_splitted:\n",
    "    assert(len(split) > 1)\n",
    "print('there are total {} names'.format(len(senate_candidates_splitted)))"
   ]
  },
  {
   "cell_type": "markdown",
   "id": "42c252e0",
   "metadata": {},
   "source": [
    "**We do not run the cell below because takes too long.** We have run those on google colab to load the quotation data we need"
   ]
  },
  {
   "cell_type": "code",
   "execution_count": null,
   "id": "726a21e8",
   "metadata": {},
   "outputs": [],
   "source": [
    "%%script echo skipping\n",
    "# Load each year's data, filtering out the quotations said by senates\n",
    "# We have considered the different writing styles of name. We extract the quote as long as the speaker has the same\n",
    "# first name and last name as a senate\n",
    "import bz2\n",
    "import json\n",
    "\n",
    "path_to_file = '/content/drive/MyDrive/Quotebank/quotes-{}.json.bz2' \n",
    "path_to_out = '/content/drive/MyDrive/MyQuoteBank/quotes-{}-senates-said.json.bz2'\n",
    "\n",
    "for year in range(2015, 2021):\n",
    "  print('... Start reading quotations in year ' + str(year))\n",
    "  with bz2.open(path_to_file.format(year), 'rb') as s_file:\n",
    "      with bz2.open(path_to_out.format(year), 'wb') as d_file:\n",
    "          for instance in s_file:\n",
    "              instance = json.loads(instance) # loading a sample\n",
    "              issenate = isSenate(instance['speaker'], senate_candidates_splitted)\n",
    "              if issenate[0]:\n",
    "                instance['speaker'] = senate_candidates[issenate[1]] # use name from the \"1976-2020-senate.csv\" as the standard name.\n",
    "                urls = instance['urls'] # extracting list of links\n",
    "                domains = []\n",
    "                for url in urls:\n",
    "                    tld = get_domain(url)\n",
    "                    domains.append(tld)\n",
    "                instance['domains'] = domains # updating the sample with domain name\n",
    "                d_file.write((json.dumps(instance)+'\\n').encode('utf-8')) # writing in the new file\n",
    "\n",
    "# Load each year's data, filtering out the quotations that mention senates\n",
    "path_to_file = '/content/drive/MyDrive/Quotebank/quotes-{}.json.bz2'\n",
    "path_to_out = '/content/drive/MyDrive/ADAQuoteBank/quotes-{}-senates-mention.json.bz2'\n",
    "\n",
    "senate_candidates = list(map(lambda x:x.title(), senate_candidates))\n",
    "\n",
    "for year in range(2016,2021):\n",
    "    print('... Start processing quotations in year {}'.format(year))\n",
    "    with bz2.open(path_to_file.format(year), 'rb') as s_file:\n",
    "        with bz2.open(path_to_out.format(year), 'wb') as d_file:\n",
    "            for instance in s_file:\n",
    "                instance = json.loads(instance)\n",
    "                is_senate = isSenate(instance['quotation'], senate_candidates_splitted)\n",
    "                if is_senate[0]:\n",
    "                    instance['mention']=senate_candidates[is_senate[1]]\n",
    "                    urls = instance['urls'] # extracting list of links\n",
    "                    domains = []\n",
    "                    for url in urls:\n",
    "                        tld = get_domain(url)\n",
    "                        domains.append(tld)\n",
    "                    instance['domains'] = domains # updating the sample with domain name\n",
    "                    d_file.write((json.dumps(instance)+'\\n').encode('utf-8'))\n",
    "    print('... End processing quotations in year {}'.format(year))"
   ]
  },
  {
   "cell_type": "markdown",
   "id": "dd2896a2",
   "metadata": {},
   "source": [
    "## 1. Process Senate Candidate Data\n",
    "**1.1** In this section, we load the information of senate candidates (since 2016) and their election information."
   ]
  },
  {
   "cell_type": "code",
   "execution_count": 6,
   "id": "847a9fb6",
   "metadata": {},
   "outputs": [],
   "source": [
    "# First, we get the election information of the candidates since 2016 (again, we drop NaN and repeated names)\n",
    "candidate_info = senate_election[senate_election['year'] >= 2016].dropna(subset=['candidate', 'party_detailed']).drop_duplicates(subset=['candidate'], ignore_index=True)"
   ]
  },
  {
   "cell_type": "code",
   "execution_count": 7,
   "id": "0de063d3",
   "metadata": {},
   "outputs": [],
   "source": [
    "# Load the stored quotations said by senate candidates since 2015 (by year)\n",
    "senate_quote_20 = pd.read_json('SenateData/quotes-2020-senates-said.json.bz2', lines=True, compression='bz2')\n",
    "senate_quote_19 = pd.read_json('SenateData/quotes-2019-senates-said.json.bz2', lines=True, compression='bz2')\n",
    "senate_quote_18 = pd.read_json('SenateData/quotes-2018-senates-said.json.bz2', lines=True, compression='bz2')\n",
    "senate_quote_17 = pd.read_json('SenateData/quotes-2017-senates-said.json.bz2', lines=True, compression='bz2')\n",
    "senate_quote_16 = pd.read_json('SenateData/quotes-2016-senates-said.json.bz2', lines=True, compression='bz2')\n",
    "senate_quote_15 = pd.read_json('SenateData/quotes-2015-senates-said.json.bz2', lines=True, compression='bz2')"
   ]
  },
  {
   "cell_type": "code",
   "execution_count": 8,
   "id": "7f2c2dc1",
   "metadata": {},
   "outputs": [
    {
     "data": {
      "text/html": [
       "<div>\n",
       "<style scoped>\n",
       "    .dataframe tbody tr th:only-of-type {\n",
       "        vertical-align: middle;\n",
       "    }\n",
       "\n",
       "    .dataframe tbody tr th {\n",
       "        vertical-align: top;\n",
       "    }\n",
       "\n",
       "    .dataframe thead th {\n",
       "        text-align: right;\n",
       "    }\n",
       "</style>\n",
       "<table border=\"1\" class=\"dataframe\">\n",
       "  <thead>\n",
       "    <tr style=\"text-align: right;\">\n",
       "      <th></th>\n",
       "      <th>index</th>\n",
       "      <th>quoteID</th>\n",
       "      <th>quotation</th>\n",
       "      <th>speaker</th>\n",
       "      <th>qids</th>\n",
       "      <th>date</th>\n",
       "      <th>numOccurrences</th>\n",
       "      <th>probas</th>\n",
       "      <th>urls</th>\n",
       "      <th>phase</th>\n",
       "      <th>domains</th>\n",
       "    </tr>\n",
       "  </thead>\n",
       "  <tbody>\n",
       "    <tr>\n",
       "      <th>145791</th>\n",
       "      <td>45241</td>\n",
       "      <td>2017-04-25-095328</td>\n",
       "      <td>Republicans, Democrats, and independents put p...</td>\n",
       "      <td>Jon Tester</td>\n",
       "      <td>[Q529351]</td>\n",
       "      <td>2017-04-25 11:00:00</td>\n",
       "      <td>2</td>\n",
       "      <td>[[Jon Tester, 0.7936], [None, 0.2065]]</td>\n",
       "      <td>[http://billingsgazette.com/news/opinion/edito...</td>\n",
       "      <td>E</td>\n",
       "      <td>[com, com]</td>\n",
       "    </tr>\n",
       "    <tr>\n",
       "      <th>489840</th>\n",
       "      <td>3188</td>\n",
       "      <td>2019-05-10-009953</td>\n",
       "      <td>be able to terminate a pregnancy up until the ...</td>\n",
       "      <td>Bernie Sanders</td>\n",
       "      <td>[Q359442]</td>\n",
       "      <td>2019-05-10 09:07:08</td>\n",
       "      <td>3</td>\n",
       "      <td>[[Bernie Sanders, 0.8969], [None, 0.0953], [Tu...</td>\n",
       "      <td>[https://abcnews.go.com/Politics/issue-late-te...</td>\n",
       "      <td>E</td>\n",
       "      <td>[com, com, com]</td>\n",
       "    </tr>\n",
       "    <tr>\n",
       "      <th>249192</th>\n",
       "      <td>148642</td>\n",
       "      <td>2017-05-27-055412</td>\n",
       "      <td>The legal requirement would still be there, bu...</td>\n",
       "      <td>Maggie Hassan</td>\n",
       "      <td>[Q24053]</td>\n",
       "      <td>2017-05-27 03:52:37</td>\n",
       "      <td>1</td>\n",
       "      <td>[[Maggie Hassan, 0.7455], [None, 0.2545]]</td>\n",
       "      <td>[http://www.vnews.com/Trump-Budget-Threatens-M...</td>\n",
       "      <td>E</td>\n",
       "      <td>[com]</td>\n",
       "    </tr>\n",
       "    <tr>\n",
       "      <th>292510</th>\n",
       "      <td>4610</td>\n",
       "      <td>2018-09-27-131125</td>\n",
       "      <td>we have entered a politics in which anyone can...</td>\n",
       "      <td>John Cornyn</td>\n",
       "      <td>[Q719568]</td>\n",
       "      <td>2018-09-27 17:01:15</td>\n",
       "      <td>1</td>\n",
       "      <td>[[John Cornyn, 0.8244], [None, 0.0994], [Chris...</td>\n",
       "      <td>[http://www.expressnews.com/news/politics/arti...</td>\n",
       "      <td>E</td>\n",
       "      <td>[com]</td>\n",
       "    </tr>\n",
       "  </tbody>\n",
       "</table>\n",
       "</div>"
      ],
      "text/plain": [
       "         index            quoteID  \\\n",
       "145791   45241  2017-04-25-095328   \n",
       "489840    3188  2019-05-10-009953   \n",
       "249192  148642  2017-05-27-055412   \n",
       "292510    4610  2018-09-27-131125   \n",
       "\n",
       "                                                quotation         speaker  \\\n",
       "145791  Republicans, Democrats, and independents put p...      Jon Tester   \n",
       "489840  be able to terminate a pregnancy up until the ...  Bernie Sanders   \n",
       "249192  The legal requirement would still be there, bu...   Maggie Hassan   \n",
       "292510  we have entered a politics in which anyone can...     John Cornyn   \n",
       "\n",
       "             qids                date  numOccurrences  \\\n",
       "145791  [Q529351] 2017-04-25 11:00:00               2   \n",
       "489840  [Q359442] 2019-05-10 09:07:08               3   \n",
       "249192   [Q24053] 2017-05-27 03:52:37               1   \n",
       "292510  [Q719568] 2018-09-27 17:01:15               1   \n",
       "\n",
       "                                                   probas  \\\n",
       "145791             [[Jon Tester, 0.7936], [None, 0.2065]]   \n",
       "489840  [[Bernie Sanders, 0.8969], [None, 0.0953], [Tu...   \n",
       "249192          [[Maggie Hassan, 0.7455], [None, 0.2545]]   \n",
       "292510  [[John Cornyn, 0.8244], [None, 0.0994], [Chris...   \n",
       "\n",
       "                                                     urls phase  \\\n",
       "145791  [http://billingsgazette.com/news/opinion/edito...     E   \n",
       "489840  [https://abcnews.go.com/Politics/issue-late-te...     E   \n",
       "249192  [http://www.vnews.com/Trump-Budget-Threatens-M...     E   \n",
       "292510  [http://www.expressnews.com/news/politics/arti...     E   \n",
       "\n",
       "                domains  \n",
       "145791       [com, com]  \n",
       "489840  [com, com, com]  \n",
       "249192            [com]  \n",
       "292510            [com]  "
      ]
     },
     "execution_count": 8,
     "metadata": {},
     "output_type": "execute_result"
    }
   ],
   "source": [
    "# Concatenate data across all years and display the format of quotation data\n",
    "annual_frames = [senate_quote_15, senate_quote_16, senate_quote_17, senate_quote_18, senate_quote_19, senate_quote_20]\n",
    "candidate_quotes = pd.concat(annual_frames).reset_index()\n",
    "candidate_quotes.sample(4)"
   ]
  },
  {
   "cell_type": "markdown",
   "id": "70dbf5bb-9830-4468-afa7-1ddd49d68bf7",
   "metadata": {},
   "source": [
    "Since QuoteBank may extract different number of total quotes at different time. An increase in quotations may just be caused by an increase of quotes extracted by Quotebanks. So, we use the total quotation number in QuoteBank to normalize our data"
   ]
  },
  {
   "cell_type": "code",
   "execution_count": 9,
   "id": "0c4df216-ad23-431e-a309-e9c01d9c3abe",
   "metadata": {},
   "outputs": [
    {
     "data": {
      "text/plain": [
       "2015-01    1661137\n",
       "2015-02    1659518\n",
       "2015-03    1867911\n",
       "2015-04    1522315\n",
       "2015-05    1136152\n",
       "            ...   \n",
       "2019-12    1565321\n",
       "2020-01    1732238\n",
       "2020-02    1599019\n",
       "2020-03    1323347\n",
       "2020-04     589845\n",
       "Length: 64, dtype: int64"
      ]
     },
     "execution_count": 9,
     "metadata": {},
     "output_type": "execute_result"
    }
   ],
   "source": [
    "# read the quote number data for each month\n",
    "\n",
    "import csv\n",
    "with open('SenateData/quote_num.csv','r') as inFile:\n",
    "    reader = csv.DictReader(inFile)\n",
    "    for row in reader:\n",
    "        quote_num = dict(row)\n",
    "quote_num = pd.Series({k:int(v) for k, v in quote_num.items()})\n",
    "quote_num"
   ]
  },
  {
   "cell_type": "code",
   "execution_count": 10,
   "id": "72f415ba-2fb9-43fa-983b-ec41f38813cd",
   "metadata": {},
   "outputs": [
    {
     "data": {
      "text/html": [
       "<div>\n",
       "<style scoped>\n",
       "    .dataframe tbody tr th:only-of-type {\n",
       "        vertical-align: middle;\n",
       "    }\n",
       "\n",
       "    .dataframe tbody tr th {\n",
       "        vertical-align: top;\n",
       "    }\n",
       "\n",
       "    .dataframe thead th {\n",
       "        text-align: right;\n",
       "    }\n",
       "</style>\n",
       "<table border=\"1\" class=\"dataframe\">\n",
       "  <thead>\n",
       "    <tr style=\"text-align: right;\">\n",
       "      <th></th>\n",
       "      <th>index</th>\n",
       "      <th>quoteID</th>\n",
       "      <th>quotation</th>\n",
       "      <th>speaker</th>\n",
       "      <th>qids</th>\n",
       "      <th>date</th>\n",
       "      <th>numOccurrences</th>\n",
       "      <th>probas</th>\n",
       "      <th>urls</th>\n",
       "      <th>phase</th>\n",
       "      <th>domains</th>\n",
       "      <th>normalize_factor</th>\n",
       "      <th>normalize_quotes</th>\n",
       "    </tr>\n",
       "  </thead>\n",
       "  <tbody>\n",
       "    <tr>\n",
       "      <th>487884</th>\n",
       "      <td>1232</td>\n",
       "      <td>2019-11-21-013978</td>\n",
       "      <td>But the tax the way you're putting it forward,...</td>\n",
       "      <td>Cory Booker</td>\n",
       "      <td>[Q1135767]</td>\n",
       "      <td>2019-11-21 02:44:49</td>\n",
       "      <td>1</td>\n",
       "      <td>[[Cory Booker, 0.8335], [None, 0.1201], [Eliza...</td>\n",
       "      <td>[http://philly.com/politics/election/democrati...</td>\n",
       "      <td>E</td>\n",
       "      <td>[com]</td>\n",
       "      <td>0.542426</td>\n",
       "      <td>0.542426</td>\n",
       "    </tr>\n",
       "    <tr>\n",
       "      <th>512681</th>\n",
       "      <td>26029</td>\n",
       "      <td>2019-08-21-055301</td>\n",
       "      <td>Let me say this to the President. I am a proud...</td>\n",
       "      <td>Bernie Sanders</td>\n",
       "      <td>[Q359442]</td>\n",
       "      <td>2019-08-21 00:00:00</td>\n",
       "      <td>17</td>\n",
       "      <td>[[Bernie Sanders, 0.6612], [None, 0.2628], [Pr...</td>\n",
       "      <td>[http://www.democracynow.org:80/2019/8/21/head...</td>\n",
       "      <td>E</td>\n",
       "      <td>[org, com, com, com, com, com, com, com, com, ...</td>\n",
       "      <td>0.579021</td>\n",
       "      <td>9.843352</td>\n",
       "    </tr>\n",
       "    <tr>\n",
       "      <th>376622</th>\n",
       "      <td>88722</td>\n",
       "      <td>2018-06-08-003430</td>\n",
       "      <td>After meeting with local leaders and community...</td>\n",
       "      <td>Rand Paul</td>\n",
       "      <td>[Q463557]</td>\n",
       "      <td>2018-06-08 15:06:53</td>\n",
       "      <td>1</td>\n",
       "      <td>[[Rand Paul, 0.939], [None, 0.061]]</td>\n",
       "      <td>[https://www.lanereport.com/102104/2018/06/ken...</td>\n",
       "      <td>E</td>\n",
       "      <td>[com]</td>\n",
       "      <td>0.482000</td>\n",
       "      <td>0.482000</td>\n",
       "    </tr>\n",
       "    <tr>\n",
       "      <th>217732</th>\n",
       "      <td>117182</td>\n",
       "      <td>2017-10-25-088930</td>\n",
       "      <td>Look, I've been willing to go stand toe-to-toe...</td>\n",
       "      <td>Rand Paul</td>\n",
       "      <td>[Q463557]</td>\n",
       "      <td>2017-10-25 12:27:23</td>\n",
       "      <td>2</td>\n",
       "      <td>[[Rand Paul, 0.6689], [None, 0.2752], [Jeff Fl...</td>\n",
       "      <td>[http://www.newsmax.com/Politics/rand-paul-dem...</td>\n",
       "      <td>E</td>\n",
       "      <td>[com, com]</td>\n",
       "      <td>0.345183</td>\n",
       "      <td>0.690366</td>\n",
       "    </tr>\n",
       "  </tbody>\n",
       "</table>\n",
       "</div>"
      ],
      "text/plain": [
       "         index            quoteID  \\\n",
       "487884    1232  2019-11-21-013978   \n",
       "512681   26029  2019-08-21-055301   \n",
       "376622   88722  2018-06-08-003430   \n",
       "217732  117182  2017-10-25-088930   \n",
       "\n",
       "                                                quotation         speaker  \\\n",
       "487884  But the tax the way you're putting it forward,...     Cory Booker   \n",
       "512681  Let me say this to the President. I am a proud...  Bernie Sanders   \n",
       "376622  After meeting with local leaders and community...       Rand Paul   \n",
       "217732  Look, I've been willing to go stand toe-to-toe...       Rand Paul   \n",
       "\n",
       "              qids                date  numOccurrences  \\\n",
       "487884  [Q1135767] 2019-11-21 02:44:49               1   \n",
       "512681   [Q359442] 2019-08-21 00:00:00              17   \n",
       "376622   [Q463557] 2018-06-08 15:06:53               1   \n",
       "217732   [Q463557] 2017-10-25 12:27:23               2   \n",
       "\n",
       "                                                   probas  \\\n",
       "487884  [[Cory Booker, 0.8335], [None, 0.1201], [Eliza...   \n",
       "512681  [[Bernie Sanders, 0.6612], [None, 0.2628], [Pr...   \n",
       "376622                [[Rand Paul, 0.939], [None, 0.061]]   \n",
       "217732  [[Rand Paul, 0.6689], [None, 0.2752], [Jeff Fl...   \n",
       "\n",
       "                                                     urls phase  \\\n",
       "487884  [http://philly.com/politics/election/democrati...     E   \n",
       "512681  [http://www.democracynow.org:80/2019/8/21/head...     E   \n",
       "376622  [https://www.lanereport.com/102104/2018/06/ken...     E   \n",
       "217732  [http://www.newsmax.com/Politics/rand-paul-dem...     E   \n",
       "\n",
       "                                                  domains  normalize_factor  \\\n",
       "487884                                              [com]          0.542426   \n",
       "512681  [org, com, com, com, com, com, com, com, com, ...          0.579021   \n",
       "376622                                              [com]          0.482000   \n",
       "217732                                         [com, com]          0.345183   \n",
       "\n",
       "        normalize_quotes  \n",
       "487884          0.542426  \n",
       "512681          9.843352  \n",
       "376622          0.482000  \n",
       "217732          0.690366  "
      ]
     },
     "execution_count": 10,
     "metadata": {},
     "output_type": "execute_result"
    }
   ],
   "source": [
    "# we use 10^6/total_quote_num as normalize factor\n",
    "\n",
    "candidate_quotes['normalize_factor'] = candidate_quotes['date'].map(lambda x: 1/quote_num[str(x)[:7]]*1e6)\n",
    "candidate_quotes['normalize_quotes'] = candidate_quotes['numOccurrences']*candidate_quotes['normalize_factor']\n",
    "candidate_quotes.sample(4)"
   ]
  },
  {
   "cell_type": "markdown",
   "id": "2c6a88cf",
   "metadata": {},
   "source": [
    "**1.2** We group the total number of quotations by speaker and dates. By doing so, we can visualize the change of quoted numbers as time goes on. Below, we take Bernie Sanders as an example."
   ]
  },
  {
   "cell_type": "code",
   "execution_count": 11,
   "id": "10f66fd3",
   "metadata": {},
   "outputs": [
    {
     "data": {
      "text/plain": [
       "speaker          date_only \n",
       "AARON JAMES      2016-02-18    5.757202\n",
       "                 2016-05-10    0.877068\n",
       "                 2016-05-12    0.877068\n",
       "                 2016-05-18    4.823876\n",
       "                 2016-05-25    0.877068\n",
       "                                 ...   \n",
       "ZAK RINGELSTEIN  2018-10-30    5.125275\n",
       "                 2018-11-01    2.381878\n",
       "                 2018-11-05    0.476376\n",
       "                 2018-11-07    0.476376\n",
       "                 2019-03-21    0.503878\n",
       "Name: normalize_quotes, Length: 79165, dtype: float64"
      ]
     },
     "execution_count": 11,
     "metadata": {},
     "output_type": "execute_result"
    }
   ],
   "source": [
    "# Clean the names by taking only upper case\n",
    "# Group the candidate total number of normalized quotes by day\n",
    "candidate_quotes['speaker'] = candidate_quotes['speaker'].str.upper()\n",
    "candidate_quotes['date_only'] = candidate_quotes['date'].dt.date\n",
    "candidate_quotes_byday = candidate_quotes.groupby(['speaker', 'date_only'])['normalize_quotes'].sum()\n",
    "candidate_quotes_byday"
   ]
  },
  {
   "cell_type": "code",
   "execution_count": 12,
   "id": "66baa32f",
   "metadata": {},
   "outputs": [
    {
     "data": {
      "text/plain": [
       "Text(0.5, 1.0, 'Bernie Sanders')"
      ]
     },
     "execution_count": 12,
     "metadata": {},
     "output_type": "execute_result"
    },
    {
     "data": {
      "image/png": "[encoded data removed]",
      "text/plain": [
       "<Figure size 432x288 with 1 Axes>"
      ]
     },
     "metadata": {
      "needs_background": "light"
     },
     "output_type": "display_data"
    }
   ],
   "source": [
    "# For example, we can visualize the quotation changes of Bernie Sanders\n",
    "candidate_quotes_byday['BERNIE SANDERS'].rolling(window=30).sum().plot() # one months average\n",
    "plt.xlabel('time')\n",
    "plt.xticks(rotation=90)\n",
    "plt.ylabel('Quoted numbers: Said')\n",
    "plt.title('Bernie Sanders')"
   ]
  },
  {
   "cell_type": "markdown",
   "id": "affd7213",
   "metadata": {},
   "source": [
    "**1.3** We compute the total number of quotations until their election. The election dataset only contains the year of election. However, since the U.S. Senate elections always take place in the first week of November, we just compute the total number of quotations until November.1st of the election year."
   ]
  },
  {
   "cell_type": "code",
   "execution_count": 13,
   "id": "5394320f",
   "metadata": {},
   "outputs": [],
   "source": [
    "# Add the election day corresponding to each candidate speaker\n",
    "candidate_info_byname = candidate_info.set_index(['candidate']) # Allow access info by name as index\n",
    "candidate_quotes['election_day'] = candidate_quotes['speaker'].map(candidate_info_byname['year']).astype(str)+ '-11-01'\n",
    "candidate_quotes['election_day'] = pd.to_datetime(candidate_quotes['election_day'])"
   ]
  },
  {
   "cell_type": "code",
   "execution_count": 14,
   "id": "1c0e2c40",
   "metadata": {},
   "outputs": [],
   "source": [
    "# Add election result (i.e. vote rate) for each candidate speaker\n",
    "candidate_info_byname['vote_rate'] = candidate_info_byname['candidatevotes']/candidate_info_byname['totalvotes']"
   ]
  },
  {
   "cell_type": "code",
   "execution_count": 15,
   "id": "4ab9dd4d",
   "metadata": {},
   "outputs": [],
   "source": [
    "# We group the number of quotations by election day\n",
    "quotes_byelection = candidate_quotes[candidate_quotes['date_only'] < candidate_quotes['election_day']]\n",
    "tot_quotes_byelection = pd.DataFrame(quotes_byelection.groupby(['speaker'])['normalize_quotes'].sum())\n",
    "tot_quotes_byelection.rename(columns = {'normalize_quotes': 'total_quotes_byelection'}, inplace=True)"
   ]
  },
  {
   "cell_type": "code",
   "execution_count": 16,
   "id": "dfe01a90",
   "metadata": {},
   "outputs": [
    {
     "name": "stdout",
     "output_type": "stream",
     "text": [
      "Pearson coefficient: 0.6483833179884129, p value: 7.57506251452068e-23\n"
     ]
    },
    {
     "data": {
      "image/png": "[encoded data removed]",
      "text/plain": [
       "<Figure size 432x288 with 1 Axes>"
      ]
     },
     "metadata": {
      "needs_background": "light"
     },
     "output_type": "display_data"
    }
   ],
   "source": [
    "# We add the vote rate and plot the scatter plot of vote rate against total quotes by election\n",
    "from scipy.stats import pearsonr\n",
    "tot_quotes_byelection['vote_rate'] = tot_quotes_byelection.index.map(candidate_info_byname['vote_rate'])\n",
    "quotes_vote = tot_quotes_byelection.plot.scatter(x = 'total_quotes_byelection', y = 'vote_rate', logx=True)\n",
    "(corr1, pvalue) = pearsonr(np.log(tot_quotes_byelection['total_quotes_byelection']), tot_quotes_byelection['vote_rate'])\n",
    "print(f'Pearson coefficient: {corr1}, p value: {pvalue}')"
   ]
  },
  {
   "cell_type": "markdown",
   "id": "77202c41",
   "metadata": {},
   "source": [
    "**Observation**: Based on the plot above, we can see that there is a positive correlation between quotations and vote_rate with p value < 0.05. The more a candidate was quoted before the election, the higher the voting rate he or she got."
   ]
  },
  {
   "cell_type": "markdown",
   "id": "c5755dbd",
   "metadata": {},
   "source": [
    "**1.4** We can also apply the analysis on quotations that mention senates."
   ]
  },
  {
   "cell_type": "code",
   "execution_count": 17,
   "id": "77227984",
   "metadata": {},
   "outputs": [],
   "source": [
    "# Load the stored quotations mention senate candidates since 2015 (by year)\n",
    "senate_quote_20_mention = pd.read_json('SenateData/quotes-2020-senates-mention.json.bz2', lines=True, compression='bz2')\n",
    "senate_quote_19_mention = pd.read_json('SenateData/quotes-2019-senates-mention.json.bz2', lines=True, compression='bz2')\n",
    "senate_quote_18_mention = pd.read_json('SenateData/quotes-2018-senates-mention.json.bz2', lines=True, compression='bz2')\n",
    "senate_quote_17_mention = pd.read_json('SenateData/quotes-2017-senates-mention.json.bz2', lines=True, compression='bz2')\n",
    "senate_quote_16_mention = pd.read_json('SenateData/quotes-2016-senates-mention.json.bz2', lines=True, compression='bz2')\n",
    "senate_quote_15_mention = pd.read_json('SenateData/quotes-2015-senates-mention.json.bz2', lines=True, compression='bz2')"
   ]
  },
  {
   "cell_type": "code",
   "execution_count": 18,
   "id": "98427f70",
   "metadata": {
    "scrolled": true
   },
   "outputs": [
    {
     "data": {
      "text/html": [
       "<div>\n",
       "<style scoped>\n",
       "    .dataframe tbody tr th:only-of-type {\n",
       "        vertical-align: middle;\n",
       "    }\n",
       "\n",
       "    .dataframe tbody tr th {\n",
       "        vertical-align: top;\n",
       "    }\n",
       "\n",
       "    .dataframe thead th {\n",
       "        text-align: right;\n",
       "    }\n",
       "</style>\n",
       "<table border=\"1\" class=\"dataframe\">\n",
       "  <thead>\n",
       "    <tr style=\"text-align: right;\">\n",
       "      <th></th>\n",
       "      <th>quoteID</th>\n",
       "      <th>quotation</th>\n",
       "      <th>speaker</th>\n",
       "      <th>qids</th>\n",
       "      <th>date</th>\n",
       "      <th>numOccurrences</th>\n",
       "      <th>probas</th>\n",
       "      <th>urls</th>\n",
       "      <th>phase</th>\n",
       "      <th>mention</th>\n",
       "      <th>domains</th>\n",
       "    </tr>\n",
       "  </thead>\n",
       "  <tbody>\n",
       "    <tr>\n",
       "      <th>11356</th>\n",
       "      <td>2016-07-18-077189</td>\n",
       "      <td>Sheldon Adelson is looking to give big dollars...</td>\n",
       "      <td>Donald Trump</td>\n",
       "      <td>[Q22686, Q27947481]</td>\n",
       "      <td>2016-07-18 13:35:28</td>\n",
       "      <td>2</td>\n",
       "      <td>[[Donald Trump, 0.667], [None, 0.3024], [Sheld...</td>\n",
       "      <td>[http://cnbc.com/2016/07/18/why-trump-had-to-b...</td>\n",
       "      <td>E</td>\n",
       "      <td>Marco Rubio</td>\n",
       "      <td>[com, com]</td>\n",
       "    </tr>\n",
       "    <tr>\n",
       "      <th>10968</th>\n",
       "      <td>2015-11-13-050266</td>\n",
       "      <td>If you're a Mexican-American Democrat, you nee...</td>\n",
       "      <td>None</td>\n",
       "      <td>[]</td>\n",
       "      <td>2015-11-13 21:00:52</td>\n",
       "      <td>1</td>\n",
       "      <td>[[None, 0.5294], [Hillary Clinton, 0.2868], [J...</td>\n",
       "      <td>[http://www.latintimes.com/marco-rubio-hints-s...</td>\n",
       "      <td>E</td>\n",
       "      <td>Marco Rubio</td>\n",
       "      <td>[com]</td>\n",
       "    </tr>\n",
       "    <tr>\n",
       "      <th>15197</th>\n",
       "      <td>2015-07-20-009952</td>\n",
       "      <td>Bernie Sanders 2016, Not For Sale</td>\n",
       "      <td>None</td>\n",
       "      <td>[]</td>\n",
       "      <td>2015-07-20 13:08:33</td>\n",
       "      <td>3</td>\n",
       "      <td>[[None, 0.7855], [Hillary Clinton, 0.2146]]</td>\n",
       "      <td>[http://feeds.theguardian.com/c/34708/f/663853...</td>\n",
       "      <td>E</td>\n",
       "      <td>Bernie Sanders</td>\n",
       "      <td>[com, com, co.za]</td>\n",
       "    </tr>\n",
       "    <tr>\n",
       "      <th>6653</th>\n",
       "      <td>2016-09-22-112532</td>\n",
       "      <td>The GOP's unshakable faith in free trade has b...</td>\n",
       "      <td>None</td>\n",
       "      <td>[]</td>\n",
       "      <td>2016-09-22 11:55:36</td>\n",
       "      <td>2</td>\n",
       "      <td>[[None, 0.6207], [Kevin Brady, 0.2066], [Donal...</td>\n",
       "      <td>[http://www.politico.com/tipsheets/huddle/2016...</td>\n",
       "      <td>E</td>\n",
       "      <td>Marco Rubio</td>\n",
       "      <td>[com, com]</td>\n",
       "    </tr>\n",
       "  </tbody>\n",
       "</table>\n",
       "</div>"
      ],
      "text/plain": [
       "                 quoteID                                          quotation  \\\n",
       "11356  2016-07-18-077189  Sheldon Adelson is looking to give big dollars...   \n",
       "10968  2015-11-13-050266  If you're a Mexican-American Democrat, you nee...   \n",
       "15197  2015-07-20-009952                  Bernie Sanders 2016, Not For Sale   \n",
       "6653   2016-09-22-112532  The GOP's unshakable faith in free trade has b...   \n",
       "\n",
       "            speaker                 qids                date  numOccurrences  \\\n",
       "11356  Donald Trump  [Q22686, Q27947481] 2016-07-18 13:35:28               2   \n",
       "10968          None                   [] 2015-11-13 21:00:52               1   \n",
       "15197          None                   [] 2015-07-20 13:08:33               3   \n",
       "6653           None                   [] 2016-09-22 11:55:36               2   \n",
       "\n",
       "                                                  probas  \\\n",
       "11356  [[Donald Trump, 0.667], [None, 0.3024], [Sheld...   \n",
       "10968  [[None, 0.5294], [Hillary Clinton, 0.2868], [J...   \n",
       "15197        [[None, 0.7855], [Hillary Clinton, 0.2146]]   \n",
       "6653   [[None, 0.6207], [Kevin Brady, 0.2066], [Donal...   \n",
       "\n",
       "                                                    urls phase  \\\n",
       "11356  [http://cnbc.com/2016/07/18/why-trump-had-to-b...     E   \n",
       "10968  [http://www.latintimes.com/marco-rubio-hints-s...     E   \n",
       "15197  [http://feeds.theguardian.com/c/34708/f/663853...     E   \n",
       "6653   [http://www.politico.com/tipsheets/huddle/2016...     E   \n",
       "\n",
       "              mention            domains  \n",
       "11356     Marco Rubio         [com, com]  \n",
       "10968     Marco Rubio              [com]  \n",
       "15197  Bernie Sanders  [com, com, co.za]  \n",
       "6653      Marco Rubio         [com, com]  "
      ]
     },
     "execution_count": 18,
     "metadata": {},
     "output_type": "execute_result"
    }
   ],
   "source": [
    "# Concatenate data across all years and display the format of quotation data\n",
    "annual_frames_mention = [senate_quote_15_mention, senate_quote_16_mention, senate_quote_17_mention, senate_quote_18_mention, senate_quote_19_mention, senate_quote_20_mention]\n",
    "candidate_quotes_mention = pd.concat(annual_frames_mention)\n",
    "candidate_quotes_mention.sample(4)"
   ]
  },
  {
   "cell_type": "code",
   "execution_count": 19,
   "id": "f80a5cf4",
   "metadata": {},
   "outputs": [
    {
     "data": {
      "text/html": [
       "<div>\n",
       "<style scoped>\n",
       "    .dataframe tbody tr th:only-of-type {\n",
       "        vertical-align: middle;\n",
       "    }\n",
       "\n",
       "    .dataframe tbody tr th {\n",
       "        vertical-align: top;\n",
       "    }\n",
       "\n",
       "    .dataframe thead th {\n",
       "        text-align: right;\n",
       "    }\n",
       "</style>\n",
       "<table border=\"1\" class=\"dataframe\">\n",
       "  <thead>\n",
       "    <tr style=\"text-align: right;\">\n",
       "      <th></th>\n",
       "      <th>quoteID</th>\n",
       "      <th>quotation</th>\n",
       "      <th>speaker</th>\n",
       "      <th>qids</th>\n",
       "      <th>date</th>\n",
       "      <th>numOccurrences</th>\n",
       "      <th>probas</th>\n",
       "      <th>urls</th>\n",
       "      <th>phase</th>\n",
       "      <th>mention</th>\n",
       "      <th>domains</th>\n",
       "      <th>date_only</th>\n",
       "      <th>normalize_factor</th>\n",
       "      <th>normalize_quotes</th>\n",
       "    </tr>\n",
       "  </thead>\n",
       "  <tbody>\n",
       "    <tr>\n",
       "      <th>12417</th>\n",
       "      <td>2019-03-06-039418</td>\n",
       "      <td>I think Aaron Finch has got more time on his s...</td>\n",
       "      <td>Mark Taylor</td>\n",
       "      <td>[Q12121376, Q1646155, Q16751422, Q16937410, Q1...</td>\n",
       "      <td>2019-03-06 00:43:00</td>\n",
       "      <td>1</td>\n",
       "      <td>[[Mark Taylor, 0.7812], [None, 0.1719], [Aaron...</td>\n",
       "      <td>[http://msn.com/en-au/sport/cricket/legends-pl...</td>\n",
       "      <td>E</td>\n",
       "      <td>AARON DAY</td>\n",
       "      <td>[com]</td>\n",
       "      <td>2019-03-06</td>\n",
       "      <td>0.503878</td>\n",
       "      <td>0.503878</td>\n",
       "    </tr>\n",
       "    <tr>\n",
       "      <th>10850</th>\n",
       "      <td>2018-07-13-055478</td>\n",
       "      <td>Last but certainly not least, I know John has ...</td>\n",
       "      <td>Kid Rock</td>\n",
       "      <td>[Q158175]</td>\n",
       "      <td>2018-07-13 04:00:00</td>\n",
       "      <td>3</td>\n",
       "      <td>[[Kid Rock, 0.8226], [None, 0.1127], [John Jam...</td>\n",
       "      <td>[http://www.dailytribune.com/government-and-po...</td>\n",
       "      <td>E</td>\n",
       "      <td>DEBBIE STABENOW</td>\n",
       "      <td>[com, com, com]</td>\n",
       "      <td>2018-07-13</td>\n",
       "      <td>0.517383</td>\n",
       "      <td>1.552150</td>\n",
       "    </tr>\n",
       "    <tr>\n",
       "      <th>15293</th>\n",
       "      <td>2017-03-19-005457</td>\n",
       "      <td>BN Beauty: Watch this Eyeliner Tutorial for an...</td>\n",
       "      <td>None</td>\n",
       "      <td>[]</td>\n",
       "      <td>2017-03-19 07:22:18</td>\n",
       "      <td>2</td>\n",
       "      <td>[[None, 0.4272], [Pius Adesanmi, 0.4073], [Har...</td>\n",
       "      <td>[https://www.bellanaija.com/wp-admin/admin-aja...</td>\n",
       "      <td>E</td>\n",
       "      <td>TOM JONES</td>\n",
       "      <td>[com, com]</td>\n",
       "      <td>2017-03-19</td>\n",
       "      <td>0.403952</td>\n",
       "      <td>0.807904</td>\n",
       "    </tr>\n",
       "    <tr>\n",
       "      <th>8481</th>\n",
       "      <td>2015-08-24-087869</td>\n",
       "      <td>These three young unarmed Americans saw this g...</td>\n",
       "      <td>Mark Steyn</td>\n",
       "      <td>[Q332357]</td>\n",
       "      <td>2015-08-24 07:00:00</td>\n",
       "      <td>1</td>\n",
       "      <td>[[Mark Steyn, 0.9179], [None, 0.0821]]</td>\n",
       "      <td>[http://rushlimbaugh.com/daily/2015/08/24/gues...</td>\n",
       "      <td>E</td>\n",
       "      <td>TODD C. YOUNG</td>\n",
       "      <td>[com]</td>\n",
       "      <td>2015-08-24</td>\n",
       "      <td>0.473512</td>\n",
       "      <td>0.473512</td>\n",
       "    </tr>\n",
       "    <tr>\n",
       "      <th>7910</th>\n",
       "      <td>2015-12-26-002974</td>\n",
       "      <td>Ask Mitt Romney and ask John McCain. White eva...</td>\n",
       "      <td>Samuel Rodriguez</td>\n",
       "      <td>[Q16206888]</td>\n",
       "      <td>2015-12-26 00:53:06</td>\n",
       "      <td>4</td>\n",
       "      <td>[[Samuel Rodriguez, 0.4263], [None, 0.379], [E...</td>\n",
       "      <td>[http://www.texastribune.org/2015/12/25/cruz-m...</td>\n",
       "      <td>E</td>\n",
       "      <td>MITT ROMNEY</td>\n",
       "      <td>[org, org, com, org]</td>\n",
       "      <td>2015-12-26</td>\n",
       "      <td>0.477546</td>\n",
       "      <td>1.910186</td>\n",
       "    </tr>\n",
       "  </tbody>\n",
       "</table>\n",
       "</div>"
      ],
      "text/plain": [
       "                 quoteID                                          quotation  \\\n",
       "12417  2019-03-06-039418  I think Aaron Finch has got more time on his s...   \n",
       "10850  2018-07-13-055478  Last but certainly not least, I know John has ...   \n",
       "15293  2017-03-19-005457  BN Beauty: Watch this Eyeliner Tutorial for an...   \n",
       "8481   2015-08-24-087869  These three young unarmed Americans saw this g...   \n",
       "7910   2015-12-26-002974  Ask Mitt Romney and ask John McCain. White eva...   \n",
       "\n",
       "                speaker                                               qids  \\\n",
       "12417       Mark Taylor  [Q12121376, Q1646155, Q16751422, Q16937410, Q1...   \n",
       "10850          Kid Rock                                          [Q158175]   \n",
       "15293              None                                                 []   \n",
       "8481         Mark Steyn                                          [Q332357]   \n",
       "7910   Samuel Rodriguez                                        [Q16206888]   \n",
       "\n",
       "                     date  numOccurrences  \\\n",
       "12417 2019-03-06 00:43:00               1   \n",
       "10850 2018-07-13 04:00:00               3   \n",
       "15293 2017-03-19 07:22:18               2   \n",
       "8481  2015-08-24 07:00:00               1   \n",
       "7910  2015-12-26 00:53:06               4   \n",
       "\n",
       "                                                  probas  \\\n",
       "12417  [[Mark Taylor, 0.7812], [None, 0.1719], [Aaron...   \n",
       "10850  [[Kid Rock, 0.8226], [None, 0.1127], [John Jam...   \n",
       "15293  [[None, 0.4272], [Pius Adesanmi, 0.4073], [Har...   \n",
       "8481              [[Mark Steyn, 0.9179], [None, 0.0821]]   \n",
       "7910   [[Samuel Rodriguez, 0.4263], [None, 0.379], [E...   \n",
       "\n",
       "                                                    urls phase  \\\n",
       "12417  [http://msn.com/en-au/sport/cricket/legends-pl...     E   \n",
       "10850  [http://www.dailytribune.com/government-and-po...     E   \n",
       "15293  [https://www.bellanaija.com/wp-admin/admin-aja...     E   \n",
       "8481   [http://rushlimbaugh.com/daily/2015/08/24/gues...     E   \n",
       "7910   [http://www.texastribune.org/2015/12/25/cruz-m...     E   \n",
       "\n",
       "               mention               domains   date_only  normalize_factor  \\\n",
       "12417        AARON DAY                 [com]  2019-03-06          0.503878   \n",
       "10850  DEBBIE STABENOW       [com, com, com]  2018-07-13          0.517383   \n",
       "15293        TOM JONES            [com, com]  2017-03-19          0.403952   \n",
       "8481     TODD C. YOUNG                 [com]  2015-08-24          0.473512   \n",
       "7910       MITT ROMNEY  [org, org, com, org]  2015-12-26          0.477546   \n",
       "\n",
       "       normalize_quotes  \n",
       "12417          0.503878  \n",
       "10850          1.552150  \n",
       "15293          0.807904  \n",
       "8481           0.473512  \n",
       "7910           1.910186  "
      ]
     },
     "execution_count": 19,
     "metadata": {},
     "output_type": "execute_result"
    }
   ],
   "source": [
    "# format the date\n",
    "candidate_quotes_mention['date_only'] = candidate_quotes_mention['date'].dt.date\n",
    "# change the name to upper format\n",
    "candidate_quotes_mention['mention'] = candidate_quotes_mention['mention'].str.upper()\n",
    "\n",
    "# Normalize the quotes\n",
    "candidate_quotes_mention['normalize_factor'] = candidate_quotes_mention['date'].map(lambda x: 1/quote_num[str(x)[:7]]*1e6)\n",
    "candidate_quotes_mention['normalize_quotes'] = candidate_quotes_mention['numOccurrences']*candidate_quotes_mention['normalize_factor']\n",
    "candidate_quotes_mention.sample(5)"
   ]
  },
  {
   "cell_type": "code",
   "execution_count": 20,
   "id": "5de83206",
   "metadata": {},
   "outputs": [
    {
     "data": {
      "text/plain": [
       "mention           date_only \n",
       "A. WAYNE JOHNSON  2015-01-16    0.601997\n",
       "                  2015-08-04    0.473512\n",
       "                  2015-12-11    0.955093\n",
       "                  2017-02-12    2.080072\n",
       "                  2017-05-28    0.401338\n",
       "                                  ...   \n",
       "WILLIE L. WILSON  2019-03-30    0.503878\n",
       "                  2019-07-16    0.668486\n",
       "                  2019-11-04    0.542426\n",
       "ZAK RINGELSTEIN   2018-06-22    0.482000\n",
       "                  2018-10-24    0.427106\n",
       "Name: normalize_quotes, Length: 34904, dtype: float64"
      ]
     },
     "execution_count": 20,
     "metadata": {},
     "output_type": "execute_result"
    }
   ],
   "source": [
    "# obtain normalized quotations by day\n",
    "candidate_quotes_mention_byday = candidate_quotes_mention.groupby(['mention', 'date_only'])['normalize_quotes'].sum()\n",
    "candidate_quotes_mention_byday"
   ]
  },
  {
   "cell_type": "code",
   "execution_count": 21,
   "id": "09bd3ad2",
   "metadata": {},
   "outputs": [
    {
     "data": {
      "text/plain": [
       "Text(0.5, 1.0, 'Bernie Sanders')"
      ]
     },
     "execution_count": 21,
     "metadata": {},
     "output_type": "execute_result"
    },
    {
     "data": {
      "image/png": "[encoded data removed]",
      "text/plain": [
       "<Figure size 432x288 with 1 Axes>"
      ]
     },
     "metadata": {
      "needs_background": "light"
     },
     "output_type": "display_data"
    }
   ],
   "source": [
    "# For example, we can visualize the quotation changes of Bernie Sanders\n",
    "candidate_quotes_mention_byday['BERNIE SANDERS'].rolling(window=30).sum().plot() # one months average\n",
    "plt.xlabel('time')\n",
    "plt.ylabel('Quoted numbers: Mention')\n",
    "plt.title('Bernie Sanders')"
   ]
  },
  {
   "cell_type": "code",
   "execution_count": 22,
   "id": "0c4ef323",
   "metadata": {},
   "outputs": [
    {
     "data": {
      "text/html": [
       "<div>\n",
       "<style scoped>\n",
       "    .dataframe tbody tr th:only-of-type {\n",
       "        vertical-align: middle;\n",
       "    }\n",
       "\n",
       "    .dataframe tbody tr th {\n",
       "        vertical-align: top;\n",
       "    }\n",
       "\n",
       "    .dataframe thead th {\n",
       "        text-align: right;\n",
       "    }\n",
       "</style>\n",
       "<table border=\"1\" class=\"dataframe\">\n",
       "  <thead>\n",
       "    <tr style=\"text-align: right;\">\n",
       "      <th></th>\n",
       "      <th>quoteID</th>\n",
       "      <th>quotation</th>\n",
       "      <th>speaker</th>\n",
       "      <th>qids</th>\n",
       "      <th>date</th>\n",
       "      <th>numOccurrences</th>\n",
       "      <th>probas</th>\n",
       "      <th>urls</th>\n",
       "      <th>phase</th>\n",
       "      <th>mention</th>\n",
       "      <th>domains</th>\n",
       "      <th>date_only</th>\n",
       "      <th>normalize_factor</th>\n",
       "      <th>normalize_quotes</th>\n",
       "      <th>election_day</th>\n",
       "    </tr>\n",
       "  </thead>\n",
       "  <tbody>\n",
       "    <tr>\n",
       "      <th>0</th>\n",
       "      <td>2015-05-17-016225</td>\n",
       "      <td>I really like Bernie Sanders and his policies ...</td>\n",
       "      <td>None</td>\n",
       "      <td>[]</td>\n",
       "      <td>2015-05-17 07:09:22</td>\n",
       "      <td>1</td>\n",
       "      <td>[[None, 0.81], [Bernie Sanders, 0.19]]</td>\n",
       "      <td>[http://dailykos.com/story/2015/05/15/1384917/...</td>\n",
       "      <td>E</td>\n",
       "      <td>BERNIE SANDERS</td>\n",
       "      <td>[com]</td>\n",
       "      <td>2015-05-17</td>\n",
       "      <td>0.880164</td>\n",
       "      <td>0.880164</td>\n",
       "      <td>2018-11-01</td>\n",
       "    </tr>\n",
       "    <tr>\n",
       "      <th>1</th>\n",
       "      <td>2015-08-25-018582</td>\n",
       "      <td>Elizabeth Warren does have a thumb on the puls...</td>\n",
       "      <td>Bakari Sellers</td>\n",
       "      <td>[Q4849014]</td>\n",
       "      <td>2015-08-25 10:02:35</td>\n",
       "      <td>4</td>\n",
       "      <td>[[Bakari Sellers, 0.8813], [None, 0.1075], [El...</td>\n",
       "      <td>[http://www.kspr.com/news/politics/does-elizab...</td>\n",
       "      <td>E</td>\n",
       "      <td>ELIZABETH A. WARREN</td>\n",
       "      <td>[com, com, com, com]</td>\n",
       "      <td>2015-08-25</td>\n",
       "      <td>0.473512</td>\n",
       "      <td>1.894046</td>\n",
       "      <td>2018-11-01</td>\n",
       "    </tr>\n",
       "    <tr>\n",
       "      <th>2</th>\n",
       "      <td>2015-03-11-040221</td>\n",
       "      <td>I'll invoke the marital privilege on some of i...</td>\n",
       "      <td>Mike Coffman</td>\n",
       "      <td>[Q547218]</td>\n",
       "      <td>2015-03-11 17:09:31</td>\n",
       "      <td>1</td>\n",
       "      <td>[[Mike Coffman, 0.4786], [None, 0.3104], [Tom ...</td>\n",
       "      <td>[http://www.huffingtonpost.com/jason-salzman/r...</td>\n",
       "      <td>E</td>\n",
       "      <td>CORY GARDNER</td>\n",
       "      <td>[com]</td>\n",
       "      <td>2015-03-11</td>\n",
       "      <td>0.535357</td>\n",
       "      <td>0.535357</td>\n",
       "      <td>2020-11-01</td>\n",
       "    </tr>\n",
       "    <tr>\n",
       "      <th>3</th>\n",
       "      <td>2015-09-24-081451</td>\n",
       "      <td>Richard Burr truly is North Carolina's `Invisi...</td>\n",
       "      <td>None</td>\n",
       "      <td>[]</td>\n",
       "      <td>2015-09-24 02:04:45</td>\n",
       "      <td>1</td>\n",
       "      <td>[[None, 0.7571], [Richard Burr, 0.182], [Paul ...</td>\n",
       "      <td>[http://www.wcti12.com/news/Ross-leaves-job-po...</td>\n",
       "      <td>E</td>\n",
       "      <td>RICHARD BURR</td>\n",
       "      <td>[com]</td>\n",
       "      <td>2015-09-24</td>\n",
       "      <td>0.447555</td>\n",
       "      <td>0.447555</td>\n",
       "      <td>2016-11-01</td>\n",
       "    </tr>\n",
       "  </tbody>\n",
       "</table>\n",
       "</div>"
      ],
      "text/plain": [
       "             quoteID                                          quotation  \\\n",
       "0  2015-05-17-016225  I really like Bernie Sanders and his policies ...   \n",
       "1  2015-08-25-018582  Elizabeth Warren does have a thumb on the puls...   \n",
       "2  2015-03-11-040221  I'll invoke the marital privilege on some of i...   \n",
       "3  2015-09-24-081451  Richard Burr truly is North Carolina's `Invisi...   \n",
       "\n",
       "          speaker        qids                date  numOccurrences  \\\n",
       "0            None          [] 2015-05-17 07:09:22               1   \n",
       "1  Bakari Sellers  [Q4849014] 2015-08-25 10:02:35               4   \n",
       "2    Mike Coffman   [Q547218] 2015-03-11 17:09:31               1   \n",
       "3            None          [] 2015-09-24 02:04:45               1   \n",
       "\n",
       "                                              probas  \\\n",
       "0             [[None, 0.81], [Bernie Sanders, 0.19]]   \n",
       "1  [[Bakari Sellers, 0.8813], [None, 0.1075], [El...   \n",
       "2  [[Mike Coffman, 0.4786], [None, 0.3104], [Tom ...   \n",
       "3  [[None, 0.7571], [Richard Burr, 0.182], [Paul ...   \n",
       "\n",
       "                                                urls phase  \\\n",
       "0  [http://dailykos.com/story/2015/05/15/1384917/...     E   \n",
       "1  [http://www.kspr.com/news/politics/does-elizab...     E   \n",
       "2  [http://www.huffingtonpost.com/jason-salzman/r...     E   \n",
       "3  [http://www.wcti12.com/news/Ross-leaves-job-po...     E   \n",
       "\n",
       "               mention               domains   date_only  normalize_factor  \\\n",
       "0       BERNIE SANDERS                 [com]  2015-05-17          0.880164   \n",
       "1  ELIZABETH A. WARREN  [com, com, com, com]  2015-08-25          0.473512   \n",
       "2         CORY GARDNER                 [com]  2015-03-11          0.535357   \n",
       "3         RICHARD BURR                 [com]  2015-09-24          0.447555   \n",
       "\n",
       "   normalize_quotes election_day  \n",
       "0          0.880164   2018-11-01  \n",
       "1          1.894046   2018-11-01  \n",
       "2          0.535357   2020-11-01  \n",
       "3          0.447555   2016-11-01  "
      ]
     },
     "execution_count": 22,
     "metadata": {},
     "output_type": "execute_result"
    }
   ],
   "source": [
    "# Add the election day corresponding to each candidate mentioned\n",
    "candidate_info_byname = candidate_info.set_index(['candidate']) # Allow access info by name as index\n",
    "candidate_quotes_mention['mention']=candidate_quotes_mention.mention.map(lambda x:x.upper())\n",
    "candidate_quotes_mention['election_day'] = candidate_quotes_mention['mention'].map(candidate_info_byname['year']).astype(str)+ '-11-01'\n",
    "candidate_quotes_mention['election_day'] = pd.to_datetime(candidate_quotes_mention['election_day'])\n",
    "candidate_quotes_mention.head(4)"
   ]
  },
  {
   "cell_type": "code",
   "execution_count": 23,
   "id": "d1ba356c",
   "metadata": {},
   "outputs": [
    {
     "name": "stdout",
     "output_type": "stream",
     "text": [
      "Pearson coefficient: 0.5320764453359699, p value: 1.1343252830666171e-22\n"
     ]
    },
    {
     "data": {
      "image/png": "[encoded data removed]",
      "text/plain": [
       "<Figure size 432x288 with 1 Axes>"
      ]
     },
     "metadata": {
      "needs_background": "light"
     },
     "output_type": "display_data"
    }
   ],
   "source": [
    "from scipy.stats import pearsonr\n",
    "\n",
    "# Add election result (i.e. vote rate) for each candidate speaker\n",
    "candidate_info_byname['vote_rate'] = candidate_info_byname['candidatevotes']/candidate_info_byname['totalvotes']\n",
    "\n",
    "# We group the number of normalized quotations before election day\n",
    "quotes_byelection = candidate_quotes_mention[candidate_quotes_mention['date_only'] < candidate_quotes_mention['election_day']]\n",
    "tot_quotes_byelection = pd.DataFrame(quotes_byelection.groupby(['mention'])['normalize_quotes'].sum())\n",
    "tot_quotes_byelection.rename(columns = {'normalize_quotes': 'total_quotes_byelection'}, inplace=True)\n",
    "\n",
    "# We add the vote rate and plot the scatter plot of vote rate against total quotes by election\n",
    "tot_quotes_byelection['vote_rate'] = tot_quotes_byelection.index.map(candidate_info_byname['vote_rate'])\n",
    "\n",
    "# linear regression\n",
    "quotes_vote = tot_quotes_byelection.plot.scatter(x = 'total_quotes_byelection', y = 'vote_rate', logx=True)\n",
    "(corr1, pvalue) = pearsonr(np.log(tot_quotes_byelection['total_quotes_byelection']), tot_quotes_byelection['vote_rate'])\n",
    "print(f'Pearson coefficient: {corr1}, p value: {pvalue}')"
   ]
  },
  {
   "cell_type": "markdown",
   "id": "d10ca665-aab8-4eb6-a3b8-5b32ba2dc165",
   "metadata": {},
   "source": [
    "**Observation**: Based on the plot above, we can see that there is also a positive correlation between number of mentioned quotations and vote_rate with p value < 0.05."
   ]
  },
  {
   "cell_type": "markdown",
   "id": "465f405e",
   "metadata": {},
   "source": [
    "## 2. Weigh the quotations by readership\n",
    "We are aware of the different reading statistics of different media. We try to weigh the quotations by the readership of the source media."
   ]
  },
  {
   "cell_type": "markdown",
   "id": "78072790",
   "metadata": {},
   "source": [
    "**2.1** First, we sample 50k quotes and look at the source media of those quotations. This would give us a feel of how much media is covered by QuoteBank and which media appear most often. To balance the data said by candidates and the data mentioning candidates, we sample the 50k quotes according to the ratio of total data in 'candidate_quotes' and 'candidate_quotes_mention'"
   ]
  },
  {
   "cell_type": "code",
   "execution_count": 24,
   "id": "d885f7be",
   "metadata": {},
   "outputs": [
    {
     "name": "stdout",
     "output_type": "stream",
     "text": [
      "we sample 43127 quotes said by candidates and 6873 quotes mentioning candidates\n"
     ]
    }
   ],
   "source": [
    "# sample 50k quotes and see where quotes are published\n",
    "candidate_quotes_mention.reset_index(inplace=True) # Reset index of mention dataset\n",
    "sample_n = 50000\n",
    "said_n = len(candidate_quotes.index) # total number of quotes said by candidates\n",
    "mention_n = len(candidate_quotes_mention.index) # total number of quotes mentioning candidates\n",
    "mention_sample_n = int(sample_n * mention_n/(mention_n + said_n))\n",
    "said_sample_n = sample_n - mention_sample_n\n",
    "print('we sample {} quotes said by candidates and {} quotes mentioning candidates'.format(said_sample_n, mention_sample_n))"
   ]
  },
  {
   "cell_type": "code",
   "execution_count": 25,
   "id": "27cb8060",
   "metadata": {},
   "outputs": [],
   "source": [
    "# We extract the domains from two data set based on the ratio computed above\n",
    "total_domains = []\n",
    "said_sample = candidate_quotes.sample(said_sample_n) # sample from quotes said by candidates\n",
    "# We extract web domains from the url\n",
    "for i in said_sample.index:\n",
    "    urls = said_sample.at[i,'urls']\n",
    "    for url in urls: # Some URL here is actually a list (there are lists in list), not sure why it happens\n",
    "        total_domains.append(get_tld(url, as_object=True).domain)\n",
    "\n",
    "mention_sample = candidate_quotes.sample(mention_sample_n) # sample from quotes said by candidates\n",
    "# We use the same pipeline to extract domain\n",
    "for i in mention_sample.index:\n",
    "    urls = mention_sample.at[i,'urls']\n",
    "    for url in urls: # Some URL here is actually a list (there are lists in list), not sure why it happens\n",
    "        total_domains.append(get_tld(url, as_object=True).domain)"
   ]
  },
  {
   "cell_type": "markdown",
   "id": "9d14268e",
   "metadata": {},
   "source": [
    "We use the code below to find top 30 frequently appearing media in the sample. (Note: the last several media may be different from sample to sample, but overall they do not affect the result!)"
   ]
  },
  {
   "cell_type": "code",
   "execution_count": 92,
   "id": "e5460c99",
   "metadata": {},
   "outputs": [
    {
     "name": "stdout",
     "output_type": "stream",
     "text": [
      "----top 30 news agency/publisher:\n",
      "  [('krmg', 5706), ('wokv', 4145), ('news965', 3719), ('msn', 3121), ('breitbart', 2633), ('yahoo', 2584), ('businessinsider', 2413), ('thehill', 2350), ('washingtonexaminer', 2320), ('washingtontimes', 2137), ('cnn', 2048), ('cbsnews', 1997), ('wsbradio', 1947), ('newsmax', 1940), ('foxnews', 1781), ('nytimes', 1645), ('einnews', 1436), ('sfgate', 1277), ('washingtonpost', 1254), ('nbcnews', 1245), ('news12', 1188), ('huffingtonpost', 1161), ('kdhnews', 1107), ('abc-7', 1058), ('startribune', 1023), ('ksl', 999), ('lmtonline', 980), ('rollcall', 908), ('tbo', 889), ('politico', 875)]\n",
      "----number of news agency covered: 4795\n"
     ]
    }
   ],
   "source": [
    "# Count the frequency of media occurences in quotation dataset\n",
    "from collections import Counter\n",
    "domain_count = Counter(total_domains).most_common()\n",
    "print(\"----top 30 news agency/publisher:\\n \", domain_count[0:30])\n",
    "print('----number of news agency covered:', len(domain_count))\n"
   ]
  },
  {
   "cell_type": "markdown",
   "id": "02273b19",
   "metadata": {},
   "source": [
    "Among 50k samples, there are over 4000 different website domains, indicating a sufficiently wide coverage of media. So the quotations can be an indicator of public exposure. Besides, we observe an exponential decrease of counts in the database."
   ]
  },
  {
   "cell_type": "code",
   "execution_count": 27,
   "id": "f56d72aa",
   "metadata": {},
   "outputs": [
    {
     "data": {
      "text/plain": [
       "Text(0.5, 0, 'occurences in sampled quote data')"
      ]
     },
     "execution_count": 27,
     "metadata": {},
     "output_type": "execute_result"
    },
    {
     "data": {
      "image/png": "[encoded data removed]",
      "text/plain": [
       "<Figure size 432x288 with 1 Axes>"
      ]
     },
     "metadata": {
      "needs_background": "light"
     },
     "output_type": "display_data"
    }
   ],
   "source": [
    "# Plot the histogram characterizing the frequency of each media appearing\n",
    "_, y_counts = zip(*domain_count)\n",
    "plt.hist(y_counts, bins=20)\n",
    "plt.yscale('log')\n",
    "plt.ylabel('number of media')\n",
    "plt.xlabel('occurences in sampled quote data')"
   ]
  },
  {
   "cell_type": "markdown",
   "id": "348f4862",
   "metadata": {},
   "source": [
    "**Do Not Re run the cell below! In case sample changes**\n",
    "\n",
    "10 randomly selected news agency/publisher except the top 30:\n",
    "\n",
    "  ['bakersfield','wtkr', 'go', 'navytimes', 'advertiser-tribune', 'circleofblue', 'nbcphiladelphia', 'malaymail', 'illawarramercury', 'hawaiinewsnow']\n",
    "  \n",
    "The code to get the 10 random media is shown below, we comment it out because each time it selects 10 different media, which may confuse the viewer of this notebook."
   ]
  },
  {
   "cell_type": "code",
   "execution_count": 88,
   "id": "b473f8d5",
   "metadata": {},
   "outputs": [
    {
     "name": "stdout",
     "output_type": "stream",
     "text": [
      "skipping\n"
     ]
    }
   ],
   "source": [
    "%%script echo skipping\n",
    "#media_ind = np.random.randint(31, len(domain_count), size=10)\n",
    "#print(\"10 randomly selected news agency/publisher except the top 30:\\n \", [domain_count[i] for i in media_ind])"
   ]
  },
  {
   "cell_type": "markdown",
   "id": "182839a2",
   "metadata": {},
   "source": [
    "The distribution is heavy-tailed, with only a few big media like CNN and Fox News occurring frequently. Most media occurs no more than 1.5% among all quotations. So, we think it is sufficient to just weigh the quotations extracted from those frequently occurring media. Moreover, it is very difficult to automatically find media's reading statistics (or other indicators of popularity) just based on the url major domain name. We could not think of a way to do so. Neither could we find an open dataset helping us. Therefore, we decide to manually look up the readership of those top 30 new agencies. For the rest media, we will sample 10 media from them and manually look up the reading statistics. We will take the average readership of those 10 media to represent the readership of the rest media. This will take up some time, so we plan to finish those manual work in the following weeks (see proposed timeline). As a result, we do not include any exposure level (quotation weighted by media readership) in Milestone 2. Instead, we just use the number of quotations (assuming all media offer the same public exposure)."
   ]
  },
  {
   "cell_type": "markdown",
   "id": "2b201045",
   "metadata": {},
   "source": [
    "**2.2** We manually search the total website visits of top 30 news agencies of the 10 randomly selected agencies among the rest. We could not find the data of some websites, so we use the median of others to fill it."
   ]
  },
  {
   "cell_type": "code",
   "execution_count": 29,
   "id": "3ae3c340",
   "metadata": {},
   "outputs": [
    {
     "data": {
      "text/html": [
       "<div>\n",
       "<style scoped>\n",
       "    .dataframe tbody tr th:only-of-type {\n",
       "        vertical-align: middle;\n",
       "    }\n",
       "\n",
       "    .dataframe tbody tr th {\n",
       "        vertical-align: top;\n",
       "    }\n",
       "\n",
       "    .dataframe thead th {\n",
       "        text-align: right;\n",
       "    }\n",
       "</style>\n",
       "<table border=\"1\" class=\"dataframe\">\n",
       "  <thead>\n",
       "    <tr style=\"text-align: right;\">\n",
       "      <th></th>\n",
       "      <th>webdomain</th>\n",
       "      <th>media</th>\n",
       "      <th>total_view_in_US</th>\n",
       "    </tr>\n",
       "  </thead>\n",
       "  <tbody>\n",
       "    <tr>\n",
       "      <th>0</th>\n",
       "      <td>KRMG</td>\n",
       "      <td>KRMG</td>\n",
       "      <td>0.11</td>\n",
       "    </tr>\n",
       "    <tr>\n",
       "      <th>1</th>\n",
       "      <td>news965</td>\n",
       "      <td>WBDO</td>\n",
       "      <td>21.68</td>\n",
       "    </tr>\n",
       "    <tr>\n",
       "      <th>2</th>\n",
       "      <td>wokv</td>\n",
       "      <td>WOKV</td>\n",
       "      <td>0.09</td>\n",
       "    </tr>\n",
       "    <tr>\n",
       "      <th>3</th>\n",
       "      <td>msn</td>\n",
       "      <td>MSN</td>\n",
       "      <td>323.98</td>\n",
       "    </tr>\n",
       "    <tr>\n",
       "      <th>4</th>\n",
       "      <td>breitbart</td>\n",
       "      <td>Breitbart</td>\n",
       "      <td>42.19</td>\n",
       "    </tr>\n",
       "  </tbody>\n",
       "</table>\n",
       "</div>"
      ],
      "text/plain": [
       "   webdomain      media  total_view_in_US\n",
       "0       KRMG       KRMG              0.11\n",
       "1    news965       WBDO             21.68\n",
       "2       wokv       WOKV              0.09\n",
       "3        msn        MSN            323.98\n",
       "4  breitbart  Breitbart             42.19"
      ]
     },
     "execution_count": 29,
     "metadata": {},
     "output_type": "execute_result"
    }
   ],
   "source": [
    "weight_file = 'SenateData/WebsiteVisit.csv'\n",
    "weight_df = pd.read_csv(weight_file)\n",
    "# Fill the NaN value by median (which avoid effect from outliers)\n",
    "weight_df.loc[:, ['total_view_in_US']] = weight_df[['total_view_in_US']].fillna(weight_df[['total_view_in_US']].median())\n",
    "weight_df.head(5) # demonstrate the format website view data for weight\n"
   ]
  },
  {
   "cell_type": "code",
   "execution_count": 30,
   "id": "d4c3453a",
   "metadata": {},
   "outputs": [
    {
     "name": "stdout",
     "output_type": "stream",
     "text": [
      "The median value of total views of the 10 agencies is 0.675\n"
     ]
    }
   ],
   "source": [
    "# Get the views for the 10 randomly selected agencies\n",
    "random_file = 'SenateData/RandomVisit.csv'\n",
    "random_df = pd.read_csv(random_file)\n",
    "# We take the median of total_US_view of the 10 agencies, as view for other agencies\n",
    "random_view = random_df['total_view_in_US'].median()\n",
    "print('The median value of total views of the 10 agencies is {}'.format(random_view))"
   ]
  },
  {
   "cell_type": "markdown",
   "id": "d6c7eb73",
   "metadata": {},
   "source": [
    "Then, we add those weights to the 'candidate_quotes' and 'candidate_quotes_mention'"
   ]
  },
  {
   "cell_type": "code",
   "execution_count": 31,
   "id": "5b63449c",
   "metadata": {},
   "outputs": [
    {
     "name": "stdout",
     "output_type": "stream",
     "text": [
      "For quotes said by candidates, we found 594482 numbers of quotation occurrences from top 30\n"
     ]
    }
   ],
   "source": [
    "# assign weights to quotes said by candidates\n",
    "weight_dict = dict(zip(weight_df['webdomain'], weight_df['total_view_in_US']))\n",
    "n_hit = 0\n",
    "for i in candidate_quotes.index:\n",
    "    urls = candidate_quotes.at[i,'urls']\n",
    "    weight_ = 0\n",
    "    for url in urls: # Some URL here is actually a list (there are lists in list), not sure why it happens\n",
    "        webdomain = get_tld(url, as_object=True).domain # when it is a list, the multiply urls point to the same website\n",
    "        if webdomain in weight_dict.keys():\n",
    "            weight_ = weight_ + weight_dict[webdomain]\n",
    "            n_hit = n_hit + 1\n",
    "        else:\n",
    "            weight_ = weight_ + random_view\n",
    "    candidate_quotes.at[i,'views'] = weight_ \n",
    "print('For quotes said by candidates, we found {} numbers of quotation occurrences from top 30'.format(n_hit))"
   ]
  },
  {
   "cell_type": "code",
   "execution_count": 32,
   "id": "16027420",
   "metadata": {},
   "outputs": [
    {
     "data": {
      "text/html": [
       "<div>\n",
       "<style scoped>\n",
       "    .dataframe tbody tr th:only-of-type {\n",
       "        vertical-align: middle;\n",
       "    }\n",
       "\n",
       "    .dataframe tbody tr th {\n",
       "        vertical-align: top;\n",
       "    }\n",
       "\n",
       "    .dataframe thead th {\n",
       "        text-align: right;\n",
       "    }\n",
       "</style>\n",
       "<table border=\"1\" class=\"dataframe\">\n",
       "  <thead>\n",
       "    <tr style=\"text-align: right;\">\n",
       "      <th></th>\n",
       "      <th>index</th>\n",
       "      <th>quoteID</th>\n",
       "      <th>quotation</th>\n",
       "      <th>speaker</th>\n",
       "      <th>qids</th>\n",
       "      <th>date</th>\n",
       "      <th>numOccurrences</th>\n",
       "      <th>probas</th>\n",
       "      <th>urls</th>\n",
       "      <th>phase</th>\n",
       "      <th>domains</th>\n",
       "      <th>normalize_factor</th>\n",
       "      <th>normalize_quotes</th>\n",
       "      <th>date_only</th>\n",
       "      <th>election_day</th>\n",
       "      <th>views</th>\n",
       "      <th>normalize_views</th>\n",
       "    </tr>\n",
       "  </thead>\n",
       "  <tbody>\n",
       "    <tr>\n",
       "      <th>172163</th>\n",
       "      <td>71613</td>\n",
       "      <td>2017-01-31-016720</td>\n",
       "      <td>It was probably one of the more disturbing sce...</td>\n",
       "      <td>TOM JONES</td>\n",
       "      <td>[Q16091498, Q16730416, Q180850, Q23303147, Q23...</td>\n",
       "      <td>2017-01-31 17:47:56</td>\n",
       "      <td>2</td>\n",
       "      <td>[[Tom Jones, 0.8603], [None, 0.1073], [Preside...</td>\n",
       "      <td>[http://king5.com/news/local/undocumented-crim...</td>\n",
       "      <td>E</td>\n",
       "      <td>[com, com]</td>\n",
       "      <td>14.157488</td>\n",
       "      <td>28.314976</td>\n",
       "      <td>2017-01-31</td>\n",
       "      <td>2016-11-01</td>\n",
       "      <td>1.350</td>\n",
       "      <td>19.112609</td>\n",
       "    </tr>\n",
       "    <tr>\n",
       "      <th>428770</th>\n",
       "      <td>140870</td>\n",
       "      <td>2018-08-18-044827</td>\n",
       "      <td>They have been to the playoffs, but they want ...</td>\n",
       "      <td>MIKE LEE</td>\n",
       "      <td>[Q21064126, Q30122331, Q55622025, Q627098, Q68...</td>\n",
       "      <td>2018-08-18 03:17:22</td>\n",
       "      <td>1</td>\n",
       "      <td>[[Mike Lee, 0.9345], [None, 0.0402], [Hunter S...</td>\n",
       "      <td>[http://www.thenews-messenger.com/story/sports...</td>\n",
       "      <td>E</td>\n",
       "      <td>[com]</td>\n",
       "      <td>0.497688</td>\n",
       "      <td>0.497688</td>\n",
       "      <td>2018-08-18</td>\n",
       "      <td>2016-11-01</td>\n",
       "      <td>0.675</td>\n",
       "      <td>0.335939</td>\n",
       "    </tr>\n",
       "    <tr>\n",
       "      <th>542255</th>\n",
       "      <td>12279</td>\n",
       "      <td>2020-02-17-011255</td>\n",
       "      <td>decades-long legislative history of protecting...</td>\n",
       "      <td>BERNIE SANDERS</td>\n",
       "      <td>[Q359442]</td>\n",
       "      <td>2020-02-17 00:08:00</td>\n",
       "      <td>2</td>\n",
       "      <td>[[Bernie Sanders, 0.5237], [Christina Liu, 0.2...</td>\n",
       "      <td>[https://www.businessinsider.in/politics/news/...</td>\n",
       "      <td>E</td>\n",
       "      <td>[in, com]</td>\n",
       "      <td>0.625383</td>\n",
       "      <td>1.250767</td>\n",
       "      <td>2020-02-17</td>\n",
       "      <td>2018-11-01</td>\n",
       "      <td>59.605</td>\n",
       "      <td>37.275980</td>\n",
       "    </tr>\n",
       "    <tr>\n",
       "      <th>441372</th>\n",
       "      <td>153472</td>\n",
       "      <td>2018-06-23-003272</td>\n",
       "      <td>appears to be the next step in the Trump admin...</td>\n",
       "      <td>DIANNE FEINSTEIN</td>\n",
       "      <td>[Q230733]</td>\n",
       "      <td>2018-06-23 23:11:34</td>\n",
       "      <td>1</td>\n",
       "      <td>[[Dianne Feinstein, 0.8866], [None, 0.1054], [...</td>\n",
       "      <td>[http://www.naturalnews.com/2018-06-23-leftist...</td>\n",
       "      <td>E</td>\n",
       "      <td>[com]</td>\n",
       "      <td>0.482000</td>\n",
       "      <td>0.482000</td>\n",
       "      <td>2018-06-23</td>\n",
       "      <td>2018-11-01</td>\n",
       "      <td>0.675</td>\n",
       "      <td>0.325350</td>\n",
       "    </tr>\n",
       "    <tr>\n",
       "      <th>297891</th>\n",
       "      <td>9991</td>\n",
       "      <td>2018-07-25-027418</td>\n",
       "      <td>heads of the same snake</td>\n",
       "      <td>SHIVA AYYADURAI</td>\n",
       "      <td>[Q7499234]</td>\n",
       "      <td>2018-07-25 14:56:33</td>\n",
       "      <td>1</td>\n",
       "      <td>[[Shiva Ayyadurai, 0.7413], [None, 0.2282], [E...</td>\n",
       "      <td>[https://www.nationalreview.com/news/elizabeth...</td>\n",
       "      <td>E</td>\n",
       "      <td>[com]</td>\n",
       "      <td>0.517383</td>\n",
       "      <td>0.517383</td>\n",
       "      <td>2018-07-25</td>\n",
       "      <td>2018-11-01</td>\n",
       "      <td>0.675</td>\n",
       "      <td>0.349234</td>\n",
       "    </tr>\n",
       "  </tbody>\n",
       "</table>\n",
       "</div>"
      ],
      "text/plain": [
       "         index            quoteID  \\\n",
       "172163   71613  2017-01-31-016720   \n",
       "428770  140870  2018-08-18-044827   \n",
       "542255   12279  2020-02-17-011255   \n",
       "441372  153472  2018-06-23-003272   \n",
       "297891    9991  2018-07-25-027418   \n",
       "\n",
       "                                                quotation           speaker  \\\n",
       "172163  It was probably one of the more disturbing sce...         TOM JONES   \n",
       "428770  They have been to the playoffs, but they want ...          MIKE LEE   \n",
       "542255  decades-long legislative history of protecting...    BERNIE SANDERS   \n",
       "441372  appears to be the next step in the Trump admin...  DIANNE FEINSTEIN   \n",
       "297891                            heads of the same snake   SHIVA AYYADURAI   \n",
       "\n",
       "                                                     qids                date  \\\n",
       "172163  [Q16091498, Q16730416, Q180850, Q23303147, Q23... 2017-01-31 17:47:56   \n",
       "428770  [Q21064126, Q30122331, Q55622025, Q627098, Q68... 2018-08-18 03:17:22   \n",
       "542255                                          [Q359442] 2020-02-17 00:08:00   \n",
       "441372                                          [Q230733] 2018-06-23 23:11:34   \n",
       "297891                                         [Q7499234] 2018-07-25 14:56:33   \n",
       "\n",
       "        numOccurrences                                             probas  \\\n",
       "172163               2  [[Tom Jones, 0.8603], [None, 0.1073], [Preside...   \n",
       "428770               1  [[Mike Lee, 0.9345], [None, 0.0402], [Hunter S...   \n",
       "542255               2  [[Bernie Sanders, 0.5237], [Christina Liu, 0.2...   \n",
       "441372               1  [[Dianne Feinstein, 0.8866], [None, 0.1054], [...   \n",
       "297891               1  [[Shiva Ayyadurai, 0.7413], [None, 0.2282], [E...   \n",
       "\n",
       "                                                     urls phase     domains  \\\n",
       "172163  [http://king5.com/news/local/undocumented-crim...     E  [com, com]   \n",
       "428770  [http://www.thenews-messenger.com/story/sports...     E       [com]   \n",
       "542255  [https://www.businessinsider.in/politics/news/...     E   [in, com]   \n",
       "441372  [http://www.naturalnews.com/2018-06-23-leftist...     E       [com]   \n",
       "297891  [https://www.nationalreview.com/news/elizabeth...     E       [com]   \n",
       "\n",
       "        normalize_factor  normalize_quotes   date_only election_day   views  \\\n",
       "172163         14.157488         28.314976  2017-01-31   2016-11-01   1.350   \n",
       "428770          0.497688          0.497688  2018-08-18   2016-11-01   0.675   \n",
       "542255          0.625383          1.250767  2020-02-17   2018-11-01  59.605   \n",
       "441372          0.482000          0.482000  2018-06-23   2018-11-01   0.675   \n",
       "297891          0.517383          0.517383  2018-07-25   2018-11-01   0.675   \n",
       "\n",
       "        normalize_views  \n",
       "172163        19.112609  \n",
       "428770         0.335939  \n",
       "542255        37.275980  \n",
       "441372         0.325350  \n",
       "297891         0.349234  "
      ]
     },
     "execution_count": 32,
     "metadata": {},
     "output_type": "execute_result"
    }
   ],
   "source": [
    "# Multiply views by normalization factors\n",
    "candidate_quotes['normalize_views'] = candidate_quotes['views']*candidate_quotes['normalize_factor']\n",
    "candidate_quotes.sample(5)"
   ]
  },
  {
   "cell_type": "code",
   "execution_count": 33,
   "id": "c40427e3",
   "metadata": {},
   "outputs": [
    {
     "name": "stdout",
     "output_type": "stream",
     "text": [
      "For quotes mentioning candidates, we found 63187 numbers of quotation occurrences from top 30\n"
     ]
    }
   ],
   "source": [
    "# assign weights to quotes mentioning candidates\n",
    "n_hit = 0\n",
    "for i in candidate_quotes_mention.index:\n",
    "    urls = candidate_quotes_mention.at[i,'urls']\n",
    "    weight_ = 0\n",
    "    for url in urls: # Some URL here is actually a list (there are lists in list), not sure why it happens\n",
    "        webdomain = get_tld(url, as_object=True).domain # when it is a list, the multiply urls point to the same website\n",
    "        if webdomain in weight_dict.keys():\n",
    "            weight_ = weight_ + weight_dict[webdomain]\n",
    "            n_hit = n_hit + 1\n",
    "        else:\n",
    "            weight_ = weight_ + random_view\n",
    "    candidate_quotes_mention.at[i,'views'] = weight_ \n",
    "print('For quotes mentioning candidates, we found {} numbers of quotation occurrences from top 30'.format(n_hit))"
   ]
  },
  {
   "cell_type": "code",
   "execution_count": 34,
   "id": "157f9716",
   "metadata": {},
   "outputs": [
    {
     "data": {
      "text/html": [
       "<div>\n",
       "<style scoped>\n",
       "    .dataframe tbody tr th:only-of-type {\n",
       "        vertical-align: middle;\n",
       "    }\n",
       "\n",
       "    .dataframe tbody tr th {\n",
       "        vertical-align: top;\n",
       "    }\n",
       "\n",
       "    .dataframe thead th {\n",
       "        text-align: right;\n",
       "    }\n",
       "</style>\n",
       "<table border=\"1\" class=\"dataframe\">\n",
       "  <thead>\n",
       "    <tr style=\"text-align: right;\">\n",
       "      <th></th>\n",
       "      <th>index</th>\n",
       "      <th>quoteID</th>\n",
       "      <th>quotation</th>\n",
       "      <th>speaker</th>\n",
       "      <th>qids</th>\n",
       "      <th>date</th>\n",
       "      <th>numOccurrences</th>\n",
       "      <th>probas</th>\n",
       "      <th>urls</th>\n",
       "      <th>phase</th>\n",
       "      <th>mention</th>\n",
       "      <th>domains</th>\n",
       "      <th>date_only</th>\n",
       "      <th>normalize_factor</th>\n",
       "      <th>normalize_quotes</th>\n",
       "      <th>election_day</th>\n",
       "      <th>views</th>\n",
       "      <th>normalize_views</th>\n",
       "    </tr>\n",
       "  </thead>\n",
       "  <tbody>\n",
       "    <tr>\n",
       "      <th>46893</th>\n",
       "      <td>14583</td>\n",
       "      <td>2017-08-23-147015</td>\n",
       "      <td>Vice Adm. Joseph P. Aucoin will be removed fro...</td>\n",
       "      <td>Dan Lamothe</td>\n",
       "      <td>[Q47015171]</td>\n",
       "      <td>2017-08-23 07:00:00</td>\n",
       "      <td>1</td>\n",
       "      <td>[[Dan Lamothe, 0.6503], [None, 0.2746], [Peter...</td>\n",
       "      <td>[https://www.washingtonpost.com/news/powerpost...</td>\n",
       "      <td>E</td>\n",
       "      <td>JOHN MCCAIN</td>\n",
       "      <td>[com]</td>\n",
       "      <td>2017-08-23</td>\n",
       "      <td>0.357747</td>\n",
       "      <td>0.357747</td>\n",
       "      <td>2016-11-01</td>\n",
       "      <td>120.060</td>\n",
       "      <td>42.951097</td>\n",
       "    </tr>\n",
       "    <tr>\n",
       "      <th>66661</th>\n",
       "      <td>18657</td>\n",
       "      <td>2018-06-02-023275</td>\n",
       "      <td>If what we are being told is true, who inside ...</td>\n",
       "      <td>Sara Carter</td>\n",
       "      <td>[Q21264633]</td>\n",
       "      <td>2018-06-02 00:55:05</td>\n",
       "      <td>1</td>\n",
       "      <td>[[Sara Carter, 0.4901], [None, 0.2779], [Loret...</td>\n",
       "      <td>[http://www.wnd.com/2018/06/report-obamas-budd...</td>\n",
       "      <td>E</td>\n",
       "      <td>JOHN JAMES</td>\n",
       "      <td>[com]</td>\n",
       "      <td>2018-06-02</td>\n",
       "      <td>0.482000</td>\n",
       "      <td>0.482000</td>\n",
       "      <td>2018-11-01</td>\n",
       "      <td>0.675</td>\n",
       "      <td>0.325350</td>\n",
       "    </tr>\n",
       "    <tr>\n",
       "      <th>27343</th>\n",
       "      <td>11046</td>\n",
       "      <td>2016-05-17-079992</td>\n",
       "      <td>reaching out to Bernie Sanders since 2011, loo...</td>\n",
       "      <td>Jill Stein</td>\n",
       "      <td>[Q235321]</td>\n",
       "      <td>2016-05-17 03:37:13</td>\n",
       "      <td>1</td>\n",
       "      <td>[[Jill Stein, 0.8532], [None, 0.1331], [Kshama...</td>\n",
       "      <td>[http://blackagendareport.com/black_agenda_rad...</td>\n",
       "      <td>E</td>\n",
       "      <td>BERNIE SANDERS</td>\n",
       "      <td>[com]</td>\n",
       "      <td>2016-05-17</td>\n",
       "      <td>0.438534</td>\n",
       "      <td>0.438534</td>\n",
       "      <td>2018-11-01</td>\n",
       "      <td>0.675</td>\n",
       "      <td>0.296011</td>\n",
       "    </tr>\n",
       "    <tr>\n",
       "      <th>68074</th>\n",
       "      <td>20070</td>\n",
       "      <td>2018-05-03-003704</td>\n",
       "      <td>Above &amp; Beyond: John F. Kennedy and America's ...</td>\n",
       "      <td>None</td>\n",
       "      <td>[]</td>\n",
       "      <td>2018-05-03 02:00:00</td>\n",
       "      <td>1</td>\n",
       "      <td>[[None, 0.4721], [Casey Sherman, 0.3883], [Chr...</td>\n",
       "      <td>[http://www.thesunchronicle.com/go/area-reside...</td>\n",
       "      <td>E</td>\n",
       "      <td>JOHN KENNEDY</td>\n",
       "      <td>[com]</td>\n",
       "      <td>2018-05-03</td>\n",
       "      <td>0.402776</td>\n",
       "      <td>0.402776</td>\n",
       "      <td>2016-11-01</td>\n",
       "      <td>0.675</td>\n",
       "      <td>0.271874</td>\n",
       "    </tr>\n",
       "    <tr>\n",
       "      <th>9422</th>\n",
       "      <td>9422</td>\n",
       "      <td>2015-04-07-078321</td>\n",
       "      <td>They were the Rob Blum and Joni Ernst values t...</td>\n",
       "      <td>Gary Kroeger</td>\n",
       "      <td>[Q5525394]</td>\n",
       "      <td>2015-04-07 14:26:14</td>\n",
       "      <td>1</td>\n",
       "      <td>[[Gary Kroeger, 0.7661], [None, 0.2119], [Moni...</td>\n",
       "      <td>[http://www.radioiowa.com/2015/04/07/third-dem...</td>\n",
       "      <td>E</td>\n",
       "      <td>JONI ERNST</td>\n",
       "      <td>[com]</td>\n",
       "      <td>2015-04-07</td>\n",
       "      <td>0.656894</td>\n",
       "      <td>0.656894</td>\n",
       "      <td>2020-11-01</td>\n",
       "      <td>0.675</td>\n",
       "      <td>0.443404</td>\n",
       "    </tr>\n",
       "  </tbody>\n",
       "</table>\n",
       "</div>"
      ],
      "text/plain": [
       "       index            quoteID  \\\n",
       "46893  14583  2017-08-23-147015   \n",
       "66661  18657  2018-06-02-023275   \n",
       "27343  11046  2016-05-17-079992   \n",
       "68074  20070  2018-05-03-003704   \n",
       "9422    9422  2015-04-07-078321   \n",
       "\n",
       "                                               quotation       speaker  \\\n",
       "46893  Vice Adm. Joseph P. Aucoin will be removed fro...   Dan Lamothe   \n",
       "66661  If what we are being told is true, who inside ...   Sara Carter   \n",
       "27343  reaching out to Bernie Sanders since 2011, loo...    Jill Stein   \n",
       "68074  Above & Beyond: John F. Kennedy and America's ...          None   \n",
       "9422   They were the Rob Blum and Joni Ernst values t...  Gary Kroeger   \n",
       "\n",
       "              qids                date  numOccurrences  \\\n",
       "46893  [Q47015171] 2017-08-23 07:00:00               1   \n",
       "66661  [Q21264633] 2018-06-02 00:55:05               1   \n",
       "27343    [Q235321] 2016-05-17 03:37:13               1   \n",
       "68074           [] 2018-05-03 02:00:00               1   \n",
       "9422    [Q5525394] 2015-04-07 14:26:14               1   \n",
       "\n",
       "                                                  probas  \\\n",
       "46893  [[Dan Lamothe, 0.6503], [None, 0.2746], [Peter...   \n",
       "66661  [[Sara Carter, 0.4901], [None, 0.2779], [Loret...   \n",
       "27343  [[Jill Stein, 0.8532], [None, 0.1331], [Kshama...   \n",
       "68074  [[None, 0.4721], [Casey Sherman, 0.3883], [Chr...   \n",
       "9422   [[Gary Kroeger, 0.7661], [None, 0.2119], [Moni...   \n",
       "\n",
       "                                                    urls phase  \\\n",
       "46893  [https://www.washingtonpost.com/news/powerpost...     E   \n",
       "66661  [http://www.wnd.com/2018/06/report-obamas-budd...     E   \n",
       "27343  [http://blackagendareport.com/black_agenda_rad...     E   \n",
       "68074  [http://www.thesunchronicle.com/go/area-reside...     E   \n",
       "9422   [http://www.radioiowa.com/2015/04/07/third-dem...     E   \n",
       "\n",
       "              mention domains   date_only  normalize_factor  normalize_quotes  \\\n",
       "46893     JOHN MCCAIN   [com]  2017-08-23          0.357747          0.357747   \n",
       "66661      JOHN JAMES   [com]  2018-06-02          0.482000          0.482000   \n",
       "27343  BERNIE SANDERS   [com]  2016-05-17          0.438534          0.438534   \n",
       "68074    JOHN KENNEDY   [com]  2018-05-03          0.402776          0.402776   \n",
       "9422       JONI ERNST   [com]  2015-04-07          0.656894          0.656894   \n",
       "\n",
       "      election_day    views  normalize_views  \n",
       "46893   2016-11-01  120.060        42.951097  \n",
       "66661   2018-11-01    0.675         0.325350  \n",
       "27343   2018-11-01    0.675         0.296011  \n",
       "68074   2016-11-01    0.675         0.271874  \n",
       "9422    2020-11-01    0.675         0.443404  "
      ]
     },
     "execution_count": 34,
     "metadata": {},
     "output_type": "execute_result"
    }
   ],
   "source": [
    "# Multiply views by normalization factors\n",
    "candidate_quotes_mention['normalize_views'] = candidate_quotes_mention['views']*candidate_quotes_mention['normalize_factor']\n",
    "candidate_quotes_mention.sample(5)"
   ]
  },
  {
   "cell_type": "markdown",
   "id": "b51e738a",
   "metadata": {},
   "source": [
    "**2.3** We repeat the protocol in section **1.2-1.3** to examine the effect of weighted quotations by candidates on their election results "
   ]
  },
  {
   "cell_type": "code",
   "execution_count": 35,
   "id": "56a35498",
   "metadata": {},
   "outputs": [
    {
     "data": {
      "text/plain": [
       "speaker          date_only \n",
       "AARON JAMES      2016-02-18    3.886111\n",
       "                 2016-05-10    0.592021\n",
       "                 2016-05-12    0.592021\n",
       "                 2016-05-18    3.256116\n",
       "                 2016-05-25    0.592021\n",
       "                                 ...   \n",
       "ZAK RINGELSTEIN  2018-10-30    3.459560\n",
       "                 2018-11-01    1.607768\n",
       "                 2018-11-05    0.321554\n",
       "                 2018-11-07    0.321554\n",
       "                 2019-03-21    0.340118\n",
       "Name: normalize_views, Length: 79165, dtype: float64"
      ]
     },
     "execution_count": 35,
     "metadata": {},
     "output_type": "execute_result"
    }
   ],
   "source": [
    "# Clean the names by taking only upper case\n",
    "# Group the candidate total number of quotes by day\n",
    "candidate_quotes['speaker'] = candidate_quotes['speaker'].str.upper()\n",
    "candidate_quotes['date_only'] = candidate_quotes['date'].dt.date\n",
    "candidate_views_byday = candidate_quotes.groupby(['speaker', 'date_only'])['normalize_views'].sum()\n",
    "candidate_views_byday"
   ]
  },
  {
   "cell_type": "code",
   "execution_count": 36,
   "id": "2c48ef66",
   "metadata": {
    "scrolled": true
   },
   "outputs": [
    {
     "data": {
      "text/plain": [
       "Text(0.5, 1.0, 'Bernie Sanders')"
      ]
     },
     "execution_count": 36,
     "metadata": {},
     "output_type": "execute_result"
    },
    {
     "data": {
      "image/png": "[encoded data removed]",
      "text/plain": [
       "<Figure size 432x288 with 1 Axes>"
      ]
     },
     "metadata": {
      "needs_background": "light"
     },
     "output_type": "display_data"
    }
   ],
   "source": [
    "# For example, we can visualize the quotation changes of Bernie Sanders\n",
    "candidate_quotes_byday['BERNIE SANDERS'].rolling(window=30).sum().plot() # one months average\n",
    "plt.xlabel('time')\n",
    "plt.xticks(rotation=90)\n",
    "plt.ylabel('Weight Quotes: Said')\n",
    "plt.title('Bernie Sanders')"
   ]
  },
  {
   "cell_type": "code",
   "execution_count": 37,
   "id": "bddc3da3",
   "metadata": {},
   "outputs": [],
   "source": [
    "# We group weighted quotations (audience views) by election day\n",
    "quotes_byelection = candidate_quotes[candidate_quotes['date_only'] < candidate_quotes['election_day']]\n",
    "views_byelection = pd.DataFrame(quotes_byelection.groupby(['speaker'])['normalize_views'].sum())\n",
    "views_byelection.rename(columns = {'normalize_views': 'views_byelection'}, inplace=True)"
   ]
  },
  {
   "cell_type": "code",
   "execution_count": 38,
   "id": "6dd92364",
   "metadata": {},
   "outputs": [
    {
     "name": "stdout",
     "output_type": "stream",
     "text": [
      "Pearson coefficient: 0.6463664020545221, p value: 1.133606340518867e-22\n"
     ]
    },
    {
     "data": {
      "image/png": "[encoded data removed]",
      "text/plain": [
       "<Figure size 432x288 with 1 Axes>"
      ]
     },
     "metadata": {
      "needs_background": "light"
     },
     "output_type": "display_data"
    }
   ],
   "source": [
    "# We add the vote rate and plot the scatter plot of vote rate against total quotes by election\n",
    "from scipy.stats import pearsonr\n",
    "views_byelection['vote_rate'] = views_byelection.index.map(candidate_info_byname['vote_rate'])\n",
    "views_vote = views_byelection.plot.scatter(x = 'views_byelection', y = 'vote_rate', logx=True)\n",
    "(corr1, pvalue) = pearsonr(np.log(views_byelection['views_byelection']), views_byelection['vote_rate'])\n",
    "print(f'Pearson coefficient: {corr1}, p value: {pvalue}')"
   ]
  },
  {
   "cell_type": "markdown",
   "id": "d9ec06fe",
   "metadata": {},
   "source": [
    "\n",
    "We notice very little change in the Pearson coefficient and p-value when comparing the result to section **1.3** (where we did not weigh the quotes by website views). "
   ]
  },
  {
   "cell_type": "markdown",
   "id": "97b34976",
   "metadata": {},
   "source": [
    "**2.4** We repeat the protocol in section **1.4** to examine the effect of weighted quotations mentioning candidates on their election results"
   ]
  },
  {
   "cell_type": "code",
   "execution_count": 39,
   "id": "5f05e086",
   "metadata": {},
   "outputs": [
    {
     "data": {
      "text/plain": [
       "mention           date_only \n",
       "A. WAYNE JOHNSON  2015-01-16      0.406348\n",
       "                  2015-08-04    153.408265\n",
       "                  2015-12-11      0.644688\n",
       "                  2017-02-12      1.404049\n",
       "                  2017-05-28      0.270903\n",
       "                                   ...    \n",
       "WILLIE L. WILSON  2019-03-30      0.340118\n",
       "                  2019-07-16     28.203418\n",
       "                  2019-11-04     11.759805\n",
       "ZAK RINGELSTEIN   2018-06-22      0.325350\n",
       "                  2018-10-24      0.288297\n",
       "Name: normalize_views, Length: 34904, dtype: float64"
      ]
     },
     "execution_count": 39,
     "metadata": {},
     "output_type": "execute_result"
    }
   ],
   "source": [
    "# obtain normalized views by day\n",
    "candidate_quotes_mention_byday = candidate_quotes_mention.groupby(['mention', 'date_only'])['normalize_views'].sum()\n",
    "candidate_quotes_mention_byday"
   ]
  },
  {
   "cell_type": "code",
   "execution_count": 40,
   "id": "6d00d21d",
   "metadata": {},
   "outputs": [
    {
     "data": {
      "text/plain": [
       "Text(0.5, 1.0, 'Bernie Sanders')"
      ]
     },
     "execution_count": 40,
     "metadata": {},
     "output_type": "execute_result"
    },
    {
     "data": {
      "image/png": "[encoded data removed]",
      "text/plain": [
       "<Figure size 432x288 with 1 Axes>"
      ]
     },
     "metadata": {
      "needs_background": "light"
     },
     "output_type": "display_data"
    }
   ],
   "source": [
    "# For example, we can visualize the normalized view changes of Bernie Sanders\n",
    "candidate_quotes_mention_byday['BERNIE SANDERS'].rolling(window=30).sum().plot() # one months average\n",
    "plt.xlabel('time')\n",
    "plt.ylabel('Quoted numbers: Mention')\n",
    "plt.title('Bernie Sanders')"
   ]
  },
  {
   "cell_type": "code",
   "execution_count": 41,
   "id": "ad1f1e0e",
   "metadata": {},
   "outputs": [
    {
     "name": "stdout",
     "output_type": "stream",
     "text": [
      "Pearson coefficient: 0.5944534670274672, p value: 3.416648866161606e-29\n"
     ]
    },
    {
     "data": {
      "image/png": "[encoded data removed]",
      "text/plain": [
       "<Figure size 432x288 with 1 Axes>"
      ]
     },
     "metadata": {
      "needs_background": "light"
     },
     "output_type": "display_data"
    }
   ],
   "source": [
    "from scipy.stats import pearsonr\n",
    "\n",
    "# We group the number of normalized views before election day\n",
    "quotes_byelection = candidate_quotes_mention[candidate_quotes_mention['date_only'] < candidate_quotes_mention['election_day']]\n",
    "tot_quotes_byelection = pd.DataFrame(quotes_byelection.groupby(['mention'])['normalize_views'].sum())\n",
    "tot_quotes_byelection.rename(columns = {'normalize_views': 'total_views_byelection'}, inplace=True)\n",
    "\n",
    "# We add the vote rate and plot the scatter plot of vote rate against total quotes by election\n",
    "tot_quotes_byelection['vote_rate'] = tot_quotes_byelection.index.map(candidate_info_byname['vote_rate'])\n",
    "\n",
    "# linear regression\n",
    "quotes_vote = tot_quotes_byelection.plot.scatter(x = 'total_views_byelection', y = 'vote_rate', logx=True)\n",
    "(corr1, pvalue) = pearsonr(np.log(tot_quotes_byelection['total_views_byelection']), tot_quotes_byelection['vote_rate'])\n",
    "print(f'Pearson coefficient: {corr1}, p value: {pvalue}')"
   ]
  },
  {
   "cell_type": "markdown",
   "id": "b82a3c76",
   "metadata": {},
   "source": [
    "Again, we notice very little change in the Pearson coefficient and p-value when comparing the result to section **1.4** (where we did not weigh the quotes by website views). "
   ]
  },
  {
   "cell_type": "markdown",
   "id": "3427df77",
   "metadata": {},
   "source": [
    "# 3. Clustering the quotation data\n",
    "To answer our proposed question 3, we clustered the quotation data to find different exposure-gaining process."
   ]
  },
  {
   "cell_type": "markdown",
   "id": "9bab413f",
   "metadata": {},
   "source": [
    "We will extract feature for each senate candidate."
   ]
  },
  {
   "cell_type": "code",
   "execution_count": 42,
   "id": "1a055bfc",
   "metadata": {},
   "outputs": [
    {
     "data": {
      "text/html": [
       "<div>\n",
       "<style scoped>\n",
       "    .dataframe tbody tr th:only-of-type {\n",
       "        vertical-align: middle;\n",
       "    }\n",
       "\n",
       "    .dataframe tbody tr th {\n",
       "        vertical-align: top;\n",
       "    }\n",
       "\n",
       "    .dataframe thead th {\n",
       "        text-align: right;\n",
       "    }\n",
       "</style>\n",
       "<table border=\"1\" class=\"dataframe\">\n",
       "  <thead>\n",
       "    <tr style=\"text-align: right;\">\n",
       "      <th></th>\n",
       "      <th>index</th>\n",
       "      <th>quoteID</th>\n",
       "      <th>quotation</th>\n",
       "      <th>speaker</th>\n",
       "      <th>qids</th>\n",
       "      <th>date</th>\n",
       "      <th>numOccurrences</th>\n",
       "      <th>probas</th>\n",
       "      <th>urls</th>\n",
       "      <th>phase</th>\n",
       "      <th>domains</th>\n",
       "      <th>normalize_factor</th>\n",
       "      <th>normalize_quotes</th>\n",
       "      <th>date_only</th>\n",
       "      <th>election_day</th>\n",
       "      <th>views</th>\n",
       "      <th>normalize_views</th>\n",
       "      <th>days_before_election</th>\n",
       "    </tr>\n",
       "  </thead>\n",
       "  <tbody>\n",
       "    <tr>\n",
       "      <th>292045</th>\n",
       "      <td>4145</td>\n",
       "      <td>2018-08-24-030882</td>\n",
       "      <td>I think it would be a mistake -- and I don't t...</td>\n",
       "      <td>JOHN CORNYN</td>\n",
       "      <td>[Q719568]</td>\n",
       "      <td>2018-08-24 09:51:04</td>\n",
       "      <td>1</td>\n",
       "      <td>[[John Cornyn, 0.8698], [None, 0.1058], [Linds...</td>\n",
       "      <td>[http://www.ozarksfirst.com/news/sessions-hits...</td>\n",
       "      <td>E</td>\n",
       "      <td>[com]</td>\n",
       "      <td>0.497688</td>\n",
       "      <td>0.497688</td>\n",
       "      <td>2018-08-24</td>\n",
       "      <td>2020-11-01</td>\n",
       "      <td>0.675</td>\n",
       "      <td>0.335939</td>\n",
       "      <td>800</td>\n",
       "    </tr>\n",
       "    <tr>\n",
       "      <th>251086</th>\n",
       "      <td>150536</td>\n",
       "      <td>2017-04-12-141760</td>\n",
       "      <td>We ask you to work with Florida's families and...</td>\n",
       "      <td>BILL NELSON</td>\n",
       "      <td>[Q22639331, Q3272899, Q358437, Q4910326]</td>\n",
       "      <td>2017-04-12 10:25:46</td>\n",
       "      <td>4</td>\n",
       "      <td>[[Bill Nelson, 0.9081], [None, 0.0872], [Kevin...</td>\n",
       "      <td>[http://www.upi.com/Energy-News/2017/04/12/Flo...</td>\n",
       "      <td>E</td>\n",
       "      <td>[com, com, com, com]</td>\n",
       "      <td>0.398950</td>\n",
       "      <td>1.595799</td>\n",
       "      <td>2017-04-12</td>\n",
       "      <td>2018-11-01</td>\n",
       "      <td>44.215</td>\n",
       "      <td>17.639559</td>\n",
       "      <td>568</td>\n",
       "    </tr>\n",
       "    <tr>\n",
       "      <th>335774</th>\n",
       "      <td>47874</td>\n",
       "      <td>2018-06-28-102156</td>\n",
       "      <td>These are very serious, professional people wi...</td>\n",
       "      <td>MARCO RUBIO</td>\n",
       "      <td>[Q324546]</td>\n",
       "      <td>2018-06-28 21:39:50</td>\n",
       "      <td>1</td>\n",
       "      <td>[[Marco Rubio, 0.6915], [None, 0.1862], [Lisa ...</td>\n",
       "      <td>[https://www.weeklystandard.com/jenna-lifhits/...</td>\n",
       "      <td>E</td>\n",
       "      <td>[com]</td>\n",
       "      <td>0.482000</td>\n",
       "      <td>0.482000</td>\n",
       "      <td>2018-06-28</td>\n",
       "      <td>2016-11-01</td>\n",
       "      <td>0.675</td>\n",
       "      <td>0.325350</td>\n",
       "      <td>-604</td>\n",
       "    </tr>\n",
       "    <tr>\n",
       "      <th>117356</th>\n",
       "      <td>16806</td>\n",
       "      <td>2017-05-24-063184</td>\n",
       "      <td>It's a good policy statement,</td>\n",
       "      <td>TIM SCOTT</td>\n",
       "      <td>[Q12068555, Q3528687, Q41449449, Q55188449, Q5...</td>\n",
       "      <td>2017-05-24 04:01:00</td>\n",
       "      <td>1</td>\n",
       "      <td>[[Tim Scott, 0.5901], [None, 0.3791], [Preside...</td>\n",
       "      <td>[http://www.washingtonexaminer.com/gop-spooked...</td>\n",
       "      <td>E</td>\n",
       "      <td>[com]</td>\n",
       "      <td>0.401338</td>\n",
       "      <td>0.401338</td>\n",
       "      <td>2017-05-24</td>\n",
       "      <td>2016-11-01</td>\n",
       "      <td>13.320</td>\n",
       "      <td>5.345823</td>\n",
       "      <td>-204</td>\n",
       "    </tr>\n",
       "  </tbody>\n",
       "</table>\n",
       "</div>"
      ],
      "text/plain": [
       "         index            quoteID  \\\n",
       "292045    4145  2018-08-24-030882   \n",
       "251086  150536  2017-04-12-141760   \n",
       "335774   47874  2018-06-28-102156   \n",
       "117356   16806  2017-05-24-063184   \n",
       "\n",
       "                                                quotation      speaker  \\\n",
       "292045  I think it would be a mistake -- and I don't t...  JOHN CORNYN   \n",
       "251086  We ask you to work with Florida's families and...  BILL NELSON   \n",
       "335774  These are very serious, professional people wi...  MARCO RUBIO   \n",
       "117356                      It's a good policy statement,    TIM SCOTT   \n",
       "\n",
       "                                                     qids                date  \\\n",
       "292045                                          [Q719568] 2018-08-24 09:51:04   \n",
       "251086           [Q22639331, Q3272899, Q358437, Q4910326] 2017-04-12 10:25:46   \n",
       "335774                                          [Q324546] 2018-06-28 21:39:50   \n",
       "117356  [Q12068555, Q3528687, Q41449449, Q55188449, Q5... 2017-05-24 04:01:00   \n",
       "\n",
       "        numOccurrences                                             probas  \\\n",
       "292045               1  [[John Cornyn, 0.8698], [None, 0.1058], [Linds...   \n",
       "251086               4  [[Bill Nelson, 0.9081], [None, 0.0872], [Kevin...   \n",
       "335774               1  [[Marco Rubio, 0.6915], [None, 0.1862], [Lisa ...   \n",
       "117356               1  [[Tim Scott, 0.5901], [None, 0.3791], [Preside...   \n",
       "\n",
       "                                                     urls phase  \\\n",
       "292045  [http://www.ozarksfirst.com/news/sessions-hits...     E   \n",
       "251086  [http://www.upi.com/Energy-News/2017/04/12/Flo...     E   \n",
       "335774  [https://www.weeklystandard.com/jenna-lifhits/...     E   \n",
       "117356  [http://www.washingtonexaminer.com/gop-spooked...     E   \n",
       "\n",
       "                     domains  normalize_factor  normalize_quotes   date_only  \\\n",
       "292045                 [com]          0.497688          0.497688  2018-08-24   \n",
       "251086  [com, com, com, com]          0.398950          1.595799  2017-04-12   \n",
       "335774                 [com]          0.482000          0.482000  2018-06-28   \n",
       "117356                 [com]          0.401338          0.401338  2017-05-24   \n",
       "\n",
       "       election_day   views  normalize_views  days_before_election  \n",
       "292045   2020-11-01   0.675         0.335939                   800  \n",
       "251086   2018-11-01  44.215        17.639559                   568  \n",
       "335774   2016-11-01   0.675         0.325350                  -604  \n",
       "117356   2016-11-01  13.320         5.345823                  -204  "
      ]
     },
     "execution_count": 42,
     "metadata": {},
     "output_type": "execute_result"
    }
   ],
   "source": [
    "candidate_quotes['days_before_election'] = pd.to_datetime(candidate_quotes['election_day'])- pd.to_datetime(candidate_quotes['date_only'])\n",
    "candidate_quotes['days_before_election'] = candidate_quotes['days_before_election'].map(lambda x:x.days)\n",
    "candidate_quotes.sample(4)"
   ]
  },
  {
   "cell_type": "code",
   "execution_count": 43,
   "id": "51db1155",
   "metadata": {},
   "outputs": [
    {
     "data": {
      "text/html": [
       "<div>\n",
       "<style scoped>\n",
       "    .dataframe tbody tr th:only-of-type {\n",
       "        vertical-align: middle;\n",
       "    }\n",
       "\n",
       "    .dataframe tbody tr th {\n",
       "        vertical-align: top;\n",
       "    }\n",
       "\n",
       "    .dataframe thead th {\n",
       "        text-align: right;\n",
       "    }\n",
       "</style>\n",
       "<table border=\"1\" class=\"dataframe\">\n",
       "  <thead>\n",
       "    <tr style=\"text-align: right;\">\n",
       "      <th></th>\n",
       "      <th>index</th>\n",
       "      <th>quoteID</th>\n",
       "      <th>quotation</th>\n",
       "      <th>speaker</th>\n",
       "      <th>qids</th>\n",
       "      <th>date</th>\n",
       "      <th>numOccurrences</th>\n",
       "      <th>probas</th>\n",
       "      <th>urls</th>\n",
       "      <th>phase</th>\n",
       "      <th>domains</th>\n",
       "      <th>normalize_factor</th>\n",
       "      <th>normalize_quotes</th>\n",
       "      <th>date_only</th>\n",
       "      <th>election_day</th>\n",
       "      <th>views</th>\n",
       "      <th>normalize_views</th>\n",
       "      <th>days_before_election</th>\n",
       "    </tr>\n",
       "  </thead>\n",
       "  <tbody>\n",
       "    <tr>\n",
       "      <th>537265</th>\n",
       "      <td>7289</td>\n",
       "      <td>2020-03-19-012295</td>\n",
       "      <td>Coronavirus Aid, Relief, &amp; Economic Security Act</td>\n",
       "      <td>MITCH MCCONNELL</td>\n",
       "      <td>[Q355522]</td>\n",
       "      <td>2020-03-19 22:32:20</td>\n",
       "      <td>3</td>\n",
       "      <td>[[Mitch McConnell, 0.6134], [None, 0.291], [Th...</td>\n",
       "      <td>[https://www.nationalreview.com/news/coronavir...</td>\n",
       "      <td>E</td>\n",
       "      <td>[com, com, com]</td>\n",
       "      <td>0.755660</td>\n",
       "      <td>2.266979</td>\n",
       "      <td>2020-03-19</td>\n",
       "      <td>2020-11-01</td>\n",
       "      <td>2.025</td>\n",
       "      <td>1.530211</td>\n",
       "      <td>227</td>\n",
       "    </tr>\n",
       "    <tr>\n",
       "      <th>578937</th>\n",
       "      <td>48961</td>\n",
       "      <td>2020-03-15-010831</td>\n",
       "      <td>I cannot underscore the seriousness of followi...</td>\n",
       "      <td>STEVE BULLOCK</td>\n",
       "      <td>[Q24015, Q7612088, Q7612089]</td>\n",
       "      <td>2020-03-15 19:48:24</td>\n",
       "      <td>2</td>\n",
       "      <td>[[Steve Bullock, 0.8368], [None, 0.1449], [Ant...</td>\n",
       "      <td>[https://www.washingtontimes.com/news/2020/mar...</td>\n",
       "      <td>E</td>\n",
       "      <td>[com, com]</td>\n",
       "      <td>0.755660</td>\n",
       "      <td>1.511319</td>\n",
       "      <td>2020-03-15</td>\n",
       "      <td>2020-11-01</td>\n",
       "      <td>4.445</td>\n",
       "      <td>3.358907</td>\n",
       "      <td>231</td>\n",
       "    </tr>\n",
       "    <tr>\n",
       "      <th>322294</th>\n",
       "      <td>34394</td>\n",
       "      <td>2018-01-31-092920</td>\n",
       "      <td>No, Mr. Trump, climate change is not a `hoax.'...</td>\n",
       "      <td>BERNIE SANDERS</td>\n",
       "      <td>[Q359442]</td>\n",
       "      <td>2018-01-31 05:00:29</td>\n",
       "      <td>2</td>\n",
       "      <td>[[Bernie Sanders, 0.6762], [None, 0.2847], [Pr...</td>\n",
       "      <td>[http://lite.washingtonexaminer.com/?p=7005, h...</td>\n",
       "      <td>E</td>\n",
       "      <td>[com, org]</td>\n",
       "      <td>0.402250</td>\n",
       "      <td>0.804499</td>\n",
       "      <td>2018-01-31</td>\n",
       "      <td>2018-11-01</td>\n",
       "      <td>13.995</td>\n",
       "      <td>5.629485</td>\n",
       "      <td>274</td>\n",
       "    </tr>\n",
       "    <tr>\n",
       "      <th>66062</th>\n",
       "      <td>66062</td>\n",
       "      <td>2016-05-09-022507</td>\n",
       "      <td>have never been very appealing to me.</td>\n",
       "      <td>ROY BLUNT</td>\n",
       "      <td>[Q1525924]</td>\n",
       "      <td>2016-05-09 06:15:00</td>\n",
       "      <td>6</td>\n",
       "      <td>[[Roy Blunt, 0.766], [None, 0.2117], [Donald T...</td>\n",
       "      <td>[https://www.washingtonpost.com/news/powerpost...</td>\n",
       "      <td>E</td>\n",
       "      <td>[com, com, com, com, com, com]</td>\n",
       "      <td>0.438534</td>\n",
       "      <td>2.631205</td>\n",
       "      <td>2016-05-09</td>\n",
       "      <td>2016-11-01</td>\n",
       "      <td>123.435</td>\n",
       "      <td>54.130466</td>\n",
       "      <td>176</td>\n",
       "    </tr>\n",
       "  </tbody>\n",
       "</table>\n",
       "</div>"
      ],
      "text/plain": [
       "        index            quoteID  \\\n",
       "537265   7289  2020-03-19-012295   \n",
       "578937  48961  2020-03-15-010831   \n",
       "322294  34394  2018-01-31-092920   \n",
       "66062   66062  2016-05-09-022507   \n",
       "\n",
       "                                                quotation          speaker  \\\n",
       "537265   Coronavirus Aid, Relief, & Economic Security Act  MITCH MCCONNELL   \n",
       "578937  I cannot underscore the seriousness of followi...    STEVE BULLOCK   \n",
       "322294  No, Mr. Trump, climate change is not a `hoax.'...   BERNIE SANDERS   \n",
       "66062               have never been very appealing to me.        ROY BLUNT   \n",
       "\n",
       "                                qids                date  numOccurrences  \\\n",
       "537265                     [Q355522] 2020-03-19 22:32:20               3   \n",
       "578937  [Q24015, Q7612088, Q7612089] 2020-03-15 19:48:24               2   \n",
       "322294                     [Q359442] 2018-01-31 05:00:29               2   \n",
       "66062                     [Q1525924] 2016-05-09 06:15:00               6   \n",
       "\n",
       "                                                   probas  \\\n",
       "537265  [[Mitch McConnell, 0.6134], [None, 0.291], [Th...   \n",
       "578937  [[Steve Bullock, 0.8368], [None, 0.1449], [Ant...   \n",
       "322294  [[Bernie Sanders, 0.6762], [None, 0.2847], [Pr...   \n",
       "66062   [[Roy Blunt, 0.766], [None, 0.2117], [Donald T...   \n",
       "\n",
       "                                                     urls phase  \\\n",
       "537265  [https://www.nationalreview.com/news/coronavir...     E   \n",
       "578937  [https://www.washingtontimes.com/news/2020/mar...     E   \n",
       "322294  [http://lite.washingtonexaminer.com/?p=7005, h...     E   \n",
       "66062   [https://www.washingtonpost.com/news/powerpost...     E   \n",
       "\n",
       "                               domains  normalize_factor  normalize_quotes  \\\n",
       "537265                 [com, com, com]          0.755660          2.266979   \n",
       "578937                      [com, com]          0.755660          1.511319   \n",
       "322294                      [com, org]          0.402250          0.804499   \n",
       "66062   [com, com, com, com, com, com]          0.438534          2.631205   \n",
       "\n",
       "         date_only election_day    views  normalize_views  \\\n",
       "537265  2020-03-19   2020-11-01    2.025         1.530211   \n",
       "578937  2020-03-15   2020-11-01    4.445         3.358907   \n",
       "322294  2018-01-31   2018-11-01   13.995         5.629485   \n",
       "66062   2016-05-09   2016-11-01  123.435        54.130466   \n",
       "\n",
       "        days_before_election  \n",
       "537265                   227  \n",
       "578937                   231  \n",
       "322294                   274  \n",
       "66062                    176  "
      ]
     },
     "execution_count": 43,
     "metadata": {},
     "output_type": "execute_result"
    }
   ],
   "source": [
    "feature_length = 300  # we use data of 100 days before the election\n",
    "quotes_timespan = candidate_quotes[candidate_quotes['days_before_election']>=0]\n",
    "quotes_timespan = quotes_timespan[quotes_timespan['days_before_election']<feature_length]\n",
    "quotes_timespan.sample(4)"
   ]
  },
  {
   "cell_type": "code",
   "execution_count": 44,
   "id": "7fde6478",
   "metadata": {},
   "outputs": [
    {
     "data": {
      "text/plain": [
       "speaker          days_before_election\n",
       "AARON JAMES      246                     0.422134\n",
       "                 252                     0.422134\n",
       "                 274                     0.844268\n",
       "                 289                     0.389669\n",
       "                 296                     1.169008\n",
       "                                           ...   \n",
       "ZAK RINGELSTEIN  141                     1.626749\n",
       "                 147                     0.650700\n",
       "                 160                     0.815621\n",
       "                 227                     1.933979\n",
       "                 235                     0.241747\n",
       "Name: normalize_views, Length: 15673, dtype: float64"
      ]
     },
     "execution_count": 44,
     "metadata": {},
     "output_type": "execute_result"
    }
   ],
   "source": [
    "quotes_timespan_byday = quotes_timespan.groupby(['speaker', 'days_before_election'])['normalize_views'].sum()\n",
    "quotes_timespan_byday"
   ]
  },
  {
   "cell_type": "code",
   "execution_count": 45,
   "id": "d3a8aaaf",
   "metadata": {},
   "outputs": [
    {
     "data": {
      "text/html": [
       "<div>\n",
       "<style scoped>\n",
       "    .dataframe tbody tr th:only-of-type {\n",
       "        vertical-align: middle;\n",
       "    }\n",
       "\n",
       "    .dataframe tbody tr th {\n",
       "        vertical-align: top;\n",
       "    }\n",
       "\n",
       "    .dataframe thead th {\n",
       "        text-align: right;\n",
       "    }\n",
       "</style>\n",
       "<table border=\"1\" class=\"dataframe\">\n",
       "  <thead>\n",
       "    <tr style=\"text-align: right;\">\n",
       "      <th></th>\n",
       "      <th>AARON JAMES</th>\n",
       "      <th>ABHAY PATEL</th>\n",
       "      <th>AL GROSS</th>\n",
       "      <th>ALEX MERCED</th>\n",
       "      <th>ALLEN BUCKLEY</th>\n",
       "      <th>AMY KLOBUCHAR</th>\n",
       "      <th>AMY MCGRATH</th>\n",
       "      <th>ANN KIRKPATRICK</th>\n",
       "      <th>ARN MENCONI</th>\n",
       "      <th>ARVIN VOHRA</th>\n",
       "      <th>...</th>\n",
       "      <th>TIM HAGAN</th>\n",
       "      <th>TIM SCOTT</th>\n",
       "      <th>TINA SMITH</th>\n",
       "      <th>TOM COTTON</th>\n",
       "      <th>TOM JONES</th>\n",
       "      <th>TOMMY TUBERVILLE</th>\n",
       "      <th>TONY CAMPBELL</th>\n",
       "      <th>TROY HEBERT</th>\n",
       "      <th>VALENCIA STOVALL</th>\n",
       "      <th>ZAK RINGELSTEIN</th>\n",
       "    </tr>\n",
       "  </thead>\n",
       "  <tbody>\n",
       "    <tr>\n",
       "      <th>0</th>\n",
       "      <td>0.000000</td>\n",
       "      <td>0.0</td>\n",
       "      <td>0.0</td>\n",
       "      <td>0.0</td>\n",
       "      <td>0.0</td>\n",
       "      <td>0.643107</td>\n",
       "      <td>0.000000</td>\n",
       "      <td>0.0</td>\n",
       "      <td>0.0</td>\n",
       "      <td>0.000000</td>\n",
       "      <td>...</td>\n",
       "      <td>0.0</td>\n",
       "      <td>0.0</td>\n",
       "      <td>45.258062</td>\n",
       "      <td>0.000000</td>\n",
       "      <td>0.0</td>\n",
       "      <td>0.000000</td>\n",
       "      <td>0.000000</td>\n",
       "      <td>0.0</td>\n",
       "      <td>0.0</td>\n",
       "      <td>1.607768</td>\n",
       "    </tr>\n",
       "    <tr>\n",
       "      <th>1</th>\n",
       "      <td>0.000000</td>\n",
       "      <td>0.0</td>\n",
       "      <td>0.0</td>\n",
       "      <td>0.0</td>\n",
       "      <td>0.0</td>\n",
       "      <td>0.864890</td>\n",
       "      <td>0.000000</td>\n",
       "      <td>0.0</td>\n",
       "      <td>0.0</td>\n",
       "      <td>0.000000</td>\n",
       "      <td>...</td>\n",
       "      <td>0.0</td>\n",
       "      <td>0.0</td>\n",
       "      <td>0.576593</td>\n",
       "      <td>0.000000</td>\n",
       "      <td>0.0</td>\n",
       "      <td>0.000000</td>\n",
       "      <td>0.000000</td>\n",
       "      <td>0.0</td>\n",
       "      <td>0.0</td>\n",
       "      <td>0.000000</td>\n",
       "    </tr>\n",
       "    <tr>\n",
       "      <th>2</th>\n",
       "      <td>0.000000</td>\n",
       "      <td>0.0</td>\n",
       "      <td>0.0</td>\n",
       "      <td>0.0</td>\n",
       "      <td>0.0</td>\n",
       "      <td>41.414354</td>\n",
       "      <td>0.000000</td>\n",
       "      <td>0.0</td>\n",
       "      <td>0.0</td>\n",
       "      <td>0.000000</td>\n",
       "      <td>...</td>\n",
       "      <td>0.0</td>\n",
       "      <td>0.0</td>\n",
       "      <td>45.040485</td>\n",
       "      <td>0.000000</td>\n",
       "      <td>0.0</td>\n",
       "      <td>0.000000</td>\n",
       "      <td>0.000000</td>\n",
       "      <td>0.0</td>\n",
       "      <td>0.0</td>\n",
       "      <td>3.459560</td>\n",
       "    </tr>\n",
       "    <tr>\n",
       "      <th>3</th>\n",
       "      <td>0.000000</td>\n",
       "      <td>0.0</td>\n",
       "      <td>0.0</td>\n",
       "      <td>0.0</td>\n",
       "      <td>0.0</td>\n",
       "      <td>4.324450</td>\n",
       "      <td>0.000000</td>\n",
       "      <td>0.0</td>\n",
       "      <td>0.0</td>\n",
       "      <td>1.153187</td>\n",
       "      <td>...</td>\n",
       "      <td>0.0</td>\n",
       "      <td>0.0</td>\n",
       "      <td>0.000000</td>\n",
       "      <td>0.000000</td>\n",
       "      <td>0.0</td>\n",
       "      <td>0.000000</td>\n",
       "      <td>2.306374</td>\n",
       "      <td>0.0</td>\n",
       "      <td>0.0</td>\n",
       "      <td>0.576593</td>\n",
       "    </tr>\n",
       "    <tr>\n",
       "      <th>4</th>\n",
       "      <td>0.000000</td>\n",
       "      <td>0.0</td>\n",
       "      <td>0.0</td>\n",
       "      <td>0.0</td>\n",
       "      <td>0.0</td>\n",
       "      <td>4.901044</td>\n",
       "      <td>0.000000</td>\n",
       "      <td>0.0</td>\n",
       "      <td>0.0</td>\n",
       "      <td>0.000000</td>\n",
       "      <td>...</td>\n",
       "      <td>0.0</td>\n",
       "      <td>0.0</td>\n",
       "      <td>1.441483</td>\n",
       "      <td>0.000000</td>\n",
       "      <td>0.0</td>\n",
       "      <td>0.000000</td>\n",
       "      <td>2.882967</td>\n",
       "      <td>0.0</td>\n",
       "      <td>0.0</td>\n",
       "      <td>0.000000</td>\n",
       "    </tr>\n",
       "    <tr>\n",
       "      <th>...</th>\n",
       "      <td>...</td>\n",
       "      <td>...</td>\n",
       "      <td>...</td>\n",
       "      <td>...</td>\n",
       "      <td>...</td>\n",
       "      <td>...</td>\n",
       "      <td>...</td>\n",
       "      <td>...</td>\n",
       "      <td>...</td>\n",
       "      <td>...</td>\n",
       "      <td>...</td>\n",
       "      <td>...</td>\n",
       "      <td>...</td>\n",
       "      <td>...</td>\n",
       "      <td>...</td>\n",
       "      <td>...</td>\n",
       "      <td>...</td>\n",
       "      <td>...</td>\n",
       "      <td>...</td>\n",
       "      <td>...</td>\n",
       "      <td>...</td>\n",
       "    </tr>\n",
       "    <tr>\n",
       "      <th>295</th>\n",
       "      <td>0.000000</td>\n",
       "      <td>0.0</td>\n",
       "      <td>0.0</td>\n",
       "      <td>0.0</td>\n",
       "      <td>0.0</td>\n",
       "      <td>69.388074</td>\n",
       "      <td>0.000000</td>\n",
       "      <td>0.0</td>\n",
       "      <td>0.0</td>\n",
       "      <td>0.000000</td>\n",
       "      <td>...</td>\n",
       "      <td>0.0</td>\n",
       "      <td>0.0</td>\n",
       "      <td>1.900630</td>\n",
       "      <td>552.756030</td>\n",
       "      <td>0.0</td>\n",
       "      <td>0.000000</td>\n",
       "      <td>0.000000</td>\n",
       "      <td>0.0</td>\n",
       "      <td>0.0</td>\n",
       "      <td>0.000000</td>\n",
       "    </tr>\n",
       "    <tr>\n",
       "      <th>296</th>\n",
       "      <td>1.169008</td>\n",
       "      <td>0.0</td>\n",
       "      <td>0.0</td>\n",
       "      <td>0.0</td>\n",
       "      <td>0.0</td>\n",
       "      <td>8.435176</td>\n",
       "      <td>0.000000</td>\n",
       "      <td>0.0</td>\n",
       "      <td>0.0</td>\n",
       "      <td>0.000000</td>\n",
       "      <td>...</td>\n",
       "      <td>0.0</td>\n",
       "      <td>0.0</td>\n",
       "      <td>0.814556</td>\n",
       "      <td>3.896693</td>\n",
       "      <td>0.0</td>\n",
       "      <td>0.000000</td>\n",
       "      <td>0.000000</td>\n",
       "      <td>0.0</td>\n",
       "      <td>0.0</td>\n",
       "      <td>0.000000</td>\n",
       "    </tr>\n",
       "    <tr>\n",
       "      <th>297</th>\n",
       "      <td>0.779339</td>\n",
       "      <td>0.0</td>\n",
       "      <td>0.0</td>\n",
       "      <td>0.0</td>\n",
       "      <td>0.0</td>\n",
       "      <td>1.357593</td>\n",
       "      <td>1.169008</td>\n",
       "      <td>0.0</td>\n",
       "      <td>0.0</td>\n",
       "      <td>0.000000</td>\n",
       "      <td>...</td>\n",
       "      <td>0.0</td>\n",
       "      <td>0.0</td>\n",
       "      <td>47.781231</td>\n",
       "      <td>239.637971</td>\n",
       "      <td>0.0</td>\n",
       "      <td>0.000000</td>\n",
       "      <td>0.000000</td>\n",
       "      <td>0.0</td>\n",
       "      <td>0.0</td>\n",
       "      <td>0.000000</td>\n",
       "    </tr>\n",
       "    <tr>\n",
       "      <th>298</th>\n",
       "      <td>0.779339</td>\n",
       "      <td>0.0</td>\n",
       "      <td>0.0</td>\n",
       "      <td>0.0</td>\n",
       "      <td>0.0</td>\n",
       "      <td>0.814556</td>\n",
       "      <td>0.000000</td>\n",
       "      <td>0.0</td>\n",
       "      <td>0.0</td>\n",
       "      <td>0.000000</td>\n",
       "      <td>...</td>\n",
       "      <td>0.0</td>\n",
       "      <td>0.0</td>\n",
       "      <td>11.150362</td>\n",
       "      <td>726.124239</td>\n",
       "      <td>0.0</td>\n",
       "      <td>191.316089</td>\n",
       "      <td>0.000000</td>\n",
       "      <td>0.0</td>\n",
       "      <td>0.0</td>\n",
       "      <td>0.000000</td>\n",
       "    </tr>\n",
       "    <tr>\n",
       "      <th>299</th>\n",
       "      <td>0.000000</td>\n",
       "      <td>0.0</td>\n",
       "      <td>0.0</td>\n",
       "      <td>0.0</td>\n",
       "      <td>0.0</td>\n",
       "      <td>13.467320</td>\n",
       "      <td>0.000000</td>\n",
       "      <td>0.0</td>\n",
       "      <td>0.0</td>\n",
       "      <td>0.000000</td>\n",
       "      <td>...</td>\n",
       "      <td>0.0</td>\n",
       "      <td>0.0</td>\n",
       "      <td>7.874038</td>\n",
       "      <td>3.507024</td>\n",
       "      <td>0.0</td>\n",
       "      <td>0.000000</td>\n",
       "      <td>0.000000</td>\n",
       "      <td>0.0</td>\n",
       "      <td>0.0</td>\n",
       "      <td>0.000000</td>\n",
       "    </tr>\n",
       "  </tbody>\n",
       "</table>\n",
       "<p>300 rows × 176 columns</p>\n",
       "</div>"
      ],
      "text/plain": [
       "     AARON JAMES  ABHAY PATEL  AL GROSS  ALEX MERCED  ALLEN BUCKLEY  \\\n",
       "0       0.000000          0.0       0.0          0.0            0.0   \n",
       "1       0.000000          0.0       0.0          0.0            0.0   \n",
       "2       0.000000          0.0       0.0          0.0            0.0   \n",
       "3       0.000000          0.0       0.0          0.0            0.0   \n",
       "4       0.000000          0.0       0.0          0.0            0.0   \n",
       "..           ...          ...       ...          ...            ...   \n",
       "295     0.000000          0.0       0.0          0.0            0.0   \n",
       "296     1.169008          0.0       0.0          0.0            0.0   \n",
       "297     0.779339          0.0       0.0          0.0            0.0   \n",
       "298     0.779339          0.0       0.0          0.0            0.0   \n",
       "299     0.000000          0.0       0.0          0.0            0.0   \n",
       "\n",
       "     AMY KLOBUCHAR  AMY MCGRATH  ANN KIRKPATRICK  ARN MENCONI  ARVIN VOHRA  \\\n",
       "0         0.643107     0.000000              0.0          0.0     0.000000   \n",
       "1         0.864890     0.000000              0.0          0.0     0.000000   \n",
       "2        41.414354     0.000000              0.0          0.0     0.000000   \n",
       "3         4.324450     0.000000              0.0          0.0     1.153187   \n",
       "4         4.901044     0.000000              0.0          0.0     0.000000   \n",
       "..             ...          ...              ...          ...          ...   \n",
       "295      69.388074     0.000000              0.0          0.0     0.000000   \n",
       "296       8.435176     0.000000              0.0          0.0     0.000000   \n",
       "297       1.357593     1.169008              0.0          0.0     0.000000   \n",
       "298       0.814556     0.000000              0.0          0.0     0.000000   \n",
       "299      13.467320     0.000000              0.0          0.0     0.000000   \n",
       "\n",
       "     ...  TIM HAGAN  TIM SCOTT  TINA SMITH  TOM COTTON  TOM JONES  \\\n",
       "0    ...        0.0        0.0   45.258062    0.000000        0.0   \n",
       "1    ...        0.0        0.0    0.576593    0.000000        0.0   \n",
       "2    ...        0.0        0.0   45.040485    0.000000        0.0   \n",
       "3    ...        0.0        0.0    0.000000    0.000000        0.0   \n",
       "4    ...        0.0        0.0    1.441483    0.000000        0.0   \n",
       "..   ...        ...        ...         ...         ...        ...   \n",
       "295  ...        0.0        0.0    1.900630  552.756030        0.0   \n",
       "296  ...        0.0        0.0    0.814556    3.896693        0.0   \n",
       "297  ...        0.0        0.0   47.781231  239.637971        0.0   \n",
       "298  ...        0.0        0.0   11.150362  726.124239        0.0   \n",
       "299  ...        0.0        0.0    7.874038    3.507024        0.0   \n",
       "\n",
       "     TOMMY TUBERVILLE  TONY CAMPBELL  TROY HEBERT  VALENCIA STOVALL  \\\n",
       "0            0.000000       0.000000          0.0               0.0   \n",
       "1            0.000000       0.000000          0.0               0.0   \n",
       "2            0.000000       0.000000          0.0               0.0   \n",
       "3            0.000000       2.306374          0.0               0.0   \n",
       "4            0.000000       2.882967          0.0               0.0   \n",
       "..                ...            ...          ...               ...   \n",
       "295          0.000000       0.000000          0.0               0.0   \n",
       "296          0.000000       0.000000          0.0               0.0   \n",
       "297          0.000000       0.000000          0.0               0.0   \n",
       "298        191.316089       0.000000          0.0               0.0   \n",
       "299          0.000000       0.000000          0.0               0.0   \n",
       "\n",
       "     ZAK RINGELSTEIN  \n",
       "0           1.607768  \n",
       "1           0.000000  \n",
       "2           3.459560  \n",
       "3           0.576593  \n",
       "4           0.000000  \n",
       "..               ...  \n",
       "295         0.000000  \n",
       "296         0.000000  \n",
       "297         0.000000  \n",
       "298         0.000000  \n",
       "299         0.000000  \n",
       "\n",
       "[300 rows x 176 columns]"
      ]
     },
     "execution_count": 45,
     "metadata": {},
     "output_type": "execute_result"
    }
   ],
   "source": [
    "candidate_name = quotes_timespan_byday.index.map(lambda x:x[0]).drop_duplicates()\n",
    "candidate_quotes_cluster_feature = pd.DataFrame(np.zeros([feature_length,len(candidate_name)]), columns=candidate_name)\n",
    "\n",
    "for candidate in candidate_name:\n",
    "    candidate_quotes_timespan = quotes_timespan_byday[candidate]\n",
    "    for days in candidate_quotes_timespan.index:\n",
    "        candidate_quotes_cluster_feature[candidate].iloc[days] = candidate_quotes_timespan.loc[days]\n",
    "        \n",
    "candidate_quotes_cluster_feature"
   ]
  },
  {
   "cell_type": "code",
   "execution_count": 46,
   "id": "6647728c",
   "metadata": {},
   "outputs": [
    {
     "data": {
      "text/plain": [
       "<matplotlib.collections.PathCollection at 0x15ce9d880>"
      ]
     },
     "execution_count": 46,
     "metadata": {},
     "output_type": "execute_result"
    },
    {
     "data": {
      "image/png": "[encoded data removed]",
      "text/plain": [
       "<Figure size 432x288 with 1 Axes>"
      ]
     },
     "metadata": {
      "needs_background": "light"
     },
     "output_type": "display_data"
    }
   ],
   "source": [
    "# Use PCA to visualize the feature vectors\n",
    "from sklearn.decomposition import PCA\n",
    "\n",
    "candidate_feature_vectors = candidate_quotes_cluster_feature.to_numpy().T\n",
    "candidate_feature_vectors/=np.linalg.norm(candidate_feature_vectors,axis=1)[:,np.newaxis]\n",
    "reduced_feature_PCA = PCA(n_components=2).fit(candidate_feature_vectors).transform(candidate_feature_vectors)\n",
    "\n",
    "plt.scatter(reduced_feature_PCA[:,0],reduced_feature_PCA[:,1], alpha=0.5)"
   ]
  },
  {
   "cell_type": "code",
   "execution_count": 47,
   "id": "71778b09",
   "metadata": {},
   "outputs": [
    {
     "data": {
      "text/plain": [
       "[<matplotlib.lines.Line2D at 0x17a7f2a90>]"
      ]
     },
     "execution_count": 47,
     "metadata": {},
     "output_type": "execute_result"
    },
    {
     "data": {
      "image/png": "[encoded data removed]",
      "text/plain": [
       "<Figure size 432x288 with 1 Axes>"
      ]
     },
     "metadata": {
      "needs_background": "light"
     },
     "output_type": "display_data"
    }
   ],
   "source": [
    "from sklearn.cluster import KMeans\n",
    "from sklearn.metrics import silhouette_score\n",
    "\n",
    "silhouettes=[]\n",
    "for n_clusters in range(2,10):\n",
    "    labels = KMeans(n_clusters=n_clusters).fit_predict(reduced_feature_PCA)\n",
    "    score = silhouette_score(reduced_feature_PCA,labels)\n",
    "    silhouettes.append(score)\n",
    "    \n",
    "plt.plot(range(2,10),silhouettes)"
   ]
  },
  {
   "cell_type": "code",
   "execution_count": 48,
   "id": "03695de1",
   "metadata": {},
   "outputs": [
    {
     "data": {
      "text/plain": [
       "<matplotlib.collections.PathCollection at 0x17a81ed60>"
      ]
     },
     "execution_count": 48,
     "metadata": {},
     "output_type": "execute_result"
    },
    {
     "data": {
      "image/png": "[encoded data removed]",
      "text/plain": [
       "<Figure size 432x288 with 1 Axes>"
      ]
     },
     "metadata": {
      "needs_background": "light"
     },
     "output_type": "display_data"
    }
   ],
   "source": [
    "n_clusters = 3\n",
    "labels = KMeans(n_clusters=n_clusters).fit_predict(reduced_feature_PCA)\n",
    "plt.scatter(reduced_feature_PCA[:,0],reduced_feature_PCA[:,1], alpha=0.5,c=labels)"
   ]
  },
  {
   "cell_type": "code",
   "execution_count": 49,
   "id": "81a4b29b",
   "metadata": {},
   "outputs": [
    {
     "name": "stdout",
     "output_type": "stream",
     "text": [
      "137 candidates in type 0: Index(['ABHAY PATEL', 'AL GROSS', 'ALEX MERCED', 'AMY KLOBUCHAR',\n",
      "       'ARN MENCONI', 'ARVIN VOHRA', 'BARBARA BOLLIER', 'BARRY MICHAELS',\n",
      "       'BEN CARDIN', 'BERNIE SANDERS',\n",
      "       ...\n",
      "       'TED CRUZ', 'TED STRICKLAND', 'THOMAS DIXON', 'TIM HAGAN', 'TINA SMITH',\n",
      "       'TOM JONES', 'TOMMY TUBERVILLE', 'TONY CAMPBELL', 'TROY HEBERT',\n",
      "       'ZAK RINGELSTEIN'],\n",
      "      dtype='object', length=137)\n",
      "11 candidates in type 1: Index(['ALLEN BUCKLEY', 'ANN KIRKPATRICK', 'CAL CUNNINGHAM', 'LISA MURKOWSKI',\n",
      "       'MARCO RUBIO', 'MARGARET STOCK', 'MITT ROMNEY', 'RICHARD BURR',\n",
      "       'TIM SCOTT', 'TOM COTTON', 'VALENCIA STOVALL'],\n",
      "      dtype='object')\n",
      "28 candidates in type 2: Index(['AARON JAMES', 'AMY MCGRATH', 'BEN SASSE', 'BOB WALSH', 'CORY BOOKER',\n",
      "       'CORY GARDNER', 'DAVID MORAN', 'DOUG COLLINS', 'DOUG JONES',\n",
      "       'GARY PETERS', 'JAIME HARRISON', 'JEANNE SHAHEEN', 'JEFF MERKLEY',\n",
      "       'JEFF RUSSELL', 'JIM RISCH', 'JOHN CORNYN', 'JON OSSOFF', 'JONI ERNST',\n",
      "       'LINDSEY GRAHAM', 'MARK KELLY', 'MIKE ROUNDS', 'MITCH MCCONNELL',\n",
      "       'ROBERT MURPHY', 'ROGER MARSHALL', 'SHELLEY MOORE CAPITO',\n",
      "       'STEVE BULLOCK', 'STEVE DAINES', 'THOM TILLIS'],\n",
      "      dtype='object')\n"
     ]
    }
   ],
   "source": [
    "for candidate_type in range(0,n_clusters):\n",
    "    print('{} candidates in type {}: {}'.format(np.where(labels==candidate_type)[0].shape[0],candidate_type,candidate_name[np.where(labels==candidate_type)]))"
   ]
  },
  {
   "cell_type": "code",
   "execution_count": 50,
   "id": "26d85072",
   "metadata": {},
   "outputs": [
    {
     "data": {
      "image/png": "[encoded data removed]",
      "text/plain": [
       "<Figure size 1440x360 with 3 Axes>"
      ]
     },
     "metadata": {
      "needs_background": "light"
     },
     "output_type": "display_data"
    }
   ],
   "source": [
    "fig, axs = plt.subplots(1,n_clusters, figsize=(20,5))\n",
    "for candidate_type in range(0,n_clusters):\n",
    "    axs[candidate_type].plot(range(0,feature_length), np.mean(candidate_feature_vectors[np.where(labels==candidate_type)], axis=0))\n",
    "    axs[candidate_type].set_title('type {}'.format(candidate_type))"
   ]
  },
  {
   "cell_type": "markdown",
   "id": "f6178005",
   "metadata": {},
   "source": [
    "We try to remove candidate of 2020 because the lack of data after April. This is shown in type 1, where we get almost no citation for roughly 200 days before election."
   ]
  },
  {
   "cell_type": "code",
   "execution_count": 51,
   "id": "af520b48",
   "metadata": {},
   "outputs": [
    {
     "data": {
      "text/plain": [
       "AARON JAMES         2020\n",
       "ABHAY PATEL         2016\n",
       "AL GROSS            2020\n",
       "ALEX MERCED         2016\n",
       "ALLEN BUCKLEY       2016\n",
       "                    ... \n",
       "TOMMY TUBERVILLE    2020\n",
       "TONY CAMPBELL       2018\n",
       "TROY HEBERT         2016\n",
       "VALENCIA STOVALL    2020\n",
       "ZAK RINGELSTEIN     2018\n",
       "Name: year, Length: 176, dtype: int64"
      ]
     },
     "execution_count": 51,
     "metadata": {},
     "output_type": "execute_result"
    }
   ],
   "source": [
    "election_year = candidate_info_byname.loc[candidate_name]['year']\n",
    "election_year"
   ]
  },
  {
   "cell_type": "code",
   "execution_count": 52,
   "id": "43415d16",
   "metadata": {},
   "outputs": [
    {
     "data": {
      "text/plain": [
       "Index(['ABHAY PATEL', 'ALEX MERCED', 'ALLEN BUCKLEY', 'AMY KLOBUCHAR',\n",
       "       'ANN KIRKPATRICK', 'ARN MENCONI', 'ARVIN VOHRA', 'BARRY MICHAELS',\n",
       "       'BEN CARDIN', 'BERNIE SANDERS',\n",
       "       ...\n",
       "       'TED CRUZ', 'TED STRICKLAND', 'THOMAS DIXON', 'TIM HAGAN', 'TIM SCOTT',\n",
       "       'TINA SMITH', 'TOM JONES', 'TONY CAMPBELL', 'TROY HEBERT',\n",
       "       'ZAK RINGELSTEIN'],\n",
       "      dtype='object', length=132)"
      ]
     },
     "execution_count": 52,
     "metadata": {},
     "output_type": "execute_result"
    }
   ],
   "source": [
    "candidate_name_filted = candidate_name[election_year!=2020]\n",
    "candidate_name_filted"
   ]
  },
  {
   "cell_type": "code",
   "execution_count": 53,
   "id": "a3424648",
   "metadata": {},
   "outputs": [
    {
     "data": {
      "text/html": [
       "<div>\n",
       "<style scoped>\n",
       "    .dataframe tbody tr th:only-of-type {\n",
       "        vertical-align: middle;\n",
       "    }\n",
       "\n",
       "    .dataframe tbody tr th {\n",
       "        vertical-align: top;\n",
       "    }\n",
       "\n",
       "    .dataframe thead th {\n",
       "        text-align: right;\n",
       "    }\n",
       "</style>\n",
       "<table border=\"1\" class=\"dataframe\">\n",
       "  <thead>\n",
       "    <tr style=\"text-align: right;\">\n",
       "      <th></th>\n",
       "      <th>ABHAY PATEL</th>\n",
       "      <th>ALEX MERCED</th>\n",
       "      <th>ALLEN BUCKLEY</th>\n",
       "      <th>AMY KLOBUCHAR</th>\n",
       "      <th>ANN KIRKPATRICK</th>\n",
       "      <th>ARN MENCONI</th>\n",
       "      <th>ARVIN VOHRA</th>\n",
       "      <th>BARRY MICHAELS</th>\n",
       "      <th>BEN CARDIN</th>\n",
       "      <th>BERNIE SANDERS</th>\n",
       "      <th>...</th>\n",
       "      <th>TED CRUZ</th>\n",
       "      <th>TED STRICKLAND</th>\n",
       "      <th>THOMAS DIXON</th>\n",
       "      <th>TIM HAGAN</th>\n",
       "      <th>TIM SCOTT</th>\n",
       "      <th>TINA SMITH</th>\n",
       "      <th>TOM JONES</th>\n",
       "      <th>TONY CAMPBELL</th>\n",
       "      <th>TROY HEBERT</th>\n",
       "      <th>ZAK RINGELSTEIN</th>\n",
       "    </tr>\n",
       "  </thead>\n",
       "  <tbody>\n",
       "    <tr>\n",
       "      <th>0</th>\n",
       "      <td>0.0</td>\n",
       "      <td>0.0</td>\n",
       "      <td>0.0</td>\n",
       "      <td>0.643107</td>\n",
       "      <td>0.0</td>\n",
       "      <td>0.0</td>\n",
       "      <td>0.000000</td>\n",
       "      <td>0.00000</td>\n",
       "      <td>0.964661</td>\n",
       "      <td>60.447298</td>\n",
       "      <td>...</td>\n",
       "      <td>382.834473</td>\n",
       "      <td>0.0</td>\n",
       "      <td>0.0</td>\n",
       "      <td>0.0</td>\n",
       "      <td>0.0</td>\n",
       "      <td>45.258062</td>\n",
       "      <td>0.0</td>\n",
       "      <td>0.000000</td>\n",
       "      <td>0.0</td>\n",
       "      <td>1.607768</td>\n",
       "    </tr>\n",
       "    <tr>\n",
       "      <th>1</th>\n",
       "      <td>0.0</td>\n",
       "      <td>0.0</td>\n",
       "      <td>0.0</td>\n",
       "      <td>0.864890</td>\n",
       "      <td>0.0</td>\n",
       "      <td>0.0</td>\n",
       "      <td>0.000000</td>\n",
       "      <td>0.00000</td>\n",
       "      <td>0.864890</td>\n",
       "      <td>1160.084533</td>\n",
       "      <td>...</td>\n",
       "      <td>750.771567</td>\n",
       "      <td>0.0</td>\n",
       "      <td>0.0</td>\n",
       "      <td>0.0</td>\n",
       "      <td>0.0</td>\n",
       "      <td>0.576593</td>\n",
       "      <td>0.0</td>\n",
       "      <td>0.000000</td>\n",
       "      <td>0.0</td>\n",
       "      <td>0.000000</td>\n",
       "    </tr>\n",
       "    <tr>\n",
       "      <th>2</th>\n",
       "      <td>0.0</td>\n",
       "      <td>0.0</td>\n",
       "      <td>0.0</td>\n",
       "      <td>41.414354</td>\n",
       "      <td>0.0</td>\n",
       "      <td>0.0</td>\n",
       "      <td>0.000000</td>\n",
       "      <td>0.00000</td>\n",
       "      <td>3.171264</td>\n",
       "      <td>89.959246</td>\n",
       "      <td>...</td>\n",
       "      <td>12.341234</td>\n",
       "      <td>0.0</td>\n",
       "      <td>0.0</td>\n",
       "      <td>0.0</td>\n",
       "      <td>0.0</td>\n",
       "      <td>45.040485</td>\n",
       "      <td>0.0</td>\n",
       "      <td>0.000000</td>\n",
       "      <td>0.0</td>\n",
       "      <td>3.459560</td>\n",
       "    </tr>\n",
       "    <tr>\n",
       "      <th>3</th>\n",
       "      <td>0.0</td>\n",
       "      <td>0.0</td>\n",
       "      <td>0.0</td>\n",
       "      <td>4.324450</td>\n",
       "      <td>0.0</td>\n",
       "      <td>0.0</td>\n",
       "      <td>1.153187</td>\n",
       "      <td>0.00000</td>\n",
       "      <td>3.171264</td>\n",
       "      <td>407.068522</td>\n",
       "      <td>...</td>\n",
       "      <td>257.303730</td>\n",
       "      <td>0.0</td>\n",
       "      <td>0.0</td>\n",
       "      <td>0.0</td>\n",
       "      <td>0.0</td>\n",
       "      <td>0.000000</td>\n",
       "      <td>0.0</td>\n",
       "      <td>2.306374</td>\n",
       "      <td>0.0</td>\n",
       "      <td>0.576593</td>\n",
       "    </tr>\n",
       "    <tr>\n",
       "      <th>4</th>\n",
       "      <td>0.0</td>\n",
       "      <td>0.0</td>\n",
       "      <td>0.0</td>\n",
       "      <td>4.901044</td>\n",
       "      <td>0.0</td>\n",
       "      <td>0.0</td>\n",
       "      <td>0.000000</td>\n",
       "      <td>0.86489</td>\n",
       "      <td>3.747857</td>\n",
       "      <td>2512.988300</td>\n",
       "      <td>...</td>\n",
       "      <td>2.408879</td>\n",
       "      <td>0.0</td>\n",
       "      <td>0.0</td>\n",
       "      <td>0.0</td>\n",
       "      <td>0.0</td>\n",
       "      <td>1.441483</td>\n",
       "      <td>0.0</td>\n",
       "      <td>2.882967</td>\n",
       "      <td>0.0</td>\n",
       "      <td>0.000000</td>\n",
       "    </tr>\n",
       "    <tr>\n",
       "      <th>...</th>\n",
       "      <td>...</td>\n",
       "      <td>...</td>\n",
       "      <td>...</td>\n",
       "      <td>...</td>\n",
       "      <td>...</td>\n",
       "      <td>...</td>\n",
       "      <td>...</td>\n",
       "      <td>...</td>\n",
       "      <td>...</td>\n",
       "      <td>...</td>\n",
       "      <td>...</td>\n",
       "      <td>...</td>\n",
       "      <td>...</td>\n",
       "      <td>...</td>\n",
       "      <td>...</td>\n",
       "      <td>...</td>\n",
       "      <td>...</td>\n",
       "      <td>...</td>\n",
       "      <td>...</td>\n",
       "      <td>...</td>\n",
       "      <td>...</td>\n",
       "    </tr>\n",
       "    <tr>\n",
       "      <th>295</th>\n",
       "      <td>0.0</td>\n",
       "      <td>0.0</td>\n",
       "      <td>0.0</td>\n",
       "      <td>69.388074</td>\n",
       "      <td>0.0</td>\n",
       "      <td>0.0</td>\n",
       "      <td>0.000000</td>\n",
       "      <td>0.00000</td>\n",
       "      <td>3532.054072</td>\n",
       "      <td>0.814556</td>\n",
       "      <td>...</td>\n",
       "      <td>0.543037</td>\n",
       "      <td>0.0</td>\n",
       "      <td>0.0</td>\n",
       "      <td>0.0</td>\n",
       "      <td>0.0</td>\n",
       "      <td>1.900630</td>\n",
       "      <td>0.0</td>\n",
       "      <td>0.000000</td>\n",
       "      <td>0.0</td>\n",
       "      <td>0.000000</td>\n",
       "    </tr>\n",
       "    <tr>\n",
       "      <th>296</th>\n",
       "      <td>0.0</td>\n",
       "      <td>0.0</td>\n",
       "      <td>0.0</td>\n",
       "      <td>8.435176</td>\n",
       "      <td>0.0</td>\n",
       "      <td>0.0</td>\n",
       "      <td>0.000000</td>\n",
       "      <td>0.00000</td>\n",
       "      <td>1112.789610</td>\n",
       "      <td>203.735452</td>\n",
       "      <td>...</td>\n",
       "      <td>2.443667</td>\n",
       "      <td>0.0</td>\n",
       "      <td>0.0</td>\n",
       "      <td>0.0</td>\n",
       "      <td>0.0</td>\n",
       "      <td>0.814556</td>\n",
       "      <td>0.0</td>\n",
       "      <td>0.000000</td>\n",
       "      <td>0.0</td>\n",
       "      <td>0.000000</td>\n",
       "    </tr>\n",
       "    <tr>\n",
       "      <th>297</th>\n",
       "      <td>0.0</td>\n",
       "      <td>0.0</td>\n",
       "      <td>0.0</td>\n",
       "      <td>1.357593</td>\n",
       "      <td>0.0</td>\n",
       "      <td>0.0</td>\n",
       "      <td>0.000000</td>\n",
       "      <td>0.00000</td>\n",
       "      <td>0.271519</td>\n",
       "      <td>51.317006</td>\n",
       "      <td>...</td>\n",
       "      <td>144.343283</td>\n",
       "      <td>0.0</td>\n",
       "      <td>0.0</td>\n",
       "      <td>0.0</td>\n",
       "      <td>0.0</td>\n",
       "      <td>47.781231</td>\n",
       "      <td>0.0</td>\n",
       "      <td>0.000000</td>\n",
       "      <td>0.0</td>\n",
       "      <td>0.000000</td>\n",
       "    </tr>\n",
       "    <tr>\n",
       "      <th>298</th>\n",
       "      <td>0.0</td>\n",
       "      <td>0.0</td>\n",
       "      <td>0.0</td>\n",
       "      <td>0.814556</td>\n",
       "      <td>0.0</td>\n",
       "      <td>0.0</td>\n",
       "      <td>0.000000</td>\n",
       "      <td>0.00000</td>\n",
       "      <td>0.814556</td>\n",
       "      <td>943.311754</td>\n",
       "      <td>...</td>\n",
       "      <td>0.271519</td>\n",
       "      <td>0.0</td>\n",
       "      <td>0.0</td>\n",
       "      <td>0.0</td>\n",
       "      <td>0.0</td>\n",
       "      <td>11.150362</td>\n",
       "      <td>0.0</td>\n",
       "      <td>0.000000</td>\n",
       "      <td>0.0</td>\n",
       "      <td>0.000000</td>\n",
       "    </tr>\n",
       "    <tr>\n",
       "      <th>299</th>\n",
       "      <td>0.0</td>\n",
       "      <td>0.0</td>\n",
       "      <td>0.0</td>\n",
       "      <td>13.467320</td>\n",
       "      <td>0.0</td>\n",
       "      <td>0.0</td>\n",
       "      <td>0.000000</td>\n",
       "      <td>0.00000</td>\n",
       "      <td>4.072778</td>\n",
       "      <td>119.872422</td>\n",
       "      <td>...</td>\n",
       "      <td>0.000000</td>\n",
       "      <td>0.0</td>\n",
       "      <td>0.0</td>\n",
       "      <td>0.0</td>\n",
       "      <td>0.0</td>\n",
       "      <td>7.874038</td>\n",
       "      <td>0.0</td>\n",
       "      <td>0.000000</td>\n",
       "      <td>0.0</td>\n",
       "      <td>0.000000</td>\n",
       "    </tr>\n",
       "  </tbody>\n",
       "</table>\n",
       "<p>300 rows × 132 columns</p>\n",
       "</div>"
      ],
      "text/plain": [
       "     ABHAY PATEL  ALEX MERCED  ALLEN BUCKLEY  AMY KLOBUCHAR  ANN KIRKPATRICK  \\\n",
       "0            0.0          0.0            0.0       0.643107              0.0   \n",
       "1            0.0          0.0            0.0       0.864890              0.0   \n",
       "2            0.0          0.0            0.0      41.414354              0.0   \n",
       "3            0.0          0.0            0.0       4.324450              0.0   \n",
       "4            0.0          0.0            0.0       4.901044              0.0   \n",
       "..           ...          ...            ...            ...              ...   \n",
       "295          0.0          0.0            0.0      69.388074              0.0   \n",
       "296          0.0          0.0            0.0       8.435176              0.0   \n",
       "297          0.0          0.0            0.0       1.357593              0.0   \n",
       "298          0.0          0.0            0.0       0.814556              0.0   \n",
       "299          0.0          0.0            0.0      13.467320              0.0   \n",
       "\n",
       "     ARN MENCONI  ARVIN VOHRA  BARRY MICHAELS   BEN CARDIN  BERNIE SANDERS  \\\n",
       "0            0.0     0.000000         0.00000     0.964661       60.447298   \n",
       "1            0.0     0.000000         0.00000     0.864890     1160.084533   \n",
       "2            0.0     0.000000         0.00000     3.171264       89.959246   \n",
       "3            0.0     1.153187         0.00000     3.171264      407.068522   \n",
       "4            0.0     0.000000         0.86489     3.747857     2512.988300   \n",
       "..           ...          ...             ...          ...             ...   \n",
       "295          0.0     0.000000         0.00000  3532.054072        0.814556   \n",
       "296          0.0     0.000000         0.00000  1112.789610      203.735452   \n",
       "297          0.0     0.000000         0.00000     0.271519       51.317006   \n",
       "298          0.0     0.000000         0.00000     0.814556      943.311754   \n",
       "299          0.0     0.000000         0.00000     4.072778      119.872422   \n",
       "\n",
       "     ...    TED CRUZ  TED STRICKLAND  THOMAS DIXON  TIM HAGAN  TIM SCOTT  \\\n",
       "0    ...  382.834473             0.0           0.0        0.0        0.0   \n",
       "1    ...  750.771567             0.0           0.0        0.0        0.0   \n",
       "2    ...   12.341234             0.0           0.0        0.0        0.0   \n",
       "3    ...  257.303730             0.0           0.0        0.0        0.0   \n",
       "4    ...    2.408879             0.0           0.0        0.0        0.0   \n",
       "..   ...         ...             ...           ...        ...        ...   \n",
       "295  ...    0.543037             0.0           0.0        0.0        0.0   \n",
       "296  ...    2.443667             0.0           0.0        0.0        0.0   \n",
       "297  ...  144.343283             0.0           0.0        0.0        0.0   \n",
       "298  ...    0.271519             0.0           0.0        0.0        0.0   \n",
       "299  ...    0.000000             0.0           0.0        0.0        0.0   \n",
       "\n",
       "     TINA SMITH  TOM JONES  TONY CAMPBELL  TROY HEBERT  ZAK RINGELSTEIN  \n",
       "0     45.258062        0.0       0.000000          0.0         1.607768  \n",
       "1      0.576593        0.0       0.000000          0.0         0.000000  \n",
       "2     45.040485        0.0       0.000000          0.0         3.459560  \n",
       "3      0.000000        0.0       2.306374          0.0         0.576593  \n",
       "4      1.441483        0.0       2.882967          0.0         0.000000  \n",
       "..          ...        ...            ...          ...              ...  \n",
       "295    1.900630        0.0       0.000000          0.0         0.000000  \n",
       "296    0.814556        0.0       0.000000          0.0         0.000000  \n",
       "297   47.781231        0.0       0.000000          0.0         0.000000  \n",
       "298   11.150362        0.0       0.000000          0.0         0.000000  \n",
       "299    7.874038        0.0       0.000000          0.0         0.000000  \n",
       "\n",
       "[300 rows x 132 columns]"
      ]
     },
     "execution_count": 53,
     "metadata": {},
     "output_type": "execute_result"
    }
   ],
   "source": [
    "candidate_quotes_cluster_feature_filted = pd.DataFrame(np.zeros([feature_length,len(candidate_name_filted)]), columns=candidate_name_filted)\n",
    "\n",
    "for candidate in candidate_name_filted:\n",
    "    candidate_quotes_timespan = quotes_timespan_byday[candidate]\n",
    "    for days in candidate_quotes_timespan.index:\n",
    "        candidate_quotes_cluster_feature_filted[candidate].iloc[days] = candidate_quotes_timespan.loc[days]\n",
    "        \n",
    "candidate_quotes_cluster_feature_filted"
   ]
  },
  {
   "cell_type": "code",
   "execution_count": 54,
   "id": "ac4d85e3",
   "metadata": {},
   "outputs": [
    {
     "data": {
      "text/plain": [
       "<matplotlib.collections.PathCollection at 0x17af1eb80>"
      ]
     },
     "execution_count": 54,
     "metadata": {},
     "output_type": "execute_result"
    },
    {
     "data": {
      "image/png": "[encoded data removed]",
      "text/plain": [
       "<Figure size 432x288 with 1 Axes>"
      ]
     },
     "metadata": {
      "needs_background": "light"
     },
     "output_type": "display_data"
    }
   ],
   "source": [
    "candidate_feature_vectors = candidate_quotes_cluster_feature_filted.to_numpy().T\n",
    "candidate_feature_vectors/=np.linalg.norm(candidate_feature_vectors,axis=1)[:,np.newaxis]\n",
    "reduced_feature_PCA = PCA(n_components=2).fit(candidate_feature_vectors).transform(candidate_feature_vectors)\n",
    "\n",
    "plt.scatter(reduced_feature_PCA[:,0],reduced_feature_PCA[:,1], alpha=0.5)"
   ]
  },
  {
   "cell_type": "code",
   "execution_count": 55,
   "id": "8e0ff0e7",
   "metadata": {},
   "outputs": [
    {
     "data": {
      "text/plain": [
       "[<matplotlib.lines.Line2D at 0x161ca0790>]"
      ]
     },
     "execution_count": 55,
     "metadata": {},
     "output_type": "execute_result"
    },
    {
     "data": {
      "image/png": "[encoded data removed]",
      "text/plain": [
       "<Figure size 432x288 with 1 Axes>"
      ]
     },
     "metadata": {
      "needs_background": "light"
     },
     "output_type": "display_data"
    }
   ],
   "source": [
    "silhouettes=[]\n",
    "for n_clusters in range(2,10):\n",
    "    labels = KMeans(n_clusters=n_clusters).fit_predict(reduced_feature_PCA)\n",
    "    score = silhouette_score(reduced_feature_PCA,labels)\n",
    "    silhouettes.append(score)\n",
    "    \n",
    "plt.plot(range(2,10),silhouettes)"
   ]
  },
  {
   "cell_type": "code",
   "execution_count": 56,
   "id": "272f0dba",
   "metadata": {},
   "outputs": [
    {
     "data": {
      "text/plain": [
       "<matplotlib.collections.PathCollection at 0x161ccb460>"
      ]
     },
     "execution_count": 56,
     "metadata": {},
     "output_type": "execute_result"
    },
    {
     "data": {
      "image/png": "[encoded data removed]",
      "text/plain": [
       "<Figure size 432x288 with 1 Axes>"
      ]
     },
     "metadata": {
      "needs_background": "light"
     },
     "output_type": "display_data"
    }
   ],
   "source": [
    "n_clusters = 4\n",
    "labels = KMeans(n_clusters=n_clusters).fit_predict(reduced_feature_PCA)\n",
    "plt.scatter(reduced_feature_PCA[:,0],reduced_feature_PCA[:,1], alpha=0.5,c=labels)"
   ]
  },
  {
   "cell_type": "code",
   "execution_count": 57,
   "id": "de08da42",
   "metadata": {},
   "outputs": [
    {
     "name": "stdout",
     "output_type": "stream",
     "text": [
      "55 candidates in type 0: Index(['AARON JAMES', 'ABHAY PATEL', 'AMY KLOBUCHAR', 'AMY MCGRATH',\n",
      "       'ANN KIRKPATRICK', 'BERNIE SANDERS', 'BILL NELSON', 'BOB WALSH',\n",
      "       'CAL CUNNINGHAM', 'CAROLINE FAYARD', 'CATHERINE CORTEZ MASTO',\n",
      "       'CHRIS VAN HOLLEN', 'CHRIS VANCE', 'CHUCK GRASSLEY', 'CLAIRE MCCASKILL',\n",
      "       'CORY GARDNER', 'DAN CARTER', 'DARRYL GLENN', 'DAVID BARIA',\n",
      "       'DEBBIE STABENOW', 'DEBORAH JACKSON', 'DOUG COLLINS', 'DOUG JONES',\n",
      "       'ED TARVER', 'ELIOT GLASSHEIM', 'EVAN BAYH', 'GARY PETERS',\n",
      "       'JAIME HARRISON', 'JAMES LANKFORD', 'JAY WILLIAMS', 'JERRY MORAN',\n",
      "       'JERRY STURGILL', 'JERRY TROOIEN', 'JOE MANCHIN', 'JOHN CORNYN',\n",
      "       'JOHN FLEMING', 'JOHN KENNEDY', 'JOHN MCCAIN', 'JON OSSOFF',\n",
      "       'JON TESTER', 'JOSH HAWLEY', 'KARIN HOUSLEY', 'KATIE MCGINTY',\n",
      "       'KEVIN DE LEON', 'LEAH VUKMIR', 'LINDSEY GRAHAM', 'LUCY BRENTON',\n",
      "       'MARGARET STOCK', 'MICHAEL SANCHEZ', 'MICK RICH', 'MIKE BRAUN',\n",
      "       'MIKE ROUNDS', 'MITCH MCCONNELL', 'MITT ROMNEY', 'PATRICK MORRISEY'],\n",
      "      dtype='object')\n",
      "36 candidates in type 1: Index(['AL GROSS', 'ALLEN BUCKLEY', 'BETO O'ROURKE', 'BILL HAGERTY',\n",
      "       'BOB HUGIN', 'DAN SULLIVAN', 'DEAN HELLER', 'DEAN HILL', 'DEB FISCHER',\n",
      "       'DERRICK EDWARDS', 'DIANNE FEINSTEIN', 'HEIDI HEITKAMP',\n",
      "       'JANE RAYBOULD', 'JASON KANDER', 'JEANNE SHAHEEN', 'JEFF MERKLEY',\n",
      "       'JIM BARKSDALE', 'JIM NEWBERGER', 'JIM SCHULTZ', 'JOE MILLER',\n",
      "       'JOHN BARRASSO', 'JOHN BOOZMAN', 'JOHNNY ISAKSON', 'JONI ERNST',\n",
      "       'KELLY AYOTTE', 'KEVIN CRAMER', 'KEVIN O'CONNOR', 'LISA MURKOWSKI',\n",
      "       'LORETTA SANCHEZ', 'MAGGIE HASSAN', 'MARIA CANTWELL', 'MARK CALLAHAN',\n",
      "       'MARK KELLY', 'MARK KIRK', 'MIKE ESPY', 'MURRAY SABRIN'],\n",
      "      dtype='object')\n",
      "35 candidates in type 2: Index(['ALEX MERCED', 'ARN MENCONI', 'ARVIN VOHRA', 'BARBARA BOLLIER',\n",
      "       'BARRY MICHAELS', 'BRIAN SCHATZ', 'CINDY HYDE-SMITH', 'CONNER ELDRIDGE',\n",
      "       'CORY BOOKER', 'CRIS ERICSON', 'DAVID DUKE', 'DAVID MORAN',\n",
      "       'FOSTER CAMPBELL', 'GARY TRAUNER', 'GEOFF DIEHL', 'JACKY ROSEN',\n",
      "       'JASON LEWIS', 'JEFF RUSSELL', 'JENNY WILSON', 'JIM GRAY',\n",
      "       'JIM RENACCI', 'JIM RISCH', 'JOHN CARROLL', 'JOHN HOEVEN', 'JOHN JAMES',\n",
      "       'KATHY SZELIGA', 'KYRSTEN SINEMA', 'MARCO RUBIO', 'MARSHA BLACKBURN',\n",
      "       'MARTHA MCSALLY', 'MATT LIEBERMAN', 'MIKE CRAPO', 'MIKE LEE',\n",
      "       'NEAL SIMON', 'PATRICK MURPHY'],\n",
      "      dtype='object')\n",
      "6 candidates in type 3: Index(['BEN CARDIN', 'BEN SASSE', 'DANIEL BURKE', 'JOE DONNELLY',\n",
      "       'PATTY JUDGE', 'PATTY MURRAY'],\n",
      "      dtype='object')\n"
     ]
    }
   ],
   "source": [
    "for candidate_type in range(0,n_clusters):\n",
    "    print('{} candidates in type {}: {}'.format(np.where(labels==candidate_type)[0].shape[0],candidate_type,candidate_name[np.where(labels==candidate_type)]))"
   ]
  },
  {
   "cell_type": "code",
   "execution_count": 58,
   "id": "4728806d",
   "metadata": {},
   "outputs": [
    {
     "data": {
      "image/png": "[encoded data removed]",
      "text/plain": [
       "<Figure size 1800x360 with 4 Axes>"
      ]
     },
     "metadata": {
      "needs_background": "light"
     },
     "output_type": "display_data"
    }
   ],
   "source": [
    "fig, axs = plt.subplots(1,n_clusters, figsize=(25,5))\n",
    "for candidate_type in range(0,n_clusters):\n",
    "    axs[candidate_type].plot(range(0,feature_length), np.mean(candidate_feature_vectors[np.where(labels==candidate_type)], axis=0))\n",
    "    axs[candidate_type].set_title('type {}'.format(candidate_type))"
   ]
  },
  {
   "cell_type": "markdown",
   "id": "96e6534b",
   "metadata": {},
   "source": [
    "We can also sum for each 30 days since the data is sparse."
   ]
  },
  {
   "cell_type": "code",
   "execution_count": 59,
   "id": "893bb305",
   "metadata": {},
   "outputs": [],
   "source": [
    "# sum for each 30 day\n",
    "candidate_feature_vectors = candidate_quotes_cluster_feature_filted.to_numpy().T\n",
    "candidate_feature_vectors_sum = np.array(np.split(candidate_feature_vectors,10, axis=1)).sum(axis=2).T"
   ]
  },
  {
   "cell_type": "code",
   "execution_count": 60,
   "id": "70f8efaf",
   "metadata": {},
   "outputs": [
    {
     "data": {
      "text/plain": [
       "<matplotlib.collections.PathCollection at 0x15cfc90a0>"
      ]
     },
     "execution_count": 60,
     "metadata": {},
     "output_type": "execute_result"
    },
    {
     "data": {
      "image/png": "[encoded data removed]",
      "text/plain": [
       "<Figure size 432x288 with 1 Axes>"
      ]
     },
     "metadata": {
      "needs_background": "light"
     },
     "output_type": "display_data"
    }
   ],
   "source": [
    "reduced_feature_PCA = PCA(n_components=2).fit(candidate_feature_vectors_sum).transform(candidate_feature_vectors_sum)\n",
    "\n",
    "plt.scatter(reduced_feature_PCA[:,0],reduced_feature_PCA[:,1], alpha=0.5)"
   ]
  },
  {
   "cell_type": "code",
   "execution_count": 61,
   "id": "d0236198",
   "metadata": {},
   "outputs": [
    {
     "data": {
      "text/plain": [
       "[<matplotlib.lines.Line2D at 0x17afb6550>]"
      ]
     },
     "execution_count": 61,
     "metadata": {},
     "output_type": "execute_result"
    },
    {
     "data": {
      "image/png": "[encoded data removed]",
      "text/plain": [
       "<Figure size 432x288 with 1 Axes>"
      ]
     },
     "metadata": {
      "needs_background": "light"
     },
     "output_type": "display_data"
    }
   ],
   "source": [
    "silhouettes=[]\n",
    "for n_clusters in range(2,10):\n",
    "    labels = KMeans(n_clusters=n_clusters).fit_predict(reduced_feature_PCA)\n",
    "    score = silhouette_score(reduced_feature_PCA,labels)\n",
    "    silhouettes.append(score)\n",
    "    \n",
    "plt.plot(range(2,10),silhouettes)"
   ]
  },
  {
   "cell_type": "code",
   "execution_count": 62,
   "id": "9d349d84",
   "metadata": {},
   "outputs": [
    {
     "data": {
      "text/plain": [
       "<matplotlib.collections.PathCollection at 0x17afe68e0>"
      ]
     },
     "execution_count": 62,
     "metadata": {},
     "output_type": "execute_result"
    },
    {
     "data": {
      "image/png": "[encoded data removed]",
      "text/plain": [
       "<Figure size 432x288 with 1 Axes>"
      ]
     },
     "metadata": {
      "needs_background": "light"
     },
     "output_type": "display_data"
    }
   ],
   "source": [
    "n_clusters = 2\n",
    "labels = KMeans(n_clusters=n_clusters).fit_predict(reduced_feature_PCA)\n",
    "plt.scatter(reduced_feature_PCA[:,0],reduced_feature_PCA[:,1], alpha=0.5,c=labels)"
   ]
  },
  {
   "cell_type": "code",
   "execution_count": 63,
   "id": "63014d57",
   "metadata": {},
   "outputs": [
    {
     "data": {
      "image/png": "[encoded data removed]",
      "text/plain": [
       "<Figure size 1800x360 with 2 Axes>"
      ]
     },
     "metadata": {
      "needs_background": "light"
     },
     "output_type": "display_data"
    }
   ],
   "source": [
    "fig, axs = plt.subplots(1,n_clusters, figsize=(25,5))\n",
    "for candidate_type in range(0,n_clusters):\n",
    "    axs[candidate_type].plot(range(0,10), np.mean(candidate_feature_vectors_sum[np.where(labels==candidate_type)], axis=0))\n",
    "    axs[candidate_type].set_title('type {}'.format(candidate_type))"
   ]
  },
  {
   "cell_type": "code",
   "execution_count": 64,
   "id": "cd10a8fd",
   "metadata": {},
   "outputs": [
    {
     "name": "stdout",
     "output_type": "stream",
     "text": [
      "88 candidates in type 0: Index(['ABHAY PATEL', 'ALEX MERCED', 'ALLEN BUCKLEY', 'ANN KIRKPATRICK',\n",
      "       'ARVIN VOHRA', 'BARRY MICHAELS', 'BRIAN SCHATZ', 'CAROLINE FAYARD',\n",
      "       'CATHERINE CORTEZ MASTO', 'CHRIS VAN HOLLEN', 'CHRIS VANCE',\n",
      "       'CINDY HYDE-SMITH', 'CONNER ELDRIDGE', 'CRIS ERICSON', 'DAN CARTER',\n",
      "       'DARRYL GLENN', 'DAVID BARIA', 'DAVID DUKE', 'DEAN HILL',\n",
      "       'DEBBIE STABENOW', 'DERRICK EDWARDS', 'ELIOT GLASSHEIM', 'EVAN BAYH',\n",
      "       'FOSTER CAMPBELL', 'GEOFF DIEHL', 'JAMES LANKFORD', 'JANE RAYBOULD',\n",
      "       'JASON KANDER', 'JAY WILLIAMS', 'JEFF RUSSELL', 'JENNY WILSON',\n",
      "       'JERRY MORAN', 'JERRY STURGILL', 'JERRY TROOIEN', 'JIM BARKSDALE',\n",
      "       'JIM GRAY', 'JIM SCHULTZ', 'JOE MILLER', 'JOHN BOOZMAN', 'JOHN CARROLL',\n",
      "       'JOHN FLEMING', 'JOHN HOEVEN', 'JOHN KENNEDY', 'JOHNNY ISAKSON',\n",
      "       'KATHY SZELIGA', 'KATIE MCGINTY', 'KELLY AYOTTE', 'KEVIN DE LEON',\n",
      "       'LISA MURKOWSKI', 'LORETTA SANCHEZ', 'LUCY BRENTON', 'MAGGIE HASSAN',\n",
      "       'MARCO RUBIO', 'MARGARET STOCK', 'MARIA CANTWELL', 'MARK CALLAHAN',\n",
      "       'MARK KIRK', 'MICK RICH', 'MIKE CRAPO', 'MIKE ESPY', 'MIKE LEE',\n",
      "       'PATRICK MURPHY', 'PATTY JUDGE', 'PATTY MURRAY', 'PAUL STANTON',\n",
      "       'PETER WILLIAMS', 'RAND PAUL', 'RAY METCALFE', 'RICHARD BLUMENTHAL',\n",
      "       'RICHARD BURR', 'RICK SCOTT', 'ROB PORTMAN', 'RON JOHNSON', 'RON WYDEN',\n",
      "       'ROY BLUNT', 'RUSS FEINGOLD', 'SCOTT MILNE', 'SHELDON WHITEHOUSE',\n",
      "       'SHIVA AYYADURAI', 'STEVEN MACHAT', 'SUSAN HUTCHISON',\n",
      "       'TAMMY DUCKWORTH', 'TED STRICKLAND', 'TIM HAGAN', 'TIM SCOTT',\n",
      "       'TOM JONES', 'TROY HEBERT', 'ZAK RINGELSTEIN'],\n",
      "      dtype='object')\n",
      "44 candidates in type 1: Index(['AMY KLOBUCHAR', 'ARN MENCONI', 'BEN CARDIN', 'BERNIE SANDERS',\n",
      "       'BETO O'ROURKE', 'BILL NELSON', 'BOB HUGIN', 'CHUCK GRASSLEY',\n",
      "       'CLAIRE MCCASKILL', 'DEAN HELLER', 'DEB FISCHER', 'DIANNE FEINSTEIN',\n",
      "       'GARY TRAUNER', 'HEIDI HEITKAMP', 'JACKY ROSEN', 'JIM NEWBERGER',\n",
      "       'JIM RENACCI', 'JOE DONNELLY', 'JOE MANCHIN', 'JOHN BARRASSO',\n",
      "       'JOHN JAMES', 'JOHN MCCAIN', 'JON TESTER', 'JOSH HAWLEY',\n",
      "       'KARIN HOUSLEY', 'KEVIN CRAMER', 'KYRSTEN SINEMA', 'LEAH VUKMIR',\n",
      "       'MARSHA BLACKBURN', 'MARTHA MCSALLY', 'MIKE BRAUN', 'MITT ROMNEY',\n",
      "       'MURRAY SABRIN', 'NEAL SIMON', 'PATRICK MORRISEY', 'PHIL BREDESEN',\n",
      "       'ROBERT MENENDEZ', 'SCOTT SUMMERS', 'SHERROD BROWN', 'TAMMY BALDWIN',\n",
      "       'TED CRUZ', 'THOMAS DIXON', 'TINA SMITH', 'TONY CAMPBELL'],\n",
      "      dtype='object')\n"
     ]
    }
   ],
   "source": [
    "for candidate_type in range(0,n_clusters):\n",
    "    print('{} candidates in type {}: {}'.format(np.where(labels==candidate_type)[0].shape[0],candidate_type,candidate_name_filted[np.where(labels==candidate_type)]))"
   ]
  },
  {
   "cell_type": "code",
   "execution_count": 65,
   "id": "8ae5f152",
   "metadata": {},
   "outputs": [
    {
     "data": {
      "text/plain": [
       "<AxesSubplot:>"
      ]
     },
     "execution_count": 65,
     "metadata": {},
     "output_type": "execute_result"
    },
    {
     "data": {
      "image/png": "[encoded data removed]",
      "text/plain": [
       "<Figure size 432x288 with 1 Axes>"
      ]
     },
     "metadata": {
      "needs_background": "light"
     },
     "output_type": "display_data"
    }
   ],
   "source": [
    "# From type 0\n",
    "candidate_quotes_cluster_feature_filted['ALLEN BUCKLEY'].rolling(window=30).sum().plot()"
   ]
  },
  {
   "cell_type": "code",
   "execution_count": 66,
   "id": "9a0c30ef",
   "metadata": {},
   "outputs": [
    {
     "data": {
      "text/plain": [
       "<AxesSubplot:>"
      ]
     },
     "execution_count": 66,
     "metadata": {},
     "output_type": "execute_result"
    },
    {
     "data": {
      "image/png": "[encoded data removed]",
      "text/plain": [
       "<Figure size 432x288 with 1 Axes>"
      ]
     },
     "metadata": {
      "needs_background": "light"
     },
     "output_type": "display_data"
    }
   ],
   "source": [
    "# From type 1\n",
    "candidate_quotes_cluster_feature_filted['DIANNE FEINSTEIN'].rolling(window=30).sum().plot()"
   ]
  },
  {
   "cell_type": "markdown",
   "id": "1a29c6f1",
   "metadata": {},
   "source": [
    "# 4. Prediction Model\n",
    "In this section, we will try to build the prediction model that uses the senate quotation data to predict election result."
   ]
  },
  {
   "cell_type": "markdown",
   "id": "00a2b64f",
   "metadata": {},
   "source": [
    "**4.1:** First, we label the data by whether the candidate win the election in a new column 'is_winner'"
   ]
  },
  {
   "cell_type": "code",
   "execution_count": 68,
   "id": "8b989331",
   "metadata": {},
   "outputs": [
    {
     "data": {
      "text/html": [
       "<div>\n",
       "<style scoped>\n",
       "    .dataframe tbody tr th:only-of-type {\n",
       "        vertical-align: middle;\n",
       "    }\n",
       "\n",
       "    .dataframe tbody tr th {\n",
       "        vertical-align: top;\n",
       "    }\n",
       "\n",
       "    .dataframe thead th {\n",
       "        text-align: right;\n",
       "    }\n",
       "</style>\n",
       "<table border=\"1\" class=\"dataframe\">\n",
       "  <thead>\n",
       "    <tr style=\"text-align: right;\">\n",
       "      <th></th>\n",
       "      <th>year</th>\n",
       "      <th>state</th>\n",
       "      <th>state_po</th>\n",
       "      <th>state_fips</th>\n",
       "      <th>state_cen</th>\n",
       "      <th>state_ic</th>\n",
       "      <th>office</th>\n",
       "      <th>district</th>\n",
       "      <th>stage</th>\n",
       "      <th>special</th>\n",
       "      <th>candidate</th>\n",
       "      <th>party_detailed</th>\n",
       "      <th>writein</th>\n",
       "      <th>mode</th>\n",
       "      <th>candidatevotes</th>\n",
       "      <th>totalvotes</th>\n",
       "      <th>unofficial</th>\n",
       "      <th>version</th>\n",
       "      <th>party_simplified</th>\n",
       "      <th>is_winner</th>\n",
       "    </tr>\n",
       "  </thead>\n",
       "  <tbody>\n",
       "    <tr>\n",
       "      <th>1</th>\n",
       "      <td>2016</td>\n",
       "      <td>ALABAMA</td>\n",
       "      <td>AL</td>\n",
       "      <td>1</td>\n",
       "      <td>63</td>\n",
       "      <td>41</td>\n",
       "      <td>US SENATE</td>\n",
       "      <td>statewide</td>\n",
       "      <td>gen</td>\n",
       "      <td>False</td>\n",
       "      <td>RICHARD C. SHELBY</td>\n",
       "      <td>REPUBLICAN</td>\n",
       "      <td>False</td>\n",
       "      <td>total</td>\n",
       "      <td>1335104</td>\n",
       "      <td>2087444</td>\n",
       "      <td>False</td>\n",
       "      <td>20210114</td>\n",
       "      <td>REPUBLICAN</td>\n",
       "      <td>True</td>\n",
       "    </tr>\n",
       "    <tr>\n",
       "      <th>7</th>\n",
       "      <td>2016</td>\n",
       "      <td>ALASKA</td>\n",
       "      <td>AK</td>\n",
       "      <td>2</td>\n",
       "      <td>94</td>\n",
       "      <td>81</td>\n",
       "      <td>US SENATE</td>\n",
       "      <td>statewide</td>\n",
       "      <td>gen</td>\n",
       "      <td>False</td>\n",
       "      <td>LISA MURKOWSKI</td>\n",
       "      <td>REPUBLICAN</td>\n",
       "      <td>False</td>\n",
       "      <td>total</td>\n",
       "      <td>138149</td>\n",
       "      <td>311441</td>\n",
       "      <td>False</td>\n",
       "      <td>20210114</td>\n",
       "      <td>REPUBLICAN</td>\n",
       "      <td>True</td>\n",
       "    </tr>\n",
       "    <tr>\n",
       "      <th>12</th>\n",
       "      <td>2016</td>\n",
       "      <td>ARIZONA</td>\n",
       "      <td>AZ</td>\n",
       "      <td>4</td>\n",
       "      <td>86</td>\n",
       "      <td>61</td>\n",
       "      <td>US SENATE</td>\n",
       "      <td>statewide</td>\n",
       "      <td>gen</td>\n",
       "      <td>False</td>\n",
       "      <td>JOHN MCCAIN</td>\n",
       "      <td>REPUBLICAN</td>\n",
       "      <td>False</td>\n",
       "      <td>total</td>\n",
       "      <td>1359267</td>\n",
       "      <td>2530730</td>\n",
       "      <td>False</td>\n",
       "      <td>20210114</td>\n",
       "      <td>REPUBLICAN</td>\n",
       "      <td>True</td>\n",
       "    </tr>\n",
       "    <tr>\n",
       "      <th>14</th>\n",
       "      <td>2016</td>\n",
       "      <td>ARKANSAS</td>\n",
       "      <td>AR</td>\n",
       "      <td>5</td>\n",
       "      <td>71</td>\n",
       "      <td>42</td>\n",
       "      <td>US SENATE</td>\n",
       "      <td>statewide</td>\n",
       "      <td>gen</td>\n",
       "      <td>False</td>\n",
       "      <td>JOHN BOOZMAN</td>\n",
       "      <td>REPUBLICAN</td>\n",
       "      <td>False</td>\n",
       "      <td>total</td>\n",
       "      <td>661984</td>\n",
       "      <td>1107522</td>\n",
       "      <td>False</td>\n",
       "      <td>20210114</td>\n",
       "      <td>REPUBLICAN</td>\n",
       "      <td>True</td>\n",
       "    </tr>\n",
       "    <tr>\n",
       "      <th>18</th>\n",
       "      <td>2016</td>\n",
       "      <td>CALIFORNIA</td>\n",
       "      <td>CA</td>\n",
       "      <td>6</td>\n",
       "      <td>93</td>\n",
       "      <td>71</td>\n",
       "      <td>US SENATE</td>\n",
       "      <td>statewide</td>\n",
       "      <td>gen</td>\n",
       "      <td>False</td>\n",
       "      <td>KAMALA D. HARRIS</td>\n",
       "      <td>DEMOCRAT</td>\n",
       "      <td>False</td>\n",
       "      <td>total</td>\n",
       "      <td>7542753</td>\n",
       "      <td>12244170</td>\n",
       "      <td>False</td>\n",
       "      <td>20210114</td>\n",
       "      <td>DEMOCRAT</td>\n",
       "      <td>True</td>\n",
       "    </tr>\n",
       "  </tbody>\n",
       "</table>\n",
       "</div>"
      ],
      "text/plain": [
       "    year       state state_po  state_fips  state_cen  state_ic     office  \\\n",
       "1   2016     ALABAMA       AL           1         63        41  US SENATE   \n",
       "7   2016      ALASKA       AK           2         94        81  US SENATE   \n",
       "12  2016     ARIZONA       AZ           4         86        61  US SENATE   \n",
       "14  2016    ARKANSAS       AR           5         71        42  US SENATE   \n",
       "18  2016  CALIFORNIA       CA           6         93        71  US SENATE   \n",
       "\n",
       "     district stage  special          candidate party_detailed  writein  \\\n",
       "1   statewide   gen    False  RICHARD C. SHELBY     REPUBLICAN    False   \n",
       "7   statewide   gen    False     LISA MURKOWSKI     REPUBLICAN    False   \n",
       "12  statewide   gen    False        JOHN MCCAIN     REPUBLICAN    False   \n",
       "14  statewide   gen    False       JOHN BOOZMAN     REPUBLICAN    False   \n",
       "18  statewide   gen    False   KAMALA D. HARRIS       DEMOCRAT    False   \n",
       "\n",
       "     mode  candidatevotes  totalvotes  unofficial   version party_simplified  \\\n",
       "1   total         1335104     2087444       False  20210114       REPUBLICAN   \n",
       "7   total          138149      311441       False  20210114       REPUBLICAN   \n",
       "12  total         1359267     2530730       False  20210114       REPUBLICAN   \n",
       "14  total          661984     1107522       False  20210114       REPUBLICAN   \n",
       "18  total         7542753    12244170       False  20210114         DEMOCRAT   \n",
       "\n",
       "    is_winner  \n",
       "1        True  \n",
       "7        True  \n",
       "12       True  \n",
       "14       True  \n",
       "18       True  "
      ]
     },
     "execution_count": 68,
     "metadata": {},
     "output_type": "execute_result"
    }
   ],
   "source": [
    "# Add 'is_winner' feature\n",
    "candidate_info['is_winner'] = False\n",
    "candidate_info.loc[candidate_info.groupby(['year', 'state'])['candidatevotes'].idxmax(), 'is_winner'] = True\n",
    "candidate_info[candidate_info['is_winner'] == True].head(5) # we display 5 winners"
   ]
  },
  {
   "cell_type": "markdown",
   "id": "7752d793",
   "metadata": {},
   "source": [
    "We notice that the dataset also contains situation in which more than one senate are elected in a state in the same year (such situations are officialy called special senate election in the U.S.). To find these special elections, we check whether the sum of candidate votes exceed the total number of votes. "
   ]
  },
  {
   "cell_type": "code",
   "execution_count": 69,
   "id": "58bec1cc",
   "metadata": {},
   "outputs": [
    {
     "data": {
      "text/plain": [
       "year  state      \n",
       "2018  MINNESOTA      False\n",
       "      MISSISSIPPI    False\n",
       "2020  GEORGIA        False\n",
       "dtype: bool"
      ]
     },
     "execution_count": 69,
     "metadata": {},
     "output_type": "execute_result"
    }
   ],
   "source": [
    "# Find the special situations\n",
    "sanity = candidate_info.groupby(['year', 'state'])['candidatevotes'].sum() <= candidate_info.groupby(['year', 'state'])['totalvotes'].mean()\n",
    "sanity[sanity == False]"
   ]
  },
  {
   "cell_type": "markdown",
   "id": "3e9ffeca",
   "metadata": {},
   "source": [
    "After manually looking at the dataset, we find two more winners: Tina Smith in 2018 Minnesota election and Cindy Hyde-Smith in 2018 MIssissippi election. The 2020 Georgia election held an additional runoff in 2021, in which Jon Ossof actually won the election. However, since QuoteBank only contains citations before April 2020, the data cannot reflect quotation changes before elections. We have decided not to include elections happening since 2020. So, we just add the two previously overlooked winners."
   ]
  },
  {
   "cell_type": "code",
   "execution_count": 70,
   "id": "4e551509",
   "metadata": {},
   "outputs": [],
   "source": [
    "# Add winners in special elections\n",
    "candidate_info.loc[candidate_info['candidate'] == 'TINA SMITH','is_winner'] = True\n",
    "candidate_info.loc[candidate_info['candidate'] == 'CINDY HYDE-SMITH','is_winner'] = True"
   ]
  },
  {
   "cell_type": "markdown",
   "id": "680e8130",
   "metadata": {},
   "source": [
    "**4.2:** we now generate features by concatenating the monthly discretized quotation data (defined in clustering section above) and affiliated party information (defined below)"
   ]
  },
  {
   "cell_type": "markdown",
   "id": "8ca88b18",
   "metadata": {},
   "source": [
    "Since affiliated party plays an important role in election, we  include the party affiliation of each candidate. For senate elction in each state, we also consider the affiliated party's vote rate in the most recent presidential election. Since we are looking at the senate election from 2016 to 2029, we will use the 2016 presidential election data.\n",
    "\n",
    "The presidential election data also comes from the MIT Election Data and Science Lab[2]. It contains the presidential election voting result by each state.\n",
    "\n",
    "[2]MIT Election Data and Science Lab, 2017, \"U.S. President 1976–2020\", https://doi.org/10.7910/DVN/42MVDX, Harvard Dataverse, V6."
   ]
  },
  {
   "cell_type": "code",
   "execution_count": 72,
   "id": "0d054640",
   "metadata": {},
   "outputs": [
    {
     "data": {
      "text/html": [
       "<div>\n",
       "<style scoped>\n",
       "    .dataframe tbody tr th:only-of-type {\n",
       "        vertical-align: middle;\n",
       "    }\n",
       "\n",
       "    .dataframe tbody tr th {\n",
       "        vertical-align: top;\n",
       "    }\n",
       "\n",
       "    .dataframe thead th {\n",
       "        text-align: right;\n",
       "    }\n",
       "</style>\n",
       "<table border=\"1\" class=\"dataframe\">\n",
       "  <thead>\n",
       "    <tr style=\"text-align: right;\">\n",
       "      <th></th>\n",
       "      <th>year</th>\n",
       "      <th>state</th>\n",
       "      <th>state_po</th>\n",
       "      <th>state_fips</th>\n",
       "      <th>state_cen</th>\n",
       "      <th>state_ic</th>\n",
       "      <th>office</th>\n",
       "      <th>candidate</th>\n",
       "      <th>party_detailed</th>\n",
       "      <th>writein</th>\n",
       "      <th>candidatevotes</th>\n",
       "      <th>totalvotes</th>\n",
       "      <th>version</th>\n",
       "      <th>notes</th>\n",
       "      <th>party_simplified</th>\n",
       "    </tr>\n",
       "  </thead>\n",
       "  <tbody>\n",
       "    <tr>\n",
       "      <th>3602</th>\n",
       "      <td>2016</td>\n",
       "      <td>NEW HAMPSHIRE</td>\n",
       "      <td>NH</td>\n",
       "      <td>33</td>\n",
       "      <td>12</td>\n",
       "      <td>4</td>\n",
       "      <td>US PRESIDENT</td>\n",
       "      <td>SCATTERING</td>\n",
       "      <td>NaN</td>\n",
       "      <td>True</td>\n",
       "      <td>2411</td>\n",
       "      <td>744296</td>\n",
       "      <td>20210113</td>\n",
       "      <td>NaN</td>\n",
       "      <td>OTHER</td>\n",
       "    </tr>\n",
       "    <tr>\n",
       "      <th>3719</th>\n",
       "      <td>2016</td>\n",
       "      <td>WEST VIRGINIA</td>\n",
       "      <td>WV</td>\n",
       "      <td>54</td>\n",
       "      <td>55</td>\n",
       "      <td>56</td>\n",
       "      <td>US PRESIDENT</td>\n",
       "      <td>CLINTON, HILLARY</td>\n",
       "      <td>DEMOCRAT</td>\n",
       "      <td>False</td>\n",
       "      <td>188794</td>\n",
       "      <td>713051</td>\n",
       "      <td>20210113</td>\n",
       "      <td>NaN</td>\n",
       "      <td>DEMOCRAT</td>\n",
       "    </tr>\n",
       "    <tr>\n",
       "      <th>3438</th>\n",
       "      <td>2016</td>\n",
       "      <td>COLORADO</td>\n",
       "      <td>CO</td>\n",
       "      <td>8</td>\n",
       "      <td>84</td>\n",
       "      <td>62</td>\n",
       "      <td>US PRESIDENT</td>\n",
       "      <td>DE LA FUENTE, ROQUE \"\"ROCKY\"\"</td>\n",
       "      <td>AMERICAN DELTA PARTY</td>\n",
       "      <td>False</td>\n",
       "      <td>1255</td>\n",
       "      <td>2780220</td>\n",
       "      <td>20210113</td>\n",
       "      <td>NaN</td>\n",
       "      <td>OTHER</td>\n",
       "    </tr>\n",
       "    <tr>\n",
       "      <th>3639</th>\n",
       "      <td>2016</td>\n",
       "      <td>NORTH DAKOTA</td>\n",
       "      <td>ND</td>\n",
       "      <td>38</td>\n",
       "      <td>44</td>\n",
       "      <td>36</td>\n",
       "      <td>US PRESIDENT</td>\n",
       "      <td>CLINTON, HILLARY</td>\n",
       "      <td>DEMOCRAT</td>\n",
       "      <td>False</td>\n",
       "      <td>93758</td>\n",
       "      <td>344360</td>\n",
       "      <td>20210113</td>\n",
       "      <td>NaN</td>\n",
       "      <td>DEMOCRAT</td>\n",
       "    </tr>\n",
       "  </tbody>\n",
       "</table>\n",
       "</div>"
      ],
      "text/plain": [
       "      year          state state_po  state_fips  state_cen  state_ic  \\\n",
       "3602  2016  NEW HAMPSHIRE       NH          33         12         4   \n",
       "3719  2016  WEST VIRGINIA       WV          54         55        56   \n",
       "3438  2016       COLORADO       CO           8         84        62   \n",
       "3639  2016   NORTH DAKOTA       ND          38         44        36   \n",
       "\n",
       "            office                      candidate        party_detailed  \\\n",
       "3602  US PRESIDENT                     SCATTERING                   NaN   \n",
       "3719  US PRESIDENT               CLINTON, HILLARY              DEMOCRAT   \n",
       "3438  US PRESIDENT  DE LA FUENTE, ROQUE \"\"ROCKY\"\"  AMERICAN DELTA PARTY   \n",
       "3639  US PRESIDENT               CLINTON, HILLARY              DEMOCRAT   \n",
       "\n",
       "     writein  candidatevotes  totalvotes   version  notes party_simplified  \n",
       "3602    True            2411      744296  20210113    NaN            OTHER  \n",
       "3719   False          188794      713051  20210113    NaN         DEMOCRAT  \n",
       "3438   False            1255     2780220  20210113    NaN            OTHER  \n",
       "3639   False           93758      344360  20210113    NaN         DEMOCRAT  "
      ]
     },
     "execution_count": 72,
     "metadata": {},
     "output_type": "execute_result"
    }
   ],
   "source": [
    "# We load 2016 result separately\n",
    "president = pd.read_csv('SenateData/1976-2020-president.csv')\n",
    "president16 = president[president['year'] == 2016].copy()\n",
    "president16.sample(4) #display format of president election data"
   ]
  },
  {
   "cell_type": "code",
   "execution_count": 73,
   "id": "84a8ea82",
   "metadata": {},
   "outputs": [
    {
     "data": {
      "text/plain": [
       "state      party_simplified\n",
       "ALABAMA    DEMOCRAT            0.343579\n",
       "           LIBERTARIAN         0.020942\n",
       "           OTHER               0.014648\n",
       "           REPUBLICAN          0.620831\n",
       "ALASKA     DEMOCRAT            0.365509\n",
       "                                 ...   \n",
       "WISCONSIN  REPUBLICAN          0.472182\n",
       "WYOMING    DEMOCRAT            0.216289\n",
       "           LIBERTARIAN         0.051343\n",
       "           OTHER               0.058384\n",
       "           REPUBLICAN          0.673984\n",
       "Name: vote_rate, Length: 201, dtype: float64"
      ]
     },
     "execution_count": 73,
     "metadata": {},
     "output_type": "execute_result"
    }
   ],
   "source": [
    "# We add vote rate to each candidate in each state\n",
    "president16['vote_rate'] = president16['candidatevotes']/president16['totalvotes']\n",
    "# We group the data by states and party_simplified (represent small parties, independent, NaN all by 'Others'). \n",
    "# We take sum of vote rates of cadidates from the same party_simplified\n",
    "vote_byparty16 = president16.groupby(['state', 'party_simplified'])['vote_rate'].sum()\n",
    "vote_byparty16"
   ]
  },
  {
   "cell_type": "code",
   "execution_count": 74,
   "id": "6ede7665",
   "metadata": {},
   "outputs": [
    {
     "data": {
      "text/html": [
       "<div>\n",
       "<style scoped>\n",
       "    .dataframe tbody tr th:only-of-type {\n",
       "        vertical-align: middle;\n",
       "    }\n",
       "\n",
       "    .dataframe tbody tr th {\n",
       "        vertical-align: top;\n",
       "    }\n",
       "\n",
       "    .dataframe thead th {\n",
       "        text-align: right;\n",
       "    }\n",
       "</style>\n",
       "<table border=\"1\" class=\"dataframe\">\n",
       "  <thead>\n",
       "    <tr style=\"text-align: right;\">\n",
       "      <th></th>\n",
       "      <th>party_simplified</th>\n",
       "      <th>party_vote_rate</th>\n",
       "    </tr>\n",
       "    <tr>\n",
       "      <th>candidate</th>\n",
       "      <th></th>\n",
       "      <th></th>\n",
       "    </tr>\n",
       "  </thead>\n",
       "  <tbody>\n",
       "    <tr>\n",
       "      <th>JASON BUCKLEY</th>\n",
       "      <td>LIBERTARIAN</td>\n",
       "      <td>0.046780</td>\n",
       "    </tr>\n",
       "    <tr>\n",
       "      <th>JAMES LANKFORD</th>\n",
       "      <td>REPUBLICAN</td>\n",
       "      <td>0.653229</td>\n",
       "    </tr>\n",
       "    <tr>\n",
       "      <th>FRANK GILBERT</th>\n",
       "      <td>LIBERTARIAN</td>\n",
       "      <td>0.026383</td>\n",
       "    </tr>\n",
       "    <tr>\n",
       "      <th>ROBERT P CASEY JR</th>\n",
       "      <td>DEMOCRAT</td>\n",
       "      <td>0.478536</td>\n",
       "    </tr>\n",
       "    <tr>\n",
       "      <th>RICK SCOTT</th>\n",
       "      <td>REPUBLICAN</td>\n",
       "      <td>0.490219</td>\n",
       "    </tr>\n",
       "  </tbody>\n",
       "</table>\n",
       "</div>"
      ],
      "text/plain": [
       "                  party_simplified  party_vote_rate\n",
       "candidate                                          \n",
       "JASON BUCKLEY          LIBERTARIAN         0.046780\n",
       "JAMES LANKFORD          REPUBLICAN         0.653229\n",
       "FRANK GILBERT          LIBERTARIAN         0.026383\n",
       "ROBERT P CASEY JR         DEMOCRAT         0.478536\n",
       "RICK SCOTT              REPUBLICAN         0.490219"
      ]
     },
     "execution_count": 74,
     "metadata": {},
     "output_type": "execute_result"
    }
   ],
   "source": [
    "# We create feature dataframe and add in party_simplified, party vote rate in most recent presidential election, and final vote rate\n",
    "# If the senate candidate's affiliated party does not show up in the most recent president election, party_vote_rate is 0\n",
    "party_features = candidate_info_byname[['party_simplified']].copy()\n",
    "for name in party_features.index:\n",
    "    state_ = candidate_info_byname.loc[name, 'state']\n",
    "    party_ = candidate_info_byname.loc[name, 'party_simplified']\n",
    "    if party_ in vote_byparty16[state_].index:  #check whether the affiliated party is in recent president election\n",
    "        party_features.loc[name, 'party_vote_rate'] = vote_byparty16[state_][party_]\n",
    "    else: \n",
    "        party_features.loc[name, 'party_vote_rate'] = 0\n",
    "        \n",
    "party_features.sample(5)"
   ]
  },
  {
   "cell_type": "code",
   "execution_count": 75,
   "id": "99f95b9e",
   "metadata": {},
   "outputs": [
    {
     "name": "stdout",
     "output_type": "stream",
     "text": [
      "we have feature vectors from 132 candidates, each with dimension 11\n"
     ]
    }
   ],
   "source": [
    "# We get the candidates used for model and extract the vector corresponding to affliated party's performance in last election\n",
    "candidates_model = candidate_quotes_cluster_feature_filted.T.index\n",
    "party_vote_model = party_features.loc[candidates_model].party_vote_rate\n",
    "# We then concatenate this vector to our model\n",
    "features = np.concatenate((candidate_feature_vectors_sum, party_vote_model.to_numpy()[:, np.newaxis]), axis=1)\n",
    "print('we have feature vectors from {} candidates, each with dimension {}'.format(features.shape[0], features.shape[1]))"
   ]
  },
  {
   "cell_type": "code",
   "execution_count": 87,
   "id": "50768214",
   "metadata": {},
   "outputs": [
    {
     "name": "stdout",
     "output_type": "stream",
     "text": [
      "we have 51 winner candidates and 81 loser candidate\n"
     ]
    }
   ],
   "source": [
    "# we also obtain the corresponding labels, with 0 meaning lose and 1 meaning win\n",
    "labels = candidate_info.set_index('candidate').loc[candidates_model].is_winner.astype(int).to_numpy()\n",
    "print('we have {} winner candidates and {} loser candidate'.format(sum(labels), len(labels) - sum(labels)))\n"
   ]
  },
  {
   "cell_type": "markdown",
   "id": "fdfb9a52",
   "metadata": {
    "jp-MarkdownHeadingCollapsed": true,
    "tags": []
   },
   "source": [
    "## 3. Features for Prediction Model (This is the OLD CODE)\n",
    "In the proposal, we decide to build a model predicting election results based on quotation data. Here, we preprocess the quote data and candidate data to generate the features for training our model.\n",
    "\n",
    "The first feature is the change of quotation number over time. We will also use this for clustering analysis in proposed question 3."
   ]
  },
  {
   "cell_type": "code",
   "execution_count": null,
   "id": "7a550200",
   "metadata": {},
   "outputs": [],
   "source": [
    "date_start=pd.to_datetime('2015-01-01', format='%Y-%m-%d') \n",
    "all_date = (pd.to_datetime('2020-12-31', format='%Y-%m-%d') - date_start).days # number of days.\n",
    "candidate_quotes_name = candidate_quotes_byday.index.map(lambda x:x[0]).drop_duplicates()\n",
    "candidate_quotes_feature = pd.DataFrame(np.zeros([all_date,len(candidate_quotes_name)]), columns=candidate_quotes_name) # initialize frequency vector\n",
    "\n",
    "for candidate in candidate_quotes_name:\n",
    "    candidate_mention = candidate_quotes_byday[candidate]\n",
    "    for date in candidate_mention.index:\n",
    "        date2days = (pd.to_datetime(date, format='%Y-%m-%d') - date_start).days # convert date to num of days w.r.t. start date\n",
    "        candidate_quotes_feature[candidate].iloc[date2days] = candidate_mention.loc[date]"
   ]
  },
  {
   "cell_type": "code",
   "execution_count": null,
   "id": "f5fda582-1c44-4dd5-8678-8915cc5d3328",
   "metadata": {},
   "outputs": [],
   "source": [
    "candidate_quotes_byday"
   ]
  },
  {
   "cell_type": "markdown",
   "id": "0e62d3a6",
   "metadata": {},
   "source": [
    "We also include the party affiliation of each candidate. Moreover, we also consider the affiliated party's vote rate in the most recent presidential election. Since we are looking at the election from 2016 to 2021, we will use the 2016 presidential election data for the senate election from 2016 to 2019, and use the 2020 presidential election data for the senate election from 2020 to 2021.\n",
    "\n",
    "The presidential election data also comes from the MIT Election Data and Science Lab[2]. It contains the presidential election voting result by each state.\n",
    "\n",
    "[2]MIT Election Data and Science Lab, 2017, \"U.S. President 1976–2020\", https://doi.org/10.7910/DVN/42MVDX, Harvard Dataverse, V6."
   ]
  },
  {
   "cell_type": "code",
   "execution_count": 42,
   "id": "9d307c4a",
   "metadata": {},
   "outputs": [
    {
     "data": {
      "text/html": [
       "<div>\n",
       "<style scoped>\n",
       "    .dataframe tbody tr th:only-of-type {\n",
       "        vertical-align: middle;\n",
       "    }\n",
       "\n",
       "    .dataframe tbody tr th {\n",
       "        vertical-align: top;\n",
       "    }\n",
       "\n",
       "    .dataframe thead th {\n",
       "        text-align: right;\n",
       "    }\n",
       "</style>\n",
       "<table border=\"1\" class=\"dataframe\">\n",
       "  <thead>\n",
       "    <tr style=\"text-align: right;\">\n",
       "      <th></th>\n",
       "      <th>year</th>\n",
       "      <th>state</th>\n",
       "      <th>state_po</th>\n",
       "      <th>state_fips</th>\n",
       "      <th>state_cen</th>\n",
       "      <th>state_ic</th>\n",
       "      <th>office</th>\n",
       "      <th>candidate</th>\n",
       "      <th>party_detailed</th>\n",
       "      <th>writein</th>\n",
       "      <th>candidatevotes</th>\n",
       "      <th>totalvotes</th>\n",
       "      <th>version</th>\n",
       "      <th>notes</th>\n",
       "      <th>party_simplified</th>\n",
       "    </tr>\n",
       "  </thead>\n",
       "  <tbody>\n",
       "    <tr>\n",
       "      <th>3716</th>\n",
       "      <td>2016</td>\n",
       "      <td>WASHINGTON</td>\n",
       "      <td>WA</td>\n",
       "      <td>53</td>\n",
       "      <td>91</td>\n",
       "      <td>73</td>\n",
       "      <td>US PRESIDENT</td>\n",
       "      <td>KENNEDY, ALYSON</td>\n",
       "      <td>SOCIALIST WORKERS</td>\n",
       "      <td>False</td>\n",
       "      <td>4307</td>\n",
       "      <td>3317019</td>\n",
       "      <td>20210113</td>\n",
       "      <td>NaN</td>\n",
       "      <td>OTHER</td>\n",
       "    </tr>\n",
       "    <tr>\n",
       "      <th>3681</th>\n",
       "      <td>2016</td>\n",
       "      <td>TENNESSEE</td>\n",
       "      <td>TN</td>\n",
       "      <td>47</td>\n",
       "      <td>62</td>\n",
       "      <td>54</td>\n",
       "      <td>US PRESIDENT</td>\n",
       "      <td>CLINTON, HILLARY</td>\n",
       "      <td>DEMOCRAT</td>\n",
       "      <td>False</td>\n",
       "      <td>870695</td>\n",
       "      <td>2508027</td>\n",
       "      <td>20210113</td>\n",
       "      <td>NaN</td>\n",
       "      <td>DEMOCRAT</td>\n",
       "    </tr>\n",
       "    <tr>\n",
       "      <th>3712</th>\n",
       "      <td>2016</td>\n",
       "      <td>WASHINGTON</td>\n",
       "      <td>WA</td>\n",
       "      <td>53</td>\n",
       "      <td>91</td>\n",
       "      <td>73</td>\n",
       "      <td>US PRESIDENT</td>\n",
       "      <td>JOHNSON, GARY</td>\n",
       "      <td>LIBERTARIAN</td>\n",
       "      <td>False</td>\n",
       "      <td>160879</td>\n",
       "      <td>3317019</td>\n",
       "      <td>20210113</td>\n",
       "      <td>NaN</td>\n",
       "      <td>LIBERTARIAN</td>\n",
       "    </tr>\n",
       "    <tr>\n",
       "      <th>3397</th>\n",
       "      <td>2016</td>\n",
       "      <td>ALABAMA</td>\n",
       "      <td>AL</td>\n",
       "      <td>1</td>\n",
       "      <td>63</td>\n",
       "      <td>41</td>\n",
       "      <td>US PRESIDENT</td>\n",
       "      <td>JOHNSON, GARY</td>\n",
       "      <td>LIBERTARIAN</td>\n",
       "      <td>False</td>\n",
       "      <td>44467</td>\n",
       "      <td>2123372</td>\n",
       "      <td>20210113</td>\n",
       "      <td>NaN</td>\n",
       "      <td>LIBERTARIAN</td>\n",
       "    </tr>\n",
       "  </tbody>\n",
       "</table>\n",
       "</div>"
      ],
      "text/plain": [
       "      year       state state_po  state_fips  state_cen  state_ic  \\\n",
       "3716  2016  WASHINGTON       WA          53         91        73   \n",
       "3681  2016   TENNESSEE       TN          47         62        54   \n",
       "3712  2016  WASHINGTON       WA          53         91        73   \n",
       "3397  2016     ALABAMA       AL           1         63        41   \n",
       "\n",
       "            office         candidate     party_detailed writein  \\\n",
       "3716  US PRESIDENT   KENNEDY, ALYSON  SOCIALIST WORKERS   False   \n",
       "3681  US PRESIDENT  CLINTON, HILLARY           DEMOCRAT   False   \n",
       "3712  US PRESIDENT     JOHNSON, GARY        LIBERTARIAN   False   \n",
       "3397  US PRESIDENT     JOHNSON, GARY        LIBERTARIAN   False   \n",
       "\n",
       "      candidatevotes  totalvotes   version  notes party_simplified  \n",
       "3716            4307     3317019  20210113    NaN            OTHER  \n",
       "3681          870695     2508027  20210113    NaN         DEMOCRAT  \n",
       "3712          160879     3317019  20210113    NaN      LIBERTARIAN  \n",
       "3397           44467     2123372  20210113    NaN      LIBERTARIAN  "
      ]
     },
     "execution_count": 42,
     "metadata": {},
     "output_type": "execute_result"
    }
   ],
   "source": [
    "# We load 2016 and 2020 result separately\n",
    "president = pd.read_csv('SenateData/1976-2020-president.csv')\n",
    "president16 = president[president['year'] == 2016].copy()\n",
    "president20 = president[president['year'] == 2020].copy()\n",
    "president16.sample(4) #display format of president election data"
   ]
  },
  {
   "cell_type": "code",
   "execution_count": 43,
   "id": "e10bd410",
   "metadata": {},
   "outputs": [],
   "source": [
    "# We add vote rate to each candidate in each state\n",
    "president16['vote_rate'] = president16['candidatevotes']/president16['totalvotes']\n",
    "president20['vote_rate'] = president20['candidatevotes']/president20['totalvotes']"
   ]
  },
  {
   "cell_type": "code",
   "execution_count": 44,
   "id": "036b6612",
   "metadata": {},
   "outputs": [
    {
     "data": {
      "text/plain": [
       "state      party_simplified\n",
       "ALABAMA    DEMOCRAT            0.343579\n",
       "           LIBERTARIAN         0.020942\n",
       "           OTHER               0.014648\n",
       "           REPUBLICAN          0.620831\n",
       "ALASKA     DEMOCRAT            0.365509\n",
       "                                 ...   \n",
       "WISCONSIN  REPUBLICAN          0.472182\n",
       "WYOMING    DEMOCRAT            0.216289\n",
       "           LIBERTARIAN         0.051343\n",
       "           OTHER               0.058384\n",
       "           REPUBLICAN          0.673984\n",
       "Name: vote_rate, Length: 201, dtype: float64"
      ]
     },
     "execution_count": 44,
     "metadata": {},
     "output_type": "execute_result"
    }
   ],
   "source": [
    "# We group the data by states and party_simplified (represent small parties, independent, NaN all by 'Others'). \n",
    "# We take sum of vote rates of cadidates from the same party_simplified\n",
    "vote_byparty16 = president16.groupby(['state', 'party_simplified'])['vote_rate'].sum()\n",
    "vote_byparty20 = president20.groupby(['state', 'party_simplified'])['vote_rate'].sum()\n",
    "vote_byparty16"
   ]
  },
  {
   "cell_type": "code",
   "execution_count": 45,
   "id": "0e25e62d",
   "metadata": {},
   "outputs": [],
   "source": [
    "# We create feature dataframe and add in party_simplified, party vote rate in most recent presidential election, and final vote rate\n",
    "# If the senate candidate's affiliated party does not show up in the most recent president election, party_vote_rate is 0\n",
    "features = candidate_info_byname[['party_simplified', 'vote_rate']].copy()\n",
    "for name in features.index:\n",
    "    state_ = candidate_info_byname.loc[name, 'state']\n",
    "    party_ = candidate_info_byname.loc[name, 'party_simplified']\n",
    "    if candidate_info_byname.loc[name, 'year'] < 2020: #for candidate before 2020\n",
    "        if party_ in vote_byparty16[state_].index:  #check whether the affiliated party is in recent president election\n",
    "            features.loc[name, 'party_vote_rate'] = vote_byparty16[state_][party_]\n",
    "        else: \n",
    "            features.loc[name, 'party_vote_rate'] = 0\n",
    "    else:\n",
    "        if party_ in vote_byparty20[state_].index: \n",
    "            features.loc[name, 'party_vote_rate'] = vote_byparty20[state_][party_]\n",
    "        else: \n",
    "            features.loc[name, 'party_vote_rate'] = 0"
   ]
  },
  {
   "cell_type": "markdown",
   "id": "a0f6e1c4-eb2d-452f-b697-a833e7c0ce7a",
   "metadata": {
    "jp-MarkdownHeadingCollapsed": true,
    "tags": []
   },
   "source": [
    "# 4. statistics of sentence complexity (ALSO OLD Code)"
   ]
  },
  {
   "cell_type": "markdown",
   "id": "48abacfb-91b9-4177-9c27-14d76114f0e0",
   "metadata": {},
   "source": [
    "We also calculated the average length of sentence and word of each quotation. This information may be used in our analysis about speech style (question 6)."
   ]
  },
  {
   "cell_type": "code",
   "execution_count": 32,
   "id": "c22ad51d-32f3-4e9f-821f-912eaba1d640",
   "metadata": {},
   "outputs": [
    {
     "data": {
      "text/html": [
       "<div>\n",
       "<style scoped>\n",
       "    .dataframe tbody tr th:only-of-type {\n",
       "        vertical-align: middle;\n",
       "    }\n",
       "\n",
       "    .dataframe tbody tr th {\n",
       "        vertical-align: top;\n",
       "    }\n",
       "\n",
       "    .dataframe thead th {\n",
       "        text-align: right;\n",
       "    }\n",
       "</style>\n",
       "<table border=\"1\" class=\"dataframe\">\n",
       "  <thead>\n",
       "    <tr style=\"text-align: right;\">\n",
       "      <th></th>\n",
       "      <th>quoteID</th>\n",
       "      <th>quotation</th>\n",
       "      <th>speaker</th>\n",
       "      <th>qids</th>\n",
       "      <th>date</th>\n",
       "      <th>numOccurrences</th>\n",
       "      <th>probas</th>\n",
       "      <th>urls</th>\n",
       "      <th>phase</th>\n",
       "      <th>domains</th>\n",
       "      <th>date_only</th>\n",
       "      <th>election_day</th>\n",
       "      <th>split_quotation</th>\n",
       "      <th>avg_sentence_length</th>\n",
       "    </tr>\n",
       "  </thead>\n",
       "  <tbody>\n",
       "    <tr>\n",
       "      <th>0</th>\n",
       "      <td>2015-08-31-000271</td>\n",
       "      <td>... a great day for veterans here in Littleton...</td>\n",
       "      <td>JEANNE SHAHEEN</td>\n",
       "      <td>[Q270316]</td>\n",
       "      <td>2015-08-31 02:10:00</td>\n",
       "      <td>2</td>\n",
       "      <td>[[Jeanne Shaheen, 0.742], [None, 0.2359], [Kel...</td>\n",
       "      <td>[http://www.unionleader.com/article/20150831/N...</td>\n",
       "      <td>E</td>\n",
       "      <td>[com, com]</td>\n",
       "      <td>2015-08-31</td>\n",
       "      <td>2020-11-01</td>\n",
       "      <td>[ a great day for veterans here in Littleton a...</td>\n",
       "      <td>21.500000</td>\n",
       "    </tr>\n",
       "    <tr>\n",
       "      <th>1</th>\n",
       "      <td>2015-10-25-000242</td>\n",
       "      <td>' It is not now, nor has it ever been, the gol...</td>\n",
       "      <td>BERNIE SANDERS</td>\n",
       "      <td>[Q359442]</td>\n",
       "      <td>2015-10-25 14:12:35</td>\n",
       "      <td>1</td>\n",
       "      <td>[[Bernie Sanders, 0.5395], [None, 0.3128], [Hi...</td>\n",
       "      <td>[http://examiner.com/article/bernie-sanders-sl...</td>\n",
       "      <td>E</td>\n",
       "      <td>[com]</td>\n",
       "      <td>2015-10-25</td>\n",
       "      <td>2018-11-01</td>\n",
       "      <td>[' It is not now, nor has it ever been, the go...</td>\n",
       "      <td>24.333333</td>\n",
       "    </tr>\n",
       "    <tr>\n",
       "      <th>2</th>\n",
       "      <td>2015-11-13-000427</td>\n",
       "      <td>[ My dad ] saw what a great opportunity it was,</td>\n",
       "      <td>PAUL STANTON</td>\n",
       "      <td>[Q255668, Q27842994]</td>\n",
       "      <td>2015-11-13 08:45:01</td>\n",
       "      <td>1</td>\n",
       "      <td>[[Paul Stanton, 0.6521], [None, 0.3479]]</td>\n",
       "      <td>[http://thecrimson.com/article/2015/11/13/paul...</td>\n",
       "      <td>E</td>\n",
       "      <td>[com]</td>\n",
       "      <td>2015-11-13</td>\n",
       "      <td>2016-11-01</td>\n",
       "      <td>[[ My dad ] saw what a great opportunity it was,]</td>\n",
       "      <td>11.000000</td>\n",
       "    </tr>\n",
       "    <tr>\n",
       "      <th>3</th>\n",
       "      <td>2015-06-26-015863</td>\n",
       "      <td>hurt Michigan workers and cost thousands of Am...</td>\n",
       "      <td>GARY PETERS</td>\n",
       "      <td>[Q1230954, Q1494930, Q5525742, Q56560036]</td>\n",
       "      <td>2015-06-26 22:31:05</td>\n",
       "      <td>1</td>\n",
       "      <td>[[Gary Peters, 0.7907], [None, 0.2093]]</td>\n",
       "      <td>[http://detroitnews.com/story/news/politics/20...</td>\n",
       "      <td>E</td>\n",
       "      <td>[com]</td>\n",
       "      <td>2015-06-26</td>\n",
       "      <td>2020-11-01</td>\n",
       "      <td>[hurt Michigan workers and cost thousands of A...</td>\n",
       "      <td>10.000000</td>\n",
       "    </tr>\n",
       "  </tbody>\n",
       "</table>\n",
       "</div>"
      ],
      "text/plain": [
       "             quoteID                                          quotation  \\\n",
       "0  2015-08-31-000271  ... a great day for veterans here in Littleton...   \n",
       "1  2015-10-25-000242  ' It is not now, nor has it ever been, the gol...   \n",
       "2  2015-11-13-000427    [ My dad ] saw what a great opportunity it was,   \n",
       "3  2015-06-26-015863  hurt Michigan workers and cost thousands of Am...   \n",
       "\n",
       "          speaker                                       qids  \\\n",
       "0  JEANNE SHAHEEN                                  [Q270316]   \n",
       "1  BERNIE SANDERS                                  [Q359442]   \n",
       "2    PAUL STANTON                       [Q255668, Q27842994]   \n",
       "3     GARY PETERS  [Q1230954, Q1494930, Q5525742, Q56560036]   \n",
       "\n",
       "                 date  numOccurrences  \\\n",
       "0 2015-08-31 02:10:00               2   \n",
       "1 2015-10-25 14:12:35               1   \n",
       "2 2015-11-13 08:45:01               1   \n",
       "3 2015-06-26 22:31:05               1   \n",
       "\n",
       "                                              probas  \\\n",
       "0  [[Jeanne Shaheen, 0.742], [None, 0.2359], [Kel...   \n",
       "1  [[Bernie Sanders, 0.5395], [None, 0.3128], [Hi...   \n",
       "2           [[Paul Stanton, 0.6521], [None, 0.3479]]   \n",
       "3            [[Gary Peters, 0.7907], [None, 0.2093]]   \n",
       "\n",
       "                                                urls phase     domains  \\\n",
       "0  [http://www.unionleader.com/article/20150831/N...     E  [com, com]   \n",
       "1  [http://examiner.com/article/bernie-sanders-sl...     E       [com]   \n",
       "2  [http://thecrimson.com/article/2015/11/13/paul...     E       [com]   \n",
       "3  [http://detroitnews.com/story/news/politics/20...     E       [com]   \n",
       "\n",
       "    date_only election_day                                    split_quotation  \\\n",
       "0  2015-08-31   2020-11-01  [ a great day for veterans here in Littleton a...   \n",
       "1  2015-10-25   2018-11-01  [' It is not now, nor has it ever been, the go...   \n",
       "2  2015-11-13   2016-11-01  [[ My dad ] saw what a great opportunity it was,]   \n",
       "3  2015-06-26   2020-11-01  [hurt Michigan workers and cost thousands of A...   \n",
       "\n",
       "   avg_sentence_length  \n",
       "0            21.500000  \n",
       "1            24.333333  \n",
       "2            11.000000  \n",
       "3            10.000000  "
      ]
     },
     "execution_count": 32,
     "metadata": {},
     "output_type": "execute_result"
    }
   ],
   "source": [
    "# calculate average sentence length (by word number)\n",
    "import re\n",
    "candidate_quotes['split_quotation']=candidate_quotes.quotation.map(lambda x:re.split(r'\\.|!|\\?',x))\n",
    "candidate_quotes['split_quotation']=candidate_quotes.split_quotation.map(lambda x:list(filter(None, x))) # remove empty string\n",
    "candidate_quotes['avg_sentence_length'] = candidate_quotes.split_quotation.map(lambda x:np.mean(list(map(lambda s:len(s.split()), x))))\n",
    "candidate_quotes.head(4)"
   ]
  },
  {
   "cell_type": "code",
   "execution_count": 33,
   "id": "4b7ad7c8-5cbe-4728-9878-dea36503f42f",
   "metadata": {},
   "outputs": [
    {
     "data": {
      "text/html": [
       "<div>\n",
       "<style scoped>\n",
       "    .dataframe tbody tr th:only-of-type {\n",
       "        vertical-align: middle;\n",
       "    }\n",
       "\n",
       "    .dataframe tbody tr th {\n",
       "        vertical-align: top;\n",
       "    }\n",
       "\n",
       "    .dataframe thead th {\n",
       "        text-align: right;\n",
       "    }\n",
       "</style>\n",
       "<table border=\"1\" class=\"dataframe\">\n",
       "  <thead>\n",
       "    <tr style=\"text-align: right;\">\n",
       "      <th></th>\n",
       "      <th>quoteID</th>\n",
       "      <th>quotation</th>\n",
       "      <th>speaker</th>\n",
       "      <th>qids</th>\n",
       "      <th>date</th>\n",
       "      <th>numOccurrences</th>\n",
       "      <th>probas</th>\n",
       "      <th>urls</th>\n",
       "      <th>phase</th>\n",
       "      <th>domains</th>\n",
       "      <th>date_only</th>\n",
       "      <th>election_day</th>\n",
       "      <th>split_quotation</th>\n",
       "      <th>avg_sentence_length</th>\n",
       "      <th>split_words</th>\n",
       "      <th>avg_word_length</th>\n",
       "    </tr>\n",
       "  </thead>\n",
       "  <tbody>\n",
       "    <tr>\n",
       "      <th>0</th>\n",
       "      <td>2015-08-31-000271</td>\n",
       "      <td>... a great day for veterans here in Littleton...</td>\n",
       "      <td>JEANNE SHAHEEN</td>\n",
       "      <td>[Q270316]</td>\n",
       "      <td>2015-08-31 02:10:00</td>\n",
       "      <td>2</td>\n",
       "      <td>[[Jeanne Shaheen, 0.742], [None, 0.2359], [Kel...</td>\n",
       "      <td>[http://www.unionleader.com/article/20150831/N...</td>\n",
       "      <td>E</td>\n",
       "      <td>[com, com]</td>\n",
       "      <td>2015-08-31</td>\n",
       "      <td>2020-11-01</td>\n",
       "      <td>[ a great day for veterans here in Littleton a...</td>\n",
       "      <td>21.500000</td>\n",
       "      <td>[..., a, great, day, for, veterans, here, in, ...</td>\n",
       "      <td>4.318182</td>\n",
       "    </tr>\n",
       "    <tr>\n",
       "      <th>1</th>\n",
       "      <td>2015-10-25-000242</td>\n",
       "      <td>' It is not now, nor has it ever been, the gol...</td>\n",
       "      <td>BERNIE SANDERS</td>\n",
       "      <td>[Q359442]</td>\n",
       "      <td>2015-10-25 14:12:35</td>\n",
       "      <td>1</td>\n",
       "      <td>[[Bernie Sanders, 0.5395], [None, 0.3128], [Hi...</td>\n",
       "      <td>[http://examiner.com/article/bernie-sanders-sl...</td>\n",
       "      <td>E</td>\n",
       "      <td>[com]</td>\n",
       "      <td>2015-10-25</td>\n",
       "      <td>2018-11-01</td>\n",
       "      <td>[' It is not now, nor has it ever been, the go...</td>\n",
       "      <td>24.333333</td>\n",
       "      <td>[', It, is, not, now,, nor, has, it, ever, bee...</td>\n",
       "      <td>3.931507</td>\n",
       "    </tr>\n",
       "    <tr>\n",
       "      <th>2</th>\n",
       "      <td>2015-11-13-000427</td>\n",
       "      <td>[ My dad ] saw what a great opportunity it was,</td>\n",
       "      <td>PAUL STANTON</td>\n",
       "      <td>[Q255668, Q27842994]</td>\n",
       "      <td>2015-11-13 08:45:01</td>\n",
       "      <td>1</td>\n",
       "      <td>[[Paul Stanton, 0.6521], [None, 0.3479]]</td>\n",
       "      <td>[http://thecrimson.com/article/2015/11/13/paul...</td>\n",
       "      <td>E</td>\n",
       "      <td>[com]</td>\n",
       "      <td>2015-11-13</td>\n",
       "      <td>2016-11-01</td>\n",
       "      <td>[[ My dad ] saw what a great opportunity it was,]</td>\n",
       "      <td>11.000000</td>\n",
       "      <td>[[, My, dad, ], saw, what, a, great, opportuni...</td>\n",
       "      <td>3.363636</td>\n",
       "    </tr>\n",
       "    <tr>\n",
       "      <th>3</th>\n",
       "      <td>2015-06-26-015863</td>\n",
       "      <td>hurt Michigan workers and cost thousands of Am...</td>\n",
       "      <td>GARY PETERS</td>\n",
       "      <td>[Q1230954, Q1494930, Q5525742, Q56560036]</td>\n",
       "      <td>2015-06-26 22:31:05</td>\n",
       "      <td>1</td>\n",
       "      <td>[[Gary Peters, 0.7907], [None, 0.2093]]</td>\n",
       "      <td>[http://detroitnews.com/story/news/politics/20...</td>\n",
       "      <td>E</td>\n",
       "      <td>[com]</td>\n",
       "      <td>2015-06-26</td>\n",
       "      <td>2020-11-01</td>\n",
       "      <td>[hurt Michigan workers and cost thousands of A...</td>\n",
       "      <td>10.000000</td>\n",
       "      <td>[hurt, Michigan, workers, and, cost, thousands...</td>\n",
       "      <td>6.300000</td>\n",
       "    </tr>\n",
       "  </tbody>\n",
       "</table>\n",
       "</div>"
      ],
      "text/plain": [
       "             quoteID                                          quotation  \\\n",
       "0  2015-08-31-000271  ... a great day for veterans here in Littleton...   \n",
       "1  2015-10-25-000242  ' It is not now, nor has it ever been, the gol...   \n",
       "2  2015-11-13-000427    [ My dad ] saw what a great opportunity it was,   \n",
       "3  2015-06-26-015863  hurt Michigan workers and cost thousands of Am...   \n",
       "\n",
       "          speaker                                       qids  \\\n",
       "0  JEANNE SHAHEEN                                  [Q270316]   \n",
       "1  BERNIE SANDERS                                  [Q359442]   \n",
       "2    PAUL STANTON                       [Q255668, Q27842994]   \n",
       "3     GARY PETERS  [Q1230954, Q1494930, Q5525742, Q56560036]   \n",
       "\n",
       "                 date  numOccurrences  \\\n",
       "0 2015-08-31 02:10:00               2   \n",
       "1 2015-10-25 14:12:35               1   \n",
       "2 2015-11-13 08:45:01               1   \n",
       "3 2015-06-26 22:31:05               1   \n",
       "\n",
       "                                              probas  \\\n",
       "0  [[Jeanne Shaheen, 0.742], [None, 0.2359], [Kel...   \n",
       "1  [[Bernie Sanders, 0.5395], [None, 0.3128], [Hi...   \n",
       "2           [[Paul Stanton, 0.6521], [None, 0.3479]]   \n",
       "3            [[Gary Peters, 0.7907], [None, 0.2093]]   \n",
       "\n",
       "                                                urls phase     domains  \\\n",
       "0  [http://www.unionleader.com/article/20150831/N...     E  [com, com]   \n",
       "1  [http://examiner.com/article/bernie-sanders-sl...     E       [com]   \n",
       "2  [http://thecrimson.com/article/2015/11/13/paul...     E       [com]   \n",
       "3  [http://detroitnews.com/story/news/politics/20...     E       [com]   \n",
       "\n",
       "    date_only election_day                                    split_quotation  \\\n",
       "0  2015-08-31   2020-11-01  [ a great day for veterans here in Littleton a...   \n",
       "1  2015-10-25   2018-11-01  [' It is not now, nor has it ever been, the go...   \n",
       "2  2015-11-13   2016-11-01  [[ My dad ] saw what a great opportunity it was,]   \n",
       "3  2015-06-26   2020-11-01  [hurt Michigan workers and cost thousands of A...   \n",
       "\n",
       "   avg_sentence_length                                        split_words  \\\n",
       "0            21.500000  [..., a, great, day, for, veterans, here, in, ...   \n",
       "1            24.333333  [', It, is, not, now,, nor, has, it, ever, bee...   \n",
       "2            11.000000  [[, My, dad, ], saw, what, a, great, opportuni...   \n",
       "3            10.000000  [hurt, Michigan, workers, and, cost, thousands...   \n",
       "\n",
       "   avg_word_length  \n",
       "0         4.318182  \n",
       "1         3.931507  \n",
       "2         3.363636  \n",
       "3         6.300000  "
      ]
     },
     "execution_count": 33,
     "metadata": {},
     "output_type": "execute_result"
    }
   ],
   "source": [
    "# calculate average word lenghth for each quotation\n",
    "candidate_quotes['split_words'] = candidate_quotes.quotation.map(lambda x:x.split())\n",
    "candidate_quotes['avg_word_length'] = candidate_quotes.split_words.map(lambda x:np.mean(list(map(lambda w:len(w), x))))\n",
    "candidate_quotes.head(4)"
   ]
  },
  {
   "cell_type": "markdown",
   "id": "7916137e",
   "metadata": {
    "jp-MarkdownHeadingCollapsed": true,
    "tags": []
   },
   "source": [
    "# 5. Sentiment Analysis"
   ]
  },
  {
   "cell_type": "code",
   "execution_count": null,
   "id": "011e0471",
   "metadata": {},
   "outputs": [],
   "source": [
    "# Load senate mention's data, obtain quotation's sentiment\n",
    "import bz2\n",
    "import json\n",
    "from vaderSentiment.vaderSentiment import SentimentIntensityAnalyzer\n",
    "import pickle\n",
    "analyzer = SentimentIntensityAnalyzer()\n",
    "from collections import defaultdict\n",
    "\n",
    "\n",
    "senate_candidates = list(map(lambda x:x.title(), senate_candidates))\n",
    "senate_candidates_sentiment = defaultdict(list)\n",
    "\n",
    "candidate_quotes_mention = pd.read_pickle('SenateData/candidate_quotes_mention.pkl')\n",
    "candidate_quotes_mention['quotation_score'] =  candidate_quotes_mention.apply(lambda x: analyzer.polarity_scores(x['quotation'])['compound'], axis=1)\n",
    "candidate_quotes_mention['normalize_quotation_score'] = candidate_quotes_mention['quotation_score']*candidate_quotes_mention['normalize_factor']\n",
    "for index, instance in candidate_quotes_mention.iterrows():\n",
    "    senate_candidates_sentiment[instance['mention']].append((instance['date'].date(), instance['quotation_score']))\n",
    "\n",
    "def obtain_mean_sentiment(sentiment_list, time_span=None):\n",
    "    # sentiment_list consists of (date, sentiment), we obtain mean sentiment in each timespan\n",
    "    # time span (date_lower: str, date upper: str) \n",
    "    if time_span is None:\n",
    "        return sum(map(lambda x: x[1], sentiment_list)) / len(sentiment_list)\n",
    "    date_start=pd.to_datetime(time_span[0], format='%Y-%m-%d') \n",
    "    date_end=pd.to_datetime(time_span[1], format='%Y-%m-%d')\n",
    "    filtered_sentiment_list = list(filter(lambda x: date_start <= pd.to_datetime(x[0], format='%Y-%m-%d')  < date_end, sentiment_list))\n",
    "    return sum(map(lambda x: x[1], filtered_sentiment_list)) / max(len(filtered_sentiment_list),1)"
   ]
  },
  {
   "cell_type": "code",
   "execution_count": null,
   "id": "5af876fe",
   "metadata": {},
   "outputs": [],
   "source": [
    "candidate_vote_rate_2020 = candidate_info_byname[['party_simplified', 'vote_rate']].copy()\n",
    "for name in candidate_vote_rate_2020.index:\n",
    "    state_ = candidate_info_byname.loc[name, 'state']\n",
    "    party_ = candidate_info_byname.loc[name, 'party_simplified']\n",
    "    if party_ in vote_byparty20[state_].index: \n",
    "        candidate_vote_rate_2020.loc[name, 'party_vote_rate'] = vote_byparty20[state_][party_]\n",
    "    else: \n",
    "        candidate_vote_rate_2020.loc[name, 'party_vote_rate'] = 0\n",
    "candidate_vote_rate_2016 = candidate_info_byname[['party_simplified', 'vote_rate']].copy()\n",
    "for name in candidate_vote_rate_2016.index:\n",
    "    state_ = candidate_info_byname.loc[name, 'state']\n",
    "    party_ = candidate_info_byname.loc[name, 'party_simplified']\n",
    "    if party_ in vote_byparty16[state_].index: \n",
    "        candidate_vote_rate_2016.loc[name, 'party_vote_rate'] = vote_byparty16[state_][party_]\n",
    "    else: \n",
    "        candidate_vote_rate_2016.loc[name, 'party_vote_rate'] = 0\n",
    "\n",
    "candidate_vote_rate_2020.sample(4)"
   ]
  },
  {
   "cell_type": "code",
   "execution_count": null,
   "id": "5c4316a6",
   "metadata": {},
   "outputs": [],
   "source": [
    "time_span_2016 = ('2015-01-01', '2016-12-31')\n",
    "for candidate in candidate_vote_rate_2016.index:\n",
    "  if candidate not in senate_candidates_sentiment.keys():\n",
    "    print(f'No sentiment found for {candidate}')\n",
    "    continue\n",
    "  candidate_vote_rate_2016.loc[candidate, 'sentiment_before_elect'] = obtain_mean_sentiment(senate_candidates_sentiment[candidate], time_span_2016)\n",
    "  print(f'Sentiment found for {candidate}')  "
   ]
  },
  {
   "cell_type": "code",
   "execution_count": null,
   "id": "42e25f66-a355-4657-8c8c-6a8fe345e956",
   "metadata": {},
   "outputs": [],
   "source": [
    "vote_rate_sentiment = candidate_vote_rate_2016[['vote_rate', 'sentiment_before_elect']].dropna()\n",
    "vote_rate_sentiment.plot.scatter(x='vote_rate', y='sentiment_before_elect')"
   ]
  },
  {
   "cell_type": "code",
   "execution_count": null,
   "id": "4f268772",
   "metadata": {},
   "outputs": [],
   "source": [
    "vote_rate_sentiment = vote_rate_sentiment[vote_rate_sentiment['vote_rate']>=0.2] # discard low vote rate\n",
    "vote_rate_sentiment = vote_rate_sentiment[abs(vote_rate_sentiment['sentiment_before_elect'])>=0.05]\n",
    "# since sentiment=0 means no preferences, we only consider positive or negative sentiment.\n",
    "from scipy.stats import pearsonr\n",
    "(corr1, pvalue) = pearsonr(vote_rate_sentiment['vote_rate'], vote_rate_sentiment['sentiment_before_elect'])\n",
    "print(f'Pearson coefficient: {corr1}, p value: {pvalue}')"
   ]
  }
 ],
 "metadata": {
  "interpreter": {
   "hash": "db666ba5cfc1e6b340ffb8c99ac64e84d1885a4fc4ce42ed4b6eb0071bb1085a"
  },
  "kernelspec": {
   "display_name": "ada",
   "language": "python",
   "name": "ada"
  },
  "language_info": {
   "codemirror_mode": {
    "name": "ipython",
    "version": 3
   },
   "file_extension": ".py",
   "mimetype": "text/x-python",
   "name": "python",
   "nbconvert_exporter": "python",
   "pygments_lexer": "ipython3",
   "version": "3.8.11"
  }
 },
 "nbformat": 4,
 "nbformat_minor": 5
}
