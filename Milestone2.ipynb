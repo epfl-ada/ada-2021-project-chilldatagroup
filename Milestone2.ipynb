{
 "cells": [
  {
   "cell_type": "markdown",
   "id": "d23d2ba5",
   "metadata": {},
   "source": [
    "## Quotations indicate the career success of public figures\n",
    "**ChillDataGroup: Zihan Wu, Yinhao Wang, Yihang Chen**"
   ]
  },
  {
   "cell_type": "code",
   "execution_count": 1,
   "id": "4713920f",
   "metadata": {},
   "outputs": [],
   "source": [
    "import pandas as pd\n",
    "import seaborn as sns\n",
    "import numpy as np\n",
    "import matplotlib.pyplot as plt"
   ]
  },
  {
   "cell_type": "markdown",
   "id": "35a243e4",
   "metadata": {},
   "source": [
    "## Load QuoteBank Dataset\n",
    "We refer to the pipeline provided in Google Colab to load the quotations from 2015 to 2020.\n",
    "\n",
    "Due to the large size of data, when loading them, we just load the data said by the senate election since 2015 candidates. The dataset for senate elections is obtained from MIT Election Data and Science Lab [1].\n",
    "\n",
    "We also provide the codes for loading these senate candidate quotations below, but those are run ahead in google colab (takes around 30min for each year's data). We did not re-run them here. It contains the senate election results for all candidates\n",
    "\n",
    "[1] MIT Election Data and Science Lab, 2017, \"U.S. Senate 1976–2020\", https://doi.org/10.7910/DVN/PEJ5QU, Harvard Dataverse, V5."
   ]
  },
  {
   "cell_type": "code",
   "execution_count": 2,
   "id": "01f3f51e",
   "metadata": {},
   "outputs": [],
   "source": [
    "# Pipeline obtained from the course google colab\n",
    "from tld import get_tld\n",
    "\n",
    "def get_domain(url):\n",
    "    res = get_tld(url, as_object=True)\n",
    "    return res.tld"
   ]
  },
  {
   "cell_type": "code",
   "execution_count": 3,
   "id": "a453a63e",
   "metadata": {
    "scrolled": true
   },
   "outputs": [
    {
     "data": {
      "text/html": [
       "<div>\n",
       "<style scoped>\n",
       "    .dataframe tbody tr th:only-of-type {\n",
       "        vertical-align: middle;\n",
       "    }\n",
       "\n",
       "    .dataframe tbody tr th {\n",
       "        vertical-align: top;\n",
       "    }\n",
       "\n",
       "    .dataframe thead th {\n",
       "        text-align: right;\n",
       "    }\n",
       "</style>\n",
       "<table border=\"1\" class=\"dataframe\">\n",
       "  <thead>\n",
       "    <tr style=\"text-align: right;\">\n",
       "      <th></th>\n",
       "      <th>year</th>\n",
       "      <th>state</th>\n",
       "      <th>state_po</th>\n",
       "      <th>state_fips</th>\n",
       "      <th>state_cen</th>\n",
       "      <th>state_ic</th>\n",
       "      <th>office</th>\n",
       "      <th>district</th>\n",
       "      <th>stage</th>\n",
       "      <th>special</th>\n",
       "      <th>candidate</th>\n",
       "      <th>party_detailed</th>\n",
       "      <th>writein</th>\n",
       "      <th>mode</th>\n",
       "      <th>candidatevotes</th>\n",
       "      <th>totalvotes</th>\n",
       "      <th>unofficial</th>\n",
       "      <th>version</th>\n",
       "      <th>party_simplified</th>\n",
       "    </tr>\n",
       "  </thead>\n",
       "  <tbody>\n",
       "    <tr>\n",
       "      <th>908</th>\n",
       "      <td>1990</td>\n",
       "      <td>COLORADO</td>\n",
       "      <td>CO</td>\n",
       "      <td>8</td>\n",
       "      <td>84</td>\n",
       "      <td>62</td>\n",
       "      <td>US SENATE</td>\n",
       "      <td>statewide</td>\n",
       "      <td>gen</td>\n",
       "      <td>False</td>\n",
       "      <td>JOHN HECKMAN</td>\n",
       "      <td>CONCERNS OF PEOPLE</td>\n",
       "      <td>False</td>\n",
       "      <td>total</td>\n",
       "      <td>15432</td>\n",
       "      <td>1022027</td>\n",
       "      <td>False</td>\n",
       "      <td>20210114</td>\n",
       "      <td>OTHER</td>\n",
       "    </tr>\n",
       "    <tr>\n",
       "      <th>301</th>\n",
       "      <td>1980</td>\n",
       "      <td>CONNECTICUT</td>\n",
       "      <td>CT</td>\n",
       "      <td>9</td>\n",
       "      <td>16</td>\n",
       "      <td>1</td>\n",
       "      <td>US SENATE</td>\n",
       "      <td>statewide</td>\n",
       "      <td>gen</td>\n",
       "      <td>False</td>\n",
       "      <td>GERARD G. BRENNAN</td>\n",
       "      <td>LIBERTARIAN</td>\n",
       "      <td>False</td>\n",
       "      <td>total</td>\n",
       "      <td>5336</td>\n",
       "      <td>1356075</td>\n",
       "      <td>False</td>\n",
       "      <td>20210114</td>\n",
       "      <td>LIBERTARIAN</td>\n",
       "    </tr>\n",
       "    <tr>\n",
       "      <th>855</th>\n",
       "      <td>1988</td>\n",
       "      <td>NORTH DAKOTA</td>\n",
       "      <td>ND</td>\n",
       "      <td>38</td>\n",
       "      <td>44</td>\n",
       "      <td>36</td>\n",
       "      <td>US SENATE</td>\n",
       "      <td>statewide</td>\n",
       "      <td>gen</td>\n",
       "      <td>False</td>\n",
       "      <td>KENNETH C. GARDNER</td>\n",
       "      <td>LIBERTARIAN</td>\n",
       "      <td>False</td>\n",
       "      <td>total</td>\n",
       "      <td>4334</td>\n",
       "      <td>289170</td>\n",
       "      <td>False</td>\n",
       "      <td>20210114</td>\n",
       "      <td>LIBERTARIAN</td>\n",
       "    </tr>\n",
       "    <tr>\n",
       "      <th>1992</th>\n",
       "      <td>2004</td>\n",
       "      <td>CONNECTICUT</td>\n",
       "      <td>CT</td>\n",
       "      <td>9</td>\n",
       "      <td>16</td>\n",
       "      <td>1</td>\n",
       "      <td>US SENATE</td>\n",
       "      <td>statewide</td>\n",
       "      <td>gen</td>\n",
       "      <td>False</td>\n",
       "      <td>CHRISTOPHER J. DODD</td>\n",
       "      <td>DEMOCRAT</td>\n",
       "      <td>False</td>\n",
       "      <td>total</td>\n",
       "      <td>945347</td>\n",
       "      <td>1424726</td>\n",
       "      <td>False</td>\n",
       "      <td>20210114</td>\n",
       "      <td>DEMOCRAT</td>\n",
       "    </tr>\n",
       "  </tbody>\n",
       "</table>\n",
       "</div>"
      ],
      "text/plain": [
       "      year         state state_po  state_fips  state_cen  state_ic     office  \\\n",
       "908   1990      COLORADO       CO           8         84        62  US SENATE   \n",
       "301   1980   CONNECTICUT       CT           9         16         1  US SENATE   \n",
       "855   1988  NORTH DAKOTA       ND          38         44        36  US SENATE   \n",
       "1992  2004   CONNECTICUT       CT           9         16         1  US SENATE   \n",
       "\n",
       "       district stage  special            candidate      party_detailed  \\\n",
       "908   statewide   gen    False         JOHN HECKMAN  CONCERNS OF PEOPLE   \n",
       "301   statewide   gen    False    GERARD G. BRENNAN         LIBERTARIAN   \n",
       "855   statewide   gen    False   KENNETH C. GARDNER         LIBERTARIAN   \n",
       "1992  statewide   gen    False  CHRISTOPHER J. DODD            DEMOCRAT   \n",
       "\n",
       "      writein   mode  candidatevotes  totalvotes  unofficial   version  \\\n",
       "908     False  total           15432     1022027       False  20210114   \n",
       "301     False  total            5336     1356075       False  20210114   \n",
       "855     False  total            4334      289170       False  20210114   \n",
       "1992    False  total          945347     1424726       False  20210114   \n",
       "\n",
       "     party_simplified  \n",
       "908             OTHER  \n",
       "301       LIBERTARIAN  \n",
       "855       LIBERTARIAN  \n",
       "1992         DEMOCRAT  "
      ]
     },
     "execution_count": 3,
     "metadata": {},
     "output_type": "execute_result"
    }
   ],
   "source": [
    "# Load the Senate Election Result data \n",
    "import pandas as pd\n",
    "senate_file = 'SenateData/1976-2020-senate.csv'\n",
    "senate_election = pd.read_csv(senate_file, encoding= 'unicode_escape')\n",
    "senate_election.sample(4) # demonstrate the format of election data"
   ]
  },
  {
   "cell_type": "markdown",
   "id": "e166a7cb",
   "metadata": {},
   "source": [
    "Here, we only choose the candidate running for elections since 2016, because the supported Quotebank data goes back to 2015"
   ]
  },
  {
   "cell_type": "code",
   "execution_count": 4,
   "id": "0fa9750d",
   "metadata": {},
   "outputs": [
    {
     "data": {
      "text/plain": [
       "[{'RICHARD', 'SHELBY'},\n",
       " {'JOE', 'MILLER'},\n",
       " {'GIANOUTSOS', 'TED'},\n",
       " {'METCALFE', 'RAY'},\n",
       " {'MARGARET', 'STOCK'},\n",
       " {'BRECK', 'CRAIG'},\n",
       " {'LISA', 'MURKOWSKI'},\n",
       " {'ANTHONY', 'CAMBONI'},\n",
       " {'ANN', 'KIRKPATRICK'}]"
      ]
     },
     "execution_count": 4,
     "metadata": {},
     "output_type": "execute_result"
    }
   ],
   "source": [
    "# Load the names of candidates since 2016\n",
    "# The NaN names are dropped, and repeated names are dropped\n",
    "def delete_middle_name(name): # delete middle name\n",
    "  name_split = name.upper().split()\n",
    "  if len(name_split) > 2:\n",
    "    senate_delete_middle_name = name_split[0] + ' ' + name_split[-1]\n",
    "    return senate_delete_middle_name\n",
    "  return name\n",
    "\n",
    "# To address the variation of names, we use this function to determine whether the speaker name matches the first and \n",
    "# last name of any senate candidates. In this way, we can find speakers with different name writing style like:\n",
    "# 'Senate Lindsey Graham', 'Lindsey Olin Graham', 'Lindsey O. Graham' (they all indicate the same candidate)\n",
    "\n",
    "# The function below takes in a speaker name and a list of senate names (already split into first and last name)\n",
    "# It returns a boolean whether the speaker is a senate, and the name of senate (in the form of first + last name) if true\n",
    "def isSenate(name,senate_names):\n",
    "  name_set = set(name.upper().split())\n",
    "  for i in range(len(senate_names)):\n",
    "    if senate_names[i] <= name_set:\n",
    "      return (True, i)\n",
    "  return (False, None)\n",
    "\n",
    "senate_candidates = senate_election[senate_election['year'] >= 2016].dropna(subset=['candidate', 'party_detailed'])['candidate'].unique()\n",
    "senate_candidates_splitted = list(map(lambda senate: set(delete_middle_name(senate).split()), senate_candidates))\n",
    "senate_candidates_splitted[1:10]"
   ]
  },
  {
   "cell_type": "code",
   "execution_count": 5,
   "id": "8cec8de5",
   "metadata": {},
   "outputs": [
    {
     "name": "stdout",
     "output_type": "stream",
     "text": [
      "there are total 439 names\n"
     ]
    }
   ],
   "source": [
    "#Sanity Check: all names at least have a first and last name\n",
    "for split in senate_candidates_splitted:\n",
    "    assert(len(split) > 1)\n",
    "print('there are total {} names'.format(len(senate_candidates_splitted)))"
   ]
  },
  {
   "cell_type": "markdown",
   "id": "42c252e0",
   "metadata": {},
   "source": [
    "**We do not run the cell below because takes too long.** We have run those on google colab to load the quotation data we need"
   ]
  },
  {
   "cell_type": "code",
   "execution_count": 6,
   "id": "726a21e8",
   "metadata": {},
   "outputs": [
    {
     "name": "stdout",
     "output_type": "stream",
     "text": [
      "skipping\n"
     ]
    }
   ],
   "source": [
    "%%script echo skipping\n",
    "# Load each year's data, filtering out the quotations said by senates\n",
    "# We have considered the different writing styles of name. We extract the quote as long as the speaker has the same\n",
    "# first name and last name as a senate\n",
    "import bz2\n",
    "import json\n",
    "\n",
    "path_to_file = '/content/drive/MyDrive/Quotebank/quotes-{}.json.bz2' \n",
    "path_to_out = '/content/drive/MyDrive/MyQuoteBank/quotes-{}-senates-said.json.bz2'\n",
    "\n",
    "for year in range(2015, 2021):\n",
    "  print('... Start reading quotations in year ' + str(year))\n",
    "  with bz2.open(path_to_file.format(year), 'rb') as s_file:\n",
    "      with bz2.open(path_to_out.format(year), 'wb') as d_file:\n",
    "          for instance in s_file:\n",
    "              instance = json.loads(instance) # loading a sample\n",
    "              issenate = isSenate(instance['speaker'], senate_candidates_splitted)\n",
    "              if issenate[0]:\n",
    "                instance['speaker'] = senate_candidates[issenate[1]] # use name from the \"1976-2020-senate.csv\" as the standard name.\n",
    "                urls = instance['urls'] # extracting list of links\n",
    "                domains = []\n",
    "                for url in urls:\n",
    "                    tld = get_domain(url)\n",
    "                    domains.append(tld)\n",
    "                instance['domains'] = domains # updating the sample with domain name\n",
    "                d_file.write((json.dumps(instance)+'\\n').encode('utf-8')) # writing in the new file\n",
    "\n",
    "# Load each year's data, filtering out the quotations that mention senates\n",
    "path_to_file = '/content/drive/MyDrive/Quotebank/quotes-{}.json.bz2'\n",
    "path_to_out = '/content/drive/MyDrive/ADAQuoteBank/quotes-{}-senates-mention.json.bz2'\n",
    "\n",
    "senate_candidates = list(map(lambda x:x.title(), senate_candidates))\n",
    "\n",
    "for year in range(2016,2021):\n",
    "    print('... Start processing quotations in year {}'.format(year))\n",
    "    with bz2.open(path_to_file.format(year), 'rb') as s_file:\n",
    "        with bz2.open(path_to_out.format(year), 'wb') as d_file:\n",
    "            for instance in s_file:\n",
    "                instance = json.loads(instance)\n",
    "                is_senate = isSenate(instance['quotation'], senate_candidates_splitted)\n",
    "                if is_senate[0]:\n",
    "                    instance['mention']=senate_candidates[is_senate[1]]\n",
    "                    urls = instance['urls'] # extracting list of links\n",
    "                    domains = []\n",
    "                    for url in urls:\n",
    "                        tld = get_domain(url)\n",
    "                        domains.append(tld)\n",
    "                    instance['domains'] = domains # updating the sample with domain name\n",
    "                    d_file.write((json.dumps(instance)+'\\n').encode('utf-8'))\n",
    "    print('... End processing quotations in year {}'.format(year))"
   ]
  },
  {
   "cell_type": "markdown",
   "id": "dd2896a2",
   "metadata": {},
   "source": [
    "## 1. Process Senate Candidate Data\n",
    "**1.1** In this section, we load the information of senate candidates (since 2016) and their election information."
   ]
  },
  {
   "cell_type": "code",
   "execution_count": 7,
   "id": "847a9fb6",
   "metadata": {},
   "outputs": [],
   "source": [
    "# First, we get the election information of the candidates since 2016 (again, we drop NaN and repeated names)\n",
    "candidate_info = senate_election[senate_election['year'] >= 2016].dropna(subset=['candidate', 'party_detailed']).drop_duplicates(subset=['candidate'], ignore_index=True)"
   ]
  },
  {
   "cell_type": "code",
   "execution_count": 8,
   "id": "0de063d3",
   "metadata": {},
   "outputs": [],
   "source": [
    "# Load the stored quotations said by senate candidates since 2015 (by year)\n",
    "senate_quote_20 = pd.read_json('SenateData/quotes-2020-senates-said.json.bz2', lines=True, compression='bz2')\n",
    "senate_quote_19 = pd.read_json('SenateData/quotes-2019-senates-said.json.bz2', lines=True, compression='bz2')\n",
    "senate_quote_18 = pd.read_json('SenateData/quotes-2018-senates-said.json.bz2', lines=True, compression='bz2')\n",
    "senate_quote_17 = pd.read_json('SenateData/quotes-2017-senates-said.json.bz2', lines=True, compression='bz2')\n",
    "senate_quote_16 = pd.read_json('SenateData/quotes-2016-senates-said.json.bz2', lines=True, compression='bz2')\n",
    "senate_quote_15 = pd.read_json('SenateData/quotes-2015-senates-said.json.bz2', lines=True, compression='bz2')"
   ]
  },
  {
   "cell_type": "code",
   "execution_count": 9,
   "id": "7f2c2dc1",
   "metadata": {},
   "outputs": [
    {
     "data": {
      "text/html": [
       "<div>\n",
       "<style scoped>\n",
       "    .dataframe tbody tr th:only-of-type {\n",
       "        vertical-align: middle;\n",
       "    }\n",
       "\n",
       "    .dataframe tbody tr th {\n",
       "        vertical-align: top;\n",
       "    }\n",
       "\n",
       "    .dataframe thead th {\n",
       "        text-align: right;\n",
       "    }\n",
       "</style>\n",
       "<table border=\"1\" class=\"dataframe\">\n",
       "  <thead>\n",
       "    <tr style=\"text-align: right;\">\n",
       "      <th></th>\n",
       "      <th>index</th>\n",
       "      <th>quoteID</th>\n",
       "      <th>quotation</th>\n",
       "      <th>speaker</th>\n",
       "      <th>qids</th>\n",
       "      <th>date</th>\n",
       "      <th>numOccurrences</th>\n",
       "      <th>probas</th>\n",
       "      <th>urls</th>\n",
       "      <th>phase</th>\n",
       "      <th>domains</th>\n",
       "    </tr>\n",
       "  </thead>\n",
       "  <tbody>\n",
       "    <tr>\n",
       "      <th>114032</th>\n",
       "      <td>114032</td>\n",
       "      <td>2015-02-11-030497</td>\n",
       "      <td>I haven't had a chance to review the transcrip...</td>\n",
       "      <td>MARCO RUBIO</td>\n",
       "      <td>[Q324546]</td>\n",
       "      <td>2015-02-11 11:00:03</td>\n",
       "      <td>1</td>\n",
       "      <td>[[Marco Rubio, 0.6606], [None, 0.2218], [Jerry...</td>\n",
       "      <td>[http://thehill.com/homenews/campaign/232394-c...</td>\n",
       "      <td>E</td>\n",
       "      <td>[com]</td>\n",
       "    </tr>\n",
       "    <tr>\n",
       "      <th>715797</th>\n",
       "      <td>160855</td>\n",
       "      <td>2018-09-14-041150</td>\n",
       "      <td>I reach out with my own feelings, and hope and...</td>\n",
       "      <td>MITT ROMNEY</td>\n",
       "      <td>[Q4496]</td>\n",
       "      <td>2018-09-14 17:35:00</td>\n",
       "      <td>1</td>\n",
       "      <td>[[Mitt Romney, 0.6242], [None, 0.3758]]</td>\n",
       "      <td>[https://www.deseretnews.com/article/900031908...</td>\n",
       "      <td>E</td>\n",
       "      <td>[com]</td>\n",
       "    </tr>\n",
       "    <tr>\n",
       "      <th>858951</th>\n",
       "      <td>50498</td>\n",
       "      <td>2019-11-01-119608</td>\n",
       "      <td>Women are really penalized. Whether someone is...</td>\n",
       "      <td>KIRSTEN E. GILLIBRAND</td>\n",
       "      <td>[Q22222]</td>\n",
       "      <td>2019-11-01 05:22:39</td>\n",
       "      <td>1</td>\n",
       "      <td>[[Kirsten Gillibrand, 0.518], [None, 0.482]]</td>\n",
       "      <td>[https://thehoya.com/kirsten-gillibrand/]</td>\n",
       "      <td>E</td>\n",
       "      <td>[com]</td>\n",
       "    </tr>\n",
       "    <tr>\n",
       "      <th>63606</th>\n",
       "      <td>63606</td>\n",
       "      <td>2015-04-14-000827</td>\n",
       "      <td>a leader from yesterday... promising to take u...</td>\n",
       "      <td>MARCO RUBIO</td>\n",
       "      <td>[Q324546]</td>\n",
       "      <td>2015-04-14 00:37:00</td>\n",
       "      <td>9</td>\n",
       "      <td>[[Marco Rubio, 0.4013], [None, 0.332], [Hillar...</td>\n",
       "      <td>[http://www.baltimoresun.com/news/nation-world...</td>\n",
       "      <td>E</td>\n",
       "      <td>[com, com, com, com, com, com, com, com]</td>\n",
       "    </tr>\n",
       "  </tbody>\n",
       "</table>\n",
       "</div>"
      ],
      "text/plain": [
       "         index            quoteID  \\\n",
       "114032  114032  2015-02-11-030497   \n",
       "715797  160855  2018-09-14-041150   \n",
       "858951   50498  2019-11-01-119608   \n",
       "63606    63606  2015-04-14-000827   \n",
       "\n",
       "                                                quotation  \\\n",
       "114032  I haven't had a chance to review the transcrip...   \n",
       "715797  I reach out with my own feelings, and hope and...   \n",
       "858951  Women are really penalized. Whether someone is...   \n",
       "63606   a leader from yesterday... promising to take u...   \n",
       "\n",
       "                      speaker       qids                date  numOccurrences  \\\n",
       "114032            MARCO RUBIO  [Q324546] 2015-02-11 11:00:03               1   \n",
       "715797            MITT ROMNEY    [Q4496] 2018-09-14 17:35:00               1   \n",
       "858951  KIRSTEN E. GILLIBRAND   [Q22222] 2019-11-01 05:22:39               1   \n",
       "63606             MARCO RUBIO  [Q324546] 2015-04-14 00:37:00               9   \n",
       "\n",
       "                                                   probas  \\\n",
       "114032  [[Marco Rubio, 0.6606], [None, 0.2218], [Jerry...   \n",
       "715797            [[Mitt Romney, 0.6242], [None, 0.3758]]   \n",
       "858951       [[Kirsten Gillibrand, 0.518], [None, 0.482]]   \n",
       "63606   [[Marco Rubio, 0.4013], [None, 0.332], [Hillar...   \n",
       "\n",
       "                                                     urls phase  \\\n",
       "114032  [http://thehill.com/homenews/campaign/232394-c...     E   \n",
       "715797  [https://www.deseretnews.com/article/900031908...     E   \n",
       "858951          [https://thehoya.com/kirsten-gillibrand/]     E   \n",
       "63606   [http://www.baltimoresun.com/news/nation-world...     E   \n",
       "\n",
       "                                         domains  \n",
       "114032                                     [com]  \n",
       "715797                                     [com]  \n",
       "858951                                     [com]  \n",
       "63606   [com, com, com, com, com, com, com, com]  "
      ]
     },
     "execution_count": 9,
     "metadata": {},
     "output_type": "execute_result"
    }
   ],
   "source": [
    "# Concatenate data across all years and display the format of quotation data\n",
    "annual_frames = [senate_quote_15, senate_quote_16, senate_quote_17, senate_quote_18, senate_quote_19, senate_quote_20]\n",
    "candidate_quotes = pd.concat(annual_frames).reset_index()\n",
    "candidate_quotes.sample(4)"
   ]
  },
  {
   "cell_type": "markdown",
   "id": "70dbf5bb-9830-4468-afa7-1ddd49d68bf7",
   "metadata": {},
   "source": [
    "Since QuoteBank may extract different number of total quotes at different time. An increase in quotations may just be caused by an increase of quotes extracted by Quotebanks. So, we use the total quotation number in QuoteBank to normalize our data"
   ]
  },
  {
   "cell_type": "code",
   "execution_count": 10,
   "id": "0c4df216-ad23-431e-a309-e9c01d9c3abe",
   "metadata": {},
   "outputs": [
    {
     "data": {
      "text/plain": [
       "2015-01    1661137\n",
       "2015-02    1659518\n",
       "2015-03    1867911\n",
       "2015-04    1522315\n",
       "2015-05    1136152\n",
       "            ...   \n",
       "2019-12    1565321\n",
       "2020-01    1732238\n",
       "2020-02    1599019\n",
       "2020-03    1323347\n",
       "2020-04     589845\n",
       "Length: 64, dtype: int64"
      ]
     },
     "execution_count": 10,
     "metadata": {},
     "output_type": "execute_result"
    }
   ],
   "source": [
    "# read the quote number data for each month\n",
    "\n",
    "import csv\n",
    "with open('SenateData/quote_num.csv','r') as inFile:\n",
    "    reader = csv.DictReader(inFile)\n",
    "    for row in reader:\n",
    "        quote_num = dict(row)\n",
    "quote_num = pd.Series({k:int(v) for k, v in quote_num.items()})\n",
    "quote_num"
   ]
  },
  {
   "cell_type": "code",
   "execution_count": 11,
   "id": "72f415ba-2fb9-43fa-983b-ec41f38813cd",
   "metadata": {},
   "outputs": [
    {
     "data": {
      "text/html": [
       "<div>\n",
       "<style scoped>\n",
       "    .dataframe tbody tr th:only-of-type {\n",
       "        vertical-align: middle;\n",
       "    }\n",
       "\n",
       "    .dataframe tbody tr th {\n",
       "        vertical-align: top;\n",
       "    }\n",
       "\n",
       "    .dataframe thead th {\n",
       "        text-align: right;\n",
       "    }\n",
       "</style>\n",
       "<table border=\"1\" class=\"dataframe\">\n",
       "  <thead>\n",
       "    <tr style=\"text-align: right;\">\n",
       "      <th></th>\n",
       "      <th>index</th>\n",
       "      <th>quoteID</th>\n",
       "      <th>quotation</th>\n",
       "      <th>speaker</th>\n",
       "      <th>qids</th>\n",
       "      <th>date</th>\n",
       "      <th>numOccurrences</th>\n",
       "      <th>probas</th>\n",
       "      <th>urls</th>\n",
       "      <th>phase</th>\n",
       "      <th>domains</th>\n",
       "      <th>normalize_factor</th>\n",
       "      <th>normalize_quotes</th>\n",
       "    </tr>\n",
       "  </thead>\n",
       "  <tbody>\n",
       "    <tr>\n",
       "      <th>936314</th>\n",
       "      <td>127861</td>\n",
       "      <td>2019-11-25-050946</td>\n",
       "      <td>Jodey is a friend and a strong leader for West...</td>\n",
       "      <td>TED CRUZ</td>\n",
       "      <td>[Q2036942]</td>\n",
       "      <td>2019-11-25 01:00:45</td>\n",
       "      <td>1</td>\n",
       "      <td>[[Ted Cruz, 0.7254], [None, 0.2043], [Mike Con...</td>\n",
       "      <td>[https://kfyo.com/jodey-arrington-announces-re...</td>\n",
       "      <td>E</td>\n",
       "      <td>[com]</td>\n",
       "      <td>0.542426</td>\n",
       "      <td>0.542426</td>\n",
       "    </tr>\n",
       "    <tr>\n",
       "      <th>864281</th>\n",
       "      <td>55828</td>\n",
       "      <td>2019-07-15-005671</td>\n",
       "      <td>AOC and this crowd are a bunch of communists,</td>\n",
       "      <td>LINDSEY GRAHAM</td>\n",
       "      <td>[Q22212]</td>\n",
       "      <td>2019-07-15 15:37:18</td>\n",
       "      <td>1</td>\n",
       "      <td>[[Lindsey Graham, 0.9407], [None, 0.0593]]</td>\n",
       "      <td>[https://www.theblaze.com/news/lindsay-graham-...</td>\n",
       "      <td>E</td>\n",
       "      <td>[com]</td>\n",
       "      <td>0.668486</td>\n",
       "      <td>0.668486</td>\n",
       "    </tr>\n",
       "    <tr>\n",
       "      <th>73370</th>\n",
       "      <td>73370</td>\n",
       "      <td>2015-04-10-053021</td>\n",
       "      <td>My goal is to make sure that we go after those...</td>\n",
       "      <td>LINDSEY GRAHAM</td>\n",
       "      <td>[Q22212]</td>\n",
       "      <td>2015-04-10 21:51:52</td>\n",
       "      <td>5</td>\n",
       "      <td>[[Lindsey Graham, 0.5219], [None, 0.1965], [Mi...</td>\n",
       "      <td>[http://www.washingtontimes.com/news/2015/apr/...</td>\n",
       "      <td>E</td>\n",
       "      <td>[com, com, com, com.au, com.au]</td>\n",
       "      <td>0.656894</td>\n",
       "      <td>3.284471</td>\n",
       "    </tr>\n",
       "    <tr>\n",
       "      <th>358707</th>\n",
       "      <td>44309</td>\n",
       "      <td>2017-05-17-092180</td>\n",
       "      <td>reaching the point where it's of Watergate siz...</td>\n",
       "      <td>JOHN MCCAIN</td>\n",
       "      <td>[Q10390]</td>\n",
       "      <td>2017-05-17 00:00:00</td>\n",
       "      <td>4</td>\n",
       "      <td>[[John McCain, 0.766], [None, 0.1387], [Lawren...</td>\n",
       "      <td>[http://news.sky.com/story/could-donald-trump-...</td>\n",
       "      <td>E</td>\n",
       "      <td>[com, com, com, com]</td>\n",
       "      <td>0.401338</td>\n",
       "      <td>1.605352</td>\n",
       "    </tr>\n",
       "  </tbody>\n",
       "</table>\n",
       "</div>"
      ],
      "text/plain": [
       "         index            quoteID  \\\n",
       "936314  127861  2019-11-25-050946   \n",
       "864281   55828  2019-07-15-005671   \n",
       "73370    73370  2015-04-10-053021   \n",
       "358707   44309  2017-05-17-092180   \n",
       "\n",
       "                                                quotation         speaker  \\\n",
       "936314  Jodey is a friend and a strong leader for West...        TED CRUZ   \n",
       "864281      AOC and this crowd are a bunch of communists,  LINDSEY GRAHAM   \n",
       "73370   My goal is to make sure that we go after those...  LINDSEY GRAHAM   \n",
       "358707  reaching the point where it's of Watergate siz...     JOHN MCCAIN   \n",
       "\n",
       "              qids                date  numOccurrences  \\\n",
       "936314  [Q2036942] 2019-11-25 01:00:45               1   \n",
       "864281    [Q22212] 2019-07-15 15:37:18               1   \n",
       "73370     [Q22212] 2015-04-10 21:51:52               5   \n",
       "358707    [Q10390] 2017-05-17 00:00:00               4   \n",
       "\n",
       "                                                   probas  \\\n",
       "936314  [[Ted Cruz, 0.7254], [None, 0.2043], [Mike Con...   \n",
       "864281         [[Lindsey Graham, 0.9407], [None, 0.0593]]   \n",
       "73370   [[Lindsey Graham, 0.5219], [None, 0.1965], [Mi...   \n",
       "358707  [[John McCain, 0.766], [None, 0.1387], [Lawren...   \n",
       "\n",
       "                                                     urls phase  \\\n",
       "936314  [https://kfyo.com/jodey-arrington-announces-re...     E   \n",
       "864281  [https://www.theblaze.com/news/lindsay-graham-...     E   \n",
       "73370   [http://www.washingtontimes.com/news/2015/apr/...     E   \n",
       "358707  [http://news.sky.com/story/could-donald-trump-...     E   \n",
       "\n",
       "                                domains  normalize_factor  normalize_quotes  \n",
       "936314                            [com]          0.542426          0.542426  \n",
       "864281                            [com]          0.668486          0.668486  \n",
       "73370   [com, com, com, com.au, com.au]          0.656894          3.284471  \n",
       "358707             [com, com, com, com]          0.401338          1.605352  "
      ]
     },
     "execution_count": 11,
     "metadata": {},
     "output_type": "execute_result"
    }
   ],
   "source": [
    "# we use 10^6/total_quote_num as normalize factor\n",
    "\n",
    "candidate_quotes['normalize_factor'] = candidate_quotes['date'].map(lambda x: 1/quote_num[str(x)[:7]]*1e6)\n",
    "candidate_quotes['normalize_quotes'] = candidate_quotes['numOccurrences']*candidate_quotes['normalize_factor']\n",
    "candidate_quotes.sample(4)"
   ]
  },
  {
   "cell_type": "markdown",
   "id": "2c6a88cf",
   "metadata": {},
   "source": [
    "**1.2** We group the total number of quotations by speaker and dates. By doing so, we can visualize the change of quoted numbers as time goes on. Below, we take Bernie Sanders as an example."
   ]
  },
  {
   "cell_type": "code",
   "execution_count": 12,
   "id": "10f66fd3",
   "metadata": {},
   "outputs": [
    {
     "data": {
      "text/plain": [
       "speaker           date_only \n",
       "A. WAYNE JOHNSON  2015-01-06    0.601997\n",
       "                  2015-02-09    0.602585\n",
       "                  2015-02-11    1.205169\n",
       "                  2015-02-20    0.602585\n",
       "                  2015-03-01    0.535357\n",
       "                                  ...   \n",
       "ZAK RINGELSTEIN   2018-10-30    5.125275\n",
       "                  2018-11-01    2.381878\n",
       "                  2018-11-05    0.476376\n",
       "                  2018-11-07    0.476376\n",
       "                  2019-03-21    0.503878\n",
       "Name: normalize_quotes, Length: 136070, dtype: float64"
      ]
     },
     "execution_count": 12,
     "metadata": {},
     "output_type": "execute_result"
    }
   ],
   "source": [
    "# Clean the names by taking only upper case\n",
    "# Group the candidate total number of normalized quotes by day\n",
    "candidate_quotes['speaker'] = candidate_quotes['speaker'].str.upper()\n",
    "candidate_quotes['date_only'] = candidate_quotes['date'].dt.date\n",
    "candidate_quotes_byday = candidate_quotes.groupby(['speaker', 'date_only'])['normalize_quotes'].sum()\n",
    "candidate_quotes_byday"
   ]
  },
  {
   "cell_type": "code",
   "execution_count": 13,
   "id": "66baa32f",
   "metadata": {},
   "outputs": [
    {
     "data": {
      "text/plain": [
       "Text(0.5, 1.0, 'Bernie Sanders')"
      ]
     },
     "execution_count": 13,
     "metadata": {},
     "output_type": "execute_result"
    },
    {
     "data": {
      "image/png": "[encoded data removed]",
      "text/plain": [
       "<Figure size 432x288 with 1 Axes>"
      ]
     },
     "metadata": {
      "needs_background": "light"
     },
     "output_type": "display_data"
    }
   ],
   "source": [
    "# For example, we can visualize the quotation changes of Bernie Sanders\n",
    "candidate_quotes_byday['BERNIE SANDERS'].rolling(window=30).sum().plot() # one months average\n",
    "plt.xlabel('time')\n",
    "plt.xticks(rotation=90)\n",
    "plt.ylabel('Quoted numbers: Said')\n",
    "plt.title('Bernie Sanders')"
   ]
  },
  {
   "cell_type": "markdown",
   "id": "affd7213",
   "metadata": {},
   "source": [
    "**1.3** We compute the total number of quotations until their election. The election dataset only contains the year of election. However, since the U.S. Senate elections always take place in the first week of November, we just compute the total number of quotations until November.1st of the election year."
   ]
  },
  {
   "cell_type": "code",
   "execution_count": 14,
   "id": "5394320f",
   "metadata": {},
   "outputs": [],
   "source": [
    "# Add the election day corresponding to each candidate speaker\n",
    "candidate_info_byname = candidate_info.set_index(['candidate']) # Allow access info by name as index\n",
    "candidate_quotes['election_day'] = candidate_quotes['speaker'].map(candidate_info_byname['year']).astype(str)+ '-11-01'\n",
    "candidate_quotes['election_day'] = pd.to_datetime(candidate_quotes['election_day'])"
   ]
  },
  {
   "cell_type": "code",
   "execution_count": 15,
   "id": "1c0e2c40",
   "metadata": {},
   "outputs": [],
   "source": [
    "# Add election result (i.e. vote rate) for each candidate speaker\n",
    "candidate_info_byname['vote_rate'] = candidate_info_byname['candidatevotes']/candidate_info_byname['totalvotes']"
   ]
  },
  {
   "cell_type": "code",
   "execution_count": 16,
   "id": "4ab9dd4d",
   "metadata": {},
   "outputs": [],
   "source": [
    "# We group the number of quotations by election day\n",
    "quotes_byelection = candidate_quotes[candidate_quotes['date_only'] < candidate_quotes['election_day']]\n",
    "tot_quotes_byelection = pd.DataFrame(quotes_byelection.groupby(['speaker'])['normalize_quotes'].sum())\n",
    "tot_quotes_byelection.rename(columns = {'normalize_quotes': 'total_quotes_byelection'}, inplace=True)"
   ]
  },
  {
   "cell_type": "code",
   "execution_count": 17,
   "id": "dfe01a90",
   "metadata": {},
   "outputs": [
    {
     "name": "stdout",
     "output_type": "stream",
     "text": [
      "Pearson coefficient: 0.6112235983030401, p value: 3.506776291721692e-26\n"
     ]
    },
    {
     "data": {
      "image/png": "[encoded data removed]",
      "text/plain": [
       "<Figure size 432x288 with 1 Axes>"
      ]
     },
     "metadata": {
      "needs_background": "light"
     },
     "output_type": "display_data"
    }
   ],
   "source": [
    "# We add the vote rate and plot the scatter plot of vote rate against total quotes by election\n",
    "from scipy.stats import pearsonr\n",
    "tot_quotes_byelection['vote_rate'] = tot_quotes_byelection.index.map(candidate_info_byname['vote_rate'])\n",
    "quotes_vote = tot_quotes_byelection.plot.scatter(x = 'total_quotes_byelection', y = 'vote_rate', logx=True)\n",
    "(corr1, pvalue) = pearsonr(np.log(tot_quotes_byelection['total_quotes_byelection']), tot_quotes_byelection['vote_rate'])\n",
    "print(f'Pearson coefficient: {corr1}, p value: {pvalue}')"
   ]
  },
  {
   "cell_type": "markdown",
   "id": "77202c41",
   "metadata": {},
   "source": [
    "**Observation**: Based on the plot above, we can see that there is a positive correlation between quotations and vote_rate with p value < 0.05. The more a candidate was quoted before the election, the higher the voting rate he or she got."
   ]
  },
  {
   "cell_type": "markdown",
   "id": "c5755dbd",
   "metadata": {},
   "source": [
    "**1.4** We can also apply the analysis on quotations that mention senates."
   ]
  },
  {
   "cell_type": "code",
   "execution_count": 18,
   "id": "77227984",
   "metadata": {},
   "outputs": [],
   "source": [
    "# Load the stored quotations mention senate candidates since 2015 (by year)\n",
    "senate_quote_20_mention = pd.read_json('SenateData/quotes-2020-senates-mention.json.bz2', lines=True, compression='bz2')\n",
    "senate_quote_19_mention = pd.read_json('SenateData/quotes-2019-senates-mention.json.bz2', lines=True, compression='bz2')\n",
    "senate_quote_18_mention = pd.read_json('SenateData/quotes-2018-senates-mention.json.bz2', lines=True, compression='bz2')\n",
    "senate_quote_17_mention = pd.read_json('SenateData/quotes-2017-senates-mention.json.bz2', lines=True, compression='bz2')\n",
    "senate_quote_16_mention = pd.read_json('SenateData/quotes-2016-senates-mention.json.bz2', lines=True, compression='bz2')\n",
    "senate_quote_15_mention = pd.read_json('SenateData/quotes-2015-senates-mention.json.bz2', lines=True, compression='bz2')"
   ]
  },
  {
   "cell_type": "code",
   "execution_count": 19,
   "id": "98427f70",
   "metadata": {
    "scrolled": true
   },
   "outputs": [
    {
     "data": {
      "text/html": [
       "<div>\n",
       "<style scoped>\n",
       "    .dataframe tbody tr th:only-of-type {\n",
       "        vertical-align: middle;\n",
       "    }\n",
       "\n",
       "    .dataframe tbody tr th {\n",
       "        vertical-align: top;\n",
       "    }\n",
       "\n",
       "    .dataframe thead th {\n",
       "        text-align: right;\n",
       "    }\n",
       "</style>\n",
       "<table border=\"1\" class=\"dataframe\">\n",
       "  <thead>\n",
       "    <tr style=\"text-align: right;\">\n",
       "      <th></th>\n",
       "      <th>quoteID</th>\n",
       "      <th>quotation</th>\n",
       "      <th>speaker</th>\n",
       "      <th>qids</th>\n",
       "      <th>date</th>\n",
       "      <th>numOccurrences</th>\n",
       "      <th>probas</th>\n",
       "      <th>urls</th>\n",
       "      <th>phase</th>\n",
       "      <th>mention</th>\n",
       "      <th>domains</th>\n",
       "    </tr>\n",
       "  </thead>\n",
       "  <tbody>\n",
       "    <tr>\n",
       "      <th>1670</th>\n",
       "      <td>2015-08-06-081095</td>\n",
       "      <td>Prosecutors have charged several top aides to ...</td>\n",
       "      <td>Jim Clyburn</td>\n",
       "      <td>[Q1289889]</td>\n",
       "      <td>2015-08-06 11:57:21</td>\n",
       "      <td>1</td>\n",
       "      <td>[[Jim Clyburn, 0.4641], [None, 0.3354], [RON P...</td>\n",
       "      <td>[http://www.politico.com/huddle/0815/huddle194...</td>\n",
       "      <td>E</td>\n",
       "      <td>Rand Paul</td>\n",
       "      <td>[com]</td>\n",
       "    </tr>\n",
       "    <tr>\n",
       "      <th>4403</th>\n",
       "      <td>2018-01-24-134402</td>\n",
       "      <td>Tom Young told Steven Aiello that Todd Howe wa...</td>\n",
       "      <td>None</td>\n",
       "      <td>[]</td>\n",
       "      <td>2018-01-24 06:47:17</td>\n",
       "      <td>1</td>\n",
       "      <td>[[None, 0.4932], [Tom Young, 0.2728], [Mario C...</td>\n",
       "      <td>[http://www.syracuse.com/state/index.ssf/2018/...</td>\n",
       "      <td>E</td>\n",
       "      <td>Todd C. Young</td>\n",
       "      <td>[com]</td>\n",
       "    </tr>\n",
       "    <tr>\n",
       "      <th>13798</th>\n",
       "      <td>2019-09-24-006993</td>\n",
       "      <td>Are we still that country anymore? Did John F....</td>\n",
       "      <td>Jim Acosta</td>\n",
       "      <td>[Q6193301]</td>\n",
       "      <td>2019-09-24 18:15:00</td>\n",
       "      <td>1</td>\n",
       "      <td>[[Jim Acosta, 0.8844], [None, 0.1156]]</td>\n",
       "      <td>[https://www.newsbusters.org/blogs/nb/tim-grah...</td>\n",
       "      <td>E</td>\n",
       "      <td>John Kennedy</td>\n",
       "      <td>[org]</td>\n",
       "    </tr>\n",
       "    <tr>\n",
       "      <th>10101</th>\n",
       "      <td>2015-08-15-031668</td>\n",
       "      <td>It recognizes that James Smith carried out a v...</td>\n",
       "      <td>Nathan Smith</td>\n",
       "      <td>[Q18088901, Q1966636, Q1966650, Q24005445, Q24...</td>\n",
       "      <td>2015-08-15 06:27:48</td>\n",
       "      <td>2</td>\n",
       "      <td>[[Nathan Smith, 0.5826], [None, 0.3525], [John...</td>\n",
       "      <td>[http://nwaonline.com/news/2015/aug/15/springd...</td>\n",
       "      <td>E</td>\n",
       "      <td>John James</td>\n",
       "      <td>[com, com]</td>\n",
       "    </tr>\n",
       "  </tbody>\n",
       "</table>\n",
       "</div>"
      ],
      "text/plain": [
       "                 quoteID                                          quotation  \\\n",
       "1670   2015-08-06-081095  Prosecutors have charged several top aides to ...   \n",
       "4403   2018-01-24-134402  Tom Young told Steven Aiello that Todd Howe wa...   \n",
       "13798  2019-09-24-006993  Are we still that country anymore? Did John F....   \n",
       "10101  2015-08-15-031668  It recognizes that James Smith carried out a v...   \n",
       "\n",
       "            speaker                                               qids  \\\n",
       "1670    Jim Clyburn                                         [Q1289889]   \n",
       "4403           None                                                 []   \n",
       "13798    Jim Acosta                                         [Q6193301]   \n",
       "10101  Nathan Smith  [Q18088901, Q1966636, Q1966650, Q24005445, Q24...   \n",
       "\n",
       "                     date  numOccurrences  \\\n",
       "1670  2015-08-06 11:57:21               1   \n",
       "4403  2018-01-24 06:47:17               1   \n",
       "13798 2019-09-24 18:15:00               1   \n",
       "10101 2015-08-15 06:27:48               2   \n",
       "\n",
       "                                                  probas  \\\n",
       "1670   [[Jim Clyburn, 0.4641], [None, 0.3354], [RON P...   \n",
       "4403   [[None, 0.4932], [Tom Young, 0.2728], [Mario C...   \n",
       "13798             [[Jim Acosta, 0.8844], [None, 0.1156]]   \n",
       "10101  [[Nathan Smith, 0.5826], [None, 0.3525], [John...   \n",
       "\n",
       "                                                    urls phase        mention  \\\n",
       "1670   [http://www.politico.com/huddle/0815/huddle194...     E      Rand Paul   \n",
       "4403   [http://www.syracuse.com/state/index.ssf/2018/...     E  Todd C. Young   \n",
       "13798  [https://www.newsbusters.org/blogs/nb/tim-grah...     E   John Kennedy   \n",
       "10101  [http://nwaonline.com/news/2015/aug/15/springd...     E     John James   \n",
       "\n",
       "          domains  \n",
       "1670        [com]  \n",
       "4403        [com]  \n",
       "13798       [org]  \n",
       "10101  [com, com]  "
      ]
     },
     "execution_count": 19,
     "metadata": {},
     "output_type": "execute_result"
    }
   ],
   "source": [
    "# Concatenate data across all years and display the format of quotation data\n",
    "annual_frames_mention = [senate_quote_15_mention, senate_quote_16_mention, senate_quote_17_mention, senate_quote_18_mention, senate_quote_19_mention, senate_quote_20_mention]\n",
    "candidate_quotes_mention = pd.concat(annual_frames_mention)\n",
    "candidate_quotes_mention.sample(4)"
   ]
  },
  {
   "cell_type": "code",
   "execution_count": 20,
   "id": "f80a5cf4",
   "metadata": {},
   "outputs": [
    {
     "data": {
      "text/html": [
       "<div>\n",
       "<style scoped>\n",
       "    .dataframe tbody tr th:only-of-type {\n",
       "        vertical-align: middle;\n",
       "    }\n",
       "\n",
       "    .dataframe tbody tr th {\n",
       "        vertical-align: top;\n",
       "    }\n",
       "\n",
       "    .dataframe thead th {\n",
       "        text-align: right;\n",
       "    }\n",
       "</style>\n",
       "<table border=\"1\" class=\"dataframe\">\n",
       "  <thead>\n",
       "    <tr style=\"text-align: right;\">\n",
       "      <th></th>\n",
       "      <th>quoteID</th>\n",
       "      <th>quotation</th>\n",
       "      <th>speaker</th>\n",
       "      <th>qids</th>\n",
       "      <th>date</th>\n",
       "      <th>numOccurrences</th>\n",
       "      <th>probas</th>\n",
       "      <th>urls</th>\n",
       "      <th>phase</th>\n",
       "      <th>mention</th>\n",
       "      <th>domains</th>\n",
       "      <th>date_only</th>\n",
       "      <th>normalize_factor</th>\n",
       "      <th>normalize_quotes</th>\n",
       "    </tr>\n",
       "  </thead>\n",
       "  <tbody>\n",
       "    <tr>\n",
       "      <th>6651</th>\n",
       "      <td>2018-01-18-132581</td>\n",
       "      <td>Trump has always had an identity that is disti...</td>\n",
       "      <td>None</td>\n",
       "      <td>[]</td>\n",
       "      <td>2018-01-18 11:00:13</td>\n",
       "      <td>1</td>\n",
       "      <td>[[None, 0.5583], [Michael Steel, 0.4086], [Pre...</td>\n",
       "      <td>[http://thehill.com/homenews/campaign/369474-g...</td>\n",
       "      <td>E</td>\n",
       "      <td>MARCO RUBIO</td>\n",
       "      <td>[com]</td>\n",
       "      <td>2018-01-18</td>\n",
       "      <td>0.402250</td>\n",
       "      <td>0.402250</td>\n",
       "    </tr>\n",
       "    <tr>\n",
       "      <th>7893</th>\n",
       "      <td>2017-02-16-059770</td>\n",
       "      <td>Last time I was warning Republicans that Tammy...</td>\n",
       "      <td>Scott Jensen</td>\n",
       "      <td>[Q14948804, Q28018199]</td>\n",
       "      <td>2017-02-16 20:30:00</td>\n",
       "      <td>2</td>\n",
       "      <td>[[Scott Jensen, 0.7089], [None, 0.2496], [Tamm...</td>\n",
       "      <td>[http://host.madison.com/wsj/news/local/govt-a...</td>\n",
       "      <td>E</td>\n",
       "      <td>TAMMY BALDWIN</td>\n",
       "      <td>[com, com]</td>\n",
       "      <td>2017-02-16</td>\n",
       "      <td>1.040036</td>\n",
       "      <td>2.080072</td>\n",
       "    </tr>\n",
       "    <tr>\n",
       "      <th>2199</th>\n",
       "      <td>2020-01-22-010514</td>\n",
       "      <td>Bernie Sanders Hits Joe Biden on Social Securi...</td>\n",
       "      <td>None</td>\n",
       "      <td>[]</td>\n",
       "      <td>2020-01-22 05:00:00</td>\n",
       "      <td>2</td>\n",
       "      <td>[[None, 0.7921], [Bernie Sanders, 0.1251], [Jo...</td>\n",
       "      <td>[https://www.commondreams.org/views/2020/01/22...</td>\n",
       "      <td>E</td>\n",
       "      <td>BERNIE SANDERS</td>\n",
       "      <td>[org]</td>\n",
       "      <td>2020-01-22</td>\n",
       "      <td>0.577288</td>\n",
       "      <td>1.154576</td>\n",
       "    </tr>\n",
       "    <tr>\n",
       "      <th>9259</th>\n",
       "      <td>2017-07-24-098734</td>\n",
       "      <td>Ted Cruz has a strong grass roots following in...</td>\n",
       "      <td>None</td>\n",
       "      <td>[]</td>\n",
       "      <td>2017-07-24 23:40:00</td>\n",
       "      <td>1</td>\n",
       "      <td>[[None, 0.8544], [Ted Cruz, 0.1456]]</td>\n",
       "      <td>[http://www.gwinnettdailypost.com/local/ted-cr...</td>\n",
       "      <td>E</td>\n",
       "      <td>TED CRUZ</td>\n",
       "      <td>[com]</td>\n",
       "      <td>2017-07-24</td>\n",
       "      <td>0.418827</td>\n",
       "      <td>0.418827</td>\n",
       "    </tr>\n",
       "    <tr>\n",
       "      <th>2228</th>\n",
       "      <td>2020-04-15-007015</td>\n",
       "      <td>Bernie Sanders will use his campaign's live st...</td>\n",
       "      <td>Bernie Sanders</td>\n",
       "      <td>[Q359442]</td>\n",
       "      <td>2020-04-15 00:00:00</td>\n",
       "      <td>1</td>\n",
       "      <td>[[Bernie Sanders, 0.5605], [None, 0.3491], [Jo...</td>\n",
       "      <td>[https://www.foxnews.com/politics/bleak-march-...</td>\n",
       "      <td>E</td>\n",
       "      <td>BERNIE SANDERS</td>\n",
       "      <td>[com]</td>\n",
       "      <td>2020-04-15</td>\n",
       "      <td>1.695361</td>\n",
       "      <td>1.695361</td>\n",
       "    </tr>\n",
       "  </tbody>\n",
       "</table>\n",
       "</div>"
      ],
      "text/plain": [
       "                quoteID                                          quotation  \\\n",
       "6651  2018-01-18-132581  Trump has always had an identity that is disti...   \n",
       "7893  2017-02-16-059770  Last time I was warning Republicans that Tammy...   \n",
       "2199  2020-01-22-010514  Bernie Sanders Hits Joe Biden on Social Securi...   \n",
       "9259  2017-07-24-098734  Ted Cruz has a strong grass roots following in...   \n",
       "2228  2020-04-15-007015  Bernie Sanders will use his campaign's live st...   \n",
       "\n",
       "             speaker                    qids                date  \\\n",
       "6651            None                      [] 2018-01-18 11:00:13   \n",
       "7893    Scott Jensen  [Q14948804, Q28018199] 2017-02-16 20:30:00   \n",
       "2199            None                      [] 2020-01-22 05:00:00   \n",
       "9259            None                      [] 2017-07-24 23:40:00   \n",
       "2228  Bernie Sanders               [Q359442] 2020-04-15 00:00:00   \n",
       "\n",
       "      numOccurrences                                             probas  \\\n",
       "6651               1  [[None, 0.5583], [Michael Steel, 0.4086], [Pre...   \n",
       "7893               2  [[Scott Jensen, 0.7089], [None, 0.2496], [Tamm...   \n",
       "2199               2  [[None, 0.7921], [Bernie Sanders, 0.1251], [Jo...   \n",
       "9259               1               [[None, 0.8544], [Ted Cruz, 0.1456]]   \n",
       "2228               1  [[Bernie Sanders, 0.5605], [None, 0.3491], [Jo...   \n",
       "\n",
       "                                                   urls phase         mention  \\\n",
       "6651  [http://thehill.com/homenews/campaign/369474-g...     E     MARCO RUBIO   \n",
       "7893  [http://host.madison.com/wsj/news/local/govt-a...     E   TAMMY BALDWIN   \n",
       "2199  [https://www.commondreams.org/views/2020/01/22...     E  BERNIE SANDERS   \n",
       "9259  [http://www.gwinnettdailypost.com/local/ted-cr...     E        TED CRUZ   \n",
       "2228  [https://www.foxnews.com/politics/bleak-march-...     E  BERNIE SANDERS   \n",
       "\n",
       "         domains   date_only  normalize_factor  normalize_quotes  \n",
       "6651       [com]  2018-01-18          0.402250          0.402250  \n",
       "7893  [com, com]  2017-02-16          1.040036          2.080072  \n",
       "2199       [org]  2020-01-22          0.577288          1.154576  \n",
       "9259       [com]  2017-07-24          0.418827          0.418827  \n",
       "2228       [com]  2020-04-15          1.695361          1.695361  "
      ]
     },
     "execution_count": 20,
     "metadata": {},
     "output_type": "execute_result"
    }
   ],
   "source": [
    "# format the date\n",
    "candidate_quotes_mention['date_only'] = candidate_quotes_mention['date'].dt.date\n",
    "# change the name to upper format\n",
    "candidate_quotes_mention['mention'] = candidate_quotes_mention['mention'].str.upper()\n",
    "\n",
    "# Normalize the quotes\n",
    "candidate_quotes_mention['normalize_factor'] = candidate_quotes_mention['date'].map(lambda x: 1/quote_num[str(x)[:7]]*1e6)\n",
    "candidate_quotes_mention['normalize_quotes'] = candidate_quotes_mention['numOccurrences']*candidate_quotes_mention['normalize_factor']\n",
    "candidate_quotes_mention.sample(5)"
   ]
  },
  {
   "cell_type": "code",
   "execution_count": 21,
   "id": "5de83206",
   "metadata": {},
   "outputs": [
    {
     "data": {
      "text/plain": [
       "mention           date_only \n",
       "A. WAYNE JOHNSON  2015-01-16    0.601997\n",
       "                  2015-08-04    0.473512\n",
       "                  2015-12-11    0.955093\n",
       "                  2017-02-12    2.080072\n",
       "                  2017-05-28    0.401338\n",
       "                                  ...   \n",
       "WILLIE L. WILSON  2019-03-30    0.503878\n",
       "                  2019-07-16    0.668486\n",
       "                  2019-11-04    0.542426\n",
       "ZAK RINGELSTEIN   2018-06-22    0.482000\n",
       "                  2018-10-24    0.427106\n",
       "Name: normalize_quotes, Length: 34904, dtype: float64"
      ]
     },
     "execution_count": 21,
     "metadata": {},
     "output_type": "execute_result"
    }
   ],
   "source": [
    "# obtain normalized quotations by day\n",
    "candidate_quotes_mention_byday = candidate_quotes_mention.groupby(['mention', 'date_only'])['normalize_quotes'].sum()\n",
    "candidate_quotes_mention_byday"
   ]
  },
  {
   "cell_type": "code",
   "execution_count": 22,
   "id": "09bd3ad2",
   "metadata": {},
   "outputs": [
    {
     "data": {
      "text/plain": [
       "Text(0.5, 1.0, 'Bernie Sanders')"
      ]
     },
     "execution_count": 22,
     "metadata": {},
     "output_type": "execute_result"
    },
    {
     "data": {
      "image/png": "[encoded data removed]",
      "text/plain": [
       "<Figure size 432x288 with 1 Axes>"
      ]
     },
     "metadata": {
      "needs_background": "light"
     },
     "output_type": "display_data"
    }
   ],
   "source": [
    "# For example, we can visualize the quotation changes of Bernie Sanders\n",
    "candidate_quotes_mention_byday['BERNIE SANDERS'].rolling(window=30).sum().plot() # one months average\n",
    "plt.xlabel('time')\n",
    "plt.ylabel('Quoted numbers: Mention')\n",
    "plt.title('Bernie Sanders')"
   ]
  },
  {
   "cell_type": "code",
   "execution_count": 23,
   "id": "0c4ef323",
   "metadata": {},
   "outputs": [
    {
     "data": {
      "text/html": [
       "<div>\n",
       "<style scoped>\n",
       "    .dataframe tbody tr th:only-of-type {\n",
       "        vertical-align: middle;\n",
       "    }\n",
       "\n",
       "    .dataframe tbody tr th {\n",
       "        vertical-align: top;\n",
       "    }\n",
       "\n",
       "    .dataframe thead th {\n",
       "        text-align: right;\n",
       "    }\n",
       "</style>\n",
       "<table border=\"1\" class=\"dataframe\">\n",
       "  <thead>\n",
       "    <tr style=\"text-align: right;\">\n",
       "      <th></th>\n",
       "      <th>quoteID</th>\n",
       "      <th>quotation</th>\n",
       "      <th>speaker</th>\n",
       "      <th>qids</th>\n",
       "      <th>date</th>\n",
       "      <th>numOccurrences</th>\n",
       "      <th>probas</th>\n",
       "      <th>urls</th>\n",
       "      <th>phase</th>\n",
       "      <th>mention</th>\n",
       "      <th>domains</th>\n",
       "      <th>date_only</th>\n",
       "      <th>normalize_factor</th>\n",
       "      <th>normalize_quotes</th>\n",
       "      <th>election_day</th>\n",
       "    </tr>\n",
       "  </thead>\n",
       "  <tbody>\n",
       "    <tr>\n",
       "      <th>0</th>\n",
       "      <td>2015-05-17-016225</td>\n",
       "      <td>I really like Bernie Sanders and his policies ...</td>\n",
       "      <td>None</td>\n",
       "      <td>[]</td>\n",
       "      <td>2015-05-17 07:09:22</td>\n",
       "      <td>1</td>\n",
       "      <td>[[None, 0.81], [Bernie Sanders, 0.19]]</td>\n",
       "      <td>[http://dailykos.com/story/2015/05/15/1384917/...</td>\n",
       "      <td>E</td>\n",
       "      <td>BERNIE SANDERS</td>\n",
       "      <td>[com]</td>\n",
       "      <td>2015-05-17</td>\n",
       "      <td>0.880164</td>\n",
       "      <td>0.880164</td>\n",
       "      <td>2018-11-01</td>\n",
       "    </tr>\n",
       "    <tr>\n",
       "      <th>1</th>\n",
       "      <td>2015-08-25-018582</td>\n",
       "      <td>Elizabeth Warren does have a thumb on the puls...</td>\n",
       "      <td>Bakari Sellers</td>\n",
       "      <td>[Q4849014]</td>\n",
       "      <td>2015-08-25 10:02:35</td>\n",
       "      <td>4</td>\n",
       "      <td>[[Bakari Sellers, 0.8813], [None, 0.1075], [El...</td>\n",
       "      <td>[http://www.kspr.com/news/politics/does-elizab...</td>\n",
       "      <td>E</td>\n",
       "      <td>ELIZABETH A. WARREN</td>\n",
       "      <td>[com, com, com, com]</td>\n",
       "      <td>2015-08-25</td>\n",
       "      <td>0.473512</td>\n",
       "      <td>1.894046</td>\n",
       "      <td>2018-11-01</td>\n",
       "    </tr>\n",
       "    <tr>\n",
       "      <th>2</th>\n",
       "      <td>2015-03-11-040221</td>\n",
       "      <td>I'll invoke the marital privilege on some of i...</td>\n",
       "      <td>Mike Coffman</td>\n",
       "      <td>[Q547218]</td>\n",
       "      <td>2015-03-11 17:09:31</td>\n",
       "      <td>1</td>\n",
       "      <td>[[Mike Coffman, 0.4786], [None, 0.3104], [Tom ...</td>\n",
       "      <td>[http://www.huffingtonpost.com/jason-salzman/r...</td>\n",
       "      <td>E</td>\n",
       "      <td>CORY GARDNER</td>\n",
       "      <td>[com]</td>\n",
       "      <td>2015-03-11</td>\n",
       "      <td>0.535357</td>\n",
       "      <td>0.535357</td>\n",
       "      <td>2020-11-01</td>\n",
       "    </tr>\n",
       "    <tr>\n",
       "      <th>3</th>\n",
       "      <td>2015-09-24-081451</td>\n",
       "      <td>Richard Burr truly is North Carolina's `Invisi...</td>\n",
       "      <td>None</td>\n",
       "      <td>[]</td>\n",
       "      <td>2015-09-24 02:04:45</td>\n",
       "      <td>1</td>\n",
       "      <td>[[None, 0.7571], [Richard Burr, 0.182], [Paul ...</td>\n",
       "      <td>[http://www.wcti12.com/news/Ross-leaves-job-po...</td>\n",
       "      <td>E</td>\n",
       "      <td>RICHARD BURR</td>\n",
       "      <td>[com]</td>\n",
       "      <td>2015-09-24</td>\n",
       "      <td>0.447555</td>\n",
       "      <td>0.447555</td>\n",
       "      <td>2016-11-01</td>\n",
       "    </tr>\n",
       "  </tbody>\n",
       "</table>\n",
       "</div>"
      ],
      "text/plain": [
       "             quoteID                                          quotation  \\\n",
       "0  2015-05-17-016225  I really like Bernie Sanders and his policies ...   \n",
       "1  2015-08-25-018582  Elizabeth Warren does have a thumb on the puls...   \n",
       "2  2015-03-11-040221  I'll invoke the marital privilege on some of i...   \n",
       "3  2015-09-24-081451  Richard Burr truly is North Carolina's `Invisi...   \n",
       "\n",
       "          speaker        qids                date  numOccurrences  \\\n",
       "0            None          [] 2015-05-17 07:09:22               1   \n",
       "1  Bakari Sellers  [Q4849014] 2015-08-25 10:02:35               4   \n",
       "2    Mike Coffman   [Q547218] 2015-03-11 17:09:31               1   \n",
       "3            None          [] 2015-09-24 02:04:45               1   \n",
       "\n",
       "                                              probas  \\\n",
       "0             [[None, 0.81], [Bernie Sanders, 0.19]]   \n",
       "1  [[Bakari Sellers, 0.8813], [None, 0.1075], [El...   \n",
       "2  [[Mike Coffman, 0.4786], [None, 0.3104], [Tom ...   \n",
       "3  [[None, 0.7571], [Richard Burr, 0.182], [Paul ...   \n",
       "\n",
       "                                                urls phase  \\\n",
       "0  [http://dailykos.com/story/2015/05/15/1384917/...     E   \n",
       "1  [http://www.kspr.com/news/politics/does-elizab...     E   \n",
       "2  [http://www.huffingtonpost.com/jason-salzman/r...     E   \n",
       "3  [http://www.wcti12.com/news/Ross-leaves-job-po...     E   \n",
       "\n",
       "               mention               domains   date_only  normalize_factor  \\\n",
       "0       BERNIE SANDERS                 [com]  2015-05-17          0.880164   \n",
       "1  ELIZABETH A. WARREN  [com, com, com, com]  2015-08-25          0.473512   \n",
       "2         CORY GARDNER                 [com]  2015-03-11          0.535357   \n",
       "3         RICHARD BURR                 [com]  2015-09-24          0.447555   \n",
       "\n",
       "   normalize_quotes election_day  \n",
       "0          0.880164   2018-11-01  \n",
       "1          1.894046   2018-11-01  \n",
       "2          0.535357   2020-11-01  \n",
       "3          0.447555   2016-11-01  "
      ]
     },
     "execution_count": 23,
     "metadata": {},
     "output_type": "execute_result"
    }
   ],
   "source": [
    "# Add the election day corresponding to each candidate mentioned\n",
    "candidate_info_byname = candidate_info.set_index(['candidate']) # Allow access info by name as index\n",
    "candidate_quotes_mention['mention']=candidate_quotes_mention.mention.map(lambda x:x.upper())\n",
    "candidate_quotes_mention['election_day'] = candidate_quotes_mention['mention'].map(candidate_info_byname['year']).astype(str)+ '-11-01'\n",
    "candidate_quotes_mention['election_day'] = pd.to_datetime(candidate_quotes_mention['election_day'])\n",
    "candidate_quotes_mention.head(4)"
   ]
  },
  {
   "cell_type": "code",
   "execution_count": 24,
   "id": "d1ba356c",
   "metadata": {},
   "outputs": [
    {
     "name": "stdout",
     "output_type": "stream",
     "text": [
      "Pearson coefficient: 0.5320764453359699, p value: 1.1343252830666171e-22\n"
     ]
    },
    {
     "data": {
      "image/png": "[encoded data removed]",
      "text/plain": [
       "<Figure size 432x288 with 1 Axes>"
      ]
     },
     "metadata": {
      "needs_background": "light"
     },
     "output_type": "display_data"
    }
   ],
   "source": [
    "from scipy.stats import pearsonr\n",
    "\n",
    "# Add election result (i.e. vote rate) for each candidate speaker\n",
    "candidate_info_byname['vote_rate'] = candidate_info_byname['candidatevotes']/candidate_info_byname['totalvotes']\n",
    "\n",
    "# We group the number of normalized quotations before election day\n",
    "quotes_byelection = candidate_quotes_mention[candidate_quotes_mention['date_only'] < candidate_quotes_mention['election_day']]\n",
    "tot_quotes_byelection = pd.DataFrame(quotes_byelection.groupby(['mention'])['normalize_quotes'].sum())\n",
    "tot_quotes_byelection.rename(columns = {'normalize_quotes': 'total_quotes_byelection'}, inplace=True)\n",
    "\n",
    "# We add the vote rate and plot the scatter plot of vote rate against total quotes by election\n",
    "tot_quotes_byelection['vote_rate'] = tot_quotes_byelection.index.map(candidate_info_byname['vote_rate'])\n",
    "\n",
    "# linear regression\n",
    "quotes_vote = tot_quotes_byelection.plot.scatter(x = 'total_quotes_byelection', y = 'vote_rate', logx=True)\n",
    "(corr1, pvalue) = pearsonr(np.log(tot_quotes_byelection['total_quotes_byelection']), tot_quotes_byelection['vote_rate'])\n",
    "print(f'Pearson coefficient: {corr1}, p value: {pvalue}')"
   ]
  },
  {
   "cell_type": "markdown",
   "id": "d10ca665-aab8-4eb6-a3b8-5b32ba2dc165",
   "metadata": {},
   "source": [
    "**Observation**: Based on the plot above, we can see that there is also a positive correlation between number of mentioned quotations and vote_rate with p value < 0.05."
   ]
  },
  {
   "cell_type": "markdown",
   "id": "465f405e",
   "metadata": {},
   "source": [
    "## 2. Weigh the quotations by readership\n",
    "We are aware of the different reading statistics of different media. We try to weigh the quotations by the readership of the source media."
   ]
  },
  {
   "cell_type": "markdown",
   "id": "78072790",
   "metadata": {},
   "source": [
    "**2.1** First, we sample 50k quotes and look at the source media of those quotations. This would give us a feel of how much media is covered by QuoteBank and which media appear most often. To balance the data said by candidates and the data mentioning candidates, we sample the 50k quotes according to the ratio of total data in 'candidate_quotes' and 'candidate_quotes_mention'"
   ]
  },
  {
   "cell_type": "code",
   "execution_count": 25,
   "id": "d885f7be",
   "metadata": {},
   "outputs": [
    {
     "name": "stdout",
     "output_type": "stream",
     "text": [
      "we sample 46123 quotes said by candidates and 3877 quotes mentioning candidates\n"
     ]
    }
   ],
   "source": [
    "# sample 50k quotes and see where quotes are published\n",
    "candidate_quotes_mention.reset_index(inplace=True) # Reset index of mention dataset\n",
    "sample_n = 50000\n",
    "said_n = len(candidate_quotes.index) # total number of quotes said by candidates\n",
    "mention_n = len(candidate_quotes_mention.index) # total number of quotes mentioning candidates\n",
    "mention_sample_n = int(sample_n * mention_n/(mention_n + said_n))\n",
    "said_sample_n = sample_n - mention_sample_n\n",
    "print('we sample {} quotes said by candidates and {} quotes mentioning candidates'.format(said_sample_n, mention_sample_n))"
   ]
  },
  {
   "cell_type": "code",
   "execution_count": 26,
   "id": "27cb8060",
   "metadata": {},
   "outputs": [],
   "source": [
    "# We extract the domains from two data set based on the ratio computed above\n",
    "total_domains = []\n",
    "said_sample = candidate_quotes.sample(said_sample_n) # sample from quotes said by candidates\n",
    "# We extract web domains from the url\n",
    "for i in said_sample.index:\n",
    "    urls = said_sample.at[i,'urls']\n",
    "    for url in urls: # Some URL here is actually a list (there are lists in list), not sure why it happens\n",
    "        total_domains.append(get_tld(url, as_object=True).domain)\n",
    "\n",
    "mention_sample = candidate_quotes.sample(mention_sample_n) # sample from quotes said by candidates\n",
    "# We use the same pipeline to extract domain\n",
    "for i in mention_sample.index:\n",
    "    urls = mention_sample.at[i,'urls']\n",
    "    for url in urls: # Some URL here is actually a list (there are lists in list), not sure why it happens\n",
    "        total_domains.append(get_tld(url, as_object=True).domain)"
   ]
  },
  {
   "cell_type": "markdown",
   "id": "9d14268e",
   "metadata": {},
   "source": [
    "We use the code below to find top 30 frequently appearing media in the sample. (Note: the last several media may be different from sample to sample, but overall they do not affect the result!)"
   ]
  },
  {
   "cell_type": "code",
   "execution_count": 27,
   "id": "e5460c99",
   "metadata": {},
   "outputs": [
    {
     "name": "stdout",
     "output_type": "stream",
     "text": [
      "----top 30 news agency/publisher:\n",
      "  [('krmg', 5428), ('msn', 3041), ('news965', 2791), ('wokv', 2751), ('breitbart', 2535), ('thehill', 2442), ('businessinsider', 2366), ('washingtonexaminer', 2355), ('washingtontimes', 2066), ('einnews', 2008), ('yahoo', 1999), ('cnn', 1971), ('cbsnews', 1774), ('foxnews', 1754), ('wsbradio', 1611), ('washingtonpost', 1360), ('newsmax', 1357), ('politico', 1350), ('sfgate', 1288), ('nytimes', 1287), ('patch', 1286), ('huffingtonpost', 1280), ('nbcnews', 1103), ('kdhnews', 1041), ('news12', 1026), ('startribune', 901), ('abc-7', 853), ('wftv', 814), ('rollcall', 802), ('newsweek', 778)]\n",
      "----number of news agency covered: 5065\n"
     ]
    }
   ],
   "source": [
    "# Count the frequency of media occurences in quotation dataset\n",
    "from collections import Counter\n",
    "domain_count = Counter(total_domains).most_common()\n",
    "print(\"----top 30 news agency/publisher:\\n \", domain_count[0:30])\n",
    "print('----number of news agency covered:', len(domain_count))\n"
   ]
  },
  {
   "cell_type": "markdown",
   "id": "02273b19",
   "metadata": {},
   "source": [
    "Among 50k samples, there are over 4000 different website domains, indicating a sufficiently wide coverage of media. So the quotations can be an indicator of public exposure. Besides, we observe an exponential decrease of counts in the database."
   ]
  },
  {
   "cell_type": "code",
   "execution_count": 28,
   "id": "f56d72aa",
   "metadata": {},
   "outputs": [
    {
     "data": {
      "text/plain": [
       "Text(0.5, 0, 'occurences in sampled quote data')"
      ]
     },
     "execution_count": 28,
     "metadata": {},
     "output_type": "execute_result"
    },
    {
     "data": {
      "image/png": "[encoded data removed]",
      "text/plain": [
       "<Figure size 432x288 with 1 Axes>"
      ]
     },
     "metadata": {
      "needs_background": "light"
     },
     "output_type": "display_data"
    }
   ],
   "source": [
    "# Plot the histogram characterizing the frequency of each media appearing\n",
    "_, y_counts = zip(*domain_count)\n",
    "plt.hist(y_counts, bins=20)\n",
    "plt.yscale('log')\n",
    "plt.ylabel('number of media')\n",
    "plt.xlabel('occurences in sampled quote data')"
   ]
  },
  {
   "cell_type": "markdown",
   "id": "348f4862",
   "metadata": {},
   "source": [
    "**Do Not Re run the cell below! In case sample changes**\n",
    "\n",
    "10 randomly selected news agency/publisher except the top 30:\n",
    "\n",
    "  ['bakersfield','wtkr', 'go', 'navytimes', 'advertiser-tribune', 'circleofblue', 'nbcphiladelphia', 'malaymail', 'illawarramercury', 'hawaiinewsnow']\n",
    "  \n",
    "The code to get the 10 random media is shown below, we comment it out because each time it selects 10 different media, which may confuse the viewer of this notebook."
   ]
  },
  {
   "cell_type": "code",
   "execution_count": 29,
   "id": "b473f8d5",
   "metadata": {},
   "outputs": [
    {
     "name": "stdout",
     "output_type": "stream",
     "text": [
      "skipping\n"
     ]
    }
   ],
   "source": [
    "%%script echo skipping\n",
    "#media_ind = np.random.randint(31, len(domain_count), size=10)\n",
    "#print(\"10 randomly selected news agency/publisher except the top 30:\\n \", [domain_count[i] for i in media_ind])"
   ]
  },
  {
   "cell_type": "markdown",
   "id": "182839a2",
   "metadata": {},
   "source": [
    "The distribution is heavy-tailed, with only a few big media like CNN and Fox News occurring frequently. Most media occurs no more than 1.5% among all quotations. So, we think it is sufficient to just weigh the quotations extracted from those frequently occurring media. Moreover, it is very difficult to automatically find media's reading statistics (or other indicators of popularity) just based on the url major domain name. We could not think of a way to do so. Neither could we find an open dataset helping us. Therefore, we decide to manually look up the readership of those top 30 new agencies. For the rest media, we will sample 10 media from them and manually look up the reading statistics. We will take the average readership of those 10 media to represent the readership of the rest media. This will take up some time, so we plan to finish those manual work in the following weeks (see proposed timeline). As a result, we do not include any exposure level (quotation weighted by media readership) in Milestone 2. Instead, we just use the number of quotations (assuming all media offer the same public exposure)."
   ]
  },
  {
   "cell_type": "markdown",
   "id": "2b201045",
   "metadata": {},
   "source": [
    "**2.2** We manually search the total website visits of top 30 news agencies of the 10 randomly selected agencies among the rest. We could not find the data of some websites, so we use the median of others to fill it."
   ]
  },
  {
   "cell_type": "code",
   "execution_count": 30,
   "id": "3ae3c340",
   "metadata": {},
   "outputs": [
    {
     "data": {
      "text/html": [
       "<div>\n",
       "<style scoped>\n",
       "    .dataframe tbody tr th:only-of-type {\n",
       "        vertical-align: middle;\n",
       "    }\n",
       "\n",
       "    .dataframe tbody tr th {\n",
       "        vertical-align: top;\n",
       "    }\n",
       "\n",
       "    .dataframe thead th {\n",
       "        text-align: right;\n",
       "    }\n",
       "</style>\n",
       "<table border=\"1\" class=\"dataframe\">\n",
       "  <thead>\n",
       "    <tr style=\"text-align: right;\">\n",
       "      <th></th>\n",
       "      <th>webdomain</th>\n",
       "      <th>agency</th>\n",
       "      <th>total_view_in_US</th>\n",
       "      <th>audience</th>\n",
       "      <th>source</th>\n",
       "    </tr>\n",
       "  </thead>\n",
       "  <tbody>\n",
       "    <tr>\n",
       "      <th>0</th>\n",
       "      <td>KRMG</td>\n",
       "      <td>KRMG</td>\n",
       "      <td>0.11</td>\n",
       "      <td>0.033</td>\n",
       "      <td>https://webrate.org/site/krmg.com/</td>\n",
       "    </tr>\n",
       "    <tr>\n",
       "      <th>1</th>\n",
       "      <td>news965</td>\n",
       "      <td>WBDO</td>\n",
       "      <td>21.68</td>\n",
       "      <td>NaN</td>\n",
       "      <td>default</td>\n",
       "    </tr>\n",
       "    <tr>\n",
       "      <th>2</th>\n",
       "      <td>wokv</td>\n",
       "      <td>WOKV</td>\n",
       "      <td>0.09</td>\n",
       "      <td>0.046</td>\n",
       "      <td>https://webrate.org/site/wokv.com/</td>\n",
       "    </tr>\n",
       "    <tr>\n",
       "      <th>3</th>\n",
       "      <td>msn</td>\n",
       "      <td>MSN</td>\n",
       "      <td>323.98</td>\n",
       "      <td>194.400</td>\n",
       "      <td>default</td>\n",
       "    </tr>\n",
       "    <tr>\n",
       "      <th>4</th>\n",
       "      <td>breitbart</td>\n",
       "      <td>Breitbart</td>\n",
       "      <td>42.19</td>\n",
       "      <td>40.730</td>\n",
       "      <td>default</td>\n",
       "    </tr>\n",
       "  </tbody>\n",
       "</table>\n",
       "</div>"
      ],
      "text/plain": [
       "   webdomain     agency  total_view_in_US  audience  \\\n",
       "0       KRMG       KRMG              0.11     0.033   \n",
       "1    news965       WBDO             21.68       NaN   \n",
       "2       wokv       WOKV              0.09     0.046   \n",
       "3        msn        MSN            323.98   194.400   \n",
       "4  breitbart  Breitbart             42.19    40.730   \n",
       "\n",
       "                               source  \n",
       "0  https://webrate.org/site/krmg.com/  \n",
       "1                             default  \n",
       "2  https://webrate.org/site/wokv.com/  \n",
       "3                             default  \n",
       "4                             default  "
      ]
     },
     "execution_count": 30,
     "metadata": {},
     "output_type": "execute_result"
    }
   ],
   "source": [
    "weight_file = 'SenateData/WebsiteVisit.csv'\n",
    "weight_df = pd.read_csv(weight_file)\n",
    "# Fill the NaN value by median (which avoid effect from outliers)\n",
    "weight_df.loc[:, ['total_view_in_US']] = weight_df[['total_view_in_US']].fillna(weight_df[['total_view_in_US']].median())\n",
    "weight_df.head(5) # demonstrate the format website view data for weight\n"
   ]
  },
  {
   "cell_type": "code",
   "execution_count": 31,
   "id": "d4c3453a",
   "metadata": {},
   "outputs": [
    {
     "name": "stdout",
     "output_type": "stream",
     "text": [
      "The median value of total views of the 10 agencies is 0.675\n"
     ]
    }
   ],
   "source": [
    "# Get the views for the 10 randomly selected agencies\n",
    "random_file = 'SenateData/RandomVisit.csv'\n",
    "random_df = pd.read_csv(random_file)\n",
    "# We take the median of total_US_view of the 10 agencies, as view for other agencies\n",
    "random_view = random_df['total_view_in_US'].median()\n",
    "print('The median value of total views of the 10 agencies is {}'.format(random_view))"
   ]
  },
  {
   "cell_type": "markdown",
   "id": "d6c7eb73",
   "metadata": {},
   "source": [
    "Then, we add those weights to the 'candidate_quotes' and 'candidate_quotes_mention'"
   ]
  },
  {
   "cell_type": "code",
   "execution_count": 32,
   "id": "5b63449c",
   "metadata": {},
   "outputs": [
    {
     "name": "stdout",
     "output_type": "stream",
     "text": [
      "For quotes said by candidates, we found 1044245 numbers of quotation occurrences from top 30\n"
     ]
    }
   ],
   "source": [
    "# assign weights to quotes said by candidates\n",
    "weight_dict = dict(zip(weight_df['webdomain'], weight_df['total_view_in_US']))\n",
    "n_hit = 0\n",
    "for i in candidate_quotes.index:\n",
    "    urls = candidate_quotes.at[i,'urls']\n",
    "    weight_ = 0\n",
    "    for url in urls: # Some URL here is actually a list (there are lists in list), not sure why it happens\n",
    "        webdomain = get_tld(url, as_object=True).domain # when it is a list, the multiply urls point to the same website\n",
    "        if webdomain in weight_dict.keys():\n",
    "            weight_ = weight_ + weight_dict[webdomain]\n",
    "            n_hit = n_hit + 1\n",
    "        else:\n",
    "            weight_ = weight_ + random_view\n",
    "    candidate_quotes.at[i,'views'] = weight_ \n",
    "print('For quotes said by candidates, we found {} numbers of quotation occurrences from top 30'.format(n_hit))"
   ]
  },
  {
   "cell_type": "code",
   "execution_count": 33,
   "id": "16027420",
   "metadata": {},
   "outputs": [
    {
     "data": {
      "text/html": [
       "<div>\n",
       "<style scoped>\n",
       "    .dataframe tbody tr th:only-of-type {\n",
       "        vertical-align: middle;\n",
       "    }\n",
       "\n",
       "    .dataframe tbody tr th {\n",
       "        vertical-align: top;\n",
       "    }\n",
       "\n",
       "    .dataframe thead th {\n",
       "        text-align: right;\n",
       "    }\n",
       "</style>\n",
       "<table border=\"1\" class=\"dataframe\">\n",
       "  <thead>\n",
       "    <tr style=\"text-align: right;\">\n",
       "      <th></th>\n",
       "      <th>index</th>\n",
       "      <th>quoteID</th>\n",
       "      <th>quotation</th>\n",
       "      <th>speaker</th>\n",
       "      <th>qids</th>\n",
       "      <th>date</th>\n",
       "      <th>numOccurrences</th>\n",
       "      <th>probas</th>\n",
       "      <th>urls</th>\n",
       "      <th>phase</th>\n",
       "      <th>domains</th>\n",
       "      <th>normalize_factor</th>\n",
       "      <th>normalize_quotes</th>\n",
       "      <th>date_only</th>\n",
       "      <th>election_day</th>\n",
       "      <th>views</th>\n",
       "      <th>normalize_views</th>\n",
       "    </tr>\n",
       "  </thead>\n",
       "  <tbody>\n",
       "    <tr>\n",
       "      <th>419143</th>\n",
       "      <td>104745</td>\n",
       "      <td>2017-07-24-079526</td>\n",
       "      <td>Nancy Pelosi desperately wants another vote fo...</td>\n",
       "      <td>MARK KELLY</td>\n",
       "      <td>[Q10326587, Q11770303, Q22261100, Q28709861, Q...</td>\n",
       "      <td>2017-07-24 05:39:00</td>\n",
       "      <td>8</td>\n",
       "      <td>[[Mark Kelly, 0.8318], [None, 0.1362], [Dave B...</td>\n",
       "      <td>[https://www.washingtonpost.com/local/virginia...</td>\n",
       "      <td>E</td>\n",
       "      <td>[com, com, com, com, com, com, com, com]</td>\n",
       "      <td>0.418827</td>\n",
       "      <td>3.350618</td>\n",
       "      <td>2017-07-24</td>\n",
       "      <td>2020-11-01</td>\n",
       "      <td>124.785</td>\n",
       "      <td>52.263364</td>\n",
       "    </tr>\n",
       "    <tr>\n",
       "      <th>1023432</th>\n",
       "      <td>214979</td>\n",
       "      <td>2019-03-12-080762</td>\n",
       "      <td>The world has now witnessed the second tragic ...</td>\n",
       "      <td>ELIZABETH A. WARREN</td>\n",
       "      <td>[Q434706]</td>\n",
       "      <td>2019-03-12 22:59:30</td>\n",
       "      <td>1</td>\n",
       "      <td>[[Elizabeth Warren, 0.8789], [None, 0.1007], [...</td>\n",
       "      <td>[https://www.washingtonexaminer.com/news/boein...</td>\n",
       "      <td>E</td>\n",
       "      <td>[com]</td>\n",
       "      <td>0.503878</td>\n",
       "      <td>0.503878</td>\n",
       "      <td>2019-03-12</td>\n",
       "      <td>2018-11-01</td>\n",
       "      <td>13.320</td>\n",
       "      <td>6.711656</td>\n",
       "    </tr>\n",
       "    <tr>\n",
       "      <th>114543</th>\n",
       "      <td>114543</td>\n",
       "      <td>2015-04-08-078815</td>\n",
       "      <td>The way they do things now, because they opera...</td>\n",
       "      <td>JOHN HOEVEN</td>\n",
       "      <td>[Q374762]</td>\n",
       "      <td>2015-04-08 22:31:23</td>\n",
       "      <td>3</td>\n",
       "      <td>[[John Hoeven, 0.961], [None, 0.0391]]</td>\n",
       "      <td>[http://www.grandforksherald.com/news/local/37...</td>\n",
       "      <td>E</td>\n",
       "      <td>[com, com, com]</td>\n",
       "      <td>0.656894</td>\n",
       "      <td>1.970683</td>\n",
       "      <td>2015-04-08</td>\n",
       "      <td>2016-11-01</td>\n",
       "      <td>2.025</td>\n",
       "      <td>1.330211</td>\n",
       "    </tr>\n",
       "    <tr>\n",
       "      <th>1004355</th>\n",
       "      <td>195902</td>\n",
       "      <td>2019-01-25-071200</td>\n",
       "      <td>on the wealth of the richest Americans.</td>\n",
       "      <td>ELIZABETH A. WARREN</td>\n",
       "      <td>[Q434706]</td>\n",
       "      <td>2019-01-25 22:02:06</td>\n",
       "      <td>1</td>\n",
       "      <td>[[Elizabeth Warren, 0.5235], [None, 0.4765]]</td>\n",
       "      <td>[http://thestreet.com/politics/what-is-a-wealt...</td>\n",
       "      <td>E</td>\n",
       "      <td>[com]</td>\n",
       "      <td>0.520217</td>\n",
       "      <td>0.520217</td>\n",
       "      <td>2019-01-25</td>\n",
       "      <td>2018-11-01</td>\n",
       "      <td>0.675</td>\n",
       "      <td>0.351147</td>\n",
       "    </tr>\n",
       "    <tr>\n",
       "      <th>581367</th>\n",
       "      <td>26425</td>\n",
       "      <td>2018-02-13-075926</td>\n",
       "      <td>I've actually had several real action figures ...</td>\n",
       "      <td>DOUG JONES</td>\n",
       "      <td>[Q1251779, Q16142774, Q30122825, Q461309, Q530...</td>\n",
       "      <td>2018-02-13 01:56:07</td>\n",
       "      <td>4</td>\n",
       "      <td>[[Doug Jones, 0.667], [Guillermo del Toro, 0.2...</td>\n",
       "      <td>[http://www.lmtonline.com/entertainment/the-wr...</td>\n",
       "      <td>E</td>\n",
       "      <td>[com, com, com, com]</td>\n",
       "      <td>0.401482</td>\n",
       "      <td>1.605927</td>\n",
       "      <td>2018-02-13</td>\n",
       "      <td>2020-11-01</td>\n",
       "      <td>87.055</td>\n",
       "      <td>34.950997</td>\n",
       "    </tr>\n",
       "  </tbody>\n",
       "</table>\n",
       "</div>"
      ],
      "text/plain": [
       "          index            quoteID  \\\n",
       "419143   104745  2017-07-24-079526   \n",
       "1023432  214979  2019-03-12-080762   \n",
       "114543   114543  2015-04-08-078815   \n",
       "1004355  195902  2019-01-25-071200   \n",
       "581367    26425  2018-02-13-075926   \n",
       "\n",
       "                                                 quotation  \\\n",
       "419143   Nancy Pelosi desperately wants another vote fo...   \n",
       "1023432  The world has now witnessed the second tragic ...   \n",
       "114543   The way they do things now, because they opera...   \n",
       "1004355            on the wealth of the richest Americans.   \n",
       "581367   I've actually had several real action figures ...   \n",
       "\n",
       "                     speaker  \\\n",
       "419143            MARK KELLY   \n",
       "1023432  ELIZABETH A. WARREN   \n",
       "114543           JOHN HOEVEN   \n",
       "1004355  ELIZABETH A. WARREN   \n",
       "581367            DOUG JONES   \n",
       "\n",
       "                                                      qids  \\\n",
       "419143   [Q10326587, Q11770303, Q22261100, Q28709861, Q...   \n",
       "1023432                                          [Q434706]   \n",
       "114543                                           [Q374762]   \n",
       "1004355                                          [Q434706]   \n",
       "581367   [Q1251779, Q16142774, Q30122825, Q461309, Q530...   \n",
       "\n",
       "                       date  numOccurrences  \\\n",
       "419143  2017-07-24 05:39:00               8   \n",
       "1023432 2019-03-12 22:59:30               1   \n",
       "114543  2015-04-08 22:31:23               3   \n",
       "1004355 2019-01-25 22:02:06               1   \n",
       "581367  2018-02-13 01:56:07               4   \n",
       "\n",
       "                                                    probas  \\\n",
       "419143   [[Mark Kelly, 0.8318], [None, 0.1362], [Dave B...   \n",
       "1023432  [[Elizabeth Warren, 0.8789], [None, 0.1007], [...   \n",
       "114543              [[John Hoeven, 0.961], [None, 0.0391]]   \n",
       "1004355       [[Elizabeth Warren, 0.5235], [None, 0.4765]]   \n",
       "581367   [[Doug Jones, 0.667], [Guillermo del Toro, 0.2...   \n",
       "\n",
       "                                                      urls phase  \\\n",
       "419143   [https://www.washingtonpost.com/local/virginia...     E   \n",
       "1023432  [https://www.washingtonexaminer.com/news/boein...     E   \n",
       "114543   [http://www.grandforksherald.com/news/local/37...     E   \n",
       "1004355  [http://thestreet.com/politics/what-is-a-wealt...     E   \n",
       "581367   [http://www.lmtonline.com/entertainment/the-wr...     E   \n",
       "\n",
       "                                          domains  normalize_factor  \\\n",
       "419143   [com, com, com, com, com, com, com, com]          0.418827   \n",
       "1023432                                     [com]          0.503878   \n",
       "114543                            [com, com, com]          0.656894   \n",
       "1004355                                     [com]          0.520217   \n",
       "581367                       [com, com, com, com]          0.401482   \n",
       "\n",
       "         normalize_quotes   date_only election_day    views  normalize_views  \n",
       "419143           3.350618  2017-07-24   2020-11-01  124.785        52.263364  \n",
       "1023432          0.503878  2019-03-12   2018-11-01   13.320         6.711656  \n",
       "114543           1.970683  2015-04-08   2016-11-01    2.025         1.330211  \n",
       "1004355          0.520217  2019-01-25   2018-11-01    0.675         0.351147  \n",
       "581367           1.605927  2018-02-13   2020-11-01   87.055        34.950997  "
      ]
     },
     "execution_count": 33,
     "metadata": {},
     "output_type": "execute_result"
    }
   ],
   "source": [
    "# Multiply views by normalization factors\n",
    "candidate_quotes['normalize_views'] = candidate_quotes['views']*candidate_quotes['normalize_factor']\n",
    "candidate_quotes.sample(5)"
   ]
  },
  {
   "cell_type": "code",
   "execution_count": 34,
   "id": "c40427e3",
   "metadata": {},
   "outputs": [
    {
     "name": "stdout",
     "output_type": "stream",
     "text": [
      "For quotes mentioning candidates, we found 64689 numbers of quotation occurrences from top 30\n"
     ]
    }
   ],
   "source": [
    "# assign weights to quotes mentioning candidates\n",
    "n_hit = 0\n",
    "for i in candidate_quotes_mention.index:\n",
    "    urls = candidate_quotes_mention.at[i,'urls']\n",
    "    weight_ = 0\n",
    "    for url in urls: # Some URL here is actually a list (there are lists in list), not sure why it happens\n",
    "        webdomain = get_tld(url, as_object=True).domain # when it is a list, the multiply urls point to the same website\n",
    "        if webdomain in weight_dict.keys():\n",
    "            weight_ = weight_ + weight_dict[webdomain]\n",
    "            n_hit = n_hit + 1\n",
    "        else:\n",
    "            weight_ = weight_ + random_view\n",
    "    candidate_quotes_mention.at[i,'views'] = weight_ \n",
    "print('For quotes mentioning candidates, we found {} numbers of quotation occurrences from top 30'.format(n_hit))"
   ]
  },
  {
   "cell_type": "code",
   "execution_count": 35,
   "id": "157f9716",
   "metadata": {},
   "outputs": [
    {
     "data": {
      "text/html": [
       "<div>\n",
       "<style scoped>\n",
       "    .dataframe tbody tr th:only-of-type {\n",
       "        vertical-align: middle;\n",
       "    }\n",
       "\n",
       "    .dataframe tbody tr th {\n",
       "        vertical-align: top;\n",
       "    }\n",
       "\n",
       "    .dataframe thead th {\n",
       "        text-align: right;\n",
       "    }\n",
       "</style>\n",
       "<table border=\"1\" class=\"dataframe\">\n",
       "  <thead>\n",
       "    <tr style=\"text-align: right;\">\n",
       "      <th></th>\n",
       "      <th>index</th>\n",
       "      <th>quoteID</th>\n",
       "      <th>quotation</th>\n",
       "      <th>speaker</th>\n",
       "      <th>qids</th>\n",
       "      <th>date</th>\n",
       "      <th>numOccurrences</th>\n",
       "      <th>probas</th>\n",
       "      <th>urls</th>\n",
       "      <th>phase</th>\n",
       "      <th>mention</th>\n",
       "      <th>domains</th>\n",
       "      <th>date_only</th>\n",
       "      <th>normalize_factor</th>\n",
       "      <th>normalize_quotes</th>\n",
       "      <th>election_day</th>\n",
       "      <th>views</th>\n",
       "      <th>normalize_views</th>\n",
       "    </tr>\n",
       "  </thead>\n",
       "  <tbody>\n",
       "    <tr>\n",
       "      <th>43193</th>\n",
       "      <td>10883</td>\n",
       "      <td>2017-06-20-086160</td>\n",
       "      <td>Several Senate Republicans are criticizing the...</td>\n",
       "      <td>Peter Sullivan</td>\n",
       "      <td>[Q6382168, Q7177180, Q7177181, Q7177182]</td>\n",
       "      <td>2017-06-20 20:50:02</td>\n",
       "      <td>1</td>\n",
       "      <td>[[Peter Sullivan, 0.9047], [None, 0.0953]]</td>\n",
       "      <td>[https://www.vox.com/policy-and-politics/2017/...</td>\n",
       "      <td>E</td>\n",
       "      <td>LISA MURKOWSKI</td>\n",
       "      <td>[com]</td>\n",
       "      <td>2017-06-20</td>\n",
       "      <td>0.411438</td>\n",
       "      <td>0.411438</td>\n",
       "      <td>2016-11-01</td>\n",
       "      <td>0.675</td>\n",
       "      <td>0.277720</td>\n",
       "    </tr>\n",
       "    <tr>\n",
       "      <th>72331</th>\n",
       "      <td>2890</td>\n",
       "      <td>2019-07-19-008697</td>\n",
       "      <td>can't imagine a better use of our time, resour...</td>\n",
       "      <td>None</td>\n",
       "      <td>[]</td>\n",
       "      <td>2019-07-19 04:53:00</td>\n",
       "      <td>3</td>\n",
       "      <td>[[None, 0.7063], [Elizabeth Warren, 0.2937]]</td>\n",
       "      <td>[http://frontpagemag.com/fpm/274318/how-silico...</td>\n",
       "      <td>E</td>\n",
       "      <td>ELIZABETH A. WARREN</td>\n",
       "      <td>[com, com, com]</td>\n",
       "      <td>2019-07-19</td>\n",
       "      <td>0.668486</td>\n",
       "      <td>2.005458</td>\n",
       "      <td>2018-11-01</td>\n",
       "      <td>2.025</td>\n",
       "      <td>1.353684</td>\n",
       "    </tr>\n",
       "    <tr>\n",
       "      <th>63511</th>\n",
       "      <td>15507</td>\n",
       "      <td>2018-04-06-006765</td>\n",
       "      <td>And Robert Kennedy in that last shot that you ...</td>\n",
       "      <td>Robert Dion</td>\n",
       "      <td>[Q55722581, Q56000436]</td>\n",
       "      <td>2018-04-06 03:37:16</td>\n",
       "      <td>1</td>\n",
       "      <td>[[Robert Dion, 0.4572], [None, 0.4265], [Bobby...</td>\n",
       "      <td>[http://www.tristatehomepage.com/news/local-ne...</td>\n",
       "      <td>E</td>\n",
       "      <td>JOHN KENNEDY</td>\n",
       "      <td>[com]</td>\n",
       "      <td>2018-04-06</td>\n",
       "      <td>0.386958</td>\n",
       "      <td>0.386958</td>\n",
       "      <td>2016-11-01</td>\n",
       "      <td>0.675</td>\n",
       "      <td>0.261196</td>\n",
       "    </tr>\n",
       "    <tr>\n",
       "      <th>65645</th>\n",
       "      <td>17641</td>\n",
       "      <td>2018-10-04-143541</td>\n",
       "      <td>With all these attack ads, all Bill Nelson wan...</td>\n",
       "      <td>Gov. Rick Scott</td>\n",
       "      <td>[Q439729]</td>\n",
       "      <td>2018-10-04 12:43:59</td>\n",
       "      <td>2</td>\n",
       "      <td>[[Gov. Rick Scott, 0.7871], [None, 0.213]]</td>\n",
       "      <td>[http://floridapolitics.com/archives/276586-sl...</td>\n",
       "      <td>E</td>\n",
       "      <td>BILL NELSON</td>\n",
       "      <td>[com, com]</td>\n",
       "      <td>2018-10-04</td>\n",
       "      <td>0.427106</td>\n",
       "      <td>0.854212</td>\n",
       "      <td>2018-11-01</td>\n",
       "      <td>1.350</td>\n",
       "      <td>0.576593</td>\n",
       "    </tr>\n",
       "    <tr>\n",
       "      <th>65180</th>\n",
       "      <td>17176</td>\n",
       "      <td>2018-01-19-111779</td>\n",
       "      <td>The story of Tom Jones ties in with accepting ...</td>\n",
       "      <td>None</td>\n",
       "      <td>[]</td>\n",
       "      <td>2018-01-19 21:39:07</td>\n",
       "      <td>1</td>\n",
       "      <td>[[None, 0.9035], [Tom Jones, 0.0965]]</td>\n",
       "      <td>[http://themontclarion.org/step-by-step-montcl...</td>\n",
       "      <td>E</td>\n",
       "      <td>TOM JONES</td>\n",
       "      <td>[org]</td>\n",
       "      <td>2018-01-19</td>\n",
       "      <td>0.402250</td>\n",
       "      <td>0.402250</td>\n",
       "      <td>2016-11-01</td>\n",
       "      <td>0.675</td>\n",
       "      <td>0.271519</td>\n",
       "    </tr>\n",
       "  </tbody>\n",
       "</table>\n",
       "</div>"
      ],
      "text/plain": [
       "       index            quoteID  \\\n",
       "43193  10883  2017-06-20-086160   \n",
       "72331   2890  2019-07-19-008697   \n",
       "63511  15507  2018-04-06-006765   \n",
       "65645  17641  2018-10-04-143541   \n",
       "65180  17176  2018-01-19-111779   \n",
       "\n",
       "                                               quotation          speaker  \\\n",
       "43193  Several Senate Republicans are criticizing the...   Peter Sullivan   \n",
       "72331  can't imagine a better use of our time, resour...             None   \n",
       "63511  And Robert Kennedy in that last shot that you ...      Robert Dion   \n",
       "65645  With all these attack ads, all Bill Nelson wan...  Gov. Rick Scott   \n",
       "65180  The story of Tom Jones ties in with accepting ...             None   \n",
       "\n",
       "                                           qids                date  \\\n",
       "43193  [Q6382168, Q7177180, Q7177181, Q7177182] 2017-06-20 20:50:02   \n",
       "72331                                        [] 2019-07-19 04:53:00   \n",
       "63511                    [Q55722581, Q56000436] 2018-04-06 03:37:16   \n",
       "65645                                 [Q439729] 2018-10-04 12:43:59   \n",
       "65180                                        [] 2018-01-19 21:39:07   \n",
       "\n",
       "       numOccurrences                                             probas  \\\n",
       "43193               1         [[Peter Sullivan, 0.9047], [None, 0.0953]]   \n",
       "72331               3       [[None, 0.7063], [Elizabeth Warren, 0.2937]]   \n",
       "63511               1  [[Robert Dion, 0.4572], [None, 0.4265], [Bobby...   \n",
       "65645               2         [[Gov. Rick Scott, 0.7871], [None, 0.213]]   \n",
       "65180               1              [[None, 0.9035], [Tom Jones, 0.0965]]   \n",
       "\n",
       "                                                    urls phase  \\\n",
       "43193  [https://www.vox.com/policy-and-politics/2017/...     E   \n",
       "72331  [http://frontpagemag.com/fpm/274318/how-silico...     E   \n",
       "63511  [http://www.tristatehomepage.com/news/local-ne...     E   \n",
       "65645  [http://floridapolitics.com/archives/276586-sl...     E   \n",
       "65180  [http://themontclarion.org/step-by-step-montcl...     E   \n",
       "\n",
       "                   mention          domains   date_only  normalize_factor  \\\n",
       "43193       LISA MURKOWSKI            [com]  2017-06-20          0.411438   \n",
       "72331  ELIZABETH A. WARREN  [com, com, com]  2019-07-19          0.668486   \n",
       "63511         JOHN KENNEDY            [com]  2018-04-06          0.386958   \n",
       "65645          BILL NELSON       [com, com]  2018-10-04          0.427106   \n",
       "65180            TOM JONES            [org]  2018-01-19          0.402250   \n",
       "\n",
       "       normalize_quotes election_day  views  normalize_views  \n",
       "43193          0.411438   2016-11-01  0.675         0.277720  \n",
       "72331          2.005458   2018-11-01  2.025         1.353684  \n",
       "63511          0.386958   2016-11-01  0.675         0.261196  \n",
       "65645          0.854212   2018-11-01  1.350         0.576593  \n",
       "65180          0.402250   2016-11-01  0.675         0.271519  "
      ]
     },
     "execution_count": 35,
     "metadata": {},
     "output_type": "execute_result"
    }
   ],
   "source": [
    "# Multiply views by normalization factors\n",
    "candidate_quotes_mention['normalize_views'] = candidate_quotes_mention['views']*candidate_quotes_mention['normalize_factor']\n",
    "candidate_quotes_mention.sample(5)"
   ]
  },
  {
   "cell_type": "markdown",
   "id": "b51e738a",
   "metadata": {},
   "source": [
    "**2.3** We repeat the protocol in section **1.2-1.3** to examine the effect of weighted quotations by candidates on their election results "
   ]
  },
  {
   "cell_type": "code",
   "execution_count": 36,
   "id": "56a35498",
   "metadata": {},
   "outputs": [
    {
     "data": {
      "text/plain": [
       "speaker           date_only \n",
       "A. WAYNE JOHNSON  2015-01-06    0.406348\n",
       "                  2015-02-09    0.406745\n",
       "                  2015-02-11    0.813489\n",
       "                  2015-02-20    0.406745\n",
       "                  2015-03-01    0.361366\n",
       "                                  ...   \n",
       "ZAK RINGELSTEIN   2018-10-30    3.459560\n",
       "                  2018-11-01    1.607768\n",
       "                  2018-11-05    0.321554\n",
       "                  2018-11-07    0.321554\n",
       "                  2019-03-21    0.340118\n",
       "Name: normalize_views, Length: 136070, dtype: float64"
      ]
     },
     "execution_count": 36,
     "metadata": {},
     "output_type": "execute_result"
    }
   ],
   "source": [
    "# Clean the names by taking only upper case\n",
    "# Group the candidate total number of quotes by day\n",
    "candidate_quotes['speaker'] = candidate_quotes['speaker'].str.upper()\n",
    "candidate_quotes['date_only'] = candidate_quotes['date'].dt.date\n",
    "candidate_views_byday = candidate_quotes.groupby(['speaker', 'date_only'])['normalize_views'].sum()\n",
    "candidate_views_byday"
   ]
  },
  {
   "cell_type": "code",
   "execution_count": 37,
   "id": "2c48ef66",
   "metadata": {
    "scrolled": true
   },
   "outputs": [
    {
     "data": {
      "text/plain": [
       "Text(0.5, 1.0, 'Bernie Sanders')"
      ]
     },
     "execution_count": 37,
     "metadata": {},
     "output_type": "execute_result"
    },
    {
     "data": {
      "image/png": "[encoded data removed]",
      "text/plain": [
       "<Figure size 432x288 with 1 Axes>"
      ]
     },
     "metadata": {
      "needs_background": "light"
     },
     "output_type": "display_data"
    }
   ],
   "source": [
    "# For example, we can visualize the quotation changes of Bernie Sanders\n",
    "candidate_quotes_byday['BERNIE SANDERS'].rolling(window=30).sum().plot() # one months average\n",
    "plt.xlabel('time')\n",
    "plt.xticks(rotation=90)\n",
    "plt.ylabel('Weight Quotes: Said')\n",
    "plt.title('Bernie Sanders')"
   ]
  },
  {
   "cell_type": "code",
   "execution_count": 38,
   "id": "bddc3da3",
   "metadata": {},
   "outputs": [],
   "source": [
    "# We group weighted quotations (audience views) by election day\n",
    "quotes_byelection = candidate_quotes[candidate_quotes['date_only'] < candidate_quotes['election_day']]\n",
    "views_byelection = pd.DataFrame(quotes_byelection.groupby(['speaker'])['normalize_views'].sum())\n",
    "views_byelection.rename(columns = {'normalize_views': 'views_byelection'}, inplace=True)"
   ]
  },
  {
   "cell_type": "code",
   "execution_count": 39,
   "id": "6dd92364",
   "metadata": {},
   "outputs": [
    {
     "name": "stdout",
     "output_type": "stream",
     "text": [
      "Pearson coefficient: 0.6230464918664673, p value: 2.0338894729023706e-27\n"
     ]
    },
    {
     "data": {
      "image/png": "[encoded data removed]",
      "text/plain": [
       "<Figure size 432x288 with 1 Axes>"
      ]
     },
     "metadata": {
      "needs_background": "light"
     },
     "output_type": "display_data"
    }
   ],
   "source": [
    "# We add the vote rate and plot the scatter plot of vote rate against total quotes by election\n",
    "from scipy.stats import pearsonr\n",
    "views_byelection['vote_rate'] = views_byelection.index.map(candidate_info_byname['vote_rate'])\n",
    "views_vote = views_byelection.plot.scatter(x = 'views_byelection', y = 'vote_rate', logx=True)\n",
    "(corr1, pvalue) = pearsonr(np.log(views_byelection['views_byelection']), views_byelection['vote_rate'])\n",
    "print(f'Pearson coefficient: {corr1}, p value: {pvalue}')"
   ]
  },
  {
   "cell_type": "markdown",
   "id": "d9ec06fe",
   "metadata": {},
   "source": [
    "\n",
    "We notice very little change in the Pearson coefficient and p-value when comparing the result to section **1.3** (where we did not weigh the quotes by website views). "
   ]
  },
  {
   "cell_type": "markdown",
   "id": "97b34976",
   "metadata": {},
   "source": [
    "**2.4** We repeat the protocol in section **1.4** to examine the effect of weighted quotations mentioning candidates on their election results"
   ]
  },
  {
   "cell_type": "code",
   "execution_count": 40,
   "id": "5f05e086",
   "metadata": {},
   "outputs": [
    {
     "data": {
      "text/plain": [
       "mention           date_only \n",
       "A. WAYNE JOHNSON  2015-01-16      0.406348\n",
       "                  2015-08-04    153.408265\n",
       "                  2015-12-11      0.644688\n",
       "                  2017-02-12      1.404049\n",
       "                  2017-05-28      0.270903\n",
       "                                   ...    \n",
       "WILLIE L. WILSON  2019-03-30      0.340118\n",
       "                  2019-07-16     28.203418\n",
       "                  2019-11-04     11.759805\n",
       "ZAK RINGELSTEIN   2018-06-22      0.325350\n",
       "                  2018-10-24      0.288297\n",
       "Name: normalize_views, Length: 34904, dtype: float64"
      ]
     },
     "execution_count": 40,
     "metadata": {},
     "output_type": "execute_result"
    }
   ],
   "source": [
    "# obtain normalized views by day\n",
    "candidate_quotes_mention_byday = candidate_quotes_mention.groupby(['mention', 'date_only'])['normalize_views'].sum()\n",
    "candidate_quotes_mention_byday"
   ]
  },
  {
   "cell_type": "code",
   "execution_count": 41,
   "id": "6d00d21d",
   "metadata": {},
   "outputs": [
    {
     "data": {
      "text/plain": [
       "Text(0.5, 1.0, 'Bernie Sanders')"
      ]
     },
     "execution_count": 41,
     "metadata": {},
     "output_type": "execute_result"
    },
    {
     "data": {
      "image/png": "[encoded data removed]",
      "text/plain": [
       "<Figure size 432x288 with 1 Axes>"
      ]
     },
     "metadata": {
      "needs_background": "light"
     },
     "output_type": "display_data"
    }
   ],
   "source": [
    "# For example, we can visualize the normalized view changes of Bernie Sanders\n",
    "candidate_quotes_mention_byday['BERNIE SANDERS'].rolling(window=30).sum().plot() # one months average\n",
    "plt.xlabel('time')\n",
    "plt.ylabel('Quoted numbers: Mention')\n",
    "plt.title('Bernie Sanders')"
   ]
  },
  {
   "cell_type": "code",
   "execution_count": 42,
   "id": "ad1f1e0e",
   "metadata": {},
   "outputs": [
    {
     "name": "stdout",
     "output_type": "stream",
     "text": [
      "Pearson coefficient: 0.5930863043667436, p value: 4.9198504923098316e-29\n"
     ]
    },
    {
     "data": {
      "image/png": "[encoded data removed]",
      "text/plain": [
       "<Figure size 432x288 with 1 Axes>"
      ]
     },
     "metadata": {
      "needs_background": "light"
     },
     "output_type": "display_data"
    }
   ],
   "source": [
    "from scipy.stats import pearsonr\n",
    "\n",
    "# We group the number of normalized views before election day\n",
    "quotes_byelection = candidate_quotes_mention[candidate_quotes_mention['date_only'] < candidate_quotes_mention['election_day']]\n",
    "tot_quotes_byelection = pd.DataFrame(quotes_byelection.groupby(['mention'])['normalize_views'].sum())\n",
    "tot_quotes_byelection.rename(columns = {'normalize_views': 'total_views_byelection'}, inplace=True)\n",
    "\n",
    "# We add the vote rate and plot the scatter plot of vote rate against total quotes by election\n",
    "tot_quotes_byelection['vote_rate'] = tot_quotes_byelection.index.map(candidate_info_byname['vote_rate'])\n",
    "\n",
    "# linear regression\n",
    "quotes_vote = tot_quotes_byelection.plot.scatter(x = 'total_views_byelection', y = 'vote_rate', logx=True)\n",
    "(corr1, pvalue) = pearsonr(np.log(tot_quotes_byelection['total_views_byelection']), tot_quotes_byelection['vote_rate'])\n",
    "print(f'Pearson coefficient: {corr1}, p value: {pvalue}')"
   ]
  },
  {
   "cell_type": "markdown",
   "id": "b82a3c76",
   "metadata": {},
   "source": [
    "Again, we notice very little change in the Pearson coefficient and p-value when comparing the result to section **1.4** (where we did not weigh the quotes by website views). "
   ]
  },
  {
   "cell_type": "markdown",
   "id": "3427df77",
   "metadata": {},
   "source": [
    "# 3. Clustering the quotation data\n",
    "To answer our proposed question 3, we clustered the quotation data to find different exposure-gaining process."
   ]
  },
  {
   "cell_type": "markdown",
   "id": "9bab413f",
   "metadata": {},
   "source": [
    "We will extract feature for each senate candidate."
   ]
  },
  {
   "cell_type": "code",
   "execution_count": 43,
   "id": "1a055bfc",
   "metadata": {},
   "outputs": [
    {
     "data": {
      "text/html": [
       "<div>\n",
       "<style scoped>\n",
       "    .dataframe tbody tr th:only-of-type {\n",
       "        vertical-align: middle;\n",
       "    }\n",
       "\n",
       "    .dataframe tbody tr th {\n",
       "        vertical-align: top;\n",
       "    }\n",
       "\n",
       "    .dataframe thead th {\n",
       "        text-align: right;\n",
       "    }\n",
       "</style>\n",
       "<table border=\"1\" class=\"dataframe\">\n",
       "  <thead>\n",
       "    <tr style=\"text-align: right;\">\n",
       "      <th></th>\n",
       "      <th>index</th>\n",
       "      <th>quoteID</th>\n",
       "      <th>quotation</th>\n",
       "      <th>speaker</th>\n",
       "      <th>qids</th>\n",
       "      <th>date</th>\n",
       "      <th>numOccurrences</th>\n",
       "      <th>probas</th>\n",
       "      <th>urls</th>\n",
       "      <th>phase</th>\n",
       "      <th>domains</th>\n",
       "      <th>normalize_factor</th>\n",
       "      <th>normalize_quotes</th>\n",
       "      <th>date_only</th>\n",
       "      <th>election_day</th>\n",
       "      <th>views</th>\n",
       "      <th>normalize_views</th>\n",
       "      <th>days_before_election</th>\n",
       "    </tr>\n",
       "  </thead>\n",
       "  <tbody>\n",
       "    <tr>\n",
       "      <th>34399</th>\n",
       "      <td>34399</td>\n",
       "      <td>2015-05-22-070632</td>\n",
       "      <td>we may not get to vote on amendments, and we m...</td>\n",
       "      <td>RAND PAUL</td>\n",
       "      <td>[Q463557]</td>\n",
       "      <td>2015-05-22 22:21:27</td>\n",
       "      <td>1</td>\n",
       "      <td>[[Rand Paul, 0.8422], [None, 0.1578]]</td>\n",
       "      <td>[http://nymag.com/daily/intelligencer/2015/05/...</td>\n",
       "      <td>E</td>\n",
       "      <td>[com]</td>\n",
       "      <td>0.880164</td>\n",
       "      <td>0.880164</td>\n",
       "      <td>2015-05-22</td>\n",
       "      <td>2016-11-01</td>\n",
       "      <td>0.675</td>\n",
       "      <td>0.594111</td>\n",
       "      <td>529</td>\n",
       "    </tr>\n",
       "    <tr>\n",
       "      <th>296702</th>\n",
       "      <td>105118</td>\n",
       "      <td>2016-09-17-064379</td>\n",
       "      <td>To vote for a third party candidate is like a ...</td>\n",
       "      <td>GARY PETERS</td>\n",
       "      <td>[Q1230954, Q1494930, Q5525742, Q56560036]</td>\n",
       "      <td>2016-09-17 06:45:13</td>\n",
       "      <td>1</td>\n",
       "      <td>[[Gary Peters, 0.6603], [None, 0.3338], [Hilla...</td>\n",
       "      <td>[http://michigandaily.com/section/election/us-...</td>\n",
       "      <td>E</td>\n",
       "      <td>[com]</td>\n",
       "      <td>0.395064</td>\n",
       "      <td>0.395064</td>\n",
       "      <td>2016-09-17</td>\n",
       "      <td>2020-11-01</td>\n",
       "      <td>0.675</td>\n",
       "      <td>0.266668</td>\n",
       "      <td>1506</td>\n",
       "    </tr>\n",
       "    <tr>\n",
       "      <th>1034164</th>\n",
       "      <td>225711</td>\n",
       "      <td>2019-07-11-097944</td>\n",
       "      <td>We should put American workers first by ensuri...</td>\n",
       "      <td>ELIZABETH A. WARREN</td>\n",
       "      <td>[Q434706]</td>\n",
       "      <td>2019-07-11 16:02:54</td>\n",
       "      <td>3</td>\n",
       "      <td>[[Elizabeth Warren, 0.6271], [None, 0.3684], [...</td>\n",
       "      <td>[http://hypervocal.com/items/2794552, http://t...</td>\n",
       "      <td>E</td>\n",
       "      <td>[com, com, com]</td>\n",
       "      <td>0.668486</td>\n",
       "      <td>2.005458</td>\n",
       "      <td>2019-07-11</td>\n",
       "      <td>2018-11-01</td>\n",
       "      <td>84.935</td>\n",
       "      <td>56.777845</td>\n",
       "      <td>-252</td>\n",
       "    </tr>\n",
       "    <tr>\n",
       "      <th>794674</th>\n",
       "      <td>239732</td>\n",
       "      <td>2018-08-27-028482</td>\n",
       "      <td>His moral courage, his perseverance and his ab...</td>\n",
       "      <td>STEVE BULLOCK</td>\n",
       "      <td>[Q24015, Q7612088, Q7612089]</td>\n",
       "      <td>2018-08-27 18:56:21</td>\n",
       "      <td>4</td>\n",
       "      <td>[[Steve Bullock, 0.8918], [None, 0.072], [John...</td>\n",
       "      <td>[http://krtv.com/story/38970268/mt-political-f...</td>\n",
       "      <td>E</td>\n",
       "      <td>[com, com, com, com]</td>\n",
       "      <td>0.497688</td>\n",
       "      <td>1.990751</td>\n",
       "      <td>2018-08-27</td>\n",
       "      <td>2020-11-01</td>\n",
       "      <td>2.700</td>\n",
       "      <td>1.343757</td>\n",
       "      <td>797</td>\n",
       "    </tr>\n",
       "  </tbody>\n",
       "</table>\n",
       "</div>"
      ],
      "text/plain": [
       "          index            quoteID  \\\n",
       "34399     34399  2015-05-22-070632   \n",
       "296702   105118  2016-09-17-064379   \n",
       "1034164  225711  2019-07-11-097944   \n",
       "794674   239732  2018-08-27-028482   \n",
       "\n",
       "                                                 quotation  \\\n",
       "34399    we may not get to vote on amendments, and we m...   \n",
       "296702   To vote for a third party candidate is like a ...   \n",
       "1034164  We should put American workers first by ensuri...   \n",
       "794674   His moral courage, his perseverance and his ab...   \n",
       "\n",
       "                     speaker                                       qids  \\\n",
       "34399              RAND PAUL                                  [Q463557]   \n",
       "296702           GARY PETERS  [Q1230954, Q1494930, Q5525742, Q56560036]   \n",
       "1034164  ELIZABETH A. WARREN                                  [Q434706]   \n",
       "794674         STEVE BULLOCK               [Q24015, Q7612088, Q7612089]   \n",
       "\n",
       "                       date  numOccurrences  \\\n",
       "34399   2015-05-22 22:21:27               1   \n",
       "296702  2016-09-17 06:45:13               1   \n",
       "1034164 2019-07-11 16:02:54               3   \n",
       "794674  2018-08-27 18:56:21               4   \n",
       "\n",
       "                                                    probas  \\\n",
       "34399                [[Rand Paul, 0.8422], [None, 0.1578]]   \n",
       "296702   [[Gary Peters, 0.6603], [None, 0.3338], [Hilla...   \n",
       "1034164  [[Elizabeth Warren, 0.6271], [None, 0.3684], [...   \n",
       "794674   [[Steve Bullock, 0.8918], [None, 0.072], [John...   \n",
       "\n",
       "                                                      urls phase  \\\n",
       "34399    [http://nymag.com/daily/intelligencer/2015/05/...     E   \n",
       "296702   [http://michigandaily.com/section/election/us-...     E   \n",
       "1034164  [http://hypervocal.com/items/2794552, http://t...     E   \n",
       "794674   [http://krtv.com/story/38970268/mt-political-f...     E   \n",
       "\n",
       "                      domains  normalize_factor  normalize_quotes   date_only  \\\n",
       "34399                   [com]          0.880164          0.880164  2015-05-22   \n",
       "296702                  [com]          0.395064          0.395064  2016-09-17   \n",
       "1034164       [com, com, com]          0.668486          2.005458  2019-07-11   \n",
       "794674   [com, com, com, com]          0.497688          1.990751  2018-08-27   \n",
       "\n",
       "        election_day   views  normalize_views  days_before_election  \n",
       "34399     2016-11-01   0.675         0.594111                   529  \n",
       "296702    2020-11-01   0.675         0.266668                  1506  \n",
       "1034164   2018-11-01  84.935        56.777845                  -252  \n",
       "794674    2020-11-01   2.700         1.343757                   797  "
      ]
     },
     "execution_count": 43,
     "metadata": {},
     "output_type": "execute_result"
    }
   ],
   "source": [
    "candidate_quotes['days_before_election'] = pd.to_datetime(candidate_quotes['election_day'])- pd.to_datetime(candidate_quotes['date_only'])\n",
    "candidate_quotes['days_before_election'] = candidate_quotes['days_before_election'].map(lambda x:x.days)\n",
    "candidate_quotes.sample(4)"
   ]
  },
  {
   "cell_type": "code",
   "execution_count": 44,
   "id": "51db1155",
   "metadata": {},
   "outputs": [
    {
     "data": {
      "text/html": [
       "<div>\n",
       "<style scoped>\n",
       "    .dataframe tbody tr th:only-of-type {\n",
       "        vertical-align: middle;\n",
       "    }\n",
       "\n",
       "    .dataframe tbody tr th {\n",
       "        vertical-align: top;\n",
       "    }\n",
       "\n",
       "    .dataframe thead th {\n",
       "        text-align: right;\n",
       "    }\n",
       "</style>\n",
       "<table border=\"1\" class=\"dataframe\">\n",
       "  <thead>\n",
       "    <tr style=\"text-align: right;\">\n",
       "      <th></th>\n",
       "      <th>index</th>\n",
       "      <th>quoteID</th>\n",
       "      <th>quotation</th>\n",
       "      <th>speaker</th>\n",
       "      <th>qids</th>\n",
       "      <th>date</th>\n",
       "      <th>numOccurrences</th>\n",
       "      <th>probas</th>\n",
       "      <th>urls</th>\n",
       "      <th>phase</th>\n",
       "      <th>domains</th>\n",
       "      <th>normalize_factor</th>\n",
       "      <th>normalize_quotes</th>\n",
       "      <th>date_only</th>\n",
       "      <th>election_day</th>\n",
       "      <th>views</th>\n",
       "      <th>normalize_views</th>\n",
       "      <th>days_before_election</th>\n",
       "    </tr>\n",
       "  </thead>\n",
       "  <tbody>\n",
       "    <tr>\n",
       "      <th>238458</th>\n",
       "      <td>46874</td>\n",
       "      <td>2016-02-22-002948</td>\n",
       "      <td>About 70 percent of Republicans around the cou...</td>\n",
       "      <td>MARCO RUBIO</td>\n",
       "      <td>[Q324546]</td>\n",
       "      <td>2016-02-22 03:04:34</td>\n",
       "      <td>1</td>\n",
       "      <td>[[Marco Rubio, 0.4397], [None, 0.4381], [Donal...</td>\n",
       "      <td>[http://www.necn.com/news/politics/Candidates-...</td>\n",
       "      <td>E</td>\n",
       "      <td>[com]</td>\n",
       "      <td>0.959534</td>\n",
       "      <td>0.959534</td>\n",
       "      <td>2016-02-22</td>\n",
       "      <td>2016-11-01</td>\n",
       "      <td>0.675</td>\n",
       "      <td>0.647685</td>\n",
       "      <td>253</td>\n",
       "    </tr>\n",
       "    <tr>\n",
       "      <th>1081777</th>\n",
       "      <td>44547</td>\n",
       "      <td>2020-03-26-019798</td>\n",
       "      <td>I am all for making peoples salaries whole. Ho...</td>\n",
       "      <td>LINDSEY GRAHAM</td>\n",
       "      <td>[Q22212]</td>\n",
       "      <td>2020-03-26 16:31:08</td>\n",
       "      <td>1</td>\n",
       "      <td>[[Lindsey Graham, 0.77], [None, 0.23]]</td>\n",
       "      <td>[https://dailycaller.com/2020/03/26/whoopi-gol...</td>\n",
       "      <td>E</td>\n",
       "      <td>[com]</td>\n",
       "      <td>0.755660</td>\n",
       "      <td>0.755660</td>\n",
       "      <td>2020-03-26</td>\n",
       "      <td>2020-11-01</td>\n",
       "      <td>0.675</td>\n",
       "      <td>0.510070</td>\n",
       "      <td>220</td>\n",
       "    </tr>\n",
       "    <tr>\n",
       "      <th>778053</th>\n",
       "      <td>223111</td>\n",
       "      <td>2018-10-27-009061</td>\n",
       "      <td>Devastating news this morning. Our hearts brea...</td>\n",
       "      <td>SHERROD BROWN</td>\n",
       "      <td>[Q381880]</td>\n",
       "      <td>2018-10-27 18:47:33</td>\n",
       "      <td>3</td>\n",
       "      <td>[[Sherrod Brown, 0.8585], [None, 0.0717], [Mar...</td>\n",
       "      <td>[http://www.newsnet5.com/news/local-news/cleve...</td>\n",
       "      <td>E</td>\n",
       "      <td>[com, com, com]</td>\n",
       "      <td>0.427106</td>\n",
       "      <td>1.281319</td>\n",
       "      <td>2018-10-27</td>\n",
       "      <td>2018-11-01</td>\n",
       "      <td>2.025</td>\n",
       "      <td>0.864890</td>\n",
       "      <td>5</td>\n",
       "    </tr>\n",
       "    <tr>\n",
       "      <th>594090</th>\n",
       "      <td>39148</td>\n",
       "      <td>2018-03-14-183808</td>\n",
       "      <td>You're more likely to be killed by @ timkaine ...</td>\n",
       "      <td>COREY A. STEWART</td>\n",
       "      <td>[Q5170448, Q5170449]</td>\n",
       "      <td>2018-03-14 16:46:14</td>\n",
       "      <td>2</td>\n",
       "      <td>[[Corey Stewart, 0.5848], [None, 0.3583], [Jas...</td>\n",
       "      <td>[http://www.c-ville.com/in-brief-8/, https://t...</td>\n",
       "      <td>E</td>\n",
       "      <td>[com, org]</td>\n",
       "      <td>0.358144</td>\n",
       "      <td>0.716289</td>\n",
       "      <td>2018-03-14</td>\n",
       "      <td>2018-11-01</td>\n",
       "      <td>1.350</td>\n",
       "      <td>0.483495</td>\n",
       "      <td>232</td>\n",
       "    </tr>\n",
       "  </tbody>\n",
       "</table>\n",
       "</div>"
      ],
      "text/plain": [
       "          index            quoteID  \\\n",
       "238458    46874  2016-02-22-002948   \n",
       "1081777   44547  2020-03-26-019798   \n",
       "778053   223111  2018-10-27-009061   \n",
       "594090    39148  2018-03-14-183808   \n",
       "\n",
       "                                                 quotation           speaker  \\\n",
       "238458   About 70 percent of Republicans around the cou...       MARCO RUBIO   \n",
       "1081777  I am all for making peoples salaries whole. Ho...    LINDSEY GRAHAM   \n",
       "778053   Devastating news this morning. Our hearts brea...     SHERROD BROWN   \n",
       "594090   You're more likely to be killed by @ timkaine ...  COREY A. STEWART   \n",
       "\n",
       "                         qids                date  numOccurrences  \\\n",
       "238458              [Q324546] 2016-02-22 03:04:34               1   \n",
       "1081777              [Q22212] 2020-03-26 16:31:08               1   \n",
       "778053              [Q381880] 2018-10-27 18:47:33               3   \n",
       "594090   [Q5170448, Q5170449] 2018-03-14 16:46:14               2   \n",
       "\n",
       "                                                    probas  \\\n",
       "238458   [[Marco Rubio, 0.4397], [None, 0.4381], [Donal...   \n",
       "1081777             [[Lindsey Graham, 0.77], [None, 0.23]]   \n",
       "778053   [[Sherrod Brown, 0.8585], [None, 0.0717], [Mar...   \n",
       "594090   [[Corey Stewart, 0.5848], [None, 0.3583], [Jas...   \n",
       "\n",
       "                                                      urls phase  \\\n",
       "238458   [http://www.necn.com/news/politics/Candidates-...     E   \n",
       "1081777  [https://dailycaller.com/2020/03/26/whoopi-gol...     E   \n",
       "778053   [http://www.newsnet5.com/news/local-news/cleve...     E   \n",
       "594090   [http://www.c-ville.com/in-brief-8/, https://t...     E   \n",
       "\n",
       "                 domains  normalize_factor  normalize_quotes   date_only  \\\n",
       "238458             [com]          0.959534          0.959534  2016-02-22   \n",
       "1081777            [com]          0.755660          0.755660  2020-03-26   \n",
       "778053   [com, com, com]          0.427106          1.281319  2018-10-27   \n",
       "594090        [com, org]          0.358144          0.716289  2018-03-14   \n",
       "\n",
       "        election_day  views  normalize_views  days_before_election  \n",
       "238458    2016-11-01  0.675         0.647685                   253  \n",
       "1081777   2020-11-01  0.675         0.510070                   220  \n",
       "778053    2018-11-01  2.025         0.864890                     5  \n",
       "594090    2018-11-01  1.350         0.483495                   232  "
      ]
     },
     "execution_count": 44,
     "metadata": {},
     "output_type": "execute_result"
    }
   ],
   "source": [
    "feature_length = 300  # we use data of 100 days before the election\n",
    "quotes_timespan = candidate_quotes[candidate_quotes['days_before_election']>=0]\n",
    "quotes_timespan = quotes_timespan[quotes_timespan['days_before_election']<feature_length]\n",
    "quotes_timespan.sample(4)"
   ]
  },
  {
   "cell_type": "code",
   "execution_count": 45,
   "id": "7fde6478",
   "metadata": {},
   "outputs": [
    {
     "data": {
      "text/plain": [
       "speaker           days_before_election\n",
       "A. WAYNE JOHNSON  225                      0.510070\n",
       "                  234                      2.040281\n",
       "                  241                     11.395348\n",
       "                  251                     99.717389\n",
       "                  261                      2.532803\n",
       "                                            ...    \n",
       "ZAK RINGELSTEIN   141                      1.626749\n",
       "                  147                      0.650700\n",
       "                  160                      0.815621\n",
       "                  227                      1.933979\n",
       "                  235                      0.241747\n",
       "Name: normalize_views, Length: 19165, dtype: float64"
      ]
     },
     "execution_count": 45,
     "metadata": {},
     "output_type": "execute_result"
    }
   ],
   "source": [
    "# group the quotations by speaker\n",
    "quotes_timespan_byday = quotes_timespan.groupby(['speaker', 'days_before_election'])['normalize_views'].sum()\n",
    "quotes_timespan_byday"
   ]
  },
  {
   "cell_type": "code",
   "execution_count": 46,
   "id": "d3a8aaaf",
   "metadata": {},
   "outputs": [
    {
     "data": {
      "text/html": [
       "<div>\n",
       "<style scoped>\n",
       "    .dataframe tbody tr th:only-of-type {\n",
       "        vertical-align: middle;\n",
       "    }\n",
       "\n",
       "    .dataframe tbody tr th {\n",
       "        vertical-align: top;\n",
       "    }\n",
       "\n",
       "    .dataframe thead th {\n",
       "        text-align: right;\n",
       "    }\n",
       "</style>\n",
       "<table border=\"1\" class=\"dataframe\">\n",
       "  <thead>\n",
       "    <tr style=\"text-align: right;\">\n",
       "      <th></th>\n",
       "      <th>A. WAYNE JOHNSON</th>\n",
       "      <th>AARON JAMES</th>\n",
       "      <th>ABHAY PATEL</th>\n",
       "      <th>AL GROSS</th>\n",
       "      <th>ALEX MERCED</th>\n",
       "      <th>ALLEN BUCKLEY</th>\n",
       "      <th>AMY KLOBUCHAR</th>\n",
       "      <th>AMY MCGRATH</th>\n",
       "      <th>ANN KIRKPATRICK</th>\n",
       "      <th>ARN MENCONI</th>\n",
       "      <th>...</th>\n",
       "      <th>TOM COTTON</th>\n",
       "      <th>TOM JONES</th>\n",
       "      <th>TOMMY TUBERVILLE</th>\n",
       "      <th>TONY CAMPBELL</th>\n",
       "      <th>TROY HEBERT</th>\n",
       "      <th>VALENCIA STOVALL</th>\n",
       "      <th>WENDY LONG</th>\n",
       "      <th>WILLIAM ROBERT LANG, JR.</th>\n",
       "      <th>WILLIE L. WILSON</th>\n",
       "      <th>ZAK RINGELSTEIN</th>\n",
       "    </tr>\n",
       "  </thead>\n",
       "  <tbody>\n",
       "    <tr>\n",
       "      <th>0</th>\n",
       "      <td>0.0</td>\n",
       "      <td>0.000000</td>\n",
       "      <td>0.0</td>\n",
       "      <td>0.0</td>\n",
       "      <td>0.0</td>\n",
       "      <td>0.0</td>\n",
       "      <td>0.643107</td>\n",
       "      <td>0.000000</td>\n",
       "      <td>0.0</td>\n",
       "      <td>0.0</td>\n",
       "      <td>...</td>\n",
       "      <td>0.000000</td>\n",
       "      <td>0.0</td>\n",
       "      <td>0.000000</td>\n",
       "      <td>0.000000</td>\n",
       "      <td>0.0</td>\n",
       "      <td>0.0</td>\n",
       "      <td>0.0</td>\n",
       "      <td>0.0</td>\n",
       "      <td>0.0</td>\n",
       "      <td>1.607768</td>\n",
       "    </tr>\n",
       "    <tr>\n",
       "      <th>1</th>\n",
       "      <td>0.0</td>\n",
       "      <td>0.000000</td>\n",
       "      <td>0.0</td>\n",
       "      <td>0.0</td>\n",
       "      <td>0.0</td>\n",
       "      <td>0.0</td>\n",
       "      <td>0.864890</td>\n",
       "      <td>0.000000</td>\n",
       "      <td>0.0</td>\n",
       "      <td>0.0</td>\n",
       "      <td>...</td>\n",
       "      <td>0.000000</td>\n",
       "      <td>0.0</td>\n",
       "      <td>0.000000</td>\n",
       "      <td>0.000000</td>\n",
       "      <td>0.0</td>\n",
       "      <td>0.0</td>\n",
       "      <td>0.0</td>\n",
       "      <td>0.0</td>\n",
       "      <td>0.0</td>\n",
       "      <td>0.000000</td>\n",
       "    </tr>\n",
       "    <tr>\n",
       "      <th>2</th>\n",
       "      <td>0.0</td>\n",
       "      <td>0.000000</td>\n",
       "      <td>0.0</td>\n",
       "      <td>0.0</td>\n",
       "      <td>0.0</td>\n",
       "      <td>0.0</td>\n",
       "      <td>41.414354</td>\n",
       "      <td>0.000000</td>\n",
       "      <td>0.0</td>\n",
       "      <td>0.0</td>\n",
       "      <td>...</td>\n",
       "      <td>0.000000</td>\n",
       "      <td>0.0</td>\n",
       "      <td>0.000000</td>\n",
       "      <td>0.000000</td>\n",
       "      <td>0.0</td>\n",
       "      <td>0.0</td>\n",
       "      <td>0.0</td>\n",
       "      <td>0.0</td>\n",
       "      <td>0.0</td>\n",
       "      <td>3.459560</td>\n",
       "    </tr>\n",
       "    <tr>\n",
       "      <th>3</th>\n",
       "      <td>0.0</td>\n",
       "      <td>0.000000</td>\n",
       "      <td>0.0</td>\n",
       "      <td>0.0</td>\n",
       "      <td>0.0</td>\n",
       "      <td>0.0</td>\n",
       "      <td>4.324450</td>\n",
       "      <td>0.000000</td>\n",
       "      <td>0.0</td>\n",
       "      <td>0.0</td>\n",
       "      <td>...</td>\n",
       "      <td>0.000000</td>\n",
       "      <td>0.0</td>\n",
       "      <td>0.000000</td>\n",
       "      <td>2.306374</td>\n",
       "      <td>0.0</td>\n",
       "      <td>0.0</td>\n",
       "      <td>0.0</td>\n",
       "      <td>0.0</td>\n",
       "      <td>0.0</td>\n",
       "      <td>0.576593</td>\n",
       "    </tr>\n",
       "    <tr>\n",
       "      <th>4</th>\n",
       "      <td>0.0</td>\n",
       "      <td>0.000000</td>\n",
       "      <td>0.0</td>\n",
       "      <td>0.0</td>\n",
       "      <td>0.0</td>\n",
       "      <td>0.0</td>\n",
       "      <td>4.901044</td>\n",
       "      <td>0.000000</td>\n",
       "      <td>0.0</td>\n",
       "      <td>0.0</td>\n",
       "      <td>...</td>\n",
       "      <td>0.000000</td>\n",
       "      <td>0.0</td>\n",
       "      <td>0.000000</td>\n",
       "      <td>2.882967</td>\n",
       "      <td>0.0</td>\n",
       "      <td>0.0</td>\n",
       "      <td>0.0</td>\n",
       "      <td>0.0</td>\n",
       "      <td>0.0</td>\n",
       "      <td>0.000000</td>\n",
       "    </tr>\n",
       "    <tr>\n",
       "      <th>...</th>\n",
       "      <td>...</td>\n",
       "      <td>...</td>\n",
       "      <td>...</td>\n",
       "      <td>...</td>\n",
       "      <td>...</td>\n",
       "      <td>...</td>\n",
       "      <td>...</td>\n",
       "      <td>...</td>\n",
       "      <td>...</td>\n",
       "      <td>...</td>\n",
       "      <td>...</td>\n",
       "      <td>...</td>\n",
       "      <td>...</td>\n",
       "      <td>...</td>\n",
       "      <td>...</td>\n",
       "      <td>...</td>\n",
       "      <td>...</td>\n",
       "      <td>...</td>\n",
       "      <td>...</td>\n",
       "      <td>...</td>\n",
       "      <td>...</td>\n",
       "    </tr>\n",
       "    <tr>\n",
       "      <th>295</th>\n",
       "      <td>0.0</td>\n",
       "      <td>0.000000</td>\n",
       "      <td>0.0</td>\n",
       "      <td>0.0</td>\n",
       "      <td>0.0</td>\n",
       "      <td>0.0</td>\n",
       "      <td>69.388074</td>\n",
       "      <td>0.000000</td>\n",
       "      <td>0.0</td>\n",
       "      <td>0.0</td>\n",
       "      <td>...</td>\n",
       "      <td>552.756030</td>\n",
       "      <td>0.0</td>\n",
       "      <td>0.000000</td>\n",
       "      <td>0.000000</td>\n",
       "      <td>0.0</td>\n",
       "      <td>0.0</td>\n",
       "      <td>0.0</td>\n",
       "      <td>0.0</td>\n",
       "      <td>0.0</td>\n",
       "      <td>0.000000</td>\n",
       "    </tr>\n",
       "    <tr>\n",
       "      <th>296</th>\n",
       "      <td>0.0</td>\n",
       "      <td>1.169008</td>\n",
       "      <td>0.0</td>\n",
       "      <td>0.0</td>\n",
       "      <td>0.0</td>\n",
       "      <td>0.0</td>\n",
       "      <td>8.435176</td>\n",
       "      <td>0.000000</td>\n",
       "      <td>0.0</td>\n",
       "      <td>0.0</td>\n",
       "      <td>...</td>\n",
       "      <td>3.896693</td>\n",
       "      <td>0.0</td>\n",
       "      <td>0.000000</td>\n",
       "      <td>0.000000</td>\n",
       "      <td>0.0</td>\n",
       "      <td>0.0</td>\n",
       "      <td>0.0</td>\n",
       "      <td>0.0</td>\n",
       "      <td>0.0</td>\n",
       "      <td>0.000000</td>\n",
       "    </tr>\n",
       "    <tr>\n",
       "      <th>297</th>\n",
       "      <td>0.0</td>\n",
       "      <td>0.779339</td>\n",
       "      <td>0.0</td>\n",
       "      <td>0.0</td>\n",
       "      <td>0.0</td>\n",
       "      <td>0.0</td>\n",
       "      <td>1.357593</td>\n",
       "      <td>1.169008</td>\n",
       "      <td>0.0</td>\n",
       "      <td>0.0</td>\n",
       "      <td>...</td>\n",
       "      <td>239.637971</td>\n",
       "      <td>0.0</td>\n",
       "      <td>0.000000</td>\n",
       "      <td>0.000000</td>\n",
       "      <td>0.0</td>\n",
       "      <td>0.0</td>\n",
       "      <td>0.0</td>\n",
       "      <td>0.0</td>\n",
       "      <td>0.0</td>\n",
       "      <td>0.000000</td>\n",
       "    </tr>\n",
       "    <tr>\n",
       "      <th>298</th>\n",
       "      <td>0.0</td>\n",
       "      <td>0.779339</td>\n",
       "      <td>0.0</td>\n",
       "      <td>0.0</td>\n",
       "      <td>0.0</td>\n",
       "      <td>0.0</td>\n",
       "      <td>0.814556</td>\n",
       "      <td>0.000000</td>\n",
       "      <td>0.0</td>\n",
       "      <td>0.0</td>\n",
       "      <td>...</td>\n",
       "      <td>756.541538</td>\n",
       "      <td>0.0</td>\n",
       "      <td>191.316089</td>\n",
       "      <td>0.000000</td>\n",
       "      <td>0.0</td>\n",
       "      <td>0.0</td>\n",
       "      <td>0.0</td>\n",
       "      <td>0.0</td>\n",
       "      <td>0.0</td>\n",
       "      <td>0.000000</td>\n",
       "    </tr>\n",
       "    <tr>\n",
       "      <th>299</th>\n",
       "      <td>0.0</td>\n",
       "      <td>0.000000</td>\n",
       "      <td>0.0</td>\n",
       "      <td>0.0</td>\n",
       "      <td>0.0</td>\n",
       "      <td>0.0</td>\n",
       "      <td>13.467320</td>\n",
       "      <td>0.000000</td>\n",
       "      <td>0.0</td>\n",
       "      <td>0.0</td>\n",
       "      <td>...</td>\n",
       "      <td>3.660005</td>\n",
       "      <td>0.0</td>\n",
       "      <td>0.000000</td>\n",
       "      <td>0.000000</td>\n",
       "      <td>0.0</td>\n",
       "      <td>0.0</td>\n",
       "      <td>0.0</td>\n",
       "      <td>0.0</td>\n",
       "      <td>0.0</td>\n",
       "      <td>0.000000</td>\n",
       "    </tr>\n",
       "  </tbody>\n",
       "</table>\n",
       "<p>300 rows × 234 columns</p>\n",
       "</div>"
      ],
      "text/plain": [
       "     A. WAYNE JOHNSON  AARON JAMES  ABHAY PATEL  AL GROSS  ALEX MERCED  \\\n",
       "0                 0.0     0.000000          0.0       0.0          0.0   \n",
       "1                 0.0     0.000000          0.0       0.0          0.0   \n",
       "2                 0.0     0.000000          0.0       0.0          0.0   \n",
       "3                 0.0     0.000000          0.0       0.0          0.0   \n",
       "4                 0.0     0.000000          0.0       0.0          0.0   \n",
       "..                ...          ...          ...       ...          ...   \n",
       "295               0.0     0.000000          0.0       0.0          0.0   \n",
       "296               0.0     1.169008          0.0       0.0          0.0   \n",
       "297               0.0     0.779339          0.0       0.0          0.0   \n",
       "298               0.0     0.779339          0.0       0.0          0.0   \n",
       "299               0.0     0.000000          0.0       0.0          0.0   \n",
       "\n",
       "     ALLEN BUCKLEY  AMY KLOBUCHAR  AMY MCGRATH  ANN KIRKPATRICK  ARN MENCONI  \\\n",
       "0              0.0       0.643107     0.000000              0.0          0.0   \n",
       "1              0.0       0.864890     0.000000              0.0          0.0   \n",
       "2              0.0      41.414354     0.000000              0.0          0.0   \n",
       "3              0.0       4.324450     0.000000              0.0          0.0   \n",
       "4              0.0       4.901044     0.000000              0.0          0.0   \n",
       "..             ...            ...          ...              ...          ...   \n",
       "295            0.0      69.388074     0.000000              0.0          0.0   \n",
       "296            0.0       8.435176     0.000000              0.0          0.0   \n",
       "297            0.0       1.357593     1.169008              0.0          0.0   \n",
       "298            0.0       0.814556     0.000000              0.0          0.0   \n",
       "299            0.0      13.467320     0.000000              0.0          0.0   \n",
       "\n",
       "     ...  TOM COTTON  TOM JONES  TOMMY TUBERVILLE  TONY CAMPBELL  TROY HEBERT  \\\n",
       "0    ...    0.000000        0.0          0.000000       0.000000          0.0   \n",
       "1    ...    0.000000        0.0          0.000000       0.000000          0.0   \n",
       "2    ...    0.000000        0.0          0.000000       0.000000          0.0   \n",
       "3    ...    0.000000        0.0          0.000000       2.306374          0.0   \n",
       "4    ...    0.000000        0.0          0.000000       2.882967          0.0   \n",
       "..   ...         ...        ...               ...            ...          ...   \n",
       "295  ...  552.756030        0.0          0.000000       0.000000          0.0   \n",
       "296  ...    3.896693        0.0          0.000000       0.000000          0.0   \n",
       "297  ...  239.637971        0.0          0.000000       0.000000          0.0   \n",
       "298  ...  756.541538        0.0        191.316089       0.000000          0.0   \n",
       "299  ...    3.660005        0.0          0.000000       0.000000          0.0   \n",
       "\n",
       "     VALENCIA STOVALL  WENDY LONG  WILLIAM ROBERT LANG, JR.  WILLIE L. WILSON  \\\n",
       "0                 0.0         0.0                       0.0               0.0   \n",
       "1                 0.0         0.0                       0.0               0.0   \n",
       "2                 0.0         0.0                       0.0               0.0   \n",
       "3                 0.0         0.0                       0.0               0.0   \n",
       "4                 0.0         0.0                       0.0               0.0   \n",
       "..                ...         ...                       ...               ...   \n",
       "295               0.0         0.0                       0.0               0.0   \n",
       "296               0.0         0.0                       0.0               0.0   \n",
       "297               0.0         0.0                       0.0               0.0   \n",
       "298               0.0         0.0                       0.0               0.0   \n",
       "299               0.0         0.0                       0.0               0.0   \n",
       "\n",
       "     ZAK RINGELSTEIN  \n",
       "0           1.607768  \n",
       "1           0.000000  \n",
       "2           3.459560  \n",
       "3           0.576593  \n",
       "4           0.000000  \n",
       "..               ...  \n",
       "295         0.000000  \n",
       "296         0.000000  \n",
       "297         0.000000  \n",
       "298         0.000000  \n",
       "299         0.000000  \n",
       "\n",
       "[300 rows x 234 columns]"
      ]
     },
     "execution_count": 46,
     "metadata": {},
     "output_type": "execute_result"
    }
   ],
   "source": [
    "# build the feature vectors\n",
    "\n",
    "candidate_name = quotes_timespan_byday.index.map(lambda x:x[0]).drop_duplicates()\n",
    "candidate_quotes_cluster_feature = pd.DataFrame(np.zeros([feature_length,len(candidate_name)]), columns=candidate_name)\n",
    "\n",
    "for candidate in candidate_name:\n",
    "    candidate_quotes_timespan = quotes_timespan_byday[candidate]\n",
    "    for days in candidate_quotes_timespan.index:\n",
    "        candidate_quotes_cluster_feature[candidate].iloc[days] = candidate_quotes_timespan.loc[days]\n",
    "        \n",
    "candidate_quotes_cluster_feature"
   ]
  },
  {
   "cell_type": "markdown",
   "id": "f930b6d2-e677-4dc4-aceb-d9342c7bd9b6",
   "metadata": {},
   "source": [
    "Since the feature vector is 300-dimension, we will use PCA to reduce the dimension and visualize the data."
   ]
  },
  {
   "cell_type": "code",
   "execution_count": 47,
   "id": "6647728c",
   "metadata": {},
   "outputs": [
    {
     "data": {
      "text/plain": [
       "<matplotlib.collections.PathCollection at 0x7f095b0bf460>"
      ]
     },
     "execution_count": 47,
     "metadata": {},
     "output_type": "execute_result"
    },
    {
     "data": {
      "image/png": "[encoded data removed]",
      "text/plain": [
       "<Figure size 432x288 with 1 Axes>"
      ]
     },
     "metadata": {
      "needs_background": "light"
     },
     "output_type": "display_data"
    }
   ],
   "source": [
    "# Use PCA to visualize the feature vectors\n",
    "from sklearn.decomposition import PCA\n",
    "\n",
    "candidate_feature_vectors = candidate_quotes_cluster_feature.to_numpy().T\n",
    "candidate_feature_vectors/=np.linalg.norm(candidate_feature_vectors,axis=1)[:,np.newaxis]\n",
    "reduced_feature_PCA = PCA(n_components=2).fit(candidate_feature_vectors).transform(candidate_feature_vectors)\n",
    "\n",
    "plt.scatter(reduced_feature_PCA[:,0],reduced_feature_PCA[:,1], alpha=0.5)"
   ]
  },
  {
   "cell_type": "markdown",
   "id": "e64bcb17-7f08-4197-9920-7700f2033bfa",
   "metadata": {},
   "source": [
    "In the reduced space, we applied KMeans for clustering."
   ]
  },
  {
   "cell_type": "code",
   "execution_count": 48,
   "id": "71778b09",
   "metadata": {},
   "outputs": [
    {
     "data": {
      "text/plain": [
       "[<matplotlib.lines.Line2D at 0x7f095a350040>]"
      ]
     },
     "execution_count": 48,
     "metadata": {},
     "output_type": "execute_result"
    },
    {
     "data": {
      "image/png": "[encoded data removed]",
      "text/plain": [
       "<Figure size 432x288 with 1 Axes>"
      ]
     },
     "metadata": {
      "needs_background": "light"
     },
     "output_type": "display_data"
    }
   ],
   "source": [
    "# find the cluster number to use\n",
    "\n",
    "from sklearn.cluster import KMeans\n",
    "from sklearn.metrics import silhouette_score\n",
    "\n",
    "silhouettes=[]\n",
    "for n_clusters in range(2,10):\n",
    "    labels = KMeans(n_clusters=n_clusters).fit_predict(reduced_feature_PCA)\n",
    "    score = silhouette_score(reduced_feature_PCA,labels)\n",
    "    silhouettes.append(score)\n",
    "    \n",
    "plt.plot(range(2,10),silhouettes)"
   ]
  },
  {
   "cell_type": "code",
   "execution_count": 49,
   "id": "03695de1",
   "metadata": {},
   "outputs": [
    {
     "data": {
      "text/plain": [
       "<matplotlib.collections.PathCollection at 0x7f095a376dc0>"
      ]
     },
     "execution_count": 49,
     "metadata": {},
     "output_type": "execute_result"
    },
    {
     "data": {
      "image/png": "[encoded data removed]",
      "text/plain": [
       "<Figure size 432x288 with 1 Axes>"
      ]
     },
     "metadata": {
      "needs_background": "light"
     },
     "output_type": "display_data"
    }
   ],
   "source": [
    "# based on previous result, we use 3 clusters.\n",
    "n_clusters = 2\n",
    "labels = KMeans(n_clusters=n_clusters).fit_predict(reduced_feature_PCA)\n",
    "plt.scatter(reduced_feature_PCA[:,0],reduced_feature_PCA[:,1], alpha=0.5,c=labels)"
   ]
  },
  {
   "cell_type": "code",
   "execution_count": 50,
   "id": "81a4b29b",
   "metadata": {},
   "outputs": [
    {
     "name": "stdout",
     "output_type": "stream",
     "text": [
      "22 candidates in type 0: Index(['AMY MCGRATH', 'BEN SASSE', 'CORY BOOKER', 'CORY GARDNER',\n",
      "       'DAVID A. PERDUE', 'DOUG COLLINS', 'DOUG JONES', 'GARY PETERS',\n",
      "       'JEANNE SHAHEEN', 'JEFF MERKLEY', 'JOHN CORNYN', 'JON OSSOFF',\n",
      "       'JONI ERNST', 'LINDSEY GRAHAM', 'MARK KELLY', 'MARK R. WARNER',\n",
      "       'MITCH MCCONNELL', 'SARA I. GIDEON', 'SHELLEY MOORE CAPITO',\n",
      "       'SUSAN MARGARET COLLINS', 'THOM TILLIS', 'TOM COTTON'],\n",
      "      dtype='object')\n",
      "212 candidates in type 1: Index(['A. WAYNE JOHNSON', 'AARON JAMES', 'ABHAY PATEL', 'AL GROSS',\n",
      "       'ALEX MERCED', 'ALLEN BUCKLEY', 'AMY KLOBUCHAR', 'ANN KIRKPATRICK',\n",
      "       'ARN MENCONI', 'ARVIN VOHRA',\n",
      "       ...\n",
      "       'TOM CONNORS', 'TOM JONES', 'TOMMY TUBERVILLE', 'TONY CAMPBELL',\n",
      "       'TROY HEBERT', 'VALENCIA STOVALL', 'WENDY LONG',\n",
      "       'WILLIAM ROBERT LANG, JR.', 'WILLIE L. WILSON', 'ZAK RINGELSTEIN'],\n",
      "      dtype='object', length=212)\n"
     ]
    }
   ],
   "source": [
    "# show candidates of each cluster\n",
    "\n",
    "for candidate_type in range(0,n_clusters):\n",
    "    print('{} candidates in type {}: {}'.format(np.where(labels==candidate_type)[0].shape[0],candidate_type,candidate_name[np.where(labels==candidate_type)]))"
   ]
  },
  {
   "cell_type": "markdown",
   "id": "cc0f3239-2f22-4c0f-8d39-c3563804d012",
   "metadata": {},
   "source": [
    "After clustering, we'd like to know how each cluster looks like. Firstly we just average the feature from each cluster and visualize them."
   ]
  },
  {
   "cell_type": "code",
   "execution_count": 51,
   "id": "26d85072",
   "metadata": {},
   "outputs": [
    {
     "data": {
      "image/png": "[encoded data removed]",
      "text/plain": [
       "<Figure size 1440x360 with 2 Axes>"
      ]
     },
     "metadata": {
      "needs_background": "light"
     },
     "output_type": "display_data"
    }
   ],
   "source": [
    "fig, axs = plt.subplots(1,n_clusters, figsize=(20,5))\n",
    "for candidate_type in range(0,n_clusters):\n",
    "    axs[candidate_type].plot(range(0,feature_length), np.mean(candidate_feature_vectors[np.where(labels==candidate_type)], axis=0))\n",
    "    axs[candidate_type].set_title('type {}'.format(candidate_type))\n",
    "    axs[candidate_type].set_xlabel('days before election')"
   ]
  },
  {
   "cell_type": "markdown",
   "id": "f6178005",
   "metadata": {},
   "source": [
    "We try to remove candidate of 2020 because the lack of data after April. This is shown in type 1, where we get almost no citation from roughly 200 days before election. This is mainly caused by lacking quotation data after April 2020 in the QuoteBank."
   ]
  },
  {
   "cell_type": "code",
   "execution_count": 52,
   "id": "af520b48",
   "metadata": {},
   "outputs": [
    {
     "data": {
      "text/plain": [
       "A. WAYNE JOHNSON            2020\n",
       "AARON JAMES                 2020\n",
       "ABHAY PATEL                 2016\n",
       "AL GROSS                    2020\n",
       "ALEX MERCED                 2016\n",
       "                            ... \n",
       "VALENCIA STOVALL            2020\n",
       "WENDY LONG                  2016\n",
       "WILLIAM ROBERT LANG, JR.    2016\n",
       "WILLIE L. WILSON            2020\n",
       "ZAK RINGELSTEIN             2018\n",
       "Name: year, Length: 234, dtype: int64"
      ]
     },
     "execution_count": 52,
     "metadata": {},
     "output_type": "execute_result"
    }
   ],
   "source": [
    "# find each candidates' election year.\n",
    "\n",
    "election_year = candidate_info_byname.loc[candidate_name]['year']\n",
    "election_year"
   ]
  },
  {
   "cell_type": "code",
   "execution_count": 53,
   "id": "43415d16",
   "metadata": {},
   "outputs": [
    {
     "data": {
      "text/plain": [
       "Index(['ABHAY PATEL', 'ALEX MERCED', 'ALLEN BUCKLEY', 'AMY KLOBUCHAR',\n",
       "       'ANN KIRKPATRICK', 'ARN MENCONI', 'ARVIN VOHRA', 'BARRY MICHAELS',\n",
       "       'BEN CARDIN', 'BERNIE SANDERS',\n",
       "       ...\n",
       "       'TIMOTHY M. KAINE', 'TINA SMITH', 'TODD C. YOUNG', 'TOM CONNORS',\n",
       "       'TOM JONES', 'TONY CAMPBELL', 'TROY HEBERT', 'WENDY LONG',\n",
       "       'WILLIAM ROBERT LANG, JR.', 'ZAK RINGELSTEIN'],\n",
       "      dtype='object', length=171)"
      ]
     },
     "execution_count": 53,
     "metadata": {},
     "output_type": "execute_result"
    }
   ],
   "source": [
    "# filt out 2020 election\n",
    "\n",
    "candidate_name_filted = candidate_name[election_year!=2020]\n",
    "candidate_name_filted"
   ]
  },
  {
   "cell_type": "code",
   "execution_count": 54,
   "id": "a3424648",
   "metadata": {},
   "outputs": [
    {
     "data": {
      "text/html": [
       "<div>\n",
       "<style scoped>\n",
       "    .dataframe tbody tr th:only-of-type {\n",
       "        vertical-align: middle;\n",
       "    }\n",
       "\n",
       "    .dataframe tbody tr th {\n",
       "        vertical-align: top;\n",
       "    }\n",
       "\n",
       "    .dataframe thead th {\n",
       "        text-align: right;\n",
       "    }\n",
       "</style>\n",
       "<table border=\"1\" class=\"dataframe\">\n",
       "  <thead>\n",
       "    <tr style=\"text-align: right;\">\n",
       "      <th></th>\n",
       "      <th>ABHAY PATEL</th>\n",
       "      <th>ALEX MERCED</th>\n",
       "      <th>ALLEN BUCKLEY</th>\n",
       "      <th>AMY KLOBUCHAR</th>\n",
       "      <th>ANN KIRKPATRICK</th>\n",
       "      <th>ARN MENCONI</th>\n",
       "      <th>ARVIN VOHRA</th>\n",
       "      <th>BARRY MICHAELS</th>\n",
       "      <th>BEN CARDIN</th>\n",
       "      <th>BERNIE SANDERS</th>\n",
       "      <th>...</th>\n",
       "      <th>TIMOTHY M. KAINE</th>\n",
       "      <th>TINA SMITH</th>\n",
       "      <th>TODD C. YOUNG</th>\n",
       "      <th>TOM CONNORS</th>\n",
       "      <th>TOM JONES</th>\n",
       "      <th>TONY CAMPBELL</th>\n",
       "      <th>TROY HEBERT</th>\n",
       "      <th>WENDY LONG</th>\n",
       "      <th>WILLIAM ROBERT LANG, JR.</th>\n",
       "      <th>ZAK RINGELSTEIN</th>\n",
       "    </tr>\n",
       "  </thead>\n",
       "  <tbody>\n",
       "    <tr>\n",
       "      <th>0</th>\n",
       "      <td>0.0</td>\n",
       "      <td>0.0</td>\n",
       "      <td>0.0</td>\n",
       "      <td>0.643107</td>\n",
       "      <td>0.0</td>\n",
       "      <td>0.0</td>\n",
       "      <td>0.000000</td>\n",
       "      <td>0.00000</td>\n",
       "      <td>0.964661</td>\n",
       "      <td>60.447298</td>\n",
       "      <td>...</td>\n",
       "      <td>0.0</td>\n",
       "      <td>45.258062</td>\n",
       "      <td>0.0</td>\n",
       "      <td>0.0</td>\n",
       "      <td>0.0</td>\n",
       "      <td>0.000000</td>\n",
       "      <td>0.0</td>\n",
       "      <td>0.0</td>\n",
       "      <td>0.0</td>\n",
       "      <td>1.607768</td>\n",
       "    </tr>\n",
       "    <tr>\n",
       "      <th>1</th>\n",
       "      <td>0.0</td>\n",
       "      <td>0.0</td>\n",
       "      <td>0.0</td>\n",
       "      <td>0.864890</td>\n",
       "      <td>0.0</td>\n",
       "      <td>0.0</td>\n",
       "      <td>0.000000</td>\n",
       "      <td>0.00000</td>\n",
       "      <td>0.864890</td>\n",
       "      <td>1160.084533</td>\n",
       "      <td>...</td>\n",
       "      <td>0.0</td>\n",
       "      <td>0.576593</td>\n",
       "      <td>0.0</td>\n",
       "      <td>0.0</td>\n",
       "      <td>0.0</td>\n",
       "      <td>0.000000</td>\n",
       "      <td>0.0</td>\n",
       "      <td>0.0</td>\n",
       "      <td>0.0</td>\n",
       "      <td>0.000000</td>\n",
       "    </tr>\n",
       "    <tr>\n",
       "      <th>2</th>\n",
       "      <td>0.0</td>\n",
       "      <td>0.0</td>\n",
       "      <td>0.0</td>\n",
       "      <td>41.414354</td>\n",
       "      <td>0.0</td>\n",
       "      <td>0.0</td>\n",
       "      <td>0.000000</td>\n",
       "      <td>0.00000</td>\n",
       "      <td>3.171264</td>\n",
       "      <td>89.959246</td>\n",
       "      <td>...</td>\n",
       "      <td>0.0</td>\n",
       "      <td>45.040485</td>\n",
       "      <td>0.0</td>\n",
       "      <td>0.0</td>\n",
       "      <td>0.0</td>\n",
       "      <td>0.000000</td>\n",
       "      <td>0.0</td>\n",
       "      <td>0.0</td>\n",
       "      <td>0.0</td>\n",
       "      <td>3.459560</td>\n",
       "    </tr>\n",
       "    <tr>\n",
       "      <th>3</th>\n",
       "      <td>0.0</td>\n",
       "      <td>0.0</td>\n",
       "      <td>0.0</td>\n",
       "      <td>4.324450</td>\n",
       "      <td>0.0</td>\n",
       "      <td>0.0</td>\n",
       "      <td>1.153187</td>\n",
       "      <td>0.00000</td>\n",
       "      <td>3.171264</td>\n",
       "      <td>407.068522</td>\n",
       "      <td>...</td>\n",
       "      <td>0.0</td>\n",
       "      <td>0.000000</td>\n",
       "      <td>0.0</td>\n",
       "      <td>0.0</td>\n",
       "      <td>0.0</td>\n",
       "      <td>2.306374</td>\n",
       "      <td>0.0</td>\n",
       "      <td>0.0</td>\n",
       "      <td>0.0</td>\n",
       "      <td>0.576593</td>\n",
       "    </tr>\n",
       "    <tr>\n",
       "      <th>4</th>\n",
       "      <td>0.0</td>\n",
       "      <td>0.0</td>\n",
       "      <td>0.0</td>\n",
       "      <td>4.901044</td>\n",
       "      <td>0.0</td>\n",
       "      <td>0.0</td>\n",
       "      <td>0.000000</td>\n",
       "      <td>0.86489</td>\n",
       "      <td>3.747857</td>\n",
       "      <td>2512.988300</td>\n",
       "      <td>...</td>\n",
       "      <td>0.0</td>\n",
       "      <td>1.441483</td>\n",
       "      <td>0.0</td>\n",
       "      <td>0.0</td>\n",
       "      <td>0.0</td>\n",
       "      <td>2.882967</td>\n",
       "      <td>0.0</td>\n",
       "      <td>0.0</td>\n",
       "      <td>0.0</td>\n",
       "      <td>0.000000</td>\n",
       "    </tr>\n",
       "    <tr>\n",
       "      <th>...</th>\n",
       "      <td>...</td>\n",
       "      <td>...</td>\n",
       "      <td>...</td>\n",
       "      <td>...</td>\n",
       "      <td>...</td>\n",
       "      <td>...</td>\n",
       "      <td>...</td>\n",
       "      <td>...</td>\n",
       "      <td>...</td>\n",
       "      <td>...</td>\n",
       "      <td>...</td>\n",
       "      <td>...</td>\n",
       "      <td>...</td>\n",
       "      <td>...</td>\n",
       "      <td>...</td>\n",
       "      <td>...</td>\n",
       "      <td>...</td>\n",
       "      <td>...</td>\n",
       "      <td>...</td>\n",
       "      <td>...</td>\n",
       "      <td>...</td>\n",
       "    </tr>\n",
       "    <tr>\n",
       "      <th>295</th>\n",
       "      <td>0.0</td>\n",
       "      <td>0.0</td>\n",
       "      <td>0.0</td>\n",
       "      <td>69.388074</td>\n",
       "      <td>0.0</td>\n",
       "      <td>0.0</td>\n",
       "      <td>0.000000</td>\n",
       "      <td>0.00000</td>\n",
       "      <td>3464.657134</td>\n",
       "      <td>0.814556</td>\n",
       "      <td>...</td>\n",
       "      <td>0.0</td>\n",
       "      <td>1.900630</td>\n",
       "      <td>0.0</td>\n",
       "      <td>0.0</td>\n",
       "      <td>0.0</td>\n",
       "      <td>0.000000</td>\n",
       "      <td>0.0</td>\n",
       "      <td>0.0</td>\n",
       "      <td>0.0</td>\n",
       "      <td>0.000000</td>\n",
       "    </tr>\n",
       "    <tr>\n",
       "      <th>296</th>\n",
       "      <td>0.0</td>\n",
       "      <td>0.0</td>\n",
       "      <td>0.0</td>\n",
       "      <td>8.435176</td>\n",
       "      <td>0.0</td>\n",
       "      <td>0.0</td>\n",
       "      <td>0.000000</td>\n",
       "      <td>0.00000</td>\n",
       "      <td>1134.143035</td>\n",
       "      <td>199.262435</td>\n",
       "      <td>...</td>\n",
       "      <td>0.0</td>\n",
       "      <td>0.814556</td>\n",
       "      <td>0.0</td>\n",
       "      <td>0.0</td>\n",
       "      <td>0.0</td>\n",
       "      <td>0.000000</td>\n",
       "      <td>0.0</td>\n",
       "      <td>0.0</td>\n",
       "      <td>0.0</td>\n",
       "      <td>0.000000</td>\n",
       "    </tr>\n",
       "    <tr>\n",
       "      <th>297</th>\n",
       "      <td>0.0</td>\n",
       "      <td>0.0</td>\n",
       "      <td>0.0</td>\n",
       "      <td>1.357593</td>\n",
       "      <td>0.0</td>\n",
       "      <td>0.0</td>\n",
       "      <td>0.000000</td>\n",
       "      <td>0.00000</td>\n",
       "      <td>0.271519</td>\n",
       "      <td>51.317006</td>\n",
       "      <td>...</td>\n",
       "      <td>0.0</td>\n",
       "      <td>47.781231</td>\n",
       "      <td>0.0</td>\n",
       "      <td>0.0</td>\n",
       "      <td>0.0</td>\n",
       "      <td>0.000000</td>\n",
       "      <td>0.0</td>\n",
       "      <td>0.0</td>\n",
       "      <td>0.0</td>\n",
       "      <td>0.000000</td>\n",
       "    </tr>\n",
       "    <tr>\n",
       "      <th>298</th>\n",
       "      <td>0.0</td>\n",
       "      <td>0.0</td>\n",
       "      <td>0.0</td>\n",
       "      <td>0.814556</td>\n",
       "      <td>0.0</td>\n",
       "      <td>0.0</td>\n",
       "      <td>0.000000</td>\n",
       "      <td>0.00000</td>\n",
       "      <td>0.814556</td>\n",
       "      <td>935.498054</td>\n",
       "      <td>...</td>\n",
       "      <td>0.0</td>\n",
       "      <td>11.150362</td>\n",
       "      <td>0.0</td>\n",
       "      <td>0.0</td>\n",
       "      <td>0.0</td>\n",
       "      <td>0.000000</td>\n",
       "      <td>0.0</td>\n",
       "      <td>0.0</td>\n",
       "      <td>0.0</td>\n",
       "      <td>0.000000</td>\n",
       "    </tr>\n",
       "    <tr>\n",
       "      <th>299</th>\n",
       "      <td>0.0</td>\n",
       "      <td>0.0</td>\n",
       "      <td>0.0</td>\n",
       "      <td>13.467320</td>\n",
       "      <td>0.0</td>\n",
       "      <td>0.0</td>\n",
       "      <td>0.000000</td>\n",
       "      <td>0.00000</td>\n",
       "      <td>4.072778</td>\n",
       "      <td>119.872422</td>\n",
       "      <td>...</td>\n",
       "      <td>0.0</td>\n",
       "      <td>7.874038</td>\n",
       "      <td>0.0</td>\n",
       "      <td>0.0</td>\n",
       "      <td>0.0</td>\n",
       "      <td>0.000000</td>\n",
       "      <td>0.0</td>\n",
       "      <td>0.0</td>\n",
       "      <td>0.0</td>\n",
       "      <td>0.000000</td>\n",
       "    </tr>\n",
       "  </tbody>\n",
       "</table>\n",
       "<p>300 rows × 171 columns</p>\n",
       "</div>"
      ],
      "text/plain": [
       "     ABHAY PATEL  ALEX MERCED  ALLEN BUCKLEY  AMY KLOBUCHAR  ANN KIRKPATRICK  \\\n",
       "0            0.0          0.0            0.0       0.643107              0.0   \n",
       "1            0.0          0.0            0.0       0.864890              0.0   \n",
       "2            0.0          0.0            0.0      41.414354              0.0   \n",
       "3            0.0          0.0            0.0       4.324450              0.0   \n",
       "4            0.0          0.0            0.0       4.901044              0.0   \n",
       "..           ...          ...            ...            ...              ...   \n",
       "295          0.0          0.0            0.0      69.388074              0.0   \n",
       "296          0.0          0.0            0.0       8.435176              0.0   \n",
       "297          0.0          0.0            0.0       1.357593              0.0   \n",
       "298          0.0          0.0            0.0       0.814556              0.0   \n",
       "299          0.0          0.0            0.0      13.467320              0.0   \n",
       "\n",
       "     ARN MENCONI  ARVIN VOHRA  BARRY MICHAELS   BEN CARDIN  BERNIE SANDERS  \\\n",
       "0            0.0     0.000000         0.00000     0.964661       60.447298   \n",
       "1            0.0     0.000000         0.00000     0.864890     1160.084533   \n",
       "2            0.0     0.000000         0.00000     3.171264       89.959246   \n",
       "3            0.0     1.153187         0.00000     3.171264      407.068522   \n",
       "4            0.0     0.000000         0.86489     3.747857     2512.988300   \n",
       "..           ...          ...             ...          ...             ...   \n",
       "295          0.0     0.000000         0.00000  3464.657134        0.814556   \n",
       "296          0.0     0.000000         0.00000  1134.143035      199.262435   \n",
       "297          0.0     0.000000         0.00000     0.271519       51.317006   \n",
       "298          0.0     0.000000         0.00000     0.814556      935.498054   \n",
       "299          0.0     0.000000         0.00000     4.072778      119.872422   \n",
       "\n",
       "     ...  TIMOTHY M. KAINE  TINA SMITH  TODD C. YOUNG  TOM CONNORS  TOM JONES  \\\n",
       "0    ...               0.0   45.258062            0.0          0.0        0.0   \n",
       "1    ...               0.0    0.576593            0.0          0.0        0.0   \n",
       "2    ...               0.0   45.040485            0.0          0.0        0.0   \n",
       "3    ...               0.0    0.000000            0.0          0.0        0.0   \n",
       "4    ...               0.0    1.441483            0.0          0.0        0.0   \n",
       "..   ...               ...         ...            ...          ...        ...   \n",
       "295  ...               0.0    1.900630            0.0          0.0        0.0   \n",
       "296  ...               0.0    0.814556            0.0          0.0        0.0   \n",
       "297  ...               0.0   47.781231            0.0          0.0        0.0   \n",
       "298  ...               0.0   11.150362            0.0          0.0        0.0   \n",
       "299  ...               0.0    7.874038            0.0          0.0        0.0   \n",
       "\n",
       "     TONY CAMPBELL  TROY HEBERT  WENDY LONG  WILLIAM ROBERT LANG, JR.  \\\n",
       "0         0.000000          0.0         0.0                       0.0   \n",
       "1         0.000000          0.0         0.0                       0.0   \n",
       "2         0.000000          0.0         0.0                       0.0   \n",
       "3         2.306374          0.0         0.0                       0.0   \n",
       "4         2.882967          0.0         0.0                       0.0   \n",
       "..             ...          ...         ...                       ...   \n",
       "295       0.000000          0.0         0.0                       0.0   \n",
       "296       0.000000          0.0         0.0                       0.0   \n",
       "297       0.000000          0.0         0.0                       0.0   \n",
       "298       0.000000          0.0         0.0                       0.0   \n",
       "299       0.000000          0.0         0.0                       0.0   \n",
       "\n",
       "     ZAK RINGELSTEIN  \n",
       "0           1.607768  \n",
       "1           0.000000  \n",
       "2           3.459560  \n",
       "3           0.576593  \n",
       "4           0.000000  \n",
       "..               ...  \n",
       "295         0.000000  \n",
       "296         0.000000  \n",
       "297         0.000000  \n",
       "298         0.000000  \n",
       "299         0.000000  \n",
       "\n",
       "[300 rows x 171 columns]"
      ]
     },
     "execution_count": 54,
     "metadata": {},
     "output_type": "execute_result"
    }
   ],
   "source": [
    "# rebuild our feature vectors\n",
    "\n",
    "candidate_quotes_cluster_feature_filted = pd.DataFrame(np.zeros([feature_length,len(candidate_name_filted)]), columns=candidate_name_filted)\n",
    "\n",
    "for candidate in candidate_name_filted:\n",
    "    candidate_quotes_timespan = quotes_timespan_byday[candidate]\n",
    "    for days in candidate_quotes_timespan.index:\n",
    "        candidate_quotes_cluster_feature_filted[candidate].iloc[days] = candidate_quotes_timespan.loc[days]\n",
    "        \n",
    "candidate_quotes_cluster_feature_filted"
   ]
  },
  {
   "cell_type": "code",
   "execution_count": 55,
   "id": "ac4d85e3",
   "metadata": {},
   "outputs": [
    {
     "data": {
      "text/plain": [
       "<matplotlib.collections.PathCollection at 0x7f0958a9dc40>"
      ]
     },
     "execution_count": 55,
     "metadata": {},
     "output_type": "execute_result"
    },
    {
     "data": {
      "image/png": "[encoded data removed]",
      "text/plain": [
       "<Figure size 432x288 with 1 Axes>"
      ]
     },
     "metadata": {
      "needs_background": "light"
     },
     "output_type": "display_data"
    }
   ],
   "source": [
    "# PCA visualization\n",
    "candidate_feature_vectors = candidate_quotes_cluster_feature_filted.to_numpy().T\n",
    "candidate_feature_vectors/=np.linalg.norm(candidate_feature_vectors,axis=1)[:,np.newaxis]\n",
    "reduced_feature_PCA = PCA(n_components=2).fit(candidate_feature_vectors).transform(candidate_feature_vectors)\n",
    "\n",
    "plt.scatter(reduced_feature_PCA[:,0],reduced_feature_PCA[:,1], alpha=0.5)"
   ]
  },
  {
   "cell_type": "code",
   "execution_count": 56,
   "id": "8e0ff0e7",
   "metadata": {},
   "outputs": [
    {
     "data": {
      "text/plain": [
       "[<matplotlib.lines.Line2D at 0x7f0958a4f9a0>]"
      ]
     },
     "execution_count": 56,
     "metadata": {},
     "output_type": "execute_result"
    },
    {
     "data": {
      "image/png": "[encoded data removed]",
      "text/plain": [
       "<Figure size 432x288 with 1 Axes>"
      ]
     },
     "metadata": {
      "needs_background": "light"
     },
     "output_type": "display_data"
    }
   ],
   "source": [
    "# find cluster number\n",
    "silhouettes=[]\n",
    "for n_clusters in range(2,10):\n",
    "    labels = KMeans(n_clusters=n_clusters).fit_predict(reduced_feature_PCA)\n",
    "    score = silhouette_score(reduced_feature_PCA,labels)\n",
    "    silhouettes.append(score)\n",
    "    \n",
    "plt.plot(range(2,10),silhouettes)"
   ]
  },
  {
   "cell_type": "code",
   "execution_count": 57,
   "id": "272f0dba",
   "metadata": {},
   "outputs": [
    {
     "data": {
      "text/plain": [
       "<matplotlib.collections.PathCollection at 0x7f0958a802b0>"
      ]
     },
     "execution_count": 57,
     "metadata": {},
     "output_type": "execute_result"
    },
    {
     "data": {
      "image/png": "[encoded data removed]",
      "text/plain": [
       "<Figure size 432x288 with 1 Axes>"
      ]
     },
     "metadata": {
      "needs_background": "light"
     },
     "output_type": "display_data"
    }
   ],
   "source": [
    "n_clusters = 2\n",
    "labels = KMeans(n_clusters=n_clusters).fit_predict(reduced_feature_PCA)\n",
    "plt.scatter(reduced_feature_PCA[:,0],reduced_feature_PCA[:,1], alpha=0.5,c=labels)"
   ]
  },
  {
   "cell_type": "code",
   "execution_count": 58,
   "id": "de08da42",
   "metadata": {},
   "outputs": [
    {
     "name": "stdout",
     "output_type": "stream",
     "text": [
      "166 candidates in type 0: Index(['A. WAYNE JOHNSON', 'AARON JAMES', 'ABHAY PATEL', 'AL GROSS',\n",
      "       'ALEX MERCED', 'ALLEN BUCKLEY', 'AMY KLOBUCHAR', 'AMY MCGRATH',\n",
      "       'ANN KIRKPATRICK', 'ARN MENCONI',\n",
      "       ...\n",
      "       'MITCH MCCONNELL', 'MITT ROMNEY', 'MOHAMMAD \"MIKE OBAMA\" ARIF',\n",
      "       'MURRAY SABRIN', 'NEAL SIMON', 'PATRICK \"PAT\" THOMAS',\n",
      "       'PATRICK J. LEAHY', 'PATRICK J. TOOMEY', 'PATRICK MORRISEY',\n",
      "       'PATRICK MURPHY'],\n",
      "      dtype='object', length=166)\n",
      "5 candidates in type 1: Index(['BOB WALSH', 'JEFF RUSSELL', 'JERRY STURGILL', 'JOHNNY ISAKSON',\n",
      "       'MARK KIRK'],\n",
      "      dtype='object')\n"
     ]
    }
   ],
   "source": [
    "# again we show the candidates of each cluster\n",
    "for candidate_type in range(0,n_clusters):\n",
    "    print('{} candidates in type {}: {}'.format(np.where(labels==candidate_type)[0].shape[0],candidate_type,candidate_name[np.where(labels==candidate_type)]))"
   ]
  },
  {
   "cell_type": "code",
   "execution_count": 59,
   "id": "4728806d",
   "metadata": {},
   "outputs": [
    {
     "data": {
      "image/png": "[encoded data removed]",
      "text/plain": [
       "<Figure size 1800x360 with 2 Axes>"
      ]
     },
     "metadata": {
      "needs_background": "light"
     },
     "output_type": "display_data"
    }
   ],
   "source": [
    "# use simple average to visualize the pattern of each cluster\n",
    "fig, axs = plt.subplots(1,n_clusters, figsize=(25,5))\n",
    "for candidate_type in range(0,n_clusters):\n",
    "    axs[candidate_type].plot(range(0,feature_length), np.mean(candidate_feature_vectors[np.where(labels==candidate_type)], axis=0))\n",
    "    axs[candidate_type].set_title('type {}'.format(candidate_type))\n",
    "    axs[candidate_type].set_xlabel('days before election')"
   ]
  },
  {
   "cell_type": "markdown",
   "id": "96e6534b",
   "metadata": {},
   "source": [
    "We also noticed that for most candidates, their quotation number of each day is relatively sparse. So it is resonable to use a longer time interval for our feature vectors. Here we sum the quotation number of each 30 days."
   ]
  },
  {
   "cell_type": "code",
   "execution_count": 60,
   "id": "893bb305",
   "metadata": {},
   "outputs": [],
   "source": [
    "# sum for each 30 day\n",
    "candidate_feature_vectors = candidate_quotes_cluster_feature_filted.to_numpy().T\n",
    "candidate_feature_vectors/=np.linalg.norm(candidate_feature_vectors,axis=1)[:,np.newaxis]\n",
    "candidate_feature_vectors_sum = np.array(np.split(candidate_feature_vectors,10, axis=1)).sum(axis=2).T"
   ]
  },
  {
   "cell_type": "code",
   "execution_count": 61,
   "id": "70f8efaf",
   "metadata": {},
   "outputs": [
    {
     "data": {
      "text/plain": [
       "<matplotlib.collections.PathCollection at 0x7f0958989af0>"
      ]
     },
     "execution_count": 61,
     "metadata": {},
     "output_type": "execute_result"
    },
    {
     "data": {
      "image/png": "[encoded data removed]",
      "text/plain": [
       "<Figure size 432x288 with 1 Axes>"
      ]
     },
     "metadata": {
      "needs_background": "light"
     },
     "output_type": "display_data"
    }
   ],
   "source": [
    "# PCA visualization\n",
    "reduced_feature_PCA = PCA(n_components=2).fit(candidate_feature_vectors_sum).transform(candidate_feature_vectors_sum)\n",
    "\n",
    "plt.scatter(reduced_feature_PCA[:,0],reduced_feature_PCA[:,1], alpha=0.5)"
   ]
  },
  {
   "cell_type": "code",
   "execution_count": 62,
   "id": "d0236198",
   "metadata": {},
   "outputs": [
    {
     "data": {
      "text/plain": [
       "Text(0.5, 0, 'n_clusters')"
      ]
     },
     "execution_count": 62,
     "metadata": {},
     "output_type": "execute_result"
    },
    {
     "data": {
      "image/png": "[encoded data removed]",
      "text/plain": [
       "<Figure size 432x288 with 1 Axes>"
      ]
     },
     "metadata": {
      "needs_background": "light"
     },
     "output_type": "display_data"
    }
   ],
   "source": [
    "silhouettes=[]\n",
    "for n_clusters in range(2,10):\n",
    "    labels = KMeans(n_clusters=n_clusters).fit_predict(reduced_feature_PCA)\n",
    "    score = silhouette_score(reduced_feature_PCA,labels)\n",
    "    silhouettes.append(score)\n",
    "    \n",
    "plt.plot(range(2,10),silhouettes)\n",
    "plt.xlabel('n_clusters')"
   ]
  },
  {
   "cell_type": "code",
   "execution_count": 63,
   "id": "9d349d84",
   "metadata": {},
   "outputs": [
    {
     "data": {
      "text/plain": [
       "<matplotlib.collections.PathCollection at 0x7f095896b3a0>"
      ]
     },
     "execution_count": 63,
     "metadata": {},
     "output_type": "execute_result"
    },
    {
     "data": {
      "image/png": "[encoded data removed]",
      "text/plain": [
       "<Figure size 432x288 with 1 Axes>"
      ]
     },
     "metadata": {
      "needs_background": "light"
     },
     "output_type": "display_data"
    }
   ],
   "source": [
    "n_clusters = 3\n",
    "labels = KMeans(n_clusters=n_clusters).fit_predict(reduced_feature_PCA)\n",
    "plt.scatter(reduced_feature_PCA[:,0],reduced_feature_PCA[:,1], alpha=0.5,c=labels)"
   ]
  },
  {
   "cell_type": "code",
   "execution_count": 64,
   "id": "63014d57",
   "metadata": {},
   "outputs": [
    {
     "data": {
      "image/png": "[encoded data removed]",
      "text/plain": [
       "<Figure size 1440x360 with 3 Axes>"
      ]
     },
     "metadata": {
      "needs_background": "light"
     },
     "output_type": "display_data"
    }
   ],
   "source": [
    "fig, axs = plt.subplots(1,n_clusters, figsize=(20,5))\n",
    "for candidate_type in range(0,n_clusters):\n",
    "    axs[candidate_type].plot(range(0,10), np.mean(candidate_feature_vectors_sum[np.where(labels==candidate_type)], axis=0))\n",
    "    axs[candidate_type].set_title('type {}'.format(candidate_type))\n",
    "    axs[candidate_type].set_xlabel('months before election')\n",
    "    axs[candidate_type].set_ylabel('normalized quotes')"
   ]
  },
  {
   "cell_type": "code",
   "execution_count": 65,
   "id": "cd10a8fd",
   "metadata": {},
   "outputs": [
    {
     "name": "stdout",
     "output_type": "stream",
     "text": [
      "112 candidates in type 0: Index(['ABHAY PATEL', 'ALEX MERCED', 'ALLEN BUCKLEY', 'ANN KIRKPATRICK',\n",
      "       'ARN MENCONI', 'ARVIN VOHRA', 'BARRY MICHAELS', 'BEN CARDIN',\n",
      "       'BRAD J. PEACOCK', 'BRIAN SCHATZ',\n",
      "       ...\n",
      "       'THOMAS R CARPER', 'TIM HAGAN', 'TIM SCOTT', 'TIMOTHY M. KAINE',\n",
      "       'TOM JONES', 'TONY CAMPBELL', 'TROY HEBERT', 'WENDY LONG',\n",
      "       'WILLIAM ROBERT LANG, JR.', 'ZAK RINGELSTEIN'],\n",
      "      dtype='object', length=112)\n",
      "23 candidates in type 1: Index(['AMY KLOBUCHAR', 'CAROLINE FAYARD', 'CATHERINE CORTEZ MASTO',\n",
      "       'CHRISTOPHER S MURPHY', 'DIANNE FEINSTEIN', 'FOSTER CAMPBELL',\n",
      "       'GARY E JOHNSON', 'JASON KANDER', 'JERRY STURGILL', 'JIM BARKSDALE',\n",
      "       'JOHN CARROLL', 'JOHN FLEMING', 'LILY TANG WILLIAMS', 'MAZIE K. HIRONO',\n",
      "       'PAUL STANTON', 'PETER WILLIAMS', 'RICHARD BLUMENTHAL',\n",
      "       'RICHARD C. SHELBY', 'ROBERT T. MURPHY', 'SHELDON WHITEHOUSE',\n",
      "       'STEVEN MACHAT', 'TODD C. YOUNG', 'TOM CONNORS'],\n",
      "      dtype='object')\n",
      "36 candidates in type 2: Index(['BERNIE SANDERS', 'BETO O'ROURKE', 'BILL NELSON', 'BOB HUGIN',\n",
      "       'CHELE CHIAVACCI FARLEY', 'CLAIRE MCCASKILL', 'DEAN HELLER',\n",
      "       'DEB FISCHER', 'ELIZABETH A. WARREN', 'ERIC L. BRAKEY',\n",
      "       'HEIDI HEITKAMP', 'JACKY ROSEN', 'JIM NEWBERGER', 'JOE DONNELLY',\n",
      "       'JOE MANCHIN', 'JOHN BARRASSO', 'JOHN JAMES', 'JON TESTER',\n",
      "       'JOSH HAWLEY', 'KARIN HOUSLEY', 'KEVIN CRAMER', 'KIRSTEN E. GILLIBRAND',\n",
      "       'KYRSTEN SINEMA', 'LEAH VUKMIR', 'MARSHA BLACKBURN', 'MARTHA MCSALLY',\n",
      "       'MITT ROMNEY', 'MURRAY SABRIN', 'PATRICK MORRISEY', 'PHIL BREDESEN',\n",
      "       'RICK SCOTT', 'ROBERT MENENDEZ', 'SHERROD BROWN', 'TAMMY BALDWIN',\n",
      "       'TED CRUZ', 'TINA SMITH'],\n",
      "      dtype='object')\n"
     ]
    }
   ],
   "source": [
    "for candidate_type in range(0,n_clusters):\n",
    "    print('{} candidates in type {}: {}'.format(np.where(labels==candidate_type)[0].shape[0],candidate_type,candidate_name_filted[np.where(labels==candidate_type)]))"
   ]
  },
  {
   "cell_type": "code",
   "execution_count": 66,
   "id": "8ae5f152",
   "metadata": {},
   "outputs": [
    {
     "data": {
      "text/plain": [
       "Text(0.5, 1.0, 'Leah Vukmir, Type 0 Example')"
      ]
     },
     "execution_count": 66,
     "metadata": {},
     "output_type": "execute_result"
    },
    {
     "data": {
      "image/png": "[encoded data removed]",
      "text/plain": [
       "<Figure size 432x288 with 1 Axes>"
      ]
     },
     "metadata": {
      "needs_background": "light"
     },
     "output_type": "display_data"
    }
   ],
   "source": [
    "# From type 0\n",
    "candidate_quotes_cluster_feature_filted['LEAH VUKMIR'].rolling(window=30).sum().plot()\n",
    "plt.xlabel('months before election')\n",
    "plt.ylabel('l2 normalized quotes')\n",
    "plt.title('Leah Vukmir, Type 0 Example')"
   ]
  },
  {
   "cell_type": "code",
   "execution_count": 67,
   "id": "9a0c30ef",
   "metadata": {},
   "outputs": [
    {
     "data": {
      "text/plain": [
       "Text(0.5, 1.0, 'Tim Scott, Type 1 Example')"
      ]
     },
     "execution_count": 67,
     "metadata": {},
     "output_type": "execute_result"
    },
    {
     "data": {
      "image/png": "[encoded data removed]",
      "text/plain": [
       "<Figure size 432x288 with 1 Axes>"
      ]
     },
     "metadata": {
      "needs_background": "light"
     },
     "output_type": "display_data"
    }
   ],
   "source": [
    "# From type 1\n",
    "candidate_quotes_cluster_feature_filted['TIM SCOTT'].rolling(window=30).sum().plot()\n",
    "plt.xlabel('months before election')\n",
    "plt.ylabel('l2 normalized quotes')\n",
    "plt.title('Tim Scott, Type 1 Example')"
   ]
  },
  {
   "cell_type": "code",
   "execution_count": 68,
   "id": "a892a8e0-3c73-462b-bde7-22008cdaa499",
   "metadata": {},
   "outputs": [
    {
     "data": {
      "text/plain": [
       "Text(0.5, 1.0, 'Jerry Sturgill, Type 2 Example')"
      ]
     },
     "execution_count": 68,
     "metadata": {},
     "output_type": "execute_result"
    },
    {
     "data": {
      "image/png": "[encoded data removed]",
      "text/plain": [
       "<Figure size 432x288 with 1 Axes>"
      ]
     },
     "metadata": {
      "needs_background": "light"
     },
     "output_type": "display_data"
    }
   ],
   "source": [
    "# From type 2\n",
    "candidate_quotes_cluster_feature_filted['JERRY STURGILL'].rolling(window=30).sum().plot()\n",
    "plt.xlabel('months before election')\n",
    "plt.ylabel('l2 normalized quotes')\n",
    "plt.title('Jerry Sturgill, Type 2 Example')"
   ]
  },
  {
   "cell_type": "code",
   "execution_count": 69,
   "id": "dabe5482-7ef7-473e-a82f-b35ead549c83",
   "metadata": {},
   "outputs": [],
   "source": [
    "voterate_type0 = candidate_info_byname.loc[candidate_name_filted[np.where(labels==0)]]['vote_rate']\n",
    "voterate_type1 = candidate_info_byname.loc[candidate_name_filted[np.where(labels==1)]]['vote_rate']\n",
    "voterate_type2 = candidate_info_byname.loc[candidate_name_filted[np.where(labels==2)]]['vote_rate']"
   ]
  },
  {
   "cell_type": "code",
   "execution_count": 70,
   "id": "88126cfb-54bd-4e49-95ce-f2bfe0abdabf",
   "metadata": {},
   "outputs": [
    {
     "data": {
      "text/plain": [
       "([<matplotlib.axis.XTick at 0x7f0958821040>,\n",
       "  <matplotlib.axis.XTick at 0x7f095881efd0>,\n",
       "  <matplotlib.axis.XTick at 0x7f09588351c0>],\n",
       " [Text(1, 0, 'type0'), Text(2, 0, 'type1'), Text(3, 0, 'type2')])"
      ]
     },
     "execution_count": 70,
     "metadata": {},
     "output_type": "execute_result"
    },
    {
     "data": {
      "image/png": "[encoded data removed]",
      "text/plain": [
       "<Figure size 432x288 with 1 Axes>"
      ]
     },
     "metadata": {
      "needs_background": "light"
     },
     "output_type": "display_data"
    }
   ],
   "source": [
    "plt.boxplot([voterate_type0.to_numpy(),voterate_type1.to_numpy(),voterate_type2.to_numpy()])\n",
    "plt.xticks([1, 2, 3], ['type0', 'type1', 'type2'])"
   ]
  },
  {
   "cell_type": "code",
   "execution_count": 71,
   "id": "e56f46e2-0c59-403c-9fc2-bcf75937fa2e",
   "metadata": {},
   "outputs": [
    {
     "name": "stdout",
     "output_type": "stream",
     "text": [
      "Ttest_indResult(statistic=0.3560306958024052, pvalue=0.7223816903339412)\n",
      "Ttest_indResult(statistic=-3.7213043738097995, pvalue=0.0002821607767346312)\n",
      "Ttest_indResult(statistic=-3.5113245160405167, pvalue=0.0008793773057030526)\n"
     ]
    }
   ],
   "source": [
    "from scipy.stats import ttest_ind\n",
    "print(ttest_ind(voterate_type0.to_numpy(),voterate_type1.to_numpy()))\n",
    "print(ttest_ind(voterate_type0.to_numpy(),voterate_type2.to_numpy()))\n",
    "print(ttest_ind(voterate_type1.to_numpy(),voterate_type2.to_numpy()))"
   ]
  },
  {
   "cell_type": "markdown",
   "id": "604b01f4-2027-4bd2-a3dd-dacdc2329c2c",
   "metadata": {},
   "source": [
    "The voterate of type 0 is significantly higher than other types."
   ]
  },
  {
   "cell_type": "markdown",
   "id": "1a29c6f1",
   "metadata": {},
   "source": [
    "# 4. Prediction Model\n",
    "In this section, we will try to build the prediction model that uses the senate quotation data to predict election result.\n",
    "\n",
    "**4.1:** First, we label the data by whether the candidate win the election in a new column 'is_winner'"
   ]
  },
  {
   "cell_type": "code",
   "execution_count": 72,
   "id": "8b989331",
   "metadata": {},
   "outputs": [
    {
     "data": {
      "text/html": [
       "<div>\n",
       "<style scoped>\n",
       "    .dataframe tbody tr th:only-of-type {\n",
       "        vertical-align: middle;\n",
       "    }\n",
       "\n",
       "    .dataframe tbody tr th {\n",
       "        vertical-align: top;\n",
       "    }\n",
       "\n",
       "    .dataframe thead th {\n",
       "        text-align: right;\n",
       "    }\n",
       "</style>\n",
       "<table border=\"1\" class=\"dataframe\">\n",
       "  <thead>\n",
       "    <tr style=\"text-align: right;\">\n",
       "      <th></th>\n",
       "      <th>year</th>\n",
       "      <th>state</th>\n",
       "      <th>state_po</th>\n",
       "      <th>state_fips</th>\n",
       "      <th>state_cen</th>\n",
       "      <th>state_ic</th>\n",
       "      <th>office</th>\n",
       "      <th>district</th>\n",
       "      <th>stage</th>\n",
       "      <th>special</th>\n",
       "      <th>candidate</th>\n",
       "      <th>party_detailed</th>\n",
       "      <th>writein</th>\n",
       "      <th>mode</th>\n",
       "      <th>candidatevotes</th>\n",
       "      <th>totalvotes</th>\n",
       "      <th>unofficial</th>\n",
       "      <th>version</th>\n",
       "      <th>party_simplified</th>\n",
       "      <th>is_winner</th>\n",
       "    </tr>\n",
       "  </thead>\n",
       "  <tbody>\n",
       "    <tr>\n",
       "      <th>1</th>\n",
       "      <td>2016</td>\n",
       "      <td>ALABAMA</td>\n",
       "      <td>AL</td>\n",
       "      <td>1</td>\n",
       "      <td>63</td>\n",
       "      <td>41</td>\n",
       "      <td>US SENATE</td>\n",
       "      <td>statewide</td>\n",
       "      <td>gen</td>\n",
       "      <td>False</td>\n",
       "      <td>RICHARD C. SHELBY</td>\n",
       "      <td>REPUBLICAN</td>\n",
       "      <td>False</td>\n",
       "      <td>total</td>\n",
       "      <td>1335104</td>\n",
       "      <td>2087444</td>\n",
       "      <td>False</td>\n",
       "      <td>20210114</td>\n",
       "      <td>REPUBLICAN</td>\n",
       "      <td>True</td>\n",
       "    </tr>\n",
       "    <tr>\n",
       "      <th>7</th>\n",
       "      <td>2016</td>\n",
       "      <td>ALASKA</td>\n",
       "      <td>AK</td>\n",
       "      <td>2</td>\n",
       "      <td>94</td>\n",
       "      <td>81</td>\n",
       "      <td>US SENATE</td>\n",
       "      <td>statewide</td>\n",
       "      <td>gen</td>\n",
       "      <td>False</td>\n",
       "      <td>LISA MURKOWSKI</td>\n",
       "      <td>REPUBLICAN</td>\n",
       "      <td>False</td>\n",
       "      <td>total</td>\n",
       "      <td>138149</td>\n",
       "      <td>311441</td>\n",
       "      <td>False</td>\n",
       "      <td>20210114</td>\n",
       "      <td>REPUBLICAN</td>\n",
       "      <td>True</td>\n",
       "    </tr>\n",
       "    <tr>\n",
       "      <th>12</th>\n",
       "      <td>2016</td>\n",
       "      <td>ARIZONA</td>\n",
       "      <td>AZ</td>\n",
       "      <td>4</td>\n",
       "      <td>86</td>\n",
       "      <td>61</td>\n",
       "      <td>US SENATE</td>\n",
       "      <td>statewide</td>\n",
       "      <td>gen</td>\n",
       "      <td>False</td>\n",
       "      <td>JOHN MCCAIN</td>\n",
       "      <td>REPUBLICAN</td>\n",
       "      <td>False</td>\n",
       "      <td>total</td>\n",
       "      <td>1359267</td>\n",
       "      <td>2530730</td>\n",
       "      <td>False</td>\n",
       "      <td>20210114</td>\n",
       "      <td>REPUBLICAN</td>\n",
       "      <td>True</td>\n",
       "    </tr>\n",
       "    <tr>\n",
       "      <th>14</th>\n",
       "      <td>2016</td>\n",
       "      <td>ARKANSAS</td>\n",
       "      <td>AR</td>\n",
       "      <td>5</td>\n",
       "      <td>71</td>\n",
       "      <td>42</td>\n",
       "      <td>US SENATE</td>\n",
       "      <td>statewide</td>\n",
       "      <td>gen</td>\n",
       "      <td>False</td>\n",
       "      <td>JOHN BOOZMAN</td>\n",
       "      <td>REPUBLICAN</td>\n",
       "      <td>False</td>\n",
       "      <td>total</td>\n",
       "      <td>661984</td>\n",
       "      <td>1107522</td>\n",
       "      <td>False</td>\n",
       "      <td>20210114</td>\n",
       "      <td>REPUBLICAN</td>\n",
       "      <td>True</td>\n",
       "    </tr>\n",
       "    <tr>\n",
       "      <th>18</th>\n",
       "      <td>2016</td>\n",
       "      <td>CALIFORNIA</td>\n",
       "      <td>CA</td>\n",
       "      <td>6</td>\n",
       "      <td>93</td>\n",
       "      <td>71</td>\n",
       "      <td>US SENATE</td>\n",
       "      <td>statewide</td>\n",
       "      <td>gen</td>\n",
       "      <td>False</td>\n",
       "      <td>KAMALA D. HARRIS</td>\n",
       "      <td>DEMOCRAT</td>\n",
       "      <td>False</td>\n",
       "      <td>total</td>\n",
       "      <td>7542753</td>\n",
       "      <td>12244170</td>\n",
       "      <td>False</td>\n",
       "      <td>20210114</td>\n",
       "      <td>DEMOCRAT</td>\n",
       "      <td>True</td>\n",
       "    </tr>\n",
       "  </tbody>\n",
       "</table>\n",
       "</div>"
      ],
      "text/plain": [
       "    year       state state_po  state_fips  state_cen  state_ic     office  \\\n",
       "1   2016     ALABAMA       AL           1         63        41  US SENATE   \n",
       "7   2016      ALASKA       AK           2         94        81  US SENATE   \n",
       "12  2016     ARIZONA       AZ           4         86        61  US SENATE   \n",
       "14  2016    ARKANSAS       AR           5         71        42  US SENATE   \n",
       "18  2016  CALIFORNIA       CA           6         93        71  US SENATE   \n",
       "\n",
       "     district stage  special          candidate party_detailed  writein  \\\n",
       "1   statewide   gen    False  RICHARD C. SHELBY     REPUBLICAN    False   \n",
       "7   statewide   gen    False     LISA MURKOWSKI     REPUBLICAN    False   \n",
       "12  statewide   gen    False        JOHN MCCAIN     REPUBLICAN    False   \n",
       "14  statewide   gen    False       JOHN BOOZMAN     REPUBLICAN    False   \n",
       "18  statewide   gen    False   KAMALA D. HARRIS       DEMOCRAT    False   \n",
       "\n",
       "     mode  candidatevotes  totalvotes  unofficial   version party_simplified  \\\n",
       "1   total         1335104     2087444       False  20210114       REPUBLICAN   \n",
       "7   total          138149      311441       False  20210114       REPUBLICAN   \n",
       "12  total         1359267     2530730       False  20210114       REPUBLICAN   \n",
       "14  total          661984     1107522       False  20210114       REPUBLICAN   \n",
       "18  total         7542753    12244170       False  20210114         DEMOCRAT   \n",
       "\n",
       "    is_winner  \n",
       "1        True  \n",
       "7        True  \n",
       "12       True  \n",
       "14       True  \n",
       "18       True  "
      ]
     },
     "execution_count": 72,
     "metadata": {},
     "output_type": "execute_result"
    }
   ],
   "source": [
    "# Add 'is_winner' feature\n",
    "candidate_info['is_winner'] = False\n",
    "candidate_info.loc[candidate_info.groupby(['year', 'state'])['candidatevotes'].idxmax(), 'is_winner'] = True\n",
    "candidate_info[candidate_info['is_winner'] == True].head(5) # we display 5 winners"
   ]
  },
  {
   "cell_type": "markdown",
   "id": "7752d793",
   "metadata": {},
   "source": [
    "We notice that the dataset also contains situation in which more than one senate are elected in a state in the same year (such situations are officialy called special senate election in the U.S.). To find these special elections, we check whether the sum of candidate votes exceed the total number of votes. "
   ]
  },
  {
   "cell_type": "code",
   "execution_count": 73,
   "id": "58bec1cc",
   "metadata": {},
   "outputs": [
    {
     "data": {
      "text/plain": [
       "year  state      \n",
       "2018  MINNESOTA      False\n",
       "      MISSISSIPPI    False\n",
       "2020  GEORGIA        False\n",
       "dtype: bool"
      ]
     },
     "execution_count": 73,
     "metadata": {},
     "output_type": "execute_result"
    }
   ],
   "source": [
    "# Find the special situations\n",
    "sanity = candidate_info.groupby(['year', 'state'])['candidatevotes'].sum() <= candidate_info.groupby(['year', 'state'])['totalvotes'].mean()\n",
    "sanity[sanity == False]"
   ]
  },
  {
   "cell_type": "markdown",
   "id": "3e9ffeca",
   "metadata": {},
   "source": [
    "After manually looking at the dataset, we find two more winners: Tina Smith in 2018 Minnesota election and Cindy Hyde-Smith in 2018 MIssissippi election. The 2020 Georgia election held an additional runoff in 2021, in which Jon Ossof actually won the election. However, since QuoteBank only contains citations before April 2020, the data cannot reflect quotation changes before elections. We have decided not to include elections happening since 2020. So, we just add the two previously overlooked winners."
   ]
  },
  {
   "cell_type": "code",
   "execution_count": 74,
   "id": "4e551509",
   "metadata": {},
   "outputs": [],
   "source": [
    "# Add winners in special elections\n",
    "candidate_info.loc[candidate_info['candidate'] == 'TINA SMITH','is_winner'] = True\n",
    "candidate_info.loc[candidate_info['candidate'] == 'CINDY HYDE-SMITH','is_winner'] = True"
   ]
  },
  {
   "cell_type": "markdown",
   "id": "680e8130",
   "metadata": {},
   "source": [
    "**4.2:** we now generate features by concatenating the monthly discretized quotation data (defined in clustering section above) and affiliated party information (defined below)"
   ]
  },
  {
   "cell_type": "markdown",
   "id": "8ca88b18",
   "metadata": {},
   "source": [
    "Since affiliated party plays an important role in election, we  include the party affiliation of each candidate. For senate elction in each state, we also consider the affiliated party's vote rate in the most recent presidential election. Since we are looking at the senate election from 2016 to 2029, we will use the 2016 presidential election data.\n",
    "\n",
    "The presidential election data also comes from the MIT Election Data and Science Lab[2]. It contains the presidential election voting result by each state.\n",
    "\n",
    "[2]MIT Election Data and Science Lab, 2017, \"U.S. President 1976–2020\", https://doi.org/10.7910/DVN/42MVDX, Harvard Dataverse, V6."
   ]
  },
  {
   "cell_type": "code",
   "execution_count": 75,
   "id": "0d054640",
   "metadata": {},
   "outputs": [
    {
     "data": {
      "text/html": [
       "<div>\n",
       "<style scoped>\n",
       "    .dataframe tbody tr th:only-of-type {\n",
       "        vertical-align: middle;\n",
       "    }\n",
       "\n",
       "    .dataframe tbody tr th {\n",
       "        vertical-align: top;\n",
       "    }\n",
       "\n",
       "    .dataframe thead th {\n",
       "        text-align: right;\n",
       "    }\n",
       "</style>\n",
       "<table border=\"1\" class=\"dataframe\">\n",
       "  <thead>\n",
       "    <tr style=\"text-align: right;\">\n",
       "      <th></th>\n",
       "      <th>year</th>\n",
       "      <th>state</th>\n",
       "      <th>state_po</th>\n",
       "      <th>state_fips</th>\n",
       "      <th>state_cen</th>\n",
       "      <th>state_ic</th>\n",
       "      <th>office</th>\n",
       "      <th>candidate</th>\n",
       "      <th>party_detailed</th>\n",
       "      <th>writein</th>\n",
       "      <th>candidatevotes</th>\n",
       "      <th>totalvotes</th>\n",
       "      <th>version</th>\n",
       "      <th>notes</th>\n",
       "      <th>party_simplified</th>\n",
       "    </tr>\n",
       "  </thead>\n",
       "  <tbody>\n",
       "    <tr>\n",
       "      <th>3731</th>\n",
       "      <td>2016</td>\n",
       "      <td>WISCONSIN</td>\n",
       "      <td>WI</td>\n",
       "      <td>55</td>\n",
       "      <td>35</td>\n",
       "      <td>25</td>\n",
       "      <td>US PRESIDENT</td>\n",
       "      <td>DE LA FUENTE, ROQUE \"\"ROCKY\"\"</td>\n",
       "      <td>AMERICAN DELTA PARTY</td>\n",
       "      <td>False</td>\n",
       "      <td>1502</td>\n",
       "      <td>2976150</td>\n",
       "      <td>20210113</td>\n",
       "      <td>NaN</td>\n",
       "      <td>OTHER</td>\n",
       "    </tr>\n",
       "    <tr>\n",
       "      <th>3490</th>\n",
       "      <td>2016</td>\n",
       "      <td>ILLINOIS</td>\n",
       "      <td>IL</td>\n",
       "      <td>17</td>\n",
       "      <td>33</td>\n",
       "      <td>21</td>\n",
       "      <td>US PRESIDENT</td>\n",
       "      <td>CLINTON, HILLARY</td>\n",
       "      <td>DEMOCRAT</td>\n",
       "      <td>False</td>\n",
       "      <td>3090729</td>\n",
       "      <td>5536424</td>\n",
       "      <td>20210113</td>\n",
       "      <td>NaN</td>\n",
       "      <td>DEMOCRAT</td>\n",
       "    </tr>\n",
       "    <tr>\n",
       "      <th>3638</th>\n",
       "      <td>2016</td>\n",
       "      <td>NORTH DAKOTA</td>\n",
       "      <td>ND</td>\n",
       "      <td>38</td>\n",
       "      <td>44</td>\n",
       "      <td>36</td>\n",
       "      <td>US PRESIDENT</td>\n",
       "      <td>TRUMP, DONALD J.</td>\n",
       "      <td>REPUBLICAN</td>\n",
       "      <td>False</td>\n",
       "      <td>216794</td>\n",
       "      <td>344360</td>\n",
       "      <td>20210113</td>\n",
       "      <td>NaN</td>\n",
       "      <td>REPUBLICAN</td>\n",
       "    </tr>\n",
       "    <tr>\n",
       "      <th>3668</th>\n",
       "      <td>2016</td>\n",
       "      <td>RHODE ISLAND</td>\n",
       "      <td>RI</td>\n",
       "      <td>44</td>\n",
       "      <td>15</td>\n",
       "      <td>5</td>\n",
       "      <td>US PRESIDENT</td>\n",
       "      <td>DE LA FUENTE, ROQUE \"\"ROCKY\"\"</td>\n",
       "      <td>AMERICAN DELTA PARTY</td>\n",
       "      <td>False</td>\n",
       "      <td>671</td>\n",
       "      <td>464144</td>\n",
       "      <td>20210113</td>\n",
       "      <td>NaN</td>\n",
       "      <td>OTHER</td>\n",
       "    </tr>\n",
       "  </tbody>\n",
       "</table>\n",
       "</div>"
      ],
      "text/plain": [
       "      year         state state_po  state_fips  state_cen  state_ic  \\\n",
       "3731  2016     WISCONSIN       WI          55         35        25   \n",
       "3490  2016      ILLINOIS       IL          17         33        21   \n",
       "3638  2016  NORTH DAKOTA       ND          38         44        36   \n",
       "3668  2016  RHODE ISLAND       RI          44         15         5   \n",
       "\n",
       "            office                      candidate        party_detailed  \\\n",
       "3731  US PRESIDENT  DE LA FUENTE, ROQUE \"\"ROCKY\"\"  AMERICAN DELTA PARTY   \n",
       "3490  US PRESIDENT               CLINTON, HILLARY              DEMOCRAT   \n",
       "3638  US PRESIDENT               TRUMP, DONALD J.            REPUBLICAN   \n",
       "3668  US PRESIDENT  DE LA FUENTE, ROQUE \"\"ROCKY\"\"  AMERICAN DELTA PARTY   \n",
       "\n",
       "     writein  candidatevotes  totalvotes   version  notes party_simplified  \n",
       "3731   False            1502     2976150  20210113    NaN            OTHER  \n",
       "3490   False         3090729     5536424  20210113    NaN         DEMOCRAT  \n",
       "3638   False          216794      344360  20210113    NaN       REPUBLICAN  \n",
       "3668   False             671      464144  20210113    NaN            OTHER  "
      ]
     },
     "execution_count": 75,
     "metadata": {},
     "output_type": "execute_result"
    }
   ],
   "source": [
    "# We load 2016 result separately\n",
    "president = pd.read_csv('SenateData/1976-2020-president.csv')\n",
    "president16 = president[president['year'] == 2016].copy()\n",
    "president16.sample(4) #display format of president election data"
   ]
  },
  {
   "cell_type": "code",
   "execution_count": 76,
   "id": "84a8ea82",
   "metadata": {},
   "outputs": [
    {
     "data": {
      "text/plain": [
       "state      party_simplified\n",
       "ALABAMA    DEMOCRAT            0.343579\n",
       "           LIBERTARIAN         0.020942\n",
       "           OTHER               0.014648\n",
       "           REPUBLICAN          0.620831\n",
       "ALASKA     DEMOCRAT            0.365509\n",
       "                                 ...   \n",
       "WISCONSIN  REPUBLICAN          0.472182\n",
       "WYOMING    DEMOCRAT            0.216289\n",
       "           LIBERTARIAN         0.051343\n",
       "           OTHER               0.058384\n",
       "           REPUBLICAN          0.673984\n",
       "Name: vote_rate, Length: 201, dtype: float64"
      ]
     },
     "execution_count": 76,
     "metadata": {},
     "output_type": "execute_result"
    }
   ],
   "source": [
    "# We add vote rate to each candidate in each state\n",
    "president16['vote_rate'] = president16['candidatevotes']/president16['totalvotes']\n",
    "# We group the data by states and party_simplified (represent small parties, independent, NaN all by 'Others'). \n",
    "# We take sum of vote rates of cadidates from the same party_simplified\n",
    "vote_byparty16 = president16.groupby(['state', 'party_simplified'])['vote_rate'].sum()\n",
    "vote_byparty16"
   ]
  },
  {
   "cell_type": "code",
   "execution_count": 77,
   "id": "6ede7665",
   "metadata": {},
   "outputs": [
    {
     "data": {
      "text/html": [
       "<div>\n",
       "<style scoped>\n",
       "    .dataframe tbody tr th:only-of-type {\n",
       "        vertical-align: middle;\n",
       "    }\n",
       "\n",
       "    .dataframe tbody tr th {\n",
       "        vertical-align: top;\n",
       "    }\n",
       "\n",
       "    .dataframe thead th {\n",
       "        text-align: right;\n",
       "    }\n",
       "</style>\n",
       "<table border=\"1\" class=\"dataframe\">\n",
       "  <thead>\n",
       "    <tr style=\"text-align: right;\">\n",
       "      <th></th>\n",
       "      <th>party_simplified</th>\n",
       "      <th>party_vote_rate</th>\n",
       "    </tr>\n",
       "    <tr>\n",
       "      <th>candidate</th>\n",
       "      <th></th>\n",
       "      <th></th>\n",
       "    </tr>\n",
       "  </thead>\n",
       "  <tbody>\n",
       "    <tr>\n",
       "      <th>DAVID DREW KNIGHT</th>\n",
       "      <td>DEMOCRAT</td>\n",
       "      <td>0.384496</td>\n",
       "    </tr>\n",
       "    <tr>\n",
       "      <th>TED GIANOUTSOS</th>\n",
       "      <td>OTHER</td>\n",
       "      <td>0.062905</td>\n",
       "    </tr>\n",
       "    <tr>\n",
       "      <th>MARK W. TURLEY</th>\n",
       "      <td>OTHER</td>\n",
       "      <td>0.013821</td>\n",
       "    </tr>\n",
       "    <tr>\n",
       "      <th>WILLIAM ROBERT LANG, JR.</th>\n",
       "      <td>OTHER</td>\n",
       "      <td>0.015900</td>\n",
       "    </tr>\n",
       "    <tr>\n",
       "      <th>JOHNNY ISAKSON</th>\n",
       "      <td>REPUBLICAN</td>\n",
       "      <td>0.507713</td>\n",
       "    </tr>\n",
       "  </tbody>\n",
       "</table>\n",
       "</div>"
      ],
      "text/plain": [
       "                         party_simplified  party_vote_rate\n",
       "candidate                                                 \n",
       "DAVID DREW KNIGHT                DEMOCRAT         0.384496\n",
       "TED GIANOUTSOS                      OTHER         0.062905\n",
       "MARK W. TURLEY                      OTHER         0.013821\n",
       "WILLIAM ROBERT LANG, JR.            OTHER         0.015900\n",
       "JOHNNY ISAKSON                 REPUBLICAN         0.507713"
      ]
     },
     "execution_count": 77,
     "metadata": {},
     "output_type": "execute_result"
    }
   ],
   "source": [
    "# We create feature dataframe and add in party_simplified, party vote rate in most recent presidential election, and final vote rate\n",
    "# If the senate candidate's affiliated party does not show up in the most recent president election, party_vote_rate is 0\n",
    "party_features = candidate_info_byname[['party_simplified']].copy()\n",
    "for name in party_features.index:\n",
    "    state_ = candidate_info_byname.loc[name, 'state']\n",
    "    party_ = candidate_info_byname.loc[name, 'party_simplified']\n",
    "    if party_ in vote_byparty16[state_].index:  #check whether the affiliated party is in recent president election\n",
    "        party_features.loc[name, 'party_vote_rate'] = vote_byparty16[state_][party_]\n",
    "    else: \n",
    "        party_features.loc[name, 'party_vote_rate'] = 0\n",
    "        \n",
    "party_features.sample(5)"
   ]
  },
  {
   "cell_type": "code",
   "execution_count": 113,
   "id": "99f95b9e",
   "metadata": {},
   "outputs": [
    {
     "name": "stdout",
     "output_type": "stream",
     "text": [
      "we have feature vectors from 171 candidates, each with dimension 11\n"
     ]
    }
   ],
   "source": [
    "# We get the candidates used for model and extract the vector corresponding to affliated party's performance in last election\n",
    "candidates_model = candidate_quotes_cluster_feature_filted.T.index\n",
    "party_vote_model = party_features.loc[candidates_model].party_vote_rate\n",
    "# We then concatenate this vector to our model\n",
    "features = np.concatenate((candidate_feature_vectors_sum, party_vote_model.to_numpy()[:, np.newaxis]), axis=1)\n",
    "print('we have feature vectors from {} candidates, each with dimension {}'.format(features.shape[0], features.shape[1]))"
   ]
  },
  {
   "cell_type": "code",
   "execution_count": 114,
   "id": "5487ec7d",
   "metadata": {},
   "outputs": [
    {
     "name": "stdout",
     "output_type": "stream",
     "text": [
      "we have 68 winner candidates and 103 loser candidate\n"
     ]
    }
   ],
   "source": [
    "# we also obtain the corresponding labels, with 0 meaning lose and 1 meaning win\n",
    "labels = candidate_info.set_index('candidate').loc[candidates_model].is_winner.astype(int).to_numpy()\n",
    "print('we have {} winner candidates and {} loser candidate'.format(sum(labels), len(labels) - sum(labels)))\n"
   ]
  },
  {
   "cell_type": "code",
   "execution_count": 115,
   "id": "7da278ff",
   "metadata": {},
   "outputs": [
    {
     "name": "stdout",
     "output_type": "stream",
     "text": [
      "we have 128 training data and 43 test data\n"
     ]
    }
   ],
   "source": [
    "# This helps split the data if we want to split train and test\n",
    "from sklearn.model_selection import train_test_split\n",
    "X_train, X_test, y_train, y_test = train_test_split(features, labels, test_size=0.25, random_state=123)\n",
    "print('we have {} training data and {} test data'.format(len(y_train), len(y_test)))"
   ]
  },
  {
   "cell_type": "markdown",
   "id": "47a07ffb",
   "metadata": {},
   "source": [
    "**4.3:** We build a Logistic Regression Model to predict the result"
   ]
  },
  {
   "cell_type": "code",
   "execution_count": 116,
   "id": "be8a56dd",
   "metadata": {},
   "outputs": [],
   "source": [
    "from sklearn.linear_model import LogisticRegression\n",
    "from sklearn.model_selection import cross_val_predict, cross_val_score\n",
    "from sklearn.metrics import accuracy_score, f1_score"
   ]
  },
  {
   "cell_type": "markdown",
   "id": "b7cfc3c5",
   "metadata": {},
   "source": [
    "We use 5-fold cross-validation on the whole dataset, to see how well logistic regression can perform on training set."
   ]
  },
  {
   "cell_type": "code",
   "execution_count": 117,
   "id": "38cbe6f0",
   "metadata": {},
   "outputs": [
    {
     "name": "stdout",
     "output_type": "stream",
     "text": [
      "Cross-Validated Training Precision: 0.72 (+/- 0.22)\n",
      "Cross-Validated Training Recall: 0.43 (+/- 0.20)\n"
     ]
    }
   ],
   "source": [
    "logistic = LogisticRegression(solver='lbfgs')\n",
    "precision = cross_val_score(logistic, X_train, y_train, cv=5, scoring=\"precision\")\n",
    "recall = cross_val_score(logistic, X_train, y_train, cv=5, scoring=\"recall\")\n",
    "# Precision: avoid false positives\n",
    "print(\"Cross-Validated Training Precision: %0.2f (+/- %0.2f)\" % (precision.mean(), precision.std() * 2))\n",
    "# Recall: avoid false negatives\n",
    "print(\"Cross-Validated Training Recall: %0.2f (+/- %0.2f)\" % (recall.mean(), recall.std() * 2))"
   ]
  },
  {
   "cell_type": "markdown",
   "id": "0a1fef99",
   "metadata": {},
   "source": [
    "Then, we train the logistic regression on the traing dataset and predict the test dataset"
   ]
  },
  {
   "cell_type": "code",
   "execution_count": 83,
   "id": "25de09bc",
   "metadata": {},
   "outputs": [
    {
     "name": "stdout",
     "output_type": "stream",
     "text": [
      "On the test dataset, we obtain accuracy 0.7441860465116279 and f1 score 0.6666666666666666\n"
     ]
    }
   ],
   "source": [
    "logistic = LogisticRegression(solver='lbfgs')\n",
    "logistic.fit(X_train, y_train) # train the model\n",
    "y_preds = logistic.predict(X_test)\n",
    "accuracy = accuracy_score(y_test, y_preds)\n",
    "f1 = f1_score(y_test, y_preds)\n",
    "print(\"On the test dataset, we obtain accuracy {} and f1 score {}\".format(accuracy, f1))"
   ]
  },
  {
   "cell_type": "markdown",
   "id": "2da3fd18",
   "metadata": {},
   "source": [
    "We then apply the XGBoost. "
   ]
  },
  {
   "cell_type": "code",
   "execution_count": 84,
   "id": "1b34af76",
   "metadata": {},
   "outputs": [
    {
     "name": "stdout",
     "output_type": "stream",
     "text": [
      "Cross-Validated Training Precision: 0.73 (+/- 0.35)\n",
      "Cross-Validated Training Recall: 0.69 (+/- 0.23)\n"
     ]
    }
   ],
   "source": [
    "import xgboost as xgb\n",
    "# logistic = LogisticRegression(solver='lbfgs')\n",
    "clf = xgb.XGBClassifier(\n",
    "    n_estimators=100,\n",
    "    reg_lambda=0.5,\n",
    "    gamma=1,\n",
    "    max_depth=1,\n",
    "    use_label_encoder=False,\n",
    "    eval_metric='mlogloss'\n",
    ")\n",
    "precision = cross_val_score(clf, X_train, y_train, cv=5, scoring=\"precision\")\n",
    "recall = cross_val_score(clf, X_train, y_train, cv=5, scoring=\"recall\")\n",
    "# Precision: avoid false positives\n",
    "print(\"Cross-Validated Training Precision: %0.2f (+/- %0.2f)\" % (precision.mean(), precision.std() * 2))\n",
    "# Recall: avoid false negatives\n",
    "print(\"Cross-Validated Training Recall: %0.2f (+/- %0.2f)\" % (recall.mean(), recall.std() * 2))"
   ]
  },
  {
   "cell_type": "code",
   "execution_count": 85,
   "id": "863245c7",
   "metadata": {},
   "outputs": [
    {
     "name": "stdout",
     "output_type": "stream",
     "text": [
      "On the test dataset, we obtain accuracy 0.9069767441860465 and f1 score 0.9\n"
     ]
    }
   ],
   "source": [
    "\n",
    "# read in data\n",
    "clf.fit(X_train, y_train)\n",
    "y_preds = clf.predict(X_test)\n",
    "accuracy = accuracy_score(y_test, y_preds)\n",
    "f1 = f1_score(y_test, y_preds)\n",
    "print(\"On the test dataset, we obtain accuracy {} and f1 score {}\".format(accuracy, f1))"
   ]
  },
  {
   "cell_type": "markdown",
   "id": "de0b4e76",
   "metadata": {
    "jp-MarkdownHeadingCollapsed": true,
    "tags": []
   },
   "source": [
    "# 5. Sentiment Analysis"
   ]
  },
  {
   "cell_type": "code",
   "execution_count": 86,
   "id": "241cd01f",
   "metadata": {},
   "outputs": [],
   "source": [
    "# Obtain quotation's sentiment toward mentioned candidates\n",
    "import bz2\n",
    "import json\n",
    "from vaderSentiment.vaderSentiment import SentimentIntensityAnalyzer\n",
    "import pickle\n",
    "analyzer = SentimentIntensityAnalyzer()\n",
    "from collections import defaultdict\n",
    "\n",
    "\n",
    "senate_candidates = list(map(lambda x:x.title(), senate_candidates))\n",
    "senate_candidates_sentiment = defaultdict(list)\n",
    "\n",
    "#candidate_quotes_mention = pd.read_pickle('SenateData/candidate_quotes_mention.pkl') \n",
    "# The above line was used to load previously stored mention data, no need to run it if you have run the above cells\n",
    "candidate_quotes_mention['quotation_score'] =  candidate_quotes_mention.apply(lambda x: analyzer.polarity_scores(x['quotation'])['compound'], axis=1)\n",
    "scale = candidate_quotes_mention['normalize_factor'].max() \n",
    "# we will divide the above scale factor when normalizing sentiment, to make sure the normalized sentimate still range from -1 to 1\n",
    "candidate_quotes_mention['normalize_quotation_score'] = candidate_quotes_mention['quotation_score']*(candidate_quotes_mention['normalize_factor']/scale)\n",
    "for index, instance in candidate_quotes_mention.iterrows():\n",
    "    senate_candidates_sentiment[instance['mention']].append((instance['date'].date(), instance['quotation_score']))\n",
    "\n",
    "# The function to extract sentiment of the sentence\n",
    "def obtain_mean_sentiment(sentiment_list, time_span=None):\n",
    "    # sentiment_list consists of (date, sentiment), we obtain mean sentiment in each timespan\n",
    "    # time span (date_lower: str, date upper: str) \n",
    "    if time_span is None:\n",
    "        return sum(map(lambda x: x[1], sentiment_list)) / len(sentiment_list)\n",
    "    date_start=pd.to_datetime(time_span[0], format='%Y-%m-%d') \n",
    "    date_end=pd.to_datetime(time_span[1], format='%Y-%m-%d')\n",
    "    filtered_sentiment_list = list(filter(lambda x: date_start <= pd.to_datetime(x[0], format='%Y-%m-%d')  < date_end, sentiment_list))\n",
    "    return sum(map(lambda x: x[1], filtered_sentiment_list)) / max(len(filtered_sentiment_list),1)"
   ]
  },
  {
   "cell_type": "markdown",
   "id": "4a532eb5",
   "metadata": {},
   "source": [
    "We can visualize the sentiment changes toward each candidate over time. We take Bernie Sanders as an example."
   ]
  },
  {
   "cell_type": "code",
   "execution_count": 87,
   "id": "42981a07",
   "metadata": {},
   "outputs": [
    {
     "data": {
      "text/plain": [
       "Text(0.5, 1.0, 'Bernie Sanders')"
      ]
     },
     "execution_count": 87,
     "metadata": {},
     "output_type": "execute_result"
    },
    {
     "data": {
      "image/png": "[encoded data removed]",
      "text/plain": [
       "<Figure size 432x288 with 1 Axes>"
      ]
     },
     "metadata": {
      "needs_background": "light"
     },
     "output_type": "display_data"
    }
   ],
   "source": [
    "# Group sentiment scores by candidates and dates, average the score in each day\n",
    "candidate_senti_byday = candidate_quotes_mention.groupby(['mention', 'date_only'])['normalize_quotation_score'].mean()\n",
    "# Visualize the sentiment change of Bernie Sanders\n",
    "candidate_senti_byday['BERNIE SANDERS'].rolling(window=30).mean().plot() # we take monthly average for better display\n",
    "plt.xlabel('time')\n",
    "plt.ylabel('Sentiment Score (monthly average)')\n",
    "plt.title('Bernie Sanders')"
   ]
  },
  {
   "cell_type": "markdown",
   "id": "5362af72",
   "metadata": {},
   "source": [
    "We then look at the average sentiment toward each candidate within a year before the election. We can compare this to the final vote rate, so that we know whether the sentiment displayed in quotations reflect support rate."
   ]
  },
  {
   "cell_type": "code",
   "execution_count": 88,
   "id": "0a9159ac",
   "metadata": {},
   "outputs": [],
   "source": [
    "# We group the quotations within 1 year before election day\n",
    "quotes_byelection = candidate_quotes_mention[candidate_quotes_mention['date_only'] < candidate_quotes_mention['election_day']]\n",
    "start_date = pd.to_datetime(quotes_byelection ['mention'].map(candidate_info_byname['year'] - 1).astype(str)+ '-11-01') # start date 1 yr before election\n",
    "quotes_byelection = quotes_byelection[quotes_byelection['date_only'] > start_date] # all quotes within 1 year before election\n",
    "# We compute the mean sentiment within that year\n",
    "senti_byelection = pd.DataFrame(quotes_byelection.groupby(['mention'])['normalize_quotation_score'].mean())\n",
    "senti_byelection.rename(columns = {'normalize_quotation_score': 'mean_sentiment_byelection'}, inplace=True)\n"
   ]
  },
  {
   "cell_type": "code",
   "execution_count": 89,
   "id": "bebcfadb",
   "metadata": {},
   "outputs": [
    {
     "name": "stdout",
     "output_type": "stream",
     "text": [
      "Pearson coefficient: -0.10998685465657197, p value: 0.09323745970762687\n"
     ]
    },
    {
     "data": {
      "image/png": "[encoded data removed]",
      "text/plain": [
       "<Figure size 432x288 with 1 Axes>"
      ]
     },
     "metadata": {
      "needs_background": "light"
     },
     "output_type": "display_data"
    }
   ],
   "source": [
    "# We add the vote rate and plot the scatter plot of vote rate against total quotes by election\n",
    "senti_byelection['vote_rate'] = senti_byelection.index.map(candidate_info_byname['vote_rate'])\n",
    "\n",
    "# linear regression\n",
    "senti_vote = senti_byelection.plot.scatter(x = 'mean_sentiment_byelection', y = 'vote_rate', logx=True)\n",
    "(corr1, pvalue) = pearsonr(senti_byelection['mean_sentiment_byelection'], senti_byelection['vote_rate'])\n",
    "print(f'Pearson coefficient: {corr1}, p value: {pvalue}')"
   ]
  },
  {
   "cell_type": "markdown",
   "id": "86104964",
   "metadata": {},
   "source": [
    "We find that the p-value > 0.05. However, if we discard those which has low vote_rate (< 1%), we would find a negative relation exist in vote rate and mean sentiment."
   ]
  },
  {
   "cell_type": "code",
   "execution_count": 90,
   "id": "a30bc88a",
   "metadata": {},
   "outputs": [
    {
     "name": "stdout",
     "output_type": "stream",
     "text": [
      "Pearson coefficient: -0.14221865107938755, p value: 0.03996084568718259\n"
     ]
    },
    {
     "data": {
      "image/png": "[encoded data removed]",
      "text/plain": [
       "<Figure size 432x288 with 1 Axes>"
      ]
     },
     "metadata": {
      "needs_background": "light"
     },
     "output_type": "display_data"
    }
   ],
   "source": [
    "senti_byelection['vote_rate'] = senti_byelection.index.map(candidate_info_byname['vote_rate'])\n",
    "senti_byelection = senti_byelection[senti_byelection['vote_rate'] > 0.01]\n",
    "# linear regression\n",
    "senti_vote = senti_byelection.plot.scatter(x = 'mean_sentiment_byelection', y = 'vote_rate', logx=True)\n",
    "(corr1, pvalue) = pearsonr(senti_byelection['mean_sentiment_byelection'], senti_byelection['vote_rate'])\n",
    "print(f'Pearson coefficient: {corr1}, p value: {pvalue}')"
   ]
  },
  {
   "cell_type": "markdown",
   "id": "8286d02c",
   "metadata": {},
   "source": [
    "Such observation seems to be contrary to the intuition that favorable people will recieve more votes. There are two possible explaination for this: (1) the mention data are limited and the correlation is spurious. (2) Those who adopt a middle way campaign strategy will be likely to receive more votes. "
   ]
  },
  {
   "cell_type": "markdown",
   "id": "fdfb9a52",
   "metadata": {
    "jp-MarkdownHeadingCollapsed": true,
    "tags": []
   },
   "source": [
    "## 3. Features for Prediction Model (This is the OLD CODE)\n",
    "In the proposal, we decide to build a model predicting election results based on quotation data. Here, we preprocess the quote data and candidate data to generate the features for training our model.\n",
    "\n",
    "The first feature is the change of quotation number over time. We will also use this for clustering analysis in proposed question 3."
   ]
  },
  {
   "cell_type": "code",
   "execution_count": 91,
   "id": "7a550200",
   "metadata": {},
   "outputs": [],
   "source": [
    "date_start=pd.to_datetime('2015-01-01', format='%Y-%m-%d') \n",
    "all_date = (pd.to_datetime('2020-12-31', format='%Y-%m-%d') - date_start).days # number of days.\n",
    "candidate_quotes_name = candidate_quotes_byday.index.map(lambda x:x[0]).drop_duplicates()\n",
    "candidate_quotes_feature = pd.DataFrame(np.zeros([all_date,len(candidate_quotes_name)]), columns=candidate_quotes_name) # initialize frequency vector\n",
    "\n",
    "for candidate in candidate_quotes_name:\n",
    "    candidate_mention = candidate_quotes_byday[candidate]\n",
    "    for date in candidate_mention.index:\n",
    "        date2days = (pd.to_datetime(date, format='%Y-%m-%d') - date_start).days # convert date to num of days w.r.t. start date\n",
    "        candidate_quotes_feature[candidate].iloc[date2days] = candidate_mention.loc[date]"
   ]
  },
  {
   "cell_type": "code",
   "execution_count": 92,
   "id": "f5fda582-1c44-4dd5-8678-8915cc5d3328",
   "metadata": {},
   "outputs": [
    {
     "data": {
      "text/plain": [
       "speaker           date_only \n",
       "A. WAYNE JOHNSON  2015-01-06    0.601997\n",
       "                  2015-02-09    0.602585\n",
       "                  2015-02-11    1.205169\n",
       "                  2015-02-20    0.602585\n",
       "                  2015-03-01    0.535357\n",
       "                                  ...   \n",
       "ZAK RINGELSTEIN   2018-10-30    5.125275\n",
       "                  2018-11-01    2.381878\n",
       "                  2018-11-05    0.476376\n",
       "                  2018-11-07    0.476376\n",
       "                  2019-03-21    0.503878\n",
       "Name: normalize_quotes, Length: 136070, dtype: float64"
      ]
     },
     "execution_count": 92,
     "metadata": {},
     "output_type": "execute_result"
    }
   ],
   "source": [
    "candidate_quotes_byday"
   ]
  },
  {
   "cell_type": "markdown",
   "id": "0e62d3a6",
   "metadata": {},
   "source": [
    "We also include the party affiliation of each candidate. Moreover, we also consider the affiliated party's vote rate in the most recent presidential election. Since we are looking at the election from 2016 to 2021, we will use the 2016 presidential election data for the senate election from 2016 to 2019, and use the 2020 presidential election data for the senate election from 2020 to 2021.\n",
    "\n",
    "The presidential election data also comes from the MIT Election Data and Science Lab[2]. It contains the presidential election voting result by each state.\n",
    "\n",
    "[2]MIT Election Data and Science Lab, 2017, \"U.S. President 1976–2020\", https://doi.org/10.7910/DVN/42MVDX, Harvard Dataverse, V6."
   ]
  },
  {
   "cell_type": "code",
   "execution_count": 93,
   "id": "9d307c4a",
   "metadata": {},
   "outputs": [
    {
     "data": {
      "text/html": [
       "<div>\n",
       "<style scoped>\n",
       "    .dataframe tbody tr th:only-of-type {\n",
       "        vertical-align: middle;\n",
       "    }\n",
       "\n",
       "    .dataframe tbody tr th {\n",
       "        vertical-align: top;\n",
       "    }\n",
       "\n",
       "    .dataframe thead th {\n",
       "        text-align: right;\n",
       "    }\n",
       "</style>\n",
       "<table border=\"1\" class=\"dataframe\">\n",
       "  <thead>\n",
       "    <tr style=\"text-align: right;\">\n",
       "      <th></th>\n",
       "      <th>year</th>\n",
       "      <th>state</th>\n",
       "      <th>state_po</th>\n",
       "      <th>state_fips</th>\n",
       "      <th>state_cen</th>\n",
       "      <th>state_ic</th>\n",
       "      <th>office</th>\n",
       "      <th>candidate</th>\n",
       "      <th>party_detailed</th>\n",
       "      <th>writein</th>\n",
       "      <th>candidatevotes</th>\n",
       "      <th>totalvotes</th>\n",
       "      <th>version</th>\n",
       "      <th>notes</th>\n",
       "      <th>party_simplified</th>\n",
       "    </tr>\n",
       "  </thead>\n",
       "  <tbody>\n",
       "    <tr>\n",
       "      <th>3558</th>\n",
       "      <td>2016</td>\n",
       "      <td>MINNESOTA</td>\n",
       "      <td>MN</td>\n",
       "      <td>27</td>\n",
       "      <td>41</td>\n",
       "      <td>33</td>\n",
       "      <td>US PRESIDENT</td>\n",
       "      <td>CLINTON, HILLARY</td>\n",
       "      <td>DEMOCRAT</td>\n",
       "      <td>False</td>\n",
       "      <td>1367705</td>\n",
       "      <td>2944782</td>\n",
       "      <td>20210113</td>\n",
       "      <td>NaN</td>\n",
       "      <td>DEMOCRAT</td>\n",
       "    </tr>\n",
       "    <tr>\n",
       "      <th>3577</th>\n",
       "      <td>2016</td>\n",
       "      <td>MISSOURI</td>\n",
       "      <td>MO</td>\n",
       "      <td>29</td>\n",
       "      <td>43</td>\n",
       "      <td>34</td>\n",
       "      <td>US PRESIDENT</td>\n",
       "      <td>JOHNSON, GARY</td>\n",
       "      <td>LIBERTARIAN</td>\n",
       "      <td>False</td>\n",
       "      <td>97359</td>\n",
       "      <td>2808605</td>\n",
       "      <td>20210113</td>\n",
       "      <td>NaN</td>\n",
       "      <td>LIBERTARIAN</td>\n",
       "    </tr>\n",
       "    <tr>\n",
       "      <th>3438</th>\n",
       "      <td>2016</td>\n",
       "      <td>COLORADO</td>\n",
       "      <td>CO</td>\n",
       "      <td>8</td>\n",
       "      <td>84</td>\n",
       "      <td>62</td>\n",
       "      <td>US PRESIDENT</td>\n",
       "      <td>DE LA FUENTE, ROQUE \"\"ROCKY\"\"</td>\n",
       "      <td>AMERICAN DELTA PARTY</td>\n",
       "      <td>False</td>\n",
       "      <td>1255</td>\n",
       "      <td>2780220</td>\n",
       "      <td>20210113</td>\n",
       "      <td>NaN</td>\n",
       "      <td>OTHER</td>\n",
       "    </tr>\n",
       "    <tr>\n",
       "      <th>3696</th>\n",
       "      <td>2016</td>\n",
       "      <td>VERMONT</td>\n",
       "      <td>VT</td>\n",
       "      <td>50</td>\n",
       "      <td>13</td>\n",
       "      <td>6</td>\n",
       "      <td>US PRESIDENT</td>\n",
       "      <td>TRUMP, DONALD J.</td>\n",
       "      <td>REPUBLICAN</td>\n",
       "      <td>False</td>\n",
       "      <td>95369</td>\n",
       "      <td>320467</td>\n",
       "      <td>20210113</td>\n",
       "      <td>NaN</td>\n",
       "      <td>REPUBLICAN</td>\n",
       "    </tr>\n",
       "  </tbody>\n",
       "</table>\n",
       "</div>"
      ],
      "text/plain": [
       "      year      state state_po  state_fips  state_cen  state_ic        office  \\\n",
       "3558  2016  MINNESOTA       MN          27         41        33  US PRESIDENT   \n",
       "3577  2016   MISSOURI       MO          29         43        34  US PRESIDENT   \n",
       "3438  2016   COLORADO       CO           8         84        62  US PRESIDENT   \n",
       "3696  2016    VERMONT       VT          50         13         6  US PRESIDENT   \n",
       "\n",
       "                          candidate        party_detailed writein  \\\n",
       "3558               CLINTON, HILLARY              DEMOCRAT   False   \n",
       "3577                  JOHNSON, GARY           LIBERTARIAN   False   \n",
       "3438  DE LA FUENTE, ROQUE \"\"ROCKY\"\"  AMERICAN DELTA PARTY   False   \n",
       "3696               TRUMP, DONALD J.            REPUBLICAN   False   \n",
       "\n",
       "      candidatevotes  totalvotes   version  notes party_simplified  \n",
       "3558         1367705     2944782  20210113    NaN         DEMOCRAT  \n",
       "3577           97359     2808605  20210113    NaN      LIBERTARIAN  \n",
       "3438            1255     2780220  20210113    NaN            OTHER  \n",
       "3696           95369      320467  20210113    NaN       REPUBLICAN  "
      ]
     },
     "execution_count": 93,
     "metadata": {},
     "output_type": "execute_result"
    }
   ],
   "source": [
    "# We load 2016 and 2020 result separately\n",
    "president = pd.read_csv('SenateData/1976-2020-president.csv')\n",
    "president16 = president[president['year'] == 2016].copy()\n",
    "president20 = president[president['year'] == 2020].copy()\n",
    "president16.sample(4) #display format of president election data"
   ]
  },
  {
   "cell_type": "code",
   "execution_count": 94,
   "id": "e10bd410",
   "metadata": {},
   "outputs": [],
   "source": [
    "# We add vote rate to each candidate in each state\n",
    "president16['vote_rate'] = president16['candidatevotes']/president16['totalvotes']\n",
    "president20['vote_rate'] = president20['candidatevotes']/president20['totalvotes']"
   ]
  },
  {
   "cell_type": "code",
   "execution_count": 95,
   "id": "036b6612",
   "metadata": {},
   "outputs": [
    {
     "data": {
      "text/plain": [
       "state      party_simplified\n",
       "ALABAMA    DEMOCRAT            0.343579\n",
       "           LIBERTARIAN         0.020942\n",
       "           OTHER               0.014648\n",
       "           REPUBLICAN          0.620831\n",
       "ALASKA     DEMOCRAT            0.365509\n",
       "                                 ...   \n",
       "WISCONSIN  REPUBLICAN          0.472182\n",
       "WYOMING    DEMOCRAT            0.216289\n",
       "           LIBERTARIAN         0.051343\n",
       "           OTHER               0.058384\n",
       "           REPUBLICAN          0.673984\n",
       "Name: vote_rate, Length: 201, dtype: float64"
      ]
     },
     "execution_count": 95,
     "metadata": {},
     "output_type": "execute_result"
    }
   ],
   "source": [
    "# We group the data by states and party_simplified (represent small parties, independent, NaN all by 'Others'). \n",
    "# We take sum of vote rates of cadidates from the same party_simplified\n",
    "vote_byparty16 = president16.groupby(['state', 'party_simplified'])['vote_rate'].sum()\n",
    "vote_byparty20 = president20.groupby(['state', 'party_simplified'])['vote_rate'].sum()\n",
    "vote_byparty16"
   ]
  },
  {
   "cell_type": "code",
   "execution_count": 96,
   "id": "0e25e62d",
   "metadata": {},
   "outputs": [],
   "source": [
    "# We create feature dataframe and add in party_simplified, party vote rate in most recent presidential election, and final vote rate\n",
    "# If the senate candidate's affiliated party does not show up in the most recent president election, party_vote_rate is 0\n",
    "features = candidate_info_byname[['party_simplified', 'vote_rate']].copy()\n",
    "for name in features.index:\n",
    "    state_ = candidate_info_byname.loc[name, 'state']\n",
    "    party_ = candidate_info_byname.loc[name, 'party_simplified']\n",
    "    if candidate_info_byname.loc[name, 'year'] < 2020: #for candidate before 2020\n",
    "        if party_ in vote_byparty16[state_].index:  #check whether the affiliated party is in recent president election\n",
    "            features.loc[name, 'party_vote_rate'] = vote_byparty16[state_][party_]\n",
    "        else: \n",
    "            features.loc[name, 'party_vote_rate'] = 0\n",
    "    else:\n",
    "        if party_ in vote_byparty20[state_].index: \n",
    "            features.loc[name, 'party_vote_rate'] = vote_byparty20[state_][party_]\n",
    "        else: \n",
    "            features.loc[name, 'party_vote_rate'] = 0"
   ]
  },
  {
   "cell_type": "markdown",
   "id": "a0f6e1c4-eb2d-452f-b697-a833e7c0ce7a",
   "metadata": {
    "jp-MarkdownHeadingCollapsed": true,
    "tags": []
   },
   "source": [
    "# 4. statistics of sentence complexity (ALSO OLD Code)"
   ]
  },
  {
   "cell_type": "markdown",
   "id": "48abacfb-91b9-4177-9c27-14d76114f0e0",
   "metadata": {},
   "source": [
    "We also calculated the average length of sentence and word of each quotation. This information may be used in our analysis about speech style (question 6)."
   ]
  },
  {
   "cell_type": "code",
   "execution_count": null,
   "id": "c22ad51d-32f3-4e9f-821f-912eaba1d640",
   "metadata": {},
   "outputs": [],
   "source": [
    "# calculate average sentence length (by word number)\n",
    "import re\n",
    "candidate_quotes['split_quotation']=candidate_quotes.quotation.map(lambda x:re.split(r'\\.|!|\\?',x))\n",
    "candidate_quotes['split_quotation']=candidate_quotes.split_quotation.map(lambda x:list(filter(None, x))) # remove empty string\n",
    "candidate_quotes['avg_sentence_length'] = candidate_quotes.split_quotation.map(lambda x:np.mean(list(map(lambda s:len(s.split()), x))))\n",
    "candidate_quotes.head(4)"
   ]
  },
  {
   "cell_type": "code",
   "execution_count": null,
   "id": "4b7ad7c8-5cbe-4728-9878-dea36503f42f",
   "metadata": {},
   "outputs": [
    {
     "data": {
      "text/html": [
       "<div>\n",
       "<style scoped>\n",
       "    .dataframe tbody tr th:only-of-type {\n",
       "        vertical-align: middle;\n",
       "    }\n",
       "\n",
       "    .dataframe tbody tr th {\n",
       "        vertical-align: top;\n",
       "    }\n",
       "\n",
       "    .dataframe thead th {\n",
       "        text-align: right;\n",
       "    }\n",
       "</style>\n",
       "<table border=\"1\" class=\"dataframe\">\n",
       "  <thead>\n",
       "    <tr style=\"text-align: right;\">\n",
       "      <th></th>\n",
       "      <th>quoteID</th>\n",
       "      <th>quotation</th>\n",
       "      <th>speaker</th>\n",
       "      <th>qids</th>\n",
       "      <th>date</th>\n",
       "      <th>numOccurrences</th>\n",
       "      <th>probas</th>\n",
       "      <th>urls</th>\n",
       "      <th>phase</th>\n",
       "      <th>domains</th>\n",
       "      <th>date_only</th>\n",
       "      <th>election_day</th>\n",
       "      <th>split_quotation</th>\n",
       "      <th>avg_sentence_length</th>\n",
       "      <th>split_words</th>\n",
       "      <th>avg_word_length</th>\n",
       "    </tr>\n",
       "  </thead>\n",
       "  <tbody>\n",
       "    <tr>\n",
       "      <th>0</th>\n",
       "      <td>2015-08-31-000271</td>\n",
       "      <td>... a great day for veterans here in Littleton...</td>\n",
       "      <td>JEANNE SHAHEEN</td>\n",
       "      <td>[Q270316]</td>\n",
       "      <td>2015-08-31 02:10:00</td>\n",
       "      <td>2</td>\n",
       "      <td>[[Jeanne Shaheen, 0.742], [None, 0.2359], [Kel...</td>\n",
       "      <td>[http://www.unionleader.com/article/20150831/N...</td>\n",
       "      <td>E</td>\n",
       "      <td>[com, com]</td>\n",
       "      <td>2015-08-31</td>\n",
       "      <td>2020-11-01</td>\n",
       "      <td>[ a great day for veterans here in Littleton a...</td>\n",
       "      <td>21.500000</td>\n",
       "      <td>[..., a, great, day, for, veterans, here, in, ...</td>\n",
       "      <td>4.318182</td>\n",
       "    </tr>\n",
       "    <tr>\n",
       "      <th>1</th>\n",
       "      <td>2015-10-25-000242</td>\n",
       "      <td>' It is not now, nor has it ever been, the gol...</td>\n",
       "      <td>BERNIE SANDERS</td>\n",
       "      <td>[Q359442]</td>\n",
       "      <td>2015-10-25 14:12:35</td>\n",
       "      <td>1</td>\n",
       "      <td>[[Bernie Sanders, 0.5395], [None, 0.3128], [Hi...</td>\n",
       "      <td>[http://examiner.com/article/bernie-sanders-sl...</td>\n",
       "      <td>E</td>\n",
       "      <td>[com]</td>\n",
       "      <td>2015-10-25</td>\n",
       "      <td>2018-11-01</td>\n",
       "      <td>[' It is not now, nor has it ever been, the go...</td>\n",
       "      <td>24.333333</td>\n",
       "      <td>[', It, is, not, now,, nor, has, it, ever, bee...</td>\n",
       "      <td>3.931507</td>\n",
       "    </tr>\n",
       "    <tr>\n",
       "      <th>2</th>\n",
       "      <td>2015-11-13-000427</td>\n",
       "      <td>[ My dad ] saw what a great opportunity it was,</td>\n",
       "      <td>PAUL STANTON</td>\n",
       "      <td>[Q255668, Q27842994]</td>\n",
       "      <td>2015-11-13 08:45:01</td>\n",
       "      <td>1</td>\n",
       "      <td>[[Paul Stanton, 0.6521], [None, 0.3479]]</td>\n",
       "      <td>[http://thecrimson.com/article/2015/11/13/paul...</td>\n",
       "      <td>E</td>\n",
       "      <td>[com]</td>\n",
       "      <td>2015-11-13</td>\n",
       "      <td>2016-11-01</td>\n",
       "      <td>[[ My dad ] saw what a great opportunity it was,]</td>\n",
       "      <td>11.000000</td>\n",
       "      <td>[[, My, dad, ], saw, what, a, great, opportuni...</td>\n",
       "      <td>3.363636</td>\n",
       "    </tr>\n",
       "    <tr>\n",
       "      <th>3</th>\n",
       "      <td>2015-06-26-015863</td>\n",
       "      <td>hurt Michigan workers and cost thousands of Am...</td>\n",
       "      <td>GARY PETERS</td>\n",
       "      <td>[Q1230954, Q1494930, Q5525742, Q56560036]</td>\n",
       "      <td>2015-06-26 22:31:05</td>\n",
       "      <td>1</td>\n",
       "      <td>[[Gary Peters, 0.7907], [None, 0.2093]]</td>\n",
       "      <td>[http://detroitnews.com/story/news/politics/20...</td>\n",
       "      <td>E</td>\n",
       "      <td>[com]</td>\n",
       "      <td>2015-06-26</td>\n",
       "      <td>2020-11-01</td>\n",
       "      <td>[hurt Michigan workers and cost thousands of A...</td>\n",
       "      <td>10.000000</td>\n",
       "      <td>[hurt, Michigan, workers, and, cost, thousands...</td>\n",
       "      <td>6.300000</td>\n",
       "    </tr>\n",
       "  </tbody>\n",
       "</table>\n",
       "</div>"
      ],
      "text/plain": [
       "             quoteID                                          quotation  \\\n",
       "0  2015-08-31-000271  ... a great day for veterans here in Littleton...   \n",
       "1  2015-10-25-000242  ' It is not now, nor has it ever been, the gol...   \n",
       "2  2015-11-13-000427    [ My dad ] saw what a great opportunity it was,   \n",
       "3  2015-06-26-015863  hurt Michigan workers and cost thousands of Am...   \n",
       "\n",
       "          speaker                                       qids  \\\n",
       "0  JEANNE SHAHEEN                                  [Q270316]   \n",
       "1  BERNIE SANDERS                                  [Q359442]   \n",
       "2    PAUL STANTON                       [Q255668, Q27842994]   \n",
       "3     GARY PETERS  [Q1230954, Q1494930, Q5525742, Q56560036]   \n",
       "\n",
       "                 date  numOccurrences  \\\n",
       "0 2015-08-31 02:10:00               2   \n",
       "1 2015-10-25 14:12:35               1   \n",
       "2 2015-11-13 08:45:01               1   \n",
       "3 2015-06-26 22:31:05               1   \n",
       "\n",
       "                                              probas  \\\n",
       "0  [[Jeanne Shaheen, 0.742], [None, 0.2359], [Kel...   \n",
       "1  [[Bernie Sanders, 0.5395], [None, 0.3128], [Hi...   \n",
       "2           [[Paul Stanton, 0.6521], [None, 0.3479]]   \n",
       "3            [[Gary Peters, 0.7907], [None, 0.2093]]   \n",
       "\n",
       "                                                urls phase     domains  \\\n",
       "0  [http://www.unionleader.com/article/20150831/N...     E  [com, com]   \n",
       "1  [http://examiner.com/article/bernie-sanders-sl...     E       [com]   \n",
       "2  [http://thecrimson.com/article/2015/11/13/paul...     E       [com]   \n",
       "3  [http://detroitnews.com/story/news/politics/20...     E       [com]   \n",
       "\n",
       "    date_only election_day                                    split_quotation  \\\n",
       "0  2015-08-31   2020-11-01  [ a great day for veterans here in Littleton a...   \n",
       "1  2015-10-25   2018-11-01  [' It is not now, nor has it ever been, the go...   \n",
       "2  2015-11-13   2016-11-01  [[ My dad ] saw what a great opportunity it was,]   \n",
       "3  2015-06-26   2020-11-01  [hurt Michigan workers and cost thousands of A...   \n",
       "\n",
       "   avg_sentence_length                                        split_words  \\\n",
       "0            21.500000  [..., a, great, day, for, veterans, here, in, ...   \n",
       "1            24.333333  [', It, is, not, now,, nor, has, it, ever, bee...   \n",
       "2            11.000000  [[, My, dad, ], saw, what, a, great, opportuni...   \n",
       "3            10.000000  [hurt, Michigan, workers, and, cost, thousands...   \n",
       "\n",
       "   avg_word_length  \n",
       "0         4.318182  \n",
       "1         3.931507  \n",
       "2         3.363636  \n",
       "3         6.300000  "
      ]
     },
     "execution_count": 33,
     "metadata": {},
     "output_type": "execute_result"
    }
   ],
   "source": [
    "# calculate average word lenghth for each quotation\n",
    "candidate_quotes['split_words'] = candidate_quotes.quotation.map(lambda x:x.split())\n",
    "candidate_quotes['avg_word_length'] = candidate_quotes.split_words.map(lambda x:np.mean(list(map(lambda w:len(w), x))))\n",
    "candidate_quotes.head(4)"
   ]
  }
 ],
 "metadata": {
  "interpreter": {
   "hash": "db666ba5cfc1e6b340ffb8c99ac64e84d1885a4fc4ce42ed4b6eb0071bb1085a"
  },
  "kernelspec": {
   "display_name": "Python 3 (ipykernel)",
   "language": "python",
   "name": "python3"
  },
  "language_info": {
   "codemirror_mode": {
    "name": "ipython",
    "version": 3
   },
   "file_extension": ".py",
   "mimetype": "text/x-python",
   "name": "python",
   "nbconvert_exporter": "python",
   "pygments_lexer": "ipython3",
   "version": "3.8.11"
  }
 },
 "nbformat": 4,
 "nbformat_minor": 5
}
