{
 "cells": [
  {
   "cell_type": "markdown",
   "id": "d23d2ba5",
   "metadata": {},
   "source": [
    "## Quotations indicate the career success of public figures\n",
    "**ChillDataGroup: Zihan Wu, Yinhao Wang, Yihang Chen**"
   ]
  },
  {
   "cell_type": "code",
   "execution_count": 1,
   "id": "4713920f",
   "metadata": {},
   "outputs": [],
   "source": [
    "import pandas as pd\n",
    "import seaborn as sns\n",
    "import numpy as np\n",
    "import matplotlib.pyplot as plt"
   ]
  },
  {
   "cell_type": "markdown",
   "id": "35a243e4",
   "metadata": {},
   "source": [
    "## Load QuoteBank Dataset\n",
    "We refer to the pipeline provided in Google Colab to load the quotations from 2015 to 2020.\n",
    "\n",
    "Due to the large size of data, when loading them, we just load the data said by the senate election since 2015 candidates. The dataset for senate elections is obtained from MIT Election Data and Science Lab [1].\n",
    "\n",
    "We also provide the codes for loading these senate candidate quotations below, but those are run ahead in google colab (takes around 30min for each year's data). We did not re-run them here. It contains the senate election results for all candidates\n",
    "\n",
    "[1] MIT Election Data and Science Lab, 2017, \"U.S. Senate 1976–2020\", https://doi.org/10.7910/DVN/PEJ5QU, Harvard Dataverse, V5."
   ]
  },
  {
   "cell_type": "code",
   "execution_count": 2,
   "id": "01f3f51e",
   "metadata": {},
   "outputs": [],
   "source": [
    "# Pipeline obtained from the course google colab\n",
    "from tld import get_tld\n",
    "\n",
    "def get_domain(url):\n",
    "    res = get_tld(url, as_object=True)\n",
    "    return res.tld"
   ]
  },
  {
   "cell_type": "code",
   "execution_count": 3,
   "id": "a453a63e",
   "metadata": {
    "scrolled": true
   },
   "outputs": [
    {
     "data": {
      "text/html": [
       "<div>\n",
       "<style scoped>\n",
       "    .dataframe tbody tr th:only-of-type {\n",
       "        vertical-align: middle;\n",
       "    }\n",
       "\n",
       "    .dataframe tbody tr th {\n",
       "        vertical-align: top;\n",
       "    }\n",
       "\n",
       "    .dataframe thead th {\n",
       "        text-align: right;\n",
       "    }\n",
       "</style>\n",
       "<table border=\"1\" class=\"dataframe\">\n",
       "  <thead>\n",
       "    <tr style=\"text-align: right;\">\n",
       "      <th></th>\n",
       "      <th>year</th>\n",
       "      <th>state</th>\n",
       "      <th>state_po</th>\n",
       "      <th>state_fips</th>\n",
       "      <th>state_cen</th>\n",
       "      <th>state_ic</th>\n",
       "      <th>office</th>\n",
       "      <th>district</th>\n",
       "      <th>stage</th>\n",
       "      <th>special</th>\n",
       "      <th>candidate</th>\n",
       "      <th>party_detailed</th>\n",
       "      <th>writein</th>\n",
       "      <th>mode</th>\n",
       "      <th>candidatevotes</th>\n",
       "      <th>totalvotes</th>\n",
       "      <th>unofficial</th>\n",
       "      <th>version</th>\n",
       "      <th>party_simplified</th>\n",
       "    </tr>\n",
       "  </thead>\n",
       "  <tbody>\n",
       "    <tr>\n",
       "      <th>1678</th>\n",
       "      <td>2000</td>\n",
       "      <td>MARYLAND</td>\n",
       "      <td>MD</td>\n",
       "      <td>24</td>\n",
       "      <td>52</td>\n",
       "      <td>52</td>\n",
       "      <td>US SENATE</td>\n",
       "      <td>statewide</td>\n",
       "      <td>gen</td>\n",
       "      <td>False</td>\n",
       "      <td>OTHER</td>\n",
       "      <td>NaN</td>\n",
       "      <td>False</td>\n",
       "      <td>total</td>\n",
       "      <td>1594</td>\n",
       "      <td>1946898</td>\n",
       "      <td>False</td>\n",
       "      <td>20210114</td>\n",
       "      <td>OTHER</td>\n",
       "    </tr>\n",
       "    <tr>\n",
       "      <th>549</th>\n",
       "      <td>1984</td>\n",
       "      <td>GEORGIA</td>\n",
       "      <td>GA</td>\n",
       "      <td>13</td>\n",
       "      <td>58</td>\n",
       "      <td>44</td>\n",
       "      <td>US SENATE</td>\n",
       "      <td>statewide</td>\n",
       "      <td>gen</td>\n",
       "      <td>False</td>\n",
       "      <td>OTHER</td>\n",
       "      <td>NaN</td>\n",
       "      <td>False</td>\n",
       "      <td>total</td>\n",
       "      <td>44</td>\n",
       "      <td>1681344</td>\n",
       "      <td>False</td>\n",
       "      <td>20210114</td>\n",
       "      <td>OTHER</td>\n",
       "    </tr>\n",
       "    <tr>\n",
       "      <th>3050</th>\n",
       "      <td>2016</td>\n",
       "      <td>ALABAMA</td>\n",
       "      <td>AL</td>\n",
       "      <td>1</td>\n",
       "      <td>63</td>\n",
       "      <td>41</td>\n",
       "      <td>US SENATE</td>\n",
       "      <td>statewide</td>\n",
       "      <td>gen</td>\n",
       "      <td>False</td>\n",
       "      <td>NaN</td>\n",
       "      <td>NaN</td>\n",
       "      <td>True</td>\n",
       "      <td>total</td>\n",
       "      <td>3631</td>\n",
       "      <td>2087444</td>\n",
       "      <td>False</td>\n",
       "      <td>20210114</td>\n",
       "      <td>OTHER</td>\n",
       "    </tr>\n",
       "    <tr>\n",
       "      <th>2094</th>\n",
       "      <td>2004</td>\n",
       "      <td>SOUTH CAROLINA</td>\n",
       "      <td>SC</td>\n",
       "      <td>45</td>\n",
       "      <td>57</td>\n",
       "      <td>48</td>\n",
       "      <td>US SENATE</td>\n",
       "      <td>statewide</td>\n",
       "      <td>gen</td>\n",
       "      <td>False</td>\n",
       "      <td>NaN</td>\n",
       "      <td>NaN</td>\n",
       "      <td>True</td>\n",
       "      <td>total</td>\n",
       "      <td>1286</td>\n",
       "      <td>1597221</td>\n",
       "      <td>False</td>\n",
       "      <td>20210114</td>\n",
       "      <td>OTHER</td>\n",
       "    </tr>\n",
       "  </tbody>\n",
       "</table>\n",
       "</div>"
      ],
      "text/plain": [
       "      year           state state_po  state_fips  state_cen  state_ic  \\\n",
       "1678  2000        MARYLAND       MD          24         52        52   \n",
       "549   1984         GEORGIA       GA          13         58        44   \n",
       "3050  2016         ALABAMA       AL           1         63        41   \n",
       "2094  2004  SOUTH CAROLINA       SC          45         57        48   \n",
       "\n",
       "         office   district stage  special candidate party_detailed  writein  \\\n",
       "1678  US SENATE  statewide   gen    False     OTHER            NaN    False   \n",
       "549   US SENATE  statewide   gen    False     OTHER            NaN    False   \n",
       "3050  US SENATE  statewide   gen    False       NaN            NaN     True   \n",
       "2094  US SENATE  statewide   gen    False       NaN            NaN     True   \n",
       "\n",
       "       mode  candidatevotes  totalvotes  unofficial   version party_simplified  \n",
       "1678  total            1594     1946898       False  20210114            OTHER  \n",
       "549   total              44     1681344       False  20210114            OTHER  \n",
       "3050  total            3631     2087444       False  20210114            OTHER  \n",
       "2094  total            1286     1597221       False  20210114            OTHER  "
      ]
     },
     "execution_count": 3,
     "metadata": {},
     "output_type": "execute_result"
    }
   ],
   "source": [
    "# Load the Senate Election Result data \n",
    "import pandas as pd\n",
    "senate_file = 'SenateData/1976-2020-senate.csv'\n",
    "senate_election = pd.read_csv(senate_file, encoding= 'unicode_escape')\n",
    "senate_election.sample(4) # demonstrate the format of election data"
   ]
  },
  {
   "cell_type": "markdown",
   "id": "e166a7cb",
   "metadata": {},
   "source": [
    "Here, we only choose the candidate running for elections since 2016, because the supported Quotebank data goes back to 2015"
   ]
  },
  {
   "cell_type": "code",
   "execution_count": 4,
   "id": "0fa9750d",
   "metadata": {},
   "outputs": [
    {
     "data": {
      "text/plain": [
       "[{'RICHARD', 'SHELBY'},\n",
       " {'JOE', 'MILLER'},\n",
       " {'GIANOUTSOS', 'TED'},\n",
       " {'METCALFE', 'RAY'},\n",
       " {'MARGARET', 'STOCK'},\n",
       " {'BRECK', 'CRAIG'},\n",
       " {'LISA', 'MURKOWSKI'},\n",
       " {'ANTHONY', 'CAMBONI'},\n",
       " {'ANN', 'KIRKPATRICK'}]"
      ]
     },
     "execution_count": 4,
     "metadata": {},
     "output_type": "execute_result"
    }
   ],
   "source": [
    "# Load the names of candidates since 2016\n",
    "# The NaN names are dropped, and repeated names are dropped\n",
    "def delete_middle_name(name): # delete middle name\n",
    "  name_split = name.upper().split()\n",
    "  if len(name_split) > 2:\n",
    "    senate_delete_middle_name = name_split[0] + ' ' + name_split[-1]\n",
    "    return senate_delete_middle_name\n",
    "  return name\n",
    "\n",
    "# To address the variation of names, we use this function to determine whether the speaker name matches the first and \n",
    "# last name of any senate candidates. In this way, we can find speakers with different name writing style like:\n",
    "# 'Senate Lindsey Graham', 'Lindsey Olin Graham', 'Lindsey O. Graham' (they all indicate the same candidate)\n",
    "\n",
    "# The function below takes in a speaker name and a list of senate names (already split into first and last name)\n",
    "# It returns a boolean whether the speaker is a senate, and the name of senate (in the form of first + last name) if true\n",
    "def isSenate(name,senate_names):\n",
    "  name_set = set(name.upper().split())\n",
    "  for i in range(len(senate_names)):\n",
    "    if senate_names[i] <= name_set:\n",
    "      return (True, i)\n",
    "  return (False, None)\n",
    "\n",
    "senate_candidates = senate_election[senate_election['year'] >= 2016].dropna(subset=['candidate', 'party_detailed'])['candidate'].unique()\n",
    "senate_candidates_splitted = list(map(lambda senate: set(delete_middle_name(senate).split()), senate_candidates))\n",
    "senate_candidates_splitted[1:10]"
   ]
  },
  {
   "cell_type": "code",
   "execution_count": 5,
   "id": "8cec8de5",
   "metadata": {},
   "outputs": [
    {
     "name": "stdout",
     "output_type": "stream",
     "text": [
      "there are total 439 names\n"
     ]
    }
   ],
   "source": [
    "#Sanity Check: all names at least have a first and last name\n",
    "for split in senate_candidates_splitted:\n",
    "    assert(len(split) > 1)\n",
    "print('there are total {} names'.format(len(senate_candidates_splitted)))"
   ]
  },
  {
   "cell_type": "markdown",
   "id": "42c252e0",
   "metadata": {},
   "source": [
    "**We do not run the cell below because takes too long.** We have run those on google colab to load the quotation data we need"
   ]
  },
  {
   "cell_type": "code",
   "execution_count": 6,
   "id": "726a21e8",
   "metadata": {},
   "outputs": [
    {
     "name": "stdout",
     "output_type": "stream",
     "text": [
      "Couldn't find program: 'echo'\n"
     ]
    }
   ],
   "source": [
    "%%script echo skipping\n",
    "# Load each year's data, filtering out the quotations said by senates\n",
    "# We have considered the different writing styles of name. We extract the quote as long as the speaker has the same\n",
    "# first name and last name as a senate\n",
    "import bz2\n",
    "import json\n",
    "\n",
    "path_to_file = '/content/drive/MyDrive/Quotebank/quotes-{}.json.bz2' \n",
    "path_to_out = '/content/drive/MyDrive/MyQuoteBank/quotes-{}-senates-said.json.bz2'\n",
    "\n",
    "for year in range(2015, 2021):\n",
    "  print('... Start reading quotations in year ' + str(year))\n",
    "  with bz2.open(path_to_file.format(year), 'rb') as s_file:\n",
    "      with bz2.open(path_to_out.format(year), 'wb') as d_file:\n",
    "          for instance in s_file:\n",
    "              instance = json.loads(instance) # loading a sample\n",
    "              issenate = isSenate(instance['speaker'], senate_candidates_splitted)\n",
    "              if issenate[0]:\n",
    "                instance['speaker'] = senate_candidates[issenate[1]] # use name from the \"1976-2020-senate.csv\" as the standard name.\n",
    "                urls = instance['urls'] # extracting list of links\n",
    "                domains = []\n",
    "                for url in urls:\n",
    "                    tld = get_domain(url)\n",
    "                    domains.append(tld)\n",
    "                instance['domains'] = domains # updating the sample with domain name\n",
    "                d_file.write((json.dumps(instance)+'\\n').encode('utf-8')) # writing in the new file\n",
    "\n",
    "# Load each year's data, filtering out the quotations that mention senates\n",
    "path_to_file = '/content/drive/MyDrive/Quotebank/quotes-{}.json.bz2'\n",
    "path_to_out = '/content/drive/MyDrive/ADAQuoteBank/quotes-{}-senates-mention.json.bz2'\n",
    "\n",
    "senate_candidates = list(map(lambda x:x.title(), senate_candidates))\n",
    "\n",
    "for year in range(2016,2021):\n",
    "    print('... Start processing quotations in year {}'.format(year))\n",
    "    with bz2.open(path_to_file.format(year), 'rb') as s_file:\n",
    "        with bz2.open(path_to_out.format(year), 'wb') as d_file:\n",
    "            for instance in s_file:\n",
    "                instance = json.loads(instance)\n",
    "                is_senate = isSenate(instance['quotation'], senate_candidates_splitted)\n",
    "                if is_senate[0]:\n",
    "                    instance['mention']=senate_candidates[is_senate[1]]\n",
    "                    urls = instance['urls'] # extracting list of links\n",
    "                    domains = []\n",
    "                    for url in urls:\n",
    "                        tld = get_domain(url)\n",
    "                        domains.append(tld)\n",
    "                    instance['domains'] = domains # updating the sample with domain name\n",
    "                    d_file.write((json.dumps(instance)+'\\n').encode('utf-8'))\n",
    "    print('... End processing quotations in year {}'.format(year))"
   ]
  },
  {
   "cell_type": "markdown",
   "id": "dd2896a2",
   "metadata": {},
   "source": [
    "## 1. Process Senate Candidate Data\n",
    "**1.1** In this section, we load the information of senate candidates (since 2016) and their election information."
   ]
  },
  {
   "cell_type": "code",
   "execution_count": 7,
   "id": "847a9fb6",
   "metadata": {},
   "outputs": [],
   "source": [
    "# First, we get the election information of the candidates since 2016 (again, we drop NaN and repeated names)\n",
    "candidate_info = senate_election[senate_election['year'] >= 2016].dropna(subset=['candidate', 'party_detailed']).drop_duplicates(subset=['candidate'], ignore_index=True)"
   ]
  },
  {
   "cell_type": "code",
   "execution_count": 8,
   "id": "0de063d3",
   "metadata": {},
   "outputs": [],
   "source": [
    "# Load the stored quotations said by senate candidates since 2015 (by year)\n",
    "senate_quote_20 = pd.read_json('SenateData/quotes-2020-senates-said.json.bz2', lines=True, compression='bz2')\n",
    "senate_quote_19 = pd.read_json('SenateData/quotes-2019-senates-said.json.bz2', lines=True, compression='bz2')\n",
    "senate_quote_18 = pd.read_json('SenateData/quotes-2018-senates-said.json.bz2', lines=True, compression='bz2')\n",
    "senate_quote_17 = pd.read_json('SenateData/quotes-2017-senates-said.json.bz2', lines=True, compression='bz2')\n",
    "senate_quote_16 = pd.read_json('SenateData/quotes-2016-senates-said.json.bz2', lines=True, compression='bz2')\n",
    "senate_quote_15 = pd.read_json('SenateData/quotes-2015-senates-said.json.bz2', lines=True, compression='bz2')"
   ]
  },
  {
   "cell_type": "code",
   "execution_count": 9,
   "id": "7f2c2dc1",
   "metadata": {},
   "outputs": [
    {
     "data": {
      "text/html": [
       "<div>\n",
       "<style scoped>\n",
       "    .dataframe tbody tr th:only-of-type {\n",
       "        vertical-align: middle;\n",
       "    }\n",
       "\n",
       "    .dataframe tbody tr th {\n",
       "        vertical-align: top;\n",
       "    }\n",
       "\n",
       "    .dataframe thead th {\n",
       "        text-align: right;\n",
       "    }\n",
       "</style>\n",
       "<table border=\"1\" class=\"dataframe\">\n",
       "  <thead>\n",
       "    <tr style=\"text-align: right;\">\n",
       "      <th></th>\n",
       "      <th>index</th>\n",
       "      <th>quoteID</th>\n",
       "      <th>quotation</th>\n",
       "      <th>speaker</th>\n",
       "      <th>qids</th>\n",
       "      <th>date</th>\n",
       "      <th>numOccurrences</th>\n",
       "      <th>probas</th>\n",
       "      <th>urls</th>\n",
       "      <th>phase</th>\n",
       "      <th>domains</th>\n",
       "    </tr>\n",
       "  </thead>\n",
       "  <tbody>\n",
       "    <tr>\n",
       "      <th>225714</th>\n",
       "      <td>125164</td>\n",
       "      <td>2017-04-05-022747</td>\n",
       "      <td>Democrats would filibuster Ruth Bader Ginsburg...</td>\n",
       "      <td>Mitch McConnell</td>\n",
       "      <td>[Q355522]</td>\n",
       "      <td>2017-04-05 12:30:00</td>\n",
       "      <td>24</td>\n",
       "      <td>[[Mitch McConnell, 0.7489], [None, 0.198], [Je...</td>\n",
       "      <td>[http://www.politico.com/story/2017/04/jeff-me...</td>\n",
       "      <td>E</td>\n",
       "      <td>[com, com, com, com, com, com, com, com, com, ...</td>\n",
       "    </tr>\n",
       "    <tr>\n",
       "      <th>507239</th>\n",
       "      <td>20587</td>\n",
       "      <td>2019-10-01-016693</td>\n",
       "      <td>Do you think they got Hunter Biden's name off ...</td>\n",
       "      <td>John Kennedy</td>\n",
       "      <td>[Q16090838, Q16105132, Q16195622, Q1700694, Q2...</td>\n",
       "      <td>2019-10-01 18:40:00</td>\n",
       "      <td>1</td>\n",
       "      <td>[[John Kennedy, 0.8091], [None, 0.1733], [Hunt...</td>\n",
       "      <td>[http://theadvocate.com/baton_rouge/news/polit...</td>\n",
       "      <td>E</td>\n",
       "      <td>[com]</td>\n",
       "    </tr>\n",
       "    <tr>\n",
       "      <th>369046</th>\n",
       "      <td>81146</td>\n",
       "      <td>2018-05-02-007580</td>\n",
       "      <td>And if there's no tariff, then just block it -...</td>\n",
       "      <td>James Lankford</td>\n",
       "      <td>[Q45940]</td>\n",
       "      <td>2018-05-02 10:15:35</td>\n",
       "      <td>1</td>\n",
       "      <td>[[James Lankford, 0.6229], [None, 0.3771]]</td>\n",
       "      <td>[http://www.news-star.com/news/20180502/us-sen...</td>\n",
       "      <td>E</td>\n",
       "      <td>[com]</td>\n",
       "    </tr>\n",
       "    <tr>\n",
       "      <th>30081</th>\n",
       "      <td>30081</td>\n",
       "      <td>2016-09-26-015809</td>\n",
       "      <td>Clinton would continue the Obama administratio...</td>\n",
       "      <td>Ted Cruz</td>\n",
       "      <td>[Q2036942]</td>\n",
       "      <td>2016-09-26 22:59:00</td>\n",
       "      <td>1</td>\n",
       "      <td>[[Ted Cruz, 0.8315], [None, 0.1603], [Hillary ...</td>\n",
       "      <td>[http://www.christiantoday.com/article/ted.cru...</td>\n",
       "      <td>E</td>\n",
       "      <td>[com]</td>\n",
       "    </tr>\n",
       "  </tbody>\n",
       "</table>\n",
       "</div>"
      ],
      "text/plain": [
       "         index            quoteID  \\\n",
       "225714  125164  2017-04-05-022747   \n",
       "507239   20587  2019-10-01-016693   \n",
       "369046   81146  2018-05-02-007580   \n",
       "30081    30081  2016-09-26-015809   \n",
       "\n",
       "                                                quotation          speaker  \\\n",
       "225714  Democrats would filibuster Ruth Bader Ginsburg...  Mitch McConnell   \n",
       "507239  Do you think they got Hunter Biden's name off ...     John Kennedy   \n",
       "369046  And if there's no tariff, then just block it -...   James Lankford   \n",
       "30081   Clinton would continue the Obama administratio...         Ted Cruz   \n",
       "\n",
       "                                                     qids                date  \\\n",
       "225714                                          [Q355522] 2017-04-05 12:30:00   \n",
       "507239  [Q16090838, Q16105132, Q16195622, Q1700694, Q2... 2019-10-01 18:40:00   \n",
       "369046                                           [Q45940] 2018-05-02 10:15:35   \n",
       "30081                                          [Q2036942] 2016-09-26 22:59:00   \n",
       "\n",
       "        numOccurrences                                             probas  \\\n",
       "225714              24  [[Mitch McConnell, 0.7489], [None, 0.198], [Je...   \n",
       "507239               1  [[John Kennedy, 0.8091], [None, 0.1733], [Hunt...   \n",
       "369046               1         [[James Lankford, 0.6229], [None, 0.3771]]   \n",
       "30081                1  [[Ted Cruz, 0.8315], [None, 0.1603], [Hillary ...   \n",
       "\n",
       "                                                     urls phase  \\\n",
       "225714  [http://www.politico.com/story/2017/04/jeff-me...     E   \n",
       "507239  [http://theadvocate.com/baton_rouge/news/polit...     E   \n",
       "369046  [http://www.news-star.com/news/20180502/us-sen...     E   \n",
       "30081   [http://www.christiantoday.com/article/ted.cru...     E   \n",
       "\n",
       "                                                  domains  \n",
       "225714  [com, com, com, com, com, com, com, com, com, ...  \n",
       "507239                                              [com]  \n",
       "369046                                              [com]  \n",
       "30081                                               [com]  "
      ]
     },
     "execution_count": 9,
     "metadata": {},
     "output_type": "execute_result"
    }
   ],
   "source": [
    "# Concatenate data across all years and display the format of quotation data\n",
    "annual_frames = [senate_quote_15, senate_quote_16, senate_quote_17, senate_quote_18, senate_quote_19, senate_quote_20]\n",
    "candidate_quotes = pd.concat(annual_frames).reset_index()\n",
    "candidate_quotes.sample(4)"
   ]
  },
  {
   "cell_type": "markdown",
   "id": "70dbf5bb-9830-4468-afa7-1ddd49d68bf7",
   "metadata": {},
   "source": [
    "Since QuoteBank may extract different number of total quotes at different time. An increase in quotations may just be caused by an increase of quotes extracted by Quotebanks. So, we use the total quotation number in QuoteBank to normalize our data"
   ]
  },
  {
   "cell_type": "code",
   "execution_count": 10,
   "id": "0c4df216-ad23-431e-a309-e9c01d9c3abe",
   "metadata": {},
   "outputs": [
    {
     "data": {
      "text/plain": [
       "2015-01    1661137\n",
       "2015-02    1659518\n",
       "2015-03    1867911\n",
       "2015-04    1522315\n",
       "2015-05    1136152\n",
       "            ...   \n",
       "2019-12    1565321\n",
       "2020-01    1732238\n",
       "2020-02    1599019\n",
       "2020-03    1323347\n",
       "2020-04     589845\n",
       "Length: 64, dtype: int64"
      ]
     },
     "execution_count": 10,
     "metadata": {},
     "output_type": "execute_result"
    }
   ],
   "source": [
    "# read the quote number data for each month\n",
    "\n",
    "import csv\n",
    "with open('SenateData/quote_num.csv','r') as inFile:\n",
    "    reader = csv.DictReader(inFile)\n",
    "    for row in reader:\n",
    "        quote_num = dict(row)\n",
    "quote_num = pd.Series({k:int(v) for k, v in quote_num.items()})\n",
    "quote_num"
   ]
  },
  {
   "cell_type": "code",
   "execution_count": 11,
   "id": "72f415ba-2fb9-43fa-983b-ec41f38813cd",
   "metadata": {},
   "outputs": [
    {
     "data": {
      "text/html": [
       "<div>\n",
       "<style scoped>\n",
       "    .dataframe tbody tr th:only-of-type {\n",
       "        vertical-align: middle;\n",
       "    }\n",
       "\n",
       "    .dataframe tbody tr th {\n",
       "        vertical-align: top;\n",
       "    }\n",
       "\n",
       "    .dataframe thead th {\n",
       "        text-align: right;\n",
       "    }\n",
       "</style>\n",
       "<table border=\"1\" class=\"dataframe\">\n",
       "  <thead>\n",
       "    <tr style=\"text-align: right;\">\n",
       "      <th></th>\n",
       "      <th>index</th>\n",
       "      <th>quoteID</th>\n",
       "      <th>quotation</th>\n",
       "      <th>speaker</th>\n",
       "      <th>qids</th>\n",
       "      <th>date</th>\n",
       "      <th>numOccurrences</th>\n",
       "      <th>probas</th>\n",
       "      <th>urls</th>\n",
       "      <th>phase</th>\n",
       "      <th>domains</th>\n",
       "      <th>normalize_factor</th>\n",
       "      <th>normalize_quotes</th>\n",
       "    </tr>\n",
       "  </thead>\n",
       "  <tbody>\n",
       "    <tr>\n",
       "      <th>308139</th>\n",
       "      <td>20239</td>\n",
       "      <td>2018-11-07-105160</td>\n",
       "      <td>The special counsel's work is critical and imp...</td>\n",
       "      <td>Dianne Feinstein</td>\n",
       "      <td>[Q230733]</td>\n",
       "      <td>2018-11-07 11:47:28</td>\n",
       "      <td>1</td>\n",
       "      <td>[[Dianne Feinstein, 0.7594], [None, 0.1785], [...</td>\n",
       "      <td>[https://scvnews.com/2018/11/07/sessions-out-a...</td>\n",
       "      <td>E</td>\n",
       "      <td>[com]</td>\n",
       "      <td>0.476376</td>\n",
       "      <td>0.476376</td>\n",
       "    </tr>\n",
       "    <tr>\n",
       "      <th>525635</th>\n",
       "      <td>38983</td>\n",
       "      <td>2019-07-11-097134</td>\n",
       "      <td>we need to create a new regulator</td>\n",
       "      <td>Mike Crapo</td>\n",
       "      <td>[Q734319]</td>\n",
       "      <td>2019-07-11 20:23:00</td>\n",
       "      <td>2</td>\n",
       "      <td>[[Mike Crapo, 0.7879], [Jerome Powell, 0.1224]...</td>\n",
       "      <td>[https://www.barrons.com/articles/congress-is-...</td>\n",
       "      <td>E</td>\n",
       "      <td>[com, com]</td>\n",
       "      <td>0.668486</td>\n",
       "      <td>1.336972</td>\n",
       "    </tr>\n",
       "    <tr>\n",
       "      <th>98767</th>\n",
       "      <td>98767</td>\n",
       "      <td>2016-02-18-045298</td>\n",
       "      <td>I mean, listen, my dad was imprisoned and tort...</td>\n",
       "      <td>Ted Cruz</td>\n",
       "      <td>[Q2036942]</td>\n",
       "      <td>2016-02-18 20:22:26</td>\n",
       "      <td>1</td>\n",
       "      <td>[[Ted Cruz, 0.8408], [None, 0.1592]]</td>\n",
       "      <td>[http://cnsnews.com/news/article/michael-w-cha...</td>\n",
       "      <td>E</td>\n",
       "      <td>[com]</td>\n",
       "      <td>0.959534</td>\n",
       "      <td>0.959534</td>\n",
       "    </tr>\n",
       "    <tr>\n",
       "      <th>519627</th>\n",
       "      <td>32975</td>\n",
       "      <td>2019-12-21-009689</td>\n",
       "      <td>give up a little of your freedom and I will gi...</td>\n",
       "      <td>Bernie Sanders</td>\n",
       "      <td>[Q359442]</td>\n",
       "      <td>2019-12-21 21:08:08</td>\n",
       "      <td>1</td>\n",
       "      <td>[[Bernie Sanders, 0.5036], [None, 0.4964]]</td>\n",
       "      <td>[https://www.aei.org/carpe-diem/animated-chart...</td>\n",
       "      <td>E</td>\n",
       "      <td>[org]</td>\n",
       "      <td>0.638847</td>\n",
       "      <td>0.638847</td>\n",
       "    </tr>\n",
       "  </tbody>\n",
       "</table>\n",
       "</div>"
      ],
      "text/plain": [
       "        index            quoteID  \\\n",
       "308139  20239  2018-11-07-105160   \n",
       "525635  38983  2019-07-11-097134   \n",
       "98767   98767  2016-02-18-045298   \n",
       "519627  32975  2019-12-21-009689   \n",
       "\n",
       "                                                quotation           speaker  \\\n",
       "308139  The special counsel's work is critical and imp...  Dianne Feinstein   \n",
       "525635                  we need to create a new regulator        Mike Crapo   \n",
       "98767   I mean, listen, my dad was imprisoned and tort...          Ted Cruz   \n",
       "519627  give up a little of your freedom and I will gi...    Bernie Sanders   \n",
       "\n",
       "              qids                date  numOccurrences  \\\n",
       "308139   [Q230733] 2018-11-07 11:47:28               1   \n",
       "525635   [Q734319] 2019-07-11 20:23:00               2   \n",
       "98767   [Q2036942] 2016-02-18 20:22:26               1   \n",
       "519627   [Q359442] 2019-12-21 21:08:08               1   \n",
       "\n",
       "                                                   probas  \\\n",
       "308139  [[Dianne Feinstein, 0.7594], [None, 0.1785], [...   \n",
       "525635  [[Mike Crapo, 0.7879], [Jerome Powell, 0.1224]...   \n",
       "98767                [[Ted Cruz, 0.8408], [None, 0.1592]]   \n",
       "519627         [[Bernie Sanders, 0.5036], [None, 0.4964]]   \n",
       "\n",
       "                                                     urls phase     domains  \\\n",
       "308139  [https://scvnews.com/2018/11/07/sessions-out-a...     E       [com]   \n",
       "525635  [https://www.barrons.com/articles/congress-is-...     E  [com, com]   \n",
       "98767   [http://cnsnews.com/news/article/michael-w-cha...     E       [com]   \n",
       "519627  [https://www.aei.org/carpe-diem/animated-chart...     E       [org]   \n",
       "\n",
       "        normalize_factor  normalize_quotes  \n",
       "308139          0.476376          0.476376  \n",
       "525635          0.668486          1.336972  \n",
       "98767           0.959534          0.959534  \n",
       "519627          0.638847          0.638847  "
      ]
     },
     "execution_count": 11,
     "metadata": {},
     "output_type": "execute_result"
    }
   ],
   "source": [
    "# we use 10^6/total_quote_num as normalize factor\n",
    "\n",
    "candidate_quotes['normalize_factor'] = candidate_quotes['date'].map(lambda x: 1/quote_num[str(x)[:7]]*1e6)\n",
    "candidate_quotes['normalize_quotes'] = candidate_quotes['numOccurrences']*candidate_quotes['normalize_factor']\n",
    "candidate_quotes.sample(4)"
   ]
  },
  {
   "cell_type": "markdown",
   "id": "2c6a88cf",
   "metadata": {},
   "source": [
    "**1.2** We group the total number of quotations by speaker and dates. By doing so, we can visualize the change of quoted numbers as time goes on. Below, we take Bernie Sanders as an example."
   ]
  },
  {
   "cell_type": "code",
   "execution_count": 12,
   "id": "10f66fd3",
   "metadata": {},
   "outputs": [
    {
     "data": {
      "text/plain": [
       "speaker          date_only \n",
       "AARON JAMES      2016-02-18    5.757202\n",
       "                 2016-05-10    0.877068\n",
       "                 2016-05-12    0.877068\n",
       "                 2016-05-18    4.823876\n",
       "                 2016-05-25    0.877068\n",
       "                                 ...   \n",
       "ZAK RINGELSTEIN  2018-10-30    5.125275\n",
       "                 2018-11-01    2.381878\n",
       "                 2018-11-05    0.476376\n",
       "                 2018-11-07    0.476376\n",
       "                 2019-03-21    0.503878\n",
       "Name: normalize_quotes, Length: 79165, dtype: float64"
      ]
     },
     "execution_count": 12,
     "metadata": {},
     "output_type": "execute_result"
    }
   ],
   "source": [
    "# Clean the names by taking only upper case\n",
    "# Group the candidate total number of normalized quotes by day\n",
    "candidate_quotes['speaker'] = candidate_quotes['speaker'].str.upper()\n",
    "candidate_quotes['date_only'] = candidate_quotes['date'].dt.date\n",
    "candidate_quotes_byday = candidate_quotes.groupby(['speaker', 'date_only'])['normalize_quotes'].sum()\n",
    "candidate_quotes_byday"
   ]
  },
  {
   "cell_type": "code",
   "execution_count": 13,
   "id": "66baa32f",
   "metadata": {},
   "outputs": [
    {
     "data": {
      "text/plain": [
       "Text(0.5, 1.0, 'Bernie Sanders')"
      ]
     },
     "execution_count": 13,
     "metadata": {},
     "output_type": "execute_result"
    },
    {
     "data": {
      "image/png": "[encoded data removed]",
      "text/plain": [
       "<Figure size 432x288 with 1 Axes>"
      ]
     },
     "metadata": {
      "needs_background": "light"
     },
     "output_type": "display_data"
    }
   ],
   "source": [
    "# For example, we can visualize the quotation changes of Bernie Sanders\n",
    "candidate_quotes_byday['BERNIE SANDERS'].rolling(window=30).sum().plot() # one months average\n",
    "plt.xlabel('time')\n",
    "plt.xticks(rotation=90)\n",
    "plt.ylabel('Quoted numbers: Said')\n",
    "plt.title('Bernie Sanders')"
   ]
  },
  {
   "cell_type": "markdown",
   "id": "affd7213",
   "metadata": {},
   "source": [
    "**1.3** We compute the total number of quotations until their election. The election dataset only contains the year of election. However, since the U.S. Senate elections always take place in the first week of November, we just compute the total number of quotations until November.1st of the election year."
   ]
  },
  {
   "cell_type": "code",
   "execution_count": 14,
   "id": "5394320f",
   "metadata": {},
   "outputs": [],
   "source": [
    "# Add the election day corresponding to each candidate speaker\n",
    "candidate_info_byname = candidate_info.set_index(['candidate']) # Allow access info by name as index\n",
    "candidate_quotes['election_day'] = candidate_quotes['speaker'].map(candidate_info_byname['year']).astype(str)+ '-11-01'\n",
    "candidate_quotes['election_day'] = pd.to_datetime(candidate_quotes['election_day'])"
   ]
  },
  {
   "cell_type": "code",
   "execution_count": 15,
   "id": "1c0e2c40",
   "metadata": {},
   "outputs": [],
   "source": [
    "# Add election result (i.e. vote rate) for each candidate speaker\n",
    "candidate_info_byname['vote_rate'] = candidate_info_byname['candidatevotes']/candidate_info_byname['totalvotes']"
   ]
  },
  {
   "cell_type": "code",
   "execution_count": 16,
   "id": "4ab9dd4d",
   "metadata": {},
   "outputs": [],
   "source": [
    "# We group the number of quotations by election day\n",
    "quotes_byelection = candidate_quotes[candidate_quotes['date_only'] < candidate_quotes['election_day']]\n",
    "tot_quotes_byelection = pd.DataFrame(quotes_byelection.groupby(['speaker'])['normalize_quotes'].sum())\n",
    "tot_quotes_byelection.rename(columns = {'normalize_quotes': 'total_quotes_byelection'}, inplace=True)"
   ]
  },
  {
   "cell_type": "code",
   "execution_count": 17,
   "id": "dfe01a90",
   "metadata": {},
   "outputs": [
    {
     "name": "stdout",
     "output_type": "stream",
     "text": [
      "Pearson coefficient: 0.6483833179884133, p value: 7.575062514519927e-23\n"
     ]
    },
    {
     "data": {
      "image/png": "[encoded data removed]",
      "text/plain": [
       "<Figure size 432x288 with 1 Axes>"
      ]
     },
     "metadata": {
      "needs_background": "light"
     },
     "output_type": "display_data"
    }
   ],
   "source": [
    "# We add the vote rate and plot the scatter plot of vote rate against total quotes by election\n",
    "from scipy.stats import pearsonr\n",
    "tot_quotes_byelection['vote_rate'] = tot_quotes_byelection.index.map(candidate_info_byname['vote_rate'])\n",
    "quotes_vote = tot_quotes_byelection.plot.scatter(x = 'total_quotes_byelection', y = 'vote_rate', logx=True)\n",
    "(corr1, pvalue) = pearsonr(np.log(tot_quotes_byelection['total_quotes_byelection']), tot_quotes_byelection['vote_rate'])\n",
    "print(f'Pearson coefficient: {corr1}, p value: {pvalue}')"
   ]
  },
  {
   "cell_type": "markdown",
   "id": "77202c41",
   "metadata": {},
   "source": [
    "**Observation**: Based on the plot above, we can see that there is a positive correlation between quotations and vote_rate with p value < 0.05. The more a candidate was quoted before the election, the higher the voting rate he or she got."
   ]
  },
  {
   "cell_type": "markdown",
   "id": "c5755dbd",
   "metadata": {},
   "source": [
    "**1.4** We can also apply the analysis on quotations that mention senates."
   ]
  },
  {
   "cell_type": "code",
   "execution_count": 18,
   "id": "77227984",
   "metadata": {},
   "outputs": [],
   "source": [
    "# Load the stored quotations mention senate candidates since 2015 (by year)\n",
    "senate_quote_20_mention = pd.read_json('SenateData/quotes-2020-senates-mention.json.bz2', lines=True, compression='bz2')\n",
    "senate_quote_19_mention = pd.read_json('SenateData/quotes-2019-senates-mention.json.bz2', lines=True, compression='bz2')\n",
    "senate_quote_18_mention = pd.read_json('SenateData/quotes-2018-senates-mention.json.bz2', lines=True, compression='bz2')\n",
    "senate_quote_17_mention = pd.read_json('SenateData/quotes-2017-senates-mention.json.bz2', lines=True, compression='bz2')\n",
    "senate_quote_16_mention = pd.read_json('SenateData/quotes-2016-senates-mention.json.bz2', lines=True, compression='bz2')\n",
    "senate_quote_15_mention = pd.read_json('SenateData/quotes-2015-senates-mention.json.bz2', lines=True, compression='bz2')"
   ]
  },
  {
   "cell_type": "code",
   "execution_count": 19,
   "id": "98427f70",
   "metadata": {
    "scrolled": true
   },
   "outputs": [
    {
     "data": {
      "text/html": [
       "<div>\n",
       "<style scoped>\n",
       "    .dataframe tbody tr th:only-of-type {\n",
       "        vertical-align: middle;\n",
       "    }\n",
       "\n",
       "    .dataframe tbody tr th {\n",
       "        vertical-align: top;\n",
       "    }\n",
       "\n",
       "    .dataframe thead th {\n",
       "        text-align: right;\n",
       "    }\n",
       "</style>\n",
       "<table border=\"1\" class=\"dataframe\">\n",
       "  <thead>\n",
       "    <tr style=\"text-align: right;\">\n",
       "      <th></th>\n",
       "      <th>quoteID</th>\n",
       "      <th>quotation</th>\n",
       "      <th>speaker</th>\n",
       "      <th>qids</th>\n",
       "      <th>date</th>\n",
       "      <th>numOccurrences</th>\n",
       "      <th>probas</th>\n",
       "      <th>urls</th>\n",
       "      <th>phase</th>\n",
       "      <th>mention</th>\n",
       "      <th>domains</th>\n",
       "    </tr>\n",
       "  </thead>\n",
       "  <tbody>\n",
       "    <tr>\n",
       "      <th>11809</th>\n",
       "      <td>2017-09-13-016040</td>\n",
       "      <td>Bernie Sanders proved the concept of how popul...</td>\n",
       "      <td>Adam Green</td>\n",
       "      <td>[Q15069925, Q18920513, Q349591, Q4679146, Q467...</td>\n",
       "      <td>2017-09-13 08:00:00</td>\n",
       "      <td>2</td>\n",
       "      <td>[[Adam Green, 0.692], [None, 0.1698], [Tim Kai...</td>\n",
       "      <td>[http://www.bloomberg.com/news/articles/2017-0...</td>\n",
       "      <td>E</td>\n",
       "      <td>Bernie Sanders</td>\n",
       "      <td>[com, com]</td>\n",
       "    </tr>\n",
       "    <tr>\n",
       "      <th>6242</th>\n",
       "      <td>2016-02-17-145400</td>\n",
       "      <td>We'll let Sen. Cruz take the stage. We'll go b...</td>\n",
       "      <td>John Berman</td>\n",
       "      <td>[Q21170450]</td>\n",
       "      <td>2016-02-17 03:44:00</td>\n",
       "      <td>1</td>\n",
       "      <td>[[John Berman, 0.6003], [Gloria Borger, 0.2405...</td>\n",
       "      <td>[http://feeds.washingtonpost.com/c/34656/f/636...</td>\n",
       "      <td>E</td>\n",
       "      <td>Ted Cruz</td>\n",
       "      <td>[com]</td>\n",
       "    </tr>\n",
       "    <tr>\n",
       "      <th>1047</th>\n",
       "      <td>2018-05-02-122825</td>\n",
       "      <td>The self-funding businessman emerged seemingly...</td>\n",
       "      <td>None</td>\n",
       "      <td>[]</td>\n",
       "      <td>2018-05-02 17:47:14</td>\n",
       "      <td>1</td>\n",
       "      <td>[[None, 0.6386], [Mike Braun, 0.3614]]</td>\n",
       "      <td>[http://www.breitbart.com/big-government/2018/...</td>\n",
       "      <td>E</td>\n",
       "      <td>Joe Donnelly</td>\n",
       "      <td>[com]</td>\n",
       "    </tr>\n",
       "    <tr>\n",
       "      <th>5993</th>\n",
       "      <td>2015-04-02-057735</td>\n",
       "      <td>NIACRO - the Northern Ireland Association for ...</td>\n",
       "      <td>None</td>\n",
       "      <td>[]</td>\n",
       "      <td>2015-04-02 11:56:42</td>\n",
       "      <td>1</td>\n",
       "      <td>[[None, 0.8152], [Nicki Minaj, 0.1848]]</td>\n",
       "      <td>[http://belfasttelegraph.co.uk/video-news/vide...</td>\n",
       "      <td>E</td>\n",
       "      <td>John James</td>\n",
       "      <td>[co.uk]</td>\n",
       "    </tr>\n",
       "  </tbody>\n",
       "</table>\n",
       "</div>"
      ],
      "text/plain": [
       "                 quoteID                                          quotation  \\\n",
       "11809  2017-09-13-016040  Bernie Sanders proved the concept of how popul...   \n",
       "6242   2016-02-17-145400  We'll let Sen. Cruz take the stage. We'll go b...   \n",
       "1047   2018-05-02-122825  The self-funding businessman emerged seemingly...   \n",
       "5993   2015-04-02-057735  NIACRO - the Northern Ireland Association for ...   \n",
       "\n",
       "           speaker                                               qids  \\\n",
       "11809   Adam Green  [Q15069925, Q18920513, Q349591, Q4679146, Q467...   \n",
       "6242   John Berman                                        [Q21170450]   \n",
       "1047          None                                                 []   \n",
       "5993          None                                                 []   \n",
       "\n",
       "                     date  numOccurrences  \\\n",
       "11809 2017-09-13 08:00:00               2   \n",
       "6242  2016-02-17 03:44:00               1   \n",
       "1047  2018-05-02 17:47:14               1   \n",
       "5993  2015-04-02 11:56:42               1   \n",
       "\n",
       "                                                  probas  \\\n",
       "11809  [[Adam Green, 0.692], [None, 0.1698], [Tim Kai...   \n",
       "6242   [[John Berman, 0.6003], [Gloria Borger, 0.2405...   \n",
       "1047              [[None, 0.6386], [Mike Braun, 0.3614]]   \n",
       "5993             [[None, 0.8152], [Nicki Minaj, 0.1848]]   \n",
       "\n",
       "                                                    urls phase  \\\n",
       "11809  [http://www.bloomberg.com/news/articles/2017-0...     E   \n",
       "6242   [http://feeds.washingtonpost.com/c/34656/f/636...     E   \n",
       "1047   [http://www.breitbart.com/big-government/2018/...     E   \n",
       "5993   [http://belfasttelegraph.co.uk/video-news/vide...     E   \n",
       "\n",
       "              mention     domains  \n",
       "11809  Bernie Sanders  [com, com]  \n",
       "6242         Ted Cruz       [com]  \n",
       "1047     Joe Donnelly       [com]  \n",
       "5993       John James     [co.uk]  "
      ]
     },
     "execution_count": 19,
     "metadata": {},
     "output_type": "execute_result"
    }
   ],
   "source": [
    "# Concatenate data across all years and display the format of quotation data\n",
    "annual_frames_mention = [senate_quote_15_mention, senate_quote_16_mention, senate_quote_17_mention, senate_quote_18_mention, senate_quote_19_mention, senate_quote_20_mention]\n",
    "candidate_quotes_mention = pd.concat(annual_frames_mention)\n",
    "candidate_quotes_mention.sample(4)"
   ]
  },
  {
   "cell_type": "code",
   "execution_count": 20,
   "id": "f80a5cf4",
   "metadata": {},
   "outputs": [
    {
     "data": {
      "text/html": [
       "<div>\n",
       "<style scoped>\n",
       "    .dataframe tbody tr th:only-of-type {\n",
       "        vertical-align: middle;\n",
       "    }\n",
       "\n",
       "    .dataframe tbody tr th {\n",
       "        vertical-align: top;\n",
       "    }\n",
       "\n",
       "    .dataframe thead th {\n",
       "        text-align: right;\n",
       "    }\n",
       "</style>\n",
       "<table border=\"1\" class=\"dataframe\">\n",
       "  <thead>\n",
       "    <tr style=\"text-align: right;\">\n",
       "      <th></th>\n",
       "      <th>quoteID</th>\n",
       "      <th>quotation</th>\n",
       "      <th>speaker</th>\n",
       "      <th>qids</th>\n",
       "      <th>date</th>\n",
       "      <th>numOccurrences</th>\n",
       "      <th>probas</th>\n",
       "      <th>urls</th>\n",
       "      <th>phase</th>\n",
       "      <th>mention</th>\n",
       "      <th>domains</th>\n",
       "      <th>date_only</th>\n",
       "      <th>normalize_factor</th>\n",
       "      <th>normalize_quotes</th>\n",
       "    </tr>\n",
       "  </thead>\n",
       "  <tbody>\n",
       "    <tr>\n",
       "      <th>12402</th>\n",
       "      <td>2016-08-12-094087</td>\n",
       "      <td>This is a personal tragedy that Patrick Murphy...</td>\n",
       "      <td>None</td>\n",
       "      <td>[]</td>\n",
       "      <td>2016-08-12 19:37:57</td>\n",
       "      <td>1</td>\n",
       "      <td>[[None, 0.4413], [Alan Grayson, 0.4361], [Patr...</td>\n",
       "      <td>[http://wftv.com/web/wftv/news/politics/florid...</td>\n",
       "      <td>E</td>\n",
       "      <td>PATRICK MURPHY</td>\n",
       "      <td>[com]</td>\n",
       "      <td>2016-08-12</td>\n",
       "      <td>0.422875</td>\n",
       "      <td>0.422875</td>\n",
       "    </tr>\n",
       "    <tr>\n",
       "      <th>883</th>\n",
       "      <td>2015-05-14-032759</td>\n",
       "      <td>In the last election, Mitt Romney and Rick San...</td>\n",
       "      <td>None</td>\n",
       "      <td>[]</td>\n",
       "      <td>2015-05-14 00:33:07</td>\n",
       "      <td>5</td>\n",
       "      <td>[[None, 0.982], [Mitt Romney, 0.018]]</td>\n",
       "      <td>[http://townhall.com/columnists/byronyork/2015...</td>\n",
       "      <td>E</td>\n",
       "      <td>MITT ROMNEY</td>\n",
       "      <td>[com, com, com, com, com]</td>\n",
       "      <td>2015-05-14</td>\n",
       "      <td>0.880164</td>\n",
       "      <td>4.400820</td>\n",
       "    </tr>\n",
       "    <tr>\n",
       "      <th>5447</th>\n",
       "      <td>2017-08-08-020118</td>\n",
       "      <td>Dean Heller has broken one promise after anoth...</td>\n",
       "      <td>Danny Tarkanian</td>\n",
       "      <td>[Q5220874]</td>\n",
       "      <td>2017-08-08 12:02:36</td>\n",
       "      <td>3</td>\n",
       "      <td>[[Danny Tarkanian, 0.862], [None, 0.1157], [De...</td>\n",
       "      <td>[http://www.washingtontimes.com/news/2017/aug/...</td>\n",
       "      <td>E</td>\n",
       "      <td>DEAN HELLER</td>\n",
       "      <td>[com, com, com]</td>\n",
       "      <td>2017-08-08</td>\n",
       "      <td>0.357747</td>\n",
       "      <td>1.073241</td>\n",
       "    </tr>\n",
       "    <tr>\n",
       "      <th>661</th>\n",
       "      <td>2018-08-08-112360</td>\n",
       "      <td>What John McCain Went Through as a POW -- for ...</td>\n",
       "      <td>None</td>\n",
       "      <td>[]</td>\n",
       "      <td>2018-08-08 08:59:16</td>\n",
       "      <td>1</td>\n",
       "      <td>[[None, 0.4256], [John McCain, 0.419], [Presid...</td>\n",
       "      <td>[http://bostonherald.com/news/us_politics/2018...</td>\n",
       "      <td>E</td>\n",
       "      <td>JOHN MCCAIN</td>\n",
       "      <td>[com]</td>\n",
       "      <td>2018-08-08</td>\n",
       "      <td>0.497688</td>\n",
       "      <td>0.497688</td>\n",
       "    </tr>\n",
       "    <tr>\n",
       "      <th>4499</th>\n",
       "      <td>2018-10-05-015037</td>\n",
       "      <td>Chasing down [ Sen. ] Orrin Hatch (R-Utah) and...</td>\n",
       "      <td>Kellyanne Conway</td>\n",
       "      <td>[Q6386365]</td>\n",
       "      <td>2018-10-05 16:14:15</td>\n",
       "      <td>1</td>\n",
       "      <td>[[Kellyanne Conway, 0.4346], [None, 0.3563], [...</td>\n",
       "      <td>[https://www.lifezette.com/2018/10/gingrich-re...</td>\n",
       "      <td>E</td>\n",
       "      <td>CHUCK GRASSLEY</td>\n",
       "      <td>[com]</td>\n",
       "      <td>2018-10-05</td>\n",
       "      <td>0.427106</td>\n",
       "      <td>0.427106</td>\n",
       "    </tr>\n",
       "  </tbody>\n",
       "</table>\n",
       "</div>"
      ],
      "text/plain": [
       "                 quoteID                                          quotation  \\\n",
       "12402  2016-08-12-094087  This is a personal tragedy that Patrick Murphy...   \n",
       "883    2015-05-14-032759  In the last election, Mitt Romney and Rick San...   \n",
       "5447   2017-08-08-020118  Dean Heller has broken one promise after anoth...   \n",
       "661    2018-08-08-112360  What John McCain Went Through as a POW -- for ...   \n",
       "4499   2018-10-05-015037  Chasing down [ Sen. ] Orrin Hatch (R-Utah) and...   \n",
       "\n",
       "                speaker        qids                date  numOccurrences  \\\n",
       "12402              None          [] 2016-08-12 19:37:57               1   \n",
       "883                None          [] 2015-05-14 00:33:07               5   \n",
       "5447    Danny Tarkanian  [Q5220874] 2017-08-08 12:02:36               3   \n",
       "661                None          [] 2018-08-08 08:59:16               1   \n",
       "4499   Kellyanne Conway  [Q6386365] 2018-10-05 16:14:15               1   \n",
       "\n",
       "                                                  probas  \\\n",
       "12402  [[None, 0.4413], [Alan Grayson, 0.4361], [Patr...   \n",
       "883                [[None, 0.982], [Mitt Romney, 0.018]]   \n",
       "5447   [[Danny Tarkanian, 0.862], [None, 0.1157], [De...   \n",
       "661    [[None, 0.4256], [John McCain, 0.419], [Presid...   \n",
       "4499   [[Kellyanne Conway, 0.4346], [None, 0.3563], [...   \n",
       "\n",
       "                                                    urls phase  \\\n",
       "12402  [http://wftv.com/web/wftv/news/politics/florid...     E   \n",
       "883    [http://townhall.com/columnists/byronyork/2015...     E   \n",
       "5447   [http://www.washingtontimes.com/news/2017/aug/...     E   \n",
       "661    [http://bostonherald.com/news/us_politics/2018...     E   \n",
       "4499   [https://www.lifezette.com/2018/10/gingrich-re...     E   \n",
       "\n",
       "              mention                    domains   date_only  \\\n",
       "12402  PATRICK MURPHY                      [com]  2016-08-12   \n",
       "883       MITT ROMNEY  [com, com, com, com, com]  2015-05-14   \n",
       "5447      DEAN HELLER            [com, com, com]  2017-08-08   \n",
       "661       JOHN MCCAIN                      [com]  2018-08-08   \n",
       "4499   CHUCK GRASSLEY                      [com]  2018-10-05   \n",
       "\n",
       "       normalize_factor  normalize_quotes  \n",
       "12402          0.422875          0.422875  \n",
       "883            0.880164          4.400820  \n",
       "5447           0.357747          1.073241  \n",
       "661            0.497688          0.497688  \n",
       "4499           0.427106          0.427106  "
      ]
     },
     "execution_count": 20,
     "metadata": {},
     "output_type": "execute_result"
    }
   ],
   "source": [
    "# format the date\n",
    "candidate_quotes_mention['date_only'] = candidate_quotes_mention['date'].dt.date\n",
    "# change the name to upper format\n",
    "candidate_quotes_mention['mention'] = candidate_quotes_mention['mention'].str.upper()\n",
    "\n",
    "# Normalize the quotes\n",
    "candidate_quotes_mention['normalize_factor'] = candidate_quotes_mention['date'].map(lambda x: 1/quote_num[str(x)[:7]]*1e6)\n",
    "candidate_quotes_mention['normalize_quotes'] = candidate_quotes_mention['numOccurrences']*candidate_quotes_mention['normalize_factor']\n",
    "candidate_quotes_mention.sample(5)"
   ]
  },
  {
   "cell_type": "code",
   "execution_count": 21,
   "id": "5de83206",
   "metadata": {},
   "outputs": [
    {
     "data": {
      "text/plain": [
       "mention           date_only \n",
       "A. WAYNE JOHNSON  2015-01-16    0.601997\n",
       "                  2015-08-04    0.473512\n",
       "                  2015-12-11    0.955093\n",
       "                  2017-02-12    2.080072\n",
       "                  2017-05-28    0.401338\n",
       "                                  ...   \n",
       "WILLIE L. WILSON  2019-03-30    0.503878\n",
       "                  2019-07-16    0.668486\n",
       "                  2019-11-04    0.542426\n",
       "ZAK RINGELSTEIN   2018-06-22    0.482000\n",
       "                  2018-10-24    0.427106\n",
       "Name: normalize_quotes, Length: 34904, dtype: float64"
      ]
     },
     "execution_count": 21,
     "metadata": {},
     "output_type": "execute_result"
    }
   ],
   "source": [
    "# obtain normalized quotations by day\n",
    "candidate_quotes_mention_byday = candidate_quotes_mention.groupby(['mention', 'date_only'])['normalize_quotes'].sum()\n",
    "candidate_quotes_mention_byday"
   ]
  },
  {
   "cell_type": "code",
   "execution_count": 22,
   "id": "09bd3ad2",
   "metadata": {},
   "outputs": [
    {
     "data": {
      "text/plain": [
       "Text(0.5, 1.0, 'Bernie Sanders')"
      ]
     },
     "execution_count": 22,
     "metadata": {},
     "output_type": "execute_result"
    },
    {
     "data": {
      "image/png": "[encoded data removed]",
      "text/plain": [
       "<Figure size 432x288 with 1 Axes>"
      ]
     },
     "metadata": {
      "needs_background": "light"
     },
     "output_type": "display_data"
    }
   ],
   "source": [
    "# For example, we can visualize the quotation changes of Bernie Sanders\n",
    "candidate_quotes_mention_byday['BERNIE SANDERS'].rolling(window=30).sum().plot() # one months average\n",
    "plt.xlabel('time')\n",
    "plt.ylabel('Quoted numbers: Mention')\n",
    "plt.title('Bernie Sanders')"
   ]
  },
  {
   "cell_type": "code",
   "execution_count": 23,
   "id": "0c4ef323",
   "metadata": {},
   "outputs": [
    {
     "data": {
      "text/html": [
       "<div>\n",
       "<style scoped>\n",
       "    .dataframe tbody tr th:only-of-type {\n",
       "        vertical-align: middle;\n",
       "    }\n",
       "\n",
       "    .dataframe tbody tr th {\n",
       "        vertical-align: top;\n",
       "    }\n",
       "\n",
       "    .dataframe thead th {\n",
       "        text-align: right;\n",
       "    }\n",
       "</style>\n",
       "<table border=\"1\" class=\"dataframe\">\n",
       "  <thead>\n",
       "    <tr style=\"text-align: right;\">\n",
       "      <th></th>\n",
       "      <th>quoteID</th>\n",
       "      <th>quotation</th>\n",
       "      <th>speaker</th>\n",
       "      <th>qids</th>\n",
       "      <th>date</th>\n",
       "      <th>numOccurrences</th>\n",
       "      <th>probas</th>\n",
       "      <th>urls</th>\n",
       "      <th>phase</th>\n",
       "      <th>mention</th>\n",
       "      <th>domains</th>\n",
       "      <th>date_only</th>\n",
       "      <th>normalize_factor</th>\n",
       "      <th>normalize_quotes</th>\n",
       "      <th>election_day</th>\n",
       "    </tr>\n",
       "  </thead>\n",
       "  <tbody>\n",
       "    <tr>\n",
       "      <th>0</th>\n",
       "      <td>2015-05-17-016225</td>\n",
       "      <td>I really like Bernie Sanders and his policies ...</td>\n",
       "      <td>None</td>\n",
       "      <td>[]</td>\n",
       "      <td>2015-05-17 07:09:22</td>\n",
       "      <td>1</td>\n",
       "      <td>[[None, 0.81], [Bernie Sanders, 0.19]]</td>\n",
       "      <td>[http://dailykos.com/story/2015/05/15/1384917/...</td>\n",
       "      <td>E</td>\n",
       "      <td>BERNIE SANDERS</td>\n",
       "      <td>[com]</td>\n",
       "      <td>2015-05-17</td>\n",
       "      <td>0.880164</td>\n",
       "      <td>0.880164</td>\n",
       "      <td>2018-11-01</td>\n",
       "    </tr>\n",
       "    <tr>\n",
       "      <th>1</th>\n",
       "      <td>2015-08-25-018582</td>\n",
       "      <td>Elizabeth Warren does have a thumb on the puls...</td>\n",
       "      <td>Bakari Sellers</td>\n",
       "      <td>[Q4849014]</td>\n",
       "      <td>2015-08-25 10:02:35</td>\n",
       "      <td>4</td>\n",
       "      <td>[[Bakari Sellers, 0.8813], [None, 0.1075], [El...</td>\n",
       "      <td>[http://www.kspr.com/news/politics/does-elizab...</td>\n",
       "      <td>E</td>\n",
       "      <td>ELIZABETH A. WARREN</td>\n",
       "      <td>[com, com, com, com]</td>\n",
       "      <td>2015-08-25</td>\n",
       "      <td>0.473512</td>\n",
       "      <td>1.894046</td>\n",
       "      <td>2018-11-01</td>\n",
       "    </tr>\n",
       "    <tr>\n",
       "      <th>2</th>\n",
       "      <td>2015-03-11-040221</td>\n",
       "      <td>I'll invoke the marital privilege on some of i...</td>\n",
       "      <td>Mike Coffman</td>\n",
       "      <td>[Q547218]</td>\n",
       "      <td>2015-03-11 17:09:31</td>\n",
       "      <td>1</td>\n",
       "      <td>[[Mike Coffman, 0.4786], [None, 0.3104], [Tom ...</td>\n",
       "      <td>[http://www.huffingtonpost.com/jason-salzman/r...</td>\n",
       "      <td>E</td>\n",
       "      <td>CORY GARDNER</td>\n",
       "      <td>[com]</td>\n",
       "      <td>2015-03-11</td>\n",
       "      <td>0.535357</td>\n",
       "      <td>0.535357</td>\n",
       "      <td>2020-11-01</td>\n",
       "    </tr>\n",
       "    <tr>\n",
       "      <th>3</th>\n",
       "      <td>2015-09-24-081451</td>\n",
       "      <td>Richard Burr truly is North Carolina's `Invisi...</td>\n",
       "      <td>None</td>\n",
       "      <td>[]</td>\n",
       "      <td>2015-09-24 02:04:45</td>\n",
       "      <td>1</td>\n",
       "      <td>[[None, 0.7571], [Richard Burr, 0.182], [Paul ...</td>\n",
       "      <td>[http://www.wcti12.com/news/Ross-leaves-job-po...</td>\n",
       "      <td>E</td>\n",
       "      <td>RICHARD BURR</td>\n",
       "      <td>[com]</td>\n",
       "      <td>2015-09-24</td>\n",
       "      <td>0.447555</td>\n",
       "      <td>0.447555</td>\n",
       "      <td>2016-11-01</td>\n",
       "    </tr>\n",
       "  </tbody>\n",
       "</table>\n",
       "</div>"
      ],
      "text/plain": [
       "             quoteID                                          quotation  \\\n",
       "0  2015-05-17-016225  I really like Bernie Sanders and his policies ...   \n",
       "1  2015-08-25-018582  Elizabeth Warren does have a thumb on the puls...   \n",
       "2  2015-03-11-040221  I'll invoke the marital privilege on some of i...   \n",
       "3  2015-09-24-081451  Richard Burr truly is North Carolina's `Invisi...   \n",
       "\n",
       "          speaker        qids                date  numOccurrences  \\\n",
       "0            None          [] 2015-05-17 07:09:22               1   \n",
       "1  Bakari Sellers  [Q4849014] 2015-08-25 10:02:35               4   \n",
       "2    Mike Coffman   [Q547218] 2015-03-11 17:09:31               1   \n",
       "3            None          [] 2015-09-24 02:04:45               1   \n",
       "\n",
       "                                              probas  \\\n",
       "0             [[None, 0.81], [Bernie Sanders, 0.19]]   \n",
       "1  [[Bakari Sellers, 0.8813], [None, 0.1075], [El...   \n",
       "2  [[Mike Coffman, 0.4786], [None, 0.3104], [Tom ...   \n",
       "3  [[None, 0.7571], [Richard Burr, 0.182], [Paul ...   \n",
       "\n",
       "                                                urls phase  \\\n",
       "0  [http://dailykos.com/story/2015/05/15/1384917/...     E   \n",
       "1  [http://www.kspr.com/news/politics/does-elizab...     E   \n",
       "2  [http://www.huffingtonpost.com/jason-salzman/r...     E   \n",
       "3  [http://www.wcti12.com/news/Ross-leaves-job-po...     E   \n",
       "\n",
       "               mention               domains   date_only  normalize_factor  \\\n",
       "0       BERNIE SANDERS                 [com]  2015-05-17          0.880164   \n",
       "1  ELIZABETH A. WARREN  [com, com, com, com]  2015-08-25          0.473512   \n",
       "2         CORY GARDNER                 [com]  2015-03-11          0.535357   \n",
       "3         RICHARD BURR                 [com]  2015-09-24          0.447555   \n",
       "\n",
       "   normalize_quotes election_day  \n",
       "0          0.880164   2018-11-01  \n",
       "1          1.894046   2018-11-01  \n",
       "2          0.535357   2020-11-01  \n",
       "3          0.447555   2016-11-01  "
      ]
     },
     "execution_count": 23,
     "metadata": {},
     "output_type": "execute_result"
    }
   ],
   "source": [
    "# Add the election day corresponding to each candidate mentioned\n",
    "candidate_info_byname = candidate_info.set_index(['candidate']) # Allow access info by name as index\n",
    "candidate_quotes_mention['mention']=candidate_quotes_mention.mention.map(lambda x:x.upper())\n",
    "candidate_quotes_mention['election_day'] = candidate_quotes_mention['mention'].map(candidate_info_byname['year']).astype(str)+ '-11-01'\n",
    "candidate_quotes_mention['election_day'] = pd.to_datetime(candidate_quotes_mention['election_day'])\n",
    "candidate_quotes_mention.head(4)"
   ]
  },
  {
   "cell_type": "code",
   "execution_count": 24,
   "id": "d1ba356c",
   "metadata": {},
   "outputs": [
    {
     "name": "stdout",
     "output_type": "stream",
     "text": [
      "Pearson coefficient: 0.5320764453359699, p value: 1.1343252830666171e-22\n"
     ]
    },
    {
     "data": {
      "image/png": "[encoded data removed]",
      "text/plain": [
       "<Figure size 432x288 with 1 Axes>"
      ]
     },
     "metadata": {
      "needs_background": "light"
     },
     "output_type": "display_data"
    }
   ],
   "source": [
    "from scipy.stats import pearsonr\n",
    "\n",
    "# Add election result (i.e. vote rate) for each candidate speaker\n",
    "candidate_info_byname['vote_rate'] = candidate_info_byname['candidatevotes']/candidate_info_byname['totalvotes']\n",
    "\n",
    "# We group the number of normalized quotations before election day\n",
    "quotes_byelection = candidate_quotes_mention[candidate_quotes_mention['date_only'] < candidate_quotes_mention['election_day']]\n",
    "tot_quotes_byelection = pd.DataFrame(quotes_byelection.groupby(['mention'])['normalize_quotes'].sum())\n",
    "tot_quotes_byelection.rename(columns = {'normalize_quotes': 'total_quotes_byelection'}, inplace=True)\n",
    "\n",
    "# We add the vote rate and plot the scatter plot of vote rate against total quotes by election\n",
    "tot_quotes_byelection['vote_rate'] = tot_quotes_byelection.index.map(candidate_info_byname['vote_rate'])\n",
    "\n",
    "# linear regression\n",
    "quotes_vote = tot_quotes_byelection.plot.scatter(x = 'total_quotes_byelection', y = 'vote_rate', logx=True)\n",
    "(corr1, pvalue) = pearsonr(np.log(tot_quotes_byelection['total_quotes_byelection']), tot_quotes_byelection['vote_rate'])\n",
    "print(f'Pearson coefficient: {corr1}, p value: {pvalue}')"
   ]
  },
  {
   "cell_type": "markdown",
   "id": "d10ca665-aab8-4eb6-a3b8-5b32ba2dc165",
   "metadata": {},
   "source": [
    "**Observation**: Based on the plot above, we can see that there is also a positive correlation between number of mentioned quotations and vote_rate with p value < 0.05."
   ]
  },
  {
   "cell_type": "markdown",
   "id": "465f405e",
   "metadata": {},
   "source": [
    "## 2. Weigh the quotations by readership\n",
    "We are aware of the different reading statistics of different media. We try to weigh the quotations by the readership of the source media."
   ]
  },
  {
   "cell_type": "markdown",
   "id": "78072790",
   "metadata": {},
   "source": [
    "**2.1** First, we sample 50k quotes and look at the source media of those quotations. This would give us a feel of how much media is covered by QuoteBank and which media appear most often. To balance the data said by candidates and the data mentioning candidates, we sample the 50k quotes according to the ratio of total data in 'candidate_quotes' and 'candidate_quotes_mention'"
   ]
  },
  {
   "cell_type": "code",
   "execution_count": 25,
   "id": "d885f7be",
   "metadata": {},
   "outputs": [
    {
     "name": "stdout",
     "output_type": "stream",
     "text": [
      "we sample 43127 quotes said by candidates and 6873 quotes mentioning candidates\n"
     ]
    }
   ],
   "source": [
    "# sample 50k quotes and see where quotes are published\n",
    "candidate_quotes_mention.reset_index(inplace=True) # Reset index of mention dataset\n",
    "sample_n = 50000\n",
    "said_n = len(candidate_quotes.index) # total number of quotes said by candidates\n",
    "mention_n = len(candidate_quotes_mention.index) # total number of quotes mentioning candidates\n",
    "mention_sample_n = int(sample_n * mention_n/(mention_n + said_n))\n",
    "said_sample_n = sample_n - mention_sample_n\n",
    "print('we sample {} quotes said by candidates and {} quotes mentioning candidates'.format(said_sample_n, mention_sample_n))"
   ]
  },
  {
   "cell_type": "code",
   "execution_count": 26,
   "id": "27cb8060",
   "metadata": {},
   "outputs": [],
   "source": [
    "# We extract the domains from two data set based on the ratio computed above\n",
    "total_domains = []\n",
    "said_sample = candidate_quotes.sample(said_sample_n) # sample from quotes said by candidates\n",
    "# We extract web domains from the url\n",
    "for i in said_sample.index:\n",
    "    urls = said_sample.at[i,'urls']\n",
    "    for url in urls: # Some URL here is actually a list (there are lists in list), not sure why it happens\n",
    "        total_domains.append(get_tld(url, as_object=True).domain)\n",
    "\n",
    "mention_sample = candidate_quotes.sample(mention_sample_n) # sample from quotes said by candidates\n",
    "# We use the same pipeline to extract domain\n",
    "for i in mention_sample.index:\n",
    "    urls = mention_sample.at[i,'urls']\n",
    "    for url in urls: # Some URL here is actually a list (there are lists in list), not sure why it happens\n",
    "        total_domains.append(get_tld(url, as_object=True).domain)"
   ]
  },
  {
   "cell_type": "markdown",
   "id": "9d14268e",
   "metadata": {},
   "source": [
    "We use the code below to find top 30 frequently appearing media in the sample. (Note: the last several media may be different from sample to sample, but overall they do not affect the result!)"
   ]
  },
  {
   "cell_type": "code",
   "execution_count": 27,
   "id": "e5460c99",
   "metadata": {},
   "outputs": [
    {
     "name": "stdout",
     "output_type": "stream",
     "text": [
      "----top 30 news agency/publisher:\n",
      "  [('krmg', 5670), ('msn', 3356), ('news965', 3127), ('wokv', 2908), ('businessinsider', 2609), ('yahoo', 2556), ('breitbart', 2532), ('thehill', 2333), ('washingtonexaminer', 2234), ('washingtontimes', 2192), ('cnn', 2025), ('cbsnews', 1941), ('einnews', 1843), ('newsmax', 1818), ('foxnews', 1686), ('nytimes', 1556), ('washingtonpost', 1333), ('nbcnews', 1285), ('sfgate', 1214), ('huffingtonpost', 1174), ('wsbradio', 1167), ('kdhnews', 1084), ('news12', 1079), ('ksl', 1018), ('startribune', 992), ('abc-7', 926), ('lmtonline', 920), ('politico', 889), ('seattletimes', 883), ('newsweek', 872)]\n",
      "----number of news agency covered: 4753\n"
     ]
    }
   ],
   "source": [
    "# Count the frequency of media occurences in quotation dataset\n",
    "from collections import Counter\n",
    "domain_count = Counter(total_domains).most_common()\n",
    "print(\"----top 30 news agency/publisher:\\n \", domain_count[0:30])\n",
    "print('----number of news agency covered:', len(domain_count))\n"
   ]
  },
  {
   "cell_type": "markdown",
   "id": "02273b19",
   "metadata": {},
   "source": [
    "Among 50k samples, there are over 4000 different website domains, indicating a sufficiently wide coverage of media. So the quotations can be an indicator of public exposure. Besides, we observe an exponential decrease of counts in the database."
   ]
  },
  {
   "cell_type": "code",
   "execution_count": 28,
   "id": "f56d72aa",
   "metadata": {},
   "outputs": [
    {
     "data": {
      "text/plain": [
       "Text(0.5, 0, 'occurences in sampled quote data')"
      ]
     },
     "execution_count": 28,
     "metadata": {},
     "output_type": "execute_result"
    },
    {
     "data": {
      "image/png": "[encoded data removed]",
      "text/plain": [
       "<Figure size 432x288 with 1 Axes>"
      ]
     },
     "metadata": {
      "needs_background": "light"
     },
     "output_type": "display_data"
    }
   ],
   "source": [
    "# Plot the histogram characterizing the frequency of each media appearing\n",
    "_, y_counts = zip(*domain_count)\n",
    "plt.hist(y_counts, bins=20)\n",
    "plt.yscale('log')\n",
    "plt.ylabel('number of media')\n",
    "plt.xlabel('occurences in sampled quote data')"
   ]
  },
  {
   "cell_type": "markdown",
   "id": "348f4862",
   "metadata": {},
   "source": [
    "**Do Not Re run the cell below! In case sample changes**\n",
    "\n",
    "10 randomly selected news agency/publisher except the top 30:\n",
    "\n",
    "  ['bakersfield','wtkr', 'go', 'navytimes', 'advertiser-tribune', 'circleofblue', 'nbcphiladelphia', 'malaymail', 'illawarramercury', 'hawaiinewsnow']\n",
    "  \n",
    "The code to get the 10 random media is shown below, we comment it out because each time it selects 10 different media, which may confuse the viewer of this notebook."
   ]
  },
  {
   "cell_type": "code",
   "execution_count": 29,
   "id": "b473f8d5",
   "metadata": {},
   "outputs": [
    {
     "name": "stdout",
     "output_type": "stream",
     "text": [
      "Couldn't find program: 'echo'\n"
     ]
    }
   ],
   "source": [
    "%%script echo skipping\n",
    "#media_ind = np.random.randint(31, len(domain_count), size=10)\n",
    "#print(\"10 randomly selected news agency/publisher except the top 30:\\n \", [domain_count[i] for i in media_ind])"
   ]
  },
  {
   "cell_type": "markdown",
   "id": "182839a2",
   "metadata": {},
   "source": [
    "The distribution is heavy-tailed, with only a few big media like CNN and Fox News occurring frequently. Most media occurs no more than 1.5% among all quotations. So, we think it is sufficient to just weigh the quotations extracted from those frequently occurring media. Moreover, it is very difficult to automatically find media's reading statistics (or other indicators of popularity) just based on the url major domain name. We could not think of a way to do so. Neither could we find an open dataset helping us. Therefore, we decide to manually look up the readership of those top 30 new agencies. For the rest media, we will sample 10 media from them and manually look up the reading statistics. We will take the average readership of those 10 media to represent the readership of the rest media. This will take up some time, so we plan to finish those manual work in the following weeks (see proposed timeline). As a result, we do not include any exposure level (quotation weighted by media readership) in Milestone 2. Instead, we just use the number of quotations (assuming all media offer the same public exposure)."
   ]
  },
  {
   "cell_type": "markdown",
   "id": "2b201045",
   "metadata": {},
   "source": [
    "**2.2** We manually search the total website visits of top 30 news agencies of the 10 randomly selected agencies among the rest. We could not find the data of some websites, so we use the median of others to fill it."
   ]
  },
  {
   "cell_type": "code",
   "execution_count": 30,
   "id": "3ae3c340",
   "metadata": {},
   "outputs": [
    {
     "data": {
      "text/html": [
       "<div>\n",
       "<style scoped>\n",
       "    .dataframe tbody tr th:only-of-type {\n",
       "        vertical-align: middle;\n",
       "    }\n",
       "\n",
       "    .dataframe tbody tr th {\n",
       "        vertical-align: top;\n",
       "    }\n",
       "\n",
       "    .dataframe thead th {\n",
       "        text-align: right;\n",
       "    }\n",
       "</style>\n",
       "<table border=\"1\" class=\"dataframe\">\n",
       "  <thead>\n",
       "    <tr style=\"text-align: right;\">\n",
       "      <th></th>\n",
       "      <th>webdomain</th>\n",
       "      <th>media</th>\n",
       "      <th>total_view_in_US</th>\n",
       "    </tr>\n",
       "  </thead>\n",
       "  <tbody>\n",
       "    <tr>\n",
       "      <th>0</th>\n",
       "      <td>KRMG</td>\n",
       "      <td>KRMG</td>\n",
       "      <td>0.11</td>\n",
       "    </tr>\n",
       "    <tr>\n",
       "      <th>1</th>\n",
       "      <td>news965</td>\n",
       "      <td>WBDO</td>\n",
       "      <td>21.68</td>\n",
       "    </tr>\n",
       "    <tr>\n",
       "      <th>2</th>\n",
       "      <td>wokv</td>\n",
       "      <td>WOKV</td>\n",
       "      <td>0.09</td>\n",
       "    </tr>\n",
       "    <tr>\n",
       "      <th>3</th>\n",
       "      <td>msn</td>\n",
       "      <td>MSN</td>\n",
       "      <td>323.98</td>\n",
       "    </tr>\n",
       "    <tr>\n",
       "      <th>4</th>\n",
       "      <td>breitbart</td>\n",
       "      <td>Breitbart</td>\n",
       "      <td>42.19</td>\n",
       "    </tr>\n",
       "  </tbody>\n",
       "</table>\n",
       "</div>"
      ],
      "text/plain": [
       "   webdomain      media  total_view_in_US\n",
       "0       KRMG       KRMG              0.11\n",
       "1    news965       WBDO             21.68\n",
       "2       wokv       WOKV              0.09\n",
       "3        msn        MSN            323.98\n",
       "4  breitbart  Breitbart             42.19"
      ]
     },
     "execution_count": 30,
     "metadata": {},
     "output_type": "execute_result"
    }
   ],
   "source": [
    "weight_file = 'SenateData/WebsiteVisit.csv'\n",
    "weight_df = pd.read_csv(weight_file)\n",
    "# Fill the NaN value by median (which avoid effect from outliers)\n",
    "weight_df.loc[:, ['total_view_in_US']] = weight_df[['total_view_in_US']].fillna(weight_df[['total_view_in_US']].median())\n",
    "weight_df.head(5) # demonstrate the format website view data for weight\n"
   ]
  },
  {
   "cell_type": "code",
   "execution_count": 31,
   "id": "d4c3453a",
   "metadata": {},
   "outputs": [
    {
     "name": "stdout",
     "output_type": "stream",
     "text": [
      "The median value of total views of the 10 agencies is 0.675\n"
     ]
    }
   ],
   "source": [
    "# Get the views for the 10 randomly selected agencies\n",
    "random_file = 'SenateData/RandomVisit.csv'\n",
    "random_df = pd.read_csv(random_file)\n",
    "# We take the median of total_US_view of the 10 agencies, as view for other agencies\n",
    "random_view = random_df['total_view_in_US'].median()\n",
    "print('The median value of total views of the 10 agencies is {}'.format(random_view))"
   ]
  },
  {
   "cell_type": "markdown",
   "id": "d6c7eb73",
   "metadata": {},
   "source": [
    "Then, we add those weights to the 'candidate_quotes' and 'candidate_quotes_mention'"
   ]
  },
  {
   "cell_type": "code",
   "execution_count": 32,
   "id": "5b63449c",
   "metadata": {},
   "outputs": [
    {
     "name": "stdout",
     "output_type": "stream",
     "text": [
      "For quotes said by candidates, we found 594482 numbers of quotation occurrences from top 30\n"
     ]
    }
   ],
   "source": [
    "# assign weights to quotes said by candidates\n",
    "weight_dict = dict(zip(weight_df['webdomain'], weight_df['total_view_in_US']))\n",
    "n_hit = 0\n",
    "for i in candidate_quotes.index:\n",
    "    urls = candidate_quotes.at[i,'urls']\n",
    "    weight_ = 0\n",
    "    for url in urls: # Some URL here is actually a list (there are lists in list), not sure why it happens\n",
    "        webdomain = get_tld(url, as_object=True).domain # when it is a list, the multiply urls point to the same website\n",
    "        if webdomain in weight_dict.keys():\n",
    "            weight_ = weight_ + weight_dict[webdomain]\n",
    "            n_hit = n_hit + 1\n",
    "        else:\n",
    "            weight_ = weight_ + random_view\n",
    "    candidate_quotes.at[i,'views'] = weight_ \n",
    "print('For quotes said by candidates, we found {} numbers of quotation occurrences from top 30'.format(n_hit))"
   ]
  },
  {
   "cell_type": "code",
   "execution_count": 33,
   "id": "16027420",
   "metadata": {},
   "outputs": [
    {
     "data": {
      "text/html": [
       "<div>\n",
       "<style scoped>\n",
       "    .dataframe tbody tr th:only-of-type {\n",
       "        vertical-align: middle;\n",
       "    }\n",
       "\n",
       "    .dataframe tbody tr th {\n",
       "        vertical-align: top;\n",
       "    }\n",
       "\n",
       "    .dataframe thead th {\n",
       "        text-align: right;\n",
       "    }\n",
       "</style>\n",
       "<table border=\"1\" class=\"dataframe\">\n",
       "  <thead>\n",
       "    <tr style=\"text-align: right;\">\n",
       "      <th></th>\n",
       "      <th>index</th>\n",
       "      <th>quoteID</th>\n",
       "      <th>quotation</th>\n",
       "      <th>speaker</th>\n",
       "      <th>qids</th>\n",
       "      <th>date</th>\n",
       "      <th>numOccurrences</th>\n",
       "      <th>probas</th>\n",
       "      <th>urls</th>\n",
       "      <th>phase</th>\n",
       "      <th>domains</th>\n",
       "      <th>normalize_factor</th>\n",
       "      <th>normalize_quotes</th>\n",
       "      <th>date_only</th>\n",
       "      <th>election_day</th>\n",
       "      <th>views</th>\n",
       "      <th>normalize_views</th>\n",
       "    </tr>\n",
       "  </thead>\n",
       "  <tbody>\n",
       "    <tr>\n",
       "      <th>507297</th>\n",
       "      <td>20645</td>\n",
       "      <td>2019-08-10-029244</td>\n",
       "      <td>Mr. President, they don't feel that way with you,</td>\n",
       "      <td>JOE MANCHIN</td>\n",
       "      <td>[Q538868]</td>\n",
       "      <td>2019-08-10 04:31:47</td>\n",
       "      <td>1</td>\n",
       "      <td>[[Joe Manchin, 0.6205], [None, 0.2984], [Presi...</td>\n",
       "      <td>[https://www.thedickinsonpress.com/news/nation...</td>\n",
       "      <td>E</td>\n",
       "      <td>[com]</td>\n",
       "      <td>0.579021</td>\n",
       "      <td>0.579021</td>\n",
       "      <td>2019-08-10</td>\n",
       "      <td>2018-11-01</td>\n",
       "      <td>0.675</td>\n",
       "      <td>0.390839</td>\n",
       "    </tr>\n",
       "    <tr>\n",
       "      <th>526133</th>\n",
       "      <td>39481</td>\n",
       "      <td>2019-07-12-064436</td>\n",
       "      <td>She is putting her commitment to the words `Ne...</td>\n",
       "      <td>JACKY ROSEN</td>\n",
       "      <td>[Q27825033]</td>\n",
       "      <td>2019-07-12 09:30:00</td>\n",
       "      <td>1</td>\n",
       "      <td>[[Jacky Rosen, 0.8121], [None, 0.1879]]</td>\n",
       "      <td>[https://www.jpost.com/International/Senators-...</td>\n",
       "      <td>E</td>\n",
       "      <td>[com]</td>\n",
       "      <td>0.668486</td>\n",
       "      <td>0.668486</td>\n",
       "      <td>2019-07-12</td>\n",
       "      <td>2018-11-01</td>\n",
       "      <td>0.675</td>\n",
       "      <td>0.451228</td>\n",
       "    </tr>\n",
       "    <tr>\n",
       "      <th>101329</th>\n",
       "      <td>779</td>\n",
       "      <td>2017-06-15-121731</td>\n",
       "      <td>There's no doubt this was a community that was...</td>\n",
       "      <td>MARCO RUBIO</td>\n",
       "      <td>[Q324546]</td>\n",
       "      <td>2017-06-15 09:00:30</td>\n",
       "      <td>1</td>\n",
       "      <td>[[Marco Rubio, 0.7191], [None, 0.2503], [Presi...</td>\n",
       "      <td>[http://floridapolitics.com/archives/239415-de...</td>\n",
       "      <td>E</td>\n",
       "      <td>[com]</td>\n",
       "      <td>0.411438</td>\n",
       "      <td>0.411438</td>\n",
       "      <td>2017-06-15</td>\n",
       "      <td>2016-11-01</td>\n",
       "      <td>0.675</td>\n",
       "      <td>0.277720</td>\n",
       "    </tr>\n",
       "    <tr>\n",
       "      <th>470505</th>\n",
       "      <td>182605</td>\n",
       "      <td>2018-09-03-007693</td>\n",
       "      <td>Brett Kavanaugh praised the dissent in Roe v W...</td>\n",
       "      <td>DIANNE FEINSTEIN</td>\n",
       "      <td>[Q230733]</td>\n",
       "      <td>2018-09-03 20:56:00</td>\n",
       "      <td>2</td>\n",
       "      <td>[[Dianne Feinstein, 0.8993], [None, 0.0916], [...</td>\n",
       "      <td>[http://www.aljazeera.com/news/2018/09/supreme...</td>\n",
       "      <td>E</td>\n",
       "      <td>[com, net]</td>\n",
       "      <td>0.459009</td>\n",
       "      <td>0.918017</td>\n",
       "      <td>2018-09-03</td>\n",
       "      <td>2018-11-01</td>\n",
       "      <td>1.350</td>\n",
       "      <td>0.619662</td>\n",
       "    </tr>\n",
       "    <tr>\n",
       "      <th>67007</th>\n",
       "      <td>67007</td>\n",
       "      <td>2016-07-02-014111</td>\n",
       "      <td>He prioritizes his life in this order: No. 1, ...</td>\n",
       "      <td>JOE MILLER</td>\n",
       "      <td>[Q25190010, Q6211366, Q6211368, Q6211373, Q621...</td>\n",
       "      <td>2016-07-02 00:17:57</td>\n",
       "      <td>1</td>\n",
       "      <td>[[Joe Miller, 0.9361], [None, 0.0639]]</td>\n",
       "      <td>[http://fenderbender.com/FenderBender/July-201...</td>\n",
       "      <td>E</td>\n",
       "      <td>[com]</td>\n",
       "      <td>0.452054</td>\n",
       "      <td>0.452054</td>\n",
       "      <td>2016-07-02</td>\n",
       "      <td>2016-11-01</td>\n",
       "      <td>0.675</td>\n",
       "      <td>0.305136</td>\n",
       "    </tr>\n",
       "  </tbody>\n",
       "</table>\n",
       "</div>"
      ],
      "text/plain": [
       "         index            quoteID  \\\n",
       "507297   20645  2019-08-10-029244   \n",
       "526133   39481  2019-07-12-064436   \n",
       "101329     779  2017-06-15-121731   \n",
       "470505  182605  2018-09-03-007693   \n",
       "67007    67007  2016-07-02-014111   \n",
       "\n",
       "                                                quotation           speaker  \\\n",
       "507297  Mr. President, they don't feel that way with you,       JOE MANCHIN   \n",
       "526133  She is putting her commitment to the words `Ne...       JACKY ROSEN   \n",
       "101329  There's no doubt this was a community that was...       MARCO RUBIO   \n",
       "470505  Brett Kavanaugh praised the dissent in Roe v W...  DIANNE FEINSTEIN   \n",
       "67007   He prioritizes his life in this order: No. 1, ...        JOE MILLER   \n",
       "\n",
       "                                                     qids                date  \\\n",
       "507297                                          [Q538868] 2019-08-10 04:31:47   \n",
       "526133                                        [Q27825033] 2019-07-12 09:30:00   \n",
       "101329                                          [Q324546] 2017-06-15 09:00:30   \n",
       "470505                                          [Q230733] 2018-09-03 20:56:00   \n",
       "67007   [Q25190010, Q6211366, Q6211368, Q6211373, Q621... 2016-07-02 00:17:57   \n",
       "\n",
       "        numOccurrences                                             probas  \\\n",
       "507297               1  [[Joe Manchin, 0.6205], [None, 0.2984], [Presi...   \n",
       "526133               1            [[Jacky Rosen, 0.8121], [None, 0.1879]]   \n",
       "101329               1  [[Marco Rubio, 0.7191], [None, 0.2503], [Presi...   \n",
       "470505               2  [[Dianne Feinstein, 0.8993], [None, 0.0916], [...   \n",
       "67007                1             [[Joe Miller, 0.9361], [None, 0.0639]]   \n",
       "\n",
       "                                                     urls phase     domains  \\\n",
       "507297  [https://www.thedickinsonpress.com/news/nation...     E       [com]   \n",
       "526133  [https://www.jpost.com/International/Senators-...     E       [com]   \n",
       "101329  [http://floridapolitics.com/archives/239415-de...     E       [com]   \n",
       "470505  [http://www.aljazeera.com/news/2018/09/supreme...     E  [com, net]   \n",
       "67007   [http://fenderbender.com/FenderBender/July-201...     E       [com]   \n",
       "\n",
       "        normalize_factor  normalize_quotes   date_only election_day  views  \\\n",
       "507297          0.579021          0.579021  2019-08-10   2018-11-01  0.675   \n",
       "526133          0.668486          0.668486  2019-07-12   2018-11-01  0.675   \n",
       "101329          0.411438          0.411438  2017-06-15   2016-11-01  0.675   \n",
       "470505          0.459009          0.918017  2018-09-03   2018-11-01  1.350   \n",
       "67007           0.452054          0.452054  2016-07-02   2016-11-01  0.675   \n",
       "\n",
       "        normalize_views  \n",
       "507297         0.390839  \n",
       "526133         0.451228  \n",
       "101329         0.277720  \n",
       "470505         0.619662  \n",
       "67007          0.305136  "
      ]
     },
     "execution_count": 33,
     "metadata": {},
     "output_type": "execute_result"
    }
   ],
   "source": [
    "# Multiply views by normalization factors\n",
    "candidate_quotes['normalize_views'] = candidate_quotes['views']*candidate_quotes['normalize_factor']\n",
    "candidate_quotes.sample(5)"
   ]
  },
  {
   "cell_type": "code",
   "execution_count": 34,
   "id": "c40427e3",
   "metadata": {},
   "outputs": [
    {
     "name": "stdout",
     "output_type": "stream",
     "text": [
      "For quotes mentioning candidates, we found 63187 numbers of quotation occurrences from top 30\n"
     ]
    }
   ],
   "source": [
    "# assign weights to quotes mentioning candidates\n",
    "n_hit = 0\n",
    "for i in candidate_quotes_mention.index:\n",
    "    urls = candidate_quotes_mention.at[i,'urls']\n",
    "    weight_ = 0\n",
    "    for url in urls: # Some URL here is actually a list (there are lists in list), not sure why it happens\n",
    "        webdomain = get_tld(url, as_object=True).domain # when it is a list, the multiply urls point to the same website\n",
    "        if webdomain in weight_dict.keys():\n",
    "            weight_ = weight_ + weight_dict[webdomain]\n",
    "            n_hit = n_hit + 1\n",
    "        else:\n",
    "            weight_ = weight_ + random_view\n",
    "    candidate_quotes_mention.at[i,'views'] = weight_ \n",
    "print('For quotes mentioning candidates, we found {} numbers of quotation occurrences from top 30'.format(n_hit))"
   ]
  },
  {
   "cell_type": "code",
   "execution_count": 35,
   "id": "157f9716",
   "metadata": {},
   "outputs": [
    {
     "data": {
      "text/html": [
       "<div>\n",
       "<style scoped>\n",
       "    .dataframe tbody tr th:only-of-type {\n",
       "        vertical-align: middle;\n",
       "    }\n",
       "\n",
       "    .dataframe tbody tr th {\n",
       "        vertical-align: top;\n",
       "    }\n",
       "\n",
       "    .dataframe thead th {\n",
       "        text-align: right;\n",
       "    }\n",
       "</style>\n",
       "<table border=\"1\" class=\"dataframe\">\n",
       "  <thead>\n",
       "    <tr style=\"text-align: right;\">\n",
       "      <th></th>\n",
       "      <th>index</th>\n",
       "      <th>quoteID</th>\n",
       "      <th>quotation</th>\n",
       "      <th>speaker</th>\n",
       "      <th>qids</th>\n",
       "      <th>date</th>\n",
       "      <th>numOccurrences</th>\n",
       "      <th>probas</th>\n",
       "      <th>urls</th>\n",
       "      <th>phase</th>\n",
       "      <th>mention</th>\n",
       "      <th>domains</th>\n",
       "      <th>date_only</th>\n",
       "      <th>normalize_factor</th>\n",
       "      <th>normalize_quotes</th>\n",
       "      <th>election_day</th>\n",
       "      <th>views</th>\n",
       "      <th>normalize_views</th>\n",
       "    </tr>\n",
       "  </thead>\n",
       "  <tbody>\n",
       "    <tr>\n",
       "      <th>85457</th>\n",
       "      <td>16016</td>\n",
       "      <td>2019-06-27-110700</td>\n",
       "      <td>Why Democrats think 2020 is the year they can ...</td>\n",
       "      <td>None</td>\n",
       "      <td>[]</td>\n",
       "      <td>2019-06-27 22:12:50</td>\n",
       "      <td>1</td>\n",
       "      <td>[[None, 0.9019], [Susan Collins, 0.0981]]</td>\n",
       "      <td>[http://www.colby.edu/news/2019/06/27/maisel-q...</td>\n",
       "      <td>E</td>\n",
       "      <td>SUSAN MARGARET COLLINS</td>\n",
       "      <td>[edu]</td>\n",
       "      <td>2019-06-27</td>\n",
       "      <td>0.551375</td>\n",
       "      <td>0.551375</td>\n",
       "      <td>2020-11-01</td>\n",
       "      <td>0.675</td>\n",
       "      <td>0.372178</td>\n",
       "    </tr>\n",
       "    <tr>\n",
       "      <th>77365</th>\n",
       "      <td>7924</td>\n",
       "      <td>2019-12-09-087067</td>\n",
       "      <td>We all know in law enforcement that one of the...</td>\n",
       "      <td>None</td>\n",
       "      <td>[]</td>\n",
       "      <td>2019-12-09 14:08:39</td>\n",
       "      <td>1</td>\n",
       "      <td>[[None, 0.8442], [Mitch McConnell, 0.1339], [C...</td>\n",
       "      <td>[https://americanindependent.com/houston-polic...</td>\n",
       "      <td>E</td>\n",
       "      <td>TED CRUZ</td>\n",
       "      <td>[com]</td>\n",
       "      <td>2019-12-09</td>\n",
       "      <td>0.638847</td>\n",
       "      <td>0.638847</td>\n",
       "      <td>2018-11-01</td>\n",
       "      <td>0.675</td>\n",
       "      <td>0.431221</td>\n",
       "    </tr>\n",
       "    <tr>\n",
       "      <th>16251</th>\n",
       "      <td>16251</td>\n",
       "      <td>2015-12-23-053449</td>\n",
       "      <td>Like Mitt Romney before him, Jeb is the inevit...</td>\n",
       "      <td>None</td>\n",
       "      <td>[]</td>\n",
       "      <td>2015-12-23 15:37:36</td>\n",
       "      <td>1</td>\n",
       "      <td>[[None, 0.7409], [Jeb Bush, 0.2167], [Roger Go...</td>\n",
       "      <td>[http://www.ijreview.com/2015/12/499868-the-tw...</td>\n",
       "      <td>E</td>\n",
       "      <td>MITT ROMNEY</td>\n",
       "      <td>[com]</td>\n",
       "      <td>2015-12-23</td>\n",
       "      <td>0.477546</td>\n",
       "      <td>0.477546</td>\n",
       "      <td>2018-11-01</td>\n",
       "      <td>0.675</td>\n",
       "      <td>0.322344</td>\n",
       "    </tr>\n",
       "    <tr>\n",
       "      <th>65968</th>\n",
       "      <td>17964</td>\n",
       "      <td>2018-02-27-036740</td>\n",
       "      <td>However offended anybody was at the passion in...</td>\n",
       "      <td>Jake Tapper</td>\n",
       "      <td>[Q6125032]</td>\n",
       "      <td>2018-02-27 22:41:39</td>\n",
       "      <td>1</td>\n",
       "      <td>[[Jake Tapper, 0.9705], [None, 0.0295]]</td>\n",
       "      <td>[http://thehill.com/homenews/media/375894-brei...</td>\n",
       "      <td>E</td>\n",
       "      <td>MARCO RUBIO</td>\n",
       "      <td>[com]</td>\n",
       "      <td>2018-02-27</td>\n",
       "      <td>0.401482</td>\n",
       "      <td>0.401482</td>\n",
       "      <td>2016-11-01</td>\n",
       "      <td>42.070</td>\n",
       "      <td>16.890339</td>\n",
       "    </tr>\n",
       "    <tr>\n",
       "      <th>61591</th>\n",
       "      <td>13587</td>\n",
       "      <td>2018-08-26-031399</td>\n",
       "      <td>John McCain was just a really cool, down-to-ea...</td>\n",
       "      <td>None</td>\n",
       "      <td>[]</td>\n",
       "      <td>2018-08-26 16:16:25</td>\n",
       "      <td>1</td>\n",
       "      <td>[[None, 0.8735], [John McCain, 0.1265]]</td>\n",
       "      <td>[https://nypost.com/2018/08/26/this-sleepy-ari...</td>\n",
       "      <td>E</td>\n",
       "      <td>JOHN MCCAIN</td>\n",
       "      <td>[com]</td>\n",
       "      <td>2018-08-26</td>\n",
       "      <td>0.497688</td>\n",
       "      <td>0.497688</td>\n",
       "      <td>2016-11-01</td>\n",
       "      <td>0.675</td>\n",
       "      <td>0.335939</td>\n",
       "    </tr>\n",
       "  </tbody>\n",
       "</table>\n",
       "</div>"
      ],
      "text/plain": [
       "       index            quoteID  \\\n",
       "85457  16016  2019-06-27-110700   \n",
       "77365   7924  2019-12-09-087067   \n",
       "16251  16251  2015-12-23-053449   \n",
       "65968  17964  2018-02-27-036740   \n",
       "61591  13587  2018-08-26-031399   \n",
       "\n",
       "                                               quotation      speaker  \\\n",
       "85457  Why Democrats think 2020 is the year they can ...         None   \n",
       "77365  We all know in law enforcement that one of the...         None   \n",
       "16251  Like Mitt Romney before him, Jeb is the inevit...         None   \n",
       "65968  However offended anybody was at the passion in...  Jake Tapper   \n",
       "61591  John McCain was just a really cool, down-to-ea...         None   \n",
       "\n",
       "             qids                date  numOccurrences  \\\n",
       "85457          [] 2019-06-27 22:12:50               1   \n",
       "77365          [] 2019-12-09 14:08:39               1   \n",
       "16251          [] 2015-12-23 15:37:36               1   \n",
       "65968  [Q6125032] 2018-02-27 22:41:39               1   \n",
       "61591          [] 2018-08-26 16:16:25               1   \n",
       "\n",
       "                                                  probas  \\\n",
       "85457          [[None, 0.9019], [Susan Collins, 0.0981]]   \n",
       "77365  [[None, 0.8442], [Mitch McConnell, 0.1339], [C...   \n",
       "16251  [[None, 0.7409], [Jeb Bush, 0.2167], [Roger Go...   \n",
       "65968            [[Jake Tapper, 0.9705], [None, 0.0295]]   \n",
       "61591            [[None, 0.8735], [John McCain, 0.1265]]   \n",
       "\n",
       "                                                    urls phase  \\\n",
       "85457  [http://www.colby.edu/news/2019/06/27/maisel-q...     E   \n",
       "77365  [https://americanindependent.com/houston-polic...     E   \n",
       "16251  [http://www.ijreview.com/2015/12/499868-the-tw...     E   \n",
       "65968  [http://thehill.com/homenews/media/375894-brei...     E   \n",
       "61591  [https://nypost.com/2018/08/26/this-sleepy-ari...     E   \n",
       "\n",
       "                      mention domains   date_only  normalize_factor  \\\n",
       "85457  SUSAN MARGARET COLLINS   [edu]  2019-06-27          0.551375   \n",
       "77365                TED CRUZ   [com]  2019-12-09          0.638847   \n",
       "16251             MITT ROMNEY   [com]  2015-12-23          0.477546   \n",
       "65968             MARCO RUBIO   [com]  2018-02-27          0.401482   \n",
       "61591             JOHN MCCAIN   [com]  2018-08-26          0.497688   \n",
       "\n",
       "       normalize_quotes election_day   views  normalize_views  \n",
       "85457          0.551375   2020-11-01   0.675         0.372178  \n",
       "77365          0.638847   2018-11-01   0.675         0.431221  \n",
       "16251          0.477546   2018-11-01   0.675         0.322344  \n",
       "65968          0.401482   2016-11-01  42.070        16.890339  \n",
       "61591          0.497688   2016-11-01   0.675         0.335939  "
      ]
     },
     "execution_count": 35,
     "metadata": {},
     "output_type": "execute_result"
    }
   ],
   "source": [
    "# Multiply views by normalization factors\n",
    "candidate_quotes_mention['normalize_views'] = candidate_quotes_mention['views']*candidate_quotes_mention['normalize_factor']\n",
    "candidate_quotes_mention.sample(5)"
   ]
  },
  {
   "cell_type": "markdown",
   "id": "b51e738a",
   "metadata": {},
   "source": [
    "**2.3** We repeat the protocol in section **1.2-1.3** to examine the effect of weighted quotations by candidates on their election results "
   ]
  },
  {
   "cell_type": "code",
   "execution_count": 36,
   "id": "56a35498",
   "metadata": {},
   "outputs": [
    {
     "data": {
      "text/plain": [
       "speaker          date_only \n",
       "AARON JAMES      2016-02-18    3.886111\n",
       "                 2016-05-10    0.592021\n",
       "                 2016-05-12    0.592021\n",
       "                 2016-05-18    3.256116\n",
       "                 2016-05-25    0.592021\n",
       "                                 ...   \n",
       "ZAK RINGELSTEIN  2018-10-30    3.459560\n",
       "                 2018-11-01    1.607768\n",
       "                 2018-11-05    0.321554\n",
       "                 2018-11-07    0.321554\n",
       "                 2019-03-21    0.340118\n",
       "Name: normalize_views, Length: 79165, dtype: float64"
      ]
     },
     "execution_count": 36,
     "metadata": {},
     "output_type": "execute_result"
    }
   ],
   "source": [
    "# Clean the names by taking only upper case\n",
    "# Group the candidate total number of quotes by day\n",
    "candidate_quotes['speaker'] = candidate_quotes['speaker'].str.upper()\n",
    "candidate_quotes['date_only'] = candidate_quotes['date'].dt.date\n",
    "candidate_views_byday = candidate_quotes.groupby(['speaker', 'date_only'])['normalize_views'].sum()\n",
    "candidate_views_byday"
   ]
  },
  {
   "cell_type": "code",
   "execution_count": 37,
   "id": "2c48ef66",
   "metadata": {
    "scrolled": true
   },
   "outputs": [
    {
     "data": {
      "text/plain": [
       "Text(0.5, 1.0, 'Bernie Sanders')"
      ]
     },
     "execution_count": 37,
     "metadata": {},
     "output_type": "execute_result"
    },
    {
     "data": {
      "image/png": "[encoded data removed]",
      "text/plain": [
       "<Figure size 432x288 with 1 Axes>"
      ]
     },
     "metadata": {
      "needs_background": "light"
     },
     "output_type": "display_data"
    }
   ],
   "source": [
    "# For example, we can visualize the quotation changes of Bernie Sanders\n",
    "candidate_quotes_byday['BERNIE SANDERS'].rolling(window=30).sum().plot() # one months average\n",
    "plt.xlabel('time')\n",
    "plt.xticks(rotation=90)\n",
    "plt.ylabel('Weight Quotes: Said')\n",
    "plt.title('Bernie Sanders')"
   ]
  },
  {
   "cell_type": "code",
   "execution_count": 38,
   "id": "bddc3da3",
   "metadata": {},
   "outputs": [],
   "source": [
    "# We group weighted quotations (audience views) by election day\n",
    "quotes_byelection = candidate_quotes[candidate_quotes['date_only'] < candidate_quotes['election_day']]\n",
    "views_byelection = pd.DataFrame(quotes_byelection.groupby(['speaker'])['normalize_views'].sum())\n",
    "views_byelection.rename(columns = {'normalize_views': 'views_byelection'}, inplace=True)"
   ]
  },
  {
   "cell_type": "code",
   "execution_count": 39,
   "id": "6dd92364",
   "metadata": {},
   "outputs": [
    {
     "name": "stdout",
     "output_type": "stream",
     "text": [
      "Pearson coefficient: 0.6463664020545221, p value: 1.133606340518867e-22\n"
     ]
    },
    {
     "data": {
      "image/png": "[encoded data removed]",
      "text/plain": [
       "<Figure size 432x288 with 1 Axes>"
      ]
     },
     "metadata": {
      "needs_background": "light"
     },
     "output_type": "display_data"
    }
   ],
   "source": [
    "# We add the vote rate and plot the scatter plot of vote rate against total quotes by election\n",
    "from scipy.stats import pearsonr\n",
    "views_byelection['vote_rate'] = views_byelection.index.map(candidate_info_byname['vote_rate'])\n",
    "views_vote = views_byelection.plot.scatter(x = 'views_byelection', y = 'vote_rate', logx=True)\n",
    "(corr1, pvalue) = pearsonr(np.log(views_byelection['views_byelection']), views_byelection['vote_rate'])\n",
    "print(f'Pearson coefficient: {corr1}, p value: {pvalue}')"
   ]
  },
  {
   "cell_type": "markdown",
   "id": "d9ec06fe",
   "metadata": {},
   "source": [
    "\n",
    "We notice very little change in the Pearson coefficient and p-value when comparing the result to section **1.3** (where we did not weigh the quotes by website views). "
   ]
  },
  {
   "cell_type": "markdown",
   "id": "97b34976",
   "metadata": {},
   "source": [
    "**2.4** We repeat the protocol in section **1.4** to examine the effect of weighted quotations mentioning candidates on their election results"
   ]
  },
  {
   "cell_type": "code",
   "execution_count": 40,
   "id": "5f05e086",
   "metadata": {},
   "outputs": [
    {
     "data": {
      "text/plain": [
       "mention           date_only \n",
       "A. WAYNE JOHNSON  2015-01-16      0.406348\n",
       "                  2015-08-04    153.408265\n",
       "                  2015-12-11      0.644688\n",
       "                  2017-02-12      1.404049\n",
       "                  2017-05-28      0.270903\n",
       "                                   ...    \n",
       "WILLIE L. WILSON  2019-03-30      0.340118\n",
       "                  2019-07-16     28.203418\n",
       "                  2019-11-04     11.759805\n",
       "ZAK RINGELSTEIN   2018-06-22      0.325350\n",
       "                  2018-10-24      0.288297\n",
       "Name: normalize_views, Length: 34904, dtype: float64"
      ]
     },
     "execution_count": 40,
     "metadata": {},
     "output_type": "execute_result"
    }
   ],
   "source": [
    "# obtain normalized views by day\n",
    "candidate_quotes_mention_byday = candidate_quotes_mention.groupby(['mention', 'date_only'])['normalize_views'].sum()\n",
    "candidate_quotes_mention_byday"
   ]
  },
  {
   "cell_type": "code",
   "execution_count": 41,
   "id": "6d00d21d",
   "metadata": {},
   "outputs": [
    {
     "data": {
      "text/plain": [
       "Text(0.5, 1.0, 'Bernie Sanders')"
      ]
     },
     "execution_count": 41,
     "metadata": {},
     "output_type": "execute_result"
    },
    {
     "data": {
      "image/png": "[encoded data removed]",
      "text/plain": [
       "<Figure size 432x288 with 1 Axes>"
      ]
     },
     "metadata": {
      "needs_background": "light"
     },
     "output_type": "display_data"
    }
   ],
   "source": [
    "# For example, we can visualize the normalized view changes of Bernie Sanders\n",
    "candidate_quotes_mention_byday['BERNIE SANDERS'].rolling(window=30).sum().plot() # one months average\n",
    "plt.xlabel('time')\n",
    "plt.ylabel('Quoted numbers: Mention')\n",
    "plt.title('Bernie Sanders')"
   ]
  },
  {
   "cell_type": "code",
   "execution_count": 42,
   "id": "ad1f1e0e",
   "metadata": {},
   "outputs": [
    {
     "name": "stdout",
     "output_type": "stream",
     "text": [
      "Pearson coefficient: 0.5944534670274673, p value: 3.416648866161509e-29\n"
     ]
    },
    {
     "data": {
      "image/png": "[encoded data removed]",
      "text/plain": [
       "<Figure size 432x288 with 1 Axes>"
      ]
     },
     "metadata": {
      "needs_background": "light"
     },
     "output_type": "display_data"
    }
   ],
   "source": [
    "from scipy.stats import pearsonr\n",
    "\n",
    "# We group the number of normalized views before election day\n",
    "quotes_byelection = candidate_quotes_mention[candidate_quotes_mention['date_only'] < candidate_quotes_mention['election_day']]\n",
    "tot_quotes_byelection = pd.DataFrame(quotes_byelection.groupby(['mention'])['normalize_views'].sum())\n",
    "tot_quotes_byelection.rename(columns = {'normalize_views': 'total_views_byelection'}, inplace=True)\n",
    "\n",
    "# We add the vote rate and plot the scatter plot of vote rate against total quotes by election\n",
    "tot_quotes_byelection['vote_rate'] = tot_quotes_byelection.index.map(candidate_info_byname['vote_rate'])\n",
    "\n",
    "# linear regression\n",
    "quotes_vote = tot_quotes_byelection.plot.scatter(x = 'total_views_byelection', y = 'vote_rate', logx=True)\n",
    "(corr1, pvalue) = pearsonr(np.log(tot_quotes_byelection['total_views_byelection']), tot_quotes_byelection['vote_rate'])\n",
    "print(f'Pearson coefficient: {corr1}, p value: {pvalue}')"
   ]
  },
  {
   "cell_type": "markdown",
   "id": "b82a3c76",
   "metadata": {},
   "source": [
    "Again, we notice very little change in the Pearson coefficient and p-value when comparing the result to section **1.4** (where we did not weigh the quotes by website views). "
   ]
  },
  {
   "cell_type": "markdown",
   "id": "3427df77",
   "metadata": {},
   "source": [
    "# 3. Clustering the quotation data\n",
    "To answer our proposed question 3, we clustered the quotation data to find different exposure-gaining process."
   ]
  },
  {
   "cell_type": "markdown",
   "id": "9bab413f",
   "metadata": {},
   "source": [
    "We will extract feature for each senate candidate."
   ]
  },
  {
   "cell_type": "code",
   "execution_count": 43,
   "id": "1a055bfc",
   "metadata": {},
   "outputs": [
    {
     "data": {
      "text/html": [
       "<div>\n",
       "<style scoped>\n",
       "    .dataframe tbody tr th:only-of-type {\n",
       "        vertical-align: middle;\n",
       "    }\n",
       "\n",
       "    .dataframe tbody tr th {\n",
       "        vertical-align: top;\n",
       "    }\n",
       "\n",
       "    .dataframe thead th {\n",
       "        text-align: right;\n",
       "    }\n",
       "</style>\n",
       "<table border=\"1\" class=\"dataframe\">\n",
       "  <thead>\n",
       "    <tr style=\"text-align: right;\">\n",
       "      <th></th>\n",
       "      <th>index</th>\n",
       "      <th>quoteID</th>\n",
       "      <th>quotation</th>\n",
       "      <th>speaker</th>\n",
       "      <th>qids</th>\n",
       "      <th>date</th>\n",
       "      <th>numOccurrences</th>\n",
       "      <th>probas</th>\n",
       "      <th>urls</th>\n",
       "      <th>phase</th>\n",
       "      <th>domains</th>\n",
       "      <th>normalize_factor</th>\n",
       "      <th>normalize_quotes</th>\n",
       "      <th>date_only</th>\n",
       "      <th>election_day</th>\n",
       "      <th>views</th>\n",
       "      <th>normalize_views</th>\n",
       "      <th>days_before_election</th>\n",
       "    </tr>\n",
       "  </thead>\n",
       "  <tbody>\n",
       "    <tr>\n",
       "      <th>39962</th>\n",
       "      <td>39962</td>\n",
       "      <td>2016-04-19-107397</td>\n",
       "      <td>The development of the new University Centre i...</td>\n",
       "      <td>TONY CAMPBELL</td>\n",
       "      <td>[Q16196856, Q2331770]</td>\n",
       "      <td>2016-04-19 11:20:49</td>\n",
       "      <td>4</td>\n",
       "      <td>[[Tony Campbell, 0.7581], [None, 0.2419]]</td>\n",
       "      <td>[http://www.bexhillobserver.net/new-university...</td>\n",
       "      <td>E</td>\n",
       "      <td>[net, co.uk, net, co.uk]</td>\n",
       "      <td>0.939819</td>\n",
       "      <td>3.759275</td>\n",
       "      <td>2016-04-19</td>\n",
       "      <td>2018-11-01</td>\n",
       "      <td>2.700</td>\n",
       "      <td>2.537511</td>\n",
       "      <td>926</td>\n",
       "    </tr>\n",
       "    <tr>\n",
       "      <th>240419</th>\n",
       "      <td>139869</td>\n",
       "      <td>2017-07-20-053171</td>\n",
       "      <td>I was trying to find a way forward on immigrat...</td>\n",
       "      <td>LINDSEY GRAHAM</td>\n",
       "      <td>[Q22212]</td>\n",
       "      <td>2017-07-20 19:52:08</td>\n",
       "      <td>5</td>\n",
       "      <td>[[Lindsey Graham, 0.4874], [None, 0.3402], [Ja...</td>\n",
       "      <td>[http://cbsnews.com/news/graham-meets-with-kus...</td>\n",
       "      <td>E</td>\n",
       "      <td>[com, com, com, com, com]</td>\n",
       "      <td>0.418827</td>\n",
       "      <td>2.094136</td>\n",
       "      <td>2017-07-20</td>\n",
       "      <td>2020-11-01</td>\n",
       "      <td>100.195</td>\n",
       "      <td>41.964401</td>\n",
       "      <td>1200</td>\n",
       "    </tr>\n",
       "    <tr>\n",
       "      <th>252494</th>\n",
       "      <td>151944</td>\n",
       "      <td>2017-06-24-037769</td>\n",
       "      <td>Jerry -- another great column yesterday. Dan F...</td>\n",
       "      <td>PATRICK MURPHY</td>\n",
       "      <td>[Q17418821, Q21170773, Q2224935, Q23418906, Q3...</td>\n",
       "      <td>2017-06-24 20:30:00</td>\n",
       "      <td>2</td>\n",
       "      <td>[[Patrick Murphy, 0.8915], [None, 0.1085]]</td>\n",
       "      <td>[http://buckscountycouriertimes.com/life-style...</td>\n",
       "      <td>E</td>\n",
       "      <td>[com, com]</td>\n",
       "      <td>0.411438</td>\n",
       "      <td>0.822875</td>\n",
       "      <td>2017-06-24</td>\n",
       "      <td>2016-11-01</td>\n",
       "      <td>1.350</td>\n",
       "      <td>0.555441</td>\n",
       "      <td>-235</td>\n",
       "    </tr>\n",
       "    <tr>\n",
       "      <th>185181</th>\n",
       "      <td>84631</td>\n",
       "      <td>2017-10-20-088940</td>\n",
       "      <td>never knew a war she didn't love,</td>\n",
       "      <td>DIANNE FEINSTEIN</td>\n",
       "      <td>[Q230733]</td>\n",
       "      <td>2017-10-20 17:28:01</td>\n",
       "      <td>1</td>\n",
       "      <td>[[Dianne Feinstein, 0.6209], [None, 0.3791]]</td>\n",
       "      <td>[http://thedailybanter.com/2017/10/cenk-uygur-...</td>\n",
       "      <td>E</td>\n",
       "      <td>[com]</td>\n",
       "      <td>0.345183</td>\n",
       "      <td>0.345183</td>\n",
       "      <td>2017-10-20</td>\n",
       "      <td>2018-11-01</td>\n",
       "      <td>0.675</td>\n",
       "      <td>0.232999</td>\n",
       "      <td>377</td>\n",
       "    </tr>\n",
       "  </tbody>\n",
       "</table>\n",
       "</div>"
      ],
      "text/plain": [
       "         index            quoteID  \\\n",
       "39962    39962  2016-04-19-107397   \n",
       "240419  139869  2017-07-20-053171   \n",
       "252494  151944  2017-06-24-037769   \n",
       "185181   84631  2017-10-20-088940   \n",
       "\n",
       "                                                quotation           speaker  \\\n",
       "39962   The development of the new University Centre i...     TONY CAMPBELL   \n",
       "240419  I was trying to find a way forward on immigrat...    LINDSEY GRAHAM   \n",
       "252494  Jerry -- another great column yesterday. Dan F...    PATRICK MURPHY   \n",
       "185181                  never knew a war she didn't love,  DIANNE FEINSTEIN   \n",
       "\n",
       "                                                     qids                date  \\\n",
       "39962                               [Q16196856, Q2331770] 2016-04-19 11:20:49   \n",
       "240419                                           [Q22212] 2017-07-20 19:52:08   \n",
       "252494  [Q17418821, Q21170773, Q2224935, Q23418906, Q3... 2017-06-24 20:30:00   \n",
       "185181                                          [Q230733] 2017-10-20 17:28:01   \n",
       "\n",
       "        numOccurrences                                             probas  \\\n",
       "39962                4          [[Tony Campbell, 0.7581], [None, 0.2419]]   \n",
       "240419               5  [[Lindsey Graham, 0.4874], [None, 0.3402], [Ja...   \n",
       "252494               2         [[Patrick Murphy, 0.8915], [None, 0.1085]]   \n",
       "185181               1       [[Dianne Feinstein, 0.6209], [None, 0.3791]]   \n",
       "\n",
       "                                                     urls phase  \\\n",
       "39962   [http://www.bexhillobserver.net/new-university...     E   \n",
       "240419  [http://cbsnews.com/news/graham-meets-with-kus...     E   \n",
       "252494  [http://buckscountycouriertimes.com/life-style...     E   \n",
       "185181  [http://thedailybanter.com/2017/10/cenk-uygur-...     E   \n",
       "\n",
       "                          domains  normalize_factor  normalize_quotes  \\\n",
       "39962    [net, co.uk, net, co.uk]          0.939819          3.759275   \n",
       "240419  [com, com, com, com, com]          0.418827          2.094136   \n",
       "252494                 [com, com]          0.411438          0.822875   \n",
       "185181                      [com]          0.345183          0.345183   \n",
       "\n",
       "         date_only election_day    views  normalize_views  \\\n",
       "39962   2016-04-19   2018-11-01    2.700         2.537511   \n",
       "240419  2017-07-20   2020-11-01  100.195        41.964401   \n",
       "252494  2017-06-24   2016-11-01    1.350         0.555441   \n",
       "185181  2017-10-20   2018-11-01    0.675         0.232999   \n",
       "\n",
       "        days_before_election  \n",
       "39962                    926  \n",
       "240419                  1200  \n",
       "252494                  -235  \n",
       "185181                   377  "
      ]
     },
     "execution_count": 43,
     "metadata": {},
     "output_type": "execute_result"
    }
   ],
   "source": [
    "candidate_quotes['days_before_election'] = pd.to_datetime(candidate_quotes['election_day'])- pd.to_datetime(candidate_quotes['date_only'])\n",
    "candidate_quotes['days_before_election'] = candidate_quotes['days_before_election'].map(lambda x:x.days)\n",
    "candidate_quotes.sample(4)"
   ]
  },
  {
   "cell_type": "code",
   "execution_count": 44,
   "id": "51db1155",
   "metadata": {},
   "outputs": [
    {
     "data": {
      "text/html": [
       "<div>\n",
       "<style scoped>\n",
       "    .dataframe tbody tr th:only-of-type {\n",
       "        vertical-align: middle;\n",
       "    }\n",
       "\n",
       "    .dataframe tbody tr th {\n",
       "        vertical-align: top;\n",
       "    }\n",
       "\n",
       "    .dataframe thead th {\n",
       "        text-align: right;\n",
       "    }\n",
       "</style>\n",
       "<table border=\"1\" class=\"dataframe\">\n",
       "  <thead>\n",
       "    <tr style=\"text-align: right;\">\n",
       "      <th></th>\n",
       "      <th>index</th>\n",
       "      <th>quoteID</th>\n",
       "      <th>quotation</th>\n",
       "      <th>speaker</th>\n",
       "      <th>qids</th>\n",
       "      <th>date</th>\n",
       "      <th>numOccurrences</th>\n",
       "      <th>probas</th>\n",
       "      <th>urls</th>\n",
       "      <th>phase</th>\n",
       "      <th>domains</th>\n",
       "      <th>normalize_factor</th>\n",
       "      <th>normalize_quotes</th>\n",
       "      <th>date_only</th>\n",
       "      <th>election_day</th>\n",
       "      <th>views</th>\n",
       "      <th>normalize_views</th>\n",
       "      <th>days_before_election</th>\n",
       "    </tr>\n",
       "  </thead>\n",
       "  <tbody>\n",
       "    <tr>\n",
       "      <th>337282</th>\n",
       "      <td>49382</td>\n",
       "      <td>2018-02-20-146584</td>\n",
       "      <td>We've had too much of that in this state alone...</td>\n",
       "      <td>BILL NELSON</td>\n",
       "      <td>[Q22639331, Q3272899, Q358437, Q4910326]</td>\n",
       "      <td>2018-02-20 12:30:34</td>\n",
       "      <td>1</td>\n",
       "      <td>[[Bill Nelson, 0.8535], [None, 0.1329], [Ted D...</td>\n",
       "      <td>[http://floridapolitics.com/archives/256663-de...</td>\n",
       "      <td>E</td>\n",
       "      <td>[com]</td>\n",
       "      <td>0.401482</td>\n",
       "      <td>0.401482</td>\n",
       "      <td>2018-02-20</td>\n",
       "      <td>2018-11-01</td>\n",
       "      <td>0.675</td>\n",
       "      <td>0.271000</td>\n",
       "      <td>254</td>\n",
       "    </tr>\n",
       "    <tr>\n",
       "      <th>367917</th>\n",
       "      <td>80017</td>\n",
       "      <td>2018-02-09-018444</td>\n",
       "      <td>clears the decks for a lot of pending issues a...</td>\n",
       "      <td>SHELDON WHITEHOUSE</td>\n",
       "      <td>[Q652066]</td>\n",
       "      <td>2018-02-09 20:18:58</td>\n",
       "      <td>1</td>\n",
       "      <td>[[Sheldon Whitehouse, 0.6888], [Lindsey Graham...</td>\n",
       "      <td>[http://thehill.com/373147-watch-dem-senator-b...</td>\n",
       "      <td>E</td>\n",
       "      <td>[com]</td>\n",
       "      <td>0.401482</td>\n",
       "      <td>0.401482</td>\n",
       "      <td>2018-02-09</td>\n",
       "      <td>2018-11-01</td>\n",
       "      <td>42.070</td>\n",
       "      <td>16.890339</td>\n",
       "      <td>265</td>\n",
       "    </tr>\n",
       "    <tr>\n",
       "      <th>7853</th>\n",
       "      <td>7853</td>\n",
       "      <td>2016-08-30-082410</td>\n",
       "      <td>Paid for by the Duke campaign</td>\n",
       "      <td>DAVID DUKE</td>\n",
       "      <td>[Q163042, Q5233100]</td>\n",
       "      <td>2016-08-30 06:20:02</td>\n",
       "      <td>1</td>\n",
       "      <td>[[David Duke, 0.5029], [None, 0.4971]]</td>\n",
       "      <td>[http://10thousandcouples.com/2016/08/david-du...</td>\n",
       "      <td>E</td>\n",
       "      <td>[com]</td>\n",
       "      <td>0.422875</td>\n",
       "      <td>0.422875</td>\n",
       "      <td>2016-08-30</td>\n",
       "      <td>2016-11-01</td>\n",
       "      <td>0.675</td>\n",
       "      <td>0.285440</td>\n",
       "      <td>63</td>\n",
       "    </tr>\n",
       "    <tr>\n",
       "      <th>387157</th>\n",
       "      <td>99257</td>\n",
       "      <td>2018-09-26-061252</td>\n",
       "      <td>It is past time they put human life above prof...</td>\n",
       "      <td>JOE MANCHIN</td>\n",
       "      <td>[Q538868]</td>\n",
       "      <td>2018-09-26 21:00:31</td>\n",
       "      <td>1</td>\n",
       "      <td>[[Joe Manchin, 0.5325], [Scott Gottlieb, 0.320...</td>\n",
       "      <td>[https://www.sltrib.com/news/2018/09/26/instag...</td>\n",
       "      <td>E</td>\n",
       "      <td>[com]</td>\n",
       "      <td>0.459009</td>\n",
       "      <td>0.459009</td>\n",
       "      <td>2018-09-26</td>\n",
       "      <td>2018-11-01</td>\n",
       "      <td>0.675</td>\n",
       "      <td>0.309831</td>\n",
       "      <td>36</td>\n",
       "    </tr>\n",
       "  </tbody>\n",
       "</table>\n",
       "</div>"
      ],
      "text/plain": [
       "        index            quoteID  \\\n",
       "337282  49382  2018-02-20-146584   \n",
       "367917  80017  2018-02-09-018444   \n",
       "7853     7853  2016-08-30-082410   \n",
       "387157  99257  2018-09-26-061252   \n",
       "\n",
       "                                                quotation             speaker  \\\n",
       "337282  We've had too much of that in this state alone...         BILL NELSON   \n",
       "367917  clears the decks for a lot of pending issues a...  SHELDON WHITEHOUSE   \n",
       "7853                        Paid for by the Duke campaign          DAVID DUKE   \n",
       "387157  It is past time they put human life above prof...         JOE MANCHIN   \n",
       "\n",
       "                                            qids                date  \\\n",
       "337282  [Q22639331, Q3272899, Q358437, Q4910326] 2018-02-20 12:30:34   \n",
       "367917                                 [Q652066] 2018-02-09 20:18:58   \n",
       "7853                         [Q163042, Q5233100] 2016-08-30 06:20:02   \n",
       "387157                                 [Q538868] 2018-09-26 21:00:31   \n",
       "\n",
       "        numOccurrences                                             probas  \\\n",
       "337282               1  [[Bill Nelson, 0.8535], [None, 0.1329], [Ted D...   \n",
       "367917               1  [[Sheldon Whitehouse, 0.6888], [Lindsey Graham...   \n",
       "7853                 1             [[David Duke, 0.5029], [None, 0.4971]]   \n",
       "387157               1  [[Joe Manchin, 0.5325], [Scott Gottlieb, 0.320...   \n",
       "\n",
       "                                                     urls phase domains  \\\n",
       "337282  [http://floridapolitics.com/archives/256663-de...     E   [com]   \n",
       "367917  [http://thehill.com/373147-watch-dem-senator-b...     E   [com]   \n",
       "7853    [http://10thousandcouples.com/2016/08/david-du...     E   [com]   \n",
       "387157  [https://www.sltrib.com/news/2018/09/26/instag...     E   [com]   \n",
       "\n",
       "        normalize_factor  normalize_quotes   date_only election_day   views  \\\n",
       "337282          0.401482          0.401482  2018-02-20   2018-11-01   0.675   \n",
       "367917          0.401482          0.401482  2018-02-09   2018-11-01  42.070   \n",
       "7853            0.422875          0.422875  2016-08-30   2016-11-01   0.675   \n",
       "387157          0.459009          0.459009  2018-09-26   2018-11-01   0.675   \n",
       "\n",
       "        normalize_views  days_before_election  \n",
       "337282         0.271000                   254  \n",
       "367917        16.890339                   265  \n",
       "7853           0.285440                    63  \n",
       "387157         0.309831                    36  "
      ]
     },
     "execution_count": 44,
     "metadata": {},
     "output_type": "execute_result"
    }
   ],
   "source": [
    "feature_length = 300  # we use data of 100 days before the election\n",
    "quotes_timespan = candidate_quotes[candidate_quotes['days_before_election']>=0]\n",
    "quotes_timespan = quotes_timespan[quotes_timespan['days_before_election']<feature_length]\n",
    "quotes_timespan.sample(4)"
   ]
  },
  {
   "cell_type": "code",
   "execution_count": 45,
   "id": "7fde6478",
   "metadata": {},
   "outputs": [
    {
     "data": {
      "text/plain": [
       "speaker          days_before_election\n",
       "AARON JAMES      246                     0.422134\n",
       "                 252                     0.422134\n",
       "                 274                     0.844268\n",
       "                 289                     0.389669\n",
       "                 296                     1.169008\n",
       "                                           ...   \n",
       "ZAK RINGELSTEIN  141                     1.626749\n",
       "                 147                     0.650700\n",
       "                 160                     0.815621\n",
       "                 227                     1.933979\n",
       "                 235                     0.241747\n",
       "Name: normalize_views, Length: 15673, dtype: float64"
      ]
     },
     "execution_count": 45,
     "metadata": {},
     "output_type": "execute_result"
    }
   ],
   "source": [
    "# group the quotations by speaker\n",
    "quotes_timespan_byday = quotes_timespan.groupby(['speaker', 'days_before_election'])['normalize_views'].sum()\n",
    "quotes_timespan_byday"
   ]
  },
  {
   "cell_type": "code",
   "execution_count": 46,
   "id": "d3a8aaaf",
   "metadata": {},
   "outputs": [
    {
     "data": {
      "text/html": [
       "<div>\n",
       "<style scoped>\n",
       "    .dataframe tbody tr th:only-of-type {\n",
       "        vertical-align: middle;\n",
       "    }\n",
       "\n",
       "    .dataframe tbody tr th {\n",
       "        vertical-align: top;\n",
       "    }\n",
       "\n",
       "    .dataframe thead th {\n",
       "        text-align: right;\n",
       "    }\n",
       "</style>\n",
       "<table border=\"1\" class=\"dataframe\">\n",
       "  <thead>\n",
       "    <tr style=\"text-align: right;\">\n",
       "      <th></th>\n",
       "      <th>AARON JAMES</th>\n",
       "      <th>ABHAY PATEL</th>\n",
       "      <th>AL GROSS</th>\n",
       "      <th>ALEX MERCED</th>\n",
       "      <th>ALLEN BUCKLEY</th>\n",
       "      <th>AMY KLOBUCHAR</th>\n",
       "      <th>AMY MCGRATH</th>\n",
       "      <th>ANN KIRKPATRICK</th>\n",
       "      <th>ARN MENCONI</th>\n",
       "      <th>ARVIN VOHRA</th>\n",
       "      <th>...</th>\n",
       "      <th>TIM HAGAN</th>\n",
       "      <th>TIM SCOTT</th>\n",
       "      <th>TINA SMITH</th>\n",
       "      <th>TOM COTTON</th>\n",
       "      <th>TOM JONES</th>\n",
       "      <th>TOMMY TUBERVILLE</th>\n",
       "      <th>TONY CAMPBELL</th>\n",
       "      <th>TROY HEBERT</th>\n",
       "      <th>VALENCIA STOVALL</th>\n",
       "      <th>ZAK RINGELSTEIN</th>\n",
       "    </tr>\n",
       "  </thead>\n",
       "  <tbody>\n",
       "    <tr>\n",
       "      <th>0</th>\n",
       "      <td>0.000000</td>\n",
       "      <td>0.0</td>\n",
       "      <td>0.0</td>\n",
       "      <td>0.0</td>\n",
       "      <td>0.0</td>\n",
       "      <td>0.643107</td>\n",
       "      <td>0.000000</td>\n",
       "      <td>0.0</td>\n",
       "      <td>0.0</td>\n",
       "      <td>0.000000</td>\n",
       "      <td>...</td>\n",
       "      <td>0.0</td>\n",
       "      <td>0.0</td>\n",
       "      <td>45.258062</td>\n",
       "      <td>0.000000</td>\n",
       "      <td>0.0</td>\n",
       "      <td>0.000000</td>\n",
       "      <td>0.000000</td>\n",
       "      <td>0.0</td>\n",
       "      <td>0.0</td>\n",
       "      <td>1.607768</td>\n",
       "    </tr>\n",
       "    <tr>\n",
       "      <th>1</th>\n",
       "      <td>0.000000</td>\n",
       "      <td>0.0</td>\n",
       "      <td>0.0</td>\n",
       "      <td>0.0</td>\n",
       "      <td>0.0</td>\n",
       "      <td>0.864890</td>\n",
       "      <td>0.000000</td>\n",
       "      <td>0.0</td>\n",
       "      <td>0.0</td>\n",
       "      <td>0.000000</td>\n",
       "      <td>...</td>\n",
       "      <td>0.0</td>\n",
       "      <td>0.0</td>\n",
       "      <td>0.576593</td>\n",
       "      <td>0.000000</td>\n",
       "      <td>0.0</td>\n",
       "      <td>0.000000</td>\n",
       "      <td>0.000000</td>\n",
       "      <td>0.0</td>\n",
       "      <td>0.0</td>\n",
       "      <td>0.000000</td>\n",
       "    </tr>\n",
       "    <tr>\n",
       "      <th>2</th>\n",
       "      <td>0.000000</td>\n",
       "      <td>0.0</td>\n",
       "      <td>0.0</td>\n",
       "      <td>0.0</td>\n",
       "      <td>0.0</td>\n",
       "      <td>41.414354</td>\n",
       "      <td>0.000000</td>\n",
       "      <td>0.0</td>\n",
       "      <td>0.0</td>\n",
       "      <td>0.000000</td>\n",
       "      <td>...</td>\n",
       "      <td>0.0</td>\n",
       "      <td>0.0</td>\n",
       "      <td>45.040485</td>\n",
       "      <td>0.000000</td>\n",
       "      <td>0.0</td>\n",
       "      <td>0.000000</td>\n",
       "      <td>0.000000</td>\n",
       "      <td>0.0</td>\n",
       "      <td>0.0</td>\n",
       "      <td>3.459560</td>\n",
       "    </tr>\n",
       "    <tr>\n",
       "      <th>3</th>\n",
       "      <td>0.000000</td>\n",
       "      <td>0.0</td>\n",
       "      <td>0.0</td>\n",
       "      <td>0.0</td>\n",
       "      <td>0.0</td>\n",
       "      <td>4.324450</td>\n",
       "      <td>0.000000</td>\n",
       "      <td>0.0</td>\n",
       "      <td>0.0</td>\n",
       "      <td>1.153187</td>\n",
       "      <td>...</td>\n",
       "      <td>0.0</td>\n",
       "      <td>0.0</td>\n",
       "      <td>0.000000</td>\n",
       "      <td>0.000000</td>\n",
       "      <td>0.0</td>\n",
       "      <td>0.000000</td>\n",
       "      <td>2.306374</td>\n",
       "      <td>0.0</td>\n",
       "      <td>0.0</td>\n",
       "      <td>0.576593</td>\n",
       "    </tr>\n",
       "    <tr>\n",
       "      <th>4</th>\n",
       "      <td>0.000000</td>\n",
       "      <td>0.0</td>\n",
       "      <td>0.0</td>\n",
       "      <td>0.0</td>\n",
       "      <td>0.0</td>\n",
       "      <td>4.901044</td>\n",
       "      <td>0.000000</td>\n",
       "      <td>0.0</td>\n",
       "      <td>0.0</td>\n",
       "      <td>0.000000</td>\n",
       "      <td>...</td>\n",
       "      <td>0.0</td>\n",
       "      <td>0.0</td>\n",
       "      <td>1.441483</td>\n",
       "      <td>0.000000</td>\n",
       "      <td>0.0</td>\n",
       "      <td>0.000000</td>\n",
       "      <td>2.882967</td>\n",
       "      <td>0.0</td>\n",
       "      <td>0.0</td>\n",
       "      <td>0.000000</td>\n",
       "    </tr>\n",
       "    <tr>\n",
       "      <th>...</th>\n",
       "      <td>...</td>\n",
       "      <td>...</td>\n",
       "      <td>...</td>\n",
       "      <td>...</td>\n",
       "      <td>...</td>\n",
       "      <td>...</td>\n",
       "      <td>...</td>\n",
       "      <td>...</td>\n",
       "      <td>...</td>\n",
       "      <td>...</td>\n",
       "      <td>...</td>\n",
       "      <td>...</td>\n",
       "      <td>...</td>\n",
       "      <td>...</td>\n",
       "      <td>...</td>\n",
       "      <td>...</td>\n",
       "      <td>...</td>\n",
       "      <td>...</td>\n",
       "      <td>...</td>\n",
       "      <td>...</td>\n",
       "      <td>...</td>\n",
       "    </tr>\n",
       "    <tr>\n",
       "      <th>295</th>\n",
       "      <td>0.000000</td>\n",
       "      <td>0.0</td>\n",
       "      <td>0.0</td>\n",
       "      <td>0.0</td>\n",
       "      <td>0.0</td>\n",
       "      <td>69.388074</td>\n",
       "      <td>0.000000</td>\n",
       "      <td>0.0</td>\n",
       "      <td>0.0</td>\n",
       "      <td>0.000000</td>\n",
       "      <td>...</td>\n",
       "      <td>0.0</td>\n",
       "      <td>0.0</td>\n",
       "      <td>1.900630</td>\n",
       "      <td>552.756030</td>\n",
       "      <td>0.0</td>\n",
       "      <td>0.000000</td>\n",
       "      <td>0.000000</td>\n",
       "      <td>0.0</td>\n",
       "      <td>0.0</td>\n",
       "      <td>0.000000</td>\n",
       "    </tr>\n",
       "    <tr>\n",
       "      <th>296</th>\n",
       "      <td>1.169008</td>\n",
       "      <td>0.0</td>\n",
       "      <td>0.0</td>\n",
       "      <td>0.0</td>\n",
       "      <td>0.0</td>\n",
       "      <td>8.435176</td>\n",
       "      <td>0.000000</td>\n",
       "      <td>0.0</td>\n",
       "      <td>0.0</td>\n",
       "      <td>0.000000</td>\n",
       "      <td>...</td>\n",
       "      <td>0.0</td>\n",
       "      <td>0.0</td>\n",
       "      <td>0.814556</td>\n",
       "      <td>3.896693</td>\n",
       "      <td>0.0</td>\n",
       "      <td>0.000000</td>\n",
       "      <td>0.000000</td>\n",
       "      <td>0.0</td>\n",
       "      <td>0.0</td>\n",
       "      <td>0.000000</td>\n",
       "    </tr>\n",
       "    <tr>\n",
       "      <th>297</th>\n",
       "      <td>0.779339</td>\n",
       "      <td>0.0</td>\n",
       "      <td>0.0</td>\n",
       "      <td>0.0</td>\n",
       "      <td>0.0</td>\n",
       "      <td>1.357593</td>\n",
       "      <td>1.169008</td>\n",
       "      <td>0.0</td>\n",
       "      <td>0.0</td>\n",
       "      <td>0.000000</td>\n",
       "      <td>...</td>\n",
       "      <td>0.0</td>\n",
       "      <td>0.0</td>\n",
       "      <td>47.781231</td>\n",
       "      <td>239.637971</td>\n",
       "      <td>0.0</td>\n",
       "      <td>0.000000</td>\n",
       "      <td>0.000000</td>\n",
       "      <td>0.0</td>\n",
       "      <td>0.0</td>\n",
       "      <td>0.000000</td>\n",
       "    </tr>\n",
       "    <tr>\n",
       "      <th>298</th>\n",
       "      <td>0.779339</td>\n",
       "      <td>0.0</td>\n",
       "      <td>0.0</td>\n",
       "      <td>0.0</td>\n",
       "      <td>0.0</td>\n",
       "      <td>0.814556</td>\n",
       "      <td>0.000000</td>\n",
       "      <td>0.0</td>\n",
       "      <td>0.0</td>\n",
       "      <td>0.000000</td>\n",
       "      <td>...</td>\n",
       "      <td>0.0</td>\n",
       "      <td>0.0</td>\n",
       "      <td>11.150362</td>\n",
       "      <td>726.124239</td>\n",
       "      <td>0.0</td>\n",
       "      <td>191.316089</td>\n",
       "      <td>0.000000</td>\n",
       "      <td>0.0</td>\n",
       "      <td>0.0</td>\n",
       "      <td>0.000000</td>\n",
       "    </tr>\n",
       "    <tr>\n",
       "      <th>299</th>\n",
       "      <td>0.000000</td>\n",
       "      <td>0.0</td>\n",
       "      <td>0.0</td>\n",
       "      <td>0.0</td>\n",
       "      <td>0.0</td>\n",
       "      <td>13.467320</td>\n",
       "      <td>0.000000</td>\n",
       "      <td>0.0</td>\n",
       "      <td>0.0</td>\n",
       "      <td>0.000000</td>\n",
       "      <td>...</td>\n",
       "      <td>0.0</td>\n",
       "      <td>0.0</td>\n",
       "      <td>7.874038</td>\n",
       "      <td>3.507024</td>\n",
       "      <td>0.0</td>\n",
       "      <td>0.000000</td>\n",
       "      <td>0.000000</td>\n",
       "      <td>0.0</td>\n",
       "      <td>0.0</td>\n",
       "      <td>0.000000</td>\n",
       "    </tr>\n",
       "  </tbody>\n",
       "</table>\n",
       "<p>300 rows × 176 columns</p>\n",
       "</div>"
      ],
      "text/plain": [
       "     AARON JAMES  ABHAY PATEL  AL GROSS  ALEX MERCED  ALLEN BUCKLEY  \\\n",
       "0       0.000000          0.0       0.0          0.0            0.0   \n",
       "1       0.000000          0.0       0.0          0.0            0.0   \n",
       "2       0.000000          0.0       0.0          0.0            0.0   \n",
       "3       0.000000          0.0       0.0          0.0            0.0   \n",
       "4       0.000000          0.0       0.0          0.0            0.0   \n",
       "..           ...          ...       ...          ...            ...   \n",
       "295     0.000000          0.0       0.0          0.0            0.0   \n",
       "296     1.169008          0.0       0.0          0.0            0.0   \n",
       "297     0.779339          0.0       0.0          0.0            0.0   \n",
       "298     0.779339          0.0       0.0          0.0            0.0   \n",
       "299     0.000000          0.0       0.0          0.0            0.0   \n",
       "\n",
       "     AMY KLOBUCHAR  AMY MCGRATH  ANN KIRKPATRICK  ARN MENCONI  ARVIN VOHRA  \\\n",
       "0         0.643107     0.000000              0.0          0.0     0.000000   \n",
       "1         0.864890     0.000000              0.0          0.0     0.000000   \n",
       "2        41.414354     0.000000              0.0          0.0     0.000000   \n",
       "3         4.324450     0.000000              0.0          0.0     1.153187   \n",
       "4         4.901044     0.000000              0.0          0.0     0.000000   \n",
       "..             ...          ...              ...          ...          ...   \n",
       "295      69.388074     0.000000              0.0          0.0     0.000000   \n",
       "296       8.435176     0.000000              0.0          0.0     0.000000   \n",
       "297       1.357593     1.169008              0.0          0.0     0.000000   \n",
       "298       0.814556     0.000000              0.0          0.0     0.000000   \n",
       "299      13.467320     0.000000              0.0          0.0     0.000000   \n",
       "\n",
       "     ...  TIM HAGAN  TIM SCOTT  TINA SMITH  TOM COTTON  TOM JONES  \\\n",
       "0    ...        0.0        0.0   45.258062    0.000000        0.0   \n",
       "1    ...        0.0        0.0    0.576593    0.000000        0.0   \n",
       "2    ...        0.0        0.0   45.040485    0.000000        0.0   \n",
       "3    ...        0.0        0.0    0.000000    0.000000        0.0   \n",
       "4    ...        0.0        0.0    1.441483    0.000000        0.0   \n",
       "..   ...        ...        ...         ...         ...        ...   \n",
       "295  ...        0.0        0.0    1.900630  552.756030        0.0   \n",
       "296  ...        0.0        0.0    0.814556    3.896693        0.0   \n",
       "297  ...        0.0        0.0   47.781231  239.637971        0.0   \n",
       "298  ...        0.0        0.0   11.150362  726.124239        0.0   \n",
       "299  ...        0.0        0.0    7.874038    3.507024        0.0   \n",
       "\n",
       "     TOMMY TUBERVILLE  TONY CAMPBELL  TROY HEBERT  VALENCIA STOVALL  \\\n",
       "0            0.000000       0.000000          0.0               0.0   \n",
       "1            0.000000       0.000000          0.0               0.0   \n",
       "2            0.000000       0.000000          0.0               0.0   \n",
       "3            0.000000       2.306374          0.0               0.0   \n",
       "4            0.000000       2.882967          0.0               0.0   \n",
       "..                ...            ...          ...               ...   \n",
       "295          0.000000       0.000000          0.0               0.0   \n",
       "296          0.000000       0.000000          0.0               0.0   \n",
       "297          0.000000       0.000000          0.0               0.0   \n",
       "298        191.316089       0.000000          0.0               0.0   \n",
       "299          0.000000       0.000000          0.0               0.0   \n",
       "\n",
       "     ZAK RINGELSTEIN  \n",
       "0           1.607768  \n",
       "1           0.000000  \n",
       "2           3.459560  \n",
       "3           0.576593  \n",
       "4           0.000000  \n",
       "..               ...  \n",
       "295         0.000000  \n",
       "296         0.000000  \n",
       "297         0.000000  \n",
       "298         0.000000  \n",
       "299         0.000000  \n",
       "\n",
       "[300 rows x 176 columns]"
      ]
     },
     "execution_count": 46,
     "metadata": {},
     "output_type": "execute_result"
    }
   ],
   "source": [
    "# build the feature vectors\n",
    "\n",
    "candidate_name = quotes_timespan_byday.index.map(lambda x:x[0]).drop_duplicates()\n",
    "candidate_quotes_cluster_feature = pd.DataFrame(np.zeros([feature_length,len(candidate_name)]), columns=candidate_name)\n",
    "\n",
    "for candidate in candidate_name:\n",
    "    candidate_quotes_timespan = quotes_timespan_byday[candidate]\n",
    "    for days in candidate_quotes_timespan.index:\n",
    "        candidate_quotes_cluster_feature[candidate].iloc[days] = candidate_quotes_timespan.loc[days]\n",
    "        \n",
    "candidate_quotes_cluster_feature"
   ]
  },
  {
   "cell_type": "markdown",
   "id": "f930b6d2-e677-4dc4-aceb-d9342c7bd9b6",
   "metadata": {},
   "source": [
    "Since the feature vector is 300-dimension, we will use PCA to reduce the dimension and visualize the data."
   ]
  },
  {
   "cell_type": "code",
   "execution_count": 47,
   "id": "6647728c",
   "metadata": {},
   "outputs": [
    {
     "data": {
      "text/plain": [
       "<matplotlib.collections.PathCollection at 0x21e225b4a90>"
      ]
     },
     "execution_count": 47,
     "metadata": {},
     "output_type": "execute_result"
    },
    {
     "data": {
      "image/png": "[encoded data removed]",
      "text/plain": [
       "<Figure size 432x288 with 1 Axes>"
      ]
     },
     "metadata": {
      "needs_background": "light"
     },
     "output_type": "display_data"
    }
   ],
   "source": [
    "# Use PCA to visualize the feature vectors\n",
    "from sklearn.decomposition import PCA\n",
    "\n",
    "candidate_feature_vectors = candidate_quotes_cluster_feature.to_numpy().T\n",
    "candidate_feature_vectors/=np.linalg.norm(candidate_feature_vectors,axis=1)[:,np.newaxis]\n",
    "reduced_feature_PCA = PCA(n_components=2).fit(candidate_feature_vectors).transform(candidate_feature_vectors)\n",
    "\n",
    "plt.scatter(reduced_feature_PCA[:,0],reduced_feature_PCA[:,1], alpha=0.5)"
   ]
  },
  {
   "cell_type": "markdown",
   "id": "e64bcb17-7f08-4197-9920-7700f2033bfa",
   "metadata": {},
   "source": [
    "In the reduced space, we applied KMeans for clustering."
   ]
  },
  {
   "cell_type": "code",
   "execution_count": 49,
   "id": "71778b09",
   "metadata": {},
   "outputs": [
    {
     "data": {
      "text/plain": [
       "[<matplotlib.lines.Line2D at 0x21eaf2fe430>]"
      ]
     },
     "execution_count": 49,
     "metadata": {},
     "output_type": "execute_result"
    },
    {
     "data": {
      "image/png": "[encoded data removed]",
      "text/plain": [
       "<Figure size 432x288 with 1 Axes>"
      ]
     },
     "metadata": {
      "needs_background": "light"
     },
     "output_type": "display_data"
    }
   ],
   "source": [
    "# find the cluster number to use\n",
    "\n",
    "from sklearn.cluster import KMeans\n",
    "from sklearn.metrics import silhouette_score\n",
    "\n",
    "silhouettes=[]\n",
    "for n_clusters in range(2,10):\n",
    "    labels = KMeans(n_clusters=n_clusters).fit_predict(reduced_feature_PCA)\n",
    "    score = silhouette_score(reduced_feature_PCA,labels)\n",
    "    silhouettes.append(score)\n",
    "    \n",
    "plt.plot(range(2,10),silhouettes)"
   ]
  },
  {
   "cell_type": "code",
   "execution_count": 50,
   "id": "03695de1",
   "metadata": {},
   "outputs": [
    {
     "data": {
      "text/plain": [
       "<matplotlib.collections.PathCollection at 0x21eaf32c580>"
      ]
     },
     "execution_count": 50,
     "metadata": {},
     "output_type": "execute_result"
    },
    {
     "data": {
      "image/png": "[encoded data removed]",
      "text/plain": [
       "<Figure size 432x288 with 1 Axes>"
      ]
     },
     "metadata": {
      "needs_background": "light"
     },
     "output_type": "display_data"
    }
   ],
   "source": [
    "# based on previous result, we use 3 clusters.\n",
    "n_clusters = 3\n",
    "labels = KMeans(n_clusters=n_clusters).fit_predict(reduced_feature_PCA)\n",
    "plt.scatter(reduced_feature_PCA[:,0],reduced_feature_PCA[:,1], alpha=0.5,c=labels)"
   ]
  },
  {
   "cell_type": "code",
   "execution_count": 51,
   "id": "81a4b29b",
   "metadata": {},
   "outputs": [
    {
     "name": "stdout",
     "output_type": "stream",
     "text": [
      "32 candidates in type 0: Index(['AARON JAMES', 'AMY MCGRATH', 'BEN SASSE', 'BOB WALSH', 'CORY BOOKER',\n",
      "       'CORY GARDNER', 'DANIEL BURKE', 'DAVID MORAN', 'DOUG COLLINS',\n",
      "       'DOUG JONES', 'GARY PETERS', 'JAIME HARRISON', 'JEANNE SHAHEEN',\n",
      "       'JEFF MERKLEY', 'JEFF RUSSELL', 'JIM RISCH', 'JOHN BARRASSO',\n",
      "       'JOHN CORNYN', 'JON OSSOFF', 'JONI ERNST', 'LINDSEY GRAHAM',\n",
      "       'MARK KELLY', 'MICHAEL SANCHEZ', 'MIKE ROUNDS', 'MITCH MCCONNELL',\n",
      "       'ROBERT MURPHY', 'ROGER MARSHALL', 'SHELLEY MOORE CAPITO',\n",
      "       'STEVE BULLOCK', 'STEVE DAINES', 'THOM TILLIS', 'TOMMY TUBERVILLE'],\n",
      "      dtype='object')\n",
      "133 candidates in type 1: Index(['ABHAY PATEL', 'AL GROSS', 'ALEX MERCED', 'AMY KLOBUCHAR',\n",
      "       'ARN MENCONI', 'ARVIN VOHRA', 'BARBARA BOLLIER', 'BARRY MICHAELS',\n",
      "       'BEN CARDIN', 'BERNIE SANDERS',\n",
      "       ...\n",
      "       'TAMMY DUCKWORTH', 'TED CRUZ', 'TED STRICKLAND', 'THOMAS DIXON',\n",
      "       'TIM HAGAN', 'TINA SMITH', 'TOM JONES', 'TONY CAMPBELL', 'TROY HEBERT',\n",
      "       'ZAK RINGELSTEIN'],\n",
      "      dtype='object', length=133)\n",
      "11 candidates in type 2: Index(['ALLEN BUCKLEY', 'ANN KIRKPATRICK', 'CAL CUNNINGHAM', 'LISA MURKOWSKI',\n",
      "       'MARCO RUBIO', 'MARGARET STOCK', 'MITT ROMNEY', 'RICHARD BURR',\n",
      "       'TIM SCOTT', 'TOM COTTON', 'VALENCIA STOVALL'],\n",
      "      dtype='object')\n"
     ]
    }
   ],
   "source": [
    "# show candidates of each cluster\n",
    "\n",
    "for candidate_type in range(0,n_clusters):\n",
    "    print('{} candidates in type {}: {}'.format(np.where(labels==candidate_type)[0].shape[0],candidate_type,candidate_name[np.where(labels==candidate_type)]))"
   ]
  },
  {
   "cell_type": "markdown",
   "id": "cc0f3239-2f22-4c0f-8d39-c3563804d012",
   "metadata": {},
   "source": [
    "After clustering, we'd like to know how each cluster looks like. Firstly we just average the feature from each cluster and visualize them."
   ]
  },
  {
   "cell_type": "code",
   "execution_count": 56,
   "id": "26d85072",
   "metadata": {},
   "outputs": [
    {
     "data": {
      "image/png": "[encoded data removed]",
      "text/plain": [
       "<Figure size 1440x360 with 3 Axes>"
      ]
     },
     "metadata": {
      "needs_background": "light"
     },
     "output_type": "display_data"
    }
   ],
   "source": [
    "fig, axs = plt.subplots(1,n_clusters, figsize=(20,5))\n",
    "for candidate_type in range(0,n_clusters):\n",
    "    axs[candidate_type].plot(range(0,feature_length), np.mean(candidate_feature_vectors[np.where(labels==candidate_type)], axis=0))\n",
    "    axs[candidate_type].set_title('type {}'.format(candidate_type))\n",
    "    axs[candidate_type].set_xlabel('days before election')"
   ]
  },
  {
   "cell_type": "markdown",
   "id": "f6178005",
   "metadata": {},
   "source": [
    "We try to remove candidate of 2020 because the lack of data after April. This is shown in type 0, where we get almost no citation from roughly 200 days before election. This is mainly caused by lacking quotation data after April 2020 in the QuoteBank."
   ]
  },
  {
   "cell_type": "code",
   "execution_count": 53,
   "id": "af520b48",
   "metadata": {},
   "outputs": [
    {
     "data": {
      "text/plain": [
       "AARON JAMES         2020\n",
       "ABHAY PATEL         2016\n",
       "AL GROSS            2020\n",
       "ALEX MERCED         2016\n",
       "ALLEN BUCKLEY       2016\n",
       "                    ... \n",
       "TOMMY TUBERVILLE    2020\n",
       "TONY CAMPBELL       2018\n",
       "TROY HEBERT         2016\n",
       "VALENCIA STOVALL    2020\n",
       "ZAK RINGELSTEIN     2018\n",
       "Name: year, Length: 176, dtype: int64"
      ]
     },
     "execution_count": 53,
     "metadata": {},
     "output_type": "execute_result"
    }
   ],
   "source": [
    "# find each candidates' election year.\n",
    "\n",
    "election_year = candidate_info_byname.loc[candidate_name]['year']\n",
    "election_year"
   ]
  },
  {
   "cell_type": "code",
   "execution_count": 54,
   "id": "43415d16",
   "metadata": {},
   "outputs": [
    {
     "data": {
      "text/plain": [
       "Index(['ABHAY PATEL', 'ALEX MERCED', 'ALLEN BUCKLEY', 'AMY KLOBUCHAR',\n",
       "       'ANN KIRKPATRICK', 'ARN MENCONI', 'ARVIN VOHRA', 'BARRY MICHAELS',\n",
       "       'BEN CARDIN', 'BERNIE SANDERS',\n",
       "       ...\n",
       "       'TED CRUZ', 'TED STRICKLAND', 'THOMAS DIXON', 'TIM HAGAN', 'TIM SCOTT',\n",
       "       'TINA SMITH', 'TOM JONES', 'TONY CAMPBELL', 'TROY HEBERT',\n",
       "       'ZAK RINGELSTEIN'],\n",
       "      dtype='object', length=132)"
      ]
     },
     "execution_count": 54,
     "metadata": {},
     "output_type": "execute_result"
    }
   ],
   "source": [
    "# filt out 2020 election\n",
    "\n",
    "candidate_name_filted = candidate_name[election_year!=2020]\n",
    "candidate_name_filted"
   ]
  },
  {
   "cell_type": "code",
   "execution_count": 57,
   "id": "a3424648",
   "metadata": {},
   "outputs": [
    {
     "data": {
      "text/html": [
       "<div>\n",
       "<style scoped>\n",
       "    .dataframe tbody tr th:only-of-type {\n",
       "        vertical-align: middle;\n",
       "    }\n",
       "\n",
       "    .dataframe tbody tr th {\n",
       "        vertical-align: top;\n",
       "    }\n",
       "\n",
       "    .dataframe thead th {\n",
       "        text-align: right;\n",
       "    }\n",
       "</style>\n",
       "<table border=\"1\" class=\"dataframe\">\n",
       "  <thead>\n",
       "    <tr style=\"text-align: right;\">\n",
       "      <th></th>\n",
       "      <th>ABHAY PATEL</th>\n",
       "      <th>ALEX MERCED</th>\n",
       "      <th>ALLEN BUCKLEY</th>\n",
       "      <th>AMY KLOBUCHAR</th>\n",
       "      <th>ANN KIRKPATRICK</th>\n",
       "      <th>ARN MENCONI</th>\n",
       "      <th>ARVIN VOHRA</th>\n",
       "      <th>BARRY MICHAELS</th>\n",
       "      <th>BEN CARDIN</th>\n",
       "      <th>BERNIE SANDERS</th>\n",
       "      <th>...</th>\n",
       "      <th>TED CRUZ</th>\n",
       "      <th>TED STRICKLAND</th>\n",
       "      <th>THOMAS DIXON</th>\n",
       "      <th>TIM HAGAN</th>\n",
       "      <th>TIM SCOTT</th>\n",
       "      <th>TINA SMITH</th>\n",
       "      <th>TOM JONES</th>\n",
       "      <th>TONY CAMPBELL</th>\n",
       "      <th>TROY HEBERT</th>\n",
       "      <th>ZAK RINGELSTEIN</th>\n",
       "    </tr>\n",
       "  </thead>\n",
       "  <tbody>\n",
       "    <tr>\n",
       "      <th>0</th>\n",
       "      <td>0.0</td>\n",
       "      <td>0.0</td>\n",
       "      <td>0.0</td>\n",
       "      <td>0.643107</td>\n",
       "      <td>0.0</td>\n",
       "      <td>0.0</td>\n",
       "      <td>0.000000</td>\n",
       "      <td>0.00000</td>\n",
       "      <td>0.964661</td>\n",
       "      <td>60.447298</td>\n",
       "      <td>...</td>\n",
       "      <td>382.834473</td>\n",
       "      <td>0.0</td>\n",
       "      <td>0.0</td>\n",
       "      <td>0.0</td>\n",
       "      <td>0.0</td>\n",
       "      <td>45.258062</td>\n",
       "      <td>0.0</td>\n",
       "      <td>0.000000</td>\n",
       "      <td>0.0</td>\n",
       "      <td>1.607768</td>\n",
       "    </tr>\n",
       "    <tr>\n",
       "      <th>1</th>\n",
       "      <td>0.0</td>\n",
       "      <td>0.0</td>\n",
       "      <td>0.0</td>\n",
       "      <td>0.864890</td>\n",
       "      <td>0.0</td>\n",
       "      <td>0.0</td>\n",
       "      <td>0.000000</td>\n",
       "      <td>0.00000</td>\n",
       "      <td>0.864890</td>\n",
       "      <td>1160.084533</td>\n",
       "      <td>...</td>\n",
       "      <td>750.771567</td>\n",
       "      <td>0.0</td>\n",
       "      <td>0.0</td>\n",
       "      <td>0.0</td>\n",
       "      <td>0.0</td>\n",
       "      <td>0.576593</td>\n",
       "      <td>0.0</td>\n",
       "      <td>0.000000</td>\n",
       "      <td>0.0</td>\n",
       "      <td>0.000000</td>\n",
       "    </tr>\n",
       "    <tr>\n",
       "      <th>2</th>\n",
       "      <td>0.0</td>\n",
       "      <td>0.0</td>\n",
       "      <td>0.0</td>\n",
       "      <td>41.414354</td>\n",
       "      <td>0.0</td>\n",
       "      <td>0.0</td>\n",
       "      <td>0.000000</td>\n",
       "      <td>0.00000</td>\n",
       "      <td>3.171264</td>\n",
       "      <td>89.959246</td>\n",
       "      <td>...</td>\n",
       "      <td>12.341234</td>\n",
       "      <td>0.0</td>\n",
       "      <td>0.0</td>\n",
       "      <td>0.0</td>\n",
       "      <td>0.0</td>\n",
       "      <td>45.040485</td>\n",
       "      <td>0.0</td>\n",
       "      <td>0.000000</td>\n",
       "      <td>0.0</td>\n",
       "      <td>3.459560</td>\n",
       "    </tr>\n",
       "    <tr>\n",
       "      <th>3</th>\n",
       "      <td>0.0</td>\n",
       "      <td>0.0</td>\n",
       "      <td>0.0</td>\n",
       "      <td>4.324450</td>\n",
       "      <td>0.0</td>\n",
       "      <td>0.0</td>\n",
       "      <td>1.153187</td>\n",
       "      <td>0.00000</td>\n",
       "      <td>3.171264</td>\n",
       "      <td>407.068522</td>\n",
       "      <td>...</td>\n",
       "      <td>257.303730</td>\n",
       "      <td>0.0</td>\n",
       "      <td>0.0</td>\n",
       "      <td>0.0</td>\n",
       "      <td>0.0</td>\n",
       "      <td>0.000000</td>\n",
       "      <td>0.0</td>\n",
       "      <td>2.306374</td>\n",
       "      <td>0.0</td>\n",
       "      <td>0.576593</td>\n",
       "    </tr>\n",
       "    <tr>\n",
       "      <th>4</th>\n",
       "      <td>0.0</td>\n",
       "      <td>0.0</td>\n",
       "      <td>0.0</td>\n",
       "      <td>4.901044</td>\n",
       "      <td>0.0</td>\n",
       "      <td>0.0</td>\n",
       "      <td>0.000000</td>\n",
       "      <td>0.86489</td>\n",
       "      <td>3.747857</td>\n",
       "      <td>2512.988300</td>\n",
       "      <td>...</td>\n",
       "      <td>2.408879</td>\n",
       "      <td>0.0</td>\n",
       "      <td>0.0</td>\n",
       "      <td>0.0</td>\n",
       "      <td>0.0</td>\n",
       "      <td>1.441483</td>\n",
       "      <td>0.0</td>\n",
       "      <td>2.882967</td>\n",
       "      <td>0.0</td>\n",
       "      <td>0.000000</td>\n",
       "    </tr>\n",
       "    <tr>\n",
       "      <th>...</th>\n",
       "      <td>...</td>\n",
       "      <td>...</td>\n",
       "      <td>...</td>\n",
       "      <td>...</td>\n",
       "      <td>...</td>\n",
       "      <td>...</td>\n",
       "      <td>...</td>\n",
       "      <td>...</td>\n",
       "      <td>...</td>\n",
       "      <td>...</td>\n",
       "      <td>...</td>\n",
       "      <td>...</td>\n",
       "      <td>...</td>\n",
       "      <td>...</td>\n",
       "      <td>...</td>\n",
       "      <td>...</td>\n",
       "      <td>...</td>\n",
       "      <td>...</td>\n",
       "      <td>...</td>\n",
       "      <td>...</td>\n",
       "      <td>...</td>\n",
       "    </tr>\n",
       "    <tr>\n",
       "      <th>295</th>\n",
       "      <td>0.0</td>\n",
       "      <td>0.0</td>\n",
       "      <td>0.0</td>\n",
       "      <td>69.388074</td>\n",
       "      <td>0.0</td>\n",
       "      <td>0.0</td>\n",
       "      <td>0.000000</td>\n",
       "      <td>0.00000</td>\n",
       "      <td>3532.054072</td>\n",
       "      <td>0.814556</td>\n",
       "      <td>...</td>\n",
       "      <td>0.543037</td>\n",
       "      <td>0.0</td>\n",
       "      <td>0.0</td>\n",
       "      <td>0.0</td>\n",
       "      <td>0.0</td>\n",
       "      <td>1.900630</td>\n",
       "      <td>0.0</td>\n",
       "      <td>0.000000</td>\n",
       "      <td>0.0</td>\n",
       "      <td>0.000000</td>\n",
       "    </tr>\n",
       "    <tr>\n",
       "      <th>296</th>\n",
       "      <td>0.0</td>\n",
       "      <td>0.0</td>\n",
       "      <td>0.0</td>\n",
       "      <td>8.435176</td>\n",
       "      <td>0.0</td>\n",
       "      <td>0.0</td>\n",
       "      <td>0.000000</td>\n",
       "      <td>0.00000</td>\n",
       "      <td>1112.789610</td>\n",
       "      <td>203.735452</td>\n",
       "      <td>...</td>\n",
       "      <td>2.443667</td>\n",
       "      <td>0.0</td>\n",
       "      <td>0.0</td>\n",
       "      <td>0.0</td>\n",
       "      <td>0.0</td>\n",
       "      <td>0.814556</td>\n",
       "      <td>0.0</td>\n",
       "      <td>0.000000</td>\n",
       "      <td>0.0</td>\n",
       "      <td>0.000000</td>\n",
       "    </tr>\n",
       "    <tr>\n",
       "      <th>297</th>\n",
       "      <td>0.0</td>\n",
       "      <td>0.0</td>\n",
       "      <td>0.0</td>\n",
       "      <td>1.357593</td>\n",
       "      <td>0.0</td>\n",
       "      <td>0.0</td>\n",
       "      <td>0.000000</td>\n",
       "      <td>0.00000</td>\n",
       "      <td>0.271519</td>\n",
       "      <td>51.317006</td>\n",
       "      <td>...</td>\n",
       "      <td>144.343283</td>\n",
       "      <td>0.0</td>\n",
       "      <td>0.0</td>\n",
       "      <td>0.0</td>\n",
       "      <td>0.0</td>\n",
       "      <td>47.781231</td>\n",
       "      <td>0.0</td>\n",
       "      <td>0.000000</td>\n",
       "      <td>0.0</td>\n",
       "      <td>0.000000</td>\n",
       "    </tr>\n",
       "    <tr>\n",
       "      <th>298</th>\n",
       "      <td>0.0</td>\n",
       "      <td>0.0</td>\n",
       "      <td>0.0</td>\n",
       "      <td>0.814556</td>\n",
       "      <td>0.0</td>\n",
       "      <td>0.0</td>\n",
       "      <td>0.000000</td>\n",
       "      <td>0.00000</td>\n",
       "      <td>0.814556</td>\n",
       "      <td>943.311754</td>\n",
       "      <td>...</td>\n",
       "      <td>0.271519</td>\n",
       "      <td>0.0</td>\n",
       "      <td>0.0</td>\n",
       "      <td>0.0</td>\n",
       "      <td>0.0</td>\n",
       "      <td>11.150362</td>\n",
       "      <td>0.0</td>\n",
       "      <td>0.000000</td>\n",
       "      <td>0.0</td>\n",
       "      <td>0.000000</td>\n",
       "    </tr>\n",
       "    <tr>\n",
       "      <th>299</th>\n",
       "      <td>0.0</td>\n",
       "      <td>0.0</td>\n",
       "      <td>0.0</td>\n",
       "      <td>13.467320</td>\n",
       "      <td>0.0</td>\n",
       "      <td>0.0</td>\n",
       "      <td>0.000000</td>\n",
       "      <td>0.00000</td>\n",
       "      <td>4.072778</td>\n",
       "      <td>119.872422</td>\n",
       "      <td>...</td>\n",
       "      <td>0.000000</td>\n",
       "      <td>0.0</td>\n",
       "      <td>0.0</td>\n",
       "      <td>0.0</td>\n",
       "      <td>0.0</td>\n",
       "      <td>7.874038</td>\n",
       "      <td>0.0</td>\n",
       "      <td>0.000000</td>\n",
       "      <td>0.0</td>\n",
       "      <td>0.000000</td>\n",
       "    </tr>\n",
       "  </tbody>\n",
       "</table>\n",
       "<p>300 rows × 132 columns</p>\n",
       "</div>"
      ],
      "text/plain": [
       "     ABHAY PATEL  ALEX MERCED  ALLEN BUCKLEY  AMY KLOBUCHAR  ANN KIRKPATRICK  \\\n",
       "0            0.0          0.0            0.0       0.643107              0.0   \n",
       "1            0.0          0.0            0.0       0.864890              0.0   \n",
       "2            0.0          0.0            0.0      41.414354              0.0   \n",
       "3            0.0          0.0            0.0       4.324450              0.0   \n",
       "4            0.0          0.0            0.0       4.901044              0.0   \n",
       "..           ...          ...            ...            ...              ...   \n",
       "295          0.0          0.0            0.0      69.388074              0.0   \n",
       "296          0.0          0.0            0.0       8.435176              0.0   \n",
       "297          0.0          0.0            0.0       1.357593              0.0   \n",
       "298          0.0          0.0            0.0       0.814556              0.0   \n",
       "299          0.0          0.0            0.0      13.467320              0.0   \n",
       "\n",
       "     ARN MENCONI  ARVIN VOHRA  BARRY MICHAELS   BEN CARDIN  BERNIE SANDERS  \\\n",
       "0            0.0     0.000000         0.00000     0.964661       60.447298   \n",
       "1            0.0     0.000000         0.00000     0.864890     1160.084533   \n",
       "2            0.0     0.000000         0.00000     3.171264       89.959246   \n",
       "3            0.0     1.153187         0.00000     3.171264      407.068522   \n",
       "4            0.0     0.000000         0.86489     3.747857     2512.988300   \n",
       "..           ...          ...             ...          ...             ...   \n",
       "295          0.0     0.000000         0.00000  3532.054072        0.814556   \n",
       "296          0.0     0.000000         0.00000  1112.789610      203.735452   \n",
       "297          0.0     0.000000         0.00000     0.271519       51.317006   \n",
       "298          0.0     0.000000         0.00000     0.814556      943.311754   \n",
       "299          0.0     0.000000         0.00000     4.072778      119.872422   \n",
       "\n",
       "     ...    TED CRUZ  TED STRICKLAND  THOMAS DIXON  TIM HAGAN  TIM SCOTT  \\\n",
       "0    ...  382.834473             0.0           0.0        0.0        0.0   \n",
       "1    ...  750.771567             0.0           0.0        0.0        0.0   \n",
       "2    ...   12.341234             0.0           0.0        0.0        0.0   \n",
       "3    ...  257.303730             0.0           0.0        0.0        0.0   \n",
       "4    ...    2.408879             0.0           0.0        0.0        0.0   \n",
       "..   ...         ...             ...           ...        ...        ...   \n",
       "295  ...    0.543037             0.0           0.0        0.0        0.0   \n",
       "296  ...    2.443667             0.0           0.0        0.0        0.0   \n",
       "297  ...  144.343283             0.0           0.0        0.0        0.0   \n",
       "298  ...    0.271519             0.0           0.0        0.0        0.0   \n",
       "299  ...    0.000000             0.0           0.0        0.0        0.0   \n",
       "\n",
       "     TINA SMITH  TOM JONES  TONY CAMPBELL  TROY HEBERT  ZAK RINGELSTEIN  \n",
       "0     45.258062        0.0       0.000000          0.0         1.607768  \n",
       "1      0.576593        0.0       0.000000          0.0         0.000000  \n",
       "2     45.040485        0.0       0.000000          0.0         3.459560  \n",
       "3      0.000000        0.0       2.306374          0.0         0.576593  \n",
       "4      1.441483        0.0       2.882967          0.0         0.000000  \n",
       "..          ...        ...            ...          ...              ...  \n",
       "295    1.900630        0.0       0.000000          0.0         0.000000  \n",
       "296    0.814556        0.0       0.000000          0.0         0.000000  \n",
       "297   47.781231        0.0       0.000000          0.0         0.000000  \n",
       "298   11.150362        0.0       0.000000          0.0         0.000000  \n",
       "299    7.874038        0.0       0.000000          0.0         0.000000  \n",
       "\n",
       "[300 rows x 132 columns]"
      ]
     },
     "execution_count": 57,
     "metadata": {},
     "output_type": "execute_result"
    }
   ],
   "source": [
    "# rebuild our feature vectors\n",
    "\n",
    "candidate_quotes_cluster_feature_filted = pd.DataFrame(np.zeros([feature_length,len(candidate_name_filted)]), columns=candidate_name_filted)\n",
    "\n",
    "for candidate in candidate_name_filted:\n",
    "    candidate_quotes_timespan = quotes_timespan_byday[candidate]\n",
    "    for days in candidate_quotes_timespan.index:\n",
    "        candidate_quotes_cluster_feature_filted[candidate].iloc[days] = candidate_quotes_timespan.loc[days]\n",
    "        \n",
    "candidate_quotes_cluster_feature_filted"
   ]
  },
  {
   "cell_type": "code",
   "execution_count": 58,
   "id": "ac4d85e3",
   "metadata": {},
   "outputs": [
    {
     "data": {
      "text/plain": [
       "<matplotlib.collections.PathCollection at 0x21eb1d558b0>"
      ]
     },
     "execution_count": 58,
     "metadata": {},
     "output_type": "execute_result"
    },
    {
     "data": {
      "image/png": "[encoded data removed]",
      "text/plain": [
       "<Figure size 432x288 with 1 Axes>"
      ]
     },
     "metadata": {
      "needs_background": "light"
     },
     "output_type": "display_data"
    }
   ],
   "source": [
    "# PCA visualization\n",
    "candidate_feature_vectors = candidate_quotes_cluster_feature_filted.to_numpy().T\n",
    "candidate_feature_vectors/=np.linalg.norm(candidate_feature_vectors,axis=1)[:,np.newaxis]\n",
    "reduced_feature_PCA = PCA(n_components=2).fit(candidate_feature_vectors).transform(candidate_feature_vectors)\n",
    "\n",
    "plt.scatter(reduced_feature_PCA[:,0],reduced_feature_PCA[:,1], alpha=0.5)"
   ]
  },
  {
   "cell_type": "code",
   "execution_count": 59,
   "id": "8e0ff0e7",
   "metadata": {},
   "outputs": [
    {
     "data": {
      "text/plain": [
       "[<matplotlib.lines.Line2D at 0x21eb1d846a0>]"
      ]
     },
     "execution_count": 59,
     "metadata": {},
     "output_type": "execute_result"
    },
    {
     "data": {
      "image/png": "[encoded data removed]",
      "text/plain": [
       "<Figure size 432x288 with 1 Axes>"
      ]
     },
     "metadata": {
      "needs_background": "light"
     },
     "output_type": "display_data"
    }
   ],
   "source": [
    "# find cluster number\n",
    "silhouettes=[]\n",
    "for n_clusters in range(2,10):\n",
    "    labels = KMeans(n_clusters=n_clusters).fit_predict(reduced_feature_PCA)\n",
    "    score = silhouette_score(reduced_feature_PCA,labels)\n",
    "    silhouettes.append(score)\n",
    "    \n",
    "plt.plot(range(2,10),silhouettes)"
   ]
  },
  {
   "cell_type": "code",
   "execution_count": 60,
   "id": "272f0dba",
   "metadata": {},
   "outputs": [
    {
     "data": {
      "text/plain": [
       "<matplotlib.collections.PathCollection at 0x21eb1dabe50>"
      ]
     },
     "execution_count": 60,
     "metadata": {},
     "output_type": "execute_result"
    },
    {
     "data": {
      "image/png": "[encoded data removed]",
      "text/plain": [
       "<Figure size 432x288 with 1 Axes>"
      ]
     },
     "metadata": {
      "needs_background": "light"
     },
     "output_type": "display_data"
    }
   ],
   "source": [
    "n_clusters = 4\n",
    "labels = KMeans(n_clusters=n_clusters).fit_predict(reduced_feature_PCA)\n",
    "plt.scatter(reduced_feature_PCA[:,0],reduced_feature_PCA[:,1], alpha=0.5,c=labels)"
   ]
  },
  {
   "cell_type": "code",
   "execution_count": 61,
   "id": "de08da42",
   "metadata": {},
   "outputs": [
    {
     "name": "stdout",
     "output_type": "stream",
     "text": [
      "35 candidates in type 0: Index(['ALEX MERCED', 'ARN MENCONI', 'ARVIN VOHRA', 'BARBARA BOLLIER',\n",
      "       'BARRY MICHAELS', 'BRIAN SCHATZ', 'CINDY HYDE-SMITH', 'CONNER ELDRIDGE',\n",
      "       'CORY BOOKER', 'CRIS ERICSON', 'DAVID DUKE', 'DAVID MORAN',\n",
      "       'FOSTER CAMPBELL', 'GARY TRAUNER', 'GEOFF DIEHL', 'JACKY ROSEN',\n",
      "       'JASON LEWIS', 'JEFF RUSSELL', 'JENNY WILSON', 'JIM GRAY',\n",
      "       'JIM RENACCI', 'JIM RISCH', 'JOHN CARROLL', 'JOHN HOEVEN', 'JOHN JAMES',\n",
      "       'KATHY SZELIGA', 'KYRSTEN SINEMA', 'MARCO RUBIO', 'MARSHA BLACKBURN',\n",
      "       'MARTHA MCSALLY', 'MATT LIEBERMAN', 'MIKE CRAPO', 'MIKE LEE',\n",
      "       'NEAL SIMON', 'PATRICK MURPHY'],\n",
      "      dtype='object')\n",
      "6 candidates in type 1: Index(['BEN CARDIN', 'BEN SASSE', 'DANIEL BURKE', 'JOE DONNELLY',\n",
      "       'PATTY JUDGE', 'PATTY MURRAY'],\n",
      "      dtype='object')\n",
      "55 candidates in type 2: Index(['AARON JAMES', 'ABHAY PATEL', 'AMY KLOBUCHAR', 'AMY MCGRATH',\n",
      "       'ANN KIRKPATRICK', 'BERNIE SANDERS', 'BILL NELSON', 'BOB WALSH',\n",
      "       'CAL CUNNINGHAM', 'CAROLINE FAYARD', 'CATHERINE CORTEZ MASTO',\n",
      "       'CHRIS VAN HOLLEN', 'CHRIS VANCE', 'CHUCK GRASSLEY', 'CLAIRE MCCASKILL',\n",
      "       'CORY GARDNER', 'DAN CARTER', 'DARRYL GLENN', 'DAVID BARIA',\n",
      "       'DEBBIE STABENOW', 'DEBORAH JACKSON', 'DOUG COLLINS', 'DOUG JONES',\n",
      "       'ED TARVER', 'ELIOT GLASSHEIM', 'EVAN BAYH', 'GARY PETERS',\n",
      "       'JAIME HARRISON', 'JAMES LANKFORD', 'JAY WILLIAMS', 'JERRY MORAN',\n",
      "       'JERRY STURGILL', 'JERRY TROOIEN', 'JOE MANCHIN', 'JOHN CORNYN',\n",
      "       'JOHN FLEMING', 'JOHN KENNEDY', 'JOHN MCCAIN', 'JON OSSOFF',\n",
      "       'JON TESTER', 'JOSH HAWLEY', 'KARIN HOUSLEY', 'KATIE MCGINTY',\n",
      "       'KEVIN DE LEON', 'LEAH VUKMIR', 'LINDSEY GRAHAM', 'LUCY BRENTON',\n",
      "       'MARGARET STOCK', 'MICHAEL SANCHEZ', 'MICK RICH', 'MIKE BRAUN',\n",
      "       'MIKE ROUNDS', 'MITCH MCCONNELL', 'MITT ROMNEY', 'PATRICK MORRISEY'],\n",
      "      dtype='object')\n",
      "36 candidates in type 3: Index(['AL GROSS', 'ALLEN BUCKLEY', 'BETO O'ROURKE', 'BILL HAGERTY',\n",
      "       'BOB HUGIN', 'DAN SULLIVAN', 'DEAN HELLER', 'DEAN HILL', 'DEB FISCHER',\n",
      "       'DERRICK EDWARDS', 'DIANNE FEINSTEIN', 'HEIDI HEITKAMP',\n",
      "       'JANE RAYBOULD', 'JASON KANDER', 'JEANNE SHAHEEN', 'JEFF MERKLEY',\n",
      "       'JIM BARKSDALE', 'JIM NEWBERGER', 'JIM SCHULTZ', 'JOE MILLER',\n",
      "       'JOHN BARRASSO', 'JOHN BOOZMAN', 'JOHNNY ISAKSON', 'JONI ERNST',\n",
      "       'KELLY AYOTTE', 'KEVIN CRAMER', 'KEVIN O'CONNOR', 'LISA MURKOWSKI',\n",
      "       'LORETTA SANCHEZ', 'MAGGIE HASSAN', 'MARIA CANTWELL', 'MARK CALLAHAN',\n",
      "       'MARK KELLY', 'MARK KIRK', 'MIKE ESPY', 'MURRAY SABRIN'],\n",
      "      dtype='object')\n"
     ]
    }
   ],
   "source": [
    "# again we show the candidates of each cluster\n",
    "for candidate_type in range(0,n_clusters):\n",
    "    print('{} candidates in type {}: {}'.format(np.where(labels==candidate_type)[0].shape[0],candidate_type,candidate_name[np.where(labels==candidate_type)]))"
   ]
  },
  {
   "cell_type": "code",
   "execution_count": 62,
   "id": "4728806d",
   "metadata": {},
   "outputs": [
    {
     "data": {
      "image/png": "[encoded data removed]",
      "text/plain": [
       "<Figure size 1800x360 with 4 Axes>"
      ]
     },
     "metadata": {
      "needs_background": "light"
     },
     "output_type": "display_data"
    }
   ],
   "source": [
    "# use simple average to visualize the pattern of each cluster\n",
    "fig, axs = plt.subplots(1,n_clusters, figsize=(25,5))\n",
    "for candidate_type in range(0,n_clusters):\n",
    "    axs[candidate_type].plot(range(0,feature_length), np.mean(candidate_feature_vectors[np.where(labels==candidate_type)], axis=0))\n",
    "    axs[candidate_type].set_title('type {}'.format(candidate_type))\n",
    "    axs[candidate_type].set_xlabel('days before election')"
   ]
  },
  {
   "cell_type": "markdown",
   "id": "96e6534b",
   "metadata": {},
   "source": [
    "We also noticed that for most candidates, their quotation number of each day is relatively sparse. So it is resonable to use a longer time interval for our feature vectors. Here we sum the quotation number of each 30 days."
   ]
  },
  {
   "cell_type": "code",
   "execution_count": 71,
   "id": "893bb305",
   "metadata": {},
   "outputs": [],
   "source": [
    "# sum for each 30 day\n",
    "candidate_feature_vectors = candidate_quotes_cluster_feature_filted.to_numpy().T\n",
    "candidate_feature_vectors/=np.linalg.norm(candidate_feature_vectors,axis=1)[:,np.newaxis]\n",
    "candidate_feature_vectors_sum = np.array(np.split(candidate_feature_vectors,10, axis=1)).sum(axis=2).T"
   ]
  },
  {
   "cell_type": "code",
   "execution_count": 72,
   "id": "70f8efaf",
   "metadata": {},
   "outputs": [
    {
     "data": {
      "text/plain": [
       "<matplotlib.collections.PathCollection at 0x21eb255f4f0>"
      ]
     },
     "execution_count": 72,
     "metadata": {},
     "output_type": "execute_result"
    },
    {
     "data": {
      "image/png": "[encoded data removed]",
      "text/plain": [
       "<Figure size 432x288 with 1 Axes>"
      ]
     },
     "metadata": {
      "needs_background": "light"
     },
     "output_type": "display_data"
    }
   ],
   "source": [
    "# PCA visualization\n",
    "reduced_feature_PCA = PCA(n_components=2).fit(candidate_feature_vectors_sum).transform(candidate_feature_vectors_sum)\n",
    "\n",
    "plt.scatter(reduced_feature_PCA[:,0],reduced_feature_PCA[:,1], alpha=0.5)"
   ]
  },
  {
   "cell_type": "code",
   "execution_count": 73,
   "id": "d0236198",
   "metadata": {},
   "outputs": [
    {
     "data": {
      "text/plain": [
       "Text(0.5, 0, 'n_clusters')"
      ]
     },
     "execution_count": 73,
     "metadata": {},
     "output_type": "execute_result"
    },
    {
     "data": {
      "image/png": "[encoded data removed]",
      "text/plain": [
       "<Figure size 432x288 with 1 Axes>"
      ]
     },
     "metadata": {
      "needs_background": "light"
     },
     "output_type": "display_data"
    }
   ],
   "source": [
    "silhouettes=[]\n",
    "for n_clusters in range(2,10):\n",
    "    labels = KMeans(n_clusters=n_clusters).fit_predict(reduced_feature_PCA)\n",
    "    score = silhouette_score(reduced_feature_PCA,labels)\n",
    "    silhouettes.append(score)\n",
    "    \n",
    "plt.plot(range(2,10),silhouettes)\n",
    "plt.xlabel('n_clusters')"
   ]
  },
  {
   "cell_type": "code",
   "execution_count": 74,
   "id": "9d349d84",
   "metadata": {},
   "outputs": [
    {
     "data": {
      "text/plain": [
       "<matplotlib.collections.PathCollection at 0x21eb25bb490>"
      ]
     },
     "execution_count": 74,
     "metadata": {},
     "output_type": "execute_result"
    },
    {
     "data": {
      "image/png": "[encoded data removed]",
      "text/plain": [
       "<Figure size 432x288 with 1 Axes>"
      ]
     },
     "metadata": {
      "needs_background": "light"
     },
     "output_type": "display_data"
    }
   ],
   "source": [
    "n_clusters = 2\n",
    "labels = KMeans(n_clusters=n_clusters).fit_predict(reduced_feature_PCA)\n",
    "plt.scatter(reduced_feature_PCA[:,0],reduced_feature_PCA[:,1], alpha=0.5,c=labels)"
   ]
  },
  {
   "cell_type": "code",
   "execution_count": 75,
   "id": "63014d57",
   "metadata": {},
   "outputs": [
    {
     "data": {
      "image/png": "[encoded data removed]",
      "text/plain": [
       "<Figure size 1080x360 with 2 Axes>"
      ]
     },
     "metadata": {
      "needs_background": "light"
     },
     "output_type": "display_data"
    }
   ],
   "source": [
    "fig, axs = plt.subplots(1,n_clusters, figsize=(15,5))\n",
    "for candidate_type in range(0,n_clusters):\n",
    "    axs[candidate_type].plot(range(0,10), np.mean(candidate_feature_vectors_sum[np.where(labels==candidate_type)], axis=0))\n",
    "    axs[candidate_type].set_title('type {}'.format(candidate_type))\n",
    "    axs[candidate_type].set_xlabel('months before election')\n",
    "    axs[candidate_type].set_ylabel('normalized quotes')"
   ]
  },
  {
   "cell_type": "code",
   "execution_count": 76,
   "id": "cd10a8fd",
   "metadata": {},
   "outputs": [
    {
     "name": "stdout",
     "output_type": "stream",
     "text": [
      "89 candidates in type 0: Index(['ABHAY PATEL', 'ALEX MERCED', 'ALLEN BUCKLEY', 'ANN KIRKPATRICK',\n",
      "       'ARVIN VOHRA', 'BARRY MICHAELS', 'BRIAN SCHATZ', 'CAROLINE FAYARD',\n",
      "       'CATHERINE CORTEZ MASTO', 'CHRIS VAN HOLLEN', 'CHRIS VANCE',\n",
      "       'CINDY HYDE-SMITH', 'CONNER ELDRIDGE', 'CRIS ERICSON', 'DAN CARTER',\n",
      "       'DARRYL GLENN', 'DAVID BARIA', 'DAVID DUKE', 'DEAN HILL',\n",
      "       'DEBBIE STABENOW', 'DERRICK EDWARDS', 'ELIOT GLASSHEIM', 'EVAN BAYH',\n",
      "       'FOSTER CAMPBELL', 'GEOFF DIEHL', 'JAMES LANKFORD', 'JANE RAYBOULD',\n",
      "       'JASON KANDER', 'JAY WILLIAMS', 'JEFF RUSSELL', 'JENNY WILSON',\n",
      "       'JERRY MORAN', 'JERRY STURGILL', 'JERRY TROOIEN', 'JIM BARKSDALE',\n",
      "       'JIM GRAY', 'JIM SCHULTZ', 'JOE MILLER', 'JOHN BOOZMAN', 'JOHN CARROLL',\n",
      "       'JOHN FLEMING', 'JOHN HOEVEN', 'JOHN KENNEDY', 'JOHNNY ISAKSON',\n",
      "       'KATHY SZELIGA', 'KATIE MCGINTY', 'KELLY AYOTTE', 'KEVIN DE LEON',\n",
      "       'LISA MURKOWSKI', 'LORETTA SANCHEZ', 'LUCY BRENTON', 'MAGGIE HASSAN',\n",
      "       'MARCO RUBIO', 'MARGARET STOCK', 'MARIA CANTWELL', 'MARK CALLAHAN',\n",
      "       'MARK KIRK', 'MICK RICH', 'MIKE CRAPO', 'MIKE ESPY', 'MIKE LEE',\n",
      "       'NEAL SIMON', 'PATRICK MURPHY', 'PATTY JUDGE', 'PATTY MURRAY',\n",
      "       'PAUL STANTON', 'PETER WILLIAMS', 'RAND PAUL', 'RAY METCALFE',\n",
      "       'RICHARD BLUMENTHAL', 'RICHARD BURR', 'RICK SCOTT', 'ROB PORTMAN',\n",
      "       'RON JOHNSON', 'RON WYDEN', 'ROY BLUNT', 'RUSS FEINGOLD', 'SCOTT MILNE',\n",
      "       'SHELDON WHITEHOUSE', 'SHIVA AYYADURAI', 'STEVEN MACHAT',\n",
      "       'SUSAN HUTCHISON', 'TAMMY DUCKWORTH', 'TED STRICKLAND', 'TIM HAGAN',\n",
      "       'TIM SCOTT', 'TOM JONES', 'TROY HEBERT', 'ZAK RINGELSTEIN'],\n",
      "      dtype='object')\n",
      "43 candidates in type 1: Index(['AMY KLOBUCHAR', 'ARN MENCONI', 'BEN CARDIN', 'BERNIE SANDERS',\n",
      "       'BETO O'ROURKE', 'BILL NELSON', 'BOB HUGIN', 'CHUCK GRASSLEY',\n",
      "       'CLAIRE MCCASKILL', 'DEAN HELLER', 'DEB FISCHER', 'DIANNE FEINSTEIN',\n",
      "       'GARY TRAUNER', 'HEIDI HEITKAMP', 'JACKY ROSEN', 'JIM NEWBERGER',\n",
      "       'JIM RENACCI', 'JOE DONNELLY', 'JOE MANCHIN', 'JOHN BARRASSO',\n",
      "       'JOHN JAMES', 'JOHN MCCAIN', 'JON TESTER', 'JOSH HAWLEY',\n",
      "       'KARIN HOUSLEY', 'KEVIN CRAMER', 'KYRSTEN SINEMA', 'LEAH VUKMIR',\n",
      "       'MARSHA BLACKBURN', 'MARTHA MCSALLY', 'MIKE BRAUN', 'MITT ROMNEY',\n",
      "       'MURRAY SABRIN', 'PATRICK MORRISEY', 'PHIL BREDESEN', 'ROBERT MENENDEZ',\n",
      "       'SCOTT SUMMERS', 'SHERROD BROWN', 'TAMMY BALDWIN', 'TED CRUZ',\n",
      "       'THOMAS DIXON', 'TINA SMITH', 'TONY CAMPBELL'],\n",
      "      dtype='object')\n"
     ]
    }
   ],
   "source": [
    "for candidate_type in range(0,n_clusters):\n",
    "    print('{} candidates in type {}: {}'.format(np.where(labels==candidate_type)[0].shape[0],candidate_type,candidate_name_filted[np.where(labels==candidate_type)]))"
   ]
  },
  {
   "cell_type": "code",
   "execution_count": 81,
   "id": "8ae5f152",
   "metadata": {},
   "outputs": [
    {
     "data": {
      "text/plain": [
       "Text(0.5, 1.0, 'JAMES LANKFORD, Type 0 Example')"
      ]
     },
     "execution_count": 81,
     "metadata": {},
     "output_type": "execute_result"
    },
    {
     "data": {
      "image/png": "[encoded data removed]",
      "text/plain": [
       "<Figure size 432x288 with 1 Axes>"
      ]
     },
     "metadata": {
      "needs_background": "light"
     },
     "output_type": "display_data"
    }
   ],
   "source": [
    "# From type 0\n",
    "candidate_quotes_cluster_feature_filted['JAMES LANKFORD'].rolling(window=30).sum().plot()\n",
    "plt.xlabel('months before election')\n",
    "plt.ylabel('l2 normalized quotes')\n",
    "plt.title('JAMES LANKFORD, Type 0 Example')"
   ]
  },
  {
   "cell_type": "code",
   "execution_count": 82,
   "id": "9a0c30ef",
   "metadata": {},
   "outputs": [
    {
     "data": {
      "text/plain": [
       "Text(0.5, 1.0, 'Dianne Feinstein, Type 1 Example')"
      ]
     },
     "execution_count": 82,
     "metadata": {},
     "output_type": "execute_result"
    },
    {
     "data": {
      "image/png": "[encoded data removed]",
      "text/plain": [
       "<Figure size 432x288 with 1 Axes>"
      ]
     },
     "metadata": {
      "needs_background": "light"
     },
     "output_type": "display_data"
    }
   ],
   "source": [
    "# From type 1\n",
    "candidate_quotes_cluster_feature_filted['DIANNE FEINSTEIN'].rolling(window=30).sum().plot()\n",
    "plt.xlabel('months before election')\n",
    "plt.ylabel('l2 normalized quotes')\n",
    "plt.title('Dianne Feinstein, Type 1 Example')"
   ]
  },
  {
   "cell_type": "code",
   "execution_count": 83,
   "id": "dabe5482-7ef7-473e-a82f-b35ead549c83",
   "metadata": {},
   "outputs": [],
   "source": [
    "voterate_type0 = candidate_info_byname.loc[candidate_name_filted[np.where(labels==0)]]['vote_rate']\n",
    "voterate_type1 = candidate_info_byname.loc[candidate_name_filted[np.where(labels==1)]]['vote_rate']"
   ]
  },
  {
   "cell_type": "code",
   "execution_count": 84,
   "id": "88126cfb-54bd-4e49-95ce-f2bfe0abdabf",
   "metadata": {},
   "outputs": [
    {
     "data": {
      "text/plain": [
       "([<matplotlib.axis.XTick at 0x21eb288cb80>,\n",
       "  <matplotlib.axis.XTick at 0x21eb288cb50>],\n",
       " [Text(1, 0, 'type0'), Text(2, 0, 'type1')])"
      ]
     },
     "execution_count": 84,
     "metadata": {},
     "output_type": "execute_result"
    },
    {
     "data": {
      "image/png": "[encoded data removed]",
      "text/plain": [
       "<Figure size 432x288 with 1 Axes>"
      ]
     },
     "metadata": {
      "needs_background": "light"
     },
     "output_type": "display_data"
    }
   ],
   "source": [
    "plt.boxplot([voterate_type0.to_numpy(),voterate_type1.to_numpy()])\n",
    "plt.xticks([1, 2], ['type0', 'type1'])"
   ]
  },
  {
   "cell_type": "code",
   "execution_count": 85,
   "id": "e56f46e2-0c59-403c-9fc2-bcf75937fa2e",
   "metadata": {},
   "outputs": [
    {
     "data": {
      "text/plain": [
       "Ttest_indResult(statistic=-3.4258363525736297, pvalue=0.0008207875994070098)"
      ]
     },
     "execution_count": 85,
     "metadata": {},
     "output_type": "execute_result"
    }
   ],
   "source": [
    "from scipy.stats import ttest_ind\n",
    "ttest_ind(voterate_type0.to_numpy(),voterate_type1.to_numpy())"
   ]
  },
  {
   "cell_type": "markdown",
   "id": "604b01f4-2027-4bd2-a3dd-dacdc2329c2c",
   "metadata": {},
   "source": [
    "There is significant difference between the voterate of each cluster."
   ]
  },
  {
   "cell_type": "markdown",
   "id": "1a29c6f1",
   "metadata": {},
   "source": [
    "# 4. Prediction Model\n",
    "In this section, we will try to build the prediction model that uses the senate quotation data to predict election result."
   ]
  },
  {
   "cell_type": "markdown",
   "id": "00a2b64f",
   "metadata": {},
   "source": [
    "**4.1:** First, we label the data by whether the candidate win the election in a new column 'is_winner'"
   ]
  },
  {
   "cell_type": "code",
   "execution_count": 68,
   "id": "8b989331",
   "metadata": {},
   "outputs": [
    {
     "data": {
      "text/html": [
       "<div>\n",
       "<style scoped>\n",
       "    .dataframe tbody tr th:only-of-type {\n",
       "        vertical-align: middle;\n",
       "    }\n",
       "\n",
       "    .dataframe tbody tr th {\n",
       "        vertical-align: top;\n",
       "    }\n",
       "\n",
       "    .dataframe thead th {\n",
       "        text-align: right;\n",
       "    }\n",
       "</style>\n",
       "<table border=\"1\" class=\"dataframe\">\n",
       "  <thead>\n",
       "    <tr style=\"text-align: right;\">\n",
       "      <th></th>\n",
       "      <th>year</th>\n",
       "      <th>state</th>\n",
       "      <th>state_po</th>\n",
       "      <th>state_fips</th>\n",
       "      <th>state_cen</th>\n",
       "      <th>state_ic</th>\n",
       "      <th>office</th>\n",
       "      <th>district</th>\n",
       "      <th>stage</th>\n",
       "      <th>special</th>\n",
       "      <th>candidate</th>\n",
       "      <th>party_detailed</th>\n",
       "      <th>writein</th>\n",
       "      <th>mode</th>\n",
       "      <th>candidatevotes</th>\n",
       "      <th>totalvotes</th>\n",
       "      <th>unofficial</th>\n",
       "      <th>version</th>\n",
       "      <th>party_simplified</th>\n",
       "      <th>is_winner</th>\n",
       "    </tr>\n",
       "  </thead>\n",
       "  <tbody>\n",
       "    <tr>\n",
       "      <th>1</th>\n",
       "      <td>2016</td>\n",
       "      <td>ALABAMA</td>\n",
       "      <td>AL</td>\n",
       "      <td>1</td>\n",
       "      <td>63</td>\n",
       "      <td>41</td>\n",
       "      <td>US SENATE</td>\n",
       "      <td>statewide</td>\n",
       "      <td>gen</td>\n",
       "      <td>False</td>\n",
       "      <td>RICHARD C. SHELBY</td>\n",
       "      <td>REPUBLICAN</td>\n",
       "      <td>False</td>\n",
       "      <td>total</td>\n",
       "      <td>1335104</td>\n",
       "      <td>2087444</td>\n",
       "      <td>False</td>\n",
       "      <td>20210114</td>\n",
       "      <td>REPUBLICAN</td>\n",
       "      <td>True</td>\n",
       "    </tr>\n",
       "    <tr>\n",
       "      <th>7</th>\n",
       "      <td>2016</td>\n",
       "      <td>ALASKA</td>\n",
       "      <td>AK</td>\n",
       "      <td>2</td>\n",
       "      <td>94</td>\n",
       "      <td>81</td>\n",
       "      <td>US SENATE</td>\n",
       "      <td>statewide</td>\n",
       "      <td>gen</td>\n",
       "      <td>False</td>\n",
       "      <td>LISA MURKOWSKI</td>\n",
       "      <td>REPUBLICAN</td>\n",
       "      <td>False</td>\n",
       "      <td>total</td>\n",
       "      <td>138149</td>\n",
       "      <td>311441</td>\n",
       "      <td>False</td>\n",
       "      <td>20210114</td>\n",
       "      <td>REPUBLICAN</td>\n",
       "      <td>True</td>\n",
       "    </tr>\n",
       "    <tr>\n",
       "      <th>12</th>\n",
       "      <td>2016</td>\n",
       "      <td>ARIZONA</td>\n",
       "      <td>AZ</td>\n",
       "      <td>4</td>\n",
       "      <td>86</td>\n",
       "      <td>61</td>\n",
       "      <td>US SENATE</td>\n",
       "      <td>statewide</td>\n",
       "      <td>gen</td>\n",
       "      <td>False</td>\n",
       "      <td>JOHN MCCAIN</td>\n",
       "      <td>REPUBLICAN</td>\n",
       "      <td>False</td>\n",
       "      <td>total</td>\n",
       "      <td>1359267</td>\n",
       "      <td>2530730</td>\n",
       "      <td>False</td>\n",
       "      <td>20210114</td>\n",
       "      <td>REPUBLICAN</td>\n",
       "      <td>True</td>\n",
       "    </tr>\n",
       "    <tr>\n",
       "      <th>14</th>\n",
       "      <td>2016</td>\n",
       "      <td>ARKANSAS</td>\n",
       "      <td>AR</td>\n",
       "      <td>5</td>\n",
       "      <td>71</td>\n",
       "      <td>42</td>\n",
       "      <td>US SENATE</td>\n",
       "      <td>statewide</td>\n",
       "      <td>gen</td>\n",
       "      <td>False</td>\n",
       "      <td>JOHN BOOZMAN</td>\n",
       "      <td>REPUBLICAN</td>\n",
       "      <td>False</td>\n",
       "      <td>total</td>\n",
       "      <td>661984</td>\n",
       "      <td>1107522</td>\n",
       "      <td>False</td>\n",
       "      <td>20210114</td>\n",
       "      <td>REPUBLICAN</td>\n",
       "      <td>True</td>\n",
       "    </tr>\n",
       "    <tr>\n",
       "      <th>18</th>\n",
       "      <td>2016</td>\n",
       "      <td>CALIFORNIA</td>\n",
       "      <td>CA</td>\n",
       "      <td>6</td>\n",
       "      <td>93</td>\n",
       "      <td>71</td>\n",
       "      <td>US SENATE</td>\n",
       "      <td>statewide</td>\n",
       "      <td>gen</td>\n",
       "      <td>False</td>\n",
       "      <td>KAMALA D. HARRIS</td>\n",
       "      <td>DEMOCRAT</td>\n",
       "      <td>False</td>\n",
       "      <td>total</td>\n",
       "      <td>7542753</td>\n",
       "      <td>12244170</td>\n",
       "      <td>False</td>\n",
       "      <td>20210114</td>\n",
       "      <td>DEMOCRAT</td>\n",
       "      <td>True</td>\n",
       "    </tr>\n",
       "  </tbody>\n",
       "</table>\n",
       "</div>"
      ],
      "text/plain": [
       "    year       state state_po  state_fips  state_cen  state_ic     office  \\\n",
       "1   2016     ALABAMA       AL           1         63        41  US SENATE   \n",
       "7   2016      ALASKA       AK           2         94        81  US SENATE   \n",
       "12  2016     ARIZONA       AZ           4         86        61  US SENATE   \n",
       "14  2016    ARKANSAS       AR           5         71        42  US SENATE   \n",
       "18  2016  CALIFORNIA       CA           6         93        71  US SENATE   \n",
       "\n",
       "     district stage  special          candidate party_detailed  writein  \\\n",
       "1   statewide   gen    False  RICHARD C. SHELBY     REPUBLICAN    False   \n",
       "7   statewide   gen    False     LISA MURKOWSKI     REPUBLICAN    False   \n",
       "12  statewide   gen    False        JOHN MCCAIN     REPUBLICAN    False   \n",
       "14  statewide   gen    False       JOHN BOOZMAN     REPUBLICAN    False   \n",
       "18  statewide   gen    False   KAMALA D. HARRIS       DEMOCRAT    False   \n",
       "\n",
       "     mode  candidatevotes  totalvotes  unofficial   version party_simplified  \\\n",
       "1   total         1335104     2087444       False  20210114       REPUBLICAN   \n",
       "7   total          138149      311441       False  20210114       REPUBLICAN   \n",
       "12  total         1359267     2530730       False  20210114       REPUBLICAN   \n",
       "14  total          661984     1107522       False  20210114       REPUBLICAN   \n",
       "18  total         7542753    12244170       False  20210114         DEMOCRAT   \n",
       "\n",
       "    is_winner  \n",
       "1        True  \n",
       "7        True  \n",
       "12       True  \n",
       "14       True  \n",
       "18       True  "
      ]
     },
     "execution_count": 68,
     "metadata": {},
     "output_type": "execute_result"
    }
   ],
   "source": [
    "# Add 'is_winner' feature\n",
    "candidate_info['is_winner'] = False\n",
    "candidate_info.loc[candidate_info.groupby(['year', 'state'])['candidatevotes'].idxmax(), 'is_winner'] = True\n",
    "candidate_info[candidate_info['is_winner'] == True].head(5) # we display 5 winners"
   ]
  },
  {
   "cell_type": "markdown",
   "id": "7752d793",
   "metadata": {},
   "source": [
    "We notice that the dataset also contains situation in which more than one senate are elected in a state in the same year (such situations are officialy called special senate election in the U.S.). To find these special elections, we check whether the sum of candidate votes exceed the total number of votes. "
   ]
  },
  {
   "cell_type": "code",
   "execution_count": 69,
   "id": "58bec1cc",
   "metadata": {},
   "outputs": [
    {
     "data": {
      "text/plain": [
       "year  state      \n",
       "2018  MINNESOTA      False\n",
       "      MISSISSIPPI    False\n",
       "2020  GEORGIA        False\n",
       "dtype: bool"
      ]
     },
     "execution_count": 69,
     "metadata": {},
     "output_type": "execute_result"
    }
   ],
   "source": [
    "# Find the special situations\n",
    "sanity = candidate_info.groupby(['year', 'state'])['candidatevotes'].sum() <= candidate_info.groupby(['year', 'state'])['totalvotes'].mean()\n",
    "sanity[sanity == False]"
   ]
  },
  {
   "cell_type": "markdown",
   "id": "3e9ffeca",
   "metadata": {},
   "source": [
    "After manually looking at the dataset, we find two more winners: Tina Smith in 2018 Minnesota election and Cindy Hyde-Smith in 2018 MIssissippi election. The 2020 Georgia election held an additional runoff in 2021, in which Jon Ossof actually won the election. However, since QuoteBank only contains citations before April 2020, the data cannot reflect quotation changes before elections. We have decided not to include elections happening since 2020. So, we just add the two previously overlooked winners."
   ]
  },
  {
   "cell_type": "code",
   "execution_count": 70,
   "id": "4e551509",
   "metadata": {},
   "outputs": [],
   "source": [
    "# Add winners in special elections\n",
    "candidate_info.loc[candidate_info['candidate'] == 'TINA SMITH','is_winner'] = True\n",
    "candidate_info.loc[candidate_info['candidate'] == 'CINDY HYDE-SMITH','is_winner'] = True"
   ]
  },
  {
   "cell_type": "markdown",
   "id": "680e8130",
   "metadata": {},
   "source": [
    "**4.2:** we now generate features by concatenating the monthly discretized quotation data (defined in clustering section above) and affiliated party information (defined below)"
   ]
  },
  {
   "cell_type": "markdown",
   "id": "8ca88b18",
   "metadata": {},
   "source": [
    "Since affiliated party plays an important role in election, we  include the party affiliation of each candidate. For senate elction in each state, we also consider the affiliated party's vote rate in the most recent presidential election. Since we are looking at the senate election from 2016 to 2029, we will use the 2016 presidential election data.\n",
    "\n",
    "The presidential election data also comes from the MIT Election Data and Science Lab[2]. It contains the presidential election voting result by each state.\n",
    "\n",
    "[2]MIT Election Data and Science Lab, 2017, \"U.S. President 1976–2020\", https://doi.org/10.7910/DVN/42MVDX, Harvard Dataverse, V6."
   ]
  },
  {
   "cell_type": "code",
   "execution_count": 72,
   "id": "0d054640",
   "metadata": {},
   "outputs": [
    {
     "data": {
      "text/html": [
       "<div>\n",
       "<style scoped>\n",
       "    .dataframe tbody tr th:only-of-type {\n",
       "        vertical-align: middle;\n",
       "    }\n",
       "\n",
       "    .dataframe tbody tr th {\n",
       "        vertical-align: top;\n",
       "    }\n",
       "\n",
       "    .dataframe thead th {\n",
       "        text-align: right;\n",
       "    }\n",
       "</style>\n",
       "<table border=\"1\" class=\"dataframe\">\n",
       "  <thead>\n",
       "    <tr style=\"text-align: right;\">\n",
       "      <th></th>\n",
       "      <th>year</th>\n",
       "      <th>state</th>\n",
       "      <th>state_po</th>\n",
       "      <th>state_fips</th>\n",
       "      <th>state_cen</th>\n",
       "      <th>state_ic</th>\n",
       "      <th>office</th>\n",
       "      <th>candidate</th>\n",
       "      <th>party_detailed</th>\n",
       "      <th>writein</th>\n",
       "      <th>candidatevotes</th>\n",
       "      <th>totalvotes</th>\n",
       "      <th>version</th>\n",
       "      <th>notes</th>\n",
       "      <th>party_simplified</th>\n",
       "    </tr>\n",
       "  </thead>\n",
       "  <tbody>\n",
       "    <tr>\n",
       "      <th>3602</th>\n",
       "      <td>2016</td>\n",
       "      <td>NEW HAMPSHIRE</td>\n",
       "      <td>NH</td>\n",
       "      <td>33</td>\n",
       "      <td>12</td>\n",
       "      <td>4</td>\n",
       "      <td>US PRESIDENT</td>\n",
       "      <td>SCATTERING</td>\n",
       "      <td>NaN</td>\n",
       "      <td>True</td>\n",
       "      <td>2411</td>\n",
       "      <td>744296</td>\n",
       "      <td>20210113</td>\n",
       "      <td>NaN</td>\n",
       "      <td>OTHER</td>\n",
       "    </tr>\n",
       "    <tr>\n",
       "      <th>3719</th>\n",
       "      <td>2016</td>\n",
       "      <td>WEST VIRGINIA</td>\n",
       "      <td>WV</td>\n",
       "      <td>54</td>\n",
       "      <td>55</td>\n",
       "      <td>56</td>\n",
       "      <td>US PRESIDENT</td>\n",
       "      <td>CLINTON, HILLARY</td>\n",
       "      <td>DEMOCRAT</td>\n",
       "      <td>False</td>\n",
       "      <td>188794</td>\n",
       "      <td>713051</td>\n",
       "      <td>20210113</td>\n",
       "      <td>NaN</td>\n",
       "      <td>DEMOCRAT</td>\n",
       "    </tr>\n",
       "    <tr>\n",
       "      <th>3438</th>\n",
       "      <td>2016</td>\n",
       "      <td>COLORADO</td>\n",
       "      <td>CO</td>\n",
       "      <td>8</td>\n",
       "      <td>84</td>\n",
       "      <td>62</td>\n",
       "      <td>US PRESIDENT</td>\n",
       "      <td>DE LA FUENTE, ROQUE \"\"ROCKY\"\"</td>\n",
       "      <td>AMERICAN DELTA PARTY</td>\n",
       "      <td>False</td>\n",
       "      <td>1255</td>\n",
       "      <td>2780220</td>\n",
       "      <td>20210113</td>\n",
       "      <td>NaN</td>\n",
       "      <td>OTHER</td>\n",
       "    </tr>\n",
       "    <tr>\n",
       "      <th>3639</th>\n",
       "      <td>2016</td>\n",
       "      <td>NORTH DAKOTA</td>\n",
       "      <td>ND</td>\n",
       "      <td>38</td>\n",
       "      <td>44</td>\n",
       "      <td>36</td>\n",
       "      <td>US PRESIDENT</td>\n",
       "      <td>CLINTON, HILLARY</td>\n",
       "      <td>DEMOCRAT</td>\n",
       "      <td>False</td>\n",
       "      <td>93758</td>\n",
       "      <td>344360</td>\n",
       "      <td>20210113</td>\n",
       "      <td>NaN</td>\n",
       "      <td>DEMOCRAT</td>\n",
       "    </tr>\n",
       "  </tbody>\n",
       "</table>\n",
       "</div>"
      ],
      "text/plain": [
       "      year          state state_po  state_fips  state_cen  state_ic  \\\n",
       "3602  2016  NEW HAMPSHIRE       NH          33         12         4   \n",
       "3719  2016  WEST VIRGINIA       WV          54         55        56   \n",
       "3438  2016       COLORADO       CO           8         84        62   \n",
       "3639  2016   NORTH DAKOTA       ND          38         44        36   \n",
       "\n",
       "            office                      candidate        party_detailed  \\\n",
       "3602  US PRESIDENT                     SCATTERING                   NaN   \n",
       "3719  US PRESIDENT               CLINTON, HILLARY              DEMOCRAT   \n",
       "3438  US PRESIDENT  DE LA FUENTE, ROQUE \"\"ROCKY\"\"  AMERICAN DELTA PARTY   \n",
       "3639  US PRESIDENT               CLINTON, HILLARY              DEMOCRAT   \n",
       "\n",
       "     writein  candidatevotes  totalvotes   version  notes party_simplified  \n",
       "3602    True            2411      744296  20210113    NaN            OTHER  \n",
       "3719   False          188794      713051  20210113    NaN         DEMOCRAT  \n",
       "3438   False            1255     2780220  20210113    NaN            OTHER  \n",
       "3639   False           93758      344360  20210113    NaN         DEMOCRAT  "
      ]
     },
     "execution_count": 72,
     "metadata": {},
     "output_type": "execute_result"
    }
   ],
   "source": [
    "# We load 2016 result separately\n",
    "president = pd.read_csv('SenateData/1976-2020-president.csv')\n",
    "president16 = president[president['year'] == 2016].copy()\n",
    "president16.sample(4) #display format of president election data"
   ]
  },
  {
   "cell_type": "code",
   "execution_count": 73,
   "id": "84a8ea82",
   "metadata": {},
   "outputs": [
    {
     "data": {
      "text/plain": [
       "state      party_simplified\n",
       "ALABAMA    DEMOCRAT            0.343579\n",
       "           LIBERTARIAN         0.020942\n",
       "           OTHER               0.014648\n",
       "           REPUBLICAN          0.620831\n",
       "ALASKA     DEMOCRAT            0.365509\n",
       "                                 ...   \n",
       "WISCONSIN  REPUBLICAN          0.472182\n",
       "WYOMING    DEMOCRAT            0.216289\n",
       "           LIBERTARIAN         0.051343\n",
       "           OTHER               0.058384\n",
       "           REPUBLICAN          0.673984\n",
       "Name: vote_rate, Length: 201, dtype: float64"
      ]
     },
     "execution_count": 73,
     "metadata": {},
     "output_type": "execute_result"
    }
   ],
   "source": [
    "# We add vote rate to each candidate in each state\n",
    "president16['vote_rate'] = president16['candidatevotes']/president16['totalvotes']\n",
    "# We group the data by states and party_simplified (represent small parties, independent, NaN all by 'Others'). \n",
    "# We take sum of vote rates of cadidates from the same party_simplified\n",
    "vote_byparty16 = president16.groupby(['state', 'party_simplified'])['vote_rate'].sum()\n",
    "vote_byparty16"
   ]
  },
  {
   "cell_type": "code",
   "execution_count": 74,
   "id": "6ede7665",
   "metadata": {},
   "outputs": [
    {
     "data": {
      "text/html": [
       "<div>\n",
       "<style scoped>\n",
       "    .dataframe tbody tr th:only-of-type {\n",
       "        vertical-align: middle;\n",
       "    }\n",
       "\n",
       "    .dataframe tbody tr th {\n",
       "        vertical-align: top;\n",
       "    }\n",
       "\n",
       "    .dataframe thead th {\n",
       "        text-align: right;\n",
       "    }\n",
       "</style>\n",
       "<table border=\"1\" class=\"dataframe\">\n",
       "  <thead>\n",
       "    <tr style=\"text-align: right;\">\n",
       "      <th></th>\n",
       "      <th>party_simplified</th>\n",
       "      <th>party_vote_rate</th>\n",
       "    </tr>\n",
       "    <tr>\n",
       "      <th>candidate</th>\n",
       "      <th></th>\n",
       "      <th></th>\n",
       "    </tr>\n",
       "  </thead>\n",
       "  <tbody>\n",
       "    <tr>\n",
       "      <th>JASON BUCKLEY</th>\n",
       "      <td>LIBERTARIAN</td>\n",
       "      <td>0.046780</td>\n",
       "    </tr>\n",
       "    <tr>\n",
       "      <th>JAMES LANKFORD</th>\n",
       "      <td>REPUBLICAN</td>\n",
       "      <td>0.653229</td>\n",
       "    </tr>\n",
       "    <tr>\n",
       "      <th>FRANK GILBERT</th>\n",
       "      <td>LIBERTARIAN</td>\n",
       "      <td>0.026383</td>\n",
       "    </tr>\n",
       "    <tr>\n",
       "      <th>ROBERT P CASEY JR</th>\n",
       "      <td>DEMOCRAT</td>\n",
       "      <td>0.478536</td>\n",
       "    </tr>\n",
       "    <tr>\n",
       "      <th>RICK SCOTT</th>\n",
       "      <td>REPUBLICAN</td>\n",
       "      <td>0.490219</td>\n",
       "    </tr>\n",
       "  </tbody>\n",
       "</table>\n",
       "</div>"
      ],
      "text/plain": [
       "                  party_simplified  party_vote_rate\n",
       "candidate                                          \n",
       "JASON BUCKLEY          LIBERTARIAN         0.046780\n",
       "JAMES LANKFORD          REPUBLICAN         0.653229\n",
       "FRANK GILBERT          LIBERTARIAN         0.026383\n",
       "ROBERT P CASEY JR         DEMOCRAT         0.478536\n",
       "RICK SCOTT              REPUBLICAN         0.490219"
      ]
     },
     "execution_count": 74,
     "metadata": {},
     "output_type": "execute_result"
    }
   ],
   "source": [
    "# We create feature dataframe and add in party_simplified, party vote rate in most recent presidential election, and final vote rate\n",
    "# If the senate candidate's affiliated party does not show up in the most recent president election, party_vote_rate is 0\n",
    "party_features = candidate_info_byname[['party_simplified']].copy()\n",
    "for name in party_features.index:\n",
    "    state_ = candidate_info_byname.loc[name, 'state']\n",
    "    party_ = candidate_info_byname.loc[name, 'party_simplified']\n",
    "    if party_ in vote_byparty16[state_].index:  #check whether the affiliated party is in recent president election\n",
    "        party_features.loc[name, 'party_vote_rate'] = vote_byparty16[state_][party_]\n",
    "    else: \n",
    "        party_features.loc[name, 'party_vote_rate'] = 0\n",
    "        \n",
    "party_features.sample(5)"
   ]
  },
  {
   "cell_type": "code",
   "execution_count": 75,
   "id": "99f95b9e",
   "metadata": {},
   "outputs": [
    {
     "name": "stdout",
     "output_type": "stream",
     "text": [
      "we have feature vectors from 132 candidates, each with dimension 11\n"
     ]
    }
   ],
   "source": [
    "# We get the candidates used for model and extract the vector corresponding to affliated party's performance in last election\n",
    "candidates_model = candidate_quotes_cluster_feature_filted.T.index\n",
    "party_vote_model = party_features.loc[candidates_model].party_vote_rate\n",
    "# We then concatenate this vector to our model\n",
    "features = np.concatenate((candidate_feature_vectors_sum, party_vote_model.to_numpy()[:, np.newaxis]), axis=1)\n",
    "print('we have feature vectors from {} candidates, each with dimension {}'.format(features.shape[0], features.shape[1]))"
   ]
  },
  {
   "cell_type": "code",
   "execution_count": 87,
   "id": "50768214",
   "metadata": {},
   "outputs": [
    {
     "name": "stdout",
     "output_type": "stream",
     "text": [
      "we have 51 winner candidates and 81 loser candidate\n"
     ]
    }
   ],
   "source": [
    "# we also obtain the corresponding labels, with 0 meaning lose and 1 meaning win\n",
    "labels = candidate_info.set_index('candidate').loc[candidates_model].is_winner.astype(int).to_numpy()\n",
    "print('we have {} winner candidates and {} loser candidate'.format(sum(labels), len(labels) - sum(labels)))\n"
   ]
  },
  {
   "cell_type": "code",
   "execution_count": 144,
   "id": "7da278ff",
   "metadata": {},
   "outputs": [
    {
     "name": "stdout",
     "output_type": "stream",
     "text": [
      "we have 99 training data and 33 test data\n"
     ]
    }
   ],
   "source": [
    "# This helps split the data if we want to split train and test\n",
    "from sklearn.model_selection import train_test_split\n",
    "X_train, X_test, y_train, y_test = train_test_split(features, labels, test_size=0.25, random_state=123)\n",
    "print('we have {} training data and {} test data'.format(len(y_train), len(y_test)))"
   ]
  },
  {
   "cell_type": "markdown",
   "id": "47a07ffb",
   "metadata": {},
   "source": [
    "**4.3:** We build a Logistic Regression Model to predict the result"
   ]
  },
  {
   "cell_type": "code",
   "execution_count": 147,
   "id": "be8a56dd",
   "metadata": {},
   "outputs": [],
   "source": [
    "from sklearn.linear_model import LogisticRegression\n",
    "from sklearn.model_selection import cross_val_predict, cross_val_score\n",
    "from sklearn.metrics import accuracy_score, f1_score"
   ]
  },
  {
   "cell_type": "markdown",
   "id": "b7cfc3c5",
   "metadata": {},
   "source": [
    "We use 5-fold cross-validation on the whole dataset, to see how well logistic regression can perform on training set."
   ]
  },
  {
   "cell_type": "code",
   "execution_count": 145,
   "id": "38cbe6f0",
   "metadata": {},
   "outputs": [
    {
     "name": "stdout",
     "output_type": "stream",
     "text": [
      "Cross-Validated Training Precision: 0.75 (+/- 0.49)\n",
      "Cross-Validated Training Recall: 0.40 (+/- 0.45)\n"
     ]
    }
   ],
   "source": [
    "logistic = LogisticRegression(solver='lbfgs')\n",
    "precision = cross_val_score(logistic, X_train, y_train, cv=5, scoring=\"precision\")\n",
    "recall = cross_val_score(logistic, X_train, y_train, cv=5, scoring=\"recall\")\n",
    "# Precision: avoid false positives\n",
    "print(\"Cross-Validated Training Precision: %0.2f (+/- %0.2f)\" % (precision.mean(), precision.std() * 2))\n",
    "# Recall: avoid false negatives\n",
    "print(\"Cross-Validated Training Recall: %0.2f (+/- %0.2f)\" % (recall.mean(), recall.std() * 2))"
   ]
  },
  {
   "cell_type": "markdown",
   "id": "0a1fef99",
   "metadata": {},
   "source": [
    "Then, we train the logistic regression on the traing dataset and predict the test dataset"
   ]
  },
  {
   "cell_type": "code",
   "execution_count": 148,
   "id": "25de09bc",
   "metadata": {},
   "outputs": [
    {
     "name": "stdout",
     "output_type": "stream",
     "text": [
      "On the test dataset, we obtain accuracy 0.6666666666666666 and f1 score 0.5217391304347826\n"
     ]
    }
   ],
   "source": [
    "logistic = LogisticRegression(solver='lbfgs')\n",
    "logistic.fit(X_train, y_train) # train the model\n",
    "y_preds = logistic.predict(X_test)\n",
    "accuracy = accuracy_score(y_test, y_preds)\n",
    "f1 = f1_score(y_test, y_preds)\n",
    "print(\"On the test dataset, we obtain accuracy {} and f1 score {}\".format(accuracy, f1))"
   ]
  },
  {
   "cell_type": "markdown",
   "id": "de0b4e76",
   "metadata": {
    "jp-MarkdownHeadingCollapsed": true,
    "tags": []
   },
   "source": [
    "# 5. Sentiment Analysis"
   ]
  },
  {
   "cell_type": "code",
   "execution_count": 120,
   "id": "241cd01f",
   "metadata": {},
   "outputs": [],
   "source": [
    "# Obtain quotation's sentiment toward mentioned candidates\n",
    "import bz2\n",
    "import json\n",
    "from vaderSentiment.vaderSentiment import SentimentIntensityAnalyzer\n",
    "import pickle\n",
    "analyzer = SentimentIntensityAnalyzer()\n",
    "from collections import defaultdict\n",
    "\n",
    "\n",
    "senate_candidates = list(map(lambda x:x.title(), senate_candidates))\n",
    "senate_candidates_sentiment = defaultdict(list)\n",
    "\n",
    "#candidate_quotes_mention = pd.read_pickle('SenateData/candidate_quotes_mention.pkl') \n",
    "# The above line was used to load previously stored mention data, no need to run it if you have run the above cells\n",
    "candidate_quotes_mention['quotation_score'] =  candidate_quotes_mention.apply(lambda x: analyzer.polarity_scores(x['quotation'])['compound'], axis=1)\n",
    "scale = candidate_quotes_mention['normalize_factor'].max() \n",
    "# we will divide the above scale factor when normalizing sentiment, to make sure the normalized sentimate still range from -1 to 1\n",
    "candidate_quotes_mention['normalize_quotation_score'] = candidate_quotes_mention['quotation_score']*(candidate_quotes_mention['normalize_factor']/scale)\n",
    "for index, instance in candidate_quotes_mention.iterrows():\n",
    "    senate_candidates_sentiment[instance['mention']].append((instance['date'].date(), instance['quotation_score']))\n",
    "\n",
    "# The function to extract sentiment of the sentence\n",
    "def obtain_mean_sentiment(sentiment_list, time_span=None):\n",
    "    # sentiment_list consists of (date, sentiment), we obtain mean sentiment in each timespan\n",
    "    # time span (date_lower: str, date upper: str) \n",
    "    if time_span is None:\n",
    "        return sum(map(lambda x: x[1], sentiment_list)) / len(sentiment_list)\n",
    "    date_start=pd.to_datetime(time_span[0], format='%Y-%m-%d') \n",
    "    date_end=pd.to_datetime(time_span[1], format='%Y-%m-%d')\n",
    "    filtered_sentiment_list = list(filter(lambda x: date_start <= pd.to_datetime(x[0], format='%Y-%m-%d')  < date_end, sentiment_list))\n",
    "    return sum(map(lambda x: x[1], filtered_sentiment_list)) / max(len(filtered_sentiment_list),1)"
   ]
  },
  {
   "cell_type": "markdown",
   "id": "4a532eb5",
   "metadata": {},
   "source": [
    "We can visualize the sentiment changes toward each candidate over time. We take Bernie Sanders as an example."
   ]
  },
  {
   "cell_type": "code",
   "execution_count": 124,
   "id": "42981a07",
   "metadata": {},
   "outputs": [
    {
     "data": {
      "text/plain": [
       "Text(0.5, 1.0, 'Bernie Sanders')"
      ]
     },
     "execution_count": 124,
     "metadata": {},
     "output_type": "execute_result"
    },
    {
     "data": {
      "image/png": "[encoded data removed]",
      "text/plain": [
       "<Figure size 432x288 with 1 Axes>"
      ]
     },
     "metadata": {
      "needs_background": "light"
     },
     "output_type": "display_data"
    }
   ],
   "source": [
    "# Group sentiment scores by candidates and dates, average the score in each day\n",
    "candidate_senti_byday = candidate_quotes_mention.groupby(['mention', 'date_only'])['normalize_quotation_score'].mean()\n",
    "# Visualize the sentiment change of Bernie Sanders\n",
    "candidate_senti_byday['BERNIE SANDERS'].rolling(window=30).mean().plot() # we take monthly average for better display\n",
    "plt.xlabel('time')\n",
    "plt.ylabel('Sentiment Score (monthly average)')\n",
    "plt.title('Bernie Sanders')"
   ]
  },
  {
   "cell_type": "markdown",
   "id": "5362af72",
   "metadata": {},
   "source": [
    "We then look at the average sentiment toward each candidate within a year before the election. We can compare this to the final vote rate, so that we know whether the sentiment displayed in quotations reflect support rate."
   ]
  },
  {
   "cell_type": "code",
   "execution_count": 135,
   "id": "0a9159ac",
   "metadata": {},
   "outputs": [],
   "source": [
    "# We group the quotations within 1 year before election day\n",
    "quotes_byelection = candidate_quotes_mention[candidate_quotes_mention['date_only'] < candidate_quotes_mention['election_day']]\n",
    "start_date = pd.to_datetime(quotes_byelection ['mention'].map(candidate_info_byname['year'] - 1).astype(str)+ '-11-01') # start date 1 yr before election\n",
    "quotes_byelection = quotes_byelection[quotes_byelection['date_only'] > start_date] # all quotes within 1 year before election\n",
    "# We compute the mean sentiment within that year\n",
    "senti_byelection = pd.DataFrame(quotes_byelection.groupby(['mention'])['normalize_quotation_score'].mean())\n",
    "senti_byelection.rename(columns = {'normalize_quotation_score': 'mean_sentiment_byelection'}, inplace=True)\n"
   ]
  },
  {
   "cell_type": "code",
   "execution_count": 138,
   "id": "bebcfadb",
   "metadata": {},
   "outputs": [
    {
     "name": "stdout",
     "output_type": "stream",
     "text": [
      "Pearson coefficient: -0.10998685465657197, p value: 0.09323745970762687\n"
     ]
    },
    {
     "data": {
      "image/png": "[encoded data removed]",
      "text/plain": [
       "<Figure size 432x288 with 1 Axes>"
      ]
     },
     "metadata": {
      "needs_background": "light"
     },
     "output_type": "display_data"
    }
   ],
   "source": [
    "# We add the vote rate and plot the scatter plot of vote rate against total quotes by election\n",
    "senti_byelection['vote_rate'] = senti_byelection.index.map(candidate_info_byname['vote_rate'])\n",
    "\n",
    "# linear regression\n",
    "senti_vote = senti_byelection.plot.scatter(x = 'mean_sentiment_byelection', y = 'vote_rate', logx=True)\n",
    "(corr1, pvalue) = pearsonr(senti_byelection['mean_sentiment_byelection'], senti_byelection['vote_rate'])\n",
    "print(f'Pearson coefficient: {corr1}, p value: {pvalue}')"
   ]
  },
  {
   "cell_type": "markdown",
   "id": "86104964",
   "metadata": {},
   "source": [
    "There is no significant (p-value > 0.05) correlation between the sentiment in quotes and final vote rate!"
   ]
  },
  {
   "cell_type": "markdown",
   "id": "fdfb9a52",
   "metadata": {
    "jp-MarkdownHeadingCollapsed": true,
    "tags": []
   },
   "source": [
    "## 3. Features for Prediction Model (This is the OLD CODE)\n",
    "In the proposal, we decide to build a model predicting election results based on quotation data. Here, we preprocess the quote data and candidate data to generate the features for training our model.\n",
    "\n",
    "The first feature is the change of quotation number over time. We will also use this for clustering analysis in proposed question 3."
   ]
  },
  {
   "cell_type": "code",
   "execution_count": null,
   "id": "7a550200",
   "metadata": {},
   "outputs": [],
   "source": [
    "date_start=pd.to_datetime('2015-01-01', format='%Y-%m-%d') \n",
    "all_date = (pd.to_datetime('2020-12-31', format='%Y-%m-%d') - date_start).days # number of days.\n",
    "candidate_quotes_name = candidate_quotes_byday.index.map(lambda x:x[0]).drop_duplicates()\n",
    "candidate_quotes_feature = pd.DataFrame(np.zeros([all_date,len(candidate_quotes_name)]), columns=candidate_quotes_name) # initialize frequency vector\n",
    "\n",
    "for candidate in candidate_quotes_name:\n",
    "    candidate_mention = candidate_quotes_byday[candidate]\n",
    "    for date in candidate_mention.index:\n",
    "        date2days = (pd.to_datetime(date, format='%Y-%m-%d') - date_start).days # convert date to num of days w.r.t. start date\n",
    "        candidate_quotes_feature[candidate].iloc[date2days] = candidate_mention.loc[date]"
   ]
  },
  {
   "cell_type": "code",
   "execution_count": null,
   "id": "f5fda582-1c44-4dd5-8678-8915cc5d3328",
   "metadata": {},
   "outputs": [],
   "source": [
    "candidate_quotes_byday"
   ]
  },
  {
   "cell_type": "markdown",
   "id": "0e62d3a6",
   "metadata": {},
   "source": [
    "We also include the party affiliation of each candidate. Moreover, we also consider the affiliated party's vote rate in the most recent presidential election. Since we are looking at the election from 2016 to 2021, we will use the 2016 presidential election data for the senate election from 2016 to 2019, and use the 2020 presidential election data for the senate election from 2020 to 2021.\n",
    "\n",
    "The presidential election data also comes from the MIT Election Data and Science Lab[2]. It contains the presidential election voting result by each state.\n",
    "\n",
    "[2]MIT Election Data and Science Lab, 2017, \"U.S. President 1976–2020\", https://doi.org/10.7910/DVN/42MVDX, Harvard Dataverse, V6."
   ]
  },
  {
   "cell_type": "code",
   "execution_count": 42,
   "id": "9d307c4a",
   "metadata": {},
   "outputs": [
    {
     "data": {
      "text/html": [
       "<div>\n",
       "<style scoped>\n",
       "    .dataframe tbody tr th:only-of-type {\n",
       "        vertical-align: middle;\n",
       "    }\n",
       "\n",
       "    .dataframe tbody tr th {\n",
       "        vertical-align: top;\n",
       "    }\n",
       "\n",
       "    .dataframe thead th {\n",
       "        text-align: right;\n",
       "    }\n",
       "</style>\n",
       "<table border=\"1\" class=\"dataframe\">\n",
       "  <thead>\n",
       "    <tr style=\"text-align: right;\">\n",
       "      <th></th>\n",
       "      <th>year</th>\n",
       "      <th>state</th>\n",
       "      <th>state_po</th>\n",
       "      <th>state_fips</th>\n",
       "      <th>state_cen</th>\n",
       "      <th>state_ic</th>\n",
       "      <th>office</th>\n",
       "      <th>candidate</th>\n",
       "      <th>party_detailed</th>\n",
       "      <th>writein</th>\n",
       "      <th>candidatevotes</th>\n",
       "      <th>totalvotes</th>\n",
       "      <th>version</th>\n",
       "      <th>notes</th>\n",
       "      <th>party_simplified</th>\n",
       "    </tr>\n",
       "  </thead>\n",
       "  <tbody>\n",
       "    <tr>\n",
       "      <th>3716</th>\n",
       "      <td>2016</td>\n",
       "      <td>WASHINGTON</td>\n",
       "      <td>WA</td>\n",
       "      <td>53</td>\n",
       "      <td>91</td>\n",
       "      <td>73</td>\n",
       "      <td>US PRESIDENT</td>\n",
       "      <td>KENNEDY, ALYSON</td>\n",
       "      <td>SOCIALIST WORKERS</td>\n",
       "      <td>False</td>\n",
       "      <td>4307</td>\n",
       "      <td>3317019</td>\n",
       "      <td>20210113</td>\n",
       "      <td>NaN</td>\n",
       "      <td>OTHER</td>\n",
       "    </tr>\n",
       "    <tr>\n",
       "      <th>3681</th>\n",
       "      <td>2016</td>\n",
       "      <td>TENNESSEE</td>\n",
       "      <td>TN</td>\n",
       "      <td>47</td>\n",
       "      <td>62</td>\n",
       "      <td>54</td>\n",
       "      <td>US PRESIDENT</td>\n",
       "      <td>CLINTON, HILLARY</td>\n",
       "      <td>DEMOCRAT</td>\n",
       "      <td>False</td>\n",
       "      <td>870695</td>\n",
       "      <td>2508027</td>\n",
       "      <td>20210113</td>\n",
       "      <td>NaN</td>\n",
       "      <td>DEMOCRAT</td>\n",
       "    </tr>\n",
       "    <tr>\n",
       "      <th>3712</th>\n",
       "      <td>2016</td>\n",
       "      <td>WASHINGTON</td>\n",
       "      <td>WA</td>\n",
       "      <td>53</td>\n",
       "      <td>91</td>\n",
       "      <td>73</td>\n",
       "      <td>US PRESIDENT</td>\n",
       "      <td>JOHNSON, GARY</td>\n",
       "      <td>LIBERTARIAN</td>\n",
       "      <td>False</td>\n",
       "      <td>160879</td>\n",
       "      <td>3317019</td>\n",
       "      <td>20210113</td>\n",
       "      <td>NaN</td>\n",
       "      <td>LIBERTARIAN</td>\n",
       "    </tr>\n",
       "    <tr>\n",
       "      <th>3397</th>\n",
       "      <td>2016</td>\n",
       "      <td>ALABAMA</td>\n",
       "      <td>AL</td>\n",
       "      <td>1</td>\n",
       "      <td>63</td>\n",
       "      <td>41</td>\n",
       "      <td>US PRESIDENT</td>\n",
       "      <td>JOHNSON, GARY</td>\n",
       "      <td>LIBERTARIAN</td>\n",
       "      <td>False</td>\n",
       "      <td>44467</td>\n",
       "      <td>2123372</td>\n",
       "      <td>20210113</td>\n",
       "      <td>NaN</td>\n",
       "      <td>LIBERTARIAN</td>\n",
       "    </tr>\n",
       "  </tbody>\n",
       "</table>\n",
       "</div>"
      ],
      "text/plain": [
       "      year       state state_po  state_fips  state_cen  state_ic  \\\n",
       "3716  2016  WASHINGTON       WA          53         91        73   \n",
       "3681  2016   TENNESSEE       TN          47         62        54   \n",
       "3712  2016  WASHINGTON       WA          53         91        73   \n",
       "3397  2016     ALABAMA       AL           1         63        41   \n",
       "\n",
       "            office         candidate     party_detailed writein  \\\n",
       "3716  US PRESIDENT   KENNEDY, ALYSON  SOCIALIST WORKERS   False   \n",
       "3681  US PRESIDENT  CLINTON, HILLARY           DEMOCRAT   False   \n",
       "3712  US PRESIDENT     JOHNSON, GARY        LIBERTARIAN   False   \n",
       "3397  US PRESIDENT     JOHNSON, GARY        LIBERTARIAN   False   \n",
       "\n",
       "      candidatevotes  totalvotes   version  notes party_simplified  \n",
       "3716            4307     3317019  20210113    NaN            OTHER  \n",
       "3681          870695     2508027  20210113    NaN         DEMOCRAT  \n",
       "3712          160879     3317019  20210113    NaN      LIBERTARIAN  \n",
       "3397           44467     2123372  20210113    NaN      LIBERTARIAN  "
      ]
     },
     "execution_count": 42,
     "metadata": {},
     "output_type": "execute_result"
    }
   ],
   "source": [
    "# We load 2016 and 2020 result separately\n",
    "president = pd.read_csv('SenateData/1976-2020-president.csv')\n",
    "president16 = president[president['year'] == 2016].copy()\n",
    "president20 = president[president['year'] == 2020].copy()\n",
    "president16.sample(4) #display format of president election data"
   ]
  },
  {
   "cell_type": "code",
   "execution_count": 43,
   "id": "e10bd410",
   "metadata": {},
   "outputs": [],
   "source": [
    "# We add vote rate to each candidate in each state\n",
    "president16['vote_rate'] = president16['candidatevotes']/president16['totalvotes']\n",
    "president20['vote_rate'] = president20['candidatevotes']/president20['totalvotes']"
   ]
  },
  {
   "cell_type": "code",
   "execution_count": 44,
   "id": "036b6612",
   "metadata": {},
   "outputs": [
    {
     "data": {
      "text/plain": [
       "state      party_simplified\n",
       "ALABAMA    DEMOCRAT            0.343579\n",
       "           LIBERTARIAN         0.020942\n",
       "           OTHER               0.014648\n",
       "           REPUBLICAN          0.620831\n",
       "ALASKA     DEMOCRAT            0.365509\n",
       "                                 ...   \n",
       "WISCONSIN  REPUBLICAN          0.472182\n",
       "WYOMING    DEMOCRAT            0.216289\n",
       "           LIBERTARIAN         0.051343\n",
       "           OTHER               0.058384\n",
       "           REPUBLICAN          0.673984\n",
       "Name: vote_rate, Length: 201, dtype: float64"
      ]
     },
     "execution_count": 44,
     "metadata": {},
     "output_type": "execute_result"
    }
   ],
   "source": [
    "# We group the data by states and party_simplified (represent small parties, independent, NaN all by 'Others'). \n",
    "# We take sum of vote rates of cadidates from the same party_simplified\n",
    "vote_byparty16 = president16.groupby(['state', 'party_simplified'])['vote_rate'].sum()\n",
    "vote_byparty20 = president20.groupby(['state', 'party_simplified'])['vote_rate'].sum()\n",
    "vote_byparty16"
   ]
  },
  {
   "cell_type": "code",
   "execution_count": 45,
   "id": "0e25e62d",
   "metadata": {},
   "outputs": [],
   "source": [
    "# We create feature dataframe and add in party_simplified, party vote rate in most recent presidential election, and final vote rate\n",
    "# If the senate candidate's affiliated party does not show up in the most recent president election, party_vote_rate is 0\n",
    "features = candidate_info_byname[['party_simplified', 'vote_rate']].copy()\n",
    "for name in features.index:\n",
    "    state_ = candidate_info_byname.loc[name, 'state']\n",
    "    party_ = candidate_info_byname.loc[name, 'party_simplified']\n",
    "    if candidate_info_byname.loc[name, 'year'] < 2020: #for candidate before 2020\n",
    "        if party_ in vote_byparty16[state_].index:  #check whether the affiliated party is in recent president election\n",
    "            features.loc[name, 'party_vote_rate'] = vote_byparty16[state_][party_]\n",
    "        else: \n",
    "            features.loc[name, 'party_vote_rate'] = 0\n",
    "    else:\n",
    "        if party_ in vote_byparty20[state_].index: \n",
    "            features.loc[name, 'party_vote_rate'] = vote_byparty20[state_][party_]\n",
    "        else: \n",
    "            features.loc[name, 'party_vote_rate'] = 0"
   ]
  },
  {
   "cell_type": "markdown",
   "id": "a0f6e1c4-eb2d-452f-b697-a833e7c0ce7a",
   "metadata": {
    "jp-MarkdownHeadingCollapsed": true,
    "tags": []
   },
   "source": [
    "# 4. statistics of sentence complexity (ALSO OLD Code)"
   ]
  },
  {
   "cell_type": "markdown",
   "id": "48abacfb-91b9-4177-9c27-14d76114f0e0",
   "metadata": {},
   "source": [
    "We also calculated the average length of sentence and word of each quotation. This information may be used in our analysis about speech style (question 6)."
   ]
  },
  {
   "cell_type": "code",
   "execution_count": 32,
   "id": "c22ad51d-32f3-4e9f-821f-912eaba1d640",
   "metadata": {},
   "outputs": [
    {
     "data": {
      "text/html": [
       "<div>\n",
       "<style scoped>\n",
       "    .dataframe tbody tr th:only-of-type {\n",
       "        vertical-align: middle;\n",
       "    }\n",
       "\n",
       "    .dataframe tbody tr th {\n",
       "        vertical-align: top;\n",
       "    }\n",
       "\n",
       "    .dataframe thead th {\n",
       "        text-align: right;\n",
       "    }\n",
       "</style>\n",
       "<table border=\"1\" class=\"dataframe\">\n",
       "  <thead>\n",
       "    <tr style=\"text-align: right;\">\n",
       "      <th></th>\n",
       "      <th>quoteID</th>\n",
       "      <th>quotation</th>\n",
       "      <th>speaker</th>\n",
       "      <th>qids</th>\n",
       "      <th>date</th>\n",
       "      <th>numOccurrences</th>\n",
       "      <th>probas</th>\n",
       "      <th>urls</th>\n",
       "      <th>phase</th>\n",
       "      <th>domains</th>\n",
       "      <th>date_only</th>\n",
       "      <th>election_day</th>\n",
       "      <th>split_quotation</th>\n",
       "      <th>avg_sentence_length</th>\n",
       "    </tr>\n",
       "  </thead>\n",
       "  <tbody>\n",
       "    <tr>\n",
       "      <th>0</th>\n",
       "      <td>2015-08-31-000271</td>\n",
       "      <td>... a great day for veterans here in Littleton...</td>\n",
       "      <td>JEANNE SHAHEEN</td>\n",
       "      <td>[Q270316]</td>\n",
       "      <td>2015-08-31 02:10:00</td>\n",
       "      <td>2</td>\n",
       "      <td>[[Jeanne Shaheen, 0.742], [None, 0.2359], [Kel...</td>\n",
       "      <td>[http://www.unionleader.com/article/20150831/N...</td>\n",
       "      <td>E</td>\n",
       "      <td>[com, com]</td>\n",
       "      <td>2015-08-31</td>\n",
       "      <td>2020-11-01</td>\n",
       "      <td>[ a great day for veterans here in Littleton a...</td>\n",
       "      <td>21.500000</td>\n",
       "    </tr>\n",
       "    <tr>\n",
       "      <th>1</th>\n",
       "      <td>2015-10-25-000242</td>\n",
       "      <td>' It is not now, nor has it ever been, the gol...</td>\n",
       "      <td>BERNIE SANDERS</td>\n",
       "      <td>[Q359442]</td>\n",
       "      <td>2015-10-25 14:12:35</td>\n",
       "      <td>1</td>\n",
       "      <td>[[Bernie Sanders, 0.5395], [None, 0.3128], [Hi...</td>\n",
       "      <td>[http://examiner.com/article/bernie-sanders-sl...</td>\n",
       "      <td>E</td>\n",
       "      <td>[com]</td>\n",
       "      <td>2015-10-25</td>\n",
       "      <td>2018-11-01</td>\n",
       "      <td>[' It is not now, nor has it ever been, the go...</td>\n",
       "      <td>24.333333</td>\n",
       "    </tr>\n",
       "    <tr>\n",
       "      <th>2</th>\n",
       "      <td>2015-11-13-000427</td>\n",
       "      <td>[ My dad ] saw what a great opportunity it was,</td>\n",
       "      <td>PAUL STANTON</td>\n",
       "      <td>[Q255668, Q27842994]</td>\n",
       "      <td>2015-11-13 08:45:01</td>\n",
       "      <td>1</td>\n",
       "      <td>[[Paul Stanton, 0.6521], [None, 0.3479]]</td>\n",
       "      <td>[http://thecrimson.com/article/2015/11/13/paul...</td>\n",
       "      <td>E</td>\n",
       "      <td>[com]</td>\n",
       "      <td>2015-11-13</td>\n",
       "      <td>2016-11-01</td>\n",
       "      <td>[[ My dad ] saw what a great opportunity it was,]</td>\n",
       "      <td>11.000000</td>\n",
       "    </tr>\n",
       "    <tr>\n",
       "      <th>3</th>\n",
       "      <td>2015-06-26-015863</td>\n",
       "      <td>hurt Michigan workers and cost thousands of Am...</td>\n",
       "      <td>GARY PETERS</td>\n",
       "      <td>[Q1230954, Q1494930, Q5525742, Q56560036]</td>\n",
       "      <td>2015-06-26 22:31:05</td>\n",
       "      <td>1</td>\n",
       "      <td>[[Gary Peters, 0.7907], [None, 0.2093]]</td>\n",
       "      <td>[http://detroitnews.com/story/news/politics/20...</td>\n",
       "      <td>E</td>\n",
       "      <td>[com]</td>\n",
       "      <td>2015-06-26</td>\n",
       "      <td>2020-11-01</td>\n",
       "      <td>[hurt Michigan workers and cost thousands of A...</td>\n",
       "      <td>10.000000</td>\n",
       "    </tr>\n",
       "  </tbody>\n",
       "</table>\n",
       "</div>"
      ],
      "text/plain": [
       "             quoteID                                          quotation  \\\n",
       "0  2015-08-31-000271  ... a great day for veterans here in Littleton...   \n",
       "1  2015-10-25-000242  ' It is not now, nor has it ever been, the gol...   \n",
       "2  2015-11-13-000427    [ My dad ] saw what a great opportunity it was,   \n",
       "3  2015-06-26-015863  hurt Michigan workers and cost thousands of Am...   \n",
       "\n",
       "          speaker                                       qids  \\\n",
       "0  JEANNE SHAHEEN                                  [Q270316]   \n",
       "1  BERNIE SANDERS                                  [Q359442]   \n",
       "2    PAUL STANTON                       [Q255668, Q27842994]   \n",
       "3     GARY PETERS  [Q1230954, Q1494930, Q5525742, Q56560036]   \n",
       "\n",
       "                 date  numOccurrences  \\\n",
       "0 2015-08-31 02:10:00               2   \n",
       "1 2015-10-25 14:12:35               1   \n",
       "2 2015-11-13 08:45:01               1   \n",
       "3 2015-06-26 22:31:05               1   \n",
       "\n",
       "                                              probas  \\\n",
       "0  [[Jeanne Shaheen, 0.742], [None, 0.2359], [Kel...   \n",
       "1  [[Bernie Sanders, 0.5395], [None, 0.3128], [Hi...   \n",
       "2           [[Paul Stanton, 0.6521], [None, 0.3479]]   \n",
       "3            [[Gary Peters, 0.7907], [None, 0.2093]]   \n",
       "\n",
       "                                                urls phase     domains  \\\n",
       "0  [http://www.unionleader.com/article/20150831/N...     E  [com, com]   \n",
       "1  [http://examiner.com/article/bernie-sanders-sl...     E       [com]   \n",
       "2  [http://thecrimson.com/article/2015/11/13/paul...     E       [com]   \n",
       "3  [http://detroitnews.com/story/news/politics/20...     E       [com]   \n",
       "\n",
       "    date_only election_day                                    split_quotation  \\\n",
       "0  2015-08-31   2020-11-01  [ a great day for veterans here in Littleton a...   \n",
       "1  2015-10-25   2018-11-01  [' It is not now, nor has it ever been, the go...   \n",
       "2  2015-11-13   2016-11-01  [[ My dad ] saw what a great opportunity it was,]   \n",
       "3  2015-06-26   2020-11-01  [hurt Michigan workers and cost thousands of A...   \n",
       "\n",
       "   avg_sentence_length  \n",
       "0            21.500000  \n",
       "1            24.333333  \n",
       "2            11.000000  \n",
       "3            10.000000  "
      ]
     },
     "execution_count": 32,
     "metadata": {},
     "output_type": "execute_result"
    }
   ],
   "source": [
    "# calculate average sentence length (by word number)\n",
    "import re\n",
    "candidate_quotes['split_quotation']=candidate_quotes.quotation.map(lambda x:re.split(r'\\.|!|\\?',x))\n",
    "candidate_quotes['split_quotation']=candidate_quotes.split_quotation.map(lambda x:list(filter(None, x))) # remove empty string\n",
    "candidate_quotes['avg_sentence_length'] = candidate_quotes.split_quotation.map(lambda x:np.mean(list(map(lambda s:len(s.split()), x))))\n",
    "candidate_quotes.head(4)"
   ]
  },
  {
   "cell_type": "code",
   "execution_count": 33,
   "id": "4b7ad7c8-5cbe-4728-9878-dea36503f42f",
   "metadata": {},
   "outputs": [
    {
     "data": {
      "text/html": [
       "<div>\n",
       "<style scoped>\n",
       "    .dataframe tbody tr th:only-of-type {\n",
       "        vertical-align: middle;\n",
       "    }\n",
       "\n",
       "    .dataframe tbody tr th {\n",
       "        vertical-align: top;\n",
       "    }\n",
       "\n",
       "    .dataframe thead th {\n",
       "        text-align: right;\n",
       "    }\n",
       "</style>\n",
       "<table border=\"1\" class=\"dataframe\">\n",
       "  <thead>\n",
       "    <tr style=\"text-align: right;\">\n",
       "      <th></th>\n",
       "      <th>quoteID</th>\n",
       "      <th>quotation</th>\n",
       "      <th>speaker</th>\n",
       "      <th>qids</th>\n",
       "      <th>date</th>\n",
       "      <th>numOccurrences</th>\n",
       "      <th>probas</th>\n",
       "      <th>urls</th>\n",
       "      <th>phase</th>\n",
       "      <th>domains</th>\n",
       "      <th>date_only</th>\n",
       "      <th>election_day</th>\n",
       "      <th>split_quotation</th>\n",
       "      <th>avg_sentence_length</th>\n",
       "      <th>split_words</th>\n",
       "      <th>avg_word_length</th>\n",
       "    </tr>\n",
       "  </thead>\n",
       "  <tbody>\n",
       "    <tr>\n",
       "      <th>0</th>\n",
       "      <td>2015-08-31-000271</td>\n",
       "      <td>... a great day for veterans here in Littleton...</td>\n",
       "      <td>JEANNE SHAHEEN</td>\n",
       "      <td>[Q270316]</td>\n",
       "      <td>2015-08-31 02:10:00</td>\n",
       "      <td>2</td>\n",
       "      <td>[[Jeanne Shaheen, 0.742], [None, 0.2359], [Kel...</td>\n",
       "      <td>[http://www.unionleader.com/article/20150831/N...</td>\n",
       "      <td>E</td>\n",
       "      <td>[com, com]</td>\n",
       "      <td>2015-08-31</td>\n",
       "      <td>2020-11-01</td>\n",
       "      <td>[ a great day for veterans here in Littleton a...</td>\n",
       "      <td>21.500000</td>\n",
       "      <td>[..., a, great, day, for, veterans, here, in, ...</td>\n",
       "      <td>4.318182</td>\n",
       "    </tr>\n",
       "    <tr>\n",
       "      <th>1</th>\n",
       "      <td>2015-10-25-000242</td>\n",
       "      <td>' It is not now, nor has it ever been, the gol...</td>\n",
       "      <td>BERNIE SANDERS</td>\n",
       "      <td>[Q359442]</td>\n",
       "      <td>2015-10-25 14:12:35</td>\n",
       "      <td>1</td>\n",
       "      <td>[[Bernie Sanders, 0.5395], [None, 0.3128], [Hi...</td>\n",
       "      <td>[http://examiner.com/article/bernie-sanders-sl...</td>\n",
       "      <td>E</td>\n",
       "      <td>[com]</td>\n",
       "      <td>2015-10-25</td>\n",
       "      <td>2018-11-01</td>\n",
       "      <td>[' It is not now, nor has it ever been, the go...</td>\n",
       "      <td>24.333333</td>\n",
       "      <td>[', It, is, not, now,, nor, has, it, ever, bee...</td>\n",
       "      <td>3.931507</td>\n",
       "    </tr>\n",
       "    <tr>\n",
       "      <th>2</th>\n",
       "      <td>2015-11-13-000427</td>\n",
       "      <td>[ My dad ] saw what a great opportunity it was,</td>\n",
       "      <td>PAUL STANTON</td>\n",
       "      <td>[Q255668, Q27842994]</td>\n",
       "      <td>2015-11-13 08:45:01</td>\n",
       "      <td>1</td>\n",
       "      <td>[[Paul Stanton, 0.6521], [None, 0.3479]]</td>\n",
       "      <td>[http://thecrimson.com/article/2015/11/13/paul...</td>\n",
       "      <td>E</td>\n",
       "      <td>[com]</td>\n",
       "      <td>2015-11-13</td>\n",
       "      <td>2016-11-01</td>\n",
       "      <td>[[ My dad ] saw what a great opportunity it was,]</td>\n",
       "      <td>11.000000</td>\n",
       "      <td>[[, My, dad, ], saw, what, a, great, opportuni...</td>\n",
       "      <td>3.363636</td>\n",
       "    </tr>\n",
       "    <tr>\n",
       "      <th>3</th>\n",
       "      <td>2015-06-26-015863</td>\n",
       "      <td>hurt Michigan workers and cost thousands of Am...</td>\n",
       "      <td>GARY PETERS</td>\n",
       "      <td>[Q1230954, Q1494930, Q5525742, Q56560036]</td>\n",
       "      <td>2015-06-26 22:31:05</td>\n",
       "      <td>1</td>\n",
       "      <td>[[Gary Peters, 0.7907], [None, 0.2093]]</td>\n",
       "      <td>[http://detroitnews.com/story/news/politics/20...</td>\n",
       "      <td>E</td>\n",
       "      <td>[com]</td>\n",
       "      <td>2015-06-26</td>\n",
       "      <td>2020-11-01</td>\n",
       "      <td>[hurt Michigan workers and cost thousands of A...</td>\n",
       "      <td>10.000000</td>\n",
       "      <td>[hurt, Michigan, workers, and, cost, thousands...</td>\n",
       "      <td>6.300000</td>\n",
       "    </tr>\n",
       "  </tbody>\n",
       "</table>\n",
       "</div>"
      ],
      "text/plain": [
       "             quoteID                                          quotation  \\\n",
       "0  2015-08-31-000271  ... a great day for veterans here in Littleton...   \n",
       "1  2015-10-25-000242  ' It is not now, nor has it ever been, the gol...   \n",
       "2  2015-11-13-000427    [ My dad ] saw what a great opportunity it was,   \n",
       "3  2015-06-26-015863  hurt Michigan workers and cost thousands of Am...   \n",
       "\n",
       "          speaker                                       qids  \\\n",
       "0  JEANNE SHAHEEN                                  [Q270316]   \n",
       "1  BERNIE SANDERS                                  [Q359442]   \n",
       "2    PAUL STANTON                       [Q255668, Q27842994]   \n",
       "3     GARY PETERS  [Q1230954, Q1494930, Q5525742, Q56560036]   \n",
       "\n",
       "                 date  numOccurrences  \\\n",
       "0 2015-08-31 02:10:00               2   \n",
       "1 2015-10-25 14:12:35               1   \n",
       "2 2015-11-13 08:45:01               1   \n",
       "3 2015-06-26 22:31:05               1   \n",
       "\n",
       "                                              probas  \\\n",
       "0  [[Jeanne Shaheen, 0.742], [None, 0.2359], [Kel...   \n",
       "1  [[Bernie Sanders, 0.5395], [None, 0.3128], [Hi...   \n",
       "2           [[Paul Stanton, 0.6521], [None, 0.3479]]   \n",
       "3            [[Gary Peters, 0.7907], [None, 0.2093]]   \n",
       "\n",
       "                                                urls phase     domains  \\\n",
       "0  [http://www.unionleader.com/article/20150831/N...     E  [com, com]   \n",
       "1  [http://examiner.com/article/bernie-sanders-sl...     E       [com]   \n",
       "2  [http://thecrimson.com/article/2015/11/13/paul...     E       [com]   \n",
       "3  [http://detroitnews.com/story/news/politics/20...     E       [com]   \n",
       "\n",
       "    date_only election_day                                    split_quotation  \\\n",
       "0  2015-08-31   2020-11-01  [ a great day for veterans here in Littleton a...   \n",
       "1  2015-10-25   2018-11-01  [' It is not now, nor has it ever been, the go...   \n",
       "2  2015-11-13   2016-11-01  [[ My dad ] saw what a great opportunity it was,]   \n",
       "3  2015-06-26   2020-11-01  [hurt Michigan workers and cost thousands of A...   \n",
       "\n",
       "   avg_sentence_length                                        split_words  \\\n",
       "0            21.500000  [..., a, great, day, for, veterans, here, in, ...   \n",
       "1            24.333333  [', It, is, not, now,, nor, has, it, ever, bee...   \n",
       "2            11.000000  [[, My, dad, ], saw, what, a, great, opportuni...   \n",
       "3            10.000000  [hurt, Michigan, workers, and, cost, thousands...   \n",
       "\n",
       "   avg_word_length  \n",
       "0         4.318182  \n",
       "1         3.931507  \n",
       "2         3.363636  \n",
       "3         6.300000  "
      ]
     },
     "execution_count": 33,
     "metadata": {},
     "output_type": "execute_result"
    }
   ],
   "source": [
    "# calculate average word lenghth for each quotation\n",
    "candidate_quotes['split_words'] = candidate_quotes.quotation.map(lambda x:x.split())\n",
    "candidate_quotes['avg_word_length'] = candidate_quotes.split_words.map(lambda x:np.mean(list(map(lambda w:len(w), x))))\n",
    "candidate_quotes.head(4)"
   ]
  }
 ],
 "metadata": {
  "interpreter": {
   "hash": "db666ba5cfc1e6b340ffb8c99ac64e84d1885a4fc4ce42ed4b6eb0071bb1085a"
  },
  "kernelspec": {
   "display_name": "Python [conda env:ada] *",
   "language": "python",
   "name": "conda-env-ada-py"
  },
  "language_info": {
   "codemirror_mode": {
    "name": "ipython",
    "version": 3
   },
   "file_extension": ".py",
   "mimetype": "text/x-python",
   "name": "python",
   "nbconvert_exporter": "python",
   "pygments_lexer": "ipython3",
   "version": "3.8.11"
  }
 },
 "nbformat": 4,
 "nbformat_minor": 5
}
