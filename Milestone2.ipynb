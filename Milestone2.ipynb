{
 "cells": [
  {
   "cell_type": "markdown",
   "id": "d23d2ba5",
   "metadata": {},
   "source": [
    "## Quotations indicate the career success of public figures\n",
    "**ChillDataGroup: Zihan Wu, Yinhao Wang, Yihang Chen**"
   ]
  },
  {
   "cell_type": "code",
   "execution_count": 1,
   "id": "4713920f",
   "metadata": {},
   "outputs": [],
   "source": [
    "import pandas as pd\n",
    "import seaborn as sns\n",
    "import numpy as np\n",
    "import matplotlib.pyplot as plt"
   ]
  },
  {
   "cell_type": "markdown",
   "id": "35a243e4",
   "metadata": {},
   "source": [
    "## Load QuoteBank Dataset\n",
    "We refer to the pipeline provided in Google Colab to load the quotations from 2015 to 2020.\n",
    "\n",
    "Due to the large size of data, when loading them, we just load the data said by the senate election since 2015 candidates. The dataset for senate elections is obtained from MIT Election Data and Science Lab [1].\n",
    "\n",
    "We also provide the codes for loading these senate candidate quotations below, but those are run ahead in google colab (takes around 30min for each year's data). We did not re-run them here. It contains the senate election results for all candidates\n",
    "\n",
    "[1] MIT Election Data and Science Lab, 2017, \"U.S. Senate 1976–2020\", https://doi.org/10.7910/DVN/PEJ5QU, Harvard Dataverse, V5."
   ]
  },
  {
   "cell_type": "code",
   "execution_count": 2,
   "id": "01f3f51e",
   "metadata": {},
   "outputs": [],
   "source": [
    "# Pipeline obtained from the course google colab\n",
    "from tld import get_tld\n",
    "\n",
    "def get_domain(url):\n",
    "    res = get_tld(url, as_object=True)\n",
    "    return res.tld"
   ]
  },
  {
   "cell_type": "code",
   "execution_count": 3,
   "id": "a453a63e",
   "metadata": {
    "scrolled": true
   },
   "outputs": [
    {
     "data": {
      "text/html": [
       "<div>\n",
       "<style scoped>\n",
       "    .dataframe tbody tr th:only-of-type {\n",
       "        vertical-align: middle;\n",
       "    }\n",
       "\n",
       "    .dataframe tbody tr th {\n",
       "        vertical-align: top;\n",
       "    }\n",
       "\n",
       "    .dataframe thead th {\n",
       "        text-align: right;\n",
       "    }\n",
       "</style>\n",
       "<table border=\"1\" class=\"dataframe\">\n",
       "  <thead>\n",
       "    <tr style=\"text-align: right;\">\n",
       "      <th></th>\n",
       "      <th>year</th>\n",
       "      <th>state</th>\n",
       "      <th>state_po</th>\n",
       "      <th>state_fips</th>\n",
       "      <th>state_cen</th>\n",
       "      <th>state_ic</th>\n",
       "      <th>office</th>\n",
       "      <th>district</th>\n",
       "      <th>stage</th>\n",
       "      <th>special</th>\n",
       "      <th>candidate</th>\n",
       "      <th>party_detailed</th>\n",
       "      <th>writein</th>\n",
       "      <th>mode</th>\n",
       "      <th>candidatevotes</th>\n",
       "      <th>totalvotes</th>\n",
       "      <th>unofficial</th>\n",
       "      <th>version</th>\n",
       "      <th>party_simplified</th>\n",
       "    </tr>\n",
       "  </thead>\n",
       "  <tbody>\n",
       "    <tr>\n",
       "      <th>2487</th>\n",
       "      <td>2010</td>\n",
       "      <td>CONNECTICUT</td>\n",
       "      <td>CT</td>\n",
       "      <td>9</td>\n",
       "      <td>16</td>\n",
       "      <td>1</td>\n",
       "      <td>US SENATE</td>\n",
       "      <td>statewide</td>\n",
       "      <td>gen</td>\n",
       "      <td>False</td>\n",
       "      <td>LINDA E. MCMAHON</td>\n",
       "      <td>REPUBLICAN</td>\n",
       "      <td>False</td>\n",
       "      <td>total</td>\n",
       "      <td>498341</td>\n",
       "      <td>1153115</td>\n",
       "      <td>False</td>\n",
       "      <td>20210114</td>\n",
       "      <td>REPUBLICAN</td>\n",
       "    </tr>\n",
       "    <tr>\n",
       "      <th>3423</th>\n",
       "      <td>2020</td>\n",
       "      <td>ALABAMA</td>\n",
       "      <td>AL</td>\n",
       "      <td>1</td>\n",
       "      <td>63</td>\n",
       "      <td>41</td>\n",
       "      <td>US SENATE</td>\n",
       "      <td>statewide</td>\n",
       "      <td>gen</td>\n",
       "      <td>False</td>\n",
       "      <td>NaN</td>\n",
       "      <td>NaN</td>\n",
       "      <td>True</td>\n",
       "      <td>total</td>\n",
       "      <td>3891</td>\n",
       "      <td>2316445</td>\n",
       "      <td>False</td>\n",
       "      <td>20210114</td>\n",
       "      <td>OTHER</td>\n",
       "    </tr>\n",
       "    <tr>\n",
       "      <th>1053</th>\n",
       "      <td>1992</td>\n",
       "      <td>HAWAII</td>\n",
       "      <td>HI</td>\n",
       "      <td>15</td>\n",
       "      <td>95</td>\n",
       "      <td>82</td>\n",
       "      <td>US SENATE</td>\n",
       "      <td>statewide</td>\n",
       "      <td>gen</td>\n",
       "      <td>False</td>\n",
       "      <td>LINDA B. MARTIN</td>\n",
       "      <td>GREEN</td>\n",
       "      <td>False</td>\n",
       "      <td>total</td>\n",
       "      <td>49921</td>\n",
       "      <td>363662</td>\n",
       "      <td>False</td>\n",
       "      <td>20210114</td>\n",
       "      <td>OTHER</td>\n",
       "    </tr>\n",
       "    <tr>\n",
       "      <th>1505</th>\n",
       "      <td>1998</td>\n",
       "      <td>COLORADO</td>\n",
       "      <td>CO</td>\n",
       "      <td>8</td>\n",
       "      <td>84</td>\n",
       "      <td>62</td>\n",
       "      <td>US SENATE</td>\n",
       "      <td>statewide</td>\n",
       "      <td>gen</td>\n",
       "      <td>False</td>\n",
       "      <td>BEN NIGHTHORSE CAMPBELL</td>\n",
       "      <td>REPUBLICAN</td>\n",
       "      <td>False</td>\n",
       "      <td>total</td>\n",
       "      <td>829370</td>\n",
       "      <td>1327235</td>\n",
       "      <td>False</td>\n",
       "      <td>20210114</td>\n",
       "      <td>REPUBLICAN</td>\n",
       "    </tr>\n",
       "  </tbody>\n",
       "</table>\n",
       "</div>"
      ],
      "text/plain": [
       "      year        state state_po  state_fips  state_cen  state_ic     office  \\\n",
       "2487  2010  CONNECTICUT       CT           9         16         1  US SENATE   \n",
       "3423  2020      ALABAMA       AL           1         63        41  US SENATE   \n",
       "1053  1992       HAWAII       HI          15         95        82  US SENATE   \n",
       "1505  1998     COLORADO       CO           8         84        62  US SENATE   \n",
       "\n",
       "       district stage  special                candidate party_detailed  \\\n",
       "2487  statewide   gen    False         LINDA E. MCMAHON     REPUBLICAN   \n",
       "3423  statewide   gen    False                      NaN            NaN   \n",
       "1053  statewide   gen    False          LINDA B. MARTIN          GREEN   \n",
       "1505  statewide   gen    False  BEN NIGHTHORSE CAMPBELL     REPUBLICAN   \n",
       "\n",
       "      writein   mode  candidatevotes  totalvotes  unofficial   version  \\\n",
       "2487    False  total          498341     1153115       False  20210114   \n",
       "3423     True  total            3891     2316445       False  20210114   \n",
       "1053    False  total           49921      363662       False  20210114   \n",
       "1505    False  total          829370     1327235       False  20210114   \n",
       "\n",
       "     party_simplified  \n",
       "2487       REPUBLICAN  \n",
       "3423            OTHER  \n",
       "1053            OTHER  \n",
       "1505       REPUBLICAN  "
      ]
     },
     "execution_count": 3,
     "metadata": {},
     "output_type": "execute_result"
    }
   ],
   "source": [
    "# Load the Senate Election Result data \n",
    "import pandas as pd\n",
    "senate_file = 'SenateData/1976-2020-senate.csv'\n",
    "senate_election = pd.read_csv(senate_file, encoding= 'unicode_escape')\n",
    "senate_election.sample(4) # demonstrate the format of election data"
   ]
  },
  {
   "cell_type": "markdown",
   "id": "e166a7cb",
   "metadata": {},
   "source": [
    "Here, we only choose the candidate running for elections since 2016, because the supported Quotebank data goes back to 2015"
   ]
  },
  {
   "cell_type": "code",
   "execution_count": 4,
   "id": "0fa9750d",
   "metadata": {},
   "outputs": [
    {
     "data": {
      "text/plain": [
       "[{'RICHARD', 'SHELBY'},\n",
       " {'JOE', 'MILLER'},\n",
       " {'GIANOUTSOS', 'TED'},\n",
       " {'METCALFE', 'RAY'},\n",
       " {'MARGARET', 'STOCK'},\n",
       " {'BRECK', 'CRAIG'},\n",
       " {'LISA', 'MURKOWSKI'},\n",
       " {'ANTHONY', 'CAMBONI'},\n",
       " {'ANN', 'KIRKPATRICK'}]"
      ]
     },
     "execution_count": 4,
     "metadata": {},
     "output_type": "execute_result"
    }
   ],
   "source": [
    "# Load the names of candidates since 2016\n",
    "# The NaN names are dropped, and repeated names are dropped\n",
    "def delete_middle_name(name): # delete middle name\n",
    "  name_split = name.upper().split()\n",
    "  if len(name_split) > 2:\n",
    "    senate_delete_middle_name = name_split[0] + ' ' + name_split[-1]\n",
    "    return senate_delete_middle_name\n",
    "  return name\n",
    "\n",
    "# To address the variation of names, we use this function to determine whether the speaker name matches the first and \n",
    "# last name of any senate candidates. In this way, we can find speakers with different name writing style like:\n",
    "# 'Senate Lindsey Graham', 'Lindsey Olin Graham', 'Lindsey O. Graham' (they all indicate the same candidate)\n",
    "\n",
    "# The function below takes in a speaker name and a list of senate names (already split into first and last name)\n",
    "# It returns a boolean whether the speaker is a senate, and the name of senate (in the form of first + last name) if true\n",
    "def isSenate(name,senate_names):\n",
    "  name_set = set(name.upper().split())\n",
    "  for i in range(len(senate_names)):\n",
    "    if senate_names[i] <= name_set:\n",
    "      return (True, i)\n",
    "  return (False, None)\n",
    "\n",
    "senate_candidates = senate_election[senate_election['year'] >= 2016].dropna(subset=['candidate', 'party_detailed'])['candidate'].unique()\n",
    "senate_candidates_splitted = list(map(lambda senate: set(delete_middle_name(senate).split()), senate_candidates))\n",
    "senate_candidates_splitted[1:10]"
   ]
  },
  {
   "cell_type": "code",
   "execution_count": 5,
   "id": "8cec8de5",
   "metadata": {},
   "outputs": [
    {
     "name": "stdout",
     "output_type": "stream",
     "text": [
      "there are total 439 names\n"
     ]
    }
   ],
   "source": [
    "#Sanity Check: all names at least have a first and last name\n",
    "for split in senate_candidates_splitted:\n",
    "    assert(len(split) > 1)\n",
    "print('there are total {} names'.format(len(senate_candidates_splitted)))"
   ]
  },
  {
   "cell_type": "markdown",
   "id": "42c252e0",
   "metadata": {},
   "source": [
    "**We do not run the cell below because takes too long.** We have run those on google colab to load the quotation data we need"
   ]
  },
  {
   "cell_type": "code",
   "execution_count": null,
   "id": "726a21e8",
   "metadata": {},
   "outputs": [],
   "source": [
    "%%script echo skipping\n",
    "# Load each year's data, filtering out the quotations said by senates\n",
    "# We have considered the different writing styles of name. We extract the quote as long as the speaker has the same\n",
    "# first name and last name as a senate\n",
    "import bz2\n",
    "import json\n",
    "\n",
    "path_to_file = '/content/drive/MyDrive/Quotebank/quotes-{}.json.bz2' \n",
    "path_to_out = '/content/drive/MyDrive/MyQuoteBank/quotes-{}-senates-said.json.bz2'\n",
    "\n",
    "for year in range(2015, 2021):\n",
    "  print('... Start reading quotations in year ' + str(year))\n",
    "  with bz2.open(path_to_file.format(year), 'rb') as s_file:\n",
    "      with bz2.open(path_to_out.format(year), 'wb') as d_file:\n",
    "          for instance in s_file:\n",
    "              instance = json.loads(instance) # loading a sample\n",
    "              issenate = isSenate(instance['speaker'], senate_candidates_splitted)\n",
    "              if issenate[0]:\n",
    "                instance['speaker'] = senate_candidates[issenate[1]] # use name from the \"1976-2020-senate.csv\" as the standard name.\n",
    "                urls = instance['urls'] # extracting list of links\n",
    "                domains = []\n",
    "                for url in urls:\n",
    "                    tld = get_domain(url)\n",
    "                    domains.append(tld)\n",
    "                instance['domains'] = domains # updating the sample with domain name\n",
    "                d_file.write((json.dumps(instance)+'\\n').encode('utf-8')) # writing in the new file\n",
    "\n",
    "# Load each year's data, filtering out the quotations that mention senates\n",
    "path_to_file = '/content/drive/MyDrive/Quotebank/quotes-{}.json.bz2'\n",
    "path_to_out = '/content/drive/MyDrive/ADAQuoteBank/quotes-{}-senates-mention.json.bz2'\n",
    "\n",
    "senate_candidates = list(map(lambda x:x.title(), senate_candidates))\n",
    "\n",
    "for year in range(2016,2021):\n",
    "    print('... Start processing quotations in year {}'.format(year))\n",
    "    with bz2.open(path_to_file.format(year), 'rb') as s_file:\n",
    "        with bz2.open(path_to_out.format(year), 'wb') as d_file:\n",
    "            for instance in s_file:\n",
    "                instance = json.loads(instance)\n",
    "                is_senate = isSenate(instance['quotation'], senate_candidates_splitted)\n",
    "                if is_senate[0]:\n",
    "                    instance['mention']=senate_candidates[is_senate[1]]\n",
    "                    urls = instance['urls'] # extracting list of links\n",
    "                    domains = []\n",
    "                    for url in urls:\n",
    "                        tld = get_domain(url)\n",
    "                        domains.append(tld)\n",
    "                    instance['domains'] = domains # updating the sample with domain name\n",
    "                    d_file.write((json.dumps(instance)+'\\n').encode('utf-8'))\n",
    "    print('... End processing quotations in year {}'.format(year))"
   ]
  },
  {
   "cell_type": "markdown",
   "id": "dd2896a2",
   "metadata": {},
   "source": [
    "## 1. Process Senate Candidate Data\n",
    "**1.1** In this section, we load the information of senate candidates (since 2016) and their election information."
   ]
  },
  {
   "cell_type": "code",
   "execution_count": 6,
   "id": "847a9fb6",
   "metadata": {},
   "outputs": [],
   "source": [
    "# First, we get the election information of the candidates since 2016 (again, we drop NaN and repeated names)\n",
    "candidate_info = senate_election[senate_election['year'] >= 2016].dropna(subset=['candidate', 'party_detailed']).drop_duplicates(subset=['candidate'], ignore_index=True)"
   ]
  },
  {
   "cell_type": "code",
   "execution_count": 7,
   "id": "0de063d3",
   "metadata": {},
   "outputs": [],
   "source": [
    "# Load the stored quotations said by senate candidates since 2015 (by year)\n",
    "senate_quote_20 = pd.read_json('SenateData/quotes-2020-senates-said.json.bz2', lines=True, compression='bz2')\n",
    "senate_quote_19 = pd.read_json('SenateData/quotes-2019-senates-said.json.bz2', lines=True, compression='bz2')\n",
    "senate_quote_18 = pd.read_json('SenateData/quotes-2018-senates-said.json.bz2', lines=True, compression='bz2')\n",
    "senate_quote_17 = pd.read_json('SenateData/quotes-2017-senates-said.json.bz2', lines=True, compression='bz2')\n",
    "senate_quote_16 = pd.read_json('SenateData/quotes-2016-senates-said.json.bz2', lines=True, compression='bz2')\n",
    "senate_quote_15 = pd.read_json('SenateData/quotes-2015-senates-said.json.bz2', lines=True, compression='bz2')"
   ]
  },
  {
   "cell_type": "code",
   "execution_count": 8,
   "id": "7f2c2dc1",
   "metadata": {},
   "outputs": [
    {
     "data": {
      "text/html": [
       "<div>\n",
       "<style scoped>\n",
       "    .dataframe tbody tr th:only-of-type {\n",
       "        vertical-align: middle;\n",
       "    }\n",
       "\n",
       "    .dataframe tbody tr th {\n",
       "        vertical-align: top;\n",
       "    }\n",
       "\n",
       "    .dataframe thead th {\n",
       "        text-align: right;\n",
       "    }\n",
       "</style>\n",
       "<table border=\"1\" class=\"dataframe\">\n",
       "  <thead>\n",
       "    <tr style=\"text-align: right;\">\n",
       "      <th></th>\n",
       "      <th>index</th>\n",
       "      <th>quoteID</th>\n",
       "      <th>quotation</th>\n",
       "      <th>speaker</th>\n",
       "      <th>qids</th>\n",
       "      <th>date</th>\n",
       "      <th>numOccurrences</th>\n",
       "      <th>probas</th>\n",
       "      <th>urls</th>\n",
       "      <th>phase</th>\n",
       "      <th>domains</th>\n",
       "    </tr>\n",
       "  </thead>\n",
       "  <tbody>\n",
       "    <tr>\n",
       "      <th>666679</th>\n",
       "      <td>111737</td>\n",
       "      <td>2018-05-20-033493</td>\n",
       "      <td>Just to put a point on this, still as far as t...</td>\n",
       "      <td>MARK R. WARNER</td>\n",
       "      <td>[Q14949474, Q1617921, Q21166633, Q453893, Q512...</td>\n",
       "      <td>2018-05-20 14:22:57</td>\n",
       "      <td>1</td>\n",
       "      <td>[[Mark Warner, 0.5092], [None, 0.2809], [Jake ...</td>\n",
       "      <td>[http://www.breitbart.com/video/2018/05/20/wat...</td>\n",
       "      <td>E</td>\n",
       "      <td>[com]</td>\n",
       "    </tr>\n",
       "    <tr>\n",
       "      <th>182636</th>\n",
       "      <td>182636</td>\n",
       "      <td>2015-07-28-009538</td>\n",
       "      <td>At one point or another we would have just par...</td>\n",
       "      <td>LISA MURKOWSKI</td>\n",
       "      <td>[Q22360]</td>\n",
       "      <td>2015-07-28 16:51:44</td>\n",
       "      <td>1</td>\n",
       "      <td>[[Lisa Murkowski, 0.824], [None, 0.1489], [Mar...</td>\n",
       "      <td>[http://thehill.com/policy/energy-environment/...</td>\n",
       "      <td>E</td>\n",
       "      <td>[com]</td>\n",
       "    </tr>\n",
       "    <tr>\n",
       "      <th>973069</th>\n",
       "      <td>164616</td>\n",
       "      <td>2019-10-02-028509</td>\n",
       "      <td>He will be resting up over the next couple of ...</td>\n",
       "      <td>BERNIE SANDERS</td>\n",
       "      <td>[Q359442]</td>\n",
       "      <td>2019-10-02 15:19:52</td>\n",
       "      <td>1</td>\n",
       "      <td>[[Bernie Sanders, 0.7543], [None, 0.2457]]</td>\n",
       "      <td>[https://www.theepochtimes.com/c-span-issues-c...</td>\n",
       "      <td>E</td>\n",
       "      <td>[com]</td>\n",
       "    </tr>\n",
       "    <tr>\n",
       "      <th>114860</th>\n",
       "      <td>114860</td>\n",
       "      <td>2015-08-22-039394</td>\n",
       "      <td>Now the Washington elites want to silence thos...</td>\n",
       "      <td>TED CRUZ</td>\n",
       "      <td>[Q2036942]</td>\n",
       "      <td>2015-08-22 21:19:52</td>\n",
       "      <td>2</td>\n",
       "      <td>[[Ted Cruz, 0.8254], [None, 0.1642], [Ellen Pa...</td>\n",
       "      <td>[http://www.rawstory.com/2015/08/iowa-gop-chai...</td>\n",
       "      <td>E</td>\n",
       "      <td>[com, com]</td>\n",
       "    </tr>\n",
       "  </tbody>\n",
       "</table>\n",
       "</div>"
      ],
      "text/plain": [
       "         index            quoteID  \\\n",
       "666679  111737  2018-05-20-033493   \n",
       "182636  182636  2015-07-28-009538   \n",
       "973069  164616  2019-10-02-028509   \n",
       "114860  114860  2015-08-22-039394   \n",
       "\n",
       "                                                quotation         speaker  \\\n",
       "666679  Just to put a point on this, still as far as t...  MARK R. WARNER   \n",
       "182636  At one point or another we would have just par...  LISA MURKOWSKI   \n",
       "973069  He will be resting up over the next couple of ...  BERNIE SANDERS   \n",
       "114860  Now the Washington elites want to silence thos...        TED CRUZ   \n",
       "\n",
       "                                                     qids                date  \\\n",
       "666679  [Q14949474, Q1617921, Q21166633, Q453893, Q512... 2018-05-20 14:22:57   \n",
       "182636                                           [Q22360] 2015-07-28 16:51:44   \n",
       "973069                                          [Q359442] 2019-10-02 15:19:52   \n",
       "114860                                         [Q2036942] 2015-08-22 21:19:52   \n",
       "\n",
       "        numOccurrences                                             probas  \\\n",
       "666679               1  [[Mark Warner, 0.5092], [None, 0.2809], [Jake ...   \n",
       "182636               1  [[Lisa Murkowski, 0.824], [None, 0.1489], [Mar...   \n",
       "973069               1         [[Bernie Sanders, 0.7543], [None, 0.2457]]   \n",
       "114860               2  [[Ted Cruz, 0.8254], [None, 0.1642], [Ellen Pa...   \n",
       "\n",
       "                                                     urls phase     domains  \n",
       "666679  [http://www.breitbart.com/video/2018/05/20/wat...     E       [com]  \n",
       "182636  [http://thehill.com/policy/energy-environment/...     E       [com]  \n",
       "973069  [https://www.theepochtimes.com/c-span-issues-c...     E       [com]  \n",
       "114860  [http://www.rawstory.com/2015/08/iowa-gop-chai...     E  [com, com]  "
      ]
     },
     "execution_count": 8,
     "metadata": {},
     "output_type": "execute_result"
    }
   ],
   "source": [
    "# Concatenate data across all years and display the format of quotation data\n",
    "annual_frames = [senate_quote_15, senate_quote_16, senate_quote_17, senate_quote_18, senate_quote_19, senate_quote_20]\n",
    "candidate_quotes = pd.concat(annual_frames).reset_index()\n",
    "candidate_quotes.sample(4)"
   ]
  },
  {
   "cell_type": "markdown",
   "id": "70dbf5bb-9830-4468-afa7-1ddd49d68bf7",
   "metadata": {},
   "source": [
    "Since QuoteBank may extract different number of total quotes at different time. An increase in quotations may just be caused by an increase of quotes extracted by Quotebanks. So, we use the total quotation number in QuoteBank to normalize our data"
   ]
  },
  {
   "cell_type": "code",
   "execution_count": 9,
   "id": "0c4df216-ad23-431e-a309-e9c01d9c3abe",
   "metadata": {},
   "outputs": [
    {
     "data": {
      "text/plain": [
       "2015-01    1661137\n",
       "2015-02    1659518\n",
       "2015-03    1867911\n",
       "2015-04    1522315\n",
       "2015-05    1136152\n",
       "            ...   \n",
       "2019-12    1565321\n",
       "2020-01    1732238\n",
       "2020-02    1599019\n",
       "2020-03    1323347\n",
       "2020-04     589845\n",
       "Length: 64, dtype: int64"
      ]
     },
     "execution_count": 9,
     "metadata": {},
     "output_type": "execute_result"
    }
   ],
   "source": [
    "# read the quote number data for each month\n",
    "\n",
    "import csv\n",
    "with open('SenateData/quote_num.csv','r') as inFile:\n",
    "    reader = csv.DictReader(inFile)\n",
    "    for row in reader:\n",
    "        quote_num = dict(row)\n",
    "quote_num = pd.Series({k:int(v) for k, v in quote_num.items()})\n",
    "quote_num"
   ]
  },
  {
   "cell_type": "code",
   "execution_count": 10,
   "id": "72f415ba-2fb9-43fa-983b-ec41f38813cd",
   "metadata": {},
   "outputs": [
    {
     "data": {
      "text/html": [
       "<div>\n",
       "<style scoped>\n",
       "    .dataframe tbody tr th:only-of-type {\n",
       "        vertical-align: middle;\n",
       "    }\n",
       "\n",
       "    .dataframe tbody tr th {\n",
       "        vertical-align: top;\n",
       "    }\n",
       "\n",
       "    .dataframe thead th {\n",
       "        text-align: right;\n",
       "    }\n",
       "</style>\n",
       "<table border=\"1\" class=\"dataframe\">\n",
       "  <thead>\n",
       "    <tr style=\"text-align: right;\">\n",
       "      <th></th>\n",
       "      <th>index</th>\n",
       "      <th>quoteID</th>\n",
       "      <th>quotation</th>\n",
       "      <th>speaker</th>\n",
       "      <th>qids</th>\n",
       "      <th>date</th>\n",
       "      <th>numOccurrences</th>\n",
       "      <th>probas</th>\n",
       "      <th>urls</th>\n",
       "      <th>phase</th>\n",
       "      <th>domains</th>\n",
       "      <th>normalize_factor</th>\n",
       "      <th>normalize_quotes</th>\n",
       "    </tr>\n",
       "  </thead>\n",
       "  <tbody>\n",
       "    <tr>\n",
       "      <th>1086198</th>\n",
       "      <td>48968</td>\n",
       "      <td>2020-01-23-112135</td>\n",
       "      <td>Well, you know what, they spent all of Tuesday...</td>\n",
       "      <td>MAZIE K. HIRONO</td>\n",
       "      <td>[Q16476]</td>\n",
       "      <td>2020-01-23 17:43:50</td>\n",
       "      <td>1</td>\n",
       "      <td>[[Mazie Hirono, 0.7282], [None, 0.1682], [Chuc...</td>\n",
       "      <td>[https://www.courthousenews.com/trump-prosecut...</td>\n",
       "      <td>E</td>\n",
       "      <td>[com]</td>\n",
       "      <td>0.577288</td>\n",
       "      <td>0.577288</td>\n",
       "    </tr>\n",
       "    <tr>\n",
       "      <th>420335</th>\n",
       "      <td>105937</td>\n",
       "      <td>2017-07-11-058589</td>\n",
       "      <td>It is very, very important that we deliver on ...</td>\n",
       "      <td>CHUCK GRASSLEY</td>\n",
       "      <td>[Q529294]</td>\n",
       "      <td>2017-07-11 14:41:37</td>\n",
       "      <td>1</td>\n",
       "      <td>[[Chuck Grassley, 0.9262], [None, 0.0697], [Ja...</td>\n",
       "      <td>[http://www.newsmax.com/Politics/chuck-grassle...</td>\n",
       "      <td>E</td>\n",
       "      <td>[com]</td>\n",
       "      <td>0.418827</td>\n",
       "      <td>0.418827</td>\n",
       "    </tr>\n",
       "    <tr>\n",
       "      <th>1073451</th>\n",
       "      <td>36221</td>\n",
       "      <td>2020-02-23-005789</td>\n",
       "      <td>doesn't hurt, obviously, because people, I thi...</td>\n",
       "      <td>MICHAEL F. BENNET</td>\n",
       "      <td>[Q554792]</td>\n",
       "      <td>2020-02-23 01:50:05</td>\n",
       "      <td>2</td>\n",
       "      <td>[[Michael Bennet, 0.7773], [None, 0.2227]]</td>\n",
       "      <td>[https://www.vaildaily.com/news/sen-michael-be...</td>\n",
       "      <td>E</td>\n",
       "      <td>[com, com]</td>\n",
       "      <td>0.625383</td>\n",
       "      <td>1.250767</td>\n",
       "    </tr>\n",
       "    <tr>\n",
       "      <th>320895</th>\n",
       "      <td>6497</td>\n",
       "      <td>2017-07-26-092768</td>\n",
       "      <td>Nearly everyone agrees that doing nothing is n...</td>\n",
       "      <td>TODD C. YOUNG</td>\n",
       "      <td>[Q25483]</td>\n",
       "      <td>2017-07-26 07:23:05</td>\n",
       "      <td>1</td>\n",
       "      <td>[[Senator Todd Young, 0.9173], [None, 0.0827]]</td>\n",
       "      <td>[https://insurancenewsnet.com/oarticle/stateme...</td>\n",
       "      <td>E</td>\n",
       "      <td>[com]</td>\n",
       "      <td>0.418827</td>\n",
       "      <td>0.418827</td>\n",
       "    </tr>\n",
       "  </tbody>\n",
       "</table>\n",
       "</div>"
      ],
      "text/plain": [
       "          index            quoteID  \\\n",
       "1086198   48968  2020-01-23-112135   \n",
       "420335   105937  2017-07-11-058589   \n",
       "1073451   36221  2020-02-23-005789   \n",
       "320895     6497  2017-07-26-092768   \n",
       "\n",
       "                                                 quotation            speaker  \\\n",
       "1086198  Well, you know what, they spent all of Tuesday...    MAZIE K. HIRONO   \n",
       "420335   It is very, very important that we deliver on ...     CHUCK GRASSLEY   \n",
       "1073451  doesn't hurt, obviously, because people, I thi...  MICHAEL F. BENNET   \n",
       "320895   Nearly everyone agrees that doing nothing is n...      TODD C. YOUNG   \n",
       "\n",
       "              qids                date  numOccurrences  \\\n",
       "1086198   [Q16476] 2020-01-23 17:43:50               1   \n",
       "420335   [Q529294] 2017-07-11 14:41:37               1   \n",
       "1073451  [Q554792] 2020-02-23 01:50:05               2   \n",
       "320895    [Q25483] 2017-07-26 07:23:05               1   \n",
       "\n",
       "                                                    probas  \\\n",
       "1086198  [[Mazie Hirono, 0.7282], [None, 0.1682], [Chuc...   \n",
       "420335   [[Chuck Grassley, 0.9262], [None, 0.0697], [Ja...   \n",
       "1073451         [[Michael Bennet, 0.7773], [None, 0.2227]]   \n",
       "320895      [[Senator Todd Young, 0.9173], [None, 0.0827]]   \n",
       "\n",
       "                                                      urls phase     domains  \\\n",
       "1086198  [https://www.courthousenews.com/trump-prosecut...     E       [com]   \n",
       "420335   [http://www.newsmax.com/Politics/chuck-grassle...     E       [com]   \n",
       "1073451  [https://www.vaildaily.com/news/sen-michael-be...     E  [com, com]   \n",
       "320895   [https://insurancenewsnet.com/oarticle/stateme...     E       [com]   \n",
       "\n",
       "         normalize_factor  normalize_quotes  \n",
       "1086198          0.577288          0.577288  \n",
       "420335           0.418827          0.418827  \n",
       "1073451          0.625383          1.250767  \n",
       "320895           0.418827          0.418827  "
      ]
     },
     "execution_count": 10,
     "metadata": {},
     "output_type": "execute_result"
    }
   ],
   "source": [
    "# we use 10^6/total_quote_num as normalize factor\n",
    "\n",
    "candidate_quotes['normalize_factor'] = candidate_quotes['date'].map(lambda x: 1/quote_num[str(x)[:7]]*1e6)\n",
    "candidate_quotes['normalize_quotes'] = candidate_quotes['numOccurrences']*candidate_quotes['normalize_factor']\n",
    "candidate_quotes.sample(4)"
   ]
  },
  {
   "cell_type": "markdown",
   "id": "2c6a88cf",
   "metadata": {},
   "source": [
    "**1.2** We group the total number of quotations by speaker and dates. By doing so, we can visualize the change of quoted numbers as time goes on. Below, we take Bernie Sanders as an example."
   ]
  },
  {
   "cell_type": "code",
   "execution_count": 11,
   "id": "10f66fd3",
   "metadata": {},
   "outputs": [
    {
     "data": {
      "text/plain": [
       "speaker           date_only \n",
       "A. WAYNE JOHNSON  2015-01-06    0.601997\n",
       "                  2015-02-09    0.602585\n",
       "                  2015-02-11    1.205169\n",
       "                  2015-02-20    0.602585\n",
       "                  2015-03-01    0.535357\n",
       "                                  ...   \n",
       "ZAK RINGELSTEIN   2018-10-30    5.125275\n",
       "                  2018-11-01    2.381878\n",
       "                  2018-11-05    0.476376\n",
       "                  2018-11-07    0.476376\n",
       "                  2019-03-21    0.503878\n",
       "Name: normalize_quotes, Length: 136070, dtype: float64"
      ]
     },
     "execution_count": 11,
     "metadata": {},
     "output_type": "execute_result"
    }
   ],
   "source": [
    "# Clean the names by taking only upper case\n",
    "# Group the candidate total number of normalized quotes by day\n",
    "candidate_quotes['speaker'] = candidate_quotes['speaker'].str.upper()\n",
    "candidate_quotes['date_only'] = candidate_quotes['date'].dt.date\n",
    "candidate_quotes_byday = candidate_quotes.groupby(['speaker', 'date_only'])['normalize_quotes'].sum()\n",
    "candidate_quotes_byday"
   ]
  },
  {
   "cell_type": "code",
   "execution_count": 12,
   "id": "66baa32f",
   "metadata": {},
   "outputs": [
    {
     "data": {
      "text/plain": [
       "Text(0.5, 1.0, 'Bernie Sanders')"
      ]
     },
     "execution_count": 12,
     "metadata": {},
     "output_type": "execute_result"
    },
    {
     "data": {
      "image/png": "[encoded data removed]",
      "text/plain": [
       "<Figure size 432x288 with 1 Axes>"
      ]
     },
     "metadata": {
      "needs_background": "light"
     },
     "output_type": "display_data"
    }
   ],
   "source": [
    "# For example, we can visualize the quotation changes of Bernie Sanders\n",
    "candidate_quotes_byday['BERNIE SANDERS'].rolling(window=30).sum().plot() # one months average\n",
    "plt.xlabel('time')\n",
    "plt.xticks(rotation=90)\n",
    "plt.ylabel('Quoted numbers: Said')\n",
    "plt.title('Bernie Sanders')"
   ]
  },
  {
   "cell_type": "markdown",
   "id": "affd7213",
   "metadata": {},
   "source": [
    "**1.3** We compute the total number of quotations until their election. The election dataset only contains the year of election. However, since the U.S. Senate elections always take place in the first week of November, we just compute the total number of quotations until November.1st of the election year."
   ]
  },
  {
   "cell_type": "code",
   "execution_count": 13,
   "id": "5394320f",
   "metadata": {},
   "outputs": [],
   "source": [
    "# Add the election day corresponding to each candidate speaker\n",
    "candidate_info_byname = candidate_info.set_index(['candidate']) # Allow access info by name as index\n",
    "candidate_quotes['election_day'] = candidate_quotes['speaker'].map(candidate_info_byname['year']).astype(str)+ '-11-01'\n",
    "candidate_quotes['election_day'] = pd.to_datetime(candidate_quotes['election_day'])"
   ]
  },
  {
   "cell_type": "code",
   "execution_count": 14,
   "id": "1c0e2c40",
   "metadata": {},
   "outputs": [],
   "source": [
    "# Add election result (i.e. vote rate) for each candidate speaker\n",
    "candidate_info_byname['vote_rate'] = candidate_info_byname['candidatevotes']/candidate_info_byname['totalvotes']"
   ]
  },
  {
   "cell_type": "code",
   "execution_count": 15,
   "id": "4ab9dd4d",
   "metadata": {},
   "outputs": [],
   "source": [
    "# We group the number of quotations by election day\n",
    "quotes_byelection = candidate_quotes[candidate_quotes['date_only'] < candidate_quotes['election_day']]\n",
    "tot_quotes_byelection = pd.DataFrame(quotes_byelection.groupby(['speaker'])['normalize_quotes'].sum())\n",
    "tot_quotes_byelection.rename(columns = {'normalize_quotes': 'total_quotes_byelection'}, inplace=True)"
   ]
  },
  {
   "cell_type": "code",
   "execution_count": 16,
   "id": "dfe01a90",
   "metadata": {},
   "outputs": [
    {
     "name": "stdout",
     "output_type": "stream",
     "text": [
      "Pearson coefficient: 0.6112235983030404, p value: 3.506776291721492e-26\n"
     ]
    },
    {
     "data": {
      "image/png": "[encoded data removed]",
      "text/plain": [
       "<Figure size 432x288 with 1 Axes>"
      ]
     },
     "metadata": {
      "needs_background": "light"
     },
     "output_type": "display_data"
    }
   ],
   "source": [
    "# We add the vote rate and plot the scatter plot of vote rate against total quotes by election\n",
    "from scipy.stats import pearsonr\n",
    "tot_quotes_byelection['vote_rate'] = tot_quotes_byelection.index.map(candidate_info_byname['vote_rate'])\n",
    "quotes_vote = tot_quotes_byelection.plot.scatter(x = 'total_quotes_byelection', y = 'vote_rate', logx=True)\n",
    "(corr1, pvalue) = pearsonr(np.log(tot_quotes_byelection['total_quotes_byelection']), tot_quotes_byelection['vote_rate'])\n",
    "print(f'Pearson coefficient: {corr1}, p value: {pvalue}')"
   ]
  },
  {
   "cell_type": "markdown",
   "id": "77202c41",
   "metadata": {},
   "source": [
    "**Observation**: Based on the plot above, we can see that there is a positive correlation between quotations and vote_rate with p value < 0.05. The more a candidate was quoted before the election, the higher the voting rate he or she got."
   ]
  },
  {
   "cell_type": "markdown",
   "id": "c5755dbd",
   "metadata": {},
   "source": [
    "**1.4** We can also apply the analysis on quotations that mention senates."
   ]
  },
  {
   "cell_type": "code",
   "execution_count": 17,
   "id": "77227984",
   "metadata": {},
   "outputs": [],
   "source": [
    "# Load the stored quotations mention senate candidates since 2015 (by year)\n",
    "senate_quote_20_mention = pd.read_json('SenateData/quotes-2020-senates-mention.json.bz2', lines=True, compression='bz2')\n",
    "senate_quote_19_mention = pd.read_json('SenateData/quotes-2019-senates-mention.json.bz2', lines=True, compression='bz2')\n",
    "senate_quote_18_mention = pd.read_json('SenateData/quotes-2018-senates-mention.json.bz2', lines=True, compression='bz2')\n",
    "senate_quote_17_mention = pd.read_json('SenateData/quotes-2017-senates-mention.json.bz2', lines=True, compression='bz2')\n",
    "senate_quote_16_mention = pd.read_json('SenateData/quotes-2016-senates-mention.json.bz2', lines=True, compression='bz2')\n",
    "senate_quote_15_mention = pd.read_json('SenateData/quotes-2015-senates-mention.json.bz2', lines=True, compression='bz2')"
   ]
  },
  {
   "cell_type": "code",
   "execution_count": 18,
   "id": "98427f70",
   "metadata": {
    "scrolled": true
   },
   "outputs": [
    {
     "data": {
      "text/html": [
       "<div>\n",
       "<style scoped>\n",
       "    .dataframe tbody tr th:only-of-type {\n",
       "        vertical-align: middle;\n",
       "    }\n",
       "\n",
       "    .dataframe tbody tr th {\n",
       "        vertical-align: top;\n",
       "    }\n",
       "\n",
       "    .dataframe thead th {\n",
       "        text-align: right;\n",
       "    }\n",
       "</style>\n",
       "<table border=\"1\" class=\"dataframe\">\n",
       "  <thead>\n",
       "    <tr style=\"text-align: right;\">\n",
       "      <th></th>\n",
       "      <th>quoteID</th>\n",
       "      <th>quotation</th>\n",
       "      <th>speaker</th>\n",
       "      <th>qids</th>\n",
       "      <th>date</th>\n",
       "      <th>numOccurrences</th>\n",
       "      <th>probas</th>\n",
       "      <th>urls</th>\n",
       "      <th>phase</th>\n",
       "      <th>mention</th>\n",
       "      <th>domains</th>\n",
       "    </tr>\n",
       "  </thead>\n",
       "  <tbody>\n",
       "    <tr>\n",
       "      <th>4346</th>\n",
       "      <td>2015-03-24-069134</td>\n",
       "      <td>Ted Cruz has even less experience in American ...</td>\n",
       "      <td>Carl Cannon</td>\n",
       "      <td>[Q21551439, Q48968491]</td>\n",
       "      <td>2015-03-24 12:07:13</td>\n",
       "      <td>1</td>\n",
       "      <td>[[Carl Cannon, 0.6058], [None, 0.1123], [Ben D...</td>\n",
       "      <td>[http://blogs.wsj.com/washwire/2015/03/24/capi...</td>\n",
       "      <td>E</td>\n",
       "      <td>Ted Cruz</td>\n",
       "      <td>[com]</td>\n",
       "    </tr>\n",
       "    <tr>\n",
       "      <th>15663</th>\n",
       "      <td>2015-09-12-047672</td>\n",
       "      <td>That is asking Bernie Sanders to be very inaut...</td>\n",
       "      <td>Joy Williams</td>\n",
       "      <td>[Q3187212, Q6297286]</td>\n",
       "      <td>2015-09-12 11:07:20</td>\n",
       "      <td>3</td>\n",
       "      <td>[[Joy Williams, 0.602], [None, 0.3264], [Symon...</td>\n",
       "      <td>[http://www.salon.com/2015/09/12/black_voters_...</td>\n",
       "      <td>E</td>\n",
       "      <td>Bernie Sanders</td>\n",
       "      <td>[com, com, com]</td>\n",
       "    </tr>\n",
       "    <tr>\n",
       "      <th>12547</th>\n",
       "      <td>2017-10-14-051560</td>\n",
       "      <td>Now, when it matters because you have a presid...</td>\n",
       "      <td>President Donald Trump</td>\n",
       "      <td>[Q22686]</td>\n",
       "      <td>2017-10-14 15:42:24</td>\n",
       "      <td>3</td>\n",
       "      <td>[[President Donald Trump, 0.6918], [None, 0.18...</td>\n",
       "      <td>[http://europe.newsweek.com/will-trump-start-c...</td>\n",
       "      <td>E</td>\n",
       "      <td>John Mccain</td>\n",
       "      <td>[com, com, com]</td>\n",
       "    </tr>\n",
       "    <tr>\n",
       "      <th>2547</th>\n",
       "      <td>2016-07-05-025559</td>\n",
       "      <td>He's not going to deliver New Jersey, New Jers...</td>\n",
       "      <td>None</td>\n",
       "      <td>[]</td>\n",
       "      <td>2016-07-05 18:26:41</td>\n",
       "      <td>2</td>\n",
       "      <td>[[None, 0.5009], [Richard Davenport, 0.2192], ...</td>\n",
       "      <td>[http://app.com/story/news/politics/2016/07/05...</td>\n",
       "      <td>E</td>\n",
       "      <td>Elizabeth A. Warren</td>\n",
       "      <td>[com, com]</td>\n",
       "    </tr>\n",
       "  </tbody>\n",
       "</table>\n",
       "</div>"
      ],
      "text/plain": [
       "                 quoteID                                          quotation  \\\n",
       "4346   2015-03-24-069134  Ted Cruz has even less experience in American ...   \n",
       "15663  2015-09-12-047672  That is asking Bernie Sanders to be very inaut...   \n",
       "12547  2017-10-14-051560  Now, when it matters because you have a presid...   \n",
       "2547   2016-07-05-025559  He's not going to deliver New Jersey, New Jers...   \n",
       "\n",
       "                      speaker                    qids                date  \\\n",
       "4346              Carl Cannon  [Q21551439, Q48968491] 2015-03-24 12:07:13   \n",
       "15663            Joy Williams    [Q3187212, Q6297286] 2015-09-12 11:07:20   \n",
       "12547  President Donald Trump                [Q22686] 2017-10-14 15:42:24   \n",
       "2547                     None                      [] 2016-07-05 18:26:41   \n",
       "\n",
       "       numOccurrences                                             probas  \\\n",
       "4346                1  [[Carl Cannon, 0.6058], [None, 0.1123], [Ben D...   \n",
       "15663               3  [[Joy Williams, 0.602], [None, 0.3264], [Symon...   \n",
       "12547               3  [[President Donald Trump, 0.6918], [None, 0.18...   \n",
       "2547                2  [[None, 0.5009], [Richard Davenport, 0.2192], ...   \n",
       "\n",
       "                                                    urls phase  \\\n",
       "4346   [http://blogs.wsj.com/washwire/2015/03/24/capi...     E   \n",
       "15663  [http://www.salon.com/2015/09/12/black_voters_...     E   \n",
       "12547  [http://europe.newsweek.com/will-trump-start-c...     E   \n",
       "2547   [http://app.com/story/news/politics/2016/07/05...     E   \n",
       "\n",
       "                   mention          domains  \n",
       "4346              Ted Cruz            [com]  \n",
       "15663       Bernie Sanders  [com, com, com]  \n",
       "12547          John Mccain  [com, com, com]  \n",
       "2547   Elizabeth A. Warren       [com, com]  "
      ]
     },
     "execution_count": 18,
     "metadata": {},
     "output_type": "execute_result"
    }
   ],
   "source": [
    "# Concatenate data across all years and display the format of quotation data\n",
    "annual_frames_mention = [senate_quote_15_mention, senate_quote_16_mention, senate_quote_17_mention, senate_quote_18_mention, senate_quote_19_mention, senate_quote_20_mention]\n",
    "candidate_quotes_mention = pd.concat(annual_frames_mention)\n",
    "candidate_quotes_mention.sample(4)"
   ]
  },
  {
   "cell_type": "code",
   "execution_count": 19,
   "id": "f80a5cf4",
   "metadata": {},
   "outputs": [
    {
     "data": {
      "text/html": [
       "<div>\n",
       "<style scoped>\n",
       "    .dataframe tbody tr th:only-of-type {\n",
       "        vertical-align: middle;\n",
       "    }\n",
       "\n",
       "    .dataframe tbody tr th {\n",
       "        vertical-align: top;\n",
       "    }\n",
       "\n",
       "    .dataframe thead th {\n",
       "        text-align: right;\n",
       "    }\n",
       "</style>\n",
       "<table border=\"1\" class=\"dataframe\">\n",
       "  <thead>\n",
       "    <tr style=\"text-align: right;\">\n",
       "      <th></th>\n",
       "      <th>quoteID</th>\n",
       "      <th>quotation</th>\n",
       "      <th>speaker</th>\n",
       "      <th>qids</th>\n",
       "      <th>date</th>\n",
       "      <th>numOccurrences</th>\n",
       "      <th>probas</th>\n",
       "      <th>urls</th>\n",
       "      <th>phase</th>\n",
       "      <th>mention</th>\n",
       "      <th>domains</th>\n",
       "      <th>date_only</th>\n",
       "      <th>normalize_factor</th>\n",
       "      <th>normalize_quotes</th>\n",
       "    </tr>\n",
       "  </thead>\n",
       "  <tbody>\n",
       "    <tr>\n",
       "      <th>12936</th>\n",
       "      <td>2015-09-23-083070</td>\n",
       "      <td>Sen Bernie Sanders (I-Vt.) can't seem to hold ...</td>\n",
       "      <td>None</td>\n",
       "      <td>[]</td>\n",
       "      <td>2015-09-23 21:17:48</td>\n",
       "      <td>1</td>\n",
       "      <td>[[None, 0.3282], [BERNIE SANDERS, 0.2641], [HI...</td>\n",
       "      <td>[http://www.huffingtonpost.com/2015/09/23/huff...</td>\n",
       "      <td>E</td>\n",
       "      <td>BERNIE SANDERS</td>\n",
       "      <td>[com]</td>\n",
       "      <td>2015-09-23</td>\n",
       "      <td>0.447555</td>\n",
       "      <td>0.447555</td>\n",
       "    </tr>\n",
       "    <tr>\n",
       "      <th>11994</th>\n",
       "      <td>2018-12-18-064737</td>\n",
       "      <td>Oh look. A supporter of Bernie Sanders attacki...</td>\n",
       "      <td>Neera Tanden</td>\n",
       "      <td>[Q6986921]</td>\n",
       "      <td>2018-12-18 05:00:00</td>\n",
       "      <td>5</td>\n",
       "      <td>[[Neera Tanden, 0.754], [None, 0.139], [David ...</td>\n",
       "      <td>[https://www.commondreams.org/views/2018/12/18...</td>\n",
       "      <td>E</td>\n",
       "      <td>BERNIE SANDERS</td>\n",
       "      <td>[org, com, org, com, org]</td>\n",
       "      <td>2018-12-18</td>\n",
       "      <td>0.569301</td>\n",
       "      <td>2.846507</td>\n",
       "    </tr>\n",
       "    <tr>\n",
       "      <th>8026</th>\n",
       "      <td>2019-12-04-059702</td>\n",
       "      <td>Kamala Harris is an incredible talent with unl...</td>\n",
       "      <td>Joe Biden</td>\n",
       "      <td>[Q6279]</td>\n",
       "      <td>2019-12-04 22:00:00</td>\n",
       "      <td>1</td>\n",
       "      <td>[[Joe Biden, 0.7412], [None, 0.168], [Presiden...</td>\n",
       "      <td>[http://www.indiawest.com/news/global_indian/s...</td>\n",
       "      <td>E</td>\n",
       "      <td>KAMALA D. HARRIS</td>\n",
       "      <td>[com]</td>\n",
       "      <td>2019-12-04</td>\n",
       "      <td>0.638847</td>\n",
       "      <td>0.638847</td>\n",
       "    </tr>\n",
       "    <tr>\n",
       "      <th>7333</th>\n",
       "      <td>2019-05-22-060039</td>\n",
       "      <td>It's a shame that Beto O'Rourke -- he came to ...</td>\n",
       "      <td>Harry Reid</td>\n",
       "      <td>[Q19650494, Q21466700, Q314459, Q5671912]</td>\n",
       "      <td>2019-05-22 15:03:07</td>\n",
       "      <td>2</td>\n",
       "      <td>[[Harry Reid, 0.9041], [None, 0.0881], [Steve ...</td>\n",
       "      <td>[http://cnn.com/2019/05/22/politics/democrats-...</td>\n",
       "      <td>E</td>\n",
       "      <td>BETO O'ROURKE</td>\n",
       "      <td>[com, com]</td>\n",
       "      <td>2019-05-22</td>\n",
       "      <td>0.488273</td>\n",
       "      <td>0.976546</td>\n",
       "    </tr>\n",
       "    <tr>\n",
       "      <th>15408</th>\n",
       "      <td>2016-06-24-001480</td>\n",
       "      <td>Much as we love Bernie Sanders, he didn't do i...</td>\n",
       "      <td>Frances Fox Piven</td>\n",
       "      <td>[Q274697]</td>\n",
       "      <td>2016-06-24 16:51:00</td>\n",
       "      <td>1</td>\n",
       "      <td>[[Frances Fox Piven, 0.7977], [None, 0.1474], ...</td>\n",
       "      <td>[http://www.alternet.org/election-2016/we-will...</td>\n",
       "      <td>E</td>\n",
       "      <td>BERNIE SANDERS</td>\n",
       "      <td>[org]</td>\n",
       "      <td>2016-06-24</td>\n",
       "      <td>15.198954</td>\n",
       "      <td>15.198954</td>\n",
       "    </tr>\n",
       "  </tbody>\n",
       "</table>\n",
       "</div>"
      ],
      "text/plain": [
       "                 quoteID                                          quotation  \\\n",
       "12936  2015-09-23-083070  Sen Bernie Sanders (I-Vt.) can't seem to hold ...   \n",
       "11994  2018-12-18-064737  Oh look. A supporter of Bernie Sanders attacki...   \n",
       "8026   2019-12-04-059702  Kamala Harris is an incredible talent with unl...   \n",
       "7333   2019-05-22-060039  It's a shame that Beto O'Rourke -- he came to ...   \n",
       "15408  2016-06-24-001480  Much as we love Bernie Sanders, he didn't do i...   \n",
       "\n",
       "                 speaker                                       qids  \\\n",
       "12936               None                                         []   \n",
       "11994       Neera Tanden                                 [Q6986921]   \n",
       "8026           Joe Biden                                    [Q6279]   \n",
       "7333          Harry Reid  [Q19650494, Q21466700, Q314459, Q5671912]   \n",
       "15408  Frances Fox Piven                                  [Q274697]   \n",
       "\n",
       "                     date  numOccurrences  \\\n",
       "12936 2015-09-23 21:17:48               1   \n",
       "11994 2018-12-18 05:00:00               5   \n",
       "8026  2019-12-04 22:00:00               1   \n",
       "7333  2019-05-22 15:03:07               2   \n",
       "15408 2016-06-24 16:51:00               1   \n",
       "\n",
       "                                                  probas  \\\n",
       "12936  [[None, 0.3282], [BERNIE SANDERS, 0.2641], [HI...   \n",
       "11994  [[Neera Tanden, 0.754], [None, 0.139], [David ...   \n",
       "8026   [[Joe Biden, 0.7412], [None, 0.168], [Presiden...   \n",
       "7333   [[Harry Reid, 0.9041], [None, 0.0881], [Steve ...   \n",
       "15408  [[Frances Fox Piven, 0.7977], [None, 0.1474], ...   \n",
       "\n",
       "                                                    urls phase  \\\n",
       "12936  [http://www.huffingtonpost.com/2015/09/23/huff...     E   \n",
       "11994  [https://www.commondreams.org/views/2018/12/18...     E   \n",
       "8026   [http://www.indiawest.com/news/global_indian/s...     E   \n",
       "7333   [http://cnn.com/2019/05/22/politics/democrats-...     E   \n",
       "15408  [http://www.alternet.org/election-2016/we-will...     E   \n",
       "\n",
       "                mention                    domains   date_only  \\\n",
       "12936    BERNIE SANDERS                      [com]  2015-09-23   \n",
       "11994    BERNIE SANDERS  [org, com, org, com, org]  2018-12-18   \n",
       "8026   KAMALA D. HARRIS                      [com]  2019-12-04   \n",
       "7333      BETO O'ROURKE                 [com, com]  2019-05-22   \n",
       "15408    BERNIE SANDERS                      [org]  2016-06-24   \n",
       "\n",
       "       normalize_factor  normalize_quotes  \n",
       "12936          0.447555          0.447555  \n",
       "11994          0.569301          2.846507  \n",
       "8026           0.638847          0.638847  \n",
       "7333           0.488273          0.976546  \n",
       "15408         15.198954         15.198954  "
      ]
     },
     "execution_count": 19,
     "metadata": {},
     "output_type": "execute_result"
    }
   ],
   "source": [
    "# format the date\n",
    "candidate_quotes_mention['date_only'] = candidate_quotes_mention['date'].dt.date\n",
    "# change the name to upper format\n",
    "candidate_quotes_mention['mention'] = candidate_quotes_mention['mention'].str.upper()\n",
    "\n",
    "# Normalize the quotes\n",
    "candidate_quotes_mention['normalize_factor'] = candidate_quotes_mention['date'].map(lambda x: 1/quote_num[str(x)[:7]]*1e6)\n",
    "candidate_quotes_mention['normalize_quotes'] = candidate_quotes_mention['numOccurrences']*candidate_quotes_mention['normalize_factor']\n",
    "candidate_quotes_mention.sample(5)"
   ]
  },
  {
   "cell_type": "code",
   "execution_count": 20,
   "id": "5de83206",
   "metadata": {},
   "outputs": [
    {
     "data": {
      "text/plain": [
       "mention           date_only \n",
       "A. WAYNE JOHNSON  2015-01-16    0.601997\n",
       "                  2015-08-04    0.473512\n",
       "                  2015-12-11    0.955093\n",
       "                  2017-02-12    2.080072\n",
       "                  2017-05-28    0.401338\n",
       "                                  ...   \n",
       "WILLIE L. WILSON  2019-03-30    0.503878\n",
       "                  2019-07-16    0.668486\n",
       "                  2019-11-04    0.542426\n",
       "ZAK RINGELSTEIN   2018-06-22    0.482000\n",
       "                  2018-10-24    0.427106\n",
       "Name: normalize_quotes, Length: 34904, dtype: float64"
      ]
     },
     "execution_count": 20,
     "metadata": {},
     "output_type": "execute_result"
    }
   ],
   "source": [
    "# obtain normalized quotations by day\n",
    "candidate_quotes_mention_byday = candidate_quotes_mention.groupby(['mention', 'date_only'])['normalize_quotes'].sum()\n",
    "candidate_quotes_mention_byday"
   ]
  },
  {
   "cell_type": "code",
   "execution_count": 21,
   "id": "09bd3ad2",
   "metadata": {},
   "outputs": [
    {
     "data": {
      "text/plain": [
       "Text(0.5, 1.0, 'Bernie Sanders')"
      ]
     },
     "execution_count": 21,
     "metadata": {},
     "output_type": "execute_result"
    },
    {
     "data": {
      "image/png": "[encoded data removed]",
      "text/plain": [
       "<Figure size 432x288 with 1 Axes>"
      ]
     },
     "metadata": {
      "needs_background": "light"
     },
     "output_type": "display_data"
    }
   ],
   "source": [
    "# For example, we can visualize the quotation changes of Bernie Sanders\n",
    "candidate_quotes_mention_byday['BERNIE SANDERS'].rolling(window=30).sum().plot() # one months average\n",
    "plt.xlabel('time')\n",
    "plt.ylabel('Quoted numbers: Mention')\n",
    "plt.title('Bernie Sanders')"
   ]
  },
  {
   "cell_type": "code",
   "execution_count": 22,
   "id": "0c4ef323",
   "metadata": {},
   "outputs": [
    {
     "data": {
      "text/html": [
       "<div>\n",
       "<style scoped>\n",
       "    .dataframe tbody tr th:only-of-type {\n",
       "        vertical-align: middle;\n",
       "    }\n",
       "\n",
       "    .dataframe tbody tr th {\n",
       "        vertical-align: top;\n",
       "    }\n",
       "\n",
       "    .dataframe thead th {\n",
       "        text-align: right;\n",
       "    }\n",
       "</style>\n",
       "<table border=\"1\" class=\"dataframe\">\n",
       "  <thead>\n",
       "    <tr style=\"text-align: right;\">\n",
       "      <th></th>\n",
       "      <th>quoteID</th>\n",
       "      <th>quotation</th>\n",
       "      <th>speaker</th>\n",
       "      <th>qids</th>\n",
       "      <th>date</th>\n",
       "      <th>numOccurrences</th>\n",
       "      <th>probas</th>\n",
       "      <th>urls</th>\n",
       "      <th>phase</th>\n",
       "      <th>mention</th>\n",
       "      <th>domains</th>\n",
       "      <th>date_only</th>\n",
       "      <th>normalize_factor</th>\n",
       "      <th>normalize_quotes</th>\n",
       "      <th>election_day</th>\n",
       "    </tr>\n",
       "  </thead>\n",
       "  <tbody>\n",
       "    <tr>\n",
       "      <th>0</th>\n",
       "      <td>2015-05-17-016225</td>\n",
       "      <td>I really like Bernie Sanders and his policies ...</td>\n",
       "      <td>None</td>\n",
       "      <td>[]</td>\n",
       "      <td>2015-05-17 07:09:22</td>\n",
       "      <td>1</td>\n",
       "      <td>[[None, 0.81], [Bernie Sanders, 0.19]]</td>\n",
       "      <td>[http://dailykos.com/story/2015/05/15/1384917/...</td>\n",
       "      <td>E</td>\n",
       "      <td>BERNIE SANDERS</td>\n",
       "      <td>[com]</td>\n",
       "      <td>2015-05-17</td>\n",
       "      <td>0.880164</td>\n",
       "      <td>0.880164</td>\n",
       "      <td>2018-11-01</td>\n",
       "    </tr>\n",
       "    <tr>\n",
       "      <th>1</th>\n",
       "      <td>2015-08-25-018582</td>\n",
       "      <td>Elizabeth Warren does have a thumb on the puls...</td>\n",
       "      <td>Bakari Sellers</td>\n",
       "      <td>[Q4849014]</td>\n",
       "      <td>2015-08-25 10:02:35</td>\n",
       "      <td>4</td>\n",
       "      <td>[[Bakari Sellers, 0.8813], [None, 0.1075], [El...</td>\n",
       "      <td>[http://www.kspr.com/news/politics/does-elizab...</td>\n",
       "      <td>E</td>\n",
       "      <td>ELIZABETH A. WARREN</td>\n",
       "      <td>[com, com, com, com]</td>\n",
       "      <td>2015-08-25</td>\n",
       "      <td>0.473512</td>\n",
       "      <td>1.894046</td>\n",
       "      <td>2018-11-01</td>\n",
       "    </tr>\n",
       "    <tr>\n",
       "      <th>2</th>\n",
       "      <td>2015-03-11-040221</td>\n",
       "      <td>I'll invoke the marital privilege on some of i...</td>\n",
       "      <td>Mike Coffman</td>\n",
       "      <td>[Q547218]</td>\n",
       "      <td>2015-03-11 17:09:31</td>\n",
       "      <td>1</td>\n",
       "      <td>[[Mike Coffman, 0.4786], [None, 0.3104], [Tom ...</td>\n",
       "      <td>[http://www.huffingtonpost.com/jason-salzman/r...</td>\n",
       "      <td>E</td>\n",
       "      <td>CORY GARDNER</td>\n",
       "      <td>[com]</td>\n",
       "      <td>2015-03-11</td>\n",
       "      <td>0.535357</td>\n",
       "      <td>0.535357</td>\n",
       "      <td>2020-11-01</td>\n",
       "    </tr>\n",
       "    <tr>\n",
       "      <th>3</th>\n",
       "      <td>2015-09-24-081451</td>\n",
       "      <td>Richard Burr truly is North Carolina's `Invisi...</td>\n",
       "      <td>None</td>\n",
       "      <td>[]</td>\n",
       "      <td>2015-09-24 02:04:45</td>\n",
       "      <td>1</td>\n",
       "      <td>[[None, 0.7571], [Richard Burr, 0.182], [Paul ...</td>\n",
       "      <td>[http://www.wcti12.com/news/Ross-leaves-job-po...</td>\n",
       "      <td>E</td>\n",
       "      <td>RICHARD BURR</td>\n",
       "      <td>[com]</td>\n",
       "      <td>2015-09-24</td>\n",
       "      <td>0.447555</td>\n",
       "      <td>0.447555</td>\n",
       "      <td>2016-11-01</td>\n",
       "    </tr>\n",
       "  </tbody>\n",
       "</table>\n",
       "</div>"
      ],
      "text/plain": [
       "             quoteID                                          quotation  \\\n",
       "0  2015-05-17-016225  I really like Bernie Sanders and his policies ...   \n",
       "1  2015-08-25-018582  Elizabeth Warren does have a thumb on the puls...   \n",
       "2  2015-03-11-040221  I'll invoke the marital privilege on some of i...   \n",
       "3  2015-09-24-081451  Richard Burr truly is North Carolina's `Invisi...   \n",
       "\n",
       "          speaker        qids                date  numOccurrences  \\\n",
       "0            None          [] 2015-05-17 07:09:22               1   \n",
       "1  Bakari Sellers  [Q4849014] 2015-08-25 10:02:35               4   \n",
       "2    Mike Coffman   [Q547218] 2015-03-11 17:09:31               1   \n",
       "3            None          [] 2015-09-24 02:04:45               1   \n",
       "\n",
       "                                              probas  \\\n",
       "0             [[None, 0.81], [Bernie Sanders, 0.19]]   \n",
       "1  [[Bakari Sellers, 0.8813], [None, 0.1075], [El...   \n",
       "2  [[Mike Coffman, 0.4786], [None, 0.3104], [Tom ...   \n",
       "3  [[None, 0.7571], [Richard Burr, 0.182], [Paul ...   \n",
       "\n",
       "                                                urls phase  \\\n",
       "0  [http://dailykos.com/story/2015/05/15/1384917/...     E   \n",
       "1  [http://www.kspr.com/news/politics/does-elizab...     E   \n",
       "2  [http://www.huffingtonpost.com/jason-salzman/r...     E   \n",
       "3  [http://www.wcti12.com/news/Ross-leaves-job-po...     E   \n",
       "\n",
       "               mention               domains   date_only  normalize_factor  \\\n",
       "0       BERNIE SANDERS                 [com]  2015-05-17          0.880164   \n",
       "1  ELIZABETH A. WARREN  [com, com, com, com]  2015-08-25          0.473512   \n",
       "2         CORY GARDNER                 [com]  2015-03-11          0.535357   \n",
       "3         RICHARD BURR                 [com]  2015-09-24          0.447555   \n",
       "\n",
       "   normalize_quotes election_day  \n",
       "0          0.880164   2018-11-01  \n",
       "1          1.894046   2018-11-01  \n",
       "2          0.535357   2020-11-01  \n",
       "3          0.447555   2016-11-01  "
      ]
     },
     "execution_count": 22,
     "metadata": {},
     "output_type": "execute_result"
    }
   ],
   "source": [
    "# Add the election day corresponding to each candidate mentioned\n",
    "candidate_info_byname = candidate_info.set_index(['candidate']) # Allow access info by name as index\n",
    "candidate_quotes_mention['mention']=candidate_quotes_mention.mention.map(lambda x:x.upper())\n",
    "candidate_quotes_mention['election_day'] = candidate_quotes_mention['mention'].map(candidate_info_byname['year']).astype(str)+ '-11-01'\n",
    "candidate_quotes_mention['election_day'] = pd.to_datetime(candidate_quotes_mention['election_day'])\n",
    "candidate_quotes_mention.head(4)"
   ]
  },
  {
   "cell_type": "code",
   "execution_count": 23,
   "id": "d1ba356c",
   "metadata": {},
   "outputs": [
    {
     "name": "stdout",
     "output_type": "stream",
     "text": [
      "Pearson coefficient: 0.5320764453359699, p value: 1.1343252830666171e-22\n"
     ]
    },
    {
     "data": {
      "image/png": "[encoded data removed]",
      "text/plain": [
       "<Figure size 432x288 with 1 Axes>"
      ]
     },
     "metadata": {
      "needs_background": "light"
     },
     "output_type": "display_data"
    }
   ],
   "source": [
    "from scipy.stats import pearsonr\n",
    "\n",
    "# Add election result (i.e. vote rate) for each candidate speaker\n",
    "candidate_info_byname['vote_rate'] = candidate_info_byname['candidatevotes']/candidate_info_byname['totalvotes']\n",
    "\n",
    "# We group the number of normalized quotations before election day\n",
    "quotes_byelection = candidate_quotes_mention[candidate_quotes_mention['date_only'] < candidate_quotes_mention['election_day']]\n",
    "tot_quotes_byelection = pd.DataFrame(quotes_byelection.groupby(['mention'])['normalize_quotes'].sum())\n",
    "tot_quotes_byelection.rename(columns = {'normalize_quotes': 'total_quotes_byelection'}, inplace=True)\n",
    "\n",
    "# We add the vote rate and plot the scatter plot of vote rate against total quotes by election\n",
    "tot_quotes_byelection['vote_rate'] = tot_quotes_byelection.index.map(candidate_info_byname['vote_rate'])\n",
    "\n",
    "# linear regression\n",
    "quotes_vote = tot_quotes_byelection.plot.scatter(x = 'total_quotes_byelection', y = 'vote_rate', logx=True)\n",
    "(corr1, pvalue) = pearsonr(np.log(tot_quotes_byelection['total_quotes_byelection']), tot_quotes_byelection['vote_rate'])\n",
    "print(f'Pearson coefficient: {corr1}, p value: {pvalue}')"
   ]
  },
  {
   "cell_type": "markdown",
   "id": "d10ca665-aab8-4eb6-a3b8-5b32ba2dc165",
   "metadata": {},
   "source": [
    "**Observation**: Based on the plot above, we can see that there is also a positive correlation between number of mentioned quotations and vote_rate with p value < 0.05."
   ]
  },
  {
   "cell_type": "markdown",
   "id": "465f405e",
   "metadata": {},
   "source": [
    "## 2. Weigh the quotations by readership\n",
    "We are aware of the different reading statistics of different media. We try to weigh the quotations by the readership of the source media."
   ]
  },
  {
   "cell_type": "markdown",
   "id": "78072790",
   "metadata": {},
   "source": [
    "**2.1** First, we sample 50k quotes and look at the source media of those quotations. This would give us a feel of how much media is covered by QuoteBank and which media appear most often. To balance the data said by candidates and the data mentioning candidates, we sample the 50k quotes according to the ratio of total data in 'candidate_quotes' and 'candidate_quotes_mention'"
   ]
  },
  {
   "cell_type": "code",
   "execution_count": 24,
   "id": "d885f7be",
   "metadata": {},
   "outputs": [
    {
     "name": "stdout",
     "output_type": "stream",
     "text": [
      "we sample 46123 quotes said by candidates and 3877 quotes mentioning candidates\n"
     ]
    }
   ],
   "source": [
    "# sample 50k quotes and see where quotes are published\n",
    "candidate_quotes_mention.reset_index(inplace=True) # Reset index of mention dataset\n",
    "sample_n = 50000\n",
    "said_n = len(candidate_quotes.index) # total number of quotes said by candidates\n",
    "mention_n = len(candidate_quotes_mention.index) # total number of quotes mentioning candidates\n",
    "mention_sample_n = int(sample_n * mention_n/(mention_n + said_n))\n",
    "said_sample_n = sample_n - mention_sample_n\n",
    "print('we sample {} quotes said by candidates and {} quotes mentioning candidates'.format(said_sample_n, mention_sample_n))"
   ]
  },
  {
   "cell_type": "code",
   "execution_count": 25,
   "id": "27cb8060",
   "metadata": {},
   "outputs": [],
   "source": [
    "# We extract the domains from two data set based on the ratio computed above\n",
    "total_domains = []\n",
    "said_sample = candidate_quotes.sample(said_sample_n) # sample from quotes said by candidates\n",
    "# We extract web domains from the url\n",
    "for i in said_sample.index:\n",
    "    urls = said_sample.at[i,'urls']\n",
    "    for url in urls: # Some URL here is actually a list (there are lists in list), not sure why it happens\n",
    "        total_domains.append(get_tld(url, as_object=True).domain)\n",
    "\n",
    "mention_sample = candidate_quotes.sample(mention_sample_n) # sample from quotes said by candidates\n",
    "# We use the same pipeline to extract domain\n",
    "for i in mention_sample.index:\n",
    "    urls = mention_sample.at[i,'urls']\n",
    "    for url in urls: # Some URL here is actually a list (there are lists in list), not sure why it happens\n",
    "        total_domains.append(get_tld(url, as_object=True).domain)"
   ]
  },
  {
   "cell_type": "markdown",
   "id": "9d14268e",
   "metadata": {},
   "source": [
    "We use the code below to find top 30 frequently appearing media in the sample. (Note: the last several media may be different from sample to sample, but overall they do not affect the result!)"
   ]
  },
  {
   "cell_type": "code",
   "execution_count": 26,
   "id": "e5460c99",
   "metadata": {},
   "outputs": [
    {
     "name": "stdout",
     "output_type": "stream",
     "text": [
      "----top 30 news agency/publisher:\n",
      "  [('krmg', 5741), ('msn', 3149), ('wokv', 2790), ('news965', 2690), ('breitbart', 2489), ('washingtonexaminer', 2389), ('businessinsider', 2371), ('thehill', 2370), ('washingtontimes', 2132), ('cnn', 2124), ('yahoo', 1965), ('einnews', 1891), ('foxnews', 1739), ('cbsnews', 1727), ('newsmax', 1458), ('politico', 1434), ('nytimes', 1383), ('wsbradio', 1376), ('washingtonpost', 1325), ('sfgate', 1210), ('huffingtonpost', 1152), ('nbcnews', 1065), ('kdhnews', 1034), ('news12', 883), ('abc-7', 876), ('wftv', 855), ('rollcall', 842), ('startribune', 837), ('seattletimes', 798), ('ktvz', 793)]\n",
      "----number of news agency covered: 5104\n"
     ]
    }
   ],
   "source": [
    "# Count the frequency of media occurences in quotation dataset\n",
    "from collections import Counter\n",
    "domain_count = Counter(total_domains).most_common()\n",
    "print(\"----top 30 news agency/publisher:\\n \", domain_count[0:30])\n",
    "print('----number of news agency covered:', len(domain_count))\n"
   ]
  },
  {
   "cell_type": "markdown",
   "id": "02273b19",
   "metadata": {},
   "source": [
    "Among 50k samples, there are over 4000 different website domains, indicating a sufficiently wide coverage of media. So the quotations can be an indicator of public exposure. Besides, we observe an exponential decrease of counts in the database."
   ]
  },
  {
   "cell_type": "code",
   "execution_count": 27,
   "id": "f56d72aa",
   "metadata": {},
   "outputs": [
    {
     "data": {
      "text/plain": [
       "Text(0.5, 0, 'occurences in sampled quote data')"
      ]
     },
     "execution_count": 27,
     "metadata": {},
     "output_type": "execute_result"
    },
    {
     "data": {
      "image/png": "[encoded data removed]",
      "text/plain": [
       "<Figure size 432x288 with 1 Axes>"
      ]
     },
     "metadata": {
      "needs_background": "light"
     },
     "output_type": "display_data"
    }
   ],
   "source": [
    "# Plot the histogram characterizing the frequency of each media appearing\n",
    "_, y_counts = zip(*domain_count)\n",
    "plt.hist(y_counts, bins=20)\n",
    "plt.yscale('log')\n",
    "plt.ylabel('number of media')\n",
    "plt.xlabel('occurences in sampled quote data')"
   ]
  },
  {
   "cell_type": "markdown",
   "id": "348f4862",
   "metadata": {},
   "source": [
    "**Do Not Re run the cell below! In case sample changes**\n",
    "\n",
    "10 randomly selected news agency/publisher except the top 30:\n",
    "\n",
    "  ['bakersfield','wtkr', 'go', 'navytimes', 'advertiser-tribune', 'circleofblue', 'nbcphiladelphia', 'malaymail', 'illawarramercury', 'hawaiinewsnow']\n",
    "  \n",
    "The code to get the 10 random media is shown below, we comment it out because each time it selects 10 different media, which may confuse the viewer of this notebook."
   ]
  },
  {
   "cell_type": "code",
   "execution_count": 29,
   "id": "b473f8d5",
   "metadata": {},
   "outputs": [
    {
     "name": "stdout",
     "output_type": "stream",
     "text": [
      "Couldn't find program: 'echo'\n"
     ]
    }
   ],
   "source": [
    "%%script echo skipping\n",
    "#media_ind = np.random.randint(31, len(domain_count), size=10)\n",
    "#print(\"10 randomly selected news agency/publisher except the top 30:\\n \", [domain_count[i] for i in media_ind])"
   ]
  },
  {
   "cell_type": "markdown",
   "id": "182839a2",
   "metadata": {},
   "source": [
    "The distribution is heavy-tailed, with only a few big media like CNN and Fox News occurring frequently. Most media occurs no more than 1.5% among all quotations. So, we think it is sufficient to just weigh the quotations extracted from those frequently occurring media. Moreover, it is very difficult to automatically find media's reading statistics (or other indicators of popularity) just based on the url major domain name. We could not think of a way to do so. Neither could we find an open dataset helping us. Therefore, we decide to manually look up the readership of those top 30 new agencies. For the rest media, we will sample 10 media from them and manually look up the reading statistics. We will take the average readership of those 10 media to represent the readership of the rest media. This will take up some time, so we plan to finish those manual work in the following weeks (see proposed timeline). As a result, we do not include any exposure level (quotation weighted by media readership) in Milestone 2. Instead, we just use the number of quotations (assuming all media offer the same public exposure)."
   ]
  },
  {
   "cell_type": "markdown",
   "id": "2b201045",
   "metadata": {},
   "source": [
    "**2.2** We manually search the total website visits of top 30 news agencies of the 10 randomly selected agencies among the rest. We could not find the data of some websites, so we use the median of others to fill it."
   ]
  },
  {
   "cell_type": "code",
   "execution_count": 28,
   "id": "3ae3c340",
   "metadata": {},
   "outputs": [
    {
     "data": {
      "text/html": [
       "<div>\n",
       "<style scoped>\n",
       "    .dataframe tbody tr th:only-of-type {\n",
       "        vertical-align: middle;\n",
       "    }\n",
       "\n",
       "    .dataframe tbody tr th {\n",
       "        vertical-align: top;\n",
       "    }\n",
       "\n",
       "    .dataframe thead th {\n",
       "        text-align: right;\n",
       "    }\n",
       "</style>\n",
       "<table border=\"1\" class=\"dataframe\">\n",
       "  <thead>\n",
       "    <tr style=\"text-align: right;\">\n",
       "      <th></th>\n",
       "      <th>webdomain</th>\n",
       "      <th>media</th>\n",
       "      <th>total_view_in_US</th>\n",
       "    </tr>\n",
       "  </thead>\n",
       "  <tbody>\n",
       "    <tr>\n",
       "      <th>0</th>\n",
       "      <td>KRMG</td>\n",
       "      <td>KRMG</td>\n",
       "      <td>0.11</td>\n",
       "    </tr>\n",
       "    <tr>\n",
       "      <th>1</th>\n",
       "      <td>news965</td>\n",
       "      <td>WBDO</td>\n",
       "      <td>21.68</td>\n",
       "    </tr>\n",
       "    <tr>\n",
       "      <th>2</th>\n",
       "      <td>wokv</td>\n",
       "      <td>WOKV</td>\n",
       "      <td>0.09</td>\n",
       "    </tr>\n",
       "    <tr>\n",
       "      <th>3</th>\n",
       "      <td>msn</td>\n",
       "      <td>MSN</td>\n",
       "      <td>323.98</td>\n",
       "    </tr>\n",
       "    <tr>\n",
       "      <th>4</th>\n",
       "      <td>breitbart</td>\n",
       "      <td>Breitbart</td>\n",
       "      <td>42.19</td>\n",
       "    </tr>\n",
       "  </tbody>\n",
       "</table>\n",
       "</div>"
      ],
      "text/plain": [
       "   webdomain      media  total_view_in_US\n",
       "0       KRMG       KRMG              0.11\n",
       "1    news965       WBDO             21.68\n",
       "2       wokv       WOKV              0.09\n",
       "3        msn        MSN            323.98\n",
       "4  breitbart  Breitbart             42.19"
      ]
     },
     "execution_count": 28,
     "metadata": {},
     "output_type": "execute_result"
    }
   ],
   "source": [
    "weight_file = 'SenateData/WebsiteVisit.csv'\n",
    "weight_df = pd.read_csv(weight_file)\n",
    "# Fill the NaN value by median (which avoid effect from outliers)\n",
    "weight_df.loc[:, ['total_view_in_US']] = weight_df[['total_view_in_US']].fillna(weight_df[['total_view_in_US']].median())\n",
    "weight_df.head(5) # demonstrate the format website view data for weight\n"
   ]
  },
  {
   "cell_type": "code",
   "execution_count": 29,
   "id": "d4c3453a",
   "metadata": {},
   "outputs": [
    {
     "name": "stdout",
     "output_type": "stream",
     "text": [
      "The median value of total views of the 10 agencies is 0.675\n"
     ]
    }
   ],
   "source": [
    "# Get the views for the 10 randomly selected agencies\n",
    "random_file = 'SenateData/RandomVisit.csv'\n",
    "random_df = pd.read_csv(random_file)\n",
    "# We take the median of total_US_view of the 10 agencies, as view for other agencies\n",
    "random_view = random_df['total_view_in_US'].median()\n",
    "print('The median value of total views of the 10 agencies is {}'.format(random_view))"
   ]
  },
  {
   "cell_type": "markdown",
   "id": "d6c7eb73",
   "metadata": {},
   "source": [
    "Then, we add those weights to the 'candidate_quotes' and 'candidate_quotes_mention'"
   ]
  },
  {
   "cell_type": "code",
   "execution_count": 30,
   "id": "5b63449c",
   "metadata": {},
   "outputs": [
    {
     "name": "stdout",
     "output_type": "stream",
     "text": [
      "For quotes said by candidates, we found 1042718 numbers of quotation occurrences from top 30\n"
     ]
    }
   ],
   "source": [
    "# assign weights to quotes said by candidates\n",
    "weight_dict = dict(zip(weight_df['webdomain'], weight_df['total_view_in_US']))\n",
    "n_hit = 0\n",
    "for i in candidate_quotes.index:\n",
    "    urls = candidate_quotes.at[i,'urls']\n",
    "    weight_ = 0\n",
    "    for url in urls: # Some URL here is actually a list (there are lists in list), not sure why it happens\n",
    "        webdomain = get_tld(url, as_object=True).domain # when it is a list, the multiply urls point to the same website\n",
    "        if webdomain in weight_dict.keys():\n",
    "            weight_ = weight_ + weight_dict[webdomain]\n",
    "            n_hit = n_hit + 1\n",
    "        else:\n",
    "            weight_ = weight_ + random_view\n",
    "    candidate_quotes.at[i,'views'] = weight_ \n",
    "print('For quotes said by candidates, we found {} numbers of quotation occurrences from top 30'.format(n_hit))"
   ]
  },
  {
   "cell_type": "code",
   "execution_count": 31,
   "id": "16027420",
   "metadata": {},
   "outputs": [
    {
     "data": {
      "text/html": [
       "<div>\n",
       "<style scoped>\n",
       "    .dataframe tbody tr th:only-of-type {\n",
       "        vertical-align: middle;\n",
       "    }\n",
       "\n",
       "    .dataframe tbody tr th {\n",
       "        vertical-align: top;\n",
       "    }\n",
       "\n",
       "    .dataframe thead th {\n",
       "        text-align: right;\n",
       "    }\n",
       "</style>\n",
       "<table border=\"1\" class=\"dataframe\">\n",
       "  <thead>\n",
       "    <tr style=\"text-align: right;\">\n",
       "      <th></th>\n",
       "      <th>index</th>\n",
       "      <th>quoteID</th>\n",
       "      <th>quotation</th>\n",
       "      <th>speaker</th>\n",
       "      <th>qids</th>\n",
       "      <th>date</th>\n",
       "      <th>numOccurrences</th>\n",
       "      <th>probas</th>\n",
       "      <th>urls</th>\n",
       "      <th>phase</th>\n",
       "      <th>domains</th>\n",
       "      <th>normalize_factor</th>\n",
       "      <th>normalize_quotes</th>\n",
       "      <th>date_only</th>\n",
       "      <th>election_day</th>\n",
       "      <th>views</th>\n",
       "      <th>normalize_views</th>\n",
       "    </tr>\n",
       "  </thead>\n",
       "  <tbody>\n",
       "    <tr>\n",
       "      <th>690311</th>\n",
       "      <td>135369</td>\n",
       "      <td>2018-10-25-044783</td>\n",
       "      <td>I look forward to serving the state,</td>\n",
       "      <td>JIM NEWBERGER</td>\n",
       "      <td>[Q16195713]</td>\n",
       "      <td>2018-10-25 17:52:10</td>\n",
       "      <td>1</td>\n",
       "      <td>[[Jim Newberger, 0.4517], [None, 0.4296], [Amy...</td>\n",
       "      <td>[http://duluthnewstribune.com/opinion/editoria...</td>\n",
       "      <td>E</td>\n",
       "      <td>[com]</td>\n",
       "      <td>0.427106</td>\n",
       "      <td>0.427106</td>\n",
       "      <td>2018-10-25</td>\n",
       "      <td>2018-11-01</td>\n",
       "      <td>0.675</td>\n",
       "      <td>0.288297</td>\n",
       "    </tr>\n",
       "    <tr>\n",
       "      <th>355623</th>\n",
       "      <td>41225</td>\n",
       "      <td>2017-07-28-070042</td>\n",
       "      <td>It was a victory for 15 million people who wou...</td>\n",
       "      <td>BERNIE SANDERS</td>\n",
       "      <td>[Q359442]</td>\n",
       "      <td>2017-07-28 21:18:00</td>\n",
       "      <td>1</td>\n",
       "      <td>[[Bernie Sanders, 0.6498], [None, 0.3156], [Ph...</td>\n",
       "      <td>[https://www.sevendaysvt.com/OffMessage/archiv...</td>\n",
       "      <td>E</td>\n",
       "      <td>[com]</td>\n",
       "      <td>0.418827</td>\n",
       "      <td>0.418827</td>\n",
       "      <td>2017-07-28</td>\n",
       "      <td>2018-11-01</td>\n",
       "      <td>0.675</td>\n",
       "      <td>0.282708</td>\n",
       "    </tr>\n",
       "    <tr>\n",
       "      <th>82675</th>\n",
       "      <td>82675</td>\n",
       "      <td>2015-05-16-011571</td>\n",
       "      <td>He was right to remind everyone that `you don'...</td>\n",
       "      <td>MITCH MCCONNELL</td>\n",
       "      <td>[Q355522]</td>\n",
       "      <td>2015-05-16 18:10:22</td>\n",
       "      <td>1</td>\n",
       "      <td>[[Mitch McConnell, 0.5709], [None, 0.3574], [P...</td>\n",
       "      <td>[http://thehill.com/blogs/floor-action/senate/...</td>\n",
       "      <td>E</td>\n",
       "      <td>[com]</td>\n",
       "      <td>0.880164</td>\n",
       "      <td>0.880164</td>\n",
       "      <td>2015-05-16</td>\n",
       "      <td>2020-11-01</td>\n",
       "      <td>42.070</td>\n",
       "      <td>37.028496</td>\n",
       "    </tr>\n",
       "    <tr>\n",
       "      <th>593511</th>\n",
       "      <td>38569</td>\n",
       "      <td>2018-11-28-056061</td>\n",
       "      <td>It was that you had local communities, and dis...</td>\n",
       "      <td>BEN SASSE</td>\n",
       "      <td>[Q16192221]</td>\n",
       "      <td>2018-11-28 18:56:02</td>\n",
       "      <td>2</td>\n",
       "      <td>[[Ben Sasse, 0.8736], [None, 0.1264]]</td>\n",
       "      <td>[http://www.christianpost.com/news/we-in-ameri...</td>\n",
       "      <td>E</td>\n",
       "      <td>[com, com]</td>\n",
       "      <td>0.476376</td>\n",
       "      <td>0.952751</td>\n",
       "      <td>2018-11-28</td>\n",
       "      <td>2020-11-01</td>\n",
       "      <td>1.350</td>\n",
       "      <td>0.643107</td>\n",
       "    </tr>\n",
       "    <tr>\n",
       "      <th>393989</th>\n",
       "      <td>79591</td>\n",
       "      <td>2017-03-03-017339</td>\n",
       "      <td>from something like Ossoffsky.</td>\n",
       "      <td>JON OSSOFF</td>\n",
       "      <td>[Q28839536]</td>\n",
       "      <td>2017-03-03 00:00:00</td>\n",
       "      <td>3</td>\n",
       "      <td>[[JON OSSOFF, 0.8146], [None, 0.1662], [Jere W...</td>\n",
       "      <td>[http://www.newyorker.com/news/news-desk/can-t...</td>\n",
       "      <td>E</td>\n",
       "      <td>[com, com, com]</td>\n",
       "      <td>0.403952</td>\n",
       "      <td>1.211855</td>\n",
       "      <td>2017-03-03</td>\n",
       "      <td>2020-11-01</td>\n",
       "      <td>2.025</td>\n",
       "      <td>0.818002</td>\n",
       "    </tr>\n",
       "  </tbody>\n",
       "</table>\n",
       "</div>"
      ],
      "text/plain": [
       "         index            quoteID  \\\n",
       "690311  135369  2018-10-25-044783   \n",
       "355623   41225  2017-07-28-070042   \n",
       "82675    82675  2015-05-16-011571   \n",
       "593511   38569  2018-11-28-056061   \n",
       "393989   79591  2017-03-03-017339   \n",
       "\n",
       "                                                quotation          speaker  \\\n",
       "690311               I look forward to serving the state,    JIM NEWBERGER   \n",
       "355623  It was a victory for 15 million people who wou...   BERNIE SANDERS   \n",
       "82675   He was right to remind everyone that `you don'...  MITCH MCCONNELL   \n",
       "593511  It was that you had local communities, and dis...        BEN SASSE   \n",
       "393989                     from something like Ossoffsky.       JON OSSOFF   \n",
       "\n",
       "               qids                date  numOccurrences  \\\n",
       "690311  [Q16195713] 2018-10-25 17:52:10               1   \n",
       "355623    [Q359442] 2017-07-28 21:18:00               1   \n",
       "82675     [Q355522] 2015-05-16 18:10:22               1   \n",
       "593511  [Q16192221] 2018-11-28 18:56:02               2   \n",
       "393989  [Q28839536] 2017-03-03 00:00:00               3   \n",
       "\n",
       "                                                   probas  \\\n",
       "690311  [[Jim Newberger, 0.4517], [None, 0.4296], [Amy...   \n",
       "355623  [[Bernie Sanders, 0.6498], [None, 0.3156], [Ph...   \n",
       "82675   [[Mitch McConnell, 0.5709], [None, 0.3574], [P...   \n",
       "593511              [[Ben Sasse, 0.8736], [None, 0.1264]]   \n",
       "393989  [[JON OSSOFF, 0.8146], [None, 0.1662], [Jere W...   \n",
       "\n",
       "                                                     urls phase  \\\n",
       "690311  [http://duluthnewstribune.com/opinion/editoria...     E   \n",
       "355623  [https://www.sevendaysvt.com/OffMessage/archiv...     E   \n",
       "82675   [http://thehill.com/blogs/floor-action/senate/...     E   \n",
       "593511  [http://www.christianpost.com/news/we-in-ameri...     E   \n",
       "393989  [http://www.newyorker.com/news/news-desk/can-t...     E   \n",
       "\n",
       "                domains  normalize_factor  normalize_quotes   date_only  \\\n",
       "690311            [com]          0.427106          0.427106  2018-10-25   \n",
       "355623            [com]          0.418827          0.418827  2017-07-28   \n",
       "82675             [com]          0.880164          0.880164  2015-05-16   \n",
       "593511       [com, com]          0.476376          0.952751  2018-11-28   \n",
       "393989  [com, com, com]          0.403952          1.211855  2017-03-03   \n",
       "\n",
       "       election_day   views  normalize_views  \n",
       "690311   2018-11-01   0.675         0.288297  \n",
       "355623   2018-11-01   0.675         0.282708  \n",
       "82675    2020-11-01  42.070        37.028496  \n",
       "593511   2020-11-01   1.350         0.643107  \n",
       "393989   2020-11-01   2.025         0.818002  "
      ]
     },
     "execution_count": 31,
     "metadata": {},
     "output_type": "execute_result"
    }
   ],
   "source": [
    "# Multiply views by normalization factors\n",
    "candidate_quotes['normalize_views'] = candidate_quotes['views']*candidate_quotes['normalize_factor']\n",
    "candidate_quotes.sample(5)"
   ]
  },
  {
   "cell_type": "code",
   "execution_count": 32,
   "id": "c40427e3",
   "metadata": {},
   "outputs": [
    {
     "name": "stdout",
     "output_type": "stream",
     "text": [
      "For quotes mentioning candidates, we found 63187 numbers of quotation occurrences from top 30\n"
     ]
    }
   ],
   "source": [
    "# assign weights to quotes mentioning candidates\n",
    "n_hit = 0\n",
    "for i in candidate_quotes_mention.index:\n",
    "    urls = candidate_quotes_mention.at[i,'urls']\n",
    "    weight_ = 0\n",
    "    for url in urls: # Some URL here is actually a list (there are lists in list), not sure why it happens\n",
    "        webdomain = get_tld(url, as_object=True).domain # when it is a list, the multiply urls point to the same website\n",
    "        if webdomain in weight_dict.keys():\n",
    "            weight_ = weight_ + weight_dict[webdomain]\n",
    "            n_hit = n_hit + 1\n",
    "        else:\n",
    "            weight_ = weight_ + random_view\n",
    "    candidate_quotes_mention.at[i,'views'] = weight_ \n",
    "print('For quotes mentioning candidates, we found {} numbers of quotation occurrences from top 30'.format(n_hit))"
   ]
  },
  {
   "cell_type": "code",
   "execution_count": 33,
   "id": "157f9716",
   "metadata": {},
   "outputs": [
    {
     "data": {
      "text/html": [
       "<div>\n",
       "<style scoped>\n",
       "    .dataframe tbody tr th:only-of-type {\n",
       "        vertical-align: middle;\n",
       "    }\n",
       "\n",
       "    .dataframe tbody tr th {\n",
       "        vertical-align: top;\n",
       "    }\n",
       "\n",
       "    .dataframe thead th {\n",
       "        text-align: right;\n",
       "    }\n",
       "</style>\n",
       "<table border=\"1\" class=\"dataframe\">\n",
       "  <thead>\n",
       "    <tr style=\"text-align: right;\">\n",
       "      <th></th>\n",
       "      <th>index</th>\n",
       "      <th>quoteID</th>\n",
       "      <th>quotation</th>\n",
       "      <th>speaker</th>\n",
       "      <th>qids</th>\n",
       "      <th>date</th>\n",
       "      <th>numOccurrences</th>\n",
       "      <th>probas</th>\n",
       "      <th>urls</th>\n",
       "      <th>phase</th>\n",
       "      <th>mention</th>\n",
       "      <th>domains</th>\n",
       "      <th>date_only</th>\n",
       "      <th>normalize_factor</th>\n",
       "      <th>normalize_quotes</th>\n",
       "      <th>election_day</th>\n",
       "      <th>views</th>\n",
       "      <th>normalize_views</th>\n",
       "    </tr>\n",
       "  </thead>\n",
       "  <tbody>\n",
       "    <tr>\n",
       "      <th>67816</th>\n",
       "      <td>19812</td>\n",
       "      <td>2018-11-08-060420</td>\n",
       "      <td>It is sad and embarrassing that Bill Nelson wo...</td>\n",
       "      <td>Gov. Rick Scott</td>\n",
       "      <td>[Q439729]</td>\n",
       "      <td>2018-11-08 18:31:42</td>\n",
       "      <td>2</td>\n",
       "      <td>[[Gov. Rick Scott, 0.4812], [None, 0.4134], [M...</td>\n",
       "      <td>[http://mobile.nytimes.com/2018/11/08/us/flori...</td>\n",
       "      <td>E</td>\n",
       "      <td>BILL NELSON</td>\n",
       "      <td>[com, com]</td>\n",
       "      <td>2018-11-08</td>\n",
       "      <td>0.476376</td>\n",
       "      <td>0.952751</td>\n",
       "      <td>2018-11-01</td>\n",
       "      <td>250.975</td>\n",
       "      <td>119.558362</td>\n",
       "    </tr>\n",
       "    <tr>\n",
       "      <th>92885</th>\n",
       "      <td>6900</td>\n",
       "      <td>2020-03-23-047611</td>\n",
       "      <td>President Trump and Mitch McConnell are trying...</td>\n",
       "      <td>Mitch McConnell</td>\n",
       "      <td>[Q355522]</td>\n",
       "      <td>2020-03-23 15:40:00</td>\n",
       "      <td>4</td>\n",
       "      <td>[[Mitch McConnell, 0.5638], [Joe Biden, 0.2166...</td>\n",
       "      <td>[https://www.news965.com/blog/jamie-dupree/bid...</td>\n",
       "      <td>E</td>\n",
       "      <td>MITCH MCCONNELL</td>\n",
       "      <td>[com, com, com, com]</td>\n",
       "      <td>2020-03-23</td>\n",
       "      <td>0.755660</td>\n",
       "      <td>3.022639</td>\n",
       "      <td>2020-11-01</td>\n",
       "      <td>23.705</td>\n",
       "      <td>17.912913</td>\n",
       "    </tr>\n",
       "    <tr>\n",
       "      <th>54416</th>\n",
       "      <td>6412</td>\n",
       "      <td>2018-08-03-072561</td>\n",
       "      <td>Such an exciting day having lunch with @denise...</td>\n",
       "      <td>Rebecca Romijn</td>\n",
       "      <td>[Q202792]</td>\n",
       "      <td>2018-08-03 14:00:04</td>\n",
       "      <td>1</td>\n",
       "      <td>[[Rebecca Romijn, 0.7987], [None, 0.1085], [De...</td>\n",
       "      <td>[http://www.bustle.com/p/andy-cohen-wants-deni...</td>\n",
       "      <td>E</td>\n",
       "      <td>AARON DAY</td>\n",
       "      <td>[com]</td>\n",
       "      <td>2018-08-03</td>\n",
       "      <td>0.497688</td>\n",
       "      <td>0.497688</td>\n",
       "      <td>2016-11-01</td>\n",
       "      <td>0.675</td>\n",
       "      <td>0.335939</td>\n",
       "    </tr>\n",
       "    <tr>\n",
       "      <th>8391</th>\n",
       "      <td>8391</td>\n",
       "      <td>2015-12-01-091672</td>\n",
       "      <td>Ted Cruz's track record has a lot to attack, w...</td>\n",
       "      <td>None</td>\n",
       "      <td>[]</td>\n",
       "      <td>2015-12-01 17:45:24</td>\n",
       "      <td>1</td>\n",
       "      <td>[[None, 0.7958], [Ted Cruz, 0.1474], [Mitch Mc...</td>\n",
       "      <td>[http://www.theblaze.com/stories/2015/12/01/ey...</td>\n",
       "      <td>E</td>\n",
       "      <td>TED CRUZ</td>\n",
       "      <td>[com]</td>\n",
       "      <td>2015-12-01</td>\n",
       "      <td>0.477546</td>\n",
       "      <td>0.477546</td>\n",
       "      <td>2018-11-01</td>\n",
       "      <td>0.675</td>\n",
       "      <td>0.322344</td>\n",
       "    </tr>\n",
       "    <tr>\n",
       "      <th>392</th>\n",
       "      <td>392</td>\n",
       "      <td>2015-09-22-132120</td>\n",
       "      <td>When I was singing to records, I was listening...</td>\n",
       "      <td>Joanne Shaw Taylor</td>\n",
       "      <td>[Q4160356]</td>\n",
       "      <td>2015-09-22 13:44:00</td>\n",
       "      <td>1</td>\n",
       "      <td>[[Joanne Shaw Taylor, 0.4182], [None, 0.3416],...</td>\n",
       "      <td>[http://exeterexpressandecho.co.uk/British-blu...</td>\n",
       "      <td>E</td>\n",
       "      <td>DOUG COLLINS</td>\n",
       "      <td>[co.uk]</td>\n",
       "      <td>2015-09-22</td>\n",
       "      <td>0.447555</td>\n",
       "      <td>0.447555</td>\n",
       "      <td>2020-11-01</td>\n",
       "      <td>0.675</td>\n",
       "      <td>0.302099</td>\n",
       "    </tr>\n",
       "  </tbody>\n",
       "</table>\n",
       "</div>"
      ],
      "text/plain": [
       "       index            quoteID  \\\n",
       "67816  19812  2018-11-08-060420   \n",
       "92885   6900  2020-03-23-047611   \n",
       "54416   6412  2018-08-03-072561   \n",
       "8391    8391  2015-12-01-091672   \n",
       "392      392  2015-09-22-132120   \n",
       "\n",
       "                                               quotation             speaker  \\\n",
       "67816  It is sad and embarrassing that Bill Nelson wo...     Gov. Rick Scott   \n",
       "92885  President Trump and Mitch McConnell are trying...     Mitch McConnell   \n",
       "54416  Such an exciting day having lunch with @denise...      Rebecca Romijn   \n",
       "8391   Ted Cruz's track record has a lot to attack, w...                None   \n",
       "392    When I was singing to records, I was listening...  Joanne Shaw Taylor   \n",
       "\n",
       "             qids                date  numOccurrences  \\\n",
       "67816   [Q439729] 2018-11-08 18:31:42               2   \n",
       "92885   [Q355522] 2020-03-23 15:40:00               4   \n",
       "54416   [Q202792] 2018-08-03 14:00:04               1   \n",
       "8391           [] 2015-12-01 17:45:24               1   \n",
       "392    [Q4160356] 2015-09-22 13:44:00               1   \n",
       "\n",
       "                                                  probas  \\\n",
       "67816  [[Gov. Rick Scott, 0.4812], [None, 0.4134], [M...   \n",
       "92885  [[Mitch McConnell, 0.5638], [Joe Biden, 0.2166...   \n",
       "54416  [[Rebecca Romijn, 0.7987], [None, 0.1085], [De...   \n",
       "8391   [[None, 0.7958], [Ted Cruz, 0.1474], [Mitch Mc...   \n",
       "392    [[Joanne Shaw Taylor, 0.4182], [None, 0.3416],...   \n",
       "\n",
       "                                                    urls phase  \\\n",
       "67816  [http://mobile.nytimes.com/2018/11/08/us/flori...     E   \n",
       "92885  [https://www.news965.com/blog/jamie-dupree/bid...     E   \n",
       "54416  [http://www.bustle.com/p/andy-cohen-wants-deni...     E   \n",
       "8391   [http://www.theblaze.com/stories/2015/12/01/ey...     E   \n",
       "392    [http://exeterexpressandecho.co.uk/British-blu...     E   \n",
       "\n",
       "               mention               domains   date_only  normalize_factor  \\\n",
       "67816      BILL NELSON            [com, com]  2018-11-08          0.476376   \n",
       "92885  MITCH MCCONNELL  [com, com, com, com]  2020-03-23          0.755660   \n",
       "54416        AARON DAY                 [com]  2018-08-03          0.497688   \n",
       "8391          TED CRUZ                 [com]  2015-12-01          0.477546   \n",
       "392       DOUG COLLINS               [co.uk]  2015-09-22          0.447555   \n",
       "\n",
       "       normalize_quotes election_day    views  normalize_views  \n",
       "67816          0.952751   2018-11-01  250.975       119.558362  \n",
       "92885          3.022639   2020-11-01   23.705        17.912913  \n",
       "54416          0.497688   2016-11-01    0.675         0.335939  \n",
       "8391           0.477546   2018-11-01    0.675         0.322344  \n",
       "392            0.447555   2020-11-01    0.675         0.302099  "
      ]
     },
     "execution_count": 33,
     "metadata": {},
     "output_type": "execute_result"
    }
   ],
   "source": [
    "# Multiply views by normalization factors\n",
    "candidate_quotes_mention['normalize_views'] = candidate_quotes_mention['views']*candidate_quotes_mention['normalize_factor']\n",
    "candidate_quotes_mention.sample(5)"
   ]
  },
  {
   "cell_type": "markdown",
   "id": "b51e738a",
   "metadata": {},
   "source": [
    "**2.3** We repeat the protocol in section **1.2-1.3** to examine the effect of weighted quotations by candidates on their election results "
   ]
  },
  {
   "cell_type": "code",
   "execution_count": 34,
   "id": "56a35498",
   "metadata": {},
   "outputs": [
    {
     "data": {
      "text/plain": [
       "speaker           date_only \n",
       "A. WAYNE JOHNSON  2015-01-06    0.406348\n",
       "                  2015-02-09    0.406745\n",
       "                  2015-02-11    0.813489\n",
       "                  2015-02-20    0.406745\n",
       "                  2015-03-01    0.361366\n",
       "                                  ...   \n",
       "ZAK RINGELSTEIN   2018-10-30    3.459560\n",
       "                  2018-11-01    1.607768\n",
       "                  2018-11-05    0.321554\n",
       "                  2018-11-07    0.321554\n",
       "                  2019-03-21    0.340118\n",
       "Name: normalize_views, Length: 136070, dtype: float64"
      ]
     },
     "execution_count": 34,
     "metadata": {},
     "output_type": "execute_result"
    }
   ],
   "source": [
    "# Clean the names by taking only upper case\n",
    "# Group the candidate total number of quotes by day\n",
    "candidate_quotes['speaker'] = candidate_quotes['speaker'].str.upper()\n",
    "candidate_quotes['date_only'] = candidate_quotes['date'].dt.date\n",
    "candidate_views_byday = candidate_quotes.groupby(['speaker', 'date_only'])['normalize_views'].sum()\n",
    "candidate_views_byday"
   ]
  },
  {
   "cell_type": "code",
   "execution_count": 35,
   "id": "2c48ef66",
   "metadata": {
    "scrolled": true
   },
   "outputs": [
    {
     "data": {
      "text/plain": [
       "Text(0.5, 1.0, 'Bernie Sanders')"
      ]
     },
     "execution_count": 35,
     "metadata": {},
     "output_type": "execute_result"
    },
    {
     "data": {
      "image/png": "[encoded data removed]",
      "text/plain": [
       "<Figure size 432x288 with 1 Axes>"
      ]
     },
     "metadata": {
      "needs_background": "light"
     },
     "output_type": "display_data"
    }
   ],
   "source": [
    "# For example, we can visualize the quotation changes of Bernie Sanders\n",
    "candidate_quotes_byday['BERNIE SANDERS'].rolling(window=30).sum().plot() # one months average\n",
    "plt.xlabel('time')\n",
    "plt.xticks(rotation=90)\n",
    "plt.ylabel('Weight Quotes: Said')\n",
    "plt.title('Bernie Sanders')"
   ]
  },
  {
   "cell_type": "code",
   "execution_count": 36,
   "id": "bddc3da3",
   "metadata": {},
   "outputs": [],
   "source": [
    "# We group weighted quotations (audience views) by election day\n",
    "quotes_byelection = candidate_quotes[candidate_quotes['date_only'] < candidate_quotes['election_day']]\n",
    "views_byelection = pd.DataFrame(quotes_byelection.groupby(['speaker'])['normalize_views'].sum())\n",
    "views_byelection.rename(columns = {'normalize_views': 'views_byelection'}, inplace=True)"
   ]
  },
  {
   "cell_type": "code",
   "execution_count": 37,
   "id": "6dd92364",
   "metadata": {},
   "outputs": [
    {
     "name": "stdout",
     "output_type": "stream",
     "text": [
      "Pearson coefficient: 0.6234484341423224, p value: 1.842289412561934e-27\n"
     ]
    },
    {
     "data": {
      "image/png": "[encoded data removed]",
      "text/plain": [
       "<Figure size 432x288 with 1 Axes>"
      ]
     },
     "metadata": {
      "needs_background": "light"
     },
     "output_type": "display_data"
    }
   ],
   "source": [
    "# We add the vote rate and plot the scatter plot of vote rate against total quotes by election\n",
    "from scipy.stats import pearsonr\n",
    "views_byelection['vote_rate'] = views_byelection.index.map(candidate_info_byname['vote_rate'])\n",
    "views_vote = views_byelection.plot.scatter(x = 'views_byelection', y = 'vote_rate', logx=True)\n",
    "(corr1, pvalue) = pearsonr(np.log(views_byelection['views_byelection']), views_byelection['vote_rate'])\n",
    "print(f'Pearson coefficient: {corr1}, p value: {pvalue}')"
   ]
  },
  {
   "cell_type": "markdown",
   "id": "d9ec06fe",
   "metadata": {},
   "source": [
    "\n",
    "We notice very little change in the Pearson coefficient and p-value when comparing the result to section **1.3** (where we did not weigh the quotes by website views). "
   ]
  },
  {
   "cell_type": "markdown",
   "id": "97b34976",
   "metadata": {},
   "source": [
    "**2.4** We repeat the protocol in section **1.4** to examine the effect of weighted quotations mentioning candidates on their election results"
   ]
  },
  {
   "cell_type": "code",
   "execution_count": 38,
   "id": "5f05e086",
   "metadata": {},
   "outputs": [
    {
     "data": {
      "text/plain": [
       "mention           date_only \n",
       "A. WAYNE JOHNSON  2015-01-16      0.406348\n",
       "                  2015-08-04    153.408265\n",
       "                  2015-12-11      0.644688\n",
       "                  2017-02-12      1.404049\n",
       "                  2017-05-28      0.270903\n",
       "                                   ...    \n",
       "WILLIE L. WILSON  2019-03-30      0.340118\n",
       "                  2019-07-16     28.203418\n",
       "                  2019-11-04     11.759805\n",
       "ZAK RINGELSTEIN   2018-06-22      0.325350\n",
       "                  2018-10-24      0.288297\n",
       "Name: normalize_views, Length: 34904, dtype: float64"
      ]
     },
     "execution_count": 38,
     "metadata": {},
     "output_type": "execute_result"
    }
   ],
   "source": [
    "# obtain normalized views by day\n",
    "candidate_quotes_mention_byday = candidate_quotes_mention.groupby(['mention', 'date_only'])['normalize_views'].sum()\n",
    "candidate_quotes_mention_byday"
   ]
  },
  {
   "cell_type": "code",
   "execution_count": 39,
   "id": "6d00d21d",
   "metadata": {},
   "outputs": [
    {
     "data": {
      "text/plain": [
       "Text(0.5, 1.0, 'Bernie Sanders')"
      ]
     },
     "execution_count": 39,
     "metadata": {},
     "output_type": "execute_result"
    },
    {
     "data": {
      "image/png": "[encoded data removed]",
      "text/plain": [
       "<Figure size 432x288 with 1 Axes>"
      ]
     },
     "metadata": {
      "needs_background": "light"
     },
     "output_type": "display_data"
    }
   ],
   "source": [
    "# For example, we can visualize the normalized view changes of Bernie Sanders\n",
    "candidate_quotes_mention_byday['BERNIE SANDERS'].rolling(window=30).sum().plot() # one months average\n",
    "plt.xlabel('time')\n",
    "plt.ylabel('Quoted numbers: Mention')\n",
    "plt.title('Bernie Sanders')"
   ]
  },
  {
   "cell_type": "code",
   "execution_count": 40,
   "id": "ad1f1e0e",
   "metadata": {},
   "outputs": [
    {
     "name": "stdout",
     "output_type": "stream",
     "text": [
      "Pearson coefficient: 0.5944534670274673, p value: 3.416648866161509e-29\n"
     ]
    },
    {
     "data": {
      "image/png": "[encoded data removed]",
      "text/plain": [
       "<Figure size 432x288 with 1 Axes>"
      ]
     },
     "metadata": {
      "needs_background": "light"
     },
     "output_type": "display_data"
    }
   ],
   "source": [
    "from scipy.stats import pearsonr\n",
    "\n",
    "# We group the number of normalized views before election day\n",
    "quotes_byelection = candidate_quotes_mention[candidate_quotes_mention['date_only'] < candidate_quotes_mention['election_day']]\n",
    "tot_quotes_byelection = pd.DataFrame(quotes_byelection.groupby(['mention'])['normalize_views'].sum())\n",
    "tot_quotes_byelection.rename(columns = {'normalize_views': 'total_views_byelection'}, inplace=True)\n",
    "\n",
    "# We add the vote rate and plot the scatter plot of vote rate against total quotes by election\n",
    "tot_quotes_byelection['vote_rate'] = tot_quotes_byelection.index.map(candidate_info_byname['vote_rate'])\n",
    "\n",
    "# linear regression\n",
    "quotes_vote = tot_quotes_byelection.plot.scatter(x = 'total_views_byelection', y = 'vote_rate', logx=True)\n",
    "(corr1, pvalue) = pearsonr(np.log(tot_quotes_byelection['total_views_byelection']), tot_quotes_byelection['vote_rate'])\n",
    "print(f'Pearson coefficient: {corr1}, p value: {pvalue}')"
   ]
  },
  {
   "cell_type": "markdown",
   "id": "b82a3c76",
   "metadata": {},
   "source": [
    "Again, we notice very little change in the Pearson coefficient and p-value when comparing the result to section **1.4** (where we did not weigh the quotes by website views). "
   ]
  },
  {
   "cell_type": "markdown",
   "id": "3427df77",
   "metadata": {},
   "source": [
    "# 3. Clustering the quotation data\n",
    "To answer our proposed question 3, we clustered the quotation data to find different exposure-gaining process."
   ]
  },
  {
   "cell_type": "markdown",
   "id": "9bab413f",
   "metadata": {},
   "source": [
    "We will extract feature for each senate candidate."
   ]
  },
  {
   "cell_type": "code",
   "execution_count": 41,
   "id": "1a055bfc",
   "metadata": {},
   "outputs": [
    {
     "data": {
      "text/html": [
       "<div>\n",
       "<style scoped>\n",
       "    .dataframe tbody tr th:only-of-type {\n",
       "        vertical-align: middle;\n",
       "    }\n",
       "\n",
       "    .dataframe tbody tr th {\n",
       "        vertical-align: top;\n",
       "    }\n",
       "\n",
       "    .dataframe thead th {\n",
       "        text-align: right;\n",
       "    }\n",
       "</style>\n",
       "<table border=\"1\" class=\"dataframe\">\n",
       "  <thead>\n",
       "    <tr style=\"text-align: right;\">\n",
       "      <th></th>\n",
       "      <th>index</th>\n",
       "      <th>quoteID</th>\n",
       "      <th>quotation</th>\n",
       "      <th>speaker</th>\n",
       "      <th>qids</th>\n",
       "      <th>date</th>\n",
       "      <th>numOccurrences</th>\n",
       "      <th>probas</th>\n",
       "      <th>urls</th>\n",
       "      <th>phase</th>\n",
       "      <th>domains</th>\n",
       "      <th>normalize_factor</th>\n",
       "      <th>normalize_quotes</th>\n",
       "      <th>date_only</th>\n",
       "      <th>election_day</th>\n",
       "      <th>views</th>\n",
       "      <th>normalize_views</th>\n",
       "      <th>days_before_election</th>\n",
       "    </tr>\n",
       "  </thead>\n",
       "  <tbody>\n",
       "    <tr>\n",
       "      <th>1073628</th>\n",
       "      <td>36398</td>\n",
       "      <td>2020-01-11-043513</td>\n",
       "      <td>They can look at something that is unequivocal...</td>\n",
       "      <td>TOM COTTON</td>\n",
       "      <td>[Q3090307]</td>\n",
       "      <td>2020-01-11 22:22:52</td>\n",
       "      <td>1</td>\n",
       "      <td>[[Tom Cotton, 0.8149], [None, 0.1371], [Presid...</td>\n",
       "      <td>[http://www.breitbart.com/politics/2020/01/11/...</td>\n",
       "      <td>E</td>\n",
       "      <td>[com]</td>\n",
       "      <td>0.577288</td>\n",
       "      <td>0.577288</td>\n",
       "      <td>2020-01-11</td>\n",
       "      <td>2020-11-01</td>\n",
       "      <td>42.19</td>\n",
       "      <td>24.355776</td>\n",
       "      <td>295</td>\n",
       "    </tr>\n",
       "    <tr>\n",
       "      <th>881381</th>\n",
       "      <td>72928</td>\n",
       "      <td>2019-02-08-088742</td>\n",
       "      <td>The interest here is that there be free and fa...</td>\n",
       "      <td>MARCO RUBIO</td>\n",
       "      <td>[Q324546]</td>\n",
       "      <td>2019-02-08 04:04:35</td>\n",
       "      <td>2</td>\n",
       "      <td>[[Marco Rubio, 0.8098], [None, 0.1861], [Nicol...</td>\n",
       "      <td>[http://wftv.com/news/local/rubio-all-options-...</td>\n",
       "      <td>E</td>\n",
       "      <td>[com, com]</td>\n",
       "      <td>0.541812</td>\n",
       "      <td>1.083623</td>\n",
       "      <td>2019-02-08</td>\n",
       "      <td>2016-11-01</td>\n",
       "      <td>3.10</td>\n",
       "      <td>1.679616</td>\n",
       "      <td>-829</td>\n",
       "    </tr>\n",
       "    <tr>\n",
       "      <th>813377</th>\n",
       "      <td>4924</td>\n",
       "      <td>2019-09-16-064961</td>\n",
       "      <td>READ stunning NYT CORRECTION. If a high-school...</td>\n",
       "      <td>TED CRUZ</td>\n",
       "      <td>[Q2036942]</td>\n",
       "      <td>2019-09-16 19:52:24</td>\n",
       "      <td>1</td>\n",
       "      <td>[[Ted Cruz, 0.8623], [None, 0.1217], [Brett Ka...</td>\n",
       "      <td>[http://www.breitbart.com/politics/2019/09/16/...</td>\n",
       "      <td>E</td>\n",
       "      <td>[com]</td>\n",
       "      <td>0.543010</td>\n",
       "      <td>0.543010</td>\n",
       "      <td>2019-09-16</td>\n",
       "      <td>2018-11-01</td>\n",
       "      <td>42.19</td>\n",
       "      <td>22.909576</td>\n",
       "      <td>-319</td>\n",
       "    </tr>\n",
       "    <tr>\n",
       "      <th>969983</th>\n",
       "      <td>161530</td>\n",
       "      <td>2019-05-26-001965</td>\n",
       "      <td>All of the stakeholders came together to reall...</td>\n",
       "      <td>KARIN HOUSLEY</td>\n",
       "      <td>[Q16195595]</td>\n",
       "      <td>2019-05-26 11:52:10</td>\n",
       "      <td>2</td>\n",
       "      <td>[[Karin Housley, 0.8808], [None, 0.1193]]</td>\n",
       "      <td>[https://minnesota.cbslocal.com/2019/05/26/mn-...</td>\n",
       "      <td>E</td>\n",
       "      <td>[com, com]</td>\n",
       "      <td>0.488273</td>\n",
       "      <td>0.976546</td>\n",
       "      <td>2019-05-26</td>\n",
       "      <td>2018-11-01</td>\n",
       "      <td>1.35</td>\n",
       "      <td>0.659169</td>\n",
       "      <td>-206</td>\n",
       "    </tr>\n",
       "  </tbody>\n",
       "</table>\n",
       "</div>"
      ],
      "text/plain": [
       "          index            quoteID  \\\n",
       "1073628   36398  2020-01-11-043513   \n",
       "881381    72928  2019-02-08-088742   \n",
       "813377     4924  2019-09-16-064961   \n",
       "969983   161530  2019-05-26-001965   \n",
       "\n",
       "                                                 quotation        speaker  \\\n",
       "1073628  They can look at something that is unequivocal...     TOM COTTON   \n",
       "881381   The interest here is that there be free and fa...    MARCO RUBIO   \n",
       "813377   READ stunning NYT CORRECTION. If a high-school...       TED CRUZ   \n",
       "969983   All of the stakeholders came together to reall...  KARIN HOUSLEY   \n",
       "\n",
       "                qids                date  numOccurrences  \\\n",
       "1073628   [Q3090307] 2020-01-11 22:22:52               1   \n",
       "881381     [Q324546] 2019-02-08 04:04:35               2   \n",
       "813377    [Q2036942] 2019-09-16 19:52:24               1   \n",
       "969983   [Q16195595] 2019-05-26 11:52:10               2   \n",
       "\n",
       "                                                    probas  \\\n",
       "1073628  [[Tom Cotton, 0.8149], [None, 0.1371], [Presid...   \n",
       "881381   [[Marco Rubio, 0.8098], [None, 0.1861], [Nicol...   \n",
       "813377   [[Ted Cruz, 0.8623], [None, 0.1217], [Brett Ka...   \n",
       "969983           [[Karin Housley, 0.8808], [None, 0.1193]]   \n",
       "\n",
       "                                                      urls phase     domains  \\\n",
       "1073628  [http://www.breitbart.com/politics/2020/01/11/...     E       [com]   \n",
       "881381   [http://wftv.com/news/local/rubio-all-options-...     E  [com, com]   \n",
       "813377   [http://www.breitbart.com/politics/2019/09/16/...     E       [com]   \n",
       "969983   [https://minnesota.cbslocal.com/2019/05/26/mn-...     E  [com, com]   \n",
       "\n",
       "         normalize_factor  normalize_quotes   date_only election_day  views  \\\n",
       "1073628          0.577288          0.577288  2020-01-11   2020-11-01  42.19   \n",
       "881381           0.541812          1.083623  2019-02-08   2016-11-01   3.10   \n",
       "813377           0.543010          0.543010  2019-09-16   2018-11-01  42.19   \n",
       "969983           0.488273          0.976546  2019-05-26   2018-11-01   1.35   \n",
       "\n",
       "         normalize_views  days_before_election  \n",
       "1073628        24.355776                   295  \n",
       "881381          1.679616                  -829  \n",
       "813377         22.909576                  -319  \n",
       "969983          0.659169                  -206  "
      ]
     },
     "execution_count": 41,
     "metadata": {},
     "output_type": "execute_result"
    }
   ],
   "source": [
    "candidate_quotes['days_before_election'] = pd.to_datetime(candidate_quotes['election_day'])- pd.to_datetime(candidate_quotes['date_only'])\n",
    "candidate_quotes['days_before_election'] = candidate_quotes['days_before_election'].map(lambda x:x.days)\n",
    "candidate_quotes.sample(4)"
   ]
  },
  {
   "cell_type": "code",
   "execution_count": 42,
   "id": "51db1155",
   "metadata": {},
   "outputs": [
    {
     "data": {
      "text/html": [
       "<div>\n",
       "<style scoped>\n",
       "    .dataframe tbody tr th:only-of-type {\n",
       "        vertical-align: middle;\n",
       "    }\n",
       "\n",
       "    .dataframe tbody tr th {\n",
       "        vertical-align: top;\n",
       "    }\n",
       "\n",
       "    .dataframe thead th {\n",
       "        text-align: right;\n",
       "    }\n",
       "</style>\n",
       "<table border=\"1\" class=\"dataframe\">\n",
       "  <thead>\n",
       "    <tr style=\"text-align: right;\">\n",
       "      <th></th>\n",
       "      <th>index</th>\n",
       "      <th>quoteID</th>\n",
       "      <th>quotation</th>\n",
       "      <th>speaker</th>\n",
       "      <th>qids</th>\n",
       "      <th>date</th>\n",
       "      <th>numOccurrences</th>\n",
       "      <th>probas</th>\n",
       "      <th>urls</th>\n",
       "      <th>phase</th>\n",
       "      <th>domains</th>\n",
       "      <th>normalize_factor</th>\n",
       "      <th>normalize_quotes</th>\n",
       "      <th>date_only</th>\n",
       "      <th>election_day</th>\n",
       "      <th>views</th>\n",
       "      <th>normalize_views</th>\n",
       "      <th>days_before_election</th>\n",
       "    </tr>\n",
       "  </thead>\n",
       "  <tbody>\n",
       "    <tr>\n",
       "      <th>258916</th>\n",
       "      <td>67332</td>\n",
       "      <td>2016-02-22-010440</td>\n",
       "      <td>Because this campaign now has repeatedly done ...</td>\n",
       "      <td>MARCO RUBIO</td>\n",
       "      <td>[Q324546]</td>\n",
       "      <td>2016-02-22 21:20:01</td>\n",
       "      <td>1</td>\n",
       "      <td>[[Marco Rubio, 0.6456], [None, 0.2739], [Rafae...</td>\n",
       "      <td>[http://cbsnews.com/news/marco-rubio-calls-for...</td>\n",
       "      <td>E</td>\n",
       "      <td>[com]</td>\n",
       "      <td>0.959534</td>\n",
       "      <td>0.959534</td>\n",
       "      <td>2016-02-22</td>\n",
       "      <td>2016-11-01</td>\n",
       "      <td>24.880</td>\n",
       "      <td>23.873196</td>\n",
       "      <td>253</td>\n",
       "    </tr>\n",
       "    <tr>\n",
       "      <th>727203</th>\n",
       "      <td>172261</td>\n",
       "      <td>2018-02-22-113108</td>\n",
       "      <td>That is a message that resonates with young pe...</td>\n",
       "      <td>TED CRUZ</td>\n",
       "      <td>[Q2036942]</td>\n",
       "      <td>2018-02-22 21:14:04</td>\n",
       "      <td>1</td>\n",
       "      <td>[[Ted Cruz, 0.8032], [None, 0.1968]]</td>\n",
       "      <td>[https://www.westernjournal.com/cruz-exposes-w...</td>\n",
       "      <td>E</td>\n",
       "      <td>[com]</td>\n",
       "      <td>0.401482</td>\n",
       "      <td>0.401482</td>\n",
       "      <td>2018-02-22</td>\n",
       "      <td>2018-11-01</td>\n",
       "      <td>0.675</td>\n",
       "      <td>0.271000</td>\n",
       "      <td>252</td>\n",
       "    </tr>\n",
       "    <tr>\n",
       "      <th>275576</th>\n",
       "      <td>83992</td>\n",
       "      <td>2016-02-23-134775</td>\n",
       "      <td>This is about a lame-duck president who will b...</td>\n",
       "      <td>JOHN MCCAIN</td>\n",
       "      <td>[Q10390]</td>\n",
       "      <td>2016-02-23 08:47:34</td>\n",
       "      <td>1</td>\n",
       "      <td>[[John McCain, 0.8838], [None, 0.1053], [Clare...</td>\n",
       "      <td>[http://azcentral.com/story/opinion/op-ed/ej-m...</td>\n",
       "      <td>E</td>\n",
       "      <td>[com]</td>\n",
       "      <td>0.959534</td>\n",
       "      <td>0.959534</td>\n",
       "      <td>2016-02-23</td>\n",
       "      <td>2016-11-01</td>\n",
       "      <td>0.675</td>\n",
       "      <td>0.647685</td>\n",
       "      <td>252</td>\n",
       "    </tr>\n",
       "    <tr>\n",
       "      <th>610080</th>\n",
       "      <td>55138</td>\n",
       "      <td>2018-01-15-047231</td>\n",
       "      <td>it must support national and international pol...</td>\n",
       "      <td>BERNIE SANDERS</td>\n",
       "      <td>[Q359442]</td>\n",
       "      <td>2018-01-15 18:30:15</td>\n",
       "      <td>1</td>\n",
       "      <td>[[Bernie Sanders, 0.8879], [None, 0.1121]]</td>\n",
       "      <td>[http://alternet.org/news-amp-politics/bernie-...</td>\n",
       "      <td>E</td>\n",
       "      <td>[org]</td>\n",
       "      <td>0.402250</td>\n",
       "      <td>0.402250</td>\n",
       "      <td>2018-01-15</td>\n",
       "      <td>2018-11-01</td>\n",
       "      <td>0.675</td>\n",
       "      <td>0.271519</td>\n",
       "      <td>290</td>\n",
       "    </tr>\n",
       "  </tbody>\n",
       "</table>\n",
       "</div>"
      ],
      "text/plain": [
       "         index            quoteID  \\\n",
       "258916   67332  2016-02-22-010440   \n",
       "727203  172261  2018-02-22-113108   \n",
       "275576   83992  2016-02-23-134775   \n",
       "610080   55138  2018-01-15-047231   \n",
       "\n",
       "                                                quotation         speaker  \\\n",
       "258916  Because this campaign now has repeatedly done ...     MARCO RUBIO   \n",
       "727203  That is a message that resonates with young pe...        TED CRUZ   \n",
       "275576  This is about a lame-duck president who will b...     JOHN MCCAIN   \n",
       "610080  it must support national and international pol...  BERNIE SANDERS   \n",
       "\n",
       "              qids                date  numOccurrences  \\\n",
       "258916   [Q324546] 2016-02-22 21:20:01               1   \n",
       "727203  [Q2036942] 2018-02-22 21:14:04               1   \n",
       "275576    [Q10390] 2016-02-23 08:47:34               1   \n",
       "610080   [Q359442] 2018-01-15 18:30:15               1   \n",
       "\n",
       "                                                   probas  \\\n",
       "258916  [[Marco Rubio, 0.6456], [None, 0.2739], [Rafae...   \n",
       "727203               [[Ted Cruz, 0.8032], [None, 0.1968]]   \n",
       "275576  [[John McCain, 0.8838], [None, 0.1053], [Clare...   \n",
       "610080         [[Bernie Sanders, 0.8879], [None, 0.1121]]   \n",
       "\n",
       "                                                     urls phase domains  \\\n",
       "258916  [http://cbsnews.com/news/marco-rubio-calls-for...     E   [com]   \n",
       "727203  [https://www.westernjournal.com/cruz-exposes-w...     E   [com]   \n",
       "275576  [http://azcentral.com/story/opinion/op-ed/ej-m...     E   [com]   \n",
       "610080  [http://alternet.org/news-amp-politics/bernie-...     E   [org]   \n",
       "\n",
       "        normalize_factor  normalize_quotes   date_only election_day   views  \\\n",
       "258916          0.959534          0.959534  2016-02-22   2016-11-01  24.880   \n",
       "727203          0.401482          0.401482  2018-02-22   2018-11-01   0.675   \n",
       "275576          0.959534          0.959534  2016-02-23   2016-11-01   0.675   \n",
       "610080          0.402250          0.402250  2018-01-15   2018-11-01   0.675   \n",
       "\n",
       "        normalize_views  days_before_election  \n",
       "258916        23.873196                   253  \n",
       "727203         0.271000                   252  \n",
       "275576         0.647685                   252  \n",
       "610080         0.271519                   290  "
      ]
     },
     "execution_count": 42,
     "metadata": {},
     "output_type": "execute_result"
    }
   ],
   "source": [
    "feature_length = 300  # we use data of 100 days before the election\n",
    "quotes_timespan = candidate_quotes[candidate_quotes['days_before_election']>=0]\n",
    "quotes_timespan = quotes_timespan[quotes_timespan['days_before_election']<feature_length]\n",
    "quotes_timespan.sample(4)"
   ]
  },
  {
   "cell_type": "code",
   "execution_count": 43,
   "id": "7fde6478",
   "metadata": {},
   "outputs": [
    {
     "data": {
      "text/plain": [
       "speaker           days_before_election\n",
       "A. WAYNE JOHNSON  225                      0.510070\n",
       "                  234                      2.040281\n",
       "                  241                     11.395348\n",
       "                  251                     99.717389\n",
       "                  261                      2.532803\n",
       "                                            ...    \n",
       "ZAK RINGELSTEIN   141                      1.626749\n",
       "                  147                      0.650700\n",
       "                  160                      0.815621\n",
       "                  227                      1.933979\n",
       "                  235                      0.241747\n",
       "Name: normalize_views, Length: 19165, dtype: float64"
      ]
     },
     "execution_count": 43,
     "metadata": {},
     "output_type": "execute_result"
    }
   ],
   "source": [
    "# group the quotations by speaker\n",
    "quotes_timespan_byday = quotes_timespan.groupby(['speaker', 'days_before_election'])['normalize_views'].sum()\n",
    "quotes_timespan_byday"
   ]
  },
  {
   "cell_type": "code",
   "execution_count": 44,
   "id": "d3a8aaaf",
   "metadata": {},
   "outputs": [
    {
     "data": {
      "text/html": [
       "<div>\n",
       "<style scoped>\n",
       "    .dataframe tbody tr th:only-of-type {\n",
       "        vertical-align: middle;\n",
       "    }\n",
       "\n",
       "    .dataframe tbody tr th {\n",
       "        vertical-align: top;\n",
       "    }\n",
       "\n",
       "    .dataframe thead th {\n",
       "        text-align: right;\n",
       "    }\n",
       "</style>\n",
       "<table border=\"1\" class=\"dataframe\">\n",
       "  <thead>\n",
       "    <tr style=\"text-align: right;\">\n",
       "      <th></th>\n",
       "      <th>A. WAYNE JOHNSON</th>\n",
       "      <th>AARON JAMES</th>\n",
       "      <th>ABHAY PATEL</th>\n",
       "      <th>AL GROSS</th>\n",
       "      <th>ALEX MERCED</th>\n",
       "      <th>ALLEN BUCKLEY</th>\n",
       "      <th>AMY KLOBUCHAR</th>\n",
       "      <th>AMY MCGRATH</th>\n",
       "      <th>ANN KIRKPATRICK</th>\n",
       "      <th>ARN MENCONI</th>\n",
       "      <th>...</th>\n",
       "      <th>TOM COTTON</th>\n",
       "      <th>TOM JONES</th>\n",
       "      <th>TOMMY TUBERVILLE</th>\n",
       "      <th>TONY CAMPBELL</th>\n",
       "      <th>TROY HEBERT</th>\n",
       "      <th>VALENCIA STOVALL</th>\n",
       "      <th>WENDY LONG</th>\n",
       "      <th>WILLIAM ROBERT LANG, JR.</th>\n",
       "      <th>WILLIE L. WILSON</th>\n",
       "      <th>ZAK RINGELSTEIN</th>\n",
       "    </tr>\n",
       "  </thead>\n",
       "  <tbody>\n",
       "    <tr>\n",
       "      <th>0</th>\n",
       "      <td>0.0</td>\n",
       "      <td>0.000000</td>\n",
       "      <td>0.0</td>\n",
       "      <td>0.0</td>\n",
       "      <td>0.0</td>\n",
       "      <td>0.0</td>\n",
       "      <td>0.643107</td>\n",
       "      <td>0.000000</td>\n",
       "      <td>0.0</td>\n",
       "      <td>0.0</td>\n",
       "      <td>...</td>\n",
       "      <td>0.000000</td>\n",
       "      <td>0.0</td>\n",
       "      <td>0.000000</td>\n",
       "      <td>0.000000</td>\n",
       "      <td>0.0</td>\n",
       "      <td>0.0</td>\n",
       "      <td>0.0</td>\n",
       "      <td>0.0</td>\n",
       "      <td>0.0</td>\n",
       "      <td>1.607768</td>\n",
       "    </tr>\n",
       "    <tr>\n",
       "      <th>1</th>\n",
       "      <td>0.0</td>\n",
       "      <td>0.000000</td>\n",
       "      <td>0.0</td>\n",
       "      <td>0.0</td>\n",
       "      <td>0.0</td>\n",
       "      <td>0.0</td>\n",
       "      <td>0.864890</td>\n",
       "      <td>0.000000</td>\n",
       "      <td>0.0</td>\n",
       "      <td>0.0</td>\n",
       "      <td>...</td>\n",
       "      <td>0.000000</td>\n",
       "      <td>0.0</td>\n",
       "      <td>0.000000</td>\n",
       "      <td>0.000000</td>\n",
       "      <td>0.0</td>\n",
       "      <td>0.0</td>\n",
       "      <td>0.0</td>\n",
       "      <td>0.0</td>\n",
       "      <td>0.0</td>\n",
       "      <td>0.000000</td>\n",
       "    </tr>\n",
       "    <tr>\n",
       "      <th>2</th>\n",
       "      <td>0.0</td>\n",
       "      <td>0.000000</td>\n",
       "      <td>0.0</td>\n",
       "      <td>0.0</td>\n",
       "      <td>0.0</td>\n",
       "      <td>0.0</td>\n",
       "      <td>41.414354</td>\n",
       "      <td>0.000000</td>\n",
       "      <td>0.0</td>\n",
       "      <td>0.0</td>\n",
       "      <td>...</td>\n",
       "      <td>0.000000</td>\n",
       "      <td>0.0</td>\n",
       "      <td>0.000000</td>\n",
       "      <td>0.000000</td>\n",
       "      <td>0.0</td>\n",
       "      <td>0.0</td>\n",
       "      <td>0.0</td>\n",
       "      <td>0.0</td>\n",
       "      <td>0.0</td>\n",
       "      <td>3.459560</td>\n",
       "    </tr>\n",
       "    <tr>\n",
       "      <th>3</th>\n",
       "      <td>0.0</td>\n",
       "      <td>0.000000</td>\n",
       "      <td>0.0</td>\n",
       "      <td>0.0</td>\n",
       "      <td>0.0</td>\n",
       "      <td>0.0</td>\n",
       "      <td>4.324450</td>\n",
       "      <td>0.000000</td>\n",
       "      <td>0.0</td>\n",
       "      <td>0.0</td>\n",
       "      <td>...</td>\n",
       "      <td>0.000000</td>\n",
       "      <td>0.0</td>\n",
       "      <td>0.000000</td>\n",
       "      <td>2.306374</td>\n",
       "      <td>0.0</td>\n",
       "      <td>0.0</td>\n",
       "      <td>0.0</td>\n",
       "      <td>0.0</td>\n",
       "      <td>0.0</td>\n",
       "      <td>0.576593</td>\n",
       "    </tr>\n",
       "    <tr>\n",
       "      <th>4</th>\n",
       "      <td>0.0</td>\n",
       "      <td>0.000000</td>\n",
       "      <td>0.0</td>\n",
       "      <td>0.0</td>\n",
       "      <td>0.0</td>\n",
       "      <td>0.0</td>\n",
       "      <td>4.901044</td>\n",
       "      <td>0.000000</td>\n",
       "      <td>0.0</td>\n",
       "      <td>0.0</td>\n",
       "      <td>...</td>\n",
       "      <td>0.000000</td>\n",
       "      <td>0.0</td>\n",
       "      <td>0.000000</td>\n",
       "      <td>2.882967</td>\n",
       "      <td>0.0</td>\n",
       "      <td>0.0</td>\n",
       "      <td>0.0</td>\n",
       "      <td>0.0</td>\n",
       "      <td>0.0</td>\n",
       "      <td>0.000000</td>\n",
       "    </tr>\n",
       "    <tr>\n",
       "      <th>...</th>\n",
       "      <td>...</td>\n",
       "      <td>...</td>\n",
       "      <td>...</td>\n",
       "      <td>...</td>\n",
       "      <td>...</td>\n",
       "      <td>...</td>\n",
       "      <td>...</td>\n",
       "      <td>...</td>\n",
       "      <td>...</td>\n",
       "      <td>...</td>\n",
       "      <td>...</td>\n",
       "      <td>...</td>\n",
       "      <td>...</td>\n",
       "      <td>...</td>\n",
       "      <td>...</td>\n",
       "      <td>...</td>\n",
       "      <td>...</td>\n",
       "      <td>...</td>\n",
       "      <td>...</td>\n",
       "      <td>...</td>\n",
       "      <td>...</td>\n",
       "    </tr>\n",
       "    <tr>\n",
       "      <th>295</th>\n",
       "      <td>0.0</td>\n",
       "      <td>0.000000</td>\n",
       "      <td>0.0</td>\n",
       "      <td>0.0</td>\n",
       "      <td>0.0</td>\n",
       "      <td>0.0</td>\n",
       "      <td>69.388074</td>\n",
       "      <td>0.000000</td>\n",
       "      <td>0.0</td>\n",
       "      <td>0.0</td>\n",
       "      <td>...</td>\n",
       "      <td>552.756030</td>\n",
       "      <td>0.0</td>\n",
       "      <td>0.000000</td>\n",
       "      <td>0.000000</td>\n",
       "      <td>0.0</td>\n",
       "      <td>0.0</td>\n",
       "      <td>0.0</td>\n",
       "      <td>0.0</td>\n",
       "      <td>0.0</td>\n",
       "      <td>0.000000</td>\n",
       "    </tr>\n",
       "    <tr>\n",
       "      <th>296</th>\n",
       "      <td>0.0</td>\n",
       "      <td>1.169008</td>\n",
       "      <td>0.0</td>\n",
       "      <td>0.0</td>\n",
       "      <td>0.0</td>\n",
       "      <td>0.0</td>\n",
       "      <td>8.435176</td>\n",
       "      <td>0.000000</td>\n",
       "      <td>0.0</td>\n",
       "      <td>0.0</td>\n",
       "      <td>...</td>\n",
       "      <td>3.896693</td>\n",
       "      <td>0.0</td>\n",
       "      <td>0.000000</td>\n",
       "      <td>0.000000</td>\n",
       "      <td>0.0</td>\n",
       "      <td>0.0</td>\n",
       "      <td>0.0</td>\n",
       "      <td>0.0</td>\n",
       "      <td>0.0</td>\n",
       "      <td>0.000000</td>\n",
       "    </tr>\n",
       "    <tr>\n",
       "      <th>297</th>\n",
       "      <td>0.0</td>\n",
       "      <td>0.779339</td>\n",
       "      <td>0.0</td>\n",
       "      <td>0.0</td>\n",
       "      <td>0.0</td>\n",
       "      <td>0.0</td>\n",
       "      <td>1.357593</td>\n",
       "      <td>1.169008</td>\n",
       "      <td>0.0</td>\n",
       "      <td>0.0</td>\n",
       "      <td>...</td>\n",
       "      <td>239.637971</td>\n",
       "      <td>0.0</td>\n",
       "      <td>0.000000</td>\n",
       "      <td>0.000000</td>\n",
       "      <td>0.0</td>\n",
       "      <td>0.0</td>\n",
       "      <td>0.0</td>\n",
       "      <td>0.0</td>\n",
       "      <td>0.0</td>\n",
       "      <td>0.000000</td>\n",
       "    </tr>\n",
       "    <tr>\n",
       "      <th>298</th>\n",
       "      <td>0.0</td>\n",
       "      <td>0.779339</td>\n",
       "      <td>0.0</td>\n",
       "      <td>0.0</td>\n",
       "      <td>0.0</td>\n",
       "      <td>0.0</td>\n",
       "      <td>0.814556</td>\n",
       "      <td>0.000000</td>\n",
       "      <td>0.0</td>\n",
       "      <td>0.0</td>\n",
       "      <td>...</td>\n",
       "      <td>726.124239</td>\n",
       "      <td>0.0</td>\n",
       "      <td>191.316089</td>\n",
       "      <td>0.000000</td>\n",
       "      <td>0.0</td>\n",
       "      <td>0.0</td>\n",
       "      <td>0.0</td>\n",
       "      <td>0.0</td>\n",
       "      <td>0.0</td>\n",
       "      <td>0.000000</td>\n",
       "    </tr>\n",
       "    <tr>\n",
       "      <th>299</th>\n",
       "      <td>0.0</td>\n",
       "      <td>0.000000</td>\n",
       "      <td>0.0</td>\n",
       "      <td>0.0</td>\n",
       "      <td>0.0</td>\n",
       "      <td>0.0</td>\n",
       "      <td>13.467320</td>\n",
       "      <td>0.000000</td>\n",
       "      <td>0.0</td>\n",
       "      <td>0.0</td>\n",
       "      <td>...</td>\n",
       "      <td>3.507024</td>\n",
       "      <td>0.0</td>\n",
       "      <td>0.000000</td>\n",
       "      <td>0.000000</td>\n",
       "      <td>0.0</td>\n",
       "      <td>0.0</td>\n",
       "      <td>0.0</td>\n",
       "      <td>0.0</td>\n",
       "      <td>0.0</td>\n",
       "      <td>0.000000</td>\n",
       "    </tr>\n",
       "  </tbody>\n",
       "</table>\n",
       "<p>300 rows × 234 columns</p>\n",
       "</div>"
      ],
      "text/plain": [
       "     A. WAYNE JOHNSON  AARON JAMES  ABHAY PATEL  AL GROSS  ALEX MERCED  \\\n",
       "0                 0.0     0.000000          0.0       0.0          0.0   \n",
       "1                 0.0     0.000000          0.0       0.0          0.0   \n",
       "2                 0.0     0.000000          0.0       0.0          0.0   \n",
       "3                 0.0     0.000000          0.0       0.0          0.0   \n",
       "4                 0.0     0.000000          0.0       0.0          0.0   \n",
       "..                ...          ...          ...       ...          ...   \n",
       "295               0.0     0.000000          0.0       0.0          0.0   \n",
       "296               0.0     1.169008          0.0       0.0          0.0   \n",
       "297               0.0     0.779339          0.0       0.0          0.0   \n",
       "298               0.0     0.779339          0.0       0.0          0.0   \n",
       "299               0.0     0.000000          0.0       0.0          0.0   \n",
       "\n",
       "     ALLEN BUCKLEY  AMY KLOBUCHAR  AMY MCGRATH  ANN KIRKPATRICK  ARN MENCONI  \\\n",
       "0              0.0       0.643107     0.000000              0.0          0.0   \n",
       "1              0.0       0.864890     0.000000              0.0          0.0   \n",
       "2              0.0      41.414354     0.000000              0.0          0.0   \n",
       "3              0.0       4.324450     0.000000              0.0          0.0   \n",
       "4              0.0       4.901044     0.000000              0.0          0.0   \n",
       "..             ...            ...          ...              ...          ...   \n",
       "295            0.0      69.388074     0.000000              0.0          0.0   \n",
       "296            0.0       8.435176     0.000000              0.0          0.0   \n",
       "297            0.0       1.357593     1.169008              0.0          0.0   \n",
       "298            0.0       0.814556     0.000000              0.0          0.0   \n",
       "299            0.0      13.467320     0.000000              0.0          0.0   \n",
       "\n",
       "     ...  TOM COTTON  TOM JONES  TOMMY TUBERVILLE  TONY CAMPBELL  TROY HEBERT  \\\n",
       "0    ...    0.000000        0.0          0.000000       0.000000          0.0   \n",
       "1    ...    0.000000        0.0          0.000000       0.000000          0.0   \n",
       "2    ...    0.000000        0.0          0.000000       0.000000          0.0   \n",
       "3    ...    0.000000        0.0          0.000000       2.306374          0.0   \n",
       "4    ...    0.000000        0.0          0.000000       2.882967          0.0   \n",
       "..   ...         ...        ...               ...            ...          ...   \n",
       "295  ...  552.756030        0.0          0.000000       0.000000          0.0   \n",
       "296  ...    3.896693        0.0          0.000000       0.000000          0.0   \n",
       "297  ...  239.637971        0.0          0.000000       0.000000          0.0   \n",
       "298  ...  726.124239        0.0        191.316089       0.000000          0.0   \n",
       "299  ...    3.507024        0.0          0.000000       0.000000          0.0   \n",
       "\n",
       "     VALENCIA STOVALL  WENDY LONG  WILLIAM ROBERT LANG, JR.  WILLIE L. WILSON  \\\n",
       "0                 0.0         0.0                       0.0               0.0   \n",
       "1                 0.0         0.0                       0.0               0.0   \n",
       "2                 0.0         0.0                       0.0               0.0   \n",
       "3                 0.0         0.0                       0.0               0.0   \n",
       "4                 0.0         0.0                       0.0               0.0   \n",
       "..                ...         ...                       ...               ...   \n",
       "295               0.0         0.0                       0.0               0.0   \n",
       "296               0.0         0.0                       0.0               0.0   \n",
       "297               0.0         0.0                       0.0               0.0   \n",
       "298               0.0         0.0                       0.0               0.0   \n",
       "299               0.0         0.0                       0.0               0.0   \n",
       "\n",
       "     ZAK RINGELSTEIN  \n",
       "0           1.607768  \n",
       "1           0.000000  \n",
       "2           3.459560  \n",
       "3           0.576593  \n",
       "4           0.000000  \n",
       "..               ...  \n",
       "295         0.000000  \n",
       "296         0.000000  \n",
       "297         0.000000  \n",
       "298         0.000000  \n",
       "299         0.000000  \n",
       "\n",
       "[300 rows x 234 columns]"
      ]
     },
     "execution_count": 44,
     "metadata": {},
     "output_type": "execute_result"
    }
   ],
   "source": [
    "# build the feature vectors\n",
    "\n",
    "candidate_name = quotes_timespan_byday.index.map(lambda x:x[0]).drop_duplicates()\n",
    "candidate_quotes_cluster_feature = pd.DataFrame(np.zeros([feature_length,len(candidate_name)]), columns=candidate_name)\n",
    "\n",
    "for candidate in candidate_name:\n",
    "    candidate_quotes_timespan = quotes_timespan_byday[candidate]\n",
    "    for days in candidate_quotes_timespan.index:\n",
    "        candidate_quotes_cluster_feature[candidate].iloc[days] = candidate_quotes_timespan.loc[days]\n",
    "        \n",
    "candidate_quotes_cluster_feature"
   ]
  },
  {
   "cell_type": "markdown",
   "id": "f930b6d2-e677-4dc4-aceb-d9342c7bd9b6",
   "metadata": {},
   "source": [
    "Since the feature vector is 300-dimension, we will use PCA to reduce the dimension and visualize the data."
   ]
  },
  {
   "cell_type": "code",
   "execution_count": 45,
   "id": "6647728c",
   "metadata": {},
   "outputs": [
    {
     "data": {
      "text/plain": [
       "<matplotlib.collections.PathCollection at 0x190ab8eb4f0>"
      ]
     },
     "execution_count": 45,
     "metadata": {},
     "output_type": "execute_result"
    },
    {
     "data": {
      "image/png": "[encoded data removed]",
      "text/plain": [
       "<Figure size 432x288 with 1 Axes>"
      ]
     },
     "metadata": {
      "needs_background": "light"
     },
     "output_type": "display_data"
    }
   ],
   "source": [
    "# Use PCA to visualize the feature vectors\n",
    "from sklearn.decomposition import PCA\n",
    "\n",
    "candidate_feature_vectors = candidate_quotes_cluster_feature.to_numpy().T\n",
    "candidate_feature_vectors/=np.linalg.norm(candidate_feature_vectors,axis=1)[:,np.newaxis]\n",
    "reduced_feature_PCA = PCA(n_components=2).fit(candidate_feature_vectors).transform(candidate_feature_vectors)\n",
    "\n",
    "plt.scatter(reduced_feature_PCA[:,0],reduced_feature_PCA[:,1], alpha=0.5)"
   ]
  },
  {
   "cell_type": "markdown",
   "id": "e64bcb17-7f08-4197-9920-7700f2033bfa",
   "metadata": {},
   "source": [
    "In the reduced space, we applied KMeans for clustering."
   ]
  },
  {
   "cell_type": "code",
   "execution_count": 46,
   "id": "71778b09",
   "metadata": {},
   "outputs": [
    {
     "data": {
      "text/plain": [
       "[<matplotlib.lines.Line2D at 0x190ac73c520>]"
      ]
     },
     "execution_count": 46,
     "metadata": {},
     "output_type": "execute_result"
    },
    {
     "data": {
      "image/png": "[encoded data removed]",
      "text/plain": [
       "<Figure size 432x288 with 1 Axes>"
      ]
     },
     "metadata": {
      "needs_background": "light"
     },
     "output_type": "display_data"
    }
   ],
   "source": [
    "# find the cluster number to use\n",
    "\n",
    "from sklearn.cluster import KMeans\n",
    "from sklearn.metrics import silhouette_score\n",
    "\n",
    "silhouettes=[]\n",
    "for n_clusters in range(2,10):\n",
    "    labels = KMeans(n_clusters=n_clusters).fit_predict(reduced_feature_PCA)\n",
    "    score = silhouette_score(reduced_feature_PCA,labels)\n",
    "    silhouettes.append(score)\n",
    "    \n",
    "plt.plot(range(2,10),silhouettes)"
   ]
  },
  {
   "cell_type": "code",
   "execution_count": 47,
   "id": "03695de1",
   "metadata": {},
   "outputs": [
    {
     "data": {
      "text/plain": [
       "<matplotlib.collections.PathCollection at 0x190ac767040>"
      ]
     },
     "execution_count": 47,
     "metadata": {},
     "output_type": "execute_result"
    },
    {
     "data": {
      "image/png": "[encoded data removed]",
      "text/plain": [
       "<Figure size 432x288 with 1 Axes>"
      ]
     },
     "metadata": {
      "needs_background": "light"
     },
     "output_type": "display_data"
    }
   ],
   "source": [
    "# based on previous result, we use 3 clusters.\n",
    "n_clusters = 2\n",
    "labels = KMeans(n_clusters=n_clusters).fit_predict(reduced_feature_PCA)\n",
    "plt.scatter(reduced_feature_PCA[:,0],reduced_feature_PCA[:,1], alpha=0.5,c=labels)"
   ]
  },
  {
   "cell_type": "code",
   "execution_count": 48,
   "id": "81a4b29b",
   "metadata": {},
   "outputs": [
    {
     "name": "stdout",
     "output_type": "stream",
     "text": [
      "212 candidates in type 0: Index(['A. WAYNE JOHNSON', 'AARON JAMES', 'ABHAY PATEL', 'AL GROSS',\n",
      "       'ALEX MERCED', 'ALLEN BUCKLEY', 'AMY KLOBUCHAR', 'ANN KIRKPATRICK',\n",
      "       'ARN MENCONI', 'ARVIN VOHRA',\n",
      "       ...\n",
      "       'TOM CONNORS', 'TOM JONES', 'TOMMY TUBERVILLE', 'TONY CAMPBELL',\n",
      "       'TROY HEBERT', 'VALENCIA STOVALL', 'WENDY LONG',\n",
      "       'WILLIAM ROBERT LANG, JR.', 'WILLIE L. WILSON', 'ZAK RINGELSTEIN'],\n",
      "      dtype='object', length=212)\n",
      "22 candidates in type 1: Index(['AMY MCGRATH', 'BEN SASSE', 'CORY BOOKER', 'CORY GARDNER',\n",
      "       'DAVID A. PERDUE', 'DOUG COLLINS', 'DOUG JONES', 'GARY PETERS',\n",
      "       'JEANNE SHAHEEN', 'JEFF MERKLEY', 'JOHN CORNYN', 'JON OSSOFF',\n",
      "       'JONI ERNST', 'LINDSEY GRAHAM', 'MARK KELLY', 'MARK R. WARNER',\n",
      "       'MITCH MCCONNELL', 'SARA I. GIDEON', 'SHELLEY MOORE CAPITO',\n",
      "       'SUSAN MARGARET COLLINS', 'THOM TILLIS', 'TOM COTTON'],\n",
      "      dtype='object')\n"
     ]
    }
   ],
   "source": [
    "# show candidates of each cluster\n",
    "\n",
    "for candidate_type in range(0,n_clusters):\n",
    "    print('{} candidates in type {}: {}'.format(np.where(labels==candidate_type)[0].shape[0],candidate_type,candidate_name[np.where(labels==candidate_type)]))"
   ]
  },
  {
   "cell_type": "markdown",
   "id": "cc0f3239-2f22-4c0f-8d39-c3563804d012",
   "metadata": {},
   "source": [
    "After clustering, we'd like to know how each cluster looks like. Firstly we just average the feature from each cluster and visualize them."
   ]
  },
  {
   "cell_type": "code",
   "execution_count": 49,
   "id": "26d85072",
   "metadata": {},
   "outputs": [
    {
     "data": {
      "image/png": "[encoded data removed]",
      "text/plain": [
       "<Figure size 1440x360 with 2 Axes>"
      ]
     },
     "metadata": {
      "needs_background": "light"
     },
     "output_type": "display_data"
    }
   ],
   "source": [
    "fig, axs = plt.subplots(1,n_clusters, figsize=(20,5))\n",
    "for candidate_type in range(0,n_clusters):\n",
    "    axs[candidate_type].plot(range(0,feature_length), np.mean(candidate_feature_vectors[np.where(labels==candidate_type)], axis=0))\n",
    "    axs[candidate_type].set_title('type {}'.format(candidate_type))\n",
    "    axs[candidate_type].set_xlabel('days before election')"
   ]
  },
  {
   "cell_type": "markdown",
   "id": "f6178005",
   "metadata": {},
   "source": [
    "We try to remove candidate of 2020 because the lack of data after April. This is shown in type 1, where we get almost no citation from roughly 200 days before election. This is mainly caused by lacking quotation data after April 2020 in the QuoteBank."
   ]
  },
  {
   "cell_type": "code",
   "execution_count": 50,
   "id": "af520b48",
   "metadata": {},
   "outputs": [
    {
     "data": {
      "text/plain": [
       "A. WAYNE JOHNSON            2020\n",
       "AARON JAMES                 2020\n",
       "ABHAY PATEL                 2016\n",
       "AL GROSS                    2020\n",
       "ALEX MERCED                 2016\n",
       "                            ... \n",
       "VALENCIA STOVALL            2020\n",
       "WENDY LONG                  2016\n",
       "WILLIAM ROBERT LANG, JR.    2016\n",
       "WILLIE L. WILSON            2020\n",
       "ZAK RINGELSTEIN             2018\n",
       "Name: year, Length: 234, dtype: int64"
      ]
     },
     "execution_count": 50,
     "metadata": {},
     "output_type": "execute_result"
    }
   ],
   "source": [
    "# find each candidates' election year.\n",
    "\n",
    "election_year = candidate_info_byname.loc[candidate_name]['year']\n",
    "election_year"
   ]
  },
  {
   "cell_type": "code",
   "execution_count": 51,
   "id": "43415d16",
   "metadata": {},
   "outputs": [
    {
     "data": {
      "text/plain": [
       "Index(['ABHAY PATEL', 'ALEX MERCED', 'ALLEN BUCKLEY', 'AMY KLOBUCHAR',\n",
       "       'ANN KIRKPATRICK', 'ARN MENCONI', 'ARVIN VOHRA', 'BARRY MICHAELS',\n",
       "       'BEN CARDIN', 'BERNIE SANDERS',\n",
       "       ...\n",
       "       'TIMOTHY M. KAINE', 'TINA SMITH', 'TODD C. YOUNG', 'TOM CONNORS',\n",
       "       'TOM JONES', 'TONY CAMPBELL', 'TROY HEBERT', 'WENDY LONG',\n",
       "       'WILLIAM ROBERT LANG, JR.', 'ZAK RINGELSTEIN'],\n",
       "      dtype='object', length=171)"
      ]
     },
     "execution_count": 51,
     "metadata": {},
     "output_type": "execute_result"
    }
   ],
   "source": [
    "# filt out 2020 election\n",
    "\n",
    "candidate_name_filted = candidate_name[election_year!=2020]\n",
    "candidate_name_filted"
   ]
  },
  {
   "cell_type": "code",
   "execution_count": 52,
   "id": "a3424648",
   "metadata": {},
   "outputs": [
    {
     "data": {
      "text/html": [
       "<div>\n",
       "<style scoped>\n",
       "    .dataframe tbody tr th:only-of-type {\n",
       "        vertical-align: middle;\n",
       "    }\n",
       "\n",
       "    .dataframe tbody tr th {\n",
       "        vertical-align: top;\n",
       "    }\n",
       "\n",
       "    .dataframe thead th {\n",
       "        text-align: right;\n",
       "    }\n",
       "</style>\n",
       "<table border=\"1\" class=\"dataframe\">\n",
       "  <thead>\n",
       "    <tr style=\"text-align: right;\">\n",
       "      <th></th>\n",
       "      <th>ABHAY PATEL</th>\n",
       "      <th>ALEX MERCED</th>\n",
       "      <th>ALLEN BUCKLEY</th>\n",
       "      <th>AMY KLOBUCHAR</th>\n",
       "      <th>ANN KIRKPATRICK</th>\n",
       "      <th>ARN MENCONI</th>\n",
       "      <th>ARVIN VOHRA</th>\n",
       "      <th>BARRY MICHAELS</th>\n",
       "      <th>BEN CARDIN</th>\n",
       "      <th>BERNIE SANDERS</th>\n",
       "      <th>...</th>\n",
       "      <th>TIMOTHY M. KAINE</th>\n",
       "      <th>TINA SMITH</th>\n",
       "      <th>TODD C. YOUNG</th>\n",
       "      <th>TOM CONNORS</th>\n",
       "      <th>TOM JONES</th>\n",
       "      <th>TONY CAMPBELL</th>\n",
       "      <th>TROY HEBERT</th>\n",
       "      <th>WENDY LONG</th>\n",
       "      <th>WILLIAM ROBERT LANG, JR.</th>\n",
       "      <th>ZAK RINGELSTEIN</th>\n",
       "    </tr>\n",
       "  </thead>\n",
       "  <tbody>\n",
       "    <tr>\n",
       "      <th>0</th>\n",
       "      <td>0.0</td>\n",
       "      <td>0.0</td>\n",
       "      <td>0.0</td>\n",
       "      <td>0.643107</td>\n",
       "      <td>0.0</td>\n",
       "      <td>0.0</td>\n",
       "      <td>0.000000</td>\n",
       "      <td>0.00000</td>\n",
       "      <td>0.964661</td>\n",
       "      <td>60.447298</td>\n",
       "      <td>...</td>\n",
       "      <td>0.0</td>\n",
       "      <td>45.258062</td>\n",
       "      <td>0.0</td>\n",
       "      <td>0.0</td>\n",
       "      <td>0.0</td>\n",
       "      <td>0.000000</td>\n",
       "      <td>0.0</td>\n",
       "      <td>0.0</td>\n",
       "      <td>0.0</td>\n",
       "      <td>1.607768</td>\n",
       "    </tr>\n",
       "    <tr>\n",
       "      <th>1</th>\n",
       "      <td>0.0</td>\n",
       "      <td>0.0</td>\n",
       "      <td>0.0</td>\n",
       "      <td>0.864890</td>\n",
       "      <td>0.0</td>\n",
       "      <td>0.0</td>\n",
       "      <td>0.000000</td>\n",
       "      <td>0.00000</td>\n",
       "      <td>0.864890</td>\n",
       "      <td>1160.084533</td>\n",
       "      <td>...</td>\n",
       "      <td>0.0</td>\n",
       "      <td>0.576593</td>\n",
       "      <td>0.0</td>\n",
       "      <td>0.0</td>\n",
       "      <td>0.0</td>\n",
       "      <td>0.000000</td>\n",
       "      <td>0.0</td>\n",
       "      <td>0.0</td>\n",
       "      <td>0.0</td>\n",
       "      <td>0.000000</td>\n",
       "    </tr>\n",
       "    <tr>\n",
       "      <th>2</th>\n",
       "      <td>0.0</td>\n",
       "      <td>0.0</td>\n",
       "      <td>0.0</td>\n",
       "      <td>41.414354</td>\n",
       "      <td>0.0</td>\n",
       "      <td>0.0</td>\n",
       "      <td>0.000000</td>\n",
       "      <td>0.00000</td>\n",
       "      <td>3.171264</td>\n",
       "      <td>89.959246</td>\n",
       "      <td>...</td>\n",
       "      <td>0.0</td>\n",
       "      <td>45.040485</td>\n",
       "      <td>0.0</td>\n",
       "      <td>0.0</td>\n",
       "      <td>0.0</td>\n",
       "      <td>0.000000</td>\n",
       "      <td>0.0</td>\n",
       "      <td>0.0</td>\n",
       "      <td>0.0</td>\n",
       "      <td>3.459560</td>\n",
       "    </tr>\n",
       "    <tr>\n",
       "      <th>3</th>\n",
       "      <td>0.0</td>\n",
       "      <td>0.0</td>\n",
       "      <td>0.0</td>\n",
       "      <td>4.324450</td>\n",
       "      <td>0.0</td>\n",
       "      <td>0.0</td>\n",
       "      <td>1.153187</td>\n",
       "      <td>0.00000</td>\n",
       "      <td>3.171264</td>\n",
       "      <td>407.068522</td>\n",
       "      <td>...</td>\n",
       "      <td>0.0</td>\n",
       "      <td>0.000000</td>\n",
       "      <td>0.0</td>\n",
       "      <td>0.0</td>\n",
       "      <td>0.0</td>\n",
       "      <td>2.306374</td>\n",
       "      <td>0.0</td>\n",
       "      <td>0.0</td>\n",
       "      <td>0.0</td>\n",
       "      <td>0.576593</td>\n",
       "    </tr>\n",
       "    <tr>\n",
       "      <th>4</th>\n",
       "      <td>0.0</td>\n",
       "      <td>0.0</td>\n",
       "      <td>0.0</td>\n",
       "      <td>4.901044</td>\n",
       "      <td>0.0</td>\n",
       "      <td>0.0</td>\n",
       "      <td>0.000000</td>\n",
       "      <td>0.86489</td>\n",
       "      <td>3.747857</td>\n",
       "      <td>2512.988300</td>\n",
       "      <td>...</td>\n",
       "      <td>0.0</td>\n",
       "      <td>1.441483</td>\n",
       "      <td>0.0</td>\n",
       "      <td>0.0</td>\n",
       "      <td>0.0</td>\n",
       "      <td>2.882967</td>\n",
       "      <td>0.0</td>\n",
       "      <td>0.0</td>\n",
       "      <td>0.0</td>\n",
       "      <td>0.000000</td>\n",
       "    </tr>\n",
       "    <tr>\n",
       "      <th>...</th>\n",
       "      <td>...</td>\n",
       "      <td>...</td>\n",
       "      <td>...</td>\n",
       "      <td>...</td>\n",
       "      <td>...</td>\n",
       "      <td>...</td>\n",
       "      <td>...</td>\n",
       "      <td>...</td>\n",
       "      <td>...</td>\n",
       "      <td>...</td>\n",
       "      <td>...</td>\n",
       "      <td>...</td>\n",
       "      <td>...</td>\n",
       "      <td>...</td>\n",
       "      <td>...</td>\n",
       "      <td>...</td>\n",
       "      <td>...</td>\n",
       "      <td>...</td>\n",
       "      <td>...</td>\n",
       "      <td>...</td>\n",
       "      <td>...</td>\n",
       "    </tr>\n",
       "    <tr>\n",
       "      <th>295</th>\n",
       "      <td>0.0</td>\n",
       "      <td>0.0</td>\n",
       "      <td>0.0</td>\n",
       "      <td>69.388074</td>\n",
       "      <td>0.0</td>\n",
       "      <td>0.0</td>\n",
       "      <td>0.000000</td>\n",
       "      <td>0.00000</td>\n",
       "      <td>3532.054072</td>\n",
       "      <td>0.814556</td>\n",
       "      <td>...</td>\n",
       "      <td>0.0</td>\n",
       "      <td>1.900630</td>\n",
       "      <td>0.0</td>\n",
       "      <td>0.0</td>\n",
       "      <td>0.0</td>\n",
       "      <td>0.000000</td>\n",
       "      <td>0.0</td>\n",
       "      <td>0.0</td>\n",
       "      <td>0.0</td>\n",
       "      <td>0.000000</td>\n",
       "    </tr>\n",
       "    <tr>\n",
       "      <th>296</th>\n",
       "      <td>0.0</td>\n",
       "      <td>0.0</td>\n",
       "      <td>0.0</td>\n",
       "      <td>8.435176</td>\n",
       "      <td>0.0</td>\n",
       "      <td>0.0</td>\n",
       "      <td>0.000000</td>\n",
       "      <td>0.00000</td>\n",
       "      <td>1112.789610</td>\n",
       "      <td>203.735452</td>\n",
       "      <td>...</td>\n",
       "      <td>0.0</td>\n",
       "      <td>0.814556</td>\n",
       "      <td>0.0</td>\n",
       "      <td>0.0</td>\n",
       "      <td>0.0</td>\n",
       "      <td>0.000000</td>\n",
       "      <td>0.0</td>\n",
       "      <td>0.0</td>\n",
       "      <td>0.0</td>\n",
       "      <td>0.000000</td>\n",
       "    </tr>\n",
       "    <tr>\n",
       "      <th>297</th>\n",
       "      <td>0.0</td>\n",
       "      <td>0.0</td>\n",
       "      <td>0.0</td>\n",
       "      <td>1.357593</td>\n",
       "      <td>0.0</td>\n",
       "      <td>0.0</td>\n",
       "      <td>0.000000</td>\n",
       "      <td>0.00000</td>\n",
       "      <td>0.271519</td>\n",
       "      <td>51.317006</td>\n",
       "      <td>...</td>\n",
       "      <td>0.0</td>\n",
       "      <td>47.781231</td>\n",
       "      <td>0.0</td>\n",
       "      <td>0.0</td>\n",
       "      <td>0.0</td>\n",
       "      <td>0.000000</td>\n",
       "      <td>0.0</td>\n",
       "      <td>0.0</td>\n",
       "      <td>0.0</td>\n",
       "      <td>0.000000</td>\n",
       "    </tr>\n",
       "    <tr>\n",
       "      <th>298</th>\n",
       "      <td>0.0</td>\n",
       "      <td>0.0</td>\n",
       "      <td>0.0</td>\n",
       "      <td>0.814556</td>\n",
       "      <td>0.0</td>\n",
       "      <td>0.0</td>\n",
       "      <td>0.000000</td>\n",
       "      <td>0.00000</td>\n",
       "      <td>0.814556</td>\n",
       "      <td>943.311754</td>\n",
       "      <td>...</td>\n",
       "      <td>0.0</td>\n",
       "      <td>11.150362</td>\n",
       "      <td>0.0</td>\n",
       "      <td>0.0</td>\n",
       "      <td>0.0</td>\n",
       "      <td>0.000000</td>\n",
       "      <td>0.0</td>\n",
       "      <td>0.0</td>\n",
       "      <td>0.0</td>\n",
       "      <td>0.000000</td>\n",
       "    </tr>\n",
       "    <tr>\n",
       "      <th>299</th>\n",
       "      <td>0.0</td>\n",
       "      <td>0.0</td>\n",
       "      <td>0.0</td>\n",
       "      <td>13.467320</td>\n",
       "      <td>0.0</td>\n",
       "      <td>0.0</td>\n",
       "      <td>0.000000</td>\n",
       "      <td>0.00000</td>\n",
       "      <td>4.072778</td>\n",
       "      <td>119.872422</td>\n",
       "      <td>...</td>\n",
       "      <td>0.0</td>\n",
       "      <td>7.874038</td>\n",
       "      <td>0.0</td>\n",
       "      <td>0.0</td>\n",
       "      <td>0.0</td>\n",
       "      <td>0.000000</td>\n",
       "      <td>0.0</td>\n",
       "      <td>0.0</td>\n",
       "      <td>0.0</td>\n",
       "      <td>0.000000</td>\n",
       "    </tr>\n",
       "  </tbody>\n",
       "</table>\n",
       "<p>300 rows × 171 columns</p>\n",
       "</div>"
      ],
      "text/plain": [
       "     ABHAY PATEL  ALEX MERCED  ALLEN BUCKLEY  AMY KLOBUCHAR  ANN KIRKPATRICK  \\\n",
       "0            0.0          0.0            0.0       0.643107              0.0   \n",
       "1            0.0          0.0            0.0       0.864890              0.0   \n",
       "2            0.0          0.0            0.0      41.414354              0.0   \n",
       "3            0.0          0.0            0.0       4.324450              0.0   \n",
       "4            0.0          0.0            0.0       4.901044              0.0   \n",
       "..           ...          ...            ...            ...              ...   \n",
       "295          0.0          0.0            0.0      69.388074              0.0   \n",
       "296          0.0          0.0            0.0       8.435176              0.0   \n",
       "297          0.0          0.0            0.0       1.357593              0.0   \n",
       "298          0.0          0.0            0.0       0.814556              0.0   \n",
       "299          0.0          0.0            0.0      13.467320              0.0   \n",
       "\n",
       "     ARN MENCONI  ARVIN VOHRA  BARRY MICHAELS   BEN CARDIN  BERNIE SANDERS  \\\n",
       "0            0.0     0.000000         0.00000     0.964661       60.447298   \n",
       "1            0.0     0.000000         0.00000     0.864890     1160.084533   \n",
       "2            0.0     0.000000         0.00000     3.171264       89.959246   \n",
       "3            0.0     1.153187         0.00000     3.171264      407.068522   \n",
       "4            0.0     0.000000         0.86489     3.747857     2512.988300   \n",
       "..           ...          ...             ...          ...             ...   \n",
       "295          0.0     0.000000         0.00000  3532.054072        0.814556   \n",
       "296          0.0     0.000000         0.00000  1112.789610      203.735452   \n",
       "297          0.0     0.000000         0.00000     0.271519       51.317006   \n",
       "298          0.0     0.000000         0.00000     0.814556      943.311754   \n",
       "299          0.0     0.000000         0.00000     4.072778      119.872422   \n",
       "\n",
       "     ...  TIMOTHY M. KAINE  TINA SMITH  TODD C. YOUNG  TOM CONNORS  TOM JONES  \\\n",
       "0    ...               0.0   45.258062            0.0          0.0        0.0   \n",
       "1    ...               0.0    0.576593            0.0          0.0        0.0   \n",
       "2    ...               0.0   45.040485            0.0          0.0        0.0   \n",
       "3    ...               0.0    0.000000            0.0          0.0        0.0   \n",
       "4    ...               0.0    1.441483            0.0          0.0        0.0   \n",
       "..   ...               ...         ...            ...          ...        ...   \n",
       "295  ...               0.0    1.900630            0.0          0.0        0.0   \n",
       "296  ...               0.0    0.814556            0.0          0.0        0.0   \n",
       "297  ...               0.0   47.781231            0.0          0.0        0.0   \n",
       "298  ...               0.0   11.150362            0.0          0.0        0.0   \n",
       "299  ...               0.0    7.874038            0.0          0.0        0.0   \n",
       "\n",
       "     TONY CAMPBELL  TROY HEBERT  WENDY LONG  WILLIAM ROBERT LANG, JR.  \\\n",
       "0         0.000000          0.0         0.0                       0.0   \n",
       "1         0.000000          0.0         0.0                       0.0   \n",
       "2         0.000000          0.0         0.0                       0.0   \n",
       "3         2.306374          0.0         0.0                       0.0   \n",
       "4         2.882967          0.0         0.0                       0.0   \n",
       "..             ...          ...         ...                       ...   \n",
       "295       0.000000          0.0         0.0                       0.0   \n",
       "296       0.000000          0.0         0.0                       0.0   \n",
       "297       0.000000          0.0         0.0                       0.0   \n",
       "298       0.000000          0.0         0.0                       0.0   \n",
       "299       0.000000          0.0         0.0                       0.0   \n",
       "\n",
       "     ZAK RINGELSTEIN  \n",
       "0           1.607768  \n",
       "1           0.000000  \n",
       "2           3.459560  \n",
       "3           0.576593  \n",
       "4           0.000000  \n",
       "..               ...  \n",
       "295         0.000000  \n",
       "296         0.000000  \n",
       "297         0.000000  \n",
       "298         0.000000  \n",
       "299         0.000000  \n",
       "\n",
       "[300 rows x 171 columns]"
      ]
     },
     "execution_count": 52,
     "metadata": {},
     "output_type": "execute_result"
    }
   ],
   "source": [
    "# rebuild our feature vectors\n",
    "\n",
    "candidate_quotes_cluster_feature_filted = pd.DataFrame(np.zeros([feature_length,len(candidate_name_filted)]), columns=candidate_name_filted)\n",
    "\n",
    "for candidate in candidate_name_filted:\n",
    "    candidate_quotes_timespan = quotes_timespan_byday[candidate]\n",
    "    for days in candidate_quotes_timespan.index:\n",
    "        candidate_quotes_cluster_feature_filted[candidate].iloc[days] = candidate_quotes_timespan.loc[days]\n",
    "        \n",
    "candidate_quotes_cluster_feature_filted"
   ]
  },
  {
   "cell_type": "code",
   "execution_count": 53,
   "id": "ac4d85e3",
   "metadata": {},
   "outputs": [
    {
     "data": {
      "text/plain": [
       "<matplotlib.collections.PathCollection at 0x190ac808cd0>"
      ]
     },
     "execution_count": 53,
     "metadata": {},
     "output_type": "execute_result"
    },
    {
     "data": {
      "image/png": "[encoded data removed]",
      "text/plain": [
       "<Figure size 432x288 with 1 Axes>"
      ]
     },
     "metadata": {
      "needs_background": "light"
     },
     "output_type": "display_data"
    }
   ],
   "source": [
    "# PCA visualization\n",
    "candidate_feature_vectors = candidate_quotes_cluster_feature_filted.to_numpy().T\n",
    "candidate_feature_vectors/=np.linalg.norm(candidate_feature_vectors,axis=1)[:,np.newaxis]\n",
    "reduced_feature_PCA = PCA(n_components=2).fit(candidate_feature_vectors).transform(candidate_feature_vectors)\n",
    "\n",
    "plt.scatter(reduced_feature_PCA[:,0],reduced_feature_PCA[:,1], alpha=0.5)"
   ]
  },
  {
   "cell_type": "code",
   "execution_count": 54,
   "id": "8e0ff0e7",
   "metadata": {},
   "outputs": [
    {
     "data": {
      "text/plain": [
       "[<matplotlib.lines.Line2D at 0x190ac840070>]"
      ]
     },
     "execution_count": 54,
     "metadata": {},
     "output_type": "execute_result"
    },
    {
     "data": {
      "image/png": "[encoded data removed]",
      "text/plain": [
       "<Figure size 432x288 with 1 Axes>"
      ]
     },
     "metadata": {
      "needs_background": "light"
     },
     "output_type": "display_data"
    }
   ],
   "source": [
    "# find cluster number\n",
    "silhouettes=[]\n",
    "for n_clusters in range(2,10):\n",
    "    labels = KMeans(n_clusters=n_clusters).fit_predict(reduced_feature_PCA)\n",
    "    score = silhouette_score(reduced_feature_PCA,labels)\n",
    "    silhouettes.append(score)\n",
    "    \n",
    "plt.plot(range(2,10),silhouettes)"
   ]
  },
  {
   "cell_type": "code",
   "execution_count": 55,
   "id": "272f0dba",
   "metadata": {},
   "outputs": [
    {
     "data": {
      "text/plain": [
       "<matplotlib.collections.PathCollection at 0x190ac868910>"
      ]
     },
     "execution_count": 55,
     "metadata": {},
     "output_type": "execute_result"
    },
    {
     "data": {
      "image/png": "[encoded data removed]",
      "text/plain": [
       "<Figure size 432x288 with 1 Axes>"
      ]
     },
     "metadata": {
      "needs_background": "light"
     },
     "output_type": "display_data"
    }
   ],
   "source": [
    "n_clusters = 2\n",
    "labels = KMeans(n_clusters=n_clusters).fit_predict(reduced_feature_PCA)\n",
    "plt.scatter(reduced_feature_PCA[:,0],reduced_feature_PCA[:,1], alpha=0.5,c=labels)"
   ]
  },
  {
   "cell_type": "code",
   "execution_count": 56,
   "id": "de08da42",
   "metadata": {},
   "outputs": [
    {
     "name": "stdout",
     "output_type": "stream",
     "text": [
      "166 candidates in type 0: Index(['A. WAYNE JOHNSON', 'AARON JAMES', 'ABHAY PATEL', 'AL GROSS',\n",
      "       'ALEX MERCED', 'ALLEN BUCKLEY', 'AMY KLOBUCHAR', 'AMY MCGRATH',\n",
      "       'ANN KIRKPATRICK', 'ARN MENCONI',\n",
      "       ...\n",
      "       'MITCH MCCONNELL', 'MITT ROMNEY', 'MOHAMMAD \"MIKE OBAMA\" ARIF',\n",
      "       'MURRAY SABRIN', 'NEAL SIMON', 'PATRICK \"PAT\" THOMAS',\n",
      "       'PATRICK J. LEAHY', 'PATRICK J. TOOMEY', 'PATRICK MORRISEY',\n",
      "       'PATRICK MURPHY'],\n",
      "      dtype='object', length=166)\n",
      "5 candidates in type 1: Index(['BOB WALSH', 'JEFF RUSSELL', 'JERRY STURGILL', 'JOHNNY ISAKSON',\n",
      "       'MARK KIRK'],\n",
      "      dtype='object')\n"
     ]
    }
   ],
   "source": [
    "# again we show the candidates of each cluster\n",
    "for candidate_type in range(0,n_clusters):\n",
    "    print('{} candidates in type {}: {}'.format(np.where(labels==candidate_type)[0].shape[0],candidate_type,candidate_name[np.where(labels==candidate_type)]))"
   ]
  },
  {
   "cell_type": "code",
   "execution_count": 57,
   "id": "4728806d",
   "metadata": {},
   "outputs": [
    {
     "data": {
      "image/png": "[encoded data removed]",
      "text/plain": [
       "<Figure size 1800x360 with 2 Axes>"
      ]
     },
     "metadata": {
      "needs_background": "light"
     },
     "output_type": "display_data"
    }
   ],
   "source": [
    "# use simple average to visualize the pattern of each cluster\n",
    "fig, axs = plt.subplots(1,n_clusters, figsize=(25,5))\n",
    "for candidate_type in range(0,n_clusters):\n",
    "    axs[candidate_type].plot(range(0,feature_length), np.mean(candidate_feature_vectors[np.where(labels==candidate_type)], axis=0))\n",
    "    axs[candidate_type].set_title('type {}'.format(candidate_type))\n",
    "    axs[candidate_type].set_xlabel('days before election')"
   ]
  },
  {
   "cell_type": "markdown",
   "id": "96e6534b",
   "metadata": {},
   "source": [
    "We also noticed that for most candidates, their quotation number of each day is relatively sparse. So it is resonable to use a longer time interval for our feature vectors. Here we sum the quotation number of each 30 days."
   ]
  },
  {
   "cell_type": "code",
   "execution_count": 58,
   "id": "893bb305",
   "metadata": {},
   "outputs": [],
   "source": [
    "# sum for each 30 day\n",
    "candidate_feature_vectors = candidate_quotes_cluster_feature_filted.to_numpy().T\n",
    "candidate_feature_vectors/=np.linalg.norm(candidate_feature_vectors,axis=1)[:,np.newaxis]\n",
    "candidate_feature_vectors_sum = np.array(np.split(candidate_feature_vectors,10, axis=1)).sum(axis=2).T"
   ]
  },
  {
   "cell_type": "code",
   "execution_count": 59,
   "id": "70f8efaf",
   "metadata": {},
   "outputs": [
    {
     "data": {
      "text/plain": [
       "<matplotlib.collections.PathCollection at 0x190ac8f74c0>"
      ]
     },
     "execution_count": 59,
     "metadata": {},
     "output_type": "execute_result"
    },
    {
     "data": {
      "image/png": "[encoded data removed]",
      "text/plain": [
       "<Figure size 432x288 with 1 Axes>"
      ]
     },
     "metadata": {
      "needs_background": "light"
     },
     "output_type": "display_data"
    }
   ],
   "source": [
    "# PCA visualization\n",
    "reduced_feature_PCA = PCA(n_components=2).fit(candidate_feature_vectors_sum).transform(candidate_feature_vectors_sum)\n",
    "\n",
    "plt.scatter(reduced_feature_PCA[:,0],reduced_feature_PCA[:,1], alpha=0.5)"
   ]
  },
  {
   "cell_type": "code",
   "execution_count": 60,
   "id": "d0236198",
   "metadata": {},
   "outputs": [
    {
     "data": {
      "text/plain": [
       "Text(0.5, 0, 'n_clusters')"
      ]
     },
     "execution_count": 60,
     "metadata": {},
     "output_type": "execute_result"
    },
    {
     "data": {
      "image/png": "[encoded data removed]",
      "text/plain": [
       "<Figure size 432x288 with 1 Axes>"
      ]
     },
     "metadata": {
      "needs_background": "light"
     },
     "output_type": "display_data"
    }
   ],
   "source": [
    "silhouettes=[]\n",
    "for n_clusters in range(2,10):\n",
    "    labels = KMeans(n_clusters=n_clusters).fit_predict(reduced_feature_PCA)\n",
    "    score = silhouette_score(reduced_feature_PCA,labels)\n",
    "    silhouettes.append(score)\n",
    "    \n",
    "plt.plot(range(2,10),silhouettes)\n",
    "plt.xlabel('n_clusters')"
   ]
  },
  {
   "cell_type": "code",
   "execution_count": 61,
   "id": "9d349d84",
   "metadata": {},
   "outputs": [
    {
     "data": {
      "text/plain": [
       "<matplotlib.collections.PathCollection at 0x190ac956d60>"
      ]
     },
     "execution_count": 61,
     "metadata": {},
     "output_type": "execute_result"
    },
    {
     "data": {
      "image/png": "[encoded data removed]",
      "text/plain": [
       "<Figure size 432x288 with 1 Axes>"
      ]
     },
     "metadata": {
      "needs_background": "light"
     },
     "output_type": "display_data"
    }
   ],
   "source": [
    "n_clusters = 3\n",
    "labels = KMeans(n_clusters=n_clusters).fit_predict(reduced_feature_PCA)\n",
    "plt.scatter(reduced_feature_PCA[:,0],reduced_feature_PCA[:,1], alpha=0.5,c=labels)"
   ]
  },
  {
   "cell_type": "code",
   "execution_count": 63,
   "id": "63014d57",
   "metadata": {},
   "outputs": [
    {
     "data": {
      "image/png": "[encoded data removed]",
      "text/plain": [
       "<Figure size 1440x360 with 3 Axes>"
      ]
     },
     "metadata": {
      "needs_background": "light"
     },
     "output_type": "display_data"
    }
   ],
   "source": [
    "fig, axs = plt.subplots(1,n_clusters, figsize=(20,5))\n",
    "for candidate_type in range(0,n_clusters):\n",
    "    axs[candidate_type].plot(range(0,10), np.mean(candidate_feature_vectors_sum[np.where(labels==candidate_type)], axis=0))\n",
    "    axs[candidate_type].set_title('type {}'.format(candidate_type))\n",
    "    axs[candidate_type].set_xlabel('months before election')\n",
    "    axs[candidate_type].set_ylabel('normalized quotes')"
   ]
  },
  {
   "cell_type": "code",
   "execution_count": 64,
   "id": "cd10a8fd",
   "metadata": {},
   "outputs": [
    {
     "name": "stdout",
     "output_type": "stream",
     "text": [
      "35 candidates in type 0: Index(['BERNIE SANDERS', 'BETO O'ROURKE', 'BILL NELSON', 'BOB HUGIN',\n",
      "       'CHELE CHIAVACCI FARLEY', 'CLAIRE MCCASKILL', 'DEAN HELLER',\n",
      "       'ELIZABETH A. WARREN', 'ERIC L. BRAKEY', 'HEIDI HEITKAMP',\n",
      "       'JACKY ROSEN', 'JIM NEWBERGER', 'JOE DONNELLY', 'JOE MANCHIN',\n",
      "       'JOHN BARRASSO', 'JOHN JAMES', 'JON TESTER', 'JOSH HAWLEY',\n",
      "       'KARIN HOUSLEY', 'KEVIN CRAMER', 'KIRSTEN E. GILLIBRAND',\n",
      "       'KYRSTEN SINEMA', 'LEAH VUKMIR', 'MARSHA BLACKBURN', 'MARTHA MCSALLY',\n",
      "       'MITT ROMNEY', 'MURRAY SABRIN', 'PATRICK MORRISEY', 'PHIL BREDESEN',\n",
      "       'RICK SCOTT', 'ROBERT MENENDEZ', 'SHERROD BROWN', 'TAMMY BALDWIN',\n",
      "       'TED CRUZ', 'TINA SMITH'],\n",
      "      dtype='object')\n",
      "113 candidates in type 1: Index(['ABHAY PATEL', 'ALEX MERCED', 'ALLEN BUCKLEY', 'ANN KIRKPATRICK',\n",
      "       'ARN MENCONI', 'ARVIN VOHRA', 'BARRY MICHAELS', 'BEN CARDIN',\n",
      "       'BRAD J. PEACOCK', 'BRIAN SCHATZ',\n",
      "       ...\n",
      "       'THOMAS R CARPER', 'TIM HAGAN', 'TIM SCOTT', 'TIMOTHY M. KAINE',\n",
      "       'TOM JONES', 'TONY CAMPBELL', 'TROY HEBERT', 'WENDY LONG',\n",
      "       'WILLIAM ROBERT LANG, JR.', 'ZAK RINGELSTEIN'],\n",
      "      dtype='object', length=113)\n",
      "23 candidates in type 2: Index(['AMY KLOBUCHAR', 'CAROLINE FAYARD', 'CATHERINE CORTEZ MASTO',\n",
      "       'CHRISTOPHER S MURPHY', 'DIANNE FEINSTEIN', 'FOSTER CAMPBELL',\n",
      "       'GARY E JOHNSON', 'JASON KANDER', 'JERRY STURGILL', 'JIM BARKSDALE',\n",
      "       'JOHN CARROLL', 'JOHN FLEMING', 'LILY TANG WILLIAMS', 'MAZIE K. HIRONO',\n",
      "       'PAUL STANTON', 'PETER WILLIAMS', 'RICHARD BLUMENTHAL',\n",
      "       'RICHARD C. SHELBY', 'ROBERT T. MURPHY', 'SHELDON WHITEHOUSE',\n",
      "       'STEVEN MACHAT', 'TODD C. YOUNG', 'TOM CONNORS'],\n",
      "      dtype='object')\n"
     ]
    }
   ],
   "source": [
    "for candidate_type in range(0,n_clusters):\n",
    "    print('{} candidates in type {}: {}'.format(np.where(labels==candidate_type)[0].shape[0],candidate_type,candidate_name_filted[np.where(labels==candidate_type)]))"
   ]
  },
  {
   "cell_type": "code",
   "execution_count": 70,
   "id": "8ae5f152",
   "metadata": {},
   "outputs": [
    {
     "data": {
      "text/plain": [
       "Text(0.5, 1.0, 'Leah Vukmir, Type 0 Example')"
      ]
     },
     "execution_count": 70,
     "metadata": {},
     "output_type": "execute_result"
    },
    {
     "data": {
      "image/png": "[encoded data removed]",
      "text/plain": [
       "<Figure size 432x288 with 1 Axes>"
      ]
     },
     "metadata": {
      "needs_background": "light"
     },
     "output_type": "display_data"
    }
   ],
   "source": [
    "# From type 0\n",
    "candidate_quotes_cluster_feature_filted['LEAH VUKMIR'].rolling(window=30).sum().plot()\n",
    "plt.xlabel('months before election')\n",
    "plt.ylabel('l2 normalized quotes')\n",
    "plt.title('Leah Vukmir, Type 0 Example')"
   ]
  },
  {
   "cell_type": "code",
   "execution_count": 71,
   "id": "9a0c30ef",
   "metadata": {},
   "outputs": [
    {
     "data": {
      "text/plain": [
       "Text(0.5, 1.0, 'Tim Scott, Type 1 Example')"
      ]
     },
     "execution_count": 71,
     "metadata": {},
     "output_type": "execute_result"
    },
    {
     "data": {
      "image/png": "[encoded data removed]",
      "text/plain": [
       "<Figure size 432x288 with 1 Axes>"
      ]
     },
     "metadata": {
      "needs_background": "light"
     },
     "output_type": "display_data"
    }
   ],
   "source": [
    "# From type 1\n",
    "candidate_quotes_cluster_feature_filted['TIM SCOTT'].rolling(window=30).sum().plot()\n",
    "plt.xlabel('months before election')\n",
    "plt.ylabel('l2 normalized quotes')\n",
    "plt.title('Tim Scott, Type 1 Example')"
   ]
  },
  {
   "cell_type": "code",
   "execution_count": 72,
   "id": "a892a8e0-3c73-462b-bde7-22008cdaa499",
   "metadata": {},
   "outputs": [
    {
     "data": {
      "text/plain": [
       "Text(0.5, 1.0, 'Jerry Sturgill, Type 2 Example')"
      ]
     },
     "execution_count": 72,
     "metadata": {},
     "output_type": "execute_result"
    },
    {
     "data": {
      "image/png": "[encoded data removed]",
      "text/plain": [
       "<Figure size 432x288 with 1 Axes>"
      ]
     },
     "metadata": {
      "needs_background": "light"
     },
     "output_type": "display_data"
    }
   ],
   "source": [
    "# From type 2\n",
    "candidate_quotes_cluster_feature_filted['JERRY STURGILL'].rolling(window=30).sum().plot()\n",
    "plt.xlabel('months before election')\n",
    "plt.ylabel('l2 normalized quotes')\n",
    "plt.title('Jerry Sturgill, Type 2 Example')"
   ]
  },
  {
   "cell_type": "code",
   "execution_count": 74,
   "id": "dabe5482-7ef7-473e-a82f-b35ead549c83",
   "metadata": {},
   "outputs": [],
   "source": [
    "voterate_type0 = candidate_info_byname.loc[candidate_name_filted[np.where(labels==0)]]['vote_rate']\n",
    "voterate_type1 = candidate_info_byname.loc[candidate_name_filted[np.where(labels==1)]]['vote_rate']\n",
    "voterate_type2 = candidate_info_byname.loc[candidate_name_filted[np.where(labels==2)]]['vote_rate']"
   ]
  },
  {
   "cell_type": "code",
   "execution_count": 75,
   "id": "88126cfb-54bd-4e49-95ce-f2bfe0abdabf",
   "metadata": {},
   "outputs": [
    {
     "data": {
      "text/plain": [
       "([<matplotlib.axis.XTick at 0x190ad1cd250>,\n",
       "  <matplotlib.axis.XTick at 0x190ad1cd220>,\n",
       "  <matplotlib.axis.XTick at 0x190ad1e01c0>],\n",
       " [Text(1, 0, 'type0'), Text(2, 0, 'type1'), Text(3, 0, 'type2')])"
      ]
     },
     "execution_count": 75,
     "metadata": {},
     "output_type": "execute_result"
    },
    {
     "data": {
      "image/png": "[encoded data removed]",
      "text/plain": [
       "<Figure size 432x288 with 1 Axes>"
      ]
     },
     "metadata": {
      "needs_background": "light"
     },
     "output_type": "display_data"
    }
   ],
   "source": [
    "plt.boxplot([voterate_type0.to_numpy(),voterate_type1.to_numpy(),voterate_type2.to_numpy()])\n",
    "plt.xticks([1, 2, 3], ['type0', 'type1', 'type2'])"
   ]
  },
  {
   "cell_type": "code",
   "execution_count": 77,
   "id": "e56f46e2-0c59-403c-9fc2-bcf75937fa2e",
   "metadata": {},
   "outputs": [
    {
     "name": "stdout",
     "output_type": "stream",
     "text": [
      "Ttest_indResult(statistic=3.5554217588675883, pvalue=0.0005090308639396297)\n",
      "Ttest_indResult(statistic=3.4156442755250054, pvalue=0.0011906388893072695)\n",
      "Ttest_indResult(statistic=0.3958945279886066, pvalue=0.6928124741628414)\n"
     ]
    }
   ],
   "source": [
    "from scipy.stats import ttest_ind\n",
    "print(ttest_ind(voterate_type0.to_numpy(),voterate_type1.to_numpy()))\n",
    "print(ttest_ind(voterate_type0.to_numpy(),voterate_type2.to_numpy()))\n",
    "print(ttest_ind(voterate_type1.to_numpy(),voterate_type2.to_numpy()))"
   ]
  },
  {
   "cell_type": "markdown",
   "id": "604b01f4-2027-4bd2-a3dd-dacdc2329c2c",
   "metadata": {},
   "source": [
    "The voterate of type 0 is significantly higher than other types."
   ]
  },
  {
   "cell_type": "markdown",
   "id": "1a29c6f1",
   "metadata": {},
   "source": [
    "# 4. Prediction Model\n",
    "In this section, we will try to build the prediction model that uses the senate quotation data to predict election result."
   ]
  },
  {
   "cell_type": "markdown",
   "id": "00a2b64f",
   "metadata": {},
   "source": [
    "**4.1:** First, we label the data by whether the candidate win the election in a new column 'is_winner'"
   ]
  },
  {
   "cell_type": "code",
   "execution_count": 69,
   "id": "8b989331",
   "metadata": {},
   "outputs": [
    {
     "data": {
      "text/html": [
       "<div>\n",
       "<style scoped>\n",
       "    .dataframe tbody tr th:only-of-type {\n",
       "        vertical-align: middle;\n",
       "    }\n",
       "\n",
       "    .dataframe tbody tr th {\n",
       "        vertical-align: top;\n",
       "    }\n",
       "\n",
       "    .dataframe thead th {\n",
       "        text-align: right;\n",
       "    }\n",
       "</style>\n",
       "<table border=\"1\" class=\"dataframe\">\n",
       "  <thead>\n",
       "    <tr style=\"text-align: right;\">\n",
       "      <th></th>\n",
       "      <th>year</th>\n",
       "      <th>state</th>\n",
       "      <th>state_po</th>\n",
       "      <th>state_fips</th>\n",
       "      <th>state_cen</th>\n",
       "      <th>state_ic</th>\n",
       "      <th>office</th>\n",
       "      <th>district</th>\n",
       "      <th>stage</th>\n",
       "      <th>special</th>\n",
       "      <th>candidate</th>\n",
       "      <th>party_detailed</th>\n",
       "      <th>writein</th>\n",
       "      <th>mode</th>\n",
       "      <th>candidatevotes</th>\n",
       "      <th>totalvotes</th>\n",
       "      <th>unofficial</th>\n",
       "      <th>version</th>\n",
       "      <th>party_simplified</th>\n",
       "      <th>is_winner</th>\n",
       "    </tr>\n",
       "  </thead>\n",
       "  <tbody>\n",
       "    <tr>\n",
       "      <th>1</th>\n",
       "      <td>2016</td>\n",
       "      <td>ALABAMA</td>\n",
       "      <td>AL</td>\n",
       "      <td>1</td>\n",
       "      <td>63</td>\n",
       "      <td>41</td>\n",
       "      <td>US SENATE</td>\n",
       "      <td>statewide</td>\n",
       "      <td>gen</td>\n",
       "      <td>False</td>\n",
       "      <td>RICHARD C. SHELBY</td>\n",
       "      <td>REPUBLICAN</td>\n",
       "      <td>False</td>\n",
       "      <td>total</td>\n",
       "      <td>1335104</td>\n",
       "      <td>2087444</td>\n",
       "      <td>False</td>\n",
       "      <td>20210114</td>\n",
       "      <td>REPUBLICAN</td>\n",
       "      <td>True</td>\n",
       "    </tr>\n",
       "    <tr>\n",
       "      <th>7</th>\n",
       "      <td>2016</td>\n",
       "      <td>ALASKA</td>\n",
       "      <td>AK</td>\n",
       "      <td>2</td>\n",
       "      <td>94</td>\n",
       "      <td>81</td>\n",
       "      <td>US SENATE</td>\n",
       "      <td>statewide</td>\n",
       "      <td>gen</td>\n",
       "      <td>False</td>\n",
       "      <td>LISA MURKOWSKI</td>\n",
       "      <td>REPUBLICAN</td>\n",
       "      <td>False</td>\n",
       "      <td>total</td>\n",
       "      <td>138149</td>\n",
       "      <td>311441</td>\n",
       "      <td>False</td>\n",
       "      <td>20210114</td>\n",
       "      <td>REPUBLICAN</td>\n",
       "      <td>True</td>\n",
       "    </tr>\n",
       "    <tr>\n",
       "      <th>12</th>\n",
       "      <td>2016</td>\n",
       "      <td>ARIZONA</td>\n",
       "      <td>AZ</td>\n",
       "      <td>4</td>\n",
       "      <td>86</td>\n",
       "      <td>61</td>\n",
       "      <td>US SENATE</td>\n",
       "      <td>statewide</td>\n",
       "      <td>gen</td>\n",
       "      <td>False</td>\n",
       "      <td>JOHN MCCAIN</td>\n",
       "      <td>REPUBLICAN</td>\n",
       "      <td>False</td>\n",
       "      <td>total</td>\n",
       "      <td>1359267</td>\n",
       "      <td>2530730</td>\n",
       "      <td>False</td>\n",
       "      <td>20210114</td>\n",
       "      <td>REPUBLICAN</td>\n",
       "      <td>True</td>\n",
       "    </tr>\n",
       "    <tr>\n",
       "      <th>14</th>\n",
       "      <td>2016</td>\n",
       "      <td>ARKANSAS</td>\n",
       "      <td>AR</td>\n",
       "      <td>5</td>\n",
       "      <td>71</td>\n",
       "      <td>42</td>\n",
       "      <td>US SENATE</td>\n",
       "      <td>statewide</td>\n",
       "      <td>gen</td>\n",
       "      <td>False</td>\n",
       "      <td>JOHN BOOZMAN</td>\n",
       "      <td>REPUBLICAN</td>\n",
       "      <td>False</td>\n",
       "      <td>total</td>\n",
       "      <td>661984</td>\n",
       "      <td>1107522</td>\n",
       "      <td>False</td>\n",
       "      <td>20210114</td>\n",
       "      <td>REPUBLICAN</td>\n",
       "      <td>True</td>\n",
       "    </tr>\n",
       "    <tr>\n",
       "      <th>18</th>\n",
       "      <td>2016</td>\n",
       "      <td>CALIFORNIA</td>\n",
       "      <td>CA</td>\n",
       "      <td>6</td>\n",
       "      <td>93</td>\n",
       "      <td>71</td>\n",
       "      <td>US SENATE</td>\n",
       "      <td>statewide</td>\n",
       "      <td>gen</td>\n",
       "      <td>False</td>\n",
       "      <td>KAMALA D. HARRIS</td>\n",
       "      <td>DEMOCRAT</td>\n",
       "      <td>False</td>\n",
       "      <td>total</td>\n",
       "      <td>7542753</td>\n",
       "      <td>12244170</td>\n",
       "      <td>False</td>\n",
       "      <td>20210114</td>\n",
       "      <td>DEMOCRAT</td>\n",
       "      <td>True</td>\n",
       "    </tr>\n",
       "  </tbody>\n",
       "</table>\n",
       "</div>"
      ],
      "text/plain": [
       "    year       state state_po  state_fips  state_cen  state_ic     office  \\\n",
       "1   2016     ALABAMA       AL           1         63        41  US SENATE   \n",
       "7   2016      ALASKA       AK           2         94        81  US SENATE   \n",
       "12  2016     ARIZONA       AZ           4         86        61  US SENATE   \n",
       "14  2016    ARKANSAS       AR           5         71        42  US SENATE   \n",
       "18  2016  CALIFORNIA       CA           6         93        71  US SENATE   \n",
       "\n",
       "     district stage  special          candidate party_detailed  writein  \\\n",
       "1   statewide   gen    False  RICHARD C. SHELBY     REPUBLICAN    False   \n",
       "7   statewide   gen    False     LISA MURKOWSKI     REPUBLICAN    False   \n",
       "12  statewide   gen    False        JOHN MCCAIN     REPUBLICAN    False   \n",
       "14  statewide   gen    False       JOHN BOOZMAN     REPUBLICAN    False   \n",
       "18  statewide   gen    False   KAMALA D. HARRIS       DEMOCRAT    False   \n",
       "\n",
       "     mode  candidatevotes  totalvotes  unofficial   version party_simplified  \\\n",
       "1   total         1335104     2087444       False  20210114       REPUBLICAN   \n",
       "7   total          138149      311441       False  20210114       REPUBLICAN   \n",
       "12  total         1359267     2530730       False  20210114       REPUBLICAN   \n",
       "14  total          661984     1107522       False  20210114       REPUBLICAN   \n",
       "18  total         7542753    12244170       False  20210114         DEMOCRAT   \n",
       "\n",
       "    is_winner  \n",
       "1        True  \n",
       "7        True  \n",
       "12       True  \n",
       "14       True  \n",
       "18       True  "
      ]
     },
     "execution_count": 69,
     "metadata": {},
     "output_type": "execute_result"
    }
   ],
   "source": [
    "# Add 'is_winner' feature\n",
    "candidate_info['is_winner'] = False\n",
    "candidate_info.loc[candidate_info.groupby(['year', 'state'])['candidatevotes'].idxmax(), 'is_winner'] = True\n",
    "candidate_info[candidate_info['is_winner'] == True].head(5) # we display 5 winners"
   ]
  },
  {
   "cell_type": "markdown",
   "id": "7752d793",
   "metadata": {},
   "source": [
    "We notice that the dataset also contains situation in which more than one senate are elected in a state in the same year (such situations are officialy called special senate election in the U.S.). To find these special elections, we check whether the sum of candidate votes exceed the total number of votes. "
   ]
  },
  {
   "cell_type": "code",
   "execution_count": 70,
   "id": "58bec1cc",
   "metadata": {},
   "outputs": [
    {
     "data": {
      "text/plain": [
       "year  state      \n",
       "2018  MINNESOTA      False\n",
       "      MISSISSIPPI    False\n",
       "2020  GEORGIA        False\n",
       "dtype: bool"
      ]
     },
     "execution_count": 70,
     "metadata": {},
     "output_type": "execute_result"
    }
   ],
   "source": [
    "# Find the special situations\n",
    "sanity = candidate_info.groupby(['year', 'state'])['candidatevotes'].sum() <= candidate_info.groupby(['year', 'state'])['totalvotes'].mean()\n",
    "sanity[sanity == False]"
   ]
  },
  {
   "cell_type": "markdown",
   "id": "3e9ffeca",
   "metadata": {},
   "source": [
    "After manually looking at the dataset, we find two more winners: Tina Smith in 2018 Minnesota election and Cindy Hyde-Smith in 2018 MIssissippi election. The 2020 Georgia election held an additional runoff in 2021, in which Jon Ossof actually won the election. However, since QuoteBank only contains citations before April 2020, the data cannot reflect quotation changes before elections. We have decided not to include elections happening since 2020. So, we just add the two previously overlooked winners."
   ]
  },
  {
   "cell_type": "code",
   "execution_count": 71,
   "id": "4e551509",
   "metadata": {},
   "outputs": [],
   "source": [
    "# Add winners in special elections\n",
    "candidate_info.loc[candidate_info['candidate'] == 'TINA SMITH','is_winner'] = True\n",
    "candidate_info.loc[candidate_info['candidate'] == 'CINDY HYDE-SMITH','is_winner'] = True"
   ]
  },
  {
   "cell_type": "markdown",
   "id": "680e8130",
   "metadata": {},
   "source": [
    "**4.2:** we now generate features by concatenating the monthly discretized quotation data (defined in clustering section above) and affiliated party information (defined below)"
   ]
  },
  {
   "cell_type": "markdown",
   "id": "8ca88b18",
   "metadata": {},
   "source": [
    "Since affiliated party plays an important role in election, we  include the party affiliation of each candidate. For senate elction in each state, we also consider the affiliated party's vote rate in the most recent presidential election. Since we are looking at the senate election from 2016 to 2029, we will use the 2016 presidential election data.\n",
    "\n",
    "The presidential election data also comes from the MIT Election Data and Science Lab[2]. It contains the presidential election voting result by each state.\n",
    "\n",
    "[2]MIT Election Data and Science Lab, 2017, \"U.S. President 1976–2020\", https://doi.org/10.7910/DVN/42MVDX, Harvard Dataverse, V6."
   ]
  },
  {
   "cell_type": "code",
   "execution_count": 72,
   "id": "0d054640",
   "metadata": {},
   "outputs": [
    {
     "data": {
      "text/html": [
       "<div>\n",
       "<style scoped>\n",
       "    .dataframe tbody tr th:only-of-type {\n",
       "        vertical-align: middle;\n",
       "    }\n",
       "\n",
       "    .dataframe tbody tr th {\n",
       "        vertical-align: top;\n",
       "    }\n",
       "\n",
       "    .dataframe thead th {\n",
       "        text-align: right;\n",
       "    }\n",
       "</style>\n",
       "<table border=\"1\" class=\"dataframe\">\n",
       "  <thead>\n",
       "    <tr style=\"text-align: right;\">\n",
       "      <th></th>\n",
       "      <th>year</th>\n",
       "      <th>state</th>\n",
       "      <th>state_po</th>\n",
       "      <th>state_fips</th>\n",
       "      <th>state_cen</th>\n",
       "      <th>state_ic</th>\n",
       "      <th>office</th>\n",
       "      <th>candidate</th>\n",
       "      <th>party_detailed</th>\n",
       "      <th>writein</th>\n",
       "      <th>candidatevotes</th>\n",
       "      <th>totalvotes</th>\n",
       "      <th>version</th>\n",
       "      <th>notes</th>\n",
       "      <th>party_simplified</th>\n",
       "    </tr>\n",
       "  </thead>\n",
       "  <tbody>\n",
       "    <tr>\n",
       "      <th>3538</th>\n",
       "      <td>2016</td>\n",
       "      <td>MARYLAND</td>\n",
       "      <td>MD</td>\n",
       "      <td>24</td>\n",
       "      <td>52</td>\n",
       "      <td>52</td>\n",
       "      <td>US PRESIDENT</td>\n",
       "      <td>STEIN, JILL</td>\n",
       "      <td>GREEN</td>\n",
       "      <td>False</td>\n",
       "      <td>35945</td>\n",
       "      <td>2781446</td>\n",
       "      <td>20210113</td>\n",
       "      <td>NaN</td>\n",
       "      <td>OTHER</td>\n",
       "    </tr>\n",
       "    <tr>\n",
       "      <th>3721</th>\n",
       "      <td>2016</td>\n",
       "      <td>WEST VIRGINIA</td>\n",
       "      <td>WV</td>\n",
       "      <td>54</td>\n",
       "      <td>55</td>\n",
       "      <td>56</td>\n",
       "      <td>US PRESIDENT</td>\n",
       "      <td>STEIN, JILL</td>\n",
       "      <td>GREEN</td>\n",
       "      <td>False</td>\n",
       "      <td>8075</td>\n",
       "      <td>713051</td>\n",
       "      <td>20210113</td>\n",
       "      <td>NaN</td>\n",
       "      <td>OTHER</td>\n",
       "    </tr>\n",
       "    <tr>\n",
       "      <th>3434</th>\n",
       "      <td>2016</td>\n",
       "      <td>COLORADO</td>\n",
       "      <td>CO</td>\n",
       "      <td>8</td>\n",
       "      <td>84</td>\n",
       "      <td>62</td>\n",
       "      <td>US PRESIDENT</td>\n",
       "      <td>STEIN, JILL</td>\n",
       "      <td>GREEN</td>\n",
       "      <td>False</td>\n",
       "      <td>38437</td>\n",
       "      <td>2780220</td>\n",
       "      <td>20210113</td>\n",
       "      <td>NaN</td>\n",
       "      <td>OTHER</td>\n",
       "    </tr>\n",
       "    <tr>\n",
       "      <th>3725</th>\n",
       "      <td>2016</td>\n",
       "      <td>WISCONSIN</td>\n",
       "      <td>WI</td>\n",
       "      <td>55</td>\n",
       "      <td>35</td>\n",
       "      <td>25</td>\n",
       "      <td>US PRESIDENT</td>\n",
       "      <td>JOHNSON, GARY</td>\n",
       "      <td>LIBERTARIAN</td>\n",
       "      <td>False</td>\n",
       "      <td>106674</td>\n",
       "      <td>2976150</td>\n",
       "      <td>20210113</td>\n",
       "      <td>NaN</td>\n",
       "      <td>LIBERTARIAN</td>\n",
       "    </tr>\n",
       "  </tbody>\n",
       "</table>\n",
       "</div>"
      ],
      "text/plain": [
       "      year          state state_po  state_fips  state_cen  state_ic  \\\n",
       "3538  2016       MARYLAND       MD          24         52        52   \n",
       "3721  2016  WEST VIRGINIA       WV          54         55        56   \n",
       "3434  2016       COLORADO       CO           8         84        62   \n",
       "3725  2016      WISCONSIN       WI          55         35        25   \n",
       "\n",
       "            office      candidate party_detailed writein  candidatevotes  \\\n",
       "3538  US PRESIDENT    STEIN, JILL          GREEN   False           35945   \n",
       "3721  US PRESIDENT    STEIN, JILL          GREEN   False            8075   \n",
       "3434  US PRESIDENT    STEIN, JILL          GREEN   False           38437   \n",
       "3725  US PRESIDENT  JOHNSON, GARY    LIBERTARIAN   False          106674   \n",
       "\n",
       "      totalvotes   version  notes party_simplified  \n",
       "3538     2781446  20210113    NaN            OTHER  \n",
       "3721      713051  20210113    NaN            OTHER  \n",
       "3434     2780220  20210113    NaN            OTHER  \n",
       "3725     2976150  20210113    NaN      LIBERTARIAN  "
      ]
     },
     "execution_count": 72,
     "metadata": {},
     "output_type": "execute_result"
    }
   ],
   "source": [
    "# We load 2016 result separately\n",
    "president = pd.read_csv('SenateData/1976-2020-president.csv')\n",
    "president16 = president[president['year'] == 2016].copy()\n",
    "president16.sample(4) #display format of president election data"
   ]
  },
  {
   "cell_type": "code",
   "execution_count": 73,
   "id": "84a8ea82",
   "metadata": {},
   "outputs": [
    {
     "data": {
      "text/plain": [
       "state      party_simplified\n",
       "ALABAMA    DEMOCRAT            0.343579\n",
       "           LIBERTARIAN         0.020942\n",
       "           OTHER               0.014648\n",
       "           REPUBLICAN          0.620831\n",
       "ALASKA     DEMOCRAT            0.365509\n",
       "                                 ...   \n",
       "WISCONSIN  REPUBLICAN          0.472182\n",
       "WYOMING    DEMOCRAT            0.216289\n",
       "           LIBERTARIAN         0.051343\n",
       "           OTHER               0.058384\n",
       "           REPUBLICAN          0.673984\n",
       "Name: vote_rate, Length: 201, dtype: float64"
      ]
     },
     "execution_count": 73,
     "metadata": {},
     "output_type": "execute_result"
    }
   ],
   "source": [
    "# We add vote rate to each candidate in each state\n",
    "president16['vote_rate'] = president16['candidatevotes']/president16['totalvotes']\n",
    "# We group the data by states and party_simplified (represent small parties, independent, NaN all by 'Others'). \n",
    "# We take sum of vote rates of cadidates from the same party_simplified\n",
    "vote_byparty16 = president16.groupby(['state', 'party_simplified'])['vote_rate'].sum()\n",
    "vote_byparty16"
   ]
  },
  {
   "cell_type": "code",
   "execution_count": 74,
   "id": "6ede7665",
   "metadata": {},
   "outputs": [
    {
     "data": {
      "text/html": [
       "<div>\n",
       "<style scoped>\n",
       "    .dataframe tbody tr th:only-of-type {\n",
       "        vertical-align: middle;\n",
       "    }\n",
       "\n",
       "    .dataframe tbody tr th {\n",
       "        vertical-align: top;\n",
       "    }\n",
       "\n",
       "    .dataframe thead th {\n",
       "        text-align: right;\n",
       "    }\n",
       "</style>\n",
       "<table border=\"1\" class=\"dataframe\">\n",
       "  <thead>\n",
       "    <tr style=\"text-align: right;\">\n",
       "      <th></th>\n",
       "      <th>party_simplified</th>\n",
       "      <th>party_vote_rate</th>\n",
       "    </tr>\n",
       "    <tr>\n",
       "      <th>candidate</th>\n",
       "      <th></th>\n",
       "      <th></th>\n",
       "    </tr>\n",
       "  </thead>\n",
       "  <tbody>\n",
       "    <tr>\n",
       "      <th>MARGARET STOCK</th>\n",
       "      <td>OTHER</td>\n",
       "      <td>0.062905</td>\n",
       "    </tr>\n",
       "    <tr>\n",
       "      <th>BRECK A. CRAIG</th>\n",
       "      <td>OTHER</td>\n",
       "      <td>0.062905</td>\n",
       "    </tr>\n",
       "    <tr>\n",
       "      <th>NICHOLAS N. GLENN</th>\n",
       "      <td>OTHER</td>\n",
       "      <td>0.020686</td>\n",
       "    </tr>\n",
       "    <tr>\n",
       "      <th>MIKE WORKMAN</th>\n",
       "      <td>DEMOCRAT</td>\n",
       "      <td>0.289317</td>\n",
       "    </tr>\n",
       "    <tr>\n",
       "      <th>CHARLES E. SCHUMER</th>\n",
       "      <td>OTHER</td>\n",
       "      <td>0.107370</td>\n",
       "    </tr>\n",
       "  </tbody>\n",
       "</table>\n",
       "</div>"
      ],
      "text/plain": [
       "                   party_simplified  party_vote_rate\n",
       "candidate                                           \n",
       "MARGARET STOCK                OTHER         0.062905\n",
       "BRECK A. CRAIG                OTHER         0.062905\n",
       "NICHOLAS N. GLENN             OTHER         0.020686\n",
       "MIKE WORKMAN               DEMOCRAT         0.289317\n",
       "CHARLES E. SCHUMER            OTHER         0.107370"
      ]
     },
     "execution_count": 74,
     "metadata": {},
     "output_type": "execute_result"
    }
   ],
   "source": [
    "# We create feature dataframe and add in party_simplified, party vote rate in most recent presidential election, and final vote rate\n",
    "# If the senate candidate's affiliated party does not show up in the most recent president election, party_vote_rate is 0\n",
    "party_features = candidate_info_byname[['party_simplified']].copy()\n",
    "for name in party_features.index:\n",
    "    state_ = candidate_info_byname.loc[name, 'state']\n",
    "    party_ = candidate_info_byname.loc[name, 'party_simplified']\n",
    "    if party_ in vote_byparty16[state_].index:  #check whether the affiliated party is in recent president election\n",
    "        party_features.loc[name, 'party_vote_rate'] = vote_byparty16[state_][party_]\n",
    "    else: \n",
    "        party_features.loc[name, 'party_vote_rate'] = 0\n",
    "        \n",
    "party_features.sample(5)"
   ]
  },
  {
   "cell_type": "code",
   "execution_count": 75,
   "id": "99f95b9e",
   "metadata": {},
   "outputs": [
    {
     "name": "stdout",
     "output_type": "stream",
     "text": [
      "we have feature vectors from 132 candidates, each with dimension 11\n"
     ]
    }
   ],
   "source": [
    "# We get the candidates used for model and extract the vector corresponding to affliated party's performance in last election\n",
    "candidates_model = candidate_quotes_cluster_feature_filted.T.index\n",
    "party_vote_model = party_features.loc[candidates_model].party_vote_rate\n",
    "# We then concatenate this vector to our model\n",
    "features = np.concatenate((candidate_feature_vectors_sum, party_vote_model.to_numpy()[:, np.newaxis]), axis=1)\n",
    "print('we have feature vectors from {} candidates, each with dimension {}'.format(features.shape[0], features.shape[1]))"
   ]
  },
  {
   "cell_type": "code",
   "execution_count": 76,
   "id": "50768214",
   "metadata": {},
   "outputs": [
    {
     "name": "stdout",
     "output_type": "stream",
     "text": [
      "we have 51 winner candidates and 81 loser candidate\n"
     ]
    }
   ],
   "source": [
    "# we also obtain the corresponding labels, with 0 meaning lose and 1 meaning win\n",
    "labels = candidate_info.set_index('candidate').loc[candidates_model].is_winner.astype(int).to_numpy()\n",
    "print('we have {} winner candidates and {} loser candidate'.format(sum(labels), len(labels) - sum(labels)))\n"
   ]
  },
  {
   "cell_type": "code",
   "execution_count": 77,
   "id": "7da278ff",
   "metadata": {},
   "outputs": [
    {
     "name": "stdout",
     "output_type": "stream",
     "text": [
      "we have 99 training data and 33 test data\n"
     ]
    }
   ],
   "source": [
    "# This helps split the data if we want to split train and test\n",
    "from sklearn.model_selection import train_test_split\n",
    "X_train, X_test, y_train, y_test = train_test_split(features, labels, test_size=0.25, random_state=123)\n",
    "print('we have {} training data and {} test data'.format(len(y_train), len(y_test)))"
   ]
  },
  {
   "cell_type": "markdown",
   "id": "47a07ffb",
   "metadata": {},
   "source": [
    "**4.3:** We build a Logistic Regression Model to predict the result"
   ]
  },
  {
   "cell_type": "code",
   "execution_count": 78,
   "id": "be8a56dd",
   "metadata": {},
   "outputs": [],
   "source": [
    "from sklearn.linear_model import LogisticRegression\n",
    "from sklearn.model_selection import cross_val_predict, cross_val_score\n",
    "from sklearn.metrics import accuracy_score, f1_score"
   ]
  },
  {
   "cell_type": "markdown",
   "id": "b7cfc3c5",
   "metadata": {},
   "source": [
    "We use 5-fold cross-validation on the whole dataset, to see how well logistic regression can perform on training set."
   ]
  },
  {
   "cell_type": "code",
   "execution_count": 79,
   "id": "38cbe6f0",
   "metadata": {},
   "outputs": [
    {
     "name": "stdout",
     "output_type": "stream",
     "text": [
      "Cross-Validated Training Precision: 0.75 (+/- 0.49)\n",
      "Cross-Validated Training Recall: 0.40 (+/- 0.45)\n"
     ]
    }
   ],
   "source": [
    "logistic = LogisticRegression(solver='lbfgs')\n",
    "precision = cross_val_score(logistic, X_train, y_train, cv=5, scoring=\"precision\")\n",
    "recall = cross_val_score(logistic, X_train, y_train, cv=5, scoring=\"recall\")\n",
    "# Precision: avoid false positives\n",
    "print(\"Cross-Validated Training Precision: %0.2f (+/- %0.2f)\" % (precision.mean(), precision.std() * 2))\n",
    "# Recall: avoid false negatives\n",
    "print(\"Cross-Validated Training Recall: %0.2f (+/- %0.2f)\" % (recall.mean(), recall.std() * 2))"
   ]
  },
  {
   "cell_type": "markdown",
   "id": "0a1fef99",
   "metadata": {},
   "source": [
    "Then, we train the logistic regression on the traing dataset and predict the test dataset"
   ]
  },
  {
   "cell_type": "code",
   "execution_count": 80,
   "id": "25de09bc",
   "metadata": {},
   "outputs": [
    {
     "name": "stdout",
     "output_type": "stream",
     "text": [
      "On the test dataset, we obtain accuracy 0.6666666666666666 and f1 score 0.5217391304347826\n"
     ]
    }
   ],
   "source": [
    "logistic = LogisticRegression(solver='lbfgs')\n",
    "logistic.fit(X_train, y_train) # train the model\n",
    "y_preds = logistic.predict(X_test)\n",
    "accuracy = accuracy_score(y_test, y_preds)\n",
    "f1 = f1_score(y_test, y_preds)\n",
    "print(\"On the test dataset, we obtain accuracy {} and f1 score {}\".format(accuracy, f1))"
   ]
  },
  {
   "cell_type": "markdown",
   "id": "2da3fd18",
   "metadata": {},
   "source": [
    "We then apply the XGBoost. "
   ]
  },
  {
   "cell_type": "code",
   "execution_count": 81,
   "id": "1b34af76",
   "metadata": {},
   "outputs": [
    {
     "name": "stdout",
     "output_type": "stream",
     "text": [
      "Cross-Validated Training Precision: 0.74 (+/- 0.35)\n",
      "Cross-Validated Training Recall: 0.68 (+/- 0.42)\n"
     ]
    }
   ],
   "source": [
    "import xgboost as xgb\n",
    "# logistic = LogisticRegression(solver='lbfgs')\n",
    "clf = xgb.XGBClassifier(\n",
    "    n_estimators=100,\n",
    "    reg_lambda=0.5,\n",
    "    gamma=1,\n",
    "    max_depth=1,\n",
    "    use_label_encoder=False,\n",
    "    eval_metric='mlogloss'\n",
    ")\n",
    "precision = cross_val_score(clf, X_train, y_train, cv=5, scoring=\"precision\")\n",
    "recall = cross_val_score(clf, X_train, y_train, cv=5, scoring=\"recall\")\n",
    "# Precision: avoid false positives\n",
    "print(\"Cross-Validated Training Precision: %0.2f (+/- %0.2f)\" % (precision.mean(), precision.std() * 2))\n",
    "# Recall: avoid false negatives\n",
    "print(\"Cross-Validated Training Recall: %0.2f (+/- %0.2f)\" % (recall.mean(), recall.std() * 2))"
   ]
  },
  {
   "cell_type": "code",
   "execution_count": 82,
   "id": "863245c7",
   "metadata": {},
   "outputs": [
    {
     "name": "stdout",
     "output_type": "stream",
     "text": [
      "On the test dataset, we obtain accuracy 0.8787878787878788 and f1 score 0.8749999999999999\n"
     ]
    }
   ],
   "source": [
    "\n",
    "# read in data\n",
    "clf.fit(X_train, y_train)\n",
    "y_preds = clf.predict(X_test)\n",
    "accuracy = accuracy_score(y_test, y_preds)\n",
    "f1 = f1_score(y_test, y_preds)\n",
    "print(\"On the test dataset, we obtain accuracy {} and f1 score {}\".format(accuracy, f1))"
   ]
  },
  {
   "cell_type": "markdown",
   "id": "de0b4e76",
   "metadata": {
    "jp-MarkdownHeadingCollapsed": true,
    "tags": []
   },
   "source": [
    "# 5. Sentiment Analysis"
   ]
  },
  {
   "cell_type": "code",
   "execution_count": 80,
   "id": "241cd01f",
   "metadata": {},
   "outputs": [],
   "source": [
    "# Obtain quotation's sentiment toward mentioned candidates\n",
    "import bz2\n",
    "import json\n",
    "from vaderSentiment.vaderSentiment import SentimentIntensityAnalyzer\n",
    "import pickle\n",
    "analyzer = SentimentIntensityAnalyzer()\n",
    "from collections import defaultdict\n",
    "\n",
    "\n",
    "senate_candidates = list(map(lambda x:x.title(), senate_candidates))\n",
    "senate_candidates_sentiment = defaultdict(list)\n",
    "\n",
    "#candidate_quotes_mention = pd.read_pickle('SenateData/candidate_quotes_mention.pkl') \n",
    "# The above line was used to load previously stored mention data, no need to run it if you have run the above cells\n",
    "candidate_quotes_mention['quotation_score'] =  candidate_quotes_mention.apply(lambda x: analyzer.polarity_scores(x['quotation'])['compound'], axis=1)\n",
    "scale = candidate_quotes_mention['normalize_factor'].max() \n",
    "# we will divide the above scale factor when normalizing sentiment, to make sure the normalized sentimate still range from -1 to 1\n",
    "candidate_quotes_mention['normalize_quotation_score'] = candidate_quotes_mention['quotation_score']*(candidate_quotes_mention['normalize_factor']/scale)\n",
    "for index, instance in candidate_quotes_mention.iterrows():\n",
    "    senate_candidates_sentiment[instance['mention']].append((instance['date'].date(), instance['quotation_score']))\n",
    "\n",
    "# The function to extract sentiment of the sentence\n",
    "def obtain_mean_sentiment(sentiment_list, time_span=None):\n",
    "    # sentiment_list consists of (date, sentiment), we obtain mean sentiment in each timespan\n",
    "    # time span (date_lower: str, date upper: str) \n",
    "    if time_span is None:\n",
    "        return sum(map(lambda x: x[1], sentiment_list)) / len(sentiment_list)\n",
    "    date_start=pd.to_datetime(time_span[0], format='%Y-%m-%d') \n",
    "    date_end=pd.to_datetime(time_span[1], format='%Y-%m-%d')\n",
    "    filtered_sentiment_list = list(filter(lambda x: date_start <= pd.to_datetime(x[0], format='%Y-%m-%d')  < date_end, sentiment_list))\n",
    "    return sum(map(lambda x: x[1], filtered_sentiment_list)) / max(len(filtered_sentiment_list),1)"
   ]
  },
  {
   "cell_type": "markdown",
   "id": "4a532eb5",
   "metadata": {},
   "source": [
    "We can visualize the sentiment changes toward each candidate over time. We take Bernie Sanders as an example."
   ]
  },
  {
   "cell_type": "code",
   "execution_count": 81,
   "id": "42981a07",
   "metadata": {},
   "outputs": [
    {
     "data": {
      "text/plain": [
       "Text(0.5, 1.0, 'Bernie Sanders')"
      ]
     },
     "execution_count": 81,
     "metadata": {},
     "output_type": "execute_result"
    },
    {
     "data": {
      "image/png": "[encoded data removed]",
      "text/plain": [
       "<Figure size 432x288 with 1 Axes>"
      ]
     },
     "metadata": {
      "needs_background": "light"
     },
     "output_type": "display_data"
    }
   ],
   "source": [
    "# Group sentiment scores by candidates and dates, average the score in each day\n",
    "candidate_senti_byday = candidate_quotes_mention.groupby(['mention', 'date_only'])['normalize_quotation_score'].mean()\n",
    "# Visualize the sentiment change of Bernie Sanders\n",
    "candidate_senti_byday['BERNIE SANDERS'].rolling(window=30).mean().plot() # we take monthly average for better display\n",
    "plt.xlabel('time')\n",
    "plt.ylabel('Sentiment Score (monthly average)')\n",
    "plt.title('Bernie Sanders')"
   ]
  },
  {
   "cell_type": "markdown",
   "id": "5362af72",
   "metadata": {},
   "source": [
    "We then look at the average sentiment toward each candidate within a year before the election. We can compare this to the final vote rate, so that we know whether the sentiment displayed in quotations reflect support rate."
   ]
  },
  {
   "cell_type": "code",
   "execution_count": 82,
   "id": "0a9159ac",
   "metadata": {},
   "outputs": [],
   "source": [
    "# We group the quotations within 1 year before election day\n",
    "quotes_byelection = candidate_quotes_mention[candidate_quotes_mention['date_only'] < candidate_quotes_mention['election_day']]\n",
    "start_date = pd.to_datetime(quotes_byelection ['mention'].map(candidate_info_byname['year'] - 1).astype(str)+ '-11-01') # start date 1 yr before election\n",
    "quotes_byelection = quotes_byelection[quotes_byelection['date_only'] > start_date] # all quotes within 1 year before election\n",
    "# We compute the mean sentiment within that year\n",
    "senti_byelection = pd.DataFrame(quotes_byelection.groupby(['mention'])['normalize_quotation_score'].mean())\n",
    "senti_byelection.rename(columns = {'normalize_quotation_score': 'mean_sentiment_byelection'}, inplace=True)\n"
   ]
  },
  {
   "cell_type": "code",
   "execution_count": 83,
   "id": "bebcfadb",
   "metadata": {},
   "outputs": [
    {
     "name": "stdout",
     "output_type": "stream",
     "text": [
      "Pearson coefficient: -0.10998685465657197, p value: 0.09323745970762687\n"
     ]
    },
    {
     "data": {
      "image/png": "[encoded data removed]",
      "text/plain": [
       "<Figure size 432x288 with 1 Axes>"
      ]
     },
     "metadata": {
      "needs_background": "light"
     },
     "output_type": "display_data"
    }
   ],
   "source": [
    "# We add the vote rate and plot the scatter plot of vote rate against total quotes by election\n",
    "senti_byelection['vote_rate'] = senti_byelection.index.map(candidate_info_byname['vote_rate'])\n",
    "\n",
    "# linear regression\n",
    "senti_vote = senti_byelection.plot.scatter(x = 'mean_sentiment_byelection', y = 'vote_rate', logx=True)\n",
    "(corr1, pvalue) = pearsonr(senti_byelection['mean_sentiment_byelection'], senti_byelection['vote_rate'])\n",
    "print(f'Pearson coefficient: {corr1}, p value: {pvalue}')"
   ]
  },
  {
   "cell_type": "markdown",
   "id": "86104964",
   "metadata": {},
   "source": [
    "There is no significant (p-value > 0.05) correlation between the sentiment in quotes and final vote rate!"
   ]
  },
  {
   "cell_type": "markdown",
   "id": "fdfb9a52",
   "metadata": {
    "jp-MarkdownHeadingCollapsed": true,
    "tags": []
   },
   "source": [
    "## 3. Features for Prediction Model (This is the OLD CODE)\n",
    "In the proposal, we decide to build a model predicting election results based on quotation data. Here, we preprocess the quote data and candidate data to generate the features for training our model.\n",
    "\n",
    "The first feature is the change of quotation number over time. We will also use this for clustering analysis in proposed question 3."
   ]
  },
  {
   "cell_type": "code",
   "execution_count": null,
   "id": "7a550200",
   "metadata": {},
   "outputs": [],
   "source": [
    "date_start=pd.to_datetime('2015-01-01', format='%Y-%m-%d') \n",
    "all_date = (pd.to_datetime('2020-12-31', format='%Y-%m-%d') - date_start).days # number of days.\n",
    "candidate_quotes_name = candidate_quotes_byday.index.map(lambda x:x[0]).drop_duplicates()\n",
    "candidate_quotes_feature = pd.DataFrame(np.zeros([all_date,len(candidate_quotes_name)]), columns=candidate_quotes_name) # initialize frequency vector\n",
    "\n",
    "for candidate in candidate_quotes_name:\n",
    "    candidate_mention = candidate_quotes_byday[candidate]\n",
    "    for date in candidate_mention.index:\n",
    "        date2days = (pd.to_datetime(date, format='%Y-%m-%d') - date_start).days # convert date to num of days w.r.t. start date\n",
    "        candidate_quotes_feature[candidate].iloc[date2days] = candidate_mention.loc[date]"
   ]
  },
  {
   "cell_type": "code",
   "execution_count": 84,
   "id": "f5fda582-1c44-4dd5-8678-8915cc5d3328",
   "metadata": {},
   "outputs": [
    {
     "data": {
      "text/plain": [
       "speaker           date_only \n",
       "A. WAYNE JOHNSON  2015-01-06    0.601997\n",
       "                  2015-02-09    0.602585\n",
       "                  2015-02-11    1.205169\n",
       "                  2015-02-20    0.602585\n",
       "                  2015-03-01    0.535357\n",
       "                                  ...   \n",
       "ZAK RINGELSTEIN   2018-10-30    5.125275\n",
       "                  2018-11-01    2.381878\n",
       "                  2018-11-05    0.476376\n",
       "                  2018-11-07    0.476376\n",
       "                  2019-03-21    0.503878\n",
       "Name: normalize_quotes, Length: 136070, dtype: float64"
      ]
     },
     "execution_count": 84,
     "metadata": {},
     "output_type": "execute_result"
    }
   ],
   "source": [
    "candidate_quotes_byday"
   ]
  },
  {
   "cell_type": "markdown",
   "id": "0e62d3a6",
   "metadata": {},
   "source": [
    "We also include the party affiliation of each candidate. Moreover, we also consider the affiliated party's vote rate in the most recent presidential election. Since we are looking at the election from 2016 to 2021, we will use the 2016 presidential election data for the senate election from 2016 to 2019, and use the 2020 presidential election data for the senate election from 2020 to 2021.\n",
    "\n",
    "The presidential election data also comes from the MIT Election Data and Science Lab[2]. It contains the presidential election voting result by each state.\n",
    "\n",
    "[2]MIT Election Data and Science Lab, 2017, \"U.S. President 1976–2020\", https://doi.org/10.7910/DVN/42MVDX, Harvard Dataverse, V6."
   ]
  },
  {
   "cell_type": "code",
   "execution_count": 85,
   "id": "9d307c4a",
   "metadata": {},
   "outputs": [
    {
     "data": {
      "text/html": [
       "<div>\n",
       "<style scoped>\n",
       "    .dataframe tbody tr th:only-of-type {\n",
       "        vertical-align: middle;\n",
       "    }\n",
       "\n",
       "    .dataframe tbody tr th {\n",
       "        vertical-align: top;\n",
       "    }\n",
       "\n",
       "    .dataframe thead th {\n",
       "        text-align: right;\n",
       "    }\n",
       "</style>\n",
       "<table border=\"1\" class=\"dataframe\">\n",
       "  <thead>\n",
       "    <tr style=\"text-align: right;\">\n",
       "      <th></th>\n",
       "      <th>year</th>\n",
       "      <th>state</th>\n",
       "      <th>state_po</th>\n",
       "      <th>state_fips</th>\n",
       "      <th>state_cen</th>\n",
       "      <th>state_ic</th>\n",
       "      <th>office</th>\n",
       "      <th>candidate</th>\n",
       "      <th>party_detailed</th>\n",
       "      <th>writein</th>\n",
       "      <th>candidatevotes</th>\n",
       "      <th>totalvotes</th>\n",
       "      <th>version</th>\n",
       "      <th>notes</th>\n",
       "      <th>party_simplified</th>\n",
       "    </tr>\n",
       "  </thead>\n",
       "  <tbody>\n",
       "    <tr>\n",
       "      <th>3432</th>\n",
       "      <td>2016</td>\n",
       "      <td>COLORADO</td>\n",
       "      <td>CO</td>\n",
       "      <td>8</td>\n",
       "      <td>84</td>\n",
       "      <td>62</td>\n",
       "      <td>US PRESIDENT</td>\n",
       "      <td>TRUMP, DONALD J.</td>\n",
       "      <td>REPUBLICAN</td>\n",
       "      <td>False</td>\n",
       "      <td>1202484</td>\n",
       "      <td>2780220</td>\n",
       "      <td>20210113</td>\n",
       "      <td>NaN</td>\n",
       "      <td>REPUBLICAN</td>\n",
       "    </tr>\n",
       "    <tr>\n",
       "      <th>3652</th>\n",
       "      <td>2016</td>\n",
       "      <td>OKLAHOMA</td>\n",
       "      <td>OK</td>\n",
       "      <td>40</td>\n",
       "      <td>73</td>\n",
       "      <td>53</td>\n",
       "      <td>US PRESIDENT</td>\n",
       "      <td>JOHNSON, GARY</td>\n",
       "      <td>LIBERTARIAN</td>\n",
       "      <td>False</td>\n",
       "      <td>83481</td>\n",
       "      <td>1452992</td>\n",
       "      <td>20210113</td>\n",
       "      <td>NaN</td>\n",
       "      <td>LIBERTARIAN</td>\n",
       "    </tr>\n",
       "    <tr>\n",
       "      <th>3636</th>\n",
       "      <td>2016</td>\n",
       "      <td>NORTH CAROLINA</td>\n",
       "      <td>NC</td>\n",
       "      <td>37</td>\n",
       "      <td>56</td>\n",
       "      <td>47</td>\n",
       "      <td>US PRESIDENT</td>\n",
       "      <td>SCATTERING</td>\n",
       "      <td>NaN</td>\n",
       "      <td>True</td>\n",
       "      <td>47386</td>\n",
       "      <td>4741564</td>\n",
       "      <td>20210113</td>\n",
       "      <td>NaN</td>\n",
       "      <td>OTHER</td>\n",
       "    </tr>\n",
       "    <tr>\n",
       "      <th>3534</th>\n",
       "      <td>2016</td>\n",
       "      <td>MAINE</td>\n",
       "      <td>ME</td>\n",
       "      <td>23</td>\n",
       "      <td>11</td>\n",
       "      <td>2</td>\n",
       "      <td>US PRESIDENT</td>\n",
       "      <td>NaN</td>\n",
       "      <td>UNENROLLED</td>\n",
       "      <td>False</td>\n",
       "      <td>2243</td>\n",
       "      <td>771892</td>\n",
       "      <td>20210113</td>\n",
       "      <td>NaN</td>\n",
       "      <td>OTHER</td>\n",
       "    </tr>\n",
       "  </tbody>\n",
       "</table>\n",
       "</div>"
      ],
      "text/plain": [
       "      year           state state_po  state_fips  state_cen  state_ic  \\\n",
       "3432  2016        COLORADO       CO           8         84        62   \n",
       "3652  2016        OKLAHOMA       OK          40         73        53   \n",
       "3636  2016  NORTH CAROLINA       NC          37         56        47   \n",
       "3534  2016           MAINE       ME          23         11         2   \n",
       "\n",
       "            office         candidate party_detailed writein  candidatevotes  \\\n",
       "3432  US PRESIDENT  TRUMP, DONALD J.     REPUBLICAN   False         1202484   \n",
       "3652  US PRESIDENT     JOHNSON, GARY    LIBERTARIAN   False           83481   \n",
       "3636  US PRESIDENT        SCATTERING            NaN    True           47386   \n",
       "3534  US PRESIDENT               NaN     UNENROLLED   False            2243   \n",
       "\n",
       "      totalvotes   version  notes party_simplified  \n",
       "3432     2780220  20210113    NaN       REPUBLICAN  \n",
       "3652     1452992  20210113    NaN      LIBERTARIAN  \n",
       "3636     4741564  20210113    NaN            OTHER  \n",
       "3534      771892  20210113    NaN            OTHER  "
      ]
     },
     "execution_count": 85,
     "metadata": {},
     "output_type": "execute_result"
    }
   ],
   "source": [
    "# We load 2016 and 2020 result separately\n",
    "president = pd.read_csv('SenateData/1976-2020-president.csv')\n",
    "president16 = president[president['year'] == 2016].copy()\n",
    "president20 = president[president['year'] == 2020].copy()\n",
    "president16.sample(4) #display format of president election data"
   ]
  },
  {
   "cell_type": "code",
   "execution_count": 86,
   "id": "e10bd410",
   "metadata": {},
   "outputs": [],
   "source": [
    "# We add vote rate to each candidate in each state\n",
    "president16['vote_rate'] = president16['candidatevotes']/president16['totalvotes']\n",
    "president20['vote_rate'] = president20['candidatevotes']/president20['totalvotes']"
   ]
  },
  {
   "cell_type": "code",
   "execution_count": 87,
   "id": "036b6612",
   "metadata": {},
   "outputs": [
    {
     "data": {
      "text/plain": [
       "state      party_simplified\n",
       "ALABAMA    DEMOCRAT            0.343579\n",
       "           LIBERTARIAN         0.020942\n",
       "           OTHER               0.014648\n",
       "           REPUBLICAN          0.620831\n",
       "ALASKA     DEMOCRAT            0.365509\n",
       "                                 ...   \n",
       "WISCONSIN  REPUBLICAN          0.472182\n",
       "WYOMING    DEMOCRAT            0.216289\n",
       "           LIBERTARIAN         0.051343\n",
       "           OTHER               0.058384\n",
       "           REPUBLICAN          0.673984\n",
       "Name: vote_rate, Length: 201, dtype: float64"
      ]
     },
     "execution_count": 87,
     "metadata": {},
     "output_type": "execute_result"
    }
   ],
   "source": [
    "# We group the data by states and party_simplified (represent small parties, independent, NaN all by 'Others'). \n",
    "# We take sum of vote rates of cadidates from the same party_simplified\n",
    "vote_byparty16 = president16.groupby(['state', 'party_simplified'])['vote_rate'].sum()\n",
    "vote_byparty20 = president20.groupby(['state', 'party_simplified'])['vote_rate'].sum()\n",
    "vote_byparty16"
   ]
  },
  {
   "cell_type": "code",
   "execution_count": 88,
   "id": "0e25e62d",
   "metadata": {},
   "outputs": [],
   "source": [
    "# We create feature dataframe and add in party_simplified, party vote rate in most recent presidential election, and final vote rate\n",
    "# If the senate candidate's affiliated party does not show up in the most recent president election, party_vote_rate is 0\n",
    "features = candidate_info_byname[['party_simplified', 'vote_rate']].copy()\n",
    "for name in features.index:\n",
    "    state_ = candidate_info_byname.loc[name, 'state']\n",
    "    party_ = candidate_info_byname.loc[name, 'party_simplified']\n",
    "    if candidate_info_byname.loc[name, 'year'] < 2020: #for candidate before 2020\n",
    "        if party_ in vote_byparty16[state_].index:  #check whether the affiliated party is in recent president election\n",
    "            features.loc[name, 'party_vote_rate'] = vote_byparty16[state_][party_]\n",
    "        else: \n",
    "            features.loc[name, 'party_vote_rate'] = 0\n",
    "    else:\n",
    "        if party_ in vote_byparty20[state_].index: \n",
    "            features.loc[name, 'party_vote_rate'] = vote_byparty20[state_][party_]\n",
    "        else: \n",
    "            features.loc[name, 'party_vote_rate'] = 0"
   ]
  },
  {
   "cell_type": "markdown",
   "id": "a0f6e1c4-eb2d-452f-b697-a833e7c0ce7a",
   "metadata": {
    "jp-MarkdownHeadingCollapsed": true,
    "tags": []
   },
   "source": [
    "# 4. statistics of sentence complexity (ALSO OLD Code)"
   ]
  },
  {
   "cell_type": "markdown",
   "id": "48abacfb-91b9-4177-9c27-14d76114f0e0",
   "metadata": {},
   "source": [
    "We also calculated the average length of sentence and word of each quotation. This information may be used in our analysis about speech style (question 6)."
   ]
  },
  {
   "cell_type": "code",
   "execution_count": 89,
   "id": "c22ad51d-32f3-4e9f-821f-912eaba1d640",
   "metadata": {},
   "outputs": [
    {
     "data": {
      "text/html": [
       "<div>\n",
       "<style scoped>\n",
       "    .dataframe tbody tr th:only-of-type {\n",
       "        vertical-align: middle;\n",
       "    }\n",
       "\n",
       "    .dataframe tbody tr th {\n",
       "        vertical-align: top;\n",
       "    }\n",
       "\n",
       "    .dataframe thead th {\n",
       "        text-align: right;\n",
       "    }\n",
       "</style>\n",
       "<table border=\"1\" class=\"dataframe\">\n",
       "  <thead>\n",
       "    <tr style=\"text-align: right;\">\n",
       "      <th></th>\n",
       "      <th>index</th>\n",
       "      <th>quoteID</th>\n",
       "      <th>quotation</th>\n",
       "      <th>speaker</th>\n",
       "      <th>qids</th>\n",
       "      <th>date</th>\n",
       "      <th>numOccurrences</th>\n",
       "      <th>probas</th>\n",
       "      <th>urls</th>\n",
       "      <th>phase</th>\n",
       "      <th>domains</th>\n",
       "      <th>normalize_factor</th>\n",
       "      <th>normalize_quotes</th>\n",
       "      <th>date_only</th>\n",
       "      <th>election_day</th>\n",
       "      <th>views</th>\n",
       "      <th>normalize_views</th>\n",
       "      <th>days_before_election</th>\n",
       "      <th>split_quotation</th>\n",
       "      <th>avg_sentence_length</th>\n",
       "    </tr>\n",
       "  </thead>\n",
       "  <tbody>\n",
       "    <tr>\n",
       "      <th>0</th>\n",
       "      <td>0</td>\n",
       "      <td>2015-08-31-000271</td>\n",
       "      <td>... a great day for veterans here in Littleton...</td>\n",
       "      <td>JEANNE SHAHEEN</td>\n",
       "      <td>[Q270316]</td>\n",
       "      <td>2015-08-31 02:10:00</td>\n",
       "      <td>2</td>\n",
       "      <td>[[Jeanne Shaheen, 0.742], [None, 0.2359], [Kel...</td>\n",
       "      <td>[http://www.unionleader.com/article/20150831/N...</td>\n",
       "      <td>E</td>\n",
       "      <td>[com, com]</td>\n",
       "      <td>0.473512</td>\n",
       "      <td>0.947023</td>\n",
       "      <td>2015-08-31</td>\n",
       "      <td>2020-11-01</td>\n",
       "      <td>1.350</td>\n",
       "      <td>0.639241</td>\n",
       "      <td>1889</td>\n",
       "      <td>[ a great day for veterans here in Littleton a...</td>\n",
       "      <td>21.500000</td>\n",
       "    </tr>\n",
       "    <tr>\n",
       "      <th>1</th>\n",
       "      <td>1</td>\n",
       "      <td>2015-10-25-000242</td>\n",
       "      <td>' It is not now, nor has it ever been, the gol...</td>\n",
       "      <td>BERNIE SANDERS</td>\n",
       "      <td>[Q359442]</td>\n",
       "      <td>2015-10-25 14:12:35</td>\n",
       "      <td>1</td>\n",
       "      <td>[[Bernie Sanders, 0.5395], [None, 0.3128], [Hi...</td>\n",
       "      <td>[http://examiner.com/article/bernie-sanders-sl...</td>\n",
       "      <td>E</td>\n",
       "      <td>[com]</td>\n",
       "      <td>0.416694</td>\n",
       "      <td>0.416694</td>\n",
       "      <td>2015-10-25</td>\n",
       "      <td>2018-11-01</td>\n",
       "      <td>0.675</td>\n",
       "      <td>0.281269</td>\n",
       "      <td>1103</td>\n",
       "      <td>[' It is not now, nor has it ever been, the go...</td>\n",
       "      <td>24.333333</td>\n",
       "    </tr>\n",
       "    <tr>\n",
       "      <th>2</th>\n",
       "      <td>2</td>\n",
       "      <td>2015-11-13-000427</td>\n",
       "      <td>[ My dad ] saw what a great opportunity it was,</td>\n",
       "      <td>PAUL STANTON</td>\n",
       "      <td>[Q255668, Q27842994]</td>\n",
       "      <td>2015-11-13 08:45:01</td>\n",
       "      <td>1</td>\n",
       "      <td>[[Paul Stanton, 0.6521], [None, 0.3479]]</td>\n",
       "      <td>[http://thecrimson.com/article/2015/11/13/paul...</td>\n",
       "      <td>E</td>\n",
       "      <td>[com]</td>\n",
       "      <td>0.559562</td>\n",
       "      <td>0.559562</td>\n",
       "      <td>2015-11-13</td>\n",
       "      <td>2016-11-01</td>\n",
       "      <td>0.675</td>\n",
       "      <td>0.377704</td>\n",
       "      <td>354</td>\n",
       "      <td>[[ My dad ] saw what a great opportunity it was,]</td>\n",
       "      <td>11.000000</td>\n",
       "    </tr>\n",
       "    <tr>\n",
       "      <th>3</th>\n",
       "      <td>3</td>\n",
       "      <td>2015-06-26-015863</td>\n",
       "      <td>hurt Michigan workers and cost thousands of Am...</td>\n",
       "      <td>GARY PETERS</td>\n",
       "      <td>[Q1230954, Q1494930, Q5525742, Q56560036]</td>\n",
       "      <td>2015-06-26 22:31:05</td>\n",
       "      <td>1</td>\n",
       "      <td>[[Gary Peters, 0.7907], [None, 0.2093]]</td>\n",
       "      <td>[http://detroitnews.com/story/news/politics/20...</td>\n",
       "      <td>E</td>\n",
       "      <td>[com]</td>\n",
       "      <td>1.007044</td>\n",
       "      <td>1.007044</td>\n",
       "      <td>2015-06-26</td>\n",
       "      <td>2020-11-01</td>\n",
       "      <td>0.675</td>\n",
       "      <td>0.679755</td>\n",
       "      <td>1955</td>\n",
       "      <td>[hurt Michigan workers and cost thousands of A...</td>\n",
       "      <td>10.000000</td>\n",
       "    </tr>\n",
       "  </tbody>\n",
       "</table>\n",
       "</div>"
      ],
      "text/plain": [
       "   index            quoteID  \\\n",
       "0      0  2015-08-31-000271   \n",
       "1      1  2015-10-25-000242   \n",
       "2      2  2015-11-13-000427   \n",
       "3      3  2015-06-26-015863   \n",
       "\n",
       "                                           quotation         speaker  \\\n",
       "0  ... a great day for veterans here in Littleton...  JEANNE SHAHEEN   \n",
       "1  ' It is not now, nor has it ever been, the gol...  BERNIE SANDERS   \n",
       "2    [ My dad ] saw what a great opportunity it was,    PAUL STANTON   \n",
       "3  hurt Michigan workers and cost thousands of Am...     GARY PETERS   \n",
       "\n",
       "                                        qids                date  \\\n",
       "0                                  [Q270316] 2015-08-31 02:10:00   \n",
       "1                                  [Q359442] 2015-10-25 14:12:35   \n",
       "2                       [Q255668, Q27842994] 2015-11-13 08:45:01   \n",
       "3  [Q1230954, Q1494930, Q5525742, Q56560036] 2015-06-26 22:31:05   \n",
       "\n",
       "   numOccurrences                                             probas  \\\n",
       "0               2  [[Jeanne Shaheen, 0.742], [None, 0.2359], [Kel...   \n",
       "1               1  [[Bernie Sanders, 0.5395], [None, 0.3128], [Hi...   \n",
       "2               1           [[Paul Stanton, 0.6521], [None, 0.3479]]   \n",
       "3               1            [[Gary Peters, 0.7907], [None, 0.2093]]   \n",
       "\n",
       "                                                urls phase     domains  \\\n",
       "0  [http://www.unionleader.com/article/20150831/N...     E  [com, com]   \n",
       "1  [http://examiner.com/article/bernie-sanders-sl...     E       [com]   \n",
       "2  [http://thecrimson.com/article/2015/11/13/paul...     E       [com]   \n",
       "3  [http://detroitnews.com/story/news/politics/20...     E       [com]   \n",
       "\n",
       "   normalize_factor  normalize_quotes   date_only election_day  views  \\\n",
       "0          0.473512          0.947023  2015-08-31   2020-11-01  1.350   \n",
       "1          0.416694          0.416694  2015-10-25   2018-11-01  0.675   \n",
       "2          0.559562          0.559562  2015-11-13   2016-11-01  0.675   \n",
       "3          1.007044          1.007044  2015-06-26   2020-11-01  0.675   \n",
       "\n",
       "   normalize_views  days_before_election  \\\n",
       "0         0.639241                  1889   \n",
       "1         0.281269                  1103   \n",
       "2         0.377704                   354   \n",
       "3         0.679755                  1955   \n",
       "\n",
       "                                     split_quotation  avg_sentence_length  \n",
       "0  [ a great day for veterans here in Littleton a...            21.500000  \n",
       "1  [' It is not now, nor has it ever been, the go...            24.333333  \n",
       "2  [[ My dad ] saw what a great opportunity it was,]            11.000000  \n",
       "3  [hurt Michigan workers and cost thousands of A...            10.000000  "
      ]
     },
     "execution_count": 89,
     "metadata": {},
     "output_type": "execute_result"
    }
   ],
   "source": [
    "# calculate average sentence length (by word number)\n",
    "import re\n",
    "candidate_quotes['split_quotation']=candidate_quotes.quotation.map(lambda x:re.split(r'\\.|!|\\?',x))\n",
    "candidate_quotes['split_quotation']=candidate_quotes.split_quotation.map(lambda x:list(filter(None, x))) # remove empty string\n",
    "candidate_quotes['avg_sentence_length'] = candidate_quotes.split_quotation.map(lambda x:np.mean(list(map(lambda s:len(s.split()), x))))\n",
    "candidate_quotes.head(4)"
   ]
  },
  {
   "cell_type": "code",
   "execution_count": 33,
   "id": "4b7ad7c8-5cbe-4728-9878-dea36503f42f",
   "metadata": {},
   "outputs": [
    {
     "data": {
      "text/html": [
       "<div>\n",
       "<style scoped>\n",
       "    .dataframe tbody tr th:only-of-type {\n",
       "        vertical-align: middle;\n",
       "    }\n",
       "\n",
       "    .dataframe tbody tr th {\n",
       "        vertical-align: top;\n",
       "    }\n",
       "\n",
       "    .dataframe thead th {\n",
       "        text-align: right;\n",
       "    }\n",
       "</style>\n",
       "<table border=\"1\" class=\"dataframe\">\n",
       "  <thead>\n",
       "    <tr style=\"text-align: right;\">\n",
       "      <th></th>\n",
       "      <th>quoteID</th>\n",
       "      <th>quotation</th>\n",
       "      <th>speaker</th>\n",
       "      <th>qids</th>\n",
       "      <th>date</th>\n",
       "      <th>numOccurrences</th>\n",
       "      <th>probas</th>\n",
       "      <th>urls</th>\n",
       "      <th>phase</th>\n",
       "      <th>domains</th>\n",
       "      <th>date_only</th>\n",
       "      <th>election_day</th>\n",
       "      <th>split_quotation</th>\n",
       "      <th>avg_sentence_length</th>\n",
       "      <th>split_words</th>\n",
       "      <th>avg_word_length</th>\n",
       "    </tr>\n",
       "  </thead>\n",
       "  <tbody>\n",
       "    <tr>\n",
       "      <th>0</th>\n",
       "      <td>2015-08-31-000271</td>\n",
       "      <td>... a great day for veterans here in Littleton...</td>\n",
       "      <td>JEANNE SHAHEEN</td>\n",
       "      <td>[Q270316]</td>\n",
       "      <td>2015-08-31 02:10:00</td>\n",
       "      <td>2</td>\n",
       "      <td>[[Jeanne Shaheen, 0.742], [None, 0.2359], [Kel...</td>\n",
       "      <td>[http://www.unionleader.com/article/20150831/N...</td>\n",
       "      <td>E</td>\n",
       "      <td>[com, com]</td>\n",
       "      <td>2015-08-31</td>\n",
       "      <td>2020-11-01</td>\n",
       "      <td>[ a great day for veterans here in Littleton a...</td>\n",
       "      <td>21.500000</td>\n",
       "      <td>[..., a, great, day, for, veterans, here, in, ...</td>\n",
       "      <td>4.318182</td>\n",
       "    </tr>\n",
       "    <tr>\n",
       "      <th>1</th>\n",
       "      <td>2015-10-25-000242</td>\n",
       "      <td>' It is not now, nor has it ever been, the gol...</td>\n",
       "      <td>BERNIE SANDERS</td>\n",
       "      <td>[Q359442]</td>\n",
       "      <td>2015-10-25 14:12:35</td>\n",
       "      <td>1</td>\n",
       "      <td>[[Bernie Sanders, 0.5395], [None, 0.3128], [Hi...</td>\n",
       "      <td>[http://examiner.com/article/bernie-sanders-sl...</td>\n",
       "      <td>E</td>\n",
       "      <td>[com]</td>\n",
       "      <td>2015-10-25</td>\n",
       "      <td>2018-11-01</td>\n",
       "      <td>[' It is not now, nor has it ever been, the go...</td>\n",
       "      <td>24.333333</td>\n",
       "      <td>[', It, is, not, now,, nor, has, it, ever, bee...</td>\n",
       "      <td>3.931507</td>\n",
       "    </tr>\n",
       "    <tr>\n",
       "      <th>2</th>\n",
       "      <td>2015-11-13-000427</td>\n",
       "      <td>[ My dad ] saw what a great opportunity it was,</td>\n",
       "      <td>PAUL STANTON</td>\n",
       "      <td>[Q255668, Q27842994]</td>\n",
       "      <td>2015-11-13 08:45:01</td>\n",
       "      <td>1</td>\n",
       "      <td>[[Paul Stanton, 0.6521], [None, 0.3479]]</td>\n",
       "      <td>[http://thecrimson.com/article/2015/11/13/paul...</td>\n",
       "      <td>E</td>\n",
       "      <td>[com]</td>\n",
       "      <td>2015-11-13</td>\n",
       "      <td>2016-11-01</td>\n",
       "      <td>[[ My dad ] saw what a great opportunity it was,]</td>\n",
       "      <td>11.000000</td>\n",
       "      <td>[[, My, dad, ], saw, what, a, great, opportuni...</td>\n",
       "      <td>3.363636</td>\n",
       "    </tr>\n",
       "    <tr>\n",
       "      <th>3</th>\n",
       "      <td>2015-06-26-015863</td>\n",
       "      <td>hurt Michigan workers and cost thousands of Am...</td>\n",
       "      <td>GARY PETERS</td>\n",
       "      <td>[Q1230954, Q1494930, Q5525742, Q56560036]</td>\n",
       "      <td>2015-06-26 22:31:05</td>\n",
       "      <td>1</td>\n",
       "      <td>[[Gary Peters, 0.7907], [None, 0.2093]]</td>\n",
       "      <td>[http://detroitnews.com/story/news/politics/20...</td>\n",
       "      <td>E</td>\n",
       "      <td>[com]</td>\n",
       "      <td>2015-06-26</td>\n",
       "      <td>2020-11-01</td>\n",
       "      <td>[hurt Michigan workers and cost thousands of A...</td>\n",
       "      <td>10.000000</td>\n",
       "      <td>[hurt, Michigan, workers, and, cost, thousands...</td>\n",
       "      <td>6.300000</td>\n",
       "    </tr>\n",
       "  </tbody>\n",
       "</table>\n",
       "</div>"
      ],
      "text/plain": [
       "             quoteID                                          quotation  \\\n",
       "0  2015-08-31-000271  ... a great day for veterans here in Littleton...   \n",
       "1  2015-10-25-000242  ' It is not now, nor has it ever been, the gol...   \n",
       "2  2015-11-13-000427    [ My dad ] saw what a great opportunity it was,   \n",
       "3  2015-06-26-015863  hurt Michigan workers and cost thousands of Am...   \n",
       "\n",
       "          speaker                                       qids  \\\n",
       "0  JEANNE SHAHEEN                                  [Q270316]   \n",
       "1  BERNIE SANDERS                                  [Q359442]   \n",
       "2    PAUL STANTON                       [Q255668, Q27842994]   \n",
       "3     GARY PETERS  [Q1230954, Q1494930, Q5525742, Q56560036]   \n",
       "\n",
       "                 date  numOccurrences  \\\n",
       "0 2015-08-31 02:10:00               2   \n",
       "1 2015-10-25 14:12:35               1   \n",
       "2 2015-11-13 08:45:01               1   \n",
       "3 2015-06-26 22:31:05               1   \n",
       "\n",
       "                                              probas  \\\n",
       "0  [[Jeanne Shaheen, 0.742], [None, 0.2359], [Kel...   \n",
       "1  [[Bernie Sanders, 0.5395], [None, 0.3128], [Hi...   \n",
       "2           [[Paul Stanton, 0.6521], [None, 0.3479]]   \n",
       "3            [[Gary Peters, 0.7907], [None, 0.2093]]   \n",
       "\n",
       "                                                urls phase     domains  \\\n",
       "0  [http://www.unionleader.com/article/20150831/N...     E  [com, com]   \n",
       "1  [http://examiner.com/article/bernie-sanders-sl...     E       [com]   \n",
       "2  [http://thecrimson.com/article/2015/11/13/paul...     E       [com]   \n",
       "3  [http://detroitnews.com/story/news/politics/20...     E       [com]   \n",
       "\n",
       "    date_only election_day                                    split_quotation  \\\n",
       "0  2015-08-31   2020-11-01  [ a great day for veterans here in Littleton a...   \n",
       "1  2015-10-25   2018-11-01  [' It is not now, nor has it ever been, the go...   \n",
       "2  2015-11-13   2016-11-01  [[ My dad ] saw what a great opportunity it was,]   \n",
       "3  2015-06-26   2020-11-01  [hurt Michigan workers and cost thousands of A...   \n",
       "\n",
       "   avg_sentence_length                                        split_words  \\\n",
       "0            21.500000  [..., a, great, day, for, veterans, here, in, ...   \n",
       "1            24.333333  [', It, is, not, now,, nor, has, it, ever, bee...   \n",
       "2            11.000000  [[, My, dad, ], saw, what, a, great, opportuni...   \n",
       "3            10.000000  [hurt, Michigan, workers, and, cost, thousands...   \n",
       "\n",
       "   avg_word_length  \n",
       "0         4.318182  \n",
       "1         3.931507  \n",
       "2         3.363636  \n",
       "3         6.300000  "
      ]
     },
     "execution_count": 33,
     "metadata": {},
     "output_type": "execute_result"
    }
   ],
   "source": [
    "# calculate average word lenghth for each quotation\n",
    "candidate_quotes['split_words'] = candidate_quotes.quotation.map(lambda x:x.split())\n",
    "candidate_quotes['avg_word_length'] = candidate_quotes.split_words.map(lambda x:np.mean(list(map(lambda w:len(w), x))))\n",
    "candidate_quotes.head(4)"
   ]
  }
 ],
 "metadata": {
  "interpreter": {
   "hash": "db666ba5cfc1e6b340ffb8c99ac64e84d1885a4fc4ce42ed4b6eb0071bb1085a"
  },
  "kernelspec": {
   "display_name": "Python 3 (ipykernel)",
   "language": "python",
   "name": "python3"
  },
  "language_info": {
   "codemirror_mode": {
    "name": "ipython",
    "version": 3
   },
   "file_extension": ".py",
   "mimetype": "text/x-python",
   "name": "python",
   "nbconvert_exporter": "python",
   "pygments_lexer": "ipython3",
   "version": "3.8.11"
  }
 },
 "nbformat": 4,
 "nbformat_minor": 5
}
