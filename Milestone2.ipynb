{
 "cells": [
  {
   "cell_type": "markdown",
   "id": "d23d2ba5",
   "metadata": {},
   "source": [
    "## Quotations indicate the career success of public figures\n",
    "**ChillDataGroup: Zihan Wu, Yinhao Wang, Yihang Chen**"
   ]
  },
  {
   "cell_type": "code",
   "execution_count": 1,
   "id": "4713920f",
   "metadata": {},
   "outputs": [],
   "source": [
    "import pandas as pd\n",
    "import seaborn as sns\n",
    "import numpy as np\n",
    "import matplotlib.pyplot as plt"
   ]
  },
  {
   "cell_type": "markdown",
   "id": "35a243e4",
   "metadata": {},
   "source": [
    "## Load QuoteBank Dataset\n",
    "We refer to the pipeline provided in Google Colab to load the quotations from 2015 to 2020.\n",
    "\n",
    "Due to the large size of data, when loading them, we just load the data said by the senate election since 2015 candidates. The dataset for senate elections is obtained from MIT Election Data and Science Lab [1].\n",
    "\n",
    "We also provide the codes for loading these senate candidate quotations below, but those are run ahead in google colab (takes around 30min for each year's data). We did not re-run them here. It contains the senate election results for all candidates\n",
    "\n",
    "[1] MIT Election Data and Science Lab, 2017, \"U.S. Senate 1976–2020\", https://doi.org/10.7910/DVN/PEJ5QU, Harvard Dataverse, V5."
   ]
  },
  {
   "cell_type": "code",
   "execution_count": 2,
   "id": "01f3f51e",
   "metadata": {},
   "outputs": [],
   "source": [
    "# Pipeline obtained from the course google colab\n",
    "from tld import get_tld\n",
    "\n",
    "def get_domain(url):\n",
    "    res = get_tld(url, as_object=True)\n",
    "    return res.tld"
   ]
  },
  {
   "cell_type": "code",
   "execution_count": 3,
   "id": "a453a63e",
   "metadata": {
    "scrolled": true
   },
   "outputs": [
    {
     "data": {
      "text/html": [
       "<div>\n",
       "<style scoped>\n",
       "    .dataframe tbody tr th:only-of-type {\n",
       "        vertical-align: middle;\n",
       "    }\n",
       "\n",
       "    .dataframe tbody tr th {\n",
       "        vertical-align: top;\n",
       "    }\n",
       "\n",
       "    .dataframe thead th {\n",
       "        text-align: right;\n",
       "    }\n",
       "</style>\n",
       "<table border=\"1\" class=\"dataframe\">\n",
       "  <thead>\n",
       "    <tr style=\"text-align: right;\">\n",
       "      <th></th>\n",
       "      <th>year</th>\n",
       "      <th>state</th>\n",
       "      <th>state_po</th>\n",
       "      <th>state_fips</th>\n",
       "      <th>state_cen</th>\n",
       "      <th>state_ic</th>\n",
       "      <th>office</th>\n",
       "      <th>district</th>\n",
       "      <th>stage</th>\n",
       "      <th>special</th>\n",
       "      <th>candidate</th>\n",
       "      <th>party_detailed</th>\n",
       "      <th>writein</th>\n",
       "      <th>mode</th>\n",
       "      <th>candidatevotes</th>\n",
       "      <th>totalvotes</th>\n",
       "      <th>unofficial</th>\n",
       "      <th>version</th>\n",
       "      <th>party_simplified</th>\n",
       "    </tr>\n",
       "  </thead>\n",
       "  <tbody>\n",
       "    <tr>\n",
       "      <th>75</th>\n",
       "      <td>1976</td>\n",
       "      <td>NEW MEXICO</td>\n",
       "      <td>NM</td>\n",
       "      <td>35</td>\n",
       "      <td>85</td>\n",
       "      <td>66</td>\n",
       "      <td>US SENATE</td>\n",
       "      <td>statewide</td>\n",
       "      <td>gen</td>\n",
       "      <td>False</td>\n",
       "      <td>JOSEPH M. MONTOYA</td>\n",
       "      <td>DEMOCRAT</td>\n",
       "      <td>False</td>\n",
       "      <td>total</td>\n",
       "      <td>176382</td>\n",
       "      <td>413056</td>\n",
       "      <td>False</td>\n",
       "      <td>20210114</td>\n",
       "      <td>DEMOCRAT</td>\n",
       "    </tr>\n",
       "    <tr>\n",
       "      <th>2940</th>\n",
       "      <td>2014</td>\n",
       "      <td>MICHIGAN</td>\n",
       "      <td>MI</td>\n",
       "      <td>26</td>\n",
       "      <td>34</td>\n",
       "      <td>23</td>\n",
       "      <td>US SENATE</td>\n",
       "      <td>statewide</td>\n",
       "      <td>gen</td>\n",
       "      <td>False</td>\n",
       "      <td>JIM FULNER</td>\n",
       "      <td>LIBERTARIAN</td>\n",
       "      <td>False</td>\n",
       "      <td>total</td>\n",
       "      <td>62897</td>\n",
       "      <td>3121771</td>\n",
       "      <td>False</td>\n",
       "      <td>20210114</td>\n",
       "      <td>LIBERTARIAN</td>\n",
       "    </tr>\n",
       "    <tr>\n",
       "      <th>2089</th>\n",
       "      <td>2004</td>\n",
       "      <td>PENNSYLVANIA</td>\n",
       "      <td>PA</td>\n",
       "      <td>42</td>\n",
       "      <td>23</td>\n",
       "      <td>14</td>\n",
       "      <td>US SENATE</td>\n",
       "      <td>statewide</td>\n",
       "      <td>gen</td>\n",
       "      <td>False</td>\n",
       "      <td>JAMES N. CLYMER</td>\n",
       "      <td>CONSTITUTION</td>\n",
       "      <td>False</td>\n",
       "      <td>total</td>\n",
       "      <td>220056</td>\n",
       "      <td>5559105</td>\n",
       "      <td>False</td>\n",
       "      <td>20210114</td>\n",
       "      <td>OTHER</td>\n",
       "    </tr>\n",
       "    <tr>\n",
       "      <th>2450</th>\n",
       "      <td>2010</td>\n",
       "      <td>ARKANSAS</td>\n",
       "      <td>AR</td>\n",
       "      <td>5</td>\n",
       "      <td>71</td>\n",
       "      <td>42</td>\n",
       "      <td>US SENATE</td>\n",
       "      <td>statewide</td>\n",
       "      <td>gen</td>\n",
       "      <td>False</td>\n",
       "      <td>TREVOR DROWN</td>\n",
       "      <td>INDEPENDENT</td>\n",
       "      <td>False</td>\n",
       "      <td>total</td>\n",
       "      <td>25234</td>\n",
       "      <td>779957</td>\n",
       "      <td>False</td>\n",
       "      <td>20210114</td>\n",
       "      <td>OTHER</td>\n",
       "    </tr>\n",
       "  </tbody>\n",
       "</table>\n",
       "</div>"
      ],
      "text/plain": [
       "      year         state state_po  state_fips  state_cen  state_ic     office  \\\n",
       "75    1976    NEW MEXICO       NM          35         85        66  US SENATE   \n",
       "2940  2014      MICHIGAN       MI          26         34        23  US SENATE   \n",
       "2089  2004  PENNSYLVANIA       PA          42         23        14  US SENATE   \n",
       "2450  2010      ARKANSAS       AR           5         71        42  US SENATE   \n",
       "\n",
       "       district stage  special          candidate party_detailed  writein  \\\n",
       "75    statewide   gen    False  JOSEPH M. MONTOYA       DEMOCRAT    False   \n",
       "2940  statewide   gen    False         JIM FULNER    LIBERTARIAN    False   \n",
       "2089  statewide   gen    False    JAMES N. CLYMER   CONSTITUTION    False   \n",
       "2450  statewide   gen    False       TREVOR DROWN    INDEPENDENT    False   \n",
       "\n",
       "       mode  candidatevotes  totalvotes  unofficial   version party_simplified  \n",
       "75    total          176382      413056       False  20210114         DEMOCRAT  \n",
       "2940  total           62897     3121771       False  20210114      LIBERTARIAN  \n",
       "2089  total          220056     5559105       False  20210114            OTHER  \n",
       "2450  total           25234      779957       False  20210114            OTHER  "
      ]
     },
     "execution_count": 3,
     "metadata": {},
     "output_type": "execute_result"
    }
   ],
   "source": [
    "# Load the Senate Election Result data \n",
    "import pandas as pd\n",
    "senate_file = 'SenateData/1976-2020-senate.csv'\n",
    "senate_election = pd.read_csv(senate_file, encoding= 'unicode_escape')\n",
    "senate_election.sample(4) # demonstrate the format of election data"
   ]
  },
  {
   "cell_type": "markdown",
   "id": "e166a7cb",
   "metadata": {},
   "source": [
    "Here, we only choose the candidate running for elections since 2016, because the supported Quotebank data goes back to 2015"
   ]
  },
  {
   "cell_type": "code",
   "execution_count": 4,
   "id": "0fa9750d",
   "metadata": {},
   "outputs": [
    {
     "data": {
      "text/plain": [
       "[{'RICHARD', 'SHELBY'},\n",
       " {'JOE', 'MILLER'},\n",
       " {'GIANOUTSOS', 'TED'},\n",
       " {'METCALFE', 'RAY'},\n",
       " {'MARGARET', 'STOCK'},\n",
       " {'BRECK', 'CRAIG'},\n",
       " {'LISA', 'MURKOWSKI'},\n",
       " {'ANTHONY', 'CAMBONI'},\n",
       " {'ANN', 'KIRKPATRICK'}]"
      ]
     },
     "execution_count": 4,
     "metadata": {},
     "output_type": "execute_result"
    }
   ],
   "source": [
    "# Load the names of candidates since 2016\n",
    "# The NaN names are dropped, and repeated names are dropped\n",
    "def delete_middle_name(name): # delete middle name\n",
    "  name_split = name.upper().split()\n",
    "  if len(name_split) > 2:\n",
    "    senate_delete_middle_name = name_split[0] + ' ' + name_split[-1]\n",
    "    return senate_delete_middle_name\n",
    "  return name\n",
    "\n",
    "# To address the variation of names, we use this function to determine whether the speaker name matches the first and \n",
    "# last name of any senate candidates. In this way, we can find speakers with different name writing style like:\n",
    "# 'Senate Lindsey Graham', 'Lindsey Olin Graham', 'Lindsey O. Graham' (they all indicate the same candidate)\n",
    "\n",
    "# The function below takes in a speaker name and a list of senate names (already split into first and last name)\n",
    "# It returns a boolean whether the speaker is a senate, and the name of senate (in the form of first + last name) if true\n",
    "def isSenate(name,senate_names):\n",
    "  name_set = set(name.upper().split())\n",
    "  for i in range(len(senate_names)):\n",
    "    if senate_names[i] <= name_set:\n",
    "      return (True, i)\n",
    "  return (False, None)\n",
    "\n",
    "senate_candidates = senate_election[senate_election['year'] >= 2016].dropna(subset=['candidate', 'party_detailed'])['candidate'].unique()\n",
    "senate_candidates_splitted = list(map(lambda senate: set(delete_middle_name(senate).split()), senate_candidates))\n",
    "senate_candidates_splitted[1:10]"
   ]
  },
  {
   "cell_type": "code",
   "execution_count": 5,
   "id": "8cec8de5",
   "metadata": {},
   "outputs": [
    {
     "name": "stdout",
     "output_type": "stream",
     "text": [
      "there are total 439 names\n"
     ]
    }
   ],
   "source": [
    "#Sanity Check: all names at least have a first and last name\n",
    "for split in senate_candidates_splitted:\n",
    "    assert(len(split) > 1)\n",
    "print('there are total {} names'.format(len(senate_candidates_splitted)))"
   ]
  },
  {
   "cell_type": "markdown",
   "id": "42c252e0",
   "metadata": {},
   "source": [
    "**We do not run the cell below because takes too long.** We have run those on google colab to load the quotation data we need"
   ]
  },
  {
   "cell_type": "code",
   "execution_count": 6,
   "id": "726a21e8",
   "metadata": {},
   "outputs": [
    {
     "name": "stdout",
     "output_type": "stream",
     "text": [
      "skipping\n"
     ]
    }
   ],
   "source": [
    "%%script echo skipping\n",
    "# Load each year's data, filtering out the quotations said by senates\n",
    "# We have considered the different writing styles of name. We extract the quote as long as the speaker has the same\n",
    "# first name and last name as a senate\n",
    "import bz2\n",
    "import json\n",
    "\n",
    "path_to_file = '/content/drive/MyDrive/Quotebank/quotes-{}.json.bz2' \n",
    "path_to_out = '/content/drive/MyDrive/MyQuoteBank/quotes-{}-senates-said.json.bz2'\n",
    "\n",
    "for year in range(2015, 2021):\n",
    "  print('... Start reading quotations in year ' + str(year))\n",
    "  with bz2.open(path_to_file.format(year), 'rb') as s_file:\n",
    "      with bz2.open(path_to_out.format(year), 'wb') as d_file:\n",
    "          for instance in s_file:\n",
    "              instance = json.loads(instance) # loading a sample\n",
    "              issenate = isSenate(instance['speaker'], senate_candidates_splitted)\n",
    "              if issenate[0]:\n",
    "                instance['speaker'] = senate_candidates[issenate[1]] # use name from the \"1976-2020-senate.csv\" as the standard name.\n",
    "                urls = instance['urls'] # extracting list of links\n",
    "                domains = []\n",
    "                for url in urls:\n",
    "                    tld = get_domain(url)\n",
    "                    domains.append(tld)\n",
    "                instance['domains'] = domains # updating the sample with domain name\n",
    "                d_file.write((json.dumps(instance)+'\\n').encode('utf-8')) # writing in the new file\n",
    "\n",
    "# Load each year's data, filtering out the quotations that mention senates\n",
    "path_to_file = '/content/drive/MyDrive/Quotebank/quotes-{}.json.bz2'\n",
    "path_to_out = '/content/drive/MyDrive/ADAQuoteBank/quotes-{}-senates-mention.json.bz2'\n",
    "\n",
    "senate_candidates = list(map(lambda x:x.title(), senate_candidates))\n",
    "\n",
    "for year in range(2016,2021):\n",
    "    print('... Start processing quotations in year {}'.format(year))\n",
    "    with bz2.open(path_to_file.format(year), 'rb') as s_file:\n",
    "        with bz2.open(path_to_out.format(year), 'wb') as d_file:\n",
    "            for instance in s_file:\n",
    "                instance = json.loads(instance)\n",
    "                is_senate = isSenate(instance['quotation'], senate_candidates_splitted)\n",
    "                if is_senate[0]:\n",
    "                    instance['mention']=senate_candidates[is_senate[1]]\n",
    "                    urls = instance['urls'] # extracting list of links\n",
    "                    domains = []\n",
    "                    for url in urls:\n",
    "                        tld = get_domain(url)\n",
    "                        domains.append(tld)\n",
    "                    instance['domains'] = domains # updating the sample with domain name\n",
    "                    d_file.write((json.dumps(instance)+'\\n').encode('utf-8'))\n",
    "    print('... End processing quotations in year {}'.format(year))"
   ]
  },
  {
   "cell_type": "markdown",
   "id": "dd2896a2",
   "metadata": {},
   "source": [
    "## 1. Process Senate Candidate Data\n",
    "**1.1** In this section, we load the information of senate candidates (since 2016) and their election information."
   ]
  },
  {
   "cell_type": "code",
   "execution_count": 7,
   "id": "847a9fb6",
   "metadata": {},
   "outputs": [],
   "source": [
    "# First, we get the election information of the candidates since 2016 (again, we drop NaN and repeated names)\n",
    "candidate_info = senate_election[senate_election['year'] >= 2016].dropna(subset=['candidate', 'party_detailed']).drop_duplicates(subset=['candidate'], ignore_index=True)"
   ]
  },
  {
   "cell_type": "code",
   "execution_count": 8,
   "id": "0de063d3",
   "metadata": {},
   "outputs": [],
   "source": [
    "# Load the stored quotations said by senate candidates since 2015 (by year)\n",
    "senate_quote_20 = pd.read_json('SenateData/quotes-2020-senates-said.json.bz2', lines=True, compression='bz2')\n",
    "senate_quote_19 = pd.read_json('SenateData/quotes-2019-senates-said.json.bz2', lines=True, compression='bz2')\n",
    "senate_quote_18 = pd.read_json('SenateData/quotes-2018-senates-said.json.bz2', lines=True, compression='bz2')\n",
    "senate_quote_17 = pd.read_json('SenateData/quotes-2017-senates-said.json.bz2', lines=True, compression='bz2')\n",
    "senate_quote_16 = pd.read_json('SenateData/quotes-2016-senates-said.json.bz2', lines=True, compression='bz2')\n",
    "senate_quote_15 = pd.read_json('SenateData/quotes-2015-senates-said.json.bz2', lines=True, compression='bz2')"
   ]
  },
  {
   "cell_type": "code",
   "execution_count": 9,
   "id": "7f2c2dc1",
   "metadata": {},
   "outputs": [
    {
     "data": {
      "text/html": [
       "<div>\n",
       "<style scoped>\n",
       "    .dataframe tbody tr th:only-of-type {\n",
       "        vertical-align: middle;\n",
       "    }\n",
       "\n",
       "    .dataframe tbody tr th {\n",
       "        vertical-align: top;\n",
       "    }\n",
       "\n",
       "    .dataframe thead th {\n",
       "        text-align: right;\n",
       "    }\n",
       "</style>\n",
       "<table border=\"1\" class=\"dataframe\">\n",
       "  <thead>\n",
       "    <tr style=\"text-align: right;\">\n",
       "      <th></th>\n",
       "      <th>index</th>\n",
       "      <th>quoteID</th>\n",
       "      <th>quotation</th>\n",
       "      <th>speaker</th>\n",
       "      <th>qids</th>\n",
       "      <th>date</th>\n",
       "      <th>numOccurrences</th>\n",
       "      <th>probas</th>\n",
       "      <th>urls</th>\n",
       "      <th>phase</th>\n",
       "      <th>domains</th>\n",
       "    </tr>\n",
       "  </thead>\n",
       "  <tbody>\n",
       "    <tr>\n",
       "      <th>121218</th>\n",
       "      <td>121218</td>\n",
       "      <td>2015-10-14-045430</td>\n",
       "      <td>I think council raises a good point,</td>\n",
       "      <td>JOHN FLEMING</td>\n",
       "      <td>[Q1699042, Q1699486, Q1700075, Q27951103, Q284...</td>\n",
       "      <td>2015-10-14 01:27:04</td>\n",
       "      <td>1</td>\n",
       "      <td>[[John Fleming, 0.9479], [None, 0.0322], [Ali ...</td>\n",
       "      <td>[http://www.lfpress.com/2015/10/13/wonderland-...</td>\n",
       "      <td>E</td>\n",
       "      <td>[com]</td>\n",
       "    </tr>\n",
       "    <tr>\n",
       "      <th>731190</th>\n",
       "      <td>176248</td>\n",
       "      <td>2018-08-10-013591</td>\n",
       "      <td>creating an environment that is anti-law enfor...</td>\n",
       "      <td>GEOFF DIEHL</td>\n",
       "      <td>[Q5534116]</td>\n",
       "      <td>2018-08-10 14:46:12</td>\n",
       "      <td>1</td>\n",
       "      <td>[[Geoff Diehl, 0.7853], [None, 0.1596], [Eliza...</td>\n",
       "      <td>[http://www.masslive.com/politics/index.ssf/20...</td>\n",
       "      <td>E</td>\n",
       "      <td>[com]</td>\n",
       "    </tr>\n",
       "    <tr>\n",
       "      <th>979637</th>\n",
       "      <td>171184</td>\n",
       "      <td>2019-06-18-092723</td>\n",
       "      <td>The workers responsible for that profit deserv...</td>\n",
       "      <td>BERNIE SANDERS</td>\n",
       "      <td>[Q359442]</td>\n",
       "      <td>2019-06-18 11:59:58</td>\n",
       "      <td>6</td>\n",
       "      <td>[[Bernie Sanders, 0.7715], [None, 0.2263], [Ke...</td>\n",
       "      <td>[http://p.washingtontimes.com/news/2019/jun/18...</td>\n",
       "      <td>E</td>\n",
       "      <td>[com, com, com, com, com, com]</td>\n",
       "    </tr>\n",
       "    <tr>\n",
       "      <th>857246</th>\n",
       "      <td>48793</td>\n",
       "      <td>2019-03-28-052139</td>\n",
       "      <td>It depends on what he puts on the floor,</td>\n",
       "      <td>JEFF MERKLEY</td>\n",
       "      <td>[Q1368405]</td>\n",
       "      <td>2019-03-28 21:20:05</td>\n",
       "      <td>1</td>\n",
       "      <td>[[Jeff Merkley, 0.7563], [None, 0.2226], [Mitc...</td>\n",
       "      <td>[http://www.courthousenews.com/senate-republic...</td>\n",
       "      <td>E</td>\n",
       "      <td>[com]</td>\n",
       "    </tr>\n",
       "  </tbody>\n",
       "</table>\n",
       "</div>"
      ],
      "text/plain": [
       "         index            quoteID  \\\n",
       "121218  121218  2015-10-14-045430   \n",
       "731190  176248  2018-08-10-013591   \n",
       "979637  171184  2019-06-18-092723   \n",
       "857246   48793  2019-03-28-052139   \n",
       "\n",
       "                                                quotation         speaker  \\\n",
       "121218               I think council raises a good point,    JOHN FLEMING   \n",
       "731190  creating an environment that is anti-law enfor...     GEOFF DIEHL   \n",
       "979637  The workers responsible for that profit deserv...  BERNIE SANDERS   \n",
       "857246           It depends on what he puts on the floor,    JEFF MERKLEY   \n",
       "\n",
       "                                                     qids                date  \\\n",
       "121218  [Q1699042, Q1699486, Q1700075, Q27951103, Q284... 2015-10-14 01:27:04   \n",
       "731190                                         [Q5534116] 2018-08-10 14:46:12   \n",
       "979637                                          [Q359442] 2019-06-18 11:59:58   \n",
       "857246                                         [Q1368405] 2019-03-28 21:20:05   \n",
       "\n",
       "        numOccurrences                                             probas  \\\n",
       "121218               1  [[John Fleming, 0.9479], [None, 0.0322], [Ali ...   \n",
       "731190               1  [[Geoff Diehl, 0.7853], [None, 0.1596], [Eliza...   \n",
       "979637               6  [[Bernie Sanders, 0.7715], [None, 0.2263], [Ke...   \n",
       "857246               1  [[Jeff Merkley, 0.7563], [None, 0.2226], [Mitc...   \n",
       "\n",
       "                                                     urls phase  \\\n",
       "121218  [http://www.lfpress.com/2015/10/13/wonderland-...     E   \n",
       "731190  [http://www.masslive.com/politics/index.ssf/20...     E   \n",
       "979637  [http://p.washingtontimes.com/news/2019/jun/18...     E   \n",
       "857246  [http://www.courthousenews.com/senate-republic...     E   \n",
       "\n",
       "                               domains  \n",
       "121218                           [com]  \n",
       "731190                           [com]  \n",
       "979637  [com, com, com, com, com, com]  \n",
       "857246                           [com]  "
      ]
     },
     "execution_count": 9,
     "metadata": {},
     "output_type": "execute_result"
    }
   ],
   "source": [
    "# Concatenate data across all years and display the format of quotation data\n",
    "annual_frames = [senate_quote_15, senate_quote_16, senate_quote_17, senate_quote_18, senate_quote_19, senate_quote_20]\n",
    "candidate_quotes = pd.concat(annual_frames).reset_index()\n",
    "candidate_quotes.sample(4)"
   ]
  },
  {
   "cell_type": "markdown",
   "id": "70dbf5bb-9830-4468-afa7-1ddd49d68bf7",
   "metadata": {},
   "source": [
    "Since QuoteBank may extract different number of total quotes at different time. An increase in quotations may just be caused by an increase of quotes extracted by Quotebanks. So, we use the total quotation number in QuoteBank to normalize our data"
   ]
  },
  {
   "cell_type": "code",
   "execution_count": 10,
   "id": "0c4df216-ad23-431e-a309-e9c01d9c3abe",
   "metadata": {},
   "outputs": [
    {
     "data": {
      "text/plain": [
       "2015-01    1661137\n",
       "2015-02    1659518\n",
       "2015-03    1867911\n",
       "2015-04    1522315\n",
       "2015-05    1136152\n",
       "            ...   \n",
       "2019-12    1565321\n",
       "2020-01    1732238\n",
       "2020-02    1599019\n",
       "2020-03    1323347\n",
       "2020-04     589845\n",
       "Length: 64, dtype: int64"
      ]
     },
     "execution_count": 10,
     "metadata": {},
     "output_type": "execute_result"
    }
   ],
   "source": [
    "# read the quote number data for each month\n",
    "\n",
    "import csv\n",
    "with open('SenateData/quote_num.csv','r') as inFile:\n",
    "    reader = csv.DictReader(inFile)\n",
    "    for row in reader:\n",
    "        quote_num = dict(row)\n",
    "quote_num = pd.Series({k:int(v) for k, v in quote_num.items()})\n",
    "quote_num"
   ]
  },
  {
   "cell_type": "code",
   "execution_count": 11,
   "id": "72f415ba-2fb9-43fa-983b-ec41f38813cd",
   "metadata": {},
   "outputs": [
    {
     "data": {
      "text/html": [
       "<div>\n",
       "<style scoped>\n",
       "    .dataframe tbody tr th:only-of-type {\n",
       "        vertical-align: middle;\n",
       "    }\n",
       "\n",
       "    .dataframe tbody tr th {\n",
       "        vertical-align: top;\n",
       "    }\n",
       "\n",
       "    .dataframe thead th {\n",
       "        text-align: right;\n",
       "    }\n",
       "</style>\n",
       "<table border=\"1\" class=\"dataframe\">\n",
       "  <thead>\n",
       "    <tr style=\"text-align: right;\">\n",
       "      <th></th>\n",
       "      <th>index</th>\n",
       "      <th>quoteID</th>\n",
       "      <th>quotation</th>\n",
       "      <th>speaker</th>\n",
       "      <th>qids</th>\n",
       "      <th>date</th>\n",
       "      <th>numOccurrences</th>\n",
       "      <th>probas</th>\n",
       "      <th>urls</th>\n",
       "      <th>phase</th>\n",
       "      <th>domains</th>\n",
       "      <th>normalize_factor</th>\n",
       "      <th>normalize_quotes</th>\n",
       "    </tr>\n",
       "  </thead>\n",
       "  <tbody>\n",
       "    <tr>\n",
       "      <th>358769</th>\n",
       "      <td>44371</td>\n",
       "      <td>2017-09-24-030856</td>\n",
       "      <td>If I took offense at everybody who has said so...</td>\n",
       "      <td>JOHN MCCAIN</td>\n",
       "      <td>[Q10390]</td>\n",
       "      <td>2017-09-24 23:20:06</td>\n",
       "      <td>78</td>\n",
       "      <td>[[John McCain, 0.5408], [None, 0.3047], [Lesle...</td>\n",
       "      <td>[http://www.politico.com/story/2017/09/24/mcca...</td>\n",
       "      <td>E</td>\n",
       "      <td>[com, com, com, com, com, com, com, com, com, ...</td>\n",
       "      <td>0.370432</td>\n",
       "      <td>28.893726</td>\n",
       "    </tr>\n",
       "    <tr>\n",
       "      <th>552756</th>\n",
       "      <td>238358</td>\n",
       "      <td>2017-08-10-139836</td>\n",
       "      <td>This is a President, obviously, who's never ha...</td>\n",
       "      <td>JOHN R. THUNE</td>\n",
       "      <td>[Q4571225, Q462981]</td>\n",
       "      <td>2017-08-10 17:30:29</td>\n",
       "      <td>4</td>\n",
       "      <td>[[John Thune, 0.8821], [None, 0.1016], [Donald...</td>\n",
       "      <td>[http://gantdaily.com/2017/08/10/donald-trump-...</td>\n",
       "      <td>E</td>\n",
       "      <td>[com, com, com, com]</td>\n",
       "      <td>0.357747</td>\n",
       "      <td>1.430988</td>\n",
       "    </tr>\n",
       "    <tr>\n",
       "      <th>222340</th>\n",
       "      <td>30756</td>\n",
       "      <td>2016-09-26-051380</td>\n",
       "      <td>I'm not chasing the charts and I wasn't when I...</td>\n",
       "      <td>TOM JONES</td>\n",
       "      <td>[Q16091498, Q16730416, Q180850, Q23303147, Q23...</td>\n",
       "      <td>2016-09-26 17:27:30</td>\n",
       "      <td>1</td>\n",
       "      <td>[[Tom Jones, 0.615], [None, 0.3428], [Jerry Le...</td>\n",
       "      <td>[http://northjersey.com/arts-and-entertainment...</td>\n",
       "      <td>E</td>\n",
       "      <td>[com]</td>\n",
       "      <td>0.395064</td>\n",
       "      <td>0.395064</td>\n",
       "    </tr>\n",
       "    <tr>\n",
       "      <th>276527</th>\n",
       "      <td>84943</td>\n",
       "      <td>2016-07-18-014755</td>\n",
       "      <td>Colonel Sanders guarding the chicken coop,</td>\n",
       "      <td>RON WYDEN</td>\n",
       "      <td>[Q529344]</td>\n",
       "      <td>2016-07-18 00:01:00</td>\n",
       "      <td>2</td>\n",
       "      <td>[[Ron Wyden, 0.7667], [None, 0.2332]]</td>\n",
       "      <td>[http://dailyastorian.com/editorials/20160718/...</td>\n",
       "      <td>E</td>\n",
       "      <td>[com, com]</td>\n",
       "      <td>0.452054</td>\n",
       "      <td>0.904108</td>\n",
       "    </tr>\n",
       "  </tbody>\n",
       "</table>\n",
       "</div>"
      ],
      "text/plain": [
       "         index            quoteID  \\\n",
       "358769   44371  2017-09-24-030856   \n",
       "552756  238358  2017-08-10-139836   \n",
       "222340   30756  2016-09-26-051380   \n",
       "276527   84943  2016-07-18-014755   \n",
       "\n",
       "                                                quotation        speaker  \\\n",
       "358769  If I took offense at everybody who has said so...    JOHN MCCAIN   \n",
       "552756  This is a President, obviously, who's never ha...  JOHN R. THUNE   \n",
       "222340  I'm not chasing the charts and I wasn't when I...      TOM JONES   \n",
       "276527         Colonel Sanders guarding the chicken coop,      RON WYDEN   \n",
       "\n",
       "                                                     qids                date  \\\n",
       "358769                                           [Q10390] 2017-09-24 23:20:06   \n",
       "552756                                [Q4571225, Q462981] 2017-08-10 17:30:29   \n",
       "222340  [Q16091498, Q16730416, Q180850, Q23303147, Q23... 2016-09-26 17:27:30   \n",
       "276527                                          [Q529344] 2016-07-18 00:01:00   \n",
       "\n",
       "        numOccurrences                                             probas  \\\n",
       "358769              78  [[John McCain, 0.5408], [None, 0.3047], [Lesle...   \n",
       "552756               4  [[John Thune, 0.8821], [None, 0.1016], [Donald...   \n",
       "222340               1  [[Tom Jones, 0.615], [None, 0.3428], [Jerry Le...   \n",
       "276527               2              [[Ron Wyden, 0.7667], [None, 0.2332]]   \n",
       "\n",
       "                                                     urls phase  \\\n",
       "358769  [http://www.politico.com/story/2017/09/24/mcca...     E   \n",
       "552756  [http://gantdaily.com/2017/08/10/donald-trump-...     E   \n",
       "222340  [http://northjersey.com/arts-and-entertainment...     E   \n",
       "276527  [http://dailyastorian.com/editorials/20160718/...     E   \n",
       "\n",
       "                                                  domains  normalize_factor  \\\n",
       "358769  [com, com, com, com, com, com, com, com, com, ...          0.370432   \n",
       "552756                               [com, com, com, com]          0.357747   \n",
       "222340                                              [com]          0.395064   \n",
       "276527                                         [com, com]          0.452054   \n",
       "\n",
       "        normalize_quotes  \n",
       "358769         28.893726  \n",
       "552756          1.430988  \n",
       "222340          0.395064  \n",
       "276527          0.904108  "
      ]
     },
     "execution_count": 11,
     "metadata": {},
     "output_type": "execute_result"
    }
   ],
   "source": [
    "# we use 10^6/total_quote_num as normalize factor\n",
    "\n",
    "candidate_quotes['normalize_factor'] = candidate_quotes['date'].map(lambda x: 1/quote_num[str(x)[:7]]*1e6)\n",
    "candidate_quotes['normalize_quotes'] = candidate_quotes['numOccurrences']*candidate_quotes['normalize_factor']\n",
    "candidate_quotes.sample(4)"
   ]
  },
  {
   "cell_type": "markdown",
   "id": "2c6a88cf",
   "metadata": {},
   "source": [
    "**1.2** We group the total number of quotations by speaker and dates. By doing so, we can visualize the change of quoted numbers as time goes on. Below, we take Bernie Sanders as an example."
   ]
  },
  {
   "cell_type": "code",
   "execution_count": 12,
   "id": "10f66fd3",
   "metadata": {},
   "outputs": [
    {
     "data": {
      "text/plain": [
       "speaker           date_only \n",
       "A. WAYNE JOHNSON  2015-01-06    0.601997\n",
       "                  2015-02-09    0.602585\n",
       "                  2015-02-11    1.205169\n",
       "                  2015-02-20    0.602585\n",
       "                  2015-03-01    0.535357\n",
       "                                  ...   \n",
       "ZAK RINGELSTEIN   2018-10-30    5.125275\n",
       "                  2018-11-01    2.381878\n",
       "                  2018-11-05    0.476376\n",
       "                  2018-11-07    0.476376\n",
       "                  2019-03-21    0.503878\n",
       "Name: normalize_quotes, Length: 136070, dtype: float64"
      ]
     },
     "execution_count": 12,
     "metadata": {},
     "output_type": "execute_result"
    }
   ],
   "source": [
    "# Clean the names by taking only upper case\n",
    "# Group the candidate total number of normalized quotes by day\n",
    "candidate_quotes['speaker'] = candidate_quotes['speaker'].str.upper()\n",
    "candidate_quotes['date_only'] = candidate_quotes['date'].dt.date\n",
    "candidate_quotes_byday = candidate_quotes.groupby(['speaker', 'date_only'])['normalize_quotes'].sum()\n",
    "candidate_quotes_byday"
   ]
  },
  {
   "cell_type": "code",
   "execution_count": 13,
   "id": "66baa32f",
   "metadata": {},
   "outputs": [
    {
     "data": {
      "text/plain": [
       "Text(0.5, 1.0, 'Bernie Sanders')"
      ]
     },
     "execution_count": 13,
     "metadata": {},
     "output_type": "execute_result"
    },
    {
     "data": {
      "image/png": "[encoded data removed]",
      "text/plain": [
       "<Figure size 432x288 with 1 Axes>"
      ]
     },
     "metadata": {
      "needs_background": "light"
     },
     "output_type": "display_data"
    }
   ],
   "source": [
    "# For example, we can visualize the quotation changes of Bernie Sanders\n",
    "candidate_quotes_byday['BERNIE SANDERS'].rolling(window=30).sum().plot() # one months average\n",
    "plt.xlabel('time')\n",
    "plt.xticks(rotation=90)\n",
    "plt.ylabel('Quoted numbers: Said')\n",
    "plt.title('Bernie Sanders')"
   ]
  },
  {
   "cell_type": "markdown",
   "id": "affd7213",
   "metadata": {},
   "source": [
    "**1.3** We compute the total number of quotations until their election. The election dataset only contains the year of election. However, since the U.S. Senate elections always take place in the first week of November, we just compute the total number of quotations until November.1st of the election year."
   ]
  },
  {
   "cell_type": "code",
   "execution_count": 14,
   "id": "5394320f",
   "metadata": {},
   "outputs": [],
   "source": [
    "# Add the election day corresponding to each candidate speaker\n",
    "candidate_info_byname = candidate_info.set_index(['candidate']) # Allow access info by name as index\n",
    "candidate_quotes['election_day'] = candidate_quotes['speaker'].map(candidate_info_byname['year']).astype(str)+ '-11-01'\n",
    "candidate_quotes['election_day'] = pd.to_datetime(candidate_quotes['election_day'])"
   ]
  },
  {
   "cell_type": "code",
   "execution_count": 15,
   "id": "1c0e2c40",
   "metadata": {},
   "outputs": [],
   "source": [
    "# Add election result (i.e. vote rate) for each candidate speaker\n",
    "candidate_info_byname['vote_rate'] = candidate_info_byname['candidatevotes']/candidate_info_byname['totalvotes']"
   ]
  },
  {
   "cell_type": "code",
   "execution_count": 16,
   "id": "4ab9dd4d",
   "metadata": {},
   "outputs": [],
   "source": [
    "# We group the number of quotations by election day\n",
    "quotes_byelection = candidate_quotes[candidate_quotes['date_only'] < candidate_quotes['election_day']]\n",
    "tot_quotes_byelection = pd.DataFrame(quotes_byelection.groupby(['speaker'])['normalize_quotes'].sum())\n",
    "tot_quotes_byelection.rename(columns = {'normalize_quotes': 'total_quotes_byelection'}, inplace=True)"
   ]
  },
  {
   "cell_type": "code",
   "execution_count": 17,
   "id": "dfe01a90",
   "metadata": {},
   "outputs": [
    {
     "name": "stdout",
     "output_type": "stream",
     "text": [
      "Pearson coefficient: 0.6112235983030401, p value: 3.506776291721692e-26\n"
     ]
    },
    {
     "data": {
      "image/png": "[encoded data removed]",
      "text/plain": [
       "<Figure size 432x288 with 1 Axes>"
      ]
     },
     "metadata": {
      "needs_background": "light"
     },
     "output_type": "display_data"
    }
   ],
   "source": [
    "# We add the vote rate and plot the scatter plot of vote rate against total quotes by election\n",
    "from scipy.stats import pearsonr\n",
    "tot_quotes_byelection['vote_rate'] = tot_quotes_byelection.index.map(candidate_info_byname['vote_rate'])\n",
    "quotes_vote = tot_quotes_byelection.plot.scatter(x = 'total_quotes_byelection', y = 'vote_rate', logx=True)\n",
    "(corr1, pvalue) = pearsonr(np.log(tot_quotes_byelection['total_quotes_byelection']), tot_quotes_byelection['vote_rate'])\n",
    "print(f'Pearson coefficient: {corr1}, p value: {pvalue}')"
   ]
  },
  {
   "cell_type": "markdown",
   "id": "77202c41",
   "metadata": {},
   "source": [
    "**Observation**: Based on the plot above, we can see that there is a positive correlation between quotations and vote_rate with p value < 0.05. The more a candidate was quoted before the election, the higher the voting rate he or she got."
   ]
  },
  {
   "cell_type": "markdown",
   "id": "c5755dbd",
   "metadata": {},
   "source": [
    "**1.4** We can also apply the analysis on quotations that mention senates."
   ]
  },
  {
   "cell_type": "code",
   "execution_count": 18,
   "id": "77227984",
   "metadata": {},
   "outputs": [],
   "source": [
    "# Load the stored quotations mention senate candidates since 2015 (by year)\n",
    "senate_quote_20_mention = pd.read_json('SenateData/quotes-2020-senates-mention.json.bz2', lines=True, compression='bz2')\n",
    "senate_quote_19_mention = pd.read_json('SenateData/quotes-2019-senates-mention.json.bz2', lines=True, compression='bz2')\n",
    "senate_quote_18_mention = pd.read_json('SenateData/quotes-2018-senates-mention.json.bz2', lines=True, compression='bz2')\n",
    "senate_quote_17_mention = pd.read_json('SenateData/quotes-2017-senates-mention.json.bz2', lines=True, compression='bz2')\n",
    "senate_quote_16_mention = pd.read_json('SenateData/quotes-2016-senates-mention.json.bz2', lines=True, compression='bz2')\n",
    "senate_quote_15_mention = pd.read_json('SenateData/quotes-2015-senates-mention.json.bz2', lines=True, compression='bz2')"
   ]
  },
  {
   "cell_type": "code",
   "execution_count": 19,
   "id": "98427f70",
   "metadata": {
    "scrolled": true
   },
   "outputs": [
    {
     "data": {
      "text/html": [
       "<div>\n",
       "<style scoped>\n",
       "    .dataframe tbody tr th:only-of-type {\n",
       "        vertical-align: middle;\n",
       "    }\n",
       "\n",
       "    .dataframe tbody tr th {\n",
       "        vertical-align: top;\n",
       "    }\n",
       "\n",
       "    .dataframe thead th {\n",
       "        text-align: right;\n",
       "    }\n",
       "</style>\n",
       "<table border=\"1\" class=\"dataframe\">\n",
       "  <thead>\n",
       "    <tr style=\"text-align: right;\">\n",
       "      <th></th>\n",
       "      <th>quoteID</th>\n",
       "      <th>quotation</th>\n",
       "      <th>speaker</th>\n",
       "      <th>qids</th>\n",
       "      <th>date</th>\n",
       "      <th>numOccurrences</th>\n",
       "      <th>probas</th>\n",
       "      <th>urls</th>\n",
       "      <th>phase</th>\n",
       "      <th>mention</th>\n",
       "      <th>domains</th>\n",
       "    </tr>\n",
       "  </thead>\n",
       "  <tbody>\n",
       "    <tr>\n",
       "      <th>14121</th>\n",
       "      <td>2018-08-07-002318</td>\n",
       "      <td>A vote for Jon Tester is a vote for [ Sen. ] C...</td>\n",
       "      <td>President Trump</td>\n",
       "      <td>[Q22686]</td>\n",
       "      <td>2018-08-07 19:02:21</td>\n",
       "      <td>1</td>\n",
       "      <td>[[President Trump, 0.6264], [None, 0.3736]]</td>\n",
       "      <td>[http://thehill.com/homenews/campaign/400764-m...</td>\n",
       "      <td>E</td>\n",
       "      <td>Charles E. Schumer</td>\n",
       "      <td>[com]</td>\n",
       "    </tr>\n",
       "    <tr>\n",
       "      <th>10528</th>\n",
       "      <td>2016-05-19-104159</td>\n",
       "      <td>the numbers are very positive for Clinton, [ b...</td>\n",
       "      <td>Dianne Feinstein</td>\n",
       "      <td>[Q230733]</td>\n",
       "      <td>2016-05-19 07:50:00</td>\n",
       "      <td>3</td>\n",
       "      <td>[[Dianne Feinstein, 0.9362], [None, 0.0366], [...</td>\n",
       "      <td>[http://news.smh.com.au/world/us-election/us-e...</td>\n",
       "      <td>E</td>\n",
       "      <td>Bernie Sanders</td>\n",
       "      <td>[com.au, com.au, com.au]</td>\n",
       "    </tr>\n",
       "    <tr>\n",
       "      <th>11432</th>\n",
       "      <td>2018-08-11-034593</td>\n",
       "      <td>Rand Paul just gave one of the most important ...</td>\n",
       "      <td>None</td>\n",
       "      <td>[]</td>\n",
       "      <td>2018-08-11 16:00:12</td>\n",
       "      <td>1</td>\n",
       "      <td>[[None, 0.6389], [Rand Paul, 0.3382], [Vladimi...</td>\n",
       "      <td>[https://www.washingtonexaminer.com/opinion/ra...</td>\n",
       "      <td>E</td>\n",
       "      <td>Rand Paul</td>\n",
       "      <td>[com]</td>\n",
       "    </tr>\n",
       "    <tr>\n",
       "      <th>7605</th>\n",
       "      <td>2017-07-25-030592</td>\n",
       "      <td>Gore is the most polarising figure in climate ...</td>\n",
       "      <td>None</td>\n",
       "      <td>[]</td>\n",
       "      <td>2017-07-25 08:25:27</td>\n",
       "      <td>1</td>\n",
       "      <td>[[None, 0.8475], [Al Gore, 0.1525]]</td>\n",
       "      <td>[https://www.carbonbrief.org/daily-brief/uk-mo...</td>\n",
       "      <td>E</td>\n",
       "      <td>Jim Inhofe</td>\n",
       "      <td>[org]</td>\n",
       "    </tr>\n",
       "  </tbody>\n",
       "</table>\n",
       "</div>"
      ],
      "text/plain": [
       "                 quoteID                                          quotation  \\\n",
       "14121  2018-08-07-002318  A vote for Jon Tester is a vote for [ Sen. ] C...   \n",
       "10528  2016-05-19-104159  the numbers are very positive for Clinton, [ b...   \n",
       "11432  2018-08-11-034593  Rand Paul just gave one of the most important ...   \n",
       "7605   2017-07-25-030592  Gore is the most polarising figure in climate ...   \n",
       "\n",
       "                speaker       qids                date  numOccurrences  \\\n",
       "14121   President Trump   [Q22686] 2018-08-07 19:02:21               1   \n",
       "10528  Dianne Feinstein  [Q230733] 2016-05-19 07:50:00               3   \n",
       "11432              None         [] 2018-08-11 16:00:12               1   \n",
       "7605               None         [] 2017-07-25 08:25:27               1   \n",
       "\n",
       "                                                  probas  \\\n",
       "14121        [[President Trump, 0.6264], [None, 0.3736]]   \n",
       "10528  [[Dianne Feinstein, 0.9362], [None, 0.0366], [...   \n",
       "11432  [[None, 0.6389], [Rand Paul, 0.3382], [Vladimi...   \n",
       "7605                 [[None, 0.8475], [Al Gore, 0.1525]]   \n",
       "\n",
       "                                                    urls phase  \\\n",
       "14121  [http://thehill.com/homenews/campaign/400764-m...     E   \n",
       "10528  [http://news.smh.com.au/world/us-election/us-e...     E   \n",
       "11432  [https://www.washingtonexaminer.com/opinion/ra...     E   \n",
       "7605   [https://www.carbonbrief.org/daily-brief/uk-mo...     E   \n",
       "\n",
       "                  mention                   domains  \n",
       "14121  Charles E. Schumer                     [com]  \n",
       "10528      Bernie Sanders  [com.au, com.au, com.au]  \n",
       "11432           Rand Paul                     [com]  \n",
       "7605          Jim Inhofe                      [org]  "
      ]
     },
     "execution_count": 19,
     "metadata": {},
     "output_type": "execute_result"
    }
   ],
   "source": [
    "# Concatenate data across all years and display the format of quotation data\n",
    "annual_frames_mention = [senate_quote_15_mention, senate_quote_16_mention, senate_quote_17_mention, senate_quote_18_mention, senate_quote_19_mention, senate_quote_20_mention]\n",
    "candidate_quotes_mention = pd.concat(annual_frames_mention)\n",
    "candidate_quotes_mention.sample(4)"
   ]
  },
  {
   "cell_type": "code",
   "execution_count": 20,
   "id": "f80a5cf4",
   "metadata": {},
   "outputs": [
    {
     "data": {
      "text/html": [
       "<div>\n",
       "<style scoped>\n",
       "    .dataframe tbody tr th:only-of-type {\n",
       "        vertical-align: middle;\n",
       "    }\n",
       "\n",
       "    .dataframe tbody tr th {\n",
       "        vertical-align: top;\n",
       "    }\n",
       "\n",
       "    .dataframe thead th {\n",
       "        text-align: right;\n",
       "    }\n",
       "</style>\n",
       "<table border=\"1\" class=\"dataframe\">\n",
       "  <thead>\n",
       "    <tr style=\"text-align: right;\">\n",
       "      <th></th>\n",
       "      <th>quoteID</th>\n",
       "      <th>quotation</th>\n",
       "      <th>speaker</th>\n",
       "      <th>qids</th>\n",
       "      <th>date</th>\n",
       "      <th>numOccurrences</th>\n",
       "      <th>probas</th>\n",
       "      <th>urls</th>\n",
       "      <th>phase</th>\n",
       "      <th>mention</th>\n",
       "      <th>domains</th>\n",
       "      <th>date_only</th>\n",
       "      <th>normalize_factor</th>\n",
       "      <th>normalize_quotes</th>\n",
       "    </tr>\n",
       "  </thead>\n",
       "  <tbody>\n",
       "    <tr>\n",
       "      <th>12754</th>\n",
       "      <td>2016-04-21-147151</td>\n",
       "      <td>With Bernie Sanders close to being mathematica...</td>\n",
       "      <td>None</td>\n",
       "      <td>[]</td>\n",
       "      <td>2016-04-21 14:00:00</td>\n",
       "      <td>1</td>\n",
       "      <td>[[None, 0.7556], [Hillary Clinton, 0.1957], [E...</td>\n",
       "      <td>[http://host.madison.com/ct/news/local/roundup...</td>\n",
       "      <td>E</td>\n",
       "      <td>ELIZABETH A. WARREN</td>\n",
       "      <td>[com]</td>\n",
       "      <td>2016-04-21</td>\n",
       "      <td>0.939819</td>\n",
       "      <td>0.939819</td>\n",
       "    </tr>\n",
       "    <tr>\n",
       "      <th>10126</th>\n",
       "      <td>2018-09-10-057143</td>\n",
       "      <td>Kylian Mbappe, Fabinho, Benjamin Mendy, Bernar...</td>\n",
       "      <td>None</td>\n",
       "      <td>[]</td>\n",
       "      <td>2018-09-10 09:10:00</td>\n",
       "      <td>1</td>\n",
       "      <td>[[None, 0.9299], [James Rodriguez, 0.0201], [B...</td>\n",
       "      <td>[https://www.dailystar.co.uk/sport/football/72...</td>\n",
       "      <td>E</td>\n",
       "      <td>BENJAMIN RODRIGUEZ</td>\n",
       "      <td>[co.uk]</td>\n",
       "      <td>2018-09-10</td>\n",
       "      <td>0.459009</td>\n",
       "      <td>0.459009</td>\n",
       "    </tr>\n",
       "    <tr>\n",
       "      <th>7319</th>\n",
       "      <td>2017-07-10-021906</td>\n",
       "      <td>Former presidential candidate Bernie Sanders w...</td>\n",
       "      <td>Bernie Sanders</td>\n",
       "      <td>[Q359442]</td>\n",
       "      <td>2017-07-10 18:00:37</td>\n",
       "      <td>1</td>\n",
       "      <td>[[Bernie Sanders, 0.6093], [None, 0.3533], [La...</td>\n",
       "      <td>[https://insurancenewsnet.com/oarticle/senate-...</td>\n",
       "      <td>E</td>\n",
       "      <td>BERNIE SANDERS</td>\n",
       "      <td>[com]</td>\n",
       "      <td>2017-07-10</td>\n",
       "      <td>0.418827</td>\n",
       "      <td>0.418827</td>\n",
       "    </tr>\n",
       "    <tr>\n",
       "      <th>4477</th>\n",
       "      <td>2018-08-24-029774</td>\n",
       "      <td>I really want to see Ted Cruz out of office.</td>\n",
       "      <td>None</td>\n",
       "      <td>[]</td>\n",
       "      <td>2018-08-24 08:42:00</td>\n",
       "      <td>2</td>\n",
       "      <td>[[None, 0.87], [Lupe Valdez, 0.13]]</td>\n",
       "      <td>[https://www.nbcnews.com/news/latino/texas-bet...</td>\n",
       "      <td>E</td>\n",
       "      <td>TED CRUZ</td>\n",
       "      <td>[com, com]</td>\n",
       "      <td>2018-08-24</td>\n",
       "      <td>0.497688</td>\n",
       "      <td>0.995375</td>\n",
       "    </tr>\n",
       "    <tr>\n",
       "      <th>10423</th>\n",
       "      <td>2017-04-25-114738</td>\n",
       "      <td>The president offered this to Senate majority ...</td>\n",
       "      <td>Michael Anton</td>\n",
       "      <td>[Q28732670]</td>\n",
       "      <td>2017-04-25 18:36:42</td>\n",
       "      <td>1</td>\n",
       "      <td>[[Michael Anton, 0.5746], [None, 0.275], [Pres...</td>\n",
       "      <td>[http://feeds.inquisitr.com/~r/google/yDYq/~3/...</td>\n",
       "      <td>E</td>\n",
       "      <td>MITCH MCCONNELL</td>\n",
       "      <td>[com]</td>\n",
       "      <td>2017-04-25</td>\n",
       "      <td>0.398950</td>\n",
       "      <td>0.398950</td>\n",
       "    </tr>\n",
       "  </tbody>\n",
       "</table>\n",
       "</div>"
      ],
      "text/plain": [
       "                 quoteID                                          quotation  \\\n",
       "12754  2016-04-21-147151  With Bernie Sanders close to being mathematica...   \n",
       "10126  2018-09-10-057143  Kylian Mbappe, Fabinho, Benjamin Mendy, Bernar...   \n",
       "7319   2017-07-10-021906  Former presidential candidate Bernie Sanders w...   \n",
       "4477   2018-08-24-029774       I really want to see Ted Cruz out of office.   \n",
       "10423  2017-04-25-114738  The president offered this to Senate majority ...   \n",
       "\n",
       "              speaker         qids                date  numOccurrences  \\\n",
       "12754            None           [] 2016-04-21 14:00:00               1   \n",
       "10126            None           [] 2018-09-10 09:10:00               1   \n",
       "7319   Bernie Sanders    [Q359442] 2017-07-10 18:00:37               1   \n",
       "4477             None           [] 2018-08-24 08:42:00               2   \n",
       "10423   Michael Anton  [Q28732670] 2017-04-25 18:36:42               1   \n",
       "\n",
       "                                                  probas  \\\n",
       "12754  [[None, 0.7556], [Hillary Clinton, 0.1957], [E...   \n",
       "10126  [[None, 0.9299], [James Rodriguez, 0.0201], [B...   \n",
       "7319   [[Bernie Sanders, 0.6093], [None, 0.3533], [La...   \n",
       "4477                 [[None, 0.87], [Lupe Valdez, 0.13]]   \n",
       "10423  [[Michael Anton, 0.5746], [None, 0.275], [Pres...   \n",
       "\n",
       "                                                    urls phase  \\\n",
       "12754  [http://host.madison.com/ct/news/local/roundup...     E   \n",
       "10126  [https://www.dailystar.co.uk/sport/football/72...     E   \n",
       "7319   [https://insurancenewsnet.com/oarticle/senate-...     E   \n",
       "4477   [https://www.nbcnews.com/news/latino/texas-bet...     E   \n",
       "10423  [http://feeds.inquisitr.com/~r/google/yDYq/~3/...     E   \n",
       "\n",
       "                   mention     domains   date_only  normalize_factor  \\\n",
       "12754  ELIZABETH A. WARREN       [com]  2016-04-21          0.939819   \n",
       "10126   BENJAMIN RODRIGUEZ     [co.uk]  2018-09-10          0.459009   \n",
       "7319        BERNIE SANDERS       [com]  2017-07-10          0.418827   \n",
       "4477              TED CRUZ  [com, com]  2018-08-24          0.497688   \n",
       "10423      MITCH MCCONNELL       [com]  2017-04-25          0.398950   \n",
       "\n",
       "       normalize_quotes  \n",
       "12754          0.939819  \n",
       "10126          0.459009  \n",
       "7319           0.418827  \n",
       "4477           0.995375  \n",
       "10423          0.398950  "
      ]
     },
     "execution_count": 20,
     "metadata": {},
     "output_type": "execute_result"
    }
   ],
   "source": [
    "# format the date\n",
    "candidate_quotes_mention['date_only'] = candidate_quotes_mention['date'].dt.date\n",
    "# change the name to upper format\n",
    "candidate_quotes_mention['mention'] = candidate_quotes_mention['mention'].str.upper()\n",
    "\n",
    "# Normalize the quotes\n",
    "candidate_quotes_mention['normalize_factor'] = candidate_quotes_mention['date'].map(lambda x: 1/quote_num[str(x)[:7]]*1e6)\n",
    "candidate_quotes_mention['normalize_quotes'] = candidate_quotes_mention['numOccurrences']*candidate_quotes_mention['normalize_factor']\n",
    "candidate_quotes_mention.sample(5)"
   ]
  },
  {
   "cell_type": "code",
   "execution_count": 21,
   "id": "5de83206",
   "metadata": {},
   "outputs": [
    {
     "data": {
      "text/plain": [
       "mention           date_only \n",
       "A. WAYNE JOHNSON  2015-01-16    0.601997\n",
       "                  2015-08-04    0.473512\n",
       "                  2015-12-11    0.955093\n",
       "                  2017-02-12    2.080072\n",
       "                  2017-05-28    0.401338\n",
       "                                  ...   \n",
       "WILLIE L. WILSON  2019-03-30    0.503878\n",
       "                  2019-07-16    0.668486\n",
       "                  2019-11-04    0.542426\n",
       "ZAK RINGELSTEIN   2018-06-22    0.482000\n",
       "                  2018-10-24    0.427106\n",
       "Name: normalize_quotes, Length: 34904, dtype: float64"
      ]
     },
     "execution_count": 21,
     "metadata": {},
     "output_type": "execute_result"
    }
   ],
   "source": [
    "# obtain normalized quotations by day\n",
    "candidate_quotes_mention_byday = candidate_quotes_mention.groupby(['mention', 'date_only'])['normalize_quotes'].sum()\n",
    "candidate_quotes_mention_byday"
   ]
  },
  {
   "cell_type": "code",
   "execution_count": 22,
   "id": "09bd3ad2",
   "metadata": {},
   "outputs": [
    {
     "data": {
      "text/plain": [
       "Text(0.5, 1.0, 'Bernie Sanders')"
      ]
     },
     "execution_count": 22,
     "metadata": {},
     "output_type": "execute_result"
    },
    {
     "data": {
      "image/png": "[encoded data removed]",
      "text/plain": [
       "<Figure size 432x288 with 1 Axes>"
      ]
     },
     "metadata": {
      "needs_background": "light"
     },
     "output_type": "display_data"
    }
   ],
   "source": [
    "# For example, we can visualize the quotation changes of Bernie Sanders\n",
    "candidate_quotes_mention_byday['BERNIE SANDERS'].rolling(window=30).sum().plot() # one months average\n",
    "plt.xlabel('time')\n",
    "plt.ylabel('Quoted numbers: Mention')\n",
    "plt.title('Bernie Sanders')"
   ]
  },
  {
   "cell_type": "code",
   "execution_count": 23,
   "id": "0c4ef323",
   "metadata": {},
   "outputs": [
    {
     "data": {
      "text/html": [
       "<div>\n",
       "<style scoped>\n",
       "    .dataframe tbody tr th:only-of-type {\n",
       "        vertical-align: middle;\n",
       "    }\n",
       "\n",
       "    .dataframe tbody tr th {\n",
       "        vertical-align: top;\n",
       "    }\n",
       "\n",
       "    .dataframe thead th {\n",
       "        text-align: right;\n",
       "    }\n",
       "</style>\n",
       "<table border=\"1\" class=\"dataframe\">\n",
       "  <thead>\n",
       "    <tr style=\"text-align: right;\">\n",
       "      <th></th>\n",
       "      <th>quoteID</th>\n",
       "      <th>quotation</th>\n",
       "      <th>speaker</th>\n",
       "      <th>qids</th>\n",
       "      <th>date</th>\n",
       "      <th>numOccurrences</th>\n",
       "      <th>probas</th>\n",
       "      <th>urls</th>\n",
       "      <th>phase</th>\n",
       "      <th>mention</th>\n",
       "      <th>domains</th>\n",
       "      <th>date_only</th>\n",
       "      <th>normalize_factor</th>\n",
       "      <th>normalize_quotes</th>\n",
       "      <th>election_day</th>\n",
       "    </tr>\n",
       "  </thead>\n",
       "  <tbody>\n",
       "    <tr>\n",
       "      <th>0</th>\n",
       "      <td>2015-05-17-016225</td>\n",
       "      <td>I really like Bernie Sanders and his policies ...</td>\n",
       "      <td>None</td>\n",
       "      <td>[]</td>\n",
       "      <td>2015-05-17 07:09:22</td>\n",
       "      <td>1</td>\n",
       "      <td>[[None, 0.81], [Bernie Sanders, 0.19]]</td>\n",
       "      <td>[http://dailykos.com/story/2015/05/15/1384917/...</td>\n",
       "      <td>E</td>\n",
       "      <td>BERNIE SANDERS</td>\n",
       "      <td>[com]</td>\n",
       "      <td>2015-05-17</td>\n",
       "      <td>0.880164</td>\n",
       "      <td>0.880164</td>\n",
       "      <td>2018-11-01</td>\n",
       "    </tr>\n",
       "    <tr>\n",
       "      <th>1</th>\n",
       "      <td>2015-08-25-018582</td>\n",
       "      <td>Elizabeth Warren does have a thumb on the puls...</td>\n",
       "      <td>Bakari Sellers</td>\n",
       "      <td>[Q4849014]</td>\n",
       "      <td>2015-08-25 10:02:35</td>\n",
       "      <td>4</td>\n",
       "      <td>[[Bakari Sellers, 0.8813], [None, 0.1075], [El...</td>\n",
       "      <td>[http://www.kspr.com/news/politics/does-elizab...</td>\n",
       "      <td>E</td>\n",
       "      <td>ELIZABETH A. WARREN</td>\n",
       "      <td>[com, com, com, com]</td>\n",
       "      <td>2015-08-25</td>\n",
       "      <td>0.473512</td>\n",
       "      <td>1.894046</td>\n",
       "      <td>2018-11-01</td>\n",
       "    </tr>\n",
       "    <tr>\n",
       "      <th>2</th>\n",
       "      <td>2015-03-11-040221</td>\n",
       "      <td>I'll invoke the marital privilege on some of i...</td>\n",
       "      <td>Mike Coffman</td>\n",
       "      <td>[Q547218]</td>\n",
       "      <td>2015-03-11 17:09:31</td>\n",
       "      <td>1</td>\n",
       "      <td>[[Mike Coffman, 0.4786], [None, 0.3104], [Tom ...</td>\n",
       "      <td>[http://www.huffingtonpost.com/jason-salzman/r...</td>\n",
       "      <td>E</td>\n",
       "      <td>CORY GARDNER</td>\n",
       "      <td>[com]</td>\n",
       "      <td>2015-03-11</td>\n",
       "      <td>0.535357</td>\n",
       "      <td>0.535357</td>\n",
       "      <td>2020-11-01</td>\n",
       "    </tr>\n",
       "    <tr>\n",
       "      <th>3</th>\n",
       "      <td>2015-09-24-081451</td>\n",
       "      <td>Richard Burr truly is North Carolina's `Invisi...</td>\n",
       "      <td>None</td>\n",
       "      <td>[]</td>\n",
       "      <td>2015-09-24 02:04:45</td>\n",
       "      <td>1</td>\n",
       "      <td>[[None, 0.7571], [Richard Burr, 0.182], [Paul ...</td>\n",
       "      <td>[http://www.wcti12.com/news/Ross-leaves-job-po...</td>\n",
       "      <td>E</td>\n",
       "      <td>RICHARD BURR</td>\n",
       "      <td>[com]</td>\n",
       "      <td>2015-09-24</td>\n",
       "      <td>0.447555</td>\n",
       "      <td>0.447555</td>\n",
       "      <td>2016-11-01</td>\n",
       "    </tr>\n",
       "  </tbody>\n",
       "</table>\n",
       "</div>"
      ],
      "text/plain": [
       "             quoteID                                          quotation  \\\n",
       "0  2015-05-17-016225  I really like Bernie Sanders and his policies ...   \n",
       "1  2015-08-25-018582  Elizabeth Warren does have a thumb on the puls...   \n",
       "2  2015-03-11-040221  I'll invoke the marital privilege on some of i...   \n",
       "3  2015-09-24-081451  Richard Burr truly is North Carolina's `Invisi...   \n",
       "\n",
       "          speaker        qids                date  numOccurrences  \\\n",
       "0            None          [] 2015-05-17 07:09:22               1   \n",
       "1  Bakari Sellers  [Q4849014] 2015-08-25 10:02:35               4   \n",
       "2    Mike Coffman   [Q547218] 2015-03-11 17:09:31               1   \n",
       "3            None          [] 2015-09-24 02:04:45               1   \n",
       "\n",
       "                                              probas  \\\n",
       "0             [[None, 0.81], [Bernie Sanders, 0.19]]   \n",
       "1  [[Bakari Sellers, 0.8813], [None, 0.1075], [El...   \n",
       "2  [[Mike Coffman, 0.4786], [None, 0.3104], [Tom ...   \n",
       "3  [[None, 0.7571], [Richard Burr, 0.182], [Paul ...   \n",
       "\n",
       "                                                urls phase  \\\n",
       "0  [http://dailykos.com/story/2015/05/15/1384917/...     E   \n",
       "1  [http://www.kspr.com/news/politics/does-elizab...     E   \n",
       "2  [http://www.huffingtonpost.com/jason-salzman/r...     E   \n",
       "3  [http://www.wcti12.com/news/Ross-leaves-job-po...     E   \n",
       "\n",
       "               mention               domains   date_only  normalize_factor  \\\n",
       "0       BERNIE SANDERS                 [com]  2015-05-17          0.880164   \n",
       "1  ELIZABETH A. WARREN  [com, com, com, com]  2015-08-25          0.473512   \n",
       "2         CORY GARDNER                 [com]  2015-03-11          0.535357   \n",
       "3         RICHARD BURR                 [com]  2015-09-24          0.447555   \n",
       "\n",
       "   normalize_quotes election_day  \n",
       "0          0.880164   2018-11-01  \n",
       "1          1.894046   2018-11-01  \n",
       "2          0.535357   2020-11-01  \n",
       "3          0.447555   2016-11-01  "
      ]
     },
     "execution_count": 23,
     "metadata": {},
     "output_type": "execute_result"
    }
   ],
   "source": [
    "# Add the election day corresponding to each candidate mentioned\n",
    "candidate_info_byname = candidate_info.set_index(['candidate']) # Allow access info by name as index\n",
    "candidate_quotes_mention['mention']=candidate_quotes_mention.mention.map(lambda x:x.upper())\n",
    "candidate_quotes_mention['election_day'] = candidate_quotes_mention['mention'].map(candidate_info_byname['year']).astype(str)+ '-11-01'\n",
    "candidate_quotes_mention['election_day'] = pd.to_datetime(candidate_quotes_mention['election_day'])\n",
    "candidate_quotes_mention.head(4)"
   ]
  },
  {
   "cell_type": "code",
   "execution_count": 24,
   "id": "d1ba356c",
   "metadata": {},
   "outputs": [
    {
     "name": "stdout",
     "output_type": "stream",
     "text": [
      "Pearson coefficient: 0.5320764453359699, p value: 1.1343252830666171e-22\n"
     ]
    },
    {
     "data": {
      "image/png": "[encoded data removed]",
      "text/plain": [
       "<Figure size 432x288 with 1 Axes>"
      ]
     },
     "metadata": {
      "needs_background": "light"
     },
     "output_type": "display_data"
    }
   ],
   "source": [
    "from scipy.stats import pearsonr\n",
    "\n",
    "# Add election result (i.e. vote rate) for each candidate speaker\n",
    "candidate_info_byname['vote_rate'] = candidate_info_byname['candidatevotes']/candidate_info_byname['totalvotes']\n",
    "\n",
    "# We group the number of normalized quotations before election day\n",
    "quotes_byelection = candidate_quotes_mention[candidate_quotes_mention['date_only'] < candidate_quotes_mention['election_day']]\n",
    "tot_quotes_byelection = pd.DataFrame(quotes_byelection.groupby(['mention'])['normalize_quotes'].sum())\n",
    "tot_quotes_byelection.rename(columns = {'normalize_quotes': 'total_quotes_byelection'}, inplace=True)\n",
    "\n",
    "# We add the vote rate and plot the scatter plot of vote rate against total quotes by election\n",
    "tot_quotes_byelection['vote_rate'] = tot_quotes_byelection.index.map(candidate_info_byname['vote_rate'])\n",
    "\n",
    "# linear regression\n",
    "quotes_vote = tot_quotes_byelection.plot.scatter(x = 'total_quotes_byelection', y = 'vote_rate', logx=True)\n",
    "(corr1, pvalue) = pearsonr(np.log(tot_quotes_byelection['total_quotes_byelection']), tot_quotes_byelection['vote_rate'])\n",
    "print(f'Pearson coefficient: {corr1}, p value: {pvalue}')"
   ]
  },
  {
   "cell_type": "markdown",
   "id": "d10ca665-aab8-4eb6-a3b8-5b32ba2dc165",
   "metadata": {},
   "source": [
    "**Observation**: Based on the plot above, we can see that there is also a positive correlation between number of mentioned quotations and vote_rate with p value < 0.05."
   ]
  },
  {
   "cell_type": "markdown",
   "id": "465f405e",
   "metadata": {},
   "source": [
    "## 2. Weigh the quotations by readership\n",
    "We are aware of the different reading statistics of different media. We try to weigh the quotations by the readership of the source media."
   ]
  },
  {
   "cell_type": "markdown",
   "id": "78072790",
   "metadata": {},
   "source": [
    "**2.1** First, we sample 50k quotes and look at the source media of those quotations. This would give us a feel of how much media is covered by QuoteBank and which media appear most often. To balance the data said by candidates and the data mentioning candidates, we sample the 50k quotes according to the ratio of total data in 'candidate_quotes' and 'candidate_quotes_mention'"
   ]
  },
  {
   "cell_type": "code",
   "execution_count": 25,
   "id": "d885f7be",
   "metadata": {},
   "outputs": [
    {
     "name": "stdout",
     "output_type": "stream",
     "text": [
      "we sample 46123 quotes said by candidates and 3877 quotes mentioning candidates\n"
     ]
    }
   ],
   "source": [
    "# sample 50k quotes and see where quotes are published\n",
    "candidate_quotes_mention.reset_index(inplace=True) # Reset index of mention dataset\n",
    "sample_n = 50000\n",
    "said_n = len(candidate_quotes.index) # total number of quotes said by candidates\n",
    "mention_n = len(candidate_quotes_mention.index) # total number of quotes mentioning candidates\n",
    "mention_sample_n = int(sample_n * mention_n/(mention_n + said_n))\n",
    "said_sample_n = sample_n - mention_sample_n\n",
    "print('we sample {} quotes said by candidates and {} quotes mentioning candidates'.format(said_sample_n, mention_sample_n))"
   ]
  },
  {
   "cell_type": "code",
   "execution_count": 26,
   "id": "27cb8060",
   "metadata": {},
   "outputs": [],
   "source": [
    "# We extract the domains from two data set based on the ratio computed above\n",
    "total_domains = []\n",
    "said_sample = candidate_quotes.sample(said_sample_n) # sample from quotes said by candidates\n",
    "# We extract web domains from the url\n",
    "for i in said_sample.index:\n",
    "    urls = said_sample.at[i,'urls']\n",
    "    for url in urls: # Some URL here is actually a list (there are lists in list), not sure why it happens\n",
    "        total_domains.append(get_tld(url, as_object=True).domain)\n",
    "\n",
    "mention_sample = candidate_quotes.sample(mention_sample_n) # sample from quotes said by candidates\n",
    "# We use the same pipeline to extract domain\n",
    "for i in mention_sample.index:\n",
    "    urls = mention_sample.at[i,'urls']\n",
    "    for url in urls: # Some URL here is actually a list (there are lists in list), not sure why it happens\n",
    "        total_domains.append(get_tld(url, as_object=True).domain)"
   ]
  },
  {
   "cell_type": "markdown",
   "id": "9d14268e",
   "metadata": {},
   "source": [
    "We use the code below to find top 30 frequently appearing media in the sample. (Note: the last several media may be different from sample to sample, but overall they do not affect the result!)"
   ]
  },
  {
   "cell_type": "code",
   "execution_count": 27,
   "id": "e5460c99",
   "metadata": {},
   "outputs": [
    {
     "name": "stdout",
     "output_type": "stream",
     "text": [
      "----top 30 news agency/publisher:\n",
      "  [('krmg', 5670), ('msn', 3356), ('news965', 3127), ('wokv', 2908), ('businessinsider', 2609), ('yahoo', 2556), ('breitbart', 2532), ('thehill', 2333), ('washingtonexaminer', 2234), ('washingtontimes', 2192), ('cnn', 2025), ('cbsnews', 1941), ('einnews', 1843), ('newsmax', 1818), ('foxnews', 1686), ('nytimes', 1556), ('washingtonpost', 1333), ('nbcnews', 1285), ('sfgate', 1214), ('huffingtonpost', 1174), ('wsbradio', 1167), ('kdhnews', 1084), ('news12', 1079), ('ksl', 1018), ('startribune', 992), ('abc-7', 926), ('lmtonline', 920), ('politico', 889), ('seattletimes', 883), ('newsweek', 872)]\n",
      "----number of news agency covered: 4753\n"
     ]
    }
   ],
   "source": [
    "# Count the frequency of media occurences in quotation dataset\n",
    "from collections import Counter\n",
    "domain_count = Counter(total_domains).most_common()\n",
    "print(\"----top 30 news agency/publisher:\\n \", domain_count[0:30])\n",
    "print('----number of news agency covered:', len(domain_count))\n"
   ]
  },
  {
   "cell_type": "markdown",
   "id": "02273b19",
   "metadata": {},
   "source": [
    "Among 50k samples, there are over 4000 different website domains, indicating a sufficiently wide coverage of media. So the quotations can be an indicator of public exposure. Besides, we observe an exponential decrease of counts in the database."
   ]
  },
  {
   "cell_type": "code",
   "execution_count": 28,
   "id": "f56d72aa",
   "metadata": {},
   "outputs": [
    {
     "data": {
      "text/plain": [
       "Text(0.5, 0, 'occurences in sampled quote data')"
      ]
     },
     "execution_count": 28,
     "metadata": {},
     "output_type": "execute_result"
    },
    {
     "data": {
      "image/png": "[encoded data removed]",
      "text/plain": [
       "<Figure size 432x288 with 1 Axes>"
      ]
     },
     "metadata": {
      "needs_background": "light"
     },
     "output_type": "display_data"
    }
   ],
   "source": [
    "# Plot the histogram characterizing the frequency of each media appearing\n",
    "_, y_counts = zip(*domain_count)\n",
    "plt.hist(y_counts, bins=20)\n",
    "plt.yscale('log')\n",
    "plt.ylabel('number of media')\n",
    "plt.xlabel('occurences in sampled quote data')"
   ]
  },
  {
   "cell_type": "markdown",
   "id": "348f4862",
   "metadata": {},
   "source": [
    "**Do Not Re run the cell below! In case sample changes**\n",
    "\n",
    "10 randomly selected news agency/publisher except the top 30:\n",
    "\n",
    "  ['bakersfield','wtkr', 'go', 'navytimes', 'advertiser-tribune', 'circleofblue', 'nbcphiladelphia', 'malaymail', 'illawarramercury', 'hawaiinewsnow']\n",
    "  \n",
    "The code to get the 10 random media is shown below, we comment it out because each time it selects 10 different media, which may confuse the viewer of this notebook."
   ]
  },
  {
   "cell_type": "code",
   "execution_count": 29,
   "id": "b473f8d5",
   "metadata": {},
   "outputs": [
    {
     "name": "stdout",
     "output_type": "stream",
     "text": [
      "Couldn't find program: 'echo'\n"
     ]
    }
   ],
   "source": [
    "%%script echo skipping\n",
    "#media_ind = np.random.randint(31, len(domain_count), size=10)\n",
    "#print(\"10 randomly selected news agency/publisher except the top 30:\\n \", [domain_count[i] for i in media_ind])"
   ]
  },
  {
   "cell_type": "markdown",
   "id": "182839a2",
   "metadata": {},
   "source": [
    "The distribution is heavy-tailed, with only a few big media like CNN and Fox News occurring frequently. Most media occurs no more than 1.5% among all quotations. So, we think it is sufficient to just weigh the quotations extracted from those frequently occurring media. Moreover, it is very difficult to automatically find media's reading statistics (or other indicators of popularity) just based on the url major domain name. We could not think of a way to do so. Neither could we find an open dataset helping us. Therefore, we decide to manually look up the readership of those top 30 new agencies. For the rest media, we will sample 10 media from them and manually look up the reading statistics. We will take the average readership of those 10 media to represent the readership of the rest media. This will take up some time, so we plan to finish those manual work in the following weeks (see proposed timeline). As a result, we do not include any exposure level (quotation weighted by media readership) in Milestone 2. Instead, we just use the number of quotations (assuming all media offer the same public exposure)."
   ]
  },
  {
   "cell_type": "markdown",
   "id": "2b201045",
   "metadata": {},
   "source": [
    "**2.2** We manually search the total website visits of top 30 news agencies of the 10 randomly selected agencies among the rest. We could not find the data of some websites, so we use the median of others to fill it."
   ]
  },
  {
   "cell_type": "code",
   "execution_count": 27,
   "id": "3ae3c340",
   "metadata": {},
   "outputs": [
    {
     "data": {
      "text/html": [
       "<div>\n",
       "<style scoped>\n",
       "    .dataframe tbody tr th:only-of-type {\n",
       "        vertical-align: middle;\n",
       "    }\n",
       "\n",
       "    .dataframe tbody tr th {\n",
       "        vertical-align: top;\n",
       "    }\n",
       "\n",
       "    .dataframe thead th {\n",
       "        text-align: right;\n",
       "    }\n",
       "</style>\n",
       "<table border=\"1\" class=\"dataframe\">\n",
       "  <thead>\n",
       "    <tr style=\"text-align: right;\">\n",
       "      <th></th>\n",
       "      <th>webdomain</th>\n",
       "      <th>agency</th>\n",
       "      <th>total_view_in_US</th>\n",
       "      <th>audience</th>\n",
       "      <th>source</th>\n",
       "    </tr>\n",
       "  </thead>\n",
       "  <tbody>\n",
       "    <tr>\n",
       "      <th>0</th>\n",
       "      <td>KRMG</td>\n",
       "      <td>KRMG</td>\n",
       "      <td>0.11</td>\n",
       "      <td>0.033</td>\n",
       "      <td>https://webrate.org/site/krmg.com/</td>\n",
       "    </tr>\n",
       "    <tr>\n",
       "      <th>1</th>\n",
       "      <td>news965</td>\n",
       "      <td>WBDO</td>\n",
       "      <td>21.68</td>\n",
       "      <td>NaN</td>\n",
       "      <td>default</td>\n",
       "    </tr>\n",
       "    <tr>\n",
       "      <th>2</th>\n",
       "      <td>wokv</td>\n",
       "      <td>WOKV</td>\n",
       "      <td>0.09</td>\n",
       "      <td>0.046</td>\n",
       "      <td>https://webrate.org/site/wokv.com/</td>\n",
       "    </tr>\n",
       "    <tr>\n",
       "      <th>3</th>\n",
       "      <td>msn</td>\n",
       "      <td>MSN</td>\n",
       "      <td>323.98</td>\n",
       "      <td>194.400</td>\n",
       "      <td>default</td>\n",
       "    </tr>\n",
       "    <tr>\n",
       "      <th>4</th>\n",
       "      <td>breitbart</td>\n",
       "      <td>Breitbart</td>\n",
       "      <td>42.19</td>\n",
       "      <td>40.730</td>\n",
       "      <td>default</td>\n",
       "    </tr>\n",
       "  </tbody>\n",
       "</table>\n",
       "</div>"
      ],
      "text/plain": [
       "   webdomain     agency  total_view_in_US  audience  \\\n",
       "0       KRMG       KRMG              0.11     0.033   \n",
       "1    news965       WBDO             21.68       NaN   \n",
       "2       wokv       WOKV              0.09     0.046   \n",
       "3        msn        MSN            323.98   194.400   \n",
       "4  breitbart  Breitbart             42.19    40.730   \n",
       "\n",
       "                               source  \n",
       "0  https://webrate.org/site/krmg.com/  \n",
       "1                             default  \n",
       "2  https://webrate.org/site/wokv.com/  \n",
       "3                             default  \n",
       "4                             default  "
      ]
     },
     "execution_count": 27,
     "metadata": {},
     "output_type": "execute_result"
    }
   ],
   "source": [
    "weight_file = 'SenateData/WebsiteVisit.csv'\n",
    "weight_df = pd.read_csv(weight_file)\n",
    "# Fill the NaN value by median (which avoid effect from outliers)\n",
    "weight_df.loc[:, ['total_view_in_US']] = weight_df[['total_view_in_US']].fillna(weight_df[['total_view_in_US']].median())\n",
    "weight_df.head(5) # demonstrate the format website view data for weight\n"
   ]
  },
  {
   "cell_type": "code",
   "execution_count": 28,
   "id": "d4c3453a",
   "metadata": {},
   "outputs": [
    {
     "name": "stdout",
     "output_type": "stream",
     "text": [
      "The median value of total views of the 10 agencies is 0.675\n"
     ]
    }
   ],
   "source": [
    "# Get the views for the 10 randomly selected agencies\n",
    "random_file = 'SenateData/RandomVisit.csv'\n",
    "random_df = pd.read_csv(random_file)\n",
    "# We take the median of total_US_view of the 10 agencies, as view for other agencies\n",
    "random_view = random_df['total_view_in_US'].median()\n",
    "print('The median value of total views of the 10 agencies is {}'.format(random_view))"
   ]
  },
  {
   "cell_type": "markdown",
   "id": "d6c7eb73",
   "metadata": {},
   "source": [
    "Then, we add those weights to the 'candidate_quotes' and 'candidate_quotes_mention'"
   ]
  },
  {
   "cell_type": "code",
   "execution_count": 29,
   "id": "5b63449c",
   "metadata": {},
   "outputs": [
    {
     "name": "stdout",
     "output_type": "stream",
     "text": [
      "For quotes said by candidates, we found 1044245 numbers of quotation occurrences from top 30\n"
     ]
    }
   ],
   "source": [
    "# assign weights to quotes said by candidates\n",
    "weight_dict = dict(zip(weight_df['webdomain'], weight_df['total_view_in_US']))\n",
    "n_hit = 0\n",
    "for i in candidate_quotes.index:\n",
    "    urls = candidate_quotes.at[i,'urls']\n",
    "    weight_ = 0\n",
    "    for url in urls: # Some URL here is actually a list (there are lists in list), not sure why it happens\n",
    "        webdomain = get_tld(url, as_object=True).domain # when it is a list, the multiply urls point to the same website\n",
    "        if webdomain in weight_dict.keys():\n",
    "            weight_ = weight_ + weight_dict[webdomain]\n",
    "            n_hit = n_hit + 1\n",
    "        else:\n",
    "            weight_ = weight_ + random_view\n",
    "    candidate_quotes.at[i,'views'] = weight_ \n",
    "print('For quotes said by candidates, we found {} numbers of quotation occurrences from top 30'.format(n_hit))"
   ]
  },
  {
   "cell_type": "code",
   "execution_count": 30,
   "id": "16027420",
   "metadata": {},
   "outputs": [
    {
     "data": {
      "text/html": [
       "<div>\n",
       "<style scoped>\n",
       "    .dataframe tbody tr th:only-of-type {\n",
       "        vertical-align: middle;\n",
       "    }\n",
       "\n",
       "    .dataframe tbody tr th {\n",
       "        vertical-align: top;\n",
       "    }\n",
       "\n",
       "    .dataframe thead th {\n",
       "        text-align: right;\n",
       "    }\n",
       "</style>\n",
       "<table border=\"1\" class=\"dataframe\">\n",
       "  <thead>\n",
       "    <tr style=\"text-align: right;\">\n",
       "      <th></th>\n",
       "      <th>index</th>\n",
       "      <th>quoteID</th>\n",
       "      <th>quotation</th>\n",
       "      <th>speaker</th>\n",
       "      <th>qids</th>\n",
       "      <th>date</th>\n",
       "      <th>numOccurrences</th>\n",
       "      <th>probas</th>\n",
       "      <th>urls</th>\n",
       "      <th>phase</th>\n",
       "      <th>domains</th>\n",
       "      <th>normalize_factor</th>\n",
       "      <th>normalize_quotes</th>\n",
       "      <th>date_only</th>\n",
       "      <th>election_day</th>\n",
       "      <th>views</th>\n",
       "      <th>normalize_views</th>\n",
       "    </tr>\n",
       "  </thead>\n",
       "  <tbody>\n",
       "    <tr>\n",
       "      <th>729713</th>\n",
       "      <td>174771</td>\n",
       "      <td>2018-02-12-120249</td>\n",
       "      <td>treat the most-at-risk parts of the national f...</td>\n",
       "      <td>MARIA CANTWELL</td>\n",
       "      <td>[Q22250]</td>\n",
       "      <td>2018-02-12 22:36:00</td>\n",
       "      <td>3</td>\n",
       "      <td>[[Maria Cantwell, 0.9128], [None, 0.0738], [Ro...</td>\n",
       "      <td>[https://www.opb.org/news/article/wildires-con...</td>\n",
       "      <td>E</td>\n",
       "      <td>[org, org, org]</td>\n",
       "      <td>0.401482</td>\n",
       "      <td>1.204445</td>\n",
       "      <td>2018-02-12</td>\n",
       "      <td>2018-11-01</td>\n",
       "      <td>2.025</td>\n",
       "      <td>0.813001</td>\n",
       "    </tr>\n",
       "    <tr>\n",
       "      <th>131036</th>\n",
       "      <td>131036</td>\n",
       "      <td>2015-05-08-028607</td>\n",
       "      <td>I think we need to resolve it.</td>\n",
       "      <td>RICHARD C. SHELBY</td>\n",
       "      <td>[Q472254]</td>\n",
       "      <td>2015-05-08 18:26:07</td>\n",
       "      <td>18</td>\n",
       "      <td>[[Richard Shelby, 0.7605], [None, 0.2294], [Pr...</td>\n",
       "      <td>[http://www.washingtontimes.com/news/2015/may/...</td>\n",
       "      <td>E</td>\n",
       "      <td>[com, com, com, com, com, com, com, com, com, ...</td>\n",
       "      <td>0.880164</td>\n",
       "      <td>15.842951</td>\n",
       "      <td>2015-05-08</td>\n",
       "      <td>2016-11-01</td>\n",
       "      <td>57.110</td>\n",
       "      <td>50.266162</td>\n",
       "    </tr>\n",
       "    <tr>\n",
       "      <th>491788</th>\n",
       "      <td>177390</td>\n",
       "      <td>2017-12-19-010596</td>\n",
       "      <td>Because it will be tit-for-tat from here on out.</td>\n",
       "      <td>JAMES LANKFORD</td>\n",
       "      <td>[Q45940]</td>\n",
       "      <td>2017-12-19 22:39:33</td>\n",
       "      <td>1</td>\n",
       "      <td>[[James Lankford, 0.6205], [None, 0.3795]]</td>\n",
       "      <td>[http://www.rollcall.com/news/policy/lankford-...</td>\n",
       "      <td>E</td>\n",
       "      <td>[com]</td>\n",
       "      <td>0.440932</td>\n",
       "      <td>0.440932</td>\n",
       "      <td>2017-12-19</td>\n",
       "      <td>2016-11-01</td>\n",
       "      <td>0.940</td>\n",
       "      <td>0.414476</td>\n",
       "    </tr>\n",
       "    <tr>\n",
       "      <th>17634</th>\n",
       "      <td>17634</td>\n",
       "      <td>2015-11-29-008225</td>\n",
       "      <td>because he's ineligible.</td>\n",
       "      <td>TED CRUZ</td>\n",
       "      <td>[Q2036942]</td>\n",
       "      <td>2015-11-29 03:08:30</td>\n",
       "      <td>2</td>\n",
       "      <td>[[Ted Cruz, 0.4337], [Alan Grayson, 0.3699], [...</td>\n",
       "      <td>[http://forums.sherdog.com/forums/f54/rep-gray...</td>\n",
       "      <td>E</td>\n",
       "      <td>[com, com]</td>\n",
       "      <td>0.559562</td>\n",
       "      <td>1.119124</td>\n",
       "      <td>2015-11-29</td>\n",
       "      <td>2018-11-01</td>\n",
       "      <td>324.655</td>\n",
       "      <td>181.664607</td>\n",
       "    </tr>\n",
       "    <tr>\n",
       "      <th>63127</th>\n",
       "      <td>63127</td>\n",
       "      <td>2015-10-01-046578</td>\n",
       "      <td>I would have liked to see the dials turned mor...</td>\n",
       "      <td>CORY BOOKER</td>\n",
       "      <td>[Q1135767]</td>\n",
       "      <td>2015-10-01 12:36:00</td>\n",
       "      <td>2</td>\n",
       "      <td>[[Cory Booker, 0.5617], [None, 0.416], [Chuck ...</td>\n",
       "      <td>[http://feeds.washingtonpost.com/c/34656/f/636...</td>\n",
       "      <td>E</td>\n",
       "      <td>[com, net]</td>\n",
       "      <td>0.416694</td>\n",
       "      <td>0.833389</td>\n",
       "      <td>2015-10-01</td>\n",
       "      <td>2020-11-01</td>\n",
       "      <td>120.735</td>\n",
       "      <td>50.309583</td>\n",
       "    </tr>\n",
       "  </tbody>\n",
       "</table>\n",
       "</div>"
      ],
      "text/plain": [
       "         index            quoteID  \\\n",
       "729713  174771  2018-02-12-120249   \n",
       "131036  131036  2015-05-08-028607   \n",
       "491788  177390  2017-12-19-010596   \n",
       "17634    17634  2015-11-29-008225   \n",
       "63127    63127  2015-10-01-046578   \n",
       "\n",
       "                                                quotation            speaker  \\\n",
       "729713  treat the most-at-risk parts of the national f...     MARIA CANTWELL   \n",
       "131036                     I think we need to resolve it.  RICHARD C. SHELBY   \n",
       "491788   Because it will be tit-for-tat from here on out.     JAMES LANKFORD   \n",
       "17634                            because he's ineligible.           TED CRUZ   \n",
       "63127   I would have liked to see the dials turned mor...        CORY BOOKER   \n",
       "\n",
       "              qids                date  numOccurrences  \\\n",
       "729713    [Q22250] 2018-02-12 22:36:00               3   \n",
       "131036   [Q472254] 2015-05-08 18:26:07              18   \n",
       "491788    [Q45940] 2017-12-19 22:39:33               1   \n",
       "17634   [Q2036942] 2015-11-29 03:08:30               2   \n",
       "63127   [Q1135767] 2015-10-01 12:36:00               2   \n",
       "\n",
       "                                                   probas  \\\n",
       "729713  [[Maria Cantwell, 0.9128], [None, 0.0738], [Ro...   \n",
       "131036  [[Richard Shelby, 0.7605], [None, 0.2294], [Pr...   \n",
       "491788         [[James Lankford, 0.6205], [None, 0.3795]]   \n",
       "17634   [[Ted Cruz, 0.4337], [Alan Grayson, 0.3699], [...   \n",
       "63127   [[Cory Booker, 0.5617], [None, 0.416], [Chuck ...   \n",
       "\n",
       "                                                     urls phase  \\\n",
       "729713  [https://www.opb.org/news/article/wildires-con...     E   \n",
       "131036  [http://www.washingtontimes.com/news/2015/may/...     E   \n",
       "491788  [http://www.rollcall.com/news/policy/lankford-...     E   \n",
       "17634   [http://forums.sherdog.com/forums/f54/rep-gray...     E   \n",
       "63127   [http://feeds.washingtonpost.com/c/34656/f/636...     E   \n",
       "\n",
       "                                                  domains  normalize_factor  \\\n",
       "729713                                    [org, org, org]          0.401482   \n",
       "131036  [com, com, com, com, com, com, com, com, com, ...          0.880164   \n",
       "491788                                              [com]          0.440932   \n",
       "17634                                          [com, com]          0.559562   \n",
       "63127                                          [com, net]          0.416694   \n",
       "\n",
       "        normalize_quotes   date_only election_day    views  normalize_views  \n",
       "729713          1.204445  2018-02-12   2018-11-01    2.025         0.813001  \n",
       "131036         15.842951  2015-05-08   2016-11-01   57.110        50.266162  \n",
       "491788          0.440932  2017-12-19   2016-11-01    0.940         0.414476  \n",
       "17634           1.119124  2015-11-29   2018-11-01  324.655       181.664607  \n",
       "63127           0.833389  2015-10-01   2020-11-01  120.735        50.309583  "
      ]
     },
     "execution_count": 30,
     "metadata": {},
     "output_type": "execute_result"
    }
   ],
   "source": [
    "# Multiply views by normalization factors\n",
    "candidate_quotes['normalize_views'] = candidate_quotes['views']*candidate_quotes['normalize_factor']\n",
    "candidate_quotes.sample(5)"
   ]
  },
  {
   "cell_type": "code",
   "execution_count": 31,
   "id": "c40427e3",
   "metadata": {},
   "outputs": [
    {
     "name": "stdout",
     "output_type": "stream",
     "text": [
      "For quotes mentioning candidates, we found 64689 numbers of quotation occurrences from top 30\n"
     ]
    }
   ],
   "source": [
    "# assign weights to quotes mentioning candidates\n",
    "n_hit = 0\n",
    "for i in candidate_quotes_mention.index:\n",
    "    urls = candidate_quotes_mention.at[i,'urls']\n",
    "    weight_ = 0\n",
    "    for url in urls: # Some URL here is actually a list (there are lists in list), not sure why it happens\n",
    "        webdomain = get_tld(url, as_object=True).domain # when it is a list, the multiply urls point to the same website\n",
    "        if webdomain in weight_dict.keys():\n",
    "            weight_ = weight_ + weight_dict[webdomain]\n",
    "            n_hit = n_hit + 1\n",
    "        else:\n",
    "            weight_ = weight_ + random_view\n",
    "    candidate_quotes_mention.at[i,'views'] = weight_ \n",
    "print('For quotes mentioning candidates, we found {} numbers of quotation occurrences from top 30'.format(n_hit))"
   ]
  },
  {
   "cell_type": "code",
   "execution_count": 32,
   "id": "157f9716",
   "metadata": {},
   "outputs": [
    {
     "data": {
      "text/html": [
       "<div>\n",
       "<style scoped>\n",
       "    .dataframe tbody tr th:only-of-type {\n",
       "        vertical-align: middle;\n",
       "    }\n",
       "\n",
       "    .dataframe tbody tr th {\n",
       "        vertical-align: top;\n",
       "    }\n",
       "\n",
       "    .dataframe thead th {\n",
       "        text-align: right;\n",
       "    }\n",
       "</style>\n",
       "<table border=\"1\" class=\"dataframe\">\n",
       "  <thead>\n",
       "    <tr style=\"text-align: right;\">\n",
       "      <th></th>\n",
       "      <th>index</th>\n",
       "      <th>quoteID</th>\n",
       "      <th>quotation</th>\n",
       "      <th>speaker</th>\n",
       "      <th>qids</th>\n",
       "      <th>date</th>\n",
       "      <th>numOccurrences</th>\n",
       "      <th>probas</th>\n",
       "      <th>urls</th>\n",
       "      <th>phase</th>\n",
       "      <th>mention</th>\n",
       "      <th>domains</th>\n",
       "      <th>date_only</th>\n",
       "      <th>normalize_factor</th>\n",
       "      <th>normalize_quotes</th>\n",
       "      <th>election_day</th>\n",
       "      <th>views</th>\n",
       "      <th>normalize_views</th>\n",
       "    </tr>\n",
       "  </thead>\n",
       "  <tbody>\n",
       "    <tr>\n",
       "      <th>78037</th>\n",
       "      <td>8596</td>\n",
       "      <td>2019-02-01-097523</td>\n",
       "      <td>The vast majority of Senate Republicans backed...</td>\n",
       "      <td>None</td>\n",
       "      <td>[]</td>\n",
       "      <td>2019-02-01 01:30:11</td>\n",
       "      <td>1</td>\n",
       "      <td>[[None, 0.8876], [Mitch McConnell, 0.0775], [P...</td>\n",
       "      <td>[http://nationaljournal.com/s/676343]</td>\n",
       "      <td>E</td>\n",
       "      <td>MITCH MCCONNELL</td>\n",
       "      <td>[com]</td>\n",
       "      <td>2019-02-01</td>\n",
       "      <td>0.541812</td>\n",
       "      <td>0.541812</td>\n",
       "      <td>2020-11-01</td>\n",
       "      <td>0.675</td>\n",
       "      <td>0.365723</td>\n",
       "    </tr>\n",
       "    <tr>\n",
       "      <th>45188</th>\n",
       "      <td>12878</td>\n",
       "      <td>2017-09-08-090164</td>\n",
       "      <td>Republican candidate, whether it's Josh Hawley...</td>\n",
       "      <td>James Harris</td>\n",
       "      <td>[Q15078247, Q20202184, Q23655847, Q56378354, Q...</td>\n",
       "      <td>2017-09-08 12:00:00</td>\n",
       "      <td>1</td>\n",
       "      <td>[[James Harris, 0.6159], [None, 0.3326], [Pres...</td>\n",
       "      <td>[http://www.kansascity.com/news/politics-gover...</td>\n",
       "      <td>E</td>\n",
       "      <td>JOSH HAWLEY</td>\n",
       "      <td>[com]</td>\n",
       "      <td>2017-09-08</td>\n",
       "      <td>0.370432</td>\n",
       "      <td>0.370432</td>\n",
       "      <td>2018-11-01</td>\n",
       "      <td>0.675</td>\n",
       "      <td>0.250042</td>\n",
       "    </tr>\n",
       "    <tr>\n",
       "      <th>91255</th>\n",
       "      <td>5270</td>\n",
       "      <td>2020-01-09-011025</td>\n",
       "      <td>But at the end of the day just like we control...</td>\n",
       "      <td>None</td>\n",
       "      <td>[]</td>\n",
       "      <td>2020-01-09 14:38:57</td>\n",
       "      <td>1</td>\n",
       "      <td>[[None, 0.4615], [Adam Smith, 0.3633], [Trent ...</td>\n",
       "      <td>[http://breitbart.com/politics/2020/01/09/dem-...</td>\n",
       "      <td>E</td>\n",
       "      <td>MITCH MCCONNELL</td>\n",
       "      <td>[com]</td>\n",
       "      <td>2020-01-09</td>\n",
       "      <td>0.577288</td>\n",
       "      <td>0.577288</td>\n",
       "      <td>2020-11-01</td>\n",
       "      <td>42.190</td>\n",
       "      <td>24.355776</td>\n",
       "    </tr>\n",
       "    <tr>\n",
       "      <th>35340</th>\n",
       "      <td>3030</td>\n",
       "      <td>2017-06-29-024034</td>\n",
       "      <td>FILE - In this Jan. 28, 2017, file photo, prot...</td>\n",
       "      <td>None</td>\n",
       "      <td>[]</td>\n",
       "      <td>2017-06-29 03:47:38</td>\n",
       "      <td>2</td>\n",
       "      <td>[[None, 0.7597], [John F. Kennedy, 0.2403]]</td>\n",
       "      <td>[http://newsok.com/qa-border-officers-take-key...</td>\n",
       "      <td>E</td>\n",
       "      <td>JOHN KENNEDY</td>\n",
       "      <td>[com, com]</td>\n",
       "      <td>2017-06-29</td>\n",
       "      <td>0.411438</td>\n",
       "      <td>0.822875</td>\n",
       "      <td>2016-11-01</td>\n",
       "      <td>1.350</td>\n",
       "      <td>0.555441</td>\n",
       "    </tr>\n",
       "    <tr>\n",
       "      <th>20489</th>\n",
       "      <td>4192</td>\n",
       "      <td>2016-05-10-119047</td>\n",
       "      <td>There's still some hard feelings and this isn'...</td>\n",
       "      <td>Mike Rounds</td>\n",
       "      <td>[Q722503]</td>\n",
       "      <td>2016-05-10 04:37:50</td>\n",
       "      <td>14</td>\n",
       "      <td>[[Mike Rounds, 0.775], [None, 0.1756], [John M...</td>\n",
       "      <td>[http://ksbw.com/politics/mcconnell-shows-conf...</td>\n",
       "      <td>E</td>\n",
       "      <td>JOHN MCCAIN</td>\n",
       "      <td>[com, com, com, com, com, com, com, com, com, ...</td>\n",
       "      <td>2016-05-10</td>\n",
       "      <td>0.438534</td>\n",
       "      <td>6.139478</td>\n",
       "      <td>2016-11-01</td>\n",
       "      <td>401.375</td>\n",
       "      <td>176.016654</td>\n",
       "    </tr>\n",
       "  </tbody>\n",
       "</table>\n",
       "</div>"
      ],
      "text/plain": [
       "       index            quoteID  \\\n",
       "78037   8596  2019-02-01-097523   \n",
       "45188  12878  2017-09-08-090164   \n",
       "91255   5270  2020-01-09-011025   \n",
       "35340   3030  2017-06-29-024034   \n",
       "20489   4192  2016-05-10-119047   \n",
       "\n",
       "                                               quotation       speaker  \\\n",
       "78037  The vast majority of Senate Republicans backed...          None   \n",
       "45188  Republican candidate, whether it's Josh Hawley...  James Harris   \n",
       "91255  But at the end of the day just like we control...          None   \n",
       "35340  FILE - In this Jan. 28, 2017, file photo, prot...          None   \n",
       "20489  There's still some hard feelings and this isn'...   Mike Rounds   \n",
       "\n",
       "                                                    qids                date  \\\n",
       "78037                                                 [] 2019-02-01 01:30:11   \n",
       "45188  [Q15078247, Q20202184, Q23655847, Q56378354, Q... 2017-09-08 12:00:00   \n",
       "91255                                                 [] 2020-01-09 14:38:57   \n",
       "35340                                                 [] 2017-06-29 03:47:38   \n",
       "20489                                          [Q722503] 2016-05-10 04:37:50   \n",
       "\n",
       "       numOccurrences                                             probas  \\\n",
       "78037               1  [[None, 0.8876], [Mitch McConnell, 0.0775], [P...   \n",
       "45188               1  [[James Harris, 0.6159], [None, 0.3326], [Pres...   \n",
       "91255               1  [[None, 0.4615], [Adam Smith, 0.3633], [Trent ...   \n",
       "35340               2        [[None, 0.7597], [John F. Kennedy, 0.2403]]   \n",
       "20489              14  [[Mike Rounds, 0.775], [None, 0.1756], [John M...   \n",
       "\n",
       "                                                    urls phase  \\\n",
       "78037              [http://nationaljournal.com/s/676343]     E   \n",
       "45188  [http://www.kansascity.com/news/politics-gover...     E   \n",
       "91255  [http://breitbart.com/politics/2020/01/09/dem-...     E   \n",
       "35340  [http://newsok.com/qa-border-officers-take-key...     E   \n",
       "20489  [http://ksbw.com/politics/mcconnell-shows-conf...     E   \n",
       "\n",
       "               mention                                            domains  \\\n",
       "78037  MITCH MCCONNELL                                              [com]   \n",
       "45188      JOSH HAWLEY                                              [com]   \n",
       "91255  MITCH MCCONNELL                                              [com]   \n",
       "35340     JOHN KENNEDY                                         [com, com]   \n",
       "20489      JOHN MCCAIN  [com, com, com, com, com, com, com, com, com, ...   \n",
       "\n",
       "        date_only  normalize_factor  normalize_quotes election_day    views  \\\n",
       "78037  2019-02-01          0.541812          0.541812   2020-11-01    0.675   \n",
       "45188  2017-09-08          0.370432          0.370432   2018-11-01    0.675   \n",
       "91255  2020-01-09          0.577288          0.577288   2020-11-01   42.190   \n",
       "35340  2017-06-29          0.411438          0.822875   2016-11-01    1.350   \n",
       "20489  2016-05-10          0.438534          6.139478   2016-11-01  401.375   \n",
       "\n",
       "       normalize_views  \n",
       "78037         0.365723  \n",
       "45188         0.250042  \n",
       "91255        24.355776  \n",
       "35340         0.555441  \n",
       "20489       176.016654  "
      ]
     },
     "execution_count": 32,
     "metadata": {},
     "output_type": "execute_result"
    }
   ],
   "source": [
    "# Multiply views by normalization factors\n",
    "candidate_quotes_mention['normalize_views'] = candidate_quotes_mention['views']*candidate_quotes_mention['normalize_factor']\n",
    "candidate_quotes_mention.sample(5)"
   ]
  },
  {
   "cell_type": "markdown",
   "id": "b51e738a",
   "metadata": {},
   "source": [
    "**2.3** We repeat the protocol in section **1.2-1.3** to examine the effect of weighted quotations by candidates on their election results "
   ]
  },
  {
   "cell_type": "code",
   "execution_count": 33,
   "id": "56a35498",
   "metadata": {},
   "outputs": [
    {
     "data": {
      "text/plain": [
       "speaker           date_only \n",
       "A. WAYNE JOHNSON  2015-01-06    0.406348\n",
       "                  2015-02-09    0.406745\n",
       "                  2015-02-11    0.813489\n",
       "                  2015-02-20    0.406745\n",
       "                  2015-03-01    0.361366\n",
       "                                  ...   \n",
       "ZAK RINGELSTEIN   2018-10-30    3.459560\n",
       "                  2018-11-01    1.607768\n",
       "                  2018-11-05    0.321554\n",
       "                  2018-11-07    0.321554\n",
       "                  2019-03-21    0.340118\n",
       "Name: normalize_views, Length: 136070, dtype: float64"
      ]
     },
     "execution_count": 33,
     "metadata": {},
     "output_type": "execute_result"
    }
   ],
   "source": [
    "# Clean the names by taking only upper case\n",
    "# Group the candidate total number of quotes by day\n",
    "candidate_quotes['speaker'] = candidate_quotes['speaker'].str.upper()\n",
    "candidate_quotes['date_only'] = candidate_quotes['date'].dt.date\n",
    "candidate_views_byday = candidate_quotes.groupby(['speaker', 'date_only'])['normalize_views'].sum()\n",
    "candidate_views_byday"
   ]
  },
  {
   "cell_type": "code",
   "execution_count": 34,
   "id": "2c48ef66",
   "metadata": {
    "scrolled": true
   },
   "outputs": [
    {
     "data": {
      "text/plain": [
       "Text(0.5, 1.0, 'Bernie Sanders')"
      ]
     },
     "execution_count": 34,
     "metadata": {},
     "output_type": "execute_result"
    },
    {
     "data": {
      "image/png": "[encoded data removed]",
      "text/plain": [
       "<Figure size 432x288 with 1 Axes>"
      ]
     },
     "metadata": {
      "needs_background": "light"
     },
     "output_type": "display_data"
    }
   ],
   "source": [
    "# For example, we can visualize the quotation changes of Bernie Sanders\n",
    "candidate_quotes_byday['BERNIE SANDERS'].rolling(window=30).sum().plot() # one months average\n",
    "plt.xlabel('time')\n",
    "plt.xticks(rotation=90)\n",
    "plt.ylabel('Weight Quotes: Said')\n",
    "plt.title('Bernie Sanders')"
   ]
  },
  {
   "cell_type": "code",
   "execution_count": 35,
   "id": "bddc3da3",
   "metadata": {},
   "outputs": [],
   "source": [
    "# We group weighted quotations (audience views) by election day\n",
    "quotes_byelection = candidate_quotes[candidate_quotes['date_only'] < candidate_quotes['election_day']]\n",
    "views_byelection = pd.DataFrame(quotes_byelection.groupby(['speaker'])['normalize_views'].sum())\n",
    "views_byelection.rename(columns = {'normalize_views': 'views_byelection'}, inplace=True)"
   ]
  },
  {
   "cell_type": "code",
   "execution_count": 36,
   "id": "6dd92364",
   "metadata": {},
   "outputs": [
    {
     "name": "stdout",
     "output_type": "stream",
     "text": [
      "Pearson coefficient: 0.6230464918664673, p value: 2.0338894729023706e-27\n"
     ]
    },
    {
     "data": {
      "image/png": "[encoded data removed]",
      "text/plain": [
       "<Figure size 432x288 with 1 Axes>"
      ]
     },
     "metadata": {
      "needs_background": "light"
     },
     "output_type": "display_data"
    }
   ],
   "source": [
    "# We add the vote rate and plot the scatter plot of vote rate against total quotes by election\n",
    "from scipy.stats import pearsonr\n",
    "views_byelection['vote_rate'] = views_byelection.index.map(candidate_info_byname['vote_rate'])\n",
    "views_vote = views_byelection.plot.scatter(x = 'views_byelection', y = 'vote_rate', logx=True)\n",
    "(corr1, pvalue) = pearsonr(np.log(views_byelection['views_byelection']), views_byelection['vote_rate'])\n",
    "print(f'Pearson coefficient: {corr1}, p value: {pvalue}')"
   ]
  },
  {
   "cell_type": "markdown",
   "id": "d9ec06fe",
   "metadata": {},
   "source": [
    "\n",
    "We notice very little change in the Pearson coefficient and p-value when comparing the result to section **1.3** (where we did not weigh the quotes by website views). "
   ]
  },
  {
   "cell_type": "markdown",
   "id": "97b34976",
   "metadata": {},
   "source": [
    "**2.4** We repeat the protocol in section **1.4** to examine the effect of weighted quotations mentioning candidates on their election results"
   ]
  },
  {
   "cell_type": "code",
   "execution_count": 37,
   "id": "5f05e086",
   "metadata": {},
   "outputs": [
    {
     "data": {
      "text/plain": [
       "mention           date_only \n",
       "A. WAYNE JOHNSON  2015-01-16      0.406348\n",
       "                  2015-08-04    153.408265\n",
       "                  2015-12-11      0.644688\n",
       "                  2017-02-12      1.404049\n",
       "                  2017-05-28      0.270903\n",
       "                                   ...    \n",
       "WILLIE L. WILSON  2019-03-30      0.340118\n",
       "                  2019-07-16     28.203418\n",
       "                  2019-11-04     11.759805\n",
       "ZAK RINGELSTEIN   2018-06-22      0.325350\n",
       "                  2018-10-24      0.288297\n",
       "Name: normalize_views, Length: 34904, dtype: float64"
      ]
     },
     "execution_count": 37,
     "metadata": {},
     "output_type": "execute_result"
    }
   ],
   "source": [
    "# obtain normalized views by day\n",
    "candidate_quotes_mention_byday = candidate_quotes_mention.groupby(['mention', 'date_only'])['normalize_views'].sum()\n",
    "candidate_quotes_mention_byday"
   ]
  },
  {
   "cell_type": "code",
   "execution_count": 38,
   "id": "6d00d21d",
   "metadata": {},
   "outputs": [
    {
     "data": {
      "text/plain": [
       "Text(0.5, 1.0, 'Bernie Sanders')"
      ]
     },
     "execution_count": 38,
     "metadata": {},
     "output_type": "execute_result"
    },
    {
     "data": {
      "image/png": "[encoded data removed]",
      "text/plain": [
       "<Figure size 432x288 with 1 Axes>"
      ]
     },
     "metadata": {
      "needs_background": "light"
     },
     "output_type": "display_data"
    }
   ],
   "source": [
    "# For example, we can visualize the normalized view changes of Bernie Sanders\n",
    "candidate_quotes_mention_byday['BERNIE SANDERS'].rolling(window=30).sum().plot() # one months average\n",
    "plt.xlabel('time')\n",
    "plt.ylabel('Quoted numbers: Mention')\n",
    "plt.title('Bernie Sanders')"
   ]
  },
  {
   "cell_type": "code",
   "execution_count": 39,
   "id": "ad1f1e0e",
   "metadata": {},
   "outputs": [
    {
     "name": "stdout",
     "output_type": "stream",
     "text": [
      "Pearson coefficient: 0.5930863043667436, p value: 4.9198504923098316e-29\n"
     ]
    },
    {
     "data": {
      "image/png": "[encoded data removed]",
      "text/plain": [
       "<Figure size 432x288 with 1 Axes>"
      ]
     },
     "metadata": {
      "needs_background": "light"
     },
     "output_type": "display_data"
    }
   ],
   "source": [
    "from scipy.stats import pearsonr\n",
    "\n",
    "# We group the number of normalized views before election day\n",
    "quotes_byelection = candidate_quotes_mention[candidate_quotes_mention['date_only'] < candidate_quotes_mention['election_day']]\n",
    "tot_quotes_byelection = pd.DataFrame(quotes_byelection.groupby(['mention'])['normalize_views'].sum())\n",
    "tot_quotes_byelection.rename(columns = {'normalize_views': 'total_views_byelection'}, inplace=True)\n",
    "\n",
    "# We add the vote rate and plot the scatter plot of vote rate against total quotes by election\n",
    "tot_quotes_byelection['vote_rate'] = tot_quotes_byelection.index.map(candidate_info_byname['vote_rate'])\n",
    "\n",
    "# linear regression\n",
    "quotes_vote = tot_quotes_byelection.plot.scatter(x = 'total_views_byelection', y = 'vote_rate', logx=True)\n",
    "(corr1, pvalue) = pearsonr(np.log(tot_quotes_byelection['total_views_byelection']), tot_quotes_byelection['vote_rate'])\n",
    "print(f'Pearson coefficient: {corr1}, p value: {pvalue}')"
   ]
  },
  {
   "cell_type": "markdown",
   "id": "b82a3c76",
   "metadata": {},
   "source": [
    "Again, we notice very little change in the Pearson coefficient and p-value when comparing the result to section **1.4** (where we did not weigh the quotes by website views). "
   ]
  },
  {
   "cell_type": "markdown",
   "id": "3427df77",
   "metadata": {},
   "source": [
    "# 3. Clustering the quotation data\n",
    "To answer our proposed question 3, we clustered the quotation data to find different exposure-gaining process."
   ]
  },
  {
   "cell_type": "markdown",
   "id": "9bab413f",
   "metadata": {},
   "source": [
    "We will extract feature for each senate candidate."
   ]
  },
  {
   "cell_type": "code",
   "execution_count": 40,
   "id": "1a055bfc",
   "metadata": {},
   "outputs": [
    {
     "data": {
      "text/html": [
       "<div>\n",
       "<style scoped>\n",
       "    .dataframe tbody tr th:only-of-type {\n",
       "        vertical-align: middle;\n",
       "    }\n",
       "\n",
       "    .dataframe tbody tr th {\n",
       "        vertical-align: top;\n",
       "    }\n",
       "\n",
       "    .dataframe thead th {\n",
       "        text-align: right;\n",
       "    }\n",
       "</style>\n",
       "<table border=\"1\" class=\"dataframe\">\n",
       "  <thead>\n",
       "    <tr style=\"text-align: right;\">\n",
       "      <th></th>\n",
       "      <th>index</th>\n",
       "      <th>quoteID</th>\n",
       "      <th>quotation</th>\n",
       "      <th>speaker</th>\n",
       "      <th>qids</th>\n",
       "      <th>date</th>\n",
       "      <th>numOccurrences</th>\n",
       "      <th>probas</th>\n",
       "      <th>urls</th>\n",
       "      <th>phase</th>\n",
       "      <th>domains</th>\n",
       "      <th>normalize_factor</th>\n",
       "      <th>normalize_quotes</th>\n",
       "      <th>date_only</th>\n",
       "      <th>election_day</th>\n",
       "      <th>views</th>\n",
       "      <th>normalize_views</th>\n",
       "      <th>days_before_election</th>\n",
       "    </tr>\n",
       "  </thead>\n",
       "  <tbody>\n",
       "    <tr>\n",
       "      <th>868092</th>\n",
       "      <td>59639</td>\n",
       "      <td>2019-05-23-090228</td>\n",
       "      <td>That's not going to be a permanent decision by...</td>\n",
       "      <td>SUSAN MARGARET COLLINS</td>\n",
       "      <td>[Q22279, Q7647692]</td>\n",
       "      <td>2019-05-23 11:55:00</td>\n",
       "      <td>2</td>\n",
       "      <td>[[Susan Collins, 0.914], [None, 0.0664], [Pres...</td>\n",
       "      <td>[https://www.ajot.com/news/trump-sacrifices-ag...</td>\n",
       "      <td>E</td>\n",
       "      <td>[com, com]</td>\n",
       "      <td>0.488273</td>\n",
       "      <td>0.976546</td>\n",
       "      <td>2019-05-23</td>\n",
       "      <td>2020-11-01</td>\n",
       "      <td>1.350</td>\n",
       "      <td>0.659169</td>\n",
       "      <td>528</td>\n",
       "    </tr>\n",
       "    <tr>\n",
       "      <th>523242</th>\n",
       "      <td>208844</td>\n",
       "      <td>2017-05-31-070918</td>\n",
       "      <td>It's going to be a tough political process,</td>\n",
       "      <td>RON JOHNSON</td>\n",
       "      <td>[Q1741083, Q19879325, Q20639273, Q21229090, Q2...</td>\n",
       "      <td>2017-05-31 16:03:51</td>\n",
       "      <td>2</td>\n",
       "      <td>[[Ron Johnson, 0.6467], [None, 0.3451], [Presi...</td>\n",
       "      <td>[https://insurancenewsnet.com/oarticle/ron-joh...</td>\n",
       "      <td>E</td>\n",
       "      <td>[com, com]</td>\n",
       "      <td>0.401338</td>\n",
       "      <td>0.802676</td>\n",
       "      <td>2017-05-31</td>\n",
       "      <td>2016-11-01</td>\n",
       "      <td>1.350</td>\n",
       "      <td>0.541806</td>\n",
       "      <td>-211</td>\n",
       "    </tr>\n",
       "    <tr>\n",
       "      <th>92318</th>\n",
       "      <td>92318</td>\n",
       "      <td>2015-08-14-022606</td>\n",
       "      <td>Having been through plenty of transformations ...</td>\n",
       "      <td>TOM JONES</td>\n",
       "      <td>[Q16091498, Q16730416, Q180850, Q23303147, Q23...</td>\n",
       "      <td>2015-08-14 16:53:00</td>\n",
       "      <td>81</td>\n",
       "      <td>[[Tom Jones, 0.7412], [None, 0.1427], [Paloma ...</td>\n",
       "      <td>[http://www.irishmirror.ie/whats-on/film-news/...</td>\n",
       "      <td>E</td>\n",
       "      <td>[ie, co.uk, co.uk, co.uk, co.uk, ie, com, com,...</td>\n",
       "      <td>0.473512</td>\n",
       "      <td>38.354434</td>\n",
       "      <td>2015-08-14</td>\n",
       "      <td>2016-11-01</td>\n",
       "      <td>223.255</td>\n",
       "      <td>105.713816</td>\n",
       "      <td>445</td>\n",
       "    </tr>\n",
       "    <tr>\n",
       "      <th>423339</th>\n",
       "      <td>108941</td>\n",
       "      <td>2017-06-19-105794</td>\n",
       "      <td>This is certainly taking on a proportion of dr...</td>\n",
       "      <td>KAMALA D. HARRIS</td>\n",
       "      <td>[Q10853588]</td>\n",
       "      <td>2017-06-19 10:52:07</td>\n",
       "      <td>3</td>\n",
       "      <td>[[Sen. Kamala Harris, 0.7465], [None, 0.1858],...</td>\n",
       "      <td>[http://www.bradenton.com/news/politics-govern...</td>\n",
       "      <td>E</td>\n",
       "      <td>[com, com, com]</td>\n",
       "      <td>0.411438</td>\n",
       "      <td>1.234313</td>\n",
       "      <td>2017-06-19</td>\n",
       "      <td>2016-11-01</td>\n",
       "      <td>2.025</td>\n",
       "      <td>0.833161</td>\n",
       "      <td>-230</td>\n",
       "    </tr>\n",
       "  </tbody>\n",
       "</table>\n",
       "</div>"
      ],
      "text/plain": [
       "         index            quoteID  \\\n",
       "868092   59639  2019-05-23-090228   \n",
       "523242  208844  2017-05-31-070918   \n",
       "92318    92318  2015-08-14-022606   \n",
       "423339  108941  2017-06-19-105794   \n",
       "\n",
       "                                                quotation  \\\n",
       "868092  That's not going to be a permanent decision by...   \n",
       "523242        It's going to be a tough political process,   \n",
       "92318   Having been through plenty of transformations ...   \n",
       "423339  This is certainly taking on a proportion of dr...   \n",
       "\n",
       "                       speaker  \\\n",
       "868092  SUSAN MARGARET COLLINS   \n",
       "523242             RON JOHNSON   \n",
       "92318                TOM JONES   \n",
       "423339        KAMALA D. HARRIS   \n",
       "\n",
       "                                                     qids                date  \\\n",
       "868092                                 [Q22279, Q7647692] 2019-05-23 11:55:00   \n",
       "523242  [Q1741083, Q19879325, Q20639273, Q21229090, Q2... 2017-05-31 16:03:51   \n",
       "92318   [Q16091498, Q16730416, Q180850, Q23303147, Q23... 2015-08-14 16:53:00   \n",
       "423339                                        [Q10853588] 2017-06-19 10:52:07   \n",
       "\n",
       "        numOccurrences                                             probas  \\\n",
       "868092               2  [[Susan Collins, 0.914], [None, 0.0664], [Pres...   \n",
       "523242               2  [[Ron Johnson, 0.6467], [None, 0.3451], [Presi...   \n",
       "92318               81  [[Tom Jones, 0.7412], [None, 0.1427], [Paloma ...   \n",
       "423339               3  [[Sen. Kamala Harris, 0.7465], [None, 0.1858],...   \n",
       "\n",
       "                                                     urls phase  \\\n",
       "868092  [https://www.ajot.com/news/trump-sacrifices-ag...     E   \n",
       "523242  [https://insurancenewsnet.com/oarticle/ron-joh...     E   \n",
       "92318   [http://www.irishmirror.ie/whats-on/film-news/...     E   \n",
       "423339  [http://www.bradenton.com/news/politics-govern...     E   \n",
       "\n",
       "                                                  domains  normalize_factor  \\\n",
       "868092                                         [com, com]          0.488273   \n",
       "523242                                         [com, com]          0.401338   \n",
       "92318   [ie, co.uk, co.uk, co.uk, co.uk, ie, com, com,...          0.473512   \n",
       "423339                                    [com, com, com]          0.411438   \n",
       "\n",
       "        normalize_quotes   date_only election_day    views  normalize_views  \\\n",
       "868092          0.976546  2019-05-23   2020-11-01    1.350         0.659169   \n",
       "523242          0.802676  2017-05-31   2016-11-01    1.350         0.541806   \n",
       "92318          38.354434  2015-08-14   2016-11-01  223.255       105.713816   \n",
       "423339          1.234313  2017-06-19   2016-11-01    2.025         0.833161   \n",
       "\n",
       "        days_before_election  \n",
       "868092                   528  \n",
       "523242                  -211  \n",
       "92318                    445  \n",
       "423339                  -230  "
      ]
     },
     "execution_count": 40,
     "metadata": {},
     "output_type": "execute_result"
    }
   ],
   "source": [
    "candidate_quotes['days_before_election'] = pd.to_datetime(candidate_quotes['election_day'])- pd.to_datetime(candidate_quotes['date_only'])\n",
    "candidate_quotes['days_before_election'] = candidate_quotes['days_before_election'].map(lambda x:x.days)\n",
    "candidate_quotes.sample(4)"
   ]
  },
  {
   "cell_type": "code",
   "execution_count": 41,
   "id": "51db1155",
   "metadata": {},
   "outputs": [
    {
     "data": {
      "text/html": [
       "<div>\n",
       "<style scoped>\n",
       "    .dataframe tbody tr th:only-of-type {\n",
       "        vertical-align: middle;\n",
       "    }\n",
       "\n",
       "    .dataframe tbody tr th {\n",
       "        vertical-align: top;\n",
       "    }\n",
       "\n",
       "    .dataframe thead th {\n",
       "        text-align: right;\n",
       "    }\n",
       "</style>\n",
       "<table border=\"1\" class=\"dataframe\">\n",
       "  <thead>\n",
       "    <tr style=\"text-align: right;\">\n",
       "      <th></th>\n",
       "      <th>index</th>\n",
       "      <th>quoteID</th>\n",
       "      <th>quotation</th>\n",
       "      <th>speaker</th>\n",
       "      <th>qids</th>\n",
       "      <th>date</th>\n",
       "      <th>numOccurrences</th>\n",
       "      <th>probas</th>\n",
       "      <th>urls</th>\n",
       "      <th>phase</th>\n",
       "      <th>domains</th>\n",
       "      <th>normalize_factor</th>\n",
       "      <th>normalize_quotes</th>\n",
       "      <th>date_only</th>\n",
       "      <th>election_day</th>\n",
       "      <th>views</th>\n",
       "      <th>normalize_views</th>\n",
       "      <th>days_before_election</th>\n",
       "    </tr>\n",
       "  </thead>\n",
       "  <tbody>\n",
       "    <tr>\n",
       "      <th>696394</th>\n",
       "      <td>141452</td>\n",
       "      <td>2018-07-16-024323</td>\n",
       "      <td>He is still enjoying his game and his finishin...</td>\n",
       "      <td>GARY E JOHNSON</td>\n",
       "      <td>[Q16019429, Q16193173, Q17476680, Q21035495, Q...</td>\n",
       "      <td>2018-07-16 12:45:05</td>\n",
       "      <td>2</td>\n",
       "      <td>[[Gary Johnson, 0.7593], [Mohamed Eisa, 0.1166...</td>\n",
       "      <td>[https://www.coventrytelegraph.net/sport/footb...</td>\n",
       "      <td>E</td>\n",
       "      <td>[net, net]</td>\n",
       "      <td>0.517383</td>\n",
       "      <td>1.034767</td>\n",
       "      <td>2018-07-16</td>\n",
       "      <td>2018-11-01</td>\n",
       "      <td>1.350</td>\n",
       "      <td>0.698467</td>\n",
       "      <td>108</td>\n",
       "    </tr>\n",
       "    <tr>\n",
       "      <th>201821</th>\n",
       "      <td>10237</td>\n",
       "      <td>2016-04-25-022262</td>\n",
       "      <td>great integrity, honesty and vision</td>\n",
       "      <td>TOM JONES</td>\n",
       "      <td>[Q16091498, Q16730416, Q180850, Q23303147, Q23...</td>\n",
       "      <td>2016-04-25 00:00:00</td>\n",
       "      <td>1</td>\n",
       "      <td>[[Tom Jones, 0.5142], [None, 0.4163], [David H...</td>\n",
       "      <td>[http://leaderlive.co.uk:80/news/161297/mourne...</td>\n",
       "      <td>E</td>\n",
       "      <td>[co.uk]</td>\n",
       "      <td>0.939819</td>\n",
       "      <td>0.939819</td>\n",
       "      <td>2016-04-25</td>\n",
       "      <td>2016-11-01</td>\n",
       "      <td>0.675</td>\n",
       "      <td>0.634378</td>\n",
       "      <td>190</td>\n",
       "    </tr>\n",
       "    <tr>\n",
       "      <th>654363</th>\n",
       "      <td>99421</td>\n",
       "      <td>2018-08-27-015636</td>\n",
       "      <td>corporations should focus only on maximising r...</td>\n",
       "      <td>ELIZABETH A. WARREN</td>\n",
       "      <td>[Q434706]</td>\n",
       "      <td>2018-08-27 15:42:59</td>\n",
       "      <td>1</td>\n",
       "      <td>[[Elizabeth Warren, 0.8857], [None, 0.1143]]</td>\n",
       "      <td>[https://www.fin24.com/Economy/Labour/opinion-...</td>\n",
       "      <td>E</td>\n",
       "      <td>[com]</td>\n",
       "      <td>0.497688</td>\n",
       "      <td>0.497688</td>\n",
       "      <td>2018-08-27</td>\n",
       "      <td>2018-11-01</td>\n",
       "      <td>0.675</td>\n",
       "      <td>0.335939</td>\n",
       "      <td>66</td>\n",
       "    </tr>\n",
       "    <tr>\n",
       "      <th>771478</th>\n",
       "      <td>216536</td>\n",
       "      <td>2018-04-21-023354</td>\n",
       "      <td>I felt quite prepared to take the task on. Her...</td>\n",
       "      <td>TINA SMITH</td>\n",
       "      <td>[Q18631509, Q22670437]</td>\n",
       "      <td>2018-04-21 21:16:54</td>\n",
       "      <td>1</td>\n",
       "      <td>[[Tina Smith, 0.8973], [None, 0.1027]]</td>\n",
       "      <td>[http://www.startribune.com/tina-smith-settles...</td>\n",
       "      <td>E</td>\n",
       "      <td>[com]</td>\n",
       "      <td>0.386958</td>\n",
       "      <td>0.386958</td>\n",
       "      <td>2018-04-21</td>\n",
       "      <td>2018-11-01</td>\n",
       "      <td>9.810</td>\n",
       "      <td>3.796053</td>\n",
       "      <td>194</td>\n",
       "    </tr>\n",
       "  </tbody>\n",
       "</table>\n",
       "</div>"
      ],
      "text/plain": [
       "         index            quoteID  \\\n",
       "696394  141452  2018-07-16-024323   \n",
       "201821   10237  2016-04-25-022262   \n",
       "654363   99421  2018-08-27-015636   \n",
       "771478  216536  2018-04-21-023354   \n",
       "\n",
       "                                                quotation  \\\n",
       "696394  He is still enjoying his game and his finishin...   \n",
       "201821                great integrity, honesty and vision   \n",
       "654363  corporations should focus only on maximising r...   \n",
       "771478  I felt quite prepared to take the task on. Her...   \n",
       "\n",
       "                    speaker  \\\n",
       "696394       GARY E JOHNSON   \n",
       "201821            TOM JONES   \n",
       "654363  ELIZABETH A. WARREN   \n",
       "771478           TINA SMITH   \n",
       "\n",
       "                                                     qids                date  \\\n",
       "696394  [Q16019429, Q16193173, Q17476680, Q21035495, Q... 2018-07-16 12:45:05   \n",
       "201821  [Q16091498, Q16730416, Q180850, Q23303147, Q23... 2016-04-25 00:00:00   \n",
       "654363                                          [Q434706] 2018-08-27 15:42:59   \n",
       "771478                             [Q18631509, Q22670437] 2018-04-21 21:16:54   \n",
       "\n",
       "        numOccurrences                                             probas  \\\n",
       "696394               2  [[Gary Johnson, 0.7593], [Mohamed Eisa, 0.1166...   \n",
       "201821               1  [[Tom Jones, 0.5142], [None, 0.4163], [David H...   \n",
       "654363               1       [[Elizabeth Warren, 0.8857], [None, 0.1143]]   \n",
       "771478               1             [[Tina Smith, 0.8973], [None, 0.1027]]   \n",
       "\n",
       "                                                     urls phase     domains  \\\n",
       "696394  [https://www.coventrytelegraph.net/sport/footb...     E  [net, net]   \n",
       "201821  [http://leaderlive.co.uk:80/news/161297/mourne...     E     [co.uk]   \n",
       "654363  [https://www.fin24.com/Economy/Labour/opinion-...     E       [com]   \n",
       "771478  [http://www.startribune.com/tina-smith-settles...     E       [com]   \n",
       "\n",
       "        normalize_factor  normalize_quotes   date_only election_day  views  \\\n",
       "696394          0.517383          1.034767  2018-07-16   2018-11-01  1.350   \n",
       "201821          0.939819          0.939819  2016-04-25   2016-11-01  0.675   \n",
       "654363          0.497688          0.497688  2018-08-27   2018-11-01  0.675   \n",
       "771478          0.386958          0.386958  2018-04-21   2018-11-01  9.810   \n",
       "\n",
       "        normalize_views  days_before_election  \n",
       "696394         0.698467                   108  \n",
       "201821         0.634378                   190  \n",
       "654363         0.335939                    66  \n",
       "771478         3.796053                   194  "
      ]
     },
     "execution_count": 41,
     "metadata": {},
     "output_type": "execute_result"
    }
   ],
   "source": [
    "feature_length = 300  # we use data of 100 days before the election\n",
    "quotes_timespan = candidate_quotes[candidate_quotes['days_before_election']>=0]\n",
    "quotes_timespan = quotes_timespan[quotes_timespan['days_before_election']<feature_length]\n",
    "quotes_timespan.sample(4)"
   ]
  },
  {
   "cell_type": "code",
   "execution_count": 42,
   "id": "7fde6478",
   "metadata": {},
   "outputs": [
    {
     "data": {
      "text/plain": [
       "speaker           days_before_election\n",
       "A. WAYNE JOHNSON  225                      0.510070\n",
       "                  234                      2.040281\n",
       "                  241                     11.395348\n",
       "                  251                     99.717389\n",
       "                  261                      2.532803\n",
       "                                            ...    \n",
       "ZAK RINGELSTEIN   141                      1.626749\n",
       "                  147                      0.650700\n",
       "                  160                      0.815621\n",
       "                  227                      1.933979\n",
       "                  235                      0.241747\n",
       "Name: normalize_views, Length: 19165, dtype: float64"
      ]
     },
     "execution_count": 42,
     "metadata": {},
     "output_type": "execute_result"
    }
   ],
   "source": [
    "# group the quotations by speaker\n",
    "quotes_timespan_byday = quotes_timespan.groupby(['speaker', 'days_before_election'])['normalize_views'].sum()\n",
    "quotes_timespan_byday"
   ]
  },
  {
   "cell_type": "code",
   "execution_count": 43,
   "id": "d3a8aaaf",
   "metadata": {},
   "outputs": [
    {
     "data": {
      "text/html": [
       "<div>\n",
       "<style scoped>\n",
       "    .dataframe tbody tr th:only-of-type {\n",
       "        vertical-align: middle;\n",
       "    }\n",
       "\n",
       "    .dataframe tbody tr th {\n",
       "        vertical-align: top;\n",
       "    }\n",
       "\n",
       "    .dataframe thead th {\n",
       "        text-align: right;\n",
       "    }\n",
       "</style>\n",
       "<table border=\"1\" class=\"dataframe\">\n",
       "  <thead>\n",
       "    <tr style=\"text-align: right;\">\n",
       "      <th></th>\n",
       "      <th>A. WAYNE JOHNSON</th>\n",
       "      <th>AARON JAMES</th>\n",
       "      <th>ABHAY PATEL</th>\n",
       "      <th>AL GROSS</th>\n",
       "      <th>ALEX MERCED</th>\n",
       "      <th>ALLEN BUCKLEY</th>\n",
       "      <th>AMY KLOBUCHAR</th>\n",
       "      <th>AMY MCGRATH</th>\n",
       "      <th>ANN KIRKPATRICK</th>\n",
       "      <th>ARN MENCONI</th>\n",
       "      <th>...</th>\n",
       "      <th>TOM COTTON</th>\n",
       "      <th>TOM JONES</th>\n",
       "      <th>TOMMY TUBERVILLE</th>\n",
       "      <th>TONY CAMPBELL</th>\n",
       "      <th>TROY HEBERT</th>\n",
       "      <th>VALENCIA STOVALL</th>\n",
       "      <th>WENDY LONG</th>\n",
       "      <th>WILLIAM ROBERT LANG, JR.</th>\n",
       "      <th>WILLIE L. WILSON</th>\n",
       "      <th>ZAK RINGELSTEIN</th>\n",
       "    </tr>\n",
       "  </thead>\n",
       "  <tbody>\n",
       "    <tr>\n",
       "      <th>0</th>\n",
       "      <td>0.0</td>\n",
       "      <td>0.000000</td>\n",
       "      <td>0.0</td>\n",
       "      <td>0.0</td>\n",
       "      <td>0.0</td>\n",
       "      <td>0.0</td>\n",
       "      <td>0.643107</td>\n",
       "      <td>0.000000</td>\n",
       "      <td>0.0</td>\n",
       "      <td>0.0</td>\n",
       "      <td>...</td>\n",
       "      <td>0.000000</td>\n",
       "      <td>0.0</td>\n",
       "      <td>0.000000</td>\n",
       "      <td>0.000000</td>\n",
       "      <td>0.0</td>\n",
       "      <td>0.0</td>\n",
       "      <td>0.0</td>\n",
       "      <td>0.0</td>\n",
       "      <td>0.0</td>\n",
       "      <td>1.607768</td>\n",
       "    </tr>\n",
       "    <tr>\n",
       "      <th>1</th>\n",
       "      <td>0.0</td>\n",
       "      <td>0.000000</td>\n",
       "      <td>0.0</td>\n",
       "      <td>0.0</td>\n",
       "      <td>0.0</td>\n",
       "      <td>0.0</td>\n",
       "      <td>0.864890</td>\n",
       "      <td>0.000000</td>\n",
       "      <td>0.0</td>\n",
       "      <td>0.0</td>\n",
       "      <td>...</td>\n",
       "      <td>0.000000</td>\n",
       "      <td>0.0</td>\n",
       "      <td>0.000000</td>\n",
       "      <td>0.000000</td>\n",
       "      <td>0.0</td>\n",
       "      <td>0.0</td>\n",
       "      <td>0.0</td>\n",
       "      <td>0.0</td>\n",
       "      <td>0.0</td>\n",
       "      <td>0.000000</td>\n",
       "    </tr>\n",
       "    <tr>\n",
       "      <th>2</th>\n",
       "      <td>0.0</td>\n",
       "      <td>0.000000</td>\n",
       "      <td>0.0</td>\n",
       "      <td>0.0</td>\n",
       "      <td>0.0</td>\n",
       "      <td>0.0</td>\n",
       "      <td>41.414354</td>\n",
       "      <td>0.000000</td>\n",
       "      <td>0.0</td>\n",
       "      <td>0.0</td>\n",
       "      <td>...</td>\n",
       "      <td>0.000000</td>\n",
       "      <td>0.0</td>\n",
       "      <td>0.000000</td>\n",
       "      <td>0.000000</td>\n",
       "      <td>0.0</td>\n",
       "      <td>0.0</td>\n",
       "      <td>0.0</td>\n",
       "      <td>0.0</td>\n",
       "      <td>0.0</td>\n",
       "      <td>3.459560</td>\n",
       "    </tr>\n",
       "    <tr>\n",
       "      <th>3</th>\n",
       "      <td>0.0</td>\n",
       "      <td>0.000000</td>\n",
       "      <td>0.0</td>\n",
       "      <td>0.0</td>\n",
       "      <td>0.0</td>\n",
       "      <td>0.0</td>\n",
       "      <td>4.324450</td>\n",
       "      <td>0.000000</td>\n",
       "      <td>0.0</td>\n",
       "      <td>0.0</td>\n",
       "      <td>...</td>\n",
       "      <td>0.000000</td>\n",
       "      <td>0.0</td>\n",
       "      <td>0.000000</td>\n",
       "      <td>2.306374</td>\n",
       "      <td>0.0</td>\n",
       "      <td>0.0</td>\n",
       "      <td>0.0</td>\n",
       "      <td>0.0</td>\n",
       "      <td>0.0</td>\n",
       "      <td>0.576593</td>\n",
       "    </tr>\n",
       "    <tr>\n",
       "      <th>4</th>\n",
       "      <td>0.0</td>\n",
       "      <td>0.000000</td>\n",
       "      <td>0.0</td>\n",
       "      <td>0.0</td>\n",
       "      <td>0.0</td>\n",
       "      <td>0.0</td>\n",
       "      <td>4.901044</td>\n",
       "      <td>0.000000</td>\n",
       "      <td>0.0</td>\n",
       "      <td>0.0</td>\n",
       "      <td>...</td>\n",
       "      <td>0.000000</td>\n",
       "      <td>0.0</td>\n",
       "      <td>0.000000</td>\n",
       "      <td>2.882967</td>\n",
       "      <td>0.0</td>\n",
       "      <td>0.0</td>\n",
       "      <td>0.0</td>\n",
       "      <td>0.0</td>\n",
       "      <td>0.0</td>\n",
       "      <td>0.000000</td>\n",
       "    </tr>\n",
       "    <tr>\n",
       "      <th>...</th>\n",
       "      <td>...</td>\n",
       "      <td>...</td>\n",
       "      <td>...</td>\n",
       "      <td>...</td>\n",
       "      <td>...</td>\n",
       "      <td>...</td>\n",
       "      <td>...</td>\n",
       "      <td>...</td>\n",
       "      <td>...</td>\n",
       "      <td>...</td>\n",
       "      <td>...</td>\n",
       "      <td>...</td>\n",
       "      <td>...</td>\n",
       "      <td>...</td>\n",
       "      <td>...</td>\n",
       "      <td>...</td>\n",
       "      <td>...</td>\n",
       "      <td>...</td>\n",
       "      <td>...</td>\n",
       "      <td>...</td>\n",
       "      <td>...</td>\n",
       "    </tr>\n",
       "    <tr>\n",
       "      <th>295</th>\n",
       "      <td>0.0</td>\n",
       "      <td>0.000000</td>\n",
       "      <td>0.0</td>\n",
       "      <td>0.0</td>\n",
       "      <td>0.0</td>\n",
       "      <td>0.0</td>\n",
       "      <td>69.388074</td>\n",
       "      <td>0.000000</td>\n",
       "      <td>0.0</td>\n",
       "      <td>0.0</td>\n",
       "      <td>...</td>\n",
       "      <td>552.756030</td>\n",
       "      <td>0.0</td>\n",
       "      <td>0.000000</td>\n",
       "      <td>0.000000</td>\n",
       "      <td>0.0</td>\n",
       "      <td>0.0</td>\n",
       "      <td>0.0</td>\n",
       "      <td>0.0</td>\n",
       "      <td>0.0</td>\n",
       "      <td>0.000000</td>\n",
       "    </tr>\n",
       "    <tr>\n",
       "      <th>296</th>\n",
       "      <td>0.0</td>\n",
       "      <td>1.169008</td>\n",
       "      <td>0.0</td>\n",
       "      <td>0.0</td>\n",
       "      <td>0.0</td>\n",
       "      <td>0.0</td>\n",
       "      <td>8.435176</td>\n",
       "      <td>0.000000</td>\n",
       "      <td>0.0</td>\n",
       "      <td>0.0</td>\n",
       "      <td>...</td>\n",
       "      <td>3.896693</td>\n",
       "      <td>0.0</td>\n",
       "      <td>0.000000</td>\n",
       "      <td>0.000000</td>\n",
       "      <td>0.0</td>\n",
       "      <td>0.0</td>\n",
       "      <td>0.0</td>\n",
       "      <td>0.0</td>\n",
       "      <td>0.0</td>\n",
       "      <td>0.000000</td>\n",
       "    </tr>\n",
       "    <tr>\n",
       "      <th>297</th>\n",
       "      <td>0.0</td>\n",
       "      <td>0.779339</td>\n",
       "      <td>0.0</td>\n",
       "      <td>0.0</td>\n",
       "      <td>0.0</td>\n",
       "      <td>0.0</td>\n",
       "      <td>1.357593</td>\n",
       "      <td>1.169008</td>\n",
       "      <td>0.0</td>\n",
       "      <td>0.0</td>\n",
       "      <td>...</td>\n",
       "      <td>239.637971</td>\n",
       "      <td>0.0</td>\n",
       "      <td>0.000000</td>\n",
       "      <td>0.000000</td>\n",
       "      <td>0.0</td>\n",
       "      <td>0.0</td>\n",
       "      <td>0.0</td>\n",
       "      <td>0.0</td>\n",
       "      <td>0.0</td>\n",
       "      <td>0.000000</td>\n",
       "    </tr>\n",
       "    <tr>\n",
       "      <th>298</th>\n",
       "      <td>0.0</td>\n",
       "      <td>0.779339</td>\n",
       "      <td>0.0</td>\n",
       "      <td>0.0</td>\n",
       "      <td>0.0</td>\n",
       "      <td>0.0</td>\n",
       "      <td>0.814556</td>\n",
       "      <td>0.000000</td>\n",
       "      <td>0.0</td>\n",
       "      <td>0.0</td>\n",
       "      <td>...</td>\n",
       "      <td>756.541538</td>\n",
       "      <td>0.0</td>\n",
       "      <td>191.316089</td>\n",
       "      <td>0.000000</td>\n",
       "      <td>0.0</td>\n",
       "      <td>0.0</td>\n",
       "      <td>0.0</td>\n",
       "      <td>0.0</td>\n",
       "      <td>0.0</td>\n",
       "      <td>0.000000</td>\n",
       "    </tr>\n",
       "    <tr>\n",
       "      <th>299</th>\n",
       "      <td>0.0</td>\n",
       "      <td>0.000000</td>\n",
       "      <td>0.0</td>\n",
       "      <td>0.0</td>\n",
       "      <td>0.0</td>\n",
       "      <td>0.0</td>\n",
       "      <td>13.467320</td>\n",
       "      <td>0.000000</td>\n",
       "      <td>0.0</td>\n",
       "      <td>0.0</td>\n",
       "      <td>...</td>\n",
       "      <td>3.660005</td>\n",
       "      <td>0.0</td>\n",
       "      <td>0.000000</td>\n",
       "      <td>0.000000</td>\n",
       "      <td>0.0</td>\n",
       "      <td>0.0</td>\n",
       "      <td>0.0</td>\n",
       "      <td>0.0</td>\n",
       "      <td>0.0</td>\n",
       "      <td>0.000000</td>\n",
       "    </tr>\n",
       "  </tbody>\n",
       "</table>\n",
       "<p>300 rows × 234 columns</p>\n",
       "</div>"
      ],
      "text/plain": [
       "     A. WAYNE JOHNSON  AARON JAMES  ABHAY PATEL  AL GROSS  ALEX MERCED  \\\n",
       "0                 0.0     0.000000          0.0       0.0          0.0   \n",
       "1                 0.0     0.000000          0.0       0.0          0.0   \n",
       "2                 0.0     0.000000          0.0       0.0          0.0   \n",
       "3                 0.0     0.000000          0.0       0.0          0.0   \n",
       "4                 0.0     0.000000          0.0       0.0          0.0   \n",
       "..                ...          ...          ...       ...          ...   \n",
       "295               0.0     0.000000          0.0       0.0          0.0   \n",
       "296               0.0     1.169008          0.0       0.0          0.0   \n",
       "297               0.0     0.779339          0.0       0.0          0.0   \n",
       "298               0.0     0.779339          0.0       0.0          0.0   \n",
       "299               0.0     0.000000          0.0       0.0          0.0   \n",
       "\n",
       "     ALLEN BUCKLEY  AMY KLOBUCHAR  AMY MCGRATH  ANN KIRKPATRICK  ARN MENCONI  \\\n",
       "0              0.0       0.643107     0.000000              0.0          0.0   \n",
       "1              0.0       0.864890     0.000000              0.0          0.0   \n",
       "2              0.0      41.414354     0.000000              0.0          0.0   \n",
       "3              0.0       4.324450     0.000000              0.0          0.0   \n",
       "4              0.0       4.901044     0.000000              0.0          0.0   \n",
       "..             ...            ...          ...              ...          ...   \n",
       "295            0.0      69.388074     0.000000              0.0          0.0   \n",
       "296            0.0       8.435176     0.000000              0.0          0.0   \n",
       "297            0.0       1.357593     1.169008              0.0          0.0   \n",
       "298            0.0       0.814556     0.000000              0.0          0.0   \n",
       "299            0.0      13.467320     0.000000              0.0          0.0   \n",
       "\n",
       "     ...  TOM COTTON  TOM JONES  TOMMY TUBERVILLE  TONY CAMPBELL  TROY HEBERT  \\\n",
       "0    ...    0.000000        0.0          0.000000       0.000000          0.0   \n",
       "1    ...    0.000000        0.0          0.000000       0.000000          0.0   \n",
       "2    ...    0.000000        0.0          0.000000       0.000000          0.0   \n",
       "3    ...    0.000000        0.0          0.000000       2.306374          0.0   \n",
       "4    ...    0.000000        0.0          0.000000       2.882967          0.0   \n",
       "..   ...         ...        ...               ...            ...          ...   \n",
       "295  ...  552.756030        0.0          0.000000       0.000000          0.0   \n",
       "296  ...    3.896693        0.0          0.000000       0.000000          0.0   \n",
       "297  ...  239.637971        0.0          0.000000       0.000000          0.0   \n",
       "298  ...  756.541538        0.0        191.316089       0.000000          0.0   \n",
       "299  ...    3.660005        0.0          0.000000       0.000000          0.0   \n",
       "\n",
       "     VALENCIA STOVALL  WENDY LONG  WILLIAM ROBERT LANG, JR.  WILLIE L. WILSON  \\\n",
       "0                 0.0         0.0                       0.0               0.0   \n",
       "1                 0.0         0.0                       0.0               0.0   \n",
       "2                 0.0         0.0                       0.0               0.0   \n",
       "3                 0.0         0.0                       0.0               0.0   \n",
       "4                 0.0         0.0                       0.0               0.0   \n",
       "..                ...         ...                       ...               ...   \n",
       "295               0.0         0.0                       0.0               0.0   \n",
       "296               0.0         0.0                       0.0               0.0   \n",
       "297               0.0         0.0                       0.0               0.0   \n",
       "298               0.0         0.0                       0.0               0.0   \n",
       "299               0.0         0.0                       0.0               0.0   \n",
       "\n",
       "     ZAK RINGELSTEIN  \n",
       "0           1.607768  \n",
       "1           0.000000  \n",
       "2           3.459560  \n",
       "3           0.576593  \n",
       "4           0.000000  \n",
       "..               ...  \n",
       "295         0.000000  \n",
       "296         0.000000  \n",
       "297         0.000000  \n",
       "298         0.000000  \n",
       "299         0.000000  \n",
       "\n",
       "[300 rows x 234 columns]"
      ]
     },
     "execution_count": 43,
     "metadata": {},
     "output_type": "execute_result"
    }
   ],
   "source": [
    "# build the feature vectors\n",
    "\n",
    "candidate_name = quotes_timespan_byday.index.map(lambda x:x[0]).drop_duplicates()\n",
    "candidate_quotes_cluster_feature = pd.DataFrame(np.zeros([feature_length,len(candidate_name)]), columns=candidate_name)\n",
    "\n",
    "for candidate in candidate_name:\n",
    "    candidate_quotes_timespan = quotes_timespan_byday[candidate]\n",
    "    for days in candidate_quotes_timespan.index:\n",
    "        candidate_quotes_cluster_feature[candidate].iloc[days] = candidate_quotes_timespan.loc[days]\n",
    "        \n",
    "candidate_quotes_cluster_feature"
   ]
  },
  {
   "cell_type": "markdown",
   "id": "f930b6d2-e677-4dc4-aceb-d9342c7bd9b6",
   "metadata": {},
   "source": [
    "Since the feature vector is 300-dimension, we will use PCA to reduce the dimension and visualize the data."
   ]
  },
  {
   "cell_type": "code",
   "execution_count": 44,
   "id": "6647728c",
   "metadata": {},
   "outputs": [
    {
     "data": {
      "text/plain": [
       "<matplotlib.collections.PathCollection at 0x7f139a772460>"
      ]
     },
     "execution_count": 44,
     "metadata": {},
     "output_type": "execute_result"
    },
    {
     "data": {
      "image/png": "[encoded data removed]",
      "text/plain": [
       "<Figure size 432x288 with 1 Axes>"
      ]
     },
     "metadata": {
      "needs_background": "light"
     },
     "output_type": "display_data"
    }
   ],
   "source": [
    "# Use PCA to visualize the feature vectors\n",
    "from sklearn.decomposition import PCA\n",
    "\n",
    "candidate_feature_vectors = candidate_quotes_cluster_feature.to_numpy().T\n",
    "candidate_feature_vectors/=np.linalg.norm(candidate_feature_vectors,axis=1)[:,np.newaxis]\n",
    "reduced_feature_PCA = PCA(n_components=2).fit(candidate_feature_vectors).transform(candidate_feature_vectors)\n",
    "\n",
    "plt.scatter(reduced_feature_PCA[:,0],reduced_feature_PCA[:,1], alpha=0.5)"
   ]
  },
  {
   "cell_type": "markdown",
   "id": "e64bcb17-7f08-4197-9920-7700f2033bfa",
   "metadata": {},
   "source": [
    "In the reduced space, we applied KMeans for clustering."
   ]
  },
  {
   "cell_type": "code",
   "execution_count": 45,
   "id": "71778b09",
   "metadata": {},
   "outputs": [
    {
     "data": {
      "text/plain": [
       "[<matplotlib.lines.Line2D at 0x7f139a27ffa0>]"
      ]
     },
     "execution_count": 45,
     "metadata": {},
     "output_type": "execute_result"
    },
    {
     "data": {
      "image/png": "[encoded data removed]",
      "text/plain": [
       "<Figure size 432x288 with 1 Axes>"
      ]
     },
     "metadata": {
      "needs_background": "light"
     },
     "output_type": "display_data"
    }
   ],
   "source": [
    "# find the cluster number to use\n",
    "\n",
    "from sklearn.cluster import KMeans\n",
    "from sklearn.metrics import silhouette_score\n",
    "\n",
    "silhouettes=[]\n",
    "for n_clusters in range(2,10):\n",
    "    labels = KMeans(n_clusters=n_clusters).fit_predict(reduced_feature_PCA)\n",
    "    score = silhouette_score(reduced_feature_PCA,labels)\n",
    "    silhouettes.append(score)\n",
    "    \n",
    "plt.plot(range(2,10),silhouettes)"
   ]
  },
  {
   "cell_type": "code",
   "execution_count": 46,
   "id": "03695de1",
   "metadata": {},
   "outputs": [
    {
     "data": {
      "text/plain": [
       "<matplotlib.collections.PathCollection at 0x7f139a2abd90>"
      ]
     },
     "execution_count": 46,
     "metadata": {},
     "output_type": "execute_result"
    },
    {
     "data": {
      "image/png": "[encoded data removed]",
      "text/plain": [
       "<Figure size 432x288 with 1 Axes>"
      ]
     },
     "metadata": {
      "needs_background": "light"
     },
     "output_type": "display_data"
    }
   ],
   "source": [
    "# based on previous result, we use 3 clusters.\n",
    "n_clusters = 3\n",
    "labels = KMeans(n_clusters=n_clusters).fit_predict(reduced_feature_PCA)\n",
    "plt.scatter(reduced_feature_PCA[:,0],reduced_feature_PCA[:,1], alpha=0.5,c=labels)"
   ]
  },
  {
   "cell_type": "code",
   "execution_count": 47,
   "id": "81a4b29b",
   "metadata": {},
   "outputs": [
    {
     "name": "stdout",
     "output_type": "stream",
     "text": [
      "67 candidates in type 0: Index(['AARON JAMES', 'AL GROSS', 'BARBARA BOLLIER', 'BEN CARDIN', 'BEN SASSE',\n",
      "       'BERNIE SANDERS', 'BILL HAGERTY', 'BOB WALSH', 'CINDY HYDE-SMITH',\n",
      "       'CORY BOOKER', 'CORY GARDNER', 'DAN SULLIVAN', 'DANIEL BURKE',\n",
      "       'DANIEL M. GADE', 'DAVID BARIA', 'DAVID F. BLACK', 'DAVID MORAN',\n",
      "       'DOUG COLLINS', 'DOUG JONES', 'ED TARVER', 'EDWARD J. MARKEY',\n",
      "       'GARY TRAUNER', 'JAIME HARRISON', 'JEFF RUSSELL', 'JERRY TROOIEN',\n",
      "       'JIM RENACCI', 'JIM RISCH', 'JIM SCHULTZ', 'JOE MANCHIN',\n",
      "       'JOHN BARRASSO', 'JOHN CORNYN', 'JOHN F. REED', 'JOHN W. HICKENLOOPER',\n",
      "       'JOHN WAYNE HOWE', 'JONI ERNST', 'KEVIN E. HAYES', 'KEVIN O'CONNOR',\n",
      "       'LINDSEY GRAHAM', 'MARK R. WARNER', 'MARTHA MCSALLY',\n",
      "       'MARTIN T HEINRICH', 'MARY \"MJ\" HEGAR', 'MATT LIEBERMAN',\n",
      "       'MICHAEL SANCHEZ', 'MICHAEL TODD GREENE', 'MIKE ESPY', 'MIKE ROUNDS',\n",
      "       'MITCH MCCONNELL', 'MOHAMMAD \"MIKE OBAMA\" ARIF', 'NEAL SIMON',\n",
      "       'PATRICK \"PAT\" THOMAS', 'PAULA JEAN SWEARENGIN', 'RAND PAUL',\n",
      "       'ROBERT P CASEY JR', 'ROGER F. WICKER', 'ROGER MARSHALL',\n",
      "       'SHELLEY MOORE CAPITO', 'SHERROD BROWN', 'STEVE BULLOCK',\n",
      "       'STEVE DAINES', 'SUSAN MARGARET COLLINS', 'TAMMY BALDWIN',\n",
      "       'THOM TILLIS', 'TINA SMITH', 'TOM COTTON', 'TOMMY TUBERVILLE',\n",
      "       'WILLIE L. WILSON'],\n",
      "      dtype='object')\n",
      "159 candidates in type 1: Index(['A. WAYNE JOHNSON', 'ABHAY PATEL', 'ALEX MERCED', 'ALLEN BUCKLEY',\n",
      "       'AMY KLOBUCHAR', 'ANN KIRKPATRICK', 'ARN MENCONI', 'ARVIN VOHRA',\n",
      "       'BARRY MICHAELS', 'BETO O'ROURKE',\n",
      "       ...\n",
      "       'TIMOTHY M. KAINE', 'TODD C. YOUNG', 'TOM CONNORS', 'TOM JONES',\n",
      "       'TONY CAMPBELL', 'TROY HEBERT', 'VALENCIA STOVALL', 'WENDY LONG',\n",
      "       'WILLIAM ROBERT LANG, JR.', 'ZAK RINGELSTEIN'],\n",
      "      dtype='object', length=159)\n",
      "8 candidates in type 2: Index(['AMY MCGRATH', 'DAVID A. PERDUE', 'GARY PETERS', 'JEANNE SHAHEEN',\n",
      "       'JEFF MERKLEY', 'JON OSSOFF', 'MARK KELLY', 'SARA I. GIDEON'],\n",
      "      dtype='object')\n"
     ]
    }
   ],
   "source": [
    "# show candidates of each cluster\n",
    "\n",
    "for candidate_type in range(0,n_clusters):\n",
    "    print('{} candidates in type {}: {}'.format(np.where(labels==candidate_type)[0].shape[0],candidate_type,candidate_name[np.where(labels==candidate_type)]))"
   ]
  },
  {
   "cell_type": "markdown",
   "id": "cc0f3239-2f22-4c0f-8d39-c3563804d012",
   "metadata": {},
   "source": [
    "After clustering, we'd like to know how each cluster looks like. Firstly we just average the feature from each cluster and visualize them."
   ]
  },
  {
   "cell_type": "code",
   "execution_count": 48,
   "id": "26d85072",
   "metadata": {},
   "outputs": [
    {
     "data": {
      "image/png": "[encoded data removed]",
      "text/plain": [
       "<Figure size 1440x360 with 3 Axes>"
      ]
     },
     "metadata": {
      "needs_background": "light"
     },
     "output_type": "display_data"
    }
   ],
   "source": [
    "fig, axs = plt.subplots(1,n_clusters, figsize=(20,5))\n",
    "for candidate_type in range(0,n_clusters):\n",
    "    axs[candidate_type].plot(range(0,feature_length), np.mean(candidate_feature_vectors[np.where(labels==candidate_type)], axis=0))\n",
    "    axs[candidate_type].set_title('type {}'.format(candidate_type))\n",
    "    axs[candidate_type].set_xlabel('days before election')"
   ]
  },
  {
   "cell_type": "markdown",
   "id": "f6178005",
   "metadata": {},
   "source": [
    "We try to remove candidate of 2020 because the lack of data after April. This is shown in type 0, where we get almost no citation from roughly 200 days before election. This is mainly caused by lacking quotation data after April 2020 in the QuoteBank."
   ]
  },
  {
   "cell_type": "code",
   "execution_count": 49,
   "id": "af520b48",
   "metadata": {},
   "outputs": [
    {
     "data": {
      "text/plain": [
       "A. WAYNE JOHNSON            2020\n",
       "AARON JAMES                 2020\n",
       "ABHAY PATEL                 2016\n",
       "AL GROSS                    2020\n",
       "ALEX MERCED                 2016\n",
       "                            ... \n",
       "VALENCIA STOVALL            2020\n",
       "WENDY LONG                  2016\n",
       "WILLIAM ROBERT LANG, JR.    2016\n",
       "WILLIE L. WILSON            2020\n",
       "ZAK RINGELSTEIN             2018\n",
       "Name: year, Length: 234, dtype: int64"
      ]
     },
     "execution_count": 49,
     "metadata": {},
     "output_type": "execute_result"
    }
   ],
   "source": [
    "# find each candidates' election year.\n",
    "\n",
    "election_year = candidate_info_byname.loc[candidate_name]['year']\n",
    "election_year"
   ]
  },
  {
   "cell_type": "code",
   "execution_count": 50,
   "id": "43415d16",
   "metadata": {},
   "outputs": [
    {
     "data": {
      "text/plain": [
       "Index(['ABHAY PATEL', 'ALEX MERCED', 'ALLEN BUCKLEY', 'AMY KLOBUCHAR',\n",
       "       'ANN KIRKPATRICK', 'ARN MENCONI', 'ARVIN VOHRA', 'BARRY MICHAELS',\n",
       "       'BEN CARDIN', 'BERNIE SANDERS',\n",
       "       ...\n",
       "       'TIMOTHY M. KAINE', 'TINA SMITH', 'TODD C. YOUNG', 'TOM CONNORS',\n",
       "       'TOM JONES', 'TONY CAMPBELL', 'TROY HEBERT', 'WENDY LONG',\n",
       "       'WILLIAM ROBERT LANG, JR.', 'ZAK RINGELSTEIN'],\n",
       "      dtype='object', length=171)"
      ]
     },
     "execution_count": 50,
     "metadata": {},
     "output_type": "execute_result"
    }
   ],
   "source": [
    "# filt out 2020 election\n",
    "\n",
    "candidate_name_filted = candidate_name[election_year!=2020]\n",
    "candidate_name_filted"
   ]
  },
  {
   "cell_type": "code",
   "execution_count": 51,
   "id": "a3424648",
   "metadata": {},
   "outputs": [
    {
     "data": {
      "text/html": [
       "<div>\n",
       "<style scoped>\n",
       "    .dataframe tbody tr th:only-of-type {\n",
       "        vertical-align: middle;\n",
       "    }\n",
       "\n",
       "    .dataframe tbody tr th {\n",
       "        vertical-align: top;\n",
       "    }\n",
       "\n",
       "    .dataframe thead th {\n",
       "        text-align: right;\n",
       "    }\n",
       "</style>\n",
       "<table border=\"1\" class=\"dataframe\">\n",
       "  <thead>\n",
       "    <tr style=\"text-align: right;\">\n",
       "      <th></th>\n",
       "      <th>ABHAY PATEL</th>\n",
       "      <th>ALEX MERCED</th>\n",
       "      <th>ALLEN BUCKLEY</th>\n",
       "      <th>AMY KLOBUCHAR</th>\n",
       "      <th>ANN KIRKPATRICK</th>\n",
       "      <th>ARN MENCONI</th>\n",
       "      <th>ARVIN VOHRA</th>\n",
       "      <th>BARRY MICHAELS</th>\n",
       "      <th>BEN CARDIN</th>\n",
       "      <th>BERNIE SANDERS</th>\n",
       "      <th>...</th>\n",
       "      <th>TIMOTHY M. KAINE</th>\n",
       "      <th>TINA SMITH</th>\n",
       "      <th>TODD C. YOUNG</th>\n",
       "      <th>TOM CONNORS</th>\n",
       "      <th>TOM JONES</th>\n",
       "      <th>TONY CAMPBELL</th>\n",
       "      <th>TROY HEBERT</th>\n",
       "      <th>WENDY LONG</th>\n",
       "      <th>WILLIAM ROBERT LANG, JR.</th>\n",
       "      <th>ZAK RINGELSTEIN</th>\n",
       "    </tr>\n",
       "  </thead>\n",
       "  <tbody>\n",
       "    <tr>\n",
       "      <th>0</th>\n",
       "      <td>0.0</td>\n",
       "      <td>0.0</td>\n",
       "      <td>0.0</td>\n",
       "      <td>0.643107</td>\n",
       "      <td>0.0</td>\n",
       "      <td>0.0</td>\n",
       "      <td>0.000000</td>\n",
       "      <td>0.00000</td>\n",
       "      <td>0.964661</td>\n",
       "      <td>60.447298</td>\n",
       "      <td>...</td>\n",
       "      <td>0.0</td>\n",
       "      <td>45.258062</td>\n",
       "      <td>0.0</td>\n",
       "      <td>0.0</td>\n",
       "      <td>0.0</td>\n",
       "      <td>0.000000</td>\n",
       "      <td>0.0</td>\n",
       "      <td>0.0</td>\n",
       "      <td>0.0</td>\n",
       "      <td>1.607768</td>\n",
       "    </tr>\n",
       "    <tr>\n",
       "      <th>1</th>\n",
       "      <td>0.0</td>\n",
       "      <td>0.0</td>\n",
       "      <td>0.0</td>\n",
       "      <td>0.864890</td>\n",
       "      <td>0.0</td>\n",
       "      <td>0.0</td>\n",
       "      <td>0.000000</td>\n",
       "      <td>0.00000</td>\n",
       "      <td>0.864890</td>\n",
       "      <td>1160.084533</td>\n",
       "      <td>...</td>\n",
       "      <td>0.0</td>\n",
       "      <td>0.576593</td>\n",
       "      <td>0.0</td>\n",
       "      <td>0.0</td>\n",
       "      <td>0.0</td>\n",
       "      <td>0.000000</td>\n",
       "      <td>0.0</td>\n",
       "      <td>0.0</td>\n",
       "      <td>0.0</td>\n",
       "      <td>0.000000</td>\n",
       "    </tr>\n",
       "    <tr>\n",
       "      <th>2</th>\n",
       "      <td>0.0</td>\n",
       "      <td>0.0</td>\n",
       "      <td>0.0</td>\n",
       "      <td>41.414354</td>\n",
       "      <td>0.0</td>\n",
       "      <td>0.0</td>\n",
       "      <td>0.000000</td>\n",
       "      <td>0.00000</td>\n",
       "      <td>3.171264</td>\n",
       "      <td>89.959246</td>\n",
       "      <td>...</td>\n",
       "      <td>0.0</td>\n",
       "      <td>45.040485</td>\n",
       "      <td>0.0</td>\n",
       "      <td>0.0</td>\n",
       "      <td>0.0</td>\n",
       "      <td>0.000000</td>\n",
       "      <td>0.0</td>\n",
       "      <td>0.0</td>\n",
       "      <td>0.0</td>\n",
       "      <td>3.459560</td>\n",
       "    </tr>\n",
       "    <tr>\n",
       "      <th>3</th>\n",
       "      <td>0.0</td>\n",
       "      <td>0.0</td>\n",
       "      <td>0.0</td>\n",
       "      <td>4.324450</td>\n",
       "      <td>0.0</td>\n",
       "      <td>0.0</td>\n",
       "      <td>1.153187</td>\n",
       "      <td>0.00000</td>\n",
       "      <td>3.171264</td>\n",
       "      <td>407.068522</td>\n",
       "      <td>...</td>\n",
       "      <td>0.0</td>\n",
       "      <td>0.000000</td>\n",
       "      <td>0.0</td>\n",
       "      <td>0.0</td>\n",
       "      <td>0.0</td>\n",
       "      <td>2.306374</td>\n",
       "      <td>0.0</td>\n",
       "      <td>0.0</td>\n",
       "      <td>0.0</td>\n",
       "      <td>0.576593</td>\n",
       "    </tr>\n",
       "    <tr>\n",
       "      <th>4</th>\n",
       "      <td>0.0</td>\n",
       "      <td>0.0</td>\n",
       "      <td>0.0</td>\n",
       "      <td>4.901044</td>\n",
       "      <td>0.0</td>\n",
       "      <td>0.0</td>\n",
       "      <td>0.000000</td>\n",
       "      <td>0.86489</td>\n",
       "      <td>3.747857</td>\n",
       "      <td>2512.988300</td>\n",
       "      <td>...</td>\n",
       "      <td>0.0</td>\n",
       "      <td>1.441483</td>\n",
       "      <td>0.0</td>\n",
       "      <td>0.0</td>\n",
       "      <td>0.0</td>\n",
       "      <td>2.882967</td>\n",
       "      <td>0.0</td>\n",
       "      <td>0.0</td>\n",
       "      <td>0.0</td>\n",
       "      <td>0.000000</td>\n",
       "    </tr>\n",
       "    <tr>\n",
       "      <th>...</th>\n",
       "      <td>...</td>\n",
       "      <td>...</td>\n",
       "      <td>...</td>\n",
       "      <td>...</td>\n",
       "      <td>...</td>\n",
       "      <td>...</td>\n",
       "      <td>...</td>\n",
       "      <td>...</td>\n",
       "      <td>...</td>\n",
       "      <td>...</td>\n",
       "      <td>...</td>\n",
       "      <td>...</td>\n",
       "      <td>...</td>\n",
       "      <td>...</td>\n",
       "      <td>...</td>\n",
       "      <td>...</td>\n",
       "      <td>...</td>\n",
       "      <td>...</td>\n",
       "      <td>...</td>\n",
       "      <td>...</td>\n",
       "      <td>...</td>\n",
       "    </tr>\n",
       "    <tr>\n",
       "      <th>295</th>\n",
       "      <td>0.0</td>\n",
       "      <td>0.0</td>\n",
       "      <td>0.0</td>\n",
       "      <td>69.388074</td>\n",
       "      <td>0.0</td>\n",
       "      <td>0.0</td>\n",
       "      <td>0.000000</td>\n",
       "      <td>0.00000</td>\n",
       "      <td>3464.657134</td>\n",
       "      <td>0.814556</td>\n",
       "      <td>...</td>\n",
       "      <td>0.0</td>\n",
       "      <td>1.900630</td>\n",
       "      <td>0.0</td>\n",
       "      <td>0.0</td>\n",
       "      <td>0.0</td>\n",
       "      <td>0.000000</td>\n",
       "      <td>0.0</td>\n",
       "      <td>0.0</td>\n",
       "      <td>0.0</td>\n",
       "      <td>0.000000</td>\n",
       "    </tr>\n",
       "    <tr>\n",
       "      <th>296</th>\n",
       "      <td>0.0</td>\n",
       "      <td>0.0</td>\n",
       "      <td>0.0</td>\n",
       "      <td>8.435176</td>\n",
       "      <td>0.0</td>\n",
       "      <td>0.0</td>\n",
       "      <td>0.000000</td>\n",
       "      <td>0.00000</td>\n",
       "      <td>1134.143035</td>\n",
       "      <td>199.262435</td>\n",
       "      <td>...</td>\n",
       "      <td>0.0</td>\n",
       "      <td>0.814556</td>\n",
       "      <td>0.0</td>\n",
       "      <td>0.0</td>\n",
       "      <td>0.0</td>\n",
       "      <td>0.000000</td>\n",
       "      <td>0.0</td>\n",
       "      <td>0.0</td>\n",
       "      <td>0.0</td>\n",
       "      <td>0.000000</td>\n",
       "    </tr>\n",
       "    <tr>\n",
       "      <th>297</th>\n",
       "      <td>0.0</td>\n",
       "      <td>0.0</td>\n",
       "      <td>0.0</td>\n",
       "      <td>1.357593</td>\n",
       "      <td>0.0</td>\n",
       "      <td>0.0</td>\n",
       "      <td>0.000000</td>\n",
       "      <td>0.00000</td>\n",
       "      <td>0.271519</td>\n",
       "      <td>51.317006</td>\n",
       "      <td>...</td>\n",
       "      <td>0.0</td>\n",
       "      <td>47.781231</td>\n",
       "      <td>0.0</td>\n",
       "      <td>0.0</td>\n",
       "      <td>0.0</td>\n",
       "      <td>0.000000</td>\n",
       "      <td>0.0</td>\n",
       "      <td>0.0</td>\n",
       "      <td>0.0</td>\n",
       "      <td>0.000000</td>\n",
       "    </tr>\n",
       "    <tr>\n",
       "      <th>298</th>\n",
       "      <td>0.0</td>\n",
       "      <td>0.0</td>\n",
       "      <td>0.0</td>\n",
       "      <td>0.814556</td>\n",
       "      <td>0.0</td>\n",
       "      <td>0.0</td>\n",
       "      <td>0.000000</td>\n",
       "      <td>0.00000</td>\n",
       "      <td>0.814556</td>\n",
       "      <td>935.498054</td>\n",
       "      <td>...</td>\n",
       "      <td>0.0</td>\n",
       "      <td>11.150362</td>\n",
       "      <td>0.0</td>\n",
       "      <td>0.0</td>\n",
       "      <td>0.0</td>\n",
       "      <td>0.000000</td>\n",
       "      <td>0.0</td>\n",
       "      <td>0.0</td>\n",
       "      <td>0.0</td>\n",
       "      <td>0.000000</td>\n",
       "    </tr>\n",
       "    <tr>\n",
       "      <th>299</th>\n",
       "      <td>0.0</td>\n",
       "      <td>0.0</td>\n",
       "      <td>0.0</td>\n",
       "      <td>13.467320</td>\n",
       "      <td>0.0</td>\n",
       "      <td>0.0</td>\n",
       "      <td>0.000000</td>\n",
       "      <td>0.00000</td>\n",
       "      <td>4.072778</td>\n",
       "      <td>119.872422</td>\n",
       "      <td>...</td>\n",
       "      <td>0.0</td>\n",
       "      <td>7.874038</td>\n",
       "      <td>0.0</td>\n",
       "      <td>0.0</td>\n",
       "      <td>0.0</td>\n",
       "      <td>0.000000</td>\n",
       "      <td>0.0</td>\n",
       "      <td>0.0</td>\n",
       "      <td>0.0</td>\n",
       "      <td>0.000000</td>\n",
       "    </tr>\n",
       "  </tbody>\n",
       "</table>\n",
       "<p>300 rows × 171 columns</p>\n",
       "</div>"
      ],
      "text/plain": [
       "     ABHAY PATEL  ALEX MERCED  ALLEN BUCKLEY  AMY KLOBUCHAR  ANN KIRKPATRICK  \\\n",
       "0            0.0          0.0            0.0       0.643107              0.0   \n",
       "1            0.0          0.0            0.0       0.864890              0.0   \n",
       "2            0.0          0.0            0.0      41.414354              0.0   \n",
       "3            0.0          0.0            0.0       4.324450              0.0   \n",
       "4            0.0          0.0            0.0       4.901044              0.0   \n",
       "..           ...          ...            ...            ...              ...   \n",
       "295          0.0          0.0            0.0      69.388074              0.0   \n",
       "296          0.0          0.0            0.0       8.435176              0.0   \n",
       "297          0.0          0.0            0.0       1.357593              0.0   \n",
       "298          0.0          0.0            0.0       0.814556              0.0   \n",
       "299          0.0          0.0            0.0      13.467320              0.0   \n",
       "\n",
       "     ARN MENCONI  ARVIN VOHRA  BARRY MICHAELS   BEN CARDIN  BERNIE SANDERS  \\\n",
       "0            0.0     0.000000         0.00000     0.964661       60.447298   \n",
       "1            0.0     0.000000         0.00000     0.864890     1160.084533   \n",
       "2            0.0     0.000000         0.00000     3.171264       89.959246   \n",
       "3            0.0     1.153187         0.00000     3.171264      407.068522   \n",
       "4            0.0     0.000000         0.86489     3.747857     2512.988300   \n",
       "..           ...          ...             ...          ...             ...   \n",
       "295          0.0     0.000000         0.00000  3464.657134        0.814556   \n",
       "296          0.0     0.000000         0.00000  1134.143035      199.262435   \n",
       "297          0.0     0.000000         0.00000     0.271519       51.317006   \n",
       "298          0.0     0.000000         0.00000     0.814556      935.498054   \n",
       "299          0.0     0.000000         0.00000     4.072778      119.872422   \n",
       "\n",
       "     ...  TIMOTHY M. KAINE  TINA SMITH  TODD C. YOUNG  TOM CONNORS  TOM JONES  \\\n",
       "0    ...               0.0   45.258062            0.0          0.0        0.0   \n",
       "1    ...               0.0    0.576593            0.0          0.0        0.0   \n",
       "2    ...               0.0   45.040485            0.0          0.0        0.0   \n",
       "3    ...               0.0    0.000000            0.0          0.0        0.0   \n",
       "4    ...               0.0    1.441483            0.0          0.0        0.0   \n",
       "..   ...               ...         ...            ...          ...        ...   \n",
       "295  ...               0.0    1.900630            0.0          0.0        0.0   \n",
       "296  ...               0.0    0.814556            0.0          0.0        0.0   \n",
       "297  ...               0.0   47.781231            0.0          0.0        0.0   \n",
       "298  ...               0.0   11.150362            0.0          0.0        0.0   \n",
       "299  ...               0.0    7.874038            0.0          0.0        0.0   \n",
       "\n",
       "     TONY CAMPBELL  TROY HEBERT  WENDY LONG  WILLIAM ROBERT LANG, JR.  \\\n",
       "0         0.000000          0.0         0.0                       0.0   \n",
       "1         0.000000          0.0         0.0                       0.0   \n",
       "2         0.000000          0.0         0.0                       0.0   \n",
       "3         2.306374          0.0         0.0                       0.0   \n",
       "4         2.882967          0.0         0.0                       0.0   \n",
       "..             ...          ...         ...                       ...   \n",
       "295       0.000000          0.0         0.0                       0.0   \n",
       "296       0.000000          0.0         0.0                       0.0   \n",
       "297       0.000000          0.0         0.0                       0.0   \n",
       "298       0.000000          0.0         0.0                       0.0   \n",
       "299       0.000000          0.0         0.0                       0.0   \n",
       "\n",
       "     ZAK RINGELSTEIN  \n",
       "0           1.607768  \n",
       "1           0.000000  \n",
       "2           3.459560  \n",
       "3           0.576593  \n",
       "4           0.000000  \n",
       "..               ...  \n",
       "295         0.000000  \n",
       "296         0.000000  \n",
       "297         0.000000  \n",
       "298         0.000000  \n",
       "299         0.000000  \n",
       "\n",
       "[300 rows x 171 columns]"
      ]
     },
     "execution_count": 51,
     "metadata": {},
     "output_type": "execute_result"
    }
   ],
   "source": [
    "# rebuild our feature vectors\n",
    "\n",
    "candidate_quotes_cluster_feature_filted = pd.DataFrame(np.zeros([feature_length,len(candidate_name_filted)]), columns=candidate_name_filted)\n",
    "\n",
    "for candidate in candidate_name_filted:\n",
    "    candidate_quotes_timespan = quotes_timespan_byday[candidate]\n",
    "    for days in candidate_quotes_timespan.index:\n",
    "        candidate_quotes_cluster_feature_filted[candidate].iloc[days] = candidate_quotes_timespan.loc[days]\n",
    "        \n",
    "candidate_quotes_cluster_feature_filted"
   ]
  },
  {
   "cell_type": "code",
   "execution_count": 52,
   "id": "ac4d85e3",
   "metadata": {},
   "outputs": [
    {
     "data": {
      "text/plain": [
       "<matplotlib.collections.PathCollection at 0x7f1398987550>"
      ]
     },
     "execution_count": 52,
     "metadata": {},
     "output_type": "execute_result"
    },
    {
     "data": {
      "image/png": "[encoded data removed]",
      "text/plain": [
       "<Figure size 432x288 with 1 Axes>"
      ]
     },
     "metadata": {
      "needs_background": "light"
     },
     "output_type": "display_data"
    }
   ],
   "source": [
    "# PCA visualization\n",
    "candidate_feature_vectors = candidate_quotes_cluster_feature_filted.to_numpy().T\n",
    "candidate_feature_vectors/=np.linalg.norm(candidate_feature_vectors,axis=1)[:,np.newaxis]\n",
    "reduced_feature_PCA = PCA(n_components=2).fit(candidate_feature_vectors).transform(candidate_feature_vectors)\n",
    "\n",
    "plt.scatter(reduced_feature_PCA[:,0],reduced_feature_PCA[:,1], alpha=0.5)"
   ]
  },
  {
   "cell_type": "code",
   "execution_count": 53,
   "id": "8e0ff0e7",
   "metadata": {},
   "outputs": [
    {
     "data": {
      "text/plain": [
       "[<matplotlib.lines.Line2D at 0x7f139893d130>]"
      ]
     },
     "execution_count": 53,
     "metadata": {},
     "output_type": "execute_result"
    },
    {
     "data": {
      "image/png": "[encoded data removed]",
      "text/plain": [
       "<Figure size 432x288 with 1 Axes>"
      ]
     },
     "metadata": {
      "needs_background": "light"
     },
     "output_type": "display_data"
    }
   ],
   "source": [
    "# find cluster number\n",
    "silhouettes=[]\n",
    "for n_clusters in range(2,10):\n",
    "    labels = KMeans(n_clusters=n_clusters).fit_predict(reduced_feature_PCA)\n",
    "    score = silhouette_score(reduced_feature_PCA,labels)\n",
    "    silhouettes.append(score)\n",
    "    \n",
    "plt.plot(range(2,10),silhouettes)"
   ]
  },
  {
   "cell_type": "code",
   "execution_count": 54,
   "id": "272f0dba",
   "metadata": {},
   "outputs": [
    {
     "data": {
      "text/plain": [
       "<matplotlib.collections.PathCollection at 0x7f1398962a00>"
      ]
     },
     "execution_count": 54,
     "metadata": {},
     "output_type": "execute_result"
    },
    {
     "data": {
      "image/png": "[encoded data removed]",
      "text/plain": [
       "<Figure size 432x288 with 1 Axes>"
      ]
     },
     "metadata": {
      "needs_background": "light"
     },
     "output_type": "display_data"
    }
   ],
   "source": [
    "n_clusters = 4\n",
    "labels = KMeans(n_clusters=n_clusters).fit_predict(reduced_feature_PCA)\n",
    "plt.scatter(reduced_feature_PCA[:,0],reduced_feature_PCA[:,1], alpha=0.5,c=labels)"
   ]
  },
  {
   "cell_type": "code",
   "execution_count": 55,
   "id": "de08da42",
   "metadata": {},
   "outputs": [
    {
     "name": "stdout",
     "output_type": "stream",
     "text": [
      "37 candidates in type 0: Index(['A. WAYNE JOHNSON', 'ABHAY PATEL', 'ALEX MERCED', 'BEN SASSE',\n",
      "       'BILL HAGERTY', 'BILL NELSON', 'CAL CUNNINGHAM', 'DARRYL GLENN',\n",
      "       'DAVID A. PERDUE', 'DEAN HELLER', 'DERRICK EDWARDS', 'DIANNE FEINSTEIN',\n",
      "       'JASON LEWIS', 'JIM NEWBERGER', 'JIM RENACCI', 'JOE DONNELLY',\n",
      "       'JOE MANCHIN', 'JOHN BARRASSO', 'JOHN JAMES', 'JOHN R. THUNE',\n",
      "       'JOHN WAYNE HOWE', 'JOSH HAWLEY', 'KATIE MCGINTY', 'KELLY AYOTTE',\n",
      "       'KEVIN O'CONNOR', 'LILY TANG WILLIAMS', 'LORETTA SANCHEZ',\n",
      "       'MARIA CANTWELL', 'MARK R. WARNER', 'MARK T. BEARD', 'MARSHA BLACKBURN',\n",
      "       'MICHAEL TODD GREENE', 'MIKE BRAUN', 'MIKE ESPY', 'MISTY K. SNOW',\n",
      "       'PATRICK J. LEAHY', 'PATRICK MURPHY'],\n",
      "      dtype='object')\n",
      "44 candidates in type 1: Index(['AL GROSS', 'ANN KIRKPATRICK', 'ARN MENCONI', 'ARVIN VOHRA',\n",
      "       'BARBARA BOLLIER', 'BOB HUGIN', 'CATHERINE CORTEZ MASTO',\n",
      "       'CONNER ELDRIDGE', 'DALE R KERNS JR', 'DANIEL BURKE', 'DANIEL M. GADE',\n",
      "       'DAVID BARIA', 'DAVID DUKE', 'DAVID F. BLACK', 'DAVID MORAN',\n",
      "       'EDWARD J. MARKEY', 'EDWARD T. CLIFFORD III', 'ELIZABETH A. WARREN',\n",
      "       'ERIC L. BRAKEY', 'FOSTER CAMPBELL', 'GEORGE E. HUFFMAN III',\n",
      "       'JANE RAYBOULD', 'JASON KANDER', 'JAY WILLIAMS', 'JENNY WILSON',\n",
      "       'JERRY TROOIEN', 'JIM BARKSDALE', 'JOHN CORNYN', 'JOHN F. REED',\n",
      "       'JOHN FLEMING', 'JOHN HOEVEN', 'JOHN MCCAIN', 'JONI ERNST',\n",
      "       'KARIN HOUSLEY', 'KEVIN E. HAYES', 'LISA MURKOWSKI', 'MAGGIE HASSAN',\n",
      "       'MARTHA MCSALLY', 'MARTIN T HEINRICH', 'MARY \"MJ\" HEGAR',\n",
      "       'MICHAEL SANCHEZ', 'MICK RICH', 'MITT ROMNEY', 'PATRICK \"PAT\" THOMAS'],\n",
      "      dtype='object')\n",
      "85 candidates in type 2: Index(['AARON JAMES', 'ALLEN BUCKLEY', 'AMY KLOBUCHAR', 'AMY MCGRATH',\n",
      "       'BARRY MICHAELS', 'BEN CARDIN', 'BERNIE SANDERS', 'BETO O'ROURKE',\n",
      "       'BRAD J. PEACOCK', 'BRIAN SCHATZ', 'CAROLINE FAYARD',\n",
      "       'CHARLES E. SCHUMER', 'CHARLES W. BOUSTANY, JR.',\n",
      "       'CHELE CHIAVACCI FARLEY', 'CHRIS VAN HOLLEN', 'CHRIS VANCE',\n",
      "       'CHRISTOPHER S MURPHY', 'CHUCK GRASSLEY', 'CINDY HYDE-SMITH',\n",
      "       'CLAIRE MCCASKILL', 'COREY A. STEWART', 'CORY BOOKER', 'CORY GARDNER',\n",
      "       'CRAIG R. BOWDEN', 'CRIS ERICSON', 'DAN CARTER', 'DAN SULLIVAN',\n",
      "       'DAVID B. COLLINS', 'DAVID DREW KNIGHT', 'DEAN HILL', 'DEB FISCHER',\n",
      "       'DEBBIE STABENOW', 'DEBORAH JACKSON', 'DEBORAH K. ROSS', 'DOUG COLLINS',\n",
      "       'DOUG JONES', 'ED TARVER', 'ELIOT GLASSHEIM', 'EVAN BAYH',\n",
      "       'GARY E JOHNSON', 'GARY PETERS', 'GARY TRAUNER', 'GEOFF DIEHL',\n",
      "       'HEIDI HEITKAMP', 'JACKY ROSEN', 'JAIME HARRISON', 'JAMES LANKFORD',\n",
      "       'JEANNE SHAHEEN', 'JEFF MERKLEY', 'JERRY MORAN', 'JIM GRAY',\n",
      "       'JIM RISCH', 'JIM SCHULTZ', 'JOE MILLER', 'JOHN BOOZMAN',\n",
      "       'JOHN CARROLL', 'JOHN KENNEDY', 'JOHN W. HICKENLOOPER', 'JON OSSOFF',\n",
      "       'JON TESTER', 'KAMALA D. HARRIS', 'KATHY SZELIGA', 'KEVIN CRAMER',\n",
      "       'KEVIN DE LEON', 'KIRSTEN E. GILLIBRAND', 'KYRSTEN SINEMA',\n",
      "       'LEAH VUKMIR', 'LINDSEY GRAHAM', 'LUCY BRENTON', 'MARCO RUBIO',\n",
      "       'MARGARET STOCK', 'MARK CALLAHAN', 'MARK KELLY', 'MATT LIEBERMAN',\n",
      "       'MAZIE K. HIRONO', 'MICHAEL F. BENNET', 'MIKE CRAPO', 'MIKE LEE',\n",
      "       'MIKE ROUNDS', 'MITCH MCCONNELL', 'MOHAMMAD \"MIKE OBAMA\" ARIF',\n",
      "       'MURRAY SABRIN', 'NEAL SIMON', 'PATRICK J. TOOMEY', 'PATRICK MORRISEY'],\n",
      "      dtype='object')\n",
      "5 candidates in type 3: Index(['BOB WALSH', 'JEFF RUSSELL', 'JERRY STURGILL', 'JOHNNY ISAKSON',\n",
      "       'MARK KIRK'],\n",
      "      dtype='object')\n"
     ]
    }
   ],
   "source": [
    "# again we show the candidates of each cluster\n",
    "for candidate_type in range(0,n_clusters):\n",
    "    print('{} candidates in type {}: {}'.format(np.where(labels==candidate_type)[0].shape[0],candidate_type,candidate_name[np.where(labels==candidate_type)]))"
   ]
  },
  {
   "cell_type": "code",
   "execution_count": 56,
   "id": "4728806d",
   "metadata": {},
   "outputs": [
    {
     "data": {
      "image/png": "[encoded data removed]",
      "text/plain": [
       "<Figure size 1800x360 with 4 Axes>"
      ]
     },
     "metadata": {
      "needs_background": "light"
     },
     "output_type": "display_data"
    }
   ],
   "source": [
    "# use simple average to visualize the pattern of each cluster\n",
    "fig, axs = plt.subplots(1,n_clusters, figsize=(25,5))\n",
    "for candidate_type in range(0,n_clusters):\n",
    "    axs[candidate_type].plot(range(0,feature_length), np.mean(candidate_feature_vectors[np.where(labels==candidate_type)], axis=0))\n",
    "    axs[candidate_type].set_title('type {}'.format(candidate_type))\n",
    "    axs[candidate_type].set_xlabel('days before election')"
   ]
  },
  {
   "cell_type": "markdown",
   "id": "96e6534b",
   "metadata": {},
   "source": [
    "We also noticed that for most candidates, their quotation number of each day is relatively sparse. So it is resonable to use a longer time interval for our feature vectors. Here we sum the quotation number of each 30 days."
   ]
  },
  {
   "cell_type": "code",
   "execution_count": 57,
   "id": "893bb305",
   "metadata": {},
   "outputs": [],
   "source": [
    "# sum for each 30 day\n",
    "candidate_feature_vectors = candidate_quotes_cluster_feature_filted.to_numpy().T\n",
    "candidate_feature_vectors/=np.linalg.norm(candidate_feature_vectors,axis=1)[:,np.newaxis]\n",
    "candidate_feature_vectors_sum = np.array(np.split(candidate_feature_vectors,10, axis=1)).sum(axis=2).T"
   ]
  },
  {
   "cell_type": "code",
   "execution_count": 58,
   "id": "70f8efaf",
   "metadata": {},
   "outputs": [
    {
     "data": {
      "text/plain": [
       "<matplotlib.collections.PathCollection at 0x7f139884cb80>"
      ]
     },
     "execution_count": 58,
     "metadata": {},
     "output_type": "execute_result"
    },
    {
     "data": {
      "image/png": "[encoded data removed]",
      "text/plain": [
       "<Figure size 432x288 with 1 Axes>"
      ]
     },
     "metadata": {
      "needs_background": "light"
     },
     "output_type": "display_data"
    }
   ],
   "source": [
    "# PCA visualization\n",
    "reduced_feature_PCA = PCA(n_components=2).fit(candidate_feature_vectors_sum).transform(candidate_feature_vectors_sum)\n",
    "\n",
    "plt.scatter(reduced_feature_PCA[:,0],reduced_feature_PCA[:,1], alpha=0.5)"
   ]
  },
  {
   "cell_type": "code",
   "execution_count": 59,
   "id": "d0236198",
   "metadata": {},
   "outputs": [
    {
     "data": {
      "text/plain": [
       "Text(0.5, 0, 'n_clusters')"
      ]
     },
     "execution_count": 59,
     "metadata": {},
     "output_type": "execute_result"
    },
    {
     "data": {
      "image/png": "[encoded data removed]",
      "text/plain": [
       "<Figure size 432x288 with 1 Axes>"
      ]
     },
     "metadata": {
      "needs_background": "light"
     },
     "output_type": "display_data"
    }
   ],
   "source": [
    "silhouettes=[]\n",
    "for n_clusters in range(2,10):\n",
    "    labels = KMeans(n_clusters=n_clusters).fit_predict(reduced_feature_PCA)\n",
    "    score = silhouette_score(reduced_feature_PCA,labels)\n",
    "    silhouettes.append(score)\n",
    "    \n",
    "plt.plot(range(2,10),silhouettes)\n",
    "plt.xlabel('n_clusters')"
   ]
  },
  {
   "cell_type": "code",
   "execution_count": 60,
   "id": "9d349d84",
   "metadata": {},
   "outputs": [
    {
     "data": {
      "text/plain": [
       "<matplotlib.collections.PathCollection at 0x7f13987aefd0>"
      ]
     },
     "execution_count": 60,
     "metadata": {},
     "output_type": "execute_result"
    },
    {
     "data": {
      "image/png": "[encoded data removed]",
      "text/plain": [
       "<Figure size 432x288 with 1 Axes>"
      ]
     },
     "metadata": {
      "needs_background": "light"
     },
     "output_type": "display_data"
    }
   ],
   "source": [
    "n_clusters = 2\n",
    "labels = KMeans(n_clusters=n_clusters).fit_predict(reduced_feature_PCA)\n",
    "plt.scatter(reduced_feature_PCA[:,0],reduced_feature_PCA[:,1], alpha=0.5,c=labels)"
   ]
  },
  {
   "cell_type": "code",
   "execution_count": 61,
   "id": "63014d57",
   "metadata": {},
   "outputs": [
    {
     "data": {
      "image/png": "[encoded data removed]",
      "text/plain": [
       "<Figure size 1080x360 with 2 Axes>"
      ]
     },
     "metadata": {
      "needs_background": "light"
     },
     "output_type": "display_data"
    }
   ],
   "source": [
    "fig, axs = plt.subplots(1,n_clusters, figsize=(15,5))\n",
    "for candidate_type in range(0,n_clusters):\n",
    "    axs[candidate_type].plot(range(0,10), np.mean(candidate_feature_vectors_sum[np.where(labels==candidate_type)], axis=0))\n",
    "    axs[candidate_type].set_title('type {}'.format(candidate_type))\n",
    "    axs[candidate_type].set_xlabel('months before election')\n",
    "    axs[candidate_type].set_ylabel('normalized quotes')"
   ]
  },
  {
   "cell_type": "code",
   "execution_count": 62,
   "id": "cd10a8fd",
   "metadata": {},
   "outputs": [
    {
     "name": "stdout",
     "output_type": "stream",
     "text": [
      "119 candidates in type 0: Index(['ABHAY PATEL', 'ALEX MERCED', 'ALLEN BUCKLEY', 'ANN KIRKPATRICK',\n",
      "       'ARVIN VOHRA', 'BARRY MICHAELS', 'BRAD J. PEACOCK', 'BRIAN SCHATZ',\n",
      "       'CAROLINE FAYARD', 'CATHERINE CORTEZ MASTO',\n",
      "       ...\n",
      "       'TIM HAGAN', 'TIM SCOTT', 'TIMOTHY M. KAINE', 'TODD C. YOUNG',\n",
      "       'TOM CONNORS', 'TOM JONES', 'TROY HEBERT', 'WENDY LONG',\n",
      "       'WILLIAM ROBERT LANG, JR.', 'ZAK RINGELSTEIN'],\n",
      "      dtype='object', length=119)\n",
      "52 candidates in type 1: Index(['AMY KLOBUCHAR', 'ARN MENCONI', 'BEN CARDIN', 'BERNIE SANDERS',\n",
      "       'BETO O'ROURKE', 'BILL NELSON', 'BOB HUGIN', 'CHELE CHIAVACCI FARLEY',\n",
      "       'CHUCK GRASSLEY', 'CLAIRE MCCASKILL', 'DEAN HELLER', 'DEB FISCHER',\n",
      "       'DIANNE FEINSTEIN', 'ELIZABETH A. WARREN', 'ERIC L. BRAKEY',\n",
      "       'GARY TRAUNER', 'GEOFF DIEHL', 'GEORGE E. HUFFMAN III',\n",
      "       'HEIDI HEITKAMP', 'JACKY ROSEN', 'JIM NEWBERGER', 'JIM RENACCI',\n",
      "       'JOE DONNELLY', 'JOE MANCHIN', 'JOHN BARRASSO', 'JOHN JAMES',\n",
      "       'JOHN MCCAIN', 'JON TESTER', 'JOSH HAWLEY', 'KARIN HOUSLEY',\n",
      "       'KEVIN CRAMER', 'KIRSTEN E. GILLIBRAND', 'KYRSTEN SINEMA',\n",
      "       'LEAH VUKMIR', 'MARSHA BLACKBURN', 'MARTHA MCSALLY', 'MAZIE K. HIRONO',\n",
      "       'MIKE BRAUN', 'MITT ROMNEY', 'MURRAY SABRIN', 'NEAL SIMON',\n",
      "       'PATRICK MORRISEY', 'PHIL BREDESEN', 'RICK SCOTT', 'ROBERT MENENDEZ',\n",
      "       'SCOTT SUMMERS', 'SHERROD BROWN', 'TAMMY BALDWIN', 'TED CRUZ',\n",
      "       'THOMAS DIXON', 'TINA SMITH', 'TONY CAMPBELL'],\n",
      "      dtype='object')\n"
     ]
    }
   ],
   "source": [
    "for candidate_type in range(0,n_clusters):\n",
    "    print('{} candidates in type {}: {}'.format(np.where(labels==candidate_type)[0].shape[0],candidate_type,candidate_name_filted[np.where(labels==candidate_type)]))"
   ]
  },
  {
   "cell_type": "code",
   "execution_count": 63,
   "id": "8ae5f152",
   "metadata": {},
   "outputs": [
    {
     "data": {
      "text/plain": [
       "Text(0.5, 1.0, 'JAMES LANKFORD, Type 0 Example')"
      ]
     },
     "execution_count": 63,
     "metadata": {},
     "output_type": "execute_result"
    },
    {
     "data": {
      "image/png": "[encoded data removed]",
      "text/plain": [
       "<Figure size 432x288 with 1 Axes>"
      ]
     },
     "metadata": {
      "needs_background": "light"
     },
     "output_type": "display_data"
    }
   ],
   "source": [
    "# From type 0\n",
    "candidate_quotes_cluster_feature_filted['JAMES LANKFORD'].rolling(window=30).sum().plot()\n",
    "plt.xlabel('months before election')\n",
    "plt.ylabel('l2 normalized quotes')\n",
    "plt.title('JAMES LANKFORD, Type 0 Example')"
   ]
  },
  {
   "cell_type": "code",
   "execution_count": 64,
   "id": "9a0c30ef",
   "metadata": {},
   "outputs": [
    {
     "data": {
      "text/plain": [
       "Text(0.5, 1.0, 'Dianne Feinstein, Type 1 Example')"
      ]
     },
     "execution_count": 64,
     "metadata": {},
     "output_type": "execute_result"
    },
    {
     "data": {
      "image/png": "[encoded data removed]",
      "text/plain": [
       "<Figure size 432x288 with 1 Axes>"
      ]
     },
     "metadata": {
      "needs_background": "light"
     },
     "output_type": "display_data"
    }
   ],
   "source": [
    "# From type 1\n",
    "candidate_quotes_cluster_feature_filted['DIANNE FEINSTEIN'].rolling(window=30).sum().plot()\n",
    "plt.xlabel('months before election')\n",
    "plt.ylabel('l2 normalized quotes')\n",
    "plt.title('Dianne Feinstein, Type 1 Example')"
   ]
  },
  {
   "cell_type": "code",
   "execution_count": 65,
   "id": "dabe5482-7ef7-473e-a82f-b35ead549c83",
   "metadata": {},
   "outputs": [],
   "source": [
    "voterate_type0 = candidate_info_byname.loc[candidate_name_filted[np.where(labels==0)]]['vote_rate']\n",
    "voterate_type1 = candidate_info_byname.loc[candidate_name_filted[np.where(labels==1)]]['vote_rate']"
   ]
  },
  {
   "cell_type": "code",
   "execution_count": 66,
   "id": "88126cfb-54bd-4e49-95ce-f2bfe0abdabf",
   "metadata": {},
   "outputs": [
    {
     "data": {
      "text/plain": [
       "([<matplotlib.axis.XTick at 0x7f13987074c0>,\n",
       "  <matplotlib.axis.XTick at 0x7f1398707490>],\n",
       " [Text(1, 0, 'type0'), Text(2, 0, 'type1')])"
      ]
     },
     "execution_count": 66,
     "metadata": {},
     "output_type": "execute_result"
    },
    {
     "data": {
      "image/png": "[encoded data removed]",
      "text/plain": [
       "<Figure size 432x288 with 1 Axes>"
      ]
     },
     "metadata": {
      "needs_background": "light"
     },
     "output_type": "display_data"
    }
   ],
   "source": [
    "plt.boxplot([voterate_type0.to_numpy(),voterate_type1.to_numpy()])\n",
    "plt.xticks([1, 2], ['type0', 'type1'])"
   ]
  },
  {
   "cell_type": "code",
   "execution_count": 67,
   "id": "e56f46e2-0c59-403c-9fc2-bcf75937fa2e",
   "metadata": {},
   "outputs": [
    {
     "data": {
      "text/plain": [
       "Ttest_indResult(statistic=-3.4705551582259586, pvalue=0.0006592621599715905)"
      ]
     },
     "execution_count": 67,
     "metadata": {},
     "output_type": "execute_result"
    }
   ],
   "source": [
    "from scipy.stats import ttest_ind\n",
    "ttest_ind(voterate_type0.to_numpy(),voterate_type1.to_numpy())"
   ]
  },
  {
   "cell_type": "markdown",
   "id": "604b01f4-2027-4bd2-a3dd-dacdc2329c2c",
   "metadata": {},
   "source": [
    "There is significant difference between the voterate of each cluster."
   ]
  },
  {
   "cell_type": "markdown",
   "id": "1a29c6f1",
   "metadata": {},
   "source": [
    "# 4. Prediction Model\n",
    "In this section, we will try to build the prediction model that uses the senate quotation data to predict election result."
   ]
  },
  {
   "cell_type": "markdown",
   "id": "00a2b64f",
   "metadata": {},
   "source": [
    "**4.1:** First, we label the data by whether the candidate win the election in a new column 'is_winner'"
   ]
  },
  {
   "cell_type": "code",
   "execution_count": 106,
   "id": "8b989331",
   "metadata": {},
   "outputs": [
    {
     "data": {
      "text/html": [
       "<div>\n",
       "<style scoped>\n",
       "    .dataframe tbody tr th:only-of-type {\n",
       "        vertical-align: middle;\n",
       "    }\n",
       "\n",
       "    .dataframe tbody tr th {\n",
       "        vertical-align: top;\n",
       "    }\n",
       "\n",
       "    .dataframe thead th {\n",
       "        text-align: right;\n",
       "    }\n",
       "</style>\n",
       "<table border=\"1\" class=\"dataframe\">\n",
       "  <thead>\n",
       "    <tr style=\"text-align: right;\">\n",
       "      <th></th>\n",
       "      <th>year</th>\n",
       "      <th>state</th>\n",
       "      <th>state_po</th>\n",
       "      <th>state_fips</th>\n",
       "      <th>state_cen</th>\n",
       "      <th>state_ic</th>\n",
       "      <th>office</th>\n",
       "      <th>district</th>\n",
       "      <th>stage</th>\n",
       "      <th>special</th>\n",
       "      <th>candidate</th>\n",
       "      <th>party_detailed</th>\n",
       "      <th>writein</th>\n",
       "      <th>mode</th>\n",
       "      <th>candidatevotes</th>\n",
       "      <th>totalvotes</th>\n",
       "      <th>unofficial</th>\n",
       "      <th>version</th>\n",
       "      <th>party_simplified</th>\n",
       "      <th>is_winner</th>\n",
       "    </tr>\n",
       "  </thead>\n",
       "  <tbody>\n",
       "    <tr>\n",
       "      <th>1</th>\n",
       "      <td>2016</td>\n",
       "      <td>ALABAMA</td>\n",
       "      <td>AL</td>\n",
       "      <td>1</td>\n",
       "      <td>63</td>\n",
       "      <td>41</td>\n",
       "      <td>US SENATE</td>\n",
       "      <td>statewide</td>\n",
       "      <td>gen</td>\n",
       "      <td>False</td>\n",
       "      <td>RICHARD C. SHELBY</td>\n",
       "      <td>REPUBLICAN</td>\n",
       "      <td>False</td>\n",
       "      <td>total</td>\n",
       "      <td>1335104</td>\n",
       "      <td>2087444</td>\n",
       "      <td>False</td>\n",
       "      <td>20210114</td>\n",
       "      <td>REPUBLICAN</td>\n",
       "      <td>True</td>\n",
       "    </tr>\n",
       "    <tr>\n",
       "      <th>7</th>\n",
       "      <td>2016</td>\n",
       "      <td>ALASKA</td>\n",
       "      <td>AK</td>\n",
       "      <td>2</td>\n",
       "      <td>94</td>\n",
       "      <td>81</td>\n",
       "      <td>US SENATE</td>\n",
       "      <td>statewide</td>\n",
       "      <td>gen</td>\n",
       "      <td>False</td>\n",
       "      <td>LISA MURKOWSKI</td>\n",
       "      <td>REPUBLICAN</td>\n",
       "      <td>False</td>\n",
       "      <td>total</td>\n",
       "      <td>138149</td>\n",
       "      <td>311441</td>\n",
       "      <td>False</td>\n",
       "      <td>20210114</td>\n",
       "      <td>REPUBLICAN</td>\n",
       "      <td>True</td>\n",
       "    </tr>\n",
       "    <tr>\n",
       "      <th>12</th>\n",
       "      <td>2016</td>\n",
       "      <td>ARIZONA</td>\n",
       "      <td>AZ</td>\n",
       "      <td>4</td>\n",
       "      <td>86</td>\n",
       "      <td>61</td>\n",
       "      <td>US SENATE</td>\n",
       "      <td>statewide</td>\n",
       "      <td>gen</td>\n",
       "      <td>False</td>\n",
       "      <td>JOHN MCCAIN</td>\n",
       "      <td>REPUBLICAN</td>\n",
       "      <td>False</td>\n",
       "      <td>total</td>\n",
       "      <td>1359267</td>\n",
       "      <td>2530730</td>\n",
       "      <td>False</td>\n",
       "      <td>20210114</td>\n",
       "      <td>REPUBLICAN</td>\n",
       "      <td>True</td>\n",
       "    </tr>\n",
       "    <tr>\n",
       "      <th>14</th>\n",
       "      <td>2016</td>\n",
       "      <td>ARKANSAS</td>\n",
       "      <td>AR</td>\n",
       "      <td>5</td>\n",
       "      <td>71</td>\n",
       "      <td>42</td>\n",
       "      <td>US SENATE</td>\n",
       "      <td>statewide</td>\n",
       "      <td>gen</td>\n",
       "      <td>False</td>\n",
       "      <td>JOHN BOOZMAN</td>\n",
       "      <td>REPUBLICAN</td>\n",
       "      <td>False</td>\n",
       "      <td>total</td>\n",
       "      <td>661984</td>\n",
       "      <td>1107522</td>\n",
       "      <td>False</td>\n",
       "      <td>20210114</td>\n",
       "      <td>REPUBLICAN</td>\n",
       "      <td>True</td>\n",
       "    </tr>\n",
       "    <tr>\n",
       "      <th>18</th>\n",
       "      <td>2016</td>\n",
       "      <td>CALIFORNIA</td>\n",
       "      <td>CA</td>\n",
       "      <td>6</td>\n",
       "      <td>93</td>\n",
       "      <td>71</td>\n",
       "      <td>US SENATE</td>\n",
       "      <td>statewide</td>\n",
       "      <td>gen</td>\n",
       "      <td>False</td>\n",
       "      <td>KAMALA D. HARRIS</td>\n",
       "      <td>DEMOCRAT</td>\n",
       "      <td>False</td>\n",
       "      <td>total</td>\n",
       "      <td>7542753</td>\n",
       "      <td>12244170</td>\n",
       "      <td>False</td>\n",
       "      <td>20210114</td>\n",
       "      <td>DEMOCRAT</td>\n",
       "      <td>True</td>\n",
       "    </tr>\n",
       "  </tbody>\n",
       "</table>\n",
       "</div>"
      ],
      "text/plain": [
       "    year       state state_po  state_fips  state_cen  state_ic     office  \\\n",
       "1   2016     ALABAMA       AL           1         63        41  US SENATE   \n",
       "7   2016      ALASKA       AK           2         94        81  US SENATE   \n",
       "12  2016     ARIZONA       AZ           4         86        61  US SENATE   \n",
       "14  2016    ARKANSAS       AR           5         71        42  US SENATE   \n",
       "18  2016  CALIFORNIA       CA           6         93        71  US SENATE   \n",
       "\n",
       "     district stage  special          candidate party_detailed  writein  \\\n",
       "1   statewide   gen    False  RICHARD C. SHELBY     REPUBLICAN    False   \n",
       "7   statewide   gen    False     LISA MURKOWSKI     REPUBLICAN    False   \n",
       "12  statewide   gen    False        JOHN MCCAIN     REPUBLICAN    False   \n",
       "14  statewide   gen    False       JOHN BOOZMAN     REPUBLICAN    False   \n",
       "18  statewide   gen    False   KAMALA D. HARRIS       DEMOCRAT    False   \n",
       "\n",
       "     mode  candidatevotes  totalvotes  unofficial   version party_simplified  \\\n",
       "1   total         1335104     2087444       False  20210114       REPUBLICAN   \n",
       "7   total          138149      311441       False  20210114       REPUBLICAN   \n",
       "12  total         1359267     2530730       False  20210114       REPUBLICAN   \n",
       "14  total          661984     1107522       False  20210114       REPUBLICAN   \n",
       "18  total         7542753    12244170       False  20210114         DEMOCRAT   \n",
       "\n",
       "    is_winner  \n",
       "1        True  \n",
       "7        True  \n",
       "12       True  \n",
       "14       True  \n",
       "18       True  "
      ]
     },
     "execution_count": 106,
     "metadata": {},
     "output_type": "execute_result"
    }
   ],
   "source": [
    "# Add 'is_winner' feature\n",
    "candidate_info['is_winner'] = False\n",
    "candidate_info.loc[candidate_info.groupby(['year', 'state'])['candidatevotes'].idxmax(), 'is_winner'] = True\n",
    "candidate_info[candidate_info['is_winner'] == True].head(5) # we display 5 winners"
   ]
  },
  {
   "cell_type": "markdown",
   "id": "7752d793",
   "metadata": {},
   "source": [
    "We notice that the dataset also contains situation in which more than one senate are elected in a state in the same year (such situations are officialy called special senate election in the U.S.). To find these special elections, we check whether the sum of candidate votes exceed the total number of votes. "
   ]
  },
  {
   "cell_type": "code",
   "execution_count": 107,
   "id": "58bec1cc",
   "metadata": {},
   "outputs": [
    {
     "data": {
      "text/plain": [
       "year  state      \n",
       "2018  MINNESOTA      False\n",
       "      MISSISSIPPI    False\n",
       "2020  GEORGIA        False\n",
       "dtype: bool"
      ]
     },
     "execution_count": 107,
     "metadata": {},
     "output_type": "execute_result"
    }
   ],
   "source": [
    "# Find the special situations\n",
    "sanity = candidate_info.groupby(['year', 'state'])['candidatevotes'].sum() <= candidate_info.groupby(['year', 'state'])['totalvotes'].mean()\n",
    "sanity[sanity == False]"
   ]
  },
  {
   "cell_type": "markdown",
   "id": "3e9ffeca",
   "metadata": {},
   "source": [
    "After manually looking at the dataset, we find two more winners: Tina Smith in 2018 Minnesota election and Cindy Hyde-Smith in 2018 MIssissippi election. The 2020 Georgia election held an additional runoff in 2021, in which Jon Ossof actually won the election. However, since QuoteBank only contains citations before April 2020, the data cannot reflect quotation changes before elections. We have decided not to include elections happening since 2020. So, we just add the two previously overlooked winners."
   ]
  },
  {
   "cell_type": "code",
   "execution_count": 108,
   "id": "4e551509",
   "metadata": {},
   "outputs": [],
   "source": [
    "# Add winners in special elections\n",
    "candidate_info.loc[candidate_info['candidate'] == 'TINA SMITH','is_winner'] = True\n",
    "candidate_info.loc[candidate_info['candidate'] == 'CINDY HYDE-SMITH','is_winner'] = True"
   ]
  },
  {
   "cell_type": "markdown",
   "id": "680e8130",
   "metadata": {},
   "source": [
    "**4.2:** we now generate features by concatenating the monthly discretized quotation data (defined in clustering section above) and affiliated party information (defined below)"
   ]
  },
  {
   "cell_type": "markdown",
   "id": "8ca88b18",
   "metadata": {},
   "source": [
    "Since affiliated party plays an important role in election, we  include the party affiliation of each candidate. For senate elction in each state, we also consider the affiliated party's vote rate in the most recent presidential election. Since we are looking at the senate election from 2016 to 2029, we will use the 2016 presidential election data.\n",
    "\n",
    "The presidential election data also comes from the MIT Election Data and Science Lab[2]. It contains the presidential election voting result by each state.\n",
    "\n",
    "[2]MIT Election Data and Science Lab, 2017, \"U.S. President 1976–2020\", https://doi.org/10.7910/DVN/42MVDX, Harvard Dataverse, V6."
   ]
  },
  {
   "cell_type": "code",
   "execution_count": 109,
   "id": "0d054640",
   "metadata": {},
   "outputs": [
    {
     "data": {
      "text/html": [
       "<div>\n",
       "<style scoped>\n",
       "    .dataframe tbody tr th:only-of-type {\n",
       "        vertical-align: middle;\n",
       "    }\n",
       "\n",
       "    .dataframe tbody tr th {\n",
       "        vertical-align: top;\n",
       "    }\n",
       "\n",
       "    .dataframe thead th {\n",
       "        text-align: right;\n",
       "    }\n",
       "</style>\n",
       "<table border=\"1\" class=\"dataframe\">\n",
       "  <thead>\n",
       "    <tr style=\"text-align: right;\">\n",
       "      <th></th>\n",
       "      <th>year</th>\n",
       "      <th>state</th>\n",
       "      <th>state_po</th>\n",
       "      <th>state_fips</th>\n",
       "      <th>state_cen</th>\n",
       "      <th>state_ic</th>\n",
       "      <th>office</th>\n",
       "      <th>candidate</th>\n",
       "      <th>party_detailed</th>\n",
       "      <th>writein</th>\n",
       "      <th>candidatevotes</th>\n",
       "      <th>totalvotes</th>\n",
       "      <th>version</th>\n",
       "      <th>notes</th>\n",
       "      <th>party_simplified</th>\n",
       "    </tr>\n",
       "  </thead>\n",
       "  <tbody>\n",
       "    <tr>\n",
       "      <th>3631</th>\n",
       "      <td>2016</td>\n",
       "      <td>NEW YORK</td>\n",
       "      <td>NY</td>\n",
       "      <td>36</td>\n",
       "      <td>21</td>\n",
       "      <td>13</td>\n",
       "      <td>US PRESIDENT</td>\n",
       "      <td>NaN</td>\n",
       "      <td>NaN</td>\n",
       "      <td>True</td>\n",
       "      <td>12816</td>\n",
       "      <td>7802084</td>\n",
       "      <td>20210113</td>\n",
       "      <td>NaN</td>\n",
       "      <td>OTHER</td>\n",
       "    </tr>\n",
       "    <tr>\n",
       "      <th>3624</th>\n",
       "      <td>2016</td>\n",
       "      <td>NEW YORK</td>\n",
       "      <td>NY</td>\n",
       "      <td>36</td>\n",
       "      <td>21</td>\n",
       "      <td>13</td>\n",
       "      <td>US PRESIDENT</td>\n",
       "      <td>CLINTON, HILLARY</td>\n",
       "      <td>WORKING FAMILIES</td>\n",
       "      <td>False</td>\n",
       "      <td>140041</td>\n",
       "      <td>7802084</td>\n",
       "      <td>20210113</td>\n",
       "      <td>NaN</td>\n",
       "      <td>OTHER</td>\n",
       "    </tr>\n",
       "    <tr>\n",
       "      <th>3703</th>\n",
       "      <td>2016</td>\n",
       "      <td>VERMONT</td>\n",
       "      <td>VT</td>\n",
       "      <td>50</td>\n",
       "      <td>13</td>\n",
       "      <td>6</td>\n",
       "      <td>US PRESIDENT</td>\n",
       "      <td>LA RIVA, GLORIA ESTELLA</td>\n",
       "      <td>LIBERTY UNION PARTY</td>\n",
       "      <td>False</td>\n",
       "      <td>327</td>\n",
       "      <td>320467</td>\n",
       "      <td>20210113</td>\n",
       "      <td>NaN</td>\n",
       "      <td>OTHER</td>\n",
       "    </tr>\n",
       "    <tr>\n",
       "      <th>3456</th>\n",
       "      <td>2016</td>\n",
       "      <td>DELAWARE</td>\n",
       "      <td>DE</td>\n",
       "      <td>10</td>\n",
       "      <td>51</td>\n",
       "      <td>11</td>\n",
       "      <td>US PRESIDENT</td>\n",
       "      <td>CLINTON, HILLARY</td>\n",
       "      <td>DEMOCRAT</td>\n",
       "      <td>False</td>\n",
       "      <td>235603</td>\n",
       "      <td>441590</td>\n",
       "      <td>20210113</td>\n",
       "      <td>NaN</td>\n",
       "      <td>DEMOCRAT</td>\n",
       "    </tr>\n",
       "  </tbody>\n",
       "</table>\n",
       "</div>"
      ],
      "text/plain": [
       "      year     state state_po  state_fips  state_cen  state_ic        office  \\\n",
       "3631  2016  NEW YORK       NY          36         21        13  US PRESIDENT   \n",
       "3624  2016  NEW YORK       NY          36         21        13  US PRESIDENT   \n",
       "3703  2016   VERMONT       VT          50         13         6  US PRESIDENT   \n",
       "3456  2016  DELAWARE       DE          10         51        11  US PRESIDENT   \n",
       "\n",
       "                    candidate       party_detailed writein  candidatevotes  \\\n",
       "3631                      NaN                  NaN    True           12816   \n",
       "3624         CLINTON, HILLARY     WORKING FAMILIES   False          140041   \n",
       "3703  LA RIVA, GLORIA ESTELLA  LIBERTY UNION PARTY   False             327   \n",
       "3456         CLINTON, HILLARY             DEMOCRAT   False          235603   \n",
       "\n",
       "      totalvotes   version  notes party_simplified  \n",
       "3631     7802084  20210113    NaN            OTHER  \n",
       "3624     7802084  20210113    NaN            OTHER  \n",
       "3703      320467  20210113    NaN            OTHER  \n",
       "3456      441590  20210113    NaN         DEMOCRAT  "
      ]
     },
     "execution_count": 109,
     "metadata": {},
     "output_type": "execute_result"
    }
   ],
   "source": [
    "# We load 2016 result separately\n",
    "president = pd.read_csv('SenateData/1976-2020-president.csv')\n",
    "president16 = president[president['year'] == 2016].copy()\n",
    "president16.sample(4) #display format of president election data"
   ]
  },
  {
   "cell_type": "code",
   "execution_count": 110,
   "id": "84a8ea82",
   "metadata": {},
   "outputs": [
    {
     "data": {
      "text/plain": [
       "state      party_simplified\n",
       "ALABAMA    DEMOCRAT            0.343579\n",
       "           LIBERTARIAN         0.020942\n",
       "           OTHER               0.014648\n",
       "           REPUBLICAN          0.620831\n",
       "ALASKA     DEMOCRAT            0.365509\n",
       "                                 ...   \n",
       "WISCONSIN  REPUBLICAN          0.472182\n",
       "WYOMING    DEMOCRAT            0.216289\n",
       "           LIBERTARIAN         0.051343\n",
       "           OTHER               0.058384\n",
       "           REPUBLICAN          0.673984\n",
       "Name: vote_rate, Length: 201, dtype: float64"
      ]
     },
     "execution_count": 110,
     "metadata": {},
     "output_type": "execute_result"
    }
   ],
   "source": [
    "# We add vote rate to each candidate in each state\n",
    "president16['vote_rate'] = president16['candidatevotes']/president16['totalvotes']\n",
    "# We group the data by states and party_simplified (represent small parties, independent, NaN all by 'Others'). \n",
    "# We take sum of vote rates of cadidates from the same party_simplified\n",
    "vote_byparty16 = president16.groupby(['state', 'party_simplified'])['vote_rate'].sum()\n",
    "vote_byparty16"
   ]
  },
  {
   "cell_type": "code",
   "execution_count": 111,
   "id": "6ede7665",
   "metadata": {},
   "outputs": [
    {
     "data": {
      "text/html": [
       "<div>\n",
       "<style scoped>\n",
       "    .dataframe tbody tr th:only-of-type {\n",
       "        vertical-align: middle;\n",
       "    }\n",
       "\n",
       "    .dataframe tbody tr th {\n",
       "        vertical-align: top;\n",
       "    }\n",
       "\n",
       "    .dataframe thead th {\n",
       "        text-align: right;\n",
       "    }\n",
       "</style>\n",
       "<table border=\"1\" class=\"dataframe\">\n",
       "  <thead>\n",
       "    <tr style=\"text-align: right;\">\n",
       "      <th></th>\n",
       "      <th>party_simplified</th>\n",
       "      <th>party_vote_rate</th>\n",
       "    </tr>\n",
       "    <tr>\n",
       "      <th>candidate</th>\n",
       "      <th></th>\n",
       "      <th></th>\n",
       "    </tr>\n",
       "  </thead>\n",
       "  <tbody>\n",
       "    <tr>\n",
       "      <th>MATT J. WATERS</th>\n",
       "      <td>LIBERTARIAN</td>\n",
       "      <td>0.029697</td>\n",
       "    </tr>\n",
       "    <tr>\n",
       "      <th>JAY WILLIAMS</th>\n",
       "      <td>DEMOCRAT</td>\n",
       "      <td>0.317374</td>\n",
       "    </tr>\n",
       "    <tr>\n",
       "      <th>TIM SCOTT</th>\n",
       "      <td>REPUBLICAN</td>\n",
       "      <td>0.549393</td>\n",
       "    </tr>\n",
       "    <tr>\n",
       "      <th>PATTY MURRAY</th>\n",
       "      <td>DEMOCRAT</td>\n",
       "      <td>0.525387</td>\n",
       "    </tr>\n",
       "    <tr>\n",
       "      <th>DARRYL GLENN</th>\n",
       "      <td>REPUBLICAN</td>\n",
       "      <td>0.432514</td>\n",
       "    </tr>\n",
       "  </tbody>\n",
       "</table>\n",
       "</div>"
      ],
      "text/plain": [
       "               party_simplified  party_vote_rate\n",
       "candidate                                       \n",
       "MATT J. WATERS      LIBERTARIAN         0.029697\n",
       "JAY WILLIAMS           DEMOCRAT         0.317374\n",
       "TIM SCOTT            REPUBLICAN         0.549393\n",
       "PATTY MURRAY           DEMOCRAT         0.525387\n",
       "DARRYL GLENN         REPUBLICAN         0.432514"
      ]
     },
     "execution_count": 111,
     "metadata": {},
     "output_type": "execute_result"
    }
   ],
   "source": [
    "# We create feature dataframe and add in party_simplified, party vote rate in most recent presidential election, and final vote rate\n",
    "# If the senate candidate's affiliated party does not show up in the most recent president election, party_vote_rate is 0\n",
    "party_features = candidate_info_byname[['party_simplified']].copy()\n",
    "for name in party_features.index:\n",
    "    state_ = candidate_info_byname.loc[name, 'state']\n",
    "    party_ = candidate_info_byname.loc[name, 'party_simplified']\n",
    "    if party_ in vote_byparty16[state_].index:  #check whether the affiliated party is in recent president election\n",
    "        party_features.loc[name, 'party_vote_rate'] = vote_byparty16[state_][party_]\n",
    "    else: \n",
    "        party_features.loc[name, 'party_vote_rate'] = 0\n",
    "        \n",
    "party_features.sample(5)"
   ]
  },
  {
   "cell_type": "code",
   "execution_count": 112,
   "id": "99f95b9e",
   "metadata": {},
   "outputs": [
    {
     "name": "stdout",
     "output_type": "stream",
     "text": [
      "we have feature vectors from 171 candidates, each with dimension 11\n"
     ]
    }
   ],
   "source": [
    "# We get the candidates used for model and extract the vector corresponding to affliated party's performance in last election\n",
    "candidates_model = candidate_quotes_cluster_feature_filted.T.index\n",
    "party_vote_model = party_features.loc[candidates_model].party_vote_rate\n",
    "# We then concatenate this vector to our model\n",
    "features = np.concatenate((candidate_feature_vectors_sum, party_vote_model.to_numpy()[:, np.newaxis]), axis=1)\n",
    "print('we have feature vectors from {} candidates, each with dimension {}'.format(features.shape[0], features.shape[1]))"
   ]
  },
  {
   "cell_type": "code",
   "execution_count": 113,
   "id": "50768214",
   "metadata": {},
   "outputs": [
    {
     "name": "stdout",
     "output_type": "stream",
     "text": [
      "we have 68 winner candidates and 103 loser candidate\n"
     ]
    }
   ],
   "source": [
    "# we also obtain the corresponding labels, with 0 meaning lose and 1 meaning win\n",
    "labels = candidate_info.set_index('candidate').loc[candidates_model].is_winner.astype(int).to_numpy()\n",
    "print('we have {} winner candidates and {} loser candidate'.format(sum(labels), len(labels) - sum(labels)))\n"
   ]
  },
  {
   "cell_type": "code",
   "execution_count": 114,
   "id": "7da278ff",
   "metadata": {},
   "outputs": [
    {
     "name": "stdout",
     "output_type": "stream",
     "text": [
      "we have 128 training data and 43 test data\n"
     ]
    }
   ],
   "source": [
    "# This helps split the data if we want to split train and test\n",
    "from sklearn.model_selection import train_test_split\n",
    "X_train, X_test, y_train, y_test = train_test_split(features, labels, test_size=0.25, random_state=123)\n",
    "print('we have {} training data and {} test data'.format(len(y_train), len(y_test)))"
   ]
  },
  {
   "cell_type": "markdown",
   "id": "47a07ffb",
   "metadata": {},
   "source": [
    "**4.3:** We build a Logistic Regression Model to predict the result"
   ]
  },
  {
   "cell_type": "code",
   "execution_count": 115,
   "id": "be8a56dd",
   "metadata": {},
   "outputs": [],
   "source": [
    "from sklearn.linear_model import LogisticRegression\n",
    "from sklearn.model_selection import cross_val_predict, cross_val_score\n",
    "from sklearn.metrics import accuracy_score, f1_score"
   ]
  },
  {
   "cell_type": "markdown",
   "id": "b7cfc3c5",
   "metadata": {},
   "source": [
    "We use 5-fold cross-validation on the whole dataset, to see how well logistic regression can perform on training set."
   ]
  },
  {
   "cell_type": "code",
   "execution_count": 78,
   "id": "38cbe6f0",
   "metadata": {},
   "outputs": [
    {
     "name": "stdout",
     "output_type": "stream",
     "text": [
      "Cross-Validated Training Precision: 0.72 (+/- 0.22)\n",
      "Cross-Validated Training Recall: 0.43 (+/- 0.20)\n"
     ]
    }
   ],
   "source": [
    "logistic = LogisticRegression(solver='lbfgs')\n",
    "precision = cross_val_score(logistic, X_train, y_train, cv=5, scoring=\"precision\")\n",
    "recall = cross_val_score(logistic, X_train, y_train, cv=5, scoring=\"recall\")\n",
    "# Precision: avoid false positives\n",
    "print(\"Cross-Validated Training Precision: %0.2f (+/- %0.2f)\" % (precision.mean(), precision.std() * 2))\n",
    "# Recall: avoid false negatives\n",
    "print(\"Cross-Validated Training Recall: %0.2f (+/- %0.2f)\" % (recall.mean(), recall.std() * 2))"
   ]
  },
  {
   "cell_type": "markdown",
   "id": "0a1fef99",
   "metadata": {},
   "source": [
    "Then, we train the logistic regression on the traing dataset and predict the test dataset"
   ]
  },
  {
   "cell_type": "code",
   "execution_count": 79,
   "id": "25de09bc",
   "metadata": {},
   "outputs": [
    {
     "name": "stdout",
     "output_type": "stream",
     "text": [
      "On the test dataset, we obtain accuracy 0.7441860465116279 and f1 score 0.6666666666666666\n"
     ]
    }
   ],
   "source": [
    "logistic = LogisticRegression(solver='lbfgs')\n",
    "logistic.fit(X_train, y_train) # train the model\n",
    "y_preds = logistic.predict(X_test)\n",
    "accuracy = accuracy_score(y_test, y_preds)\n",
    "f1 = f1_score(y_test, y_preds)\n",
    "print(\"On the test dataset, we obtain accuracy {} and f1 score {}\".format(accuracy, f1))"
   ]
  },
  {
   "cell_type": "markdown",
   "id": "2da3fd18",
   "metadata": {},
   "source": [
    "We then apply the XGBoost. "
   ]
  },
  {
   "cell_type": "code",
   "execution_count": 128,
   "id": "1b34af76",
   "metadata": {},
   "outputs": [
    {
     "name": "stdout",
     "output_type": "stream",
     "text": [
      "Cross-Validated Training Precision: 0.73 (+/- 0.35)\n",
      "Cross-Validated Training Recall: 0.69 (+/- 0.23)\n"
     ]
    }
   ],
   "source": [
    "# logistic = LogisticRegression(solver='lbfgs')\n",
    "clf = xgb.XGBClassifier(\n",
    "    n_estimators=100,\n",
    "    reg_lambda=0.5,\n",
    "    gamma=1,\n",
    "    max_depth=1,\n",
    "    use_label_encoder=False,\n",
    "    eval_metric='mlogloss'\n",
    ")\n",
    "precision = cross_val_score(clf, X_train, y_train, cv=5, scoring=\"precision\")\n",
    "recall = cross_val_score(clf, X_train, y_train, cv=5, scoring=\"recall\")\n",
    "# Precision: avoid false positives\n",
    "print(\"Cross-Validated Training Precision: %0.2f (+/- %0.2f)\" % (precision.mean(), precision.std() * 2))\n",
    "# Recall: avoid false negatives\n",
    "print(\"Cross-Validated Training Recall: %0.2f (+/- %0.2f)\" % (recall.mean(), recall.std() * 2))"
   ]
  },
  {
   "cell_type": "code",
   "execution_count": 129,
   "id": "863245c7",
   "metadata": {},
   "outputs": [
    {
     "name": "stdout",
     "output_type": "stream",
     "text": [
      "On the test dataset, we obtain accuracy 0.9069767441860465 and f1 score 0.9\n"
     ]
    }
   ],
   "source": [
    "import xgboost as xgb\n",
    "# read in data\n",
    "clf.fit(X_train, y_train)\n",
    "y_preds = clf.predict(X_test)\n",
    "accuracy = accuracy_score(y_test, y_preds)\n",
    "f1 = f1_score(y_test, y_preds)\n",
    "print(\"On the test dataset, we obtain accuracy {} and f1 score {}\".format(accuracy, f1))"
   ]
  },
  {
   "cell_type": "markdown",
   "id": "de0b4e76",
   "metadata": {
    "jp-MarkdownHeadingCollapsed": true,
    "tags": []
   },
   "source": [
    "# 5. Sentiment Analysis"
   ]
  },
  {
   "cell_type": "code",
   "execution_count": 80,
   "id": "241cd01f",
   "metadata": {},
   "outputs": [],
   "source": [
    "# Obtain quotation's sentiment toward mentioned candidates\n",
    "import bz2\n",
    "import json\n",
    "from vaderSentiment.vaderSentiment import SentimentIntensityAnalyzer\n",
    "import pickle\n",
    "analyzer = SentimentIntensityAnalyzer()\n",
    "from collections import defaultdict\n",
    "\n",
    "\n",
    "senate_candidates = list(map(lambda x:x.title(), senate_candidates))\n",
    "senate_candidates_sentiment = defaultdict(list)\n",
    "\n",
    "#candidate_quotes_mention = pd.read_pickle('SenateData/candidate_quotes_mention.pkl') \n",
    "# The above line was used to load previously stored mention data, no need to run it if you have run the above cells\n",
    "candidate_quotes_mention['quotation_score'] =  candidate_quotes_mention.apply(lambda x: analyzer.polarity_scores(x['quotation'])['compound'], axis=1)\n",
    "scale = candidate_quotes_mention['normalize_factor'].max() \n",
    "# we will divide the above scale factor when normalizing sentiment, to make sure the normalized sentimate still range from -1 to 1\n",
    "candidate_quotes_mention['normalize_quotation_score'] = candidate_quotes_mention['quotation_score']*(candidate_quotes_mention['normalize_factor']/scale)\n",
    "for index, instance in candidate_quotes_mention.iterrows():\n",
    "    senate_candidates_sentiment[instance['mention']].append((instance['date'].date(), instance['quotation_score']))\n",
    "\n",
    "# The function to extract sentiment of the sentence\n",
    "def obtain_mean_sentiment(sentiment_list, time_span=None):\n",
    "    # sentiment_list consists of (date, sentiment), we obtain mean sentiment in each timespan\n",
    "    # time span (date_lower: str, date upper: str) \n",
    "    if time_span is None:\n",
    "        return sum(map(lambda x: x[1], sentiment_list)) / len(sentiment_list)\n",
    "    date_start=pd.to_datetime(time_span[0], format='%Y-%m-%d') \n",
    "    date_end=pd.to_datetime(time_span[1], format='%Y-%m-%d')\n",
    "    filtered_sentiment_list = list(filter(lambda x: date_start <= pd.to_datetime(x[0], format='%Y-%m-%d')  < date_end, sentiment_list))\n",
    "    return sum(map(lambda x: x[1], filtered_sentiment_list)) / max(len(filtered_sentiment_list),1)"
   ]
  },
  {
   "cell_type": "markdown",
   "id": "4a532eb5",
   "metadata": {},
   "source": [
    "We can visualize the sentiment changes toward each candidate over time. We take Bernie Sanders as an example."
   ]
  },
  {
   "cell_type": "code",
   "execution_count": 81,
   "id": "42981a07",
   "metadata": {},
   "outputs": [
    {
     "data": {
      "text/plain": [
       "Text(0.5, 1.0, 'Bernie Sanders')"
      ]
     },
     "execution_count": 81,
     "metadata": {},
     "output_type": "execute_result"
    },
    {
     "data": {
      "image/png": "[encoded data removed]",
      "text/plain": [
       "<Figure size 432x288 with 1 Axes>"
      ]
     },
     "metadata": {
      "needs_background": "light"
     },
     "output_type": "display_data"
    }
   ],
   "source": [
    "# Group sentiment scores by candidates and dates, average the score in each day\n",
    "candidate_senti_byday = candidate_quotes_mention.groupby(['mention', 'date_only'])['normalize_quotation_score'].mean()\n",
    "# Visualize the sentiment change of Bernie Sanders\n",
    "candidate_senti_byday['BERNIE SANDERS'].rolling(window=30).mean().plot() # we take monthly average for better display\n",
    "plt.xlabel('time')\n",
    "plt.ylabel('Sentiment Score (monthly average)')\n",
    "plt.title('Bernie Sanders')"
   ]
  },
  {
   "cell_type": "markdown",
   "id": "5362af72",
   "metadata": {},
   "source": [
    "We then look at the average sentiment toward each candidate within a year before the election. We can compare this to the final vote rate, so that we know whether the sentiment displayed in quotations reflect support rate."
   ]
  },
  {
   "cell_type": "code",
   "execution_count": 82,
   "id": "0a9159ac",
   "metadata": {},
   "outputs": [],
   "source": [
    "# We group the quotations within 1 year before election day\n",
    "quotes_byelection = candidate_quotes_mention[candidate_quotes_mention['date_only'] < candidate_quotes_mention['election_day']]\n",
    "start_date = pd.to_datetime(quotes_byelection ['mention'].map(candidate_info_byname['year'] - 1).astype(str)+ '-11-01') # start date 1 yr before election\n",
    "quotes_byelection = quotes_byelection[quotes_byelection['date_only'] > start_date] # all quotes within 1 year before election\n",
    "# We compute the mean sentiment within that year\n",
    "senti_byelection = pd.DataFrame(quotes_byelection.groupby(['mention'])['normalize_quotation_score'].mean())\n",
    "senti_byelection.rename(columns = {'normalize_quotation_score': 'mean_sentiment_byelection'}, inplace=True)\n"
   ]
  },
  {
   "cell_type": "code",
   "execution_count": 83,
   "id": "bebcfadb",
   "metadata": {},
   "outputs": [
    {
     "name": "stdout",
     "output_type": "stream",
     "text": [
      "Pearson coefficient: -0.10998685465657197, p value: 0.09323745970762687\n"
     ]
    },
    {
     "data": {
      "image/png": "[encoded data removed]",
      "text/plain": [
       "<Figure size 432x288 with 1 Axes>"
      ]
     },
     "metadata": {
      "needs_background": "light"
     },
     "output_type": "display_data"
    }
   ],
   "source": [
    "# We add the vote rate and plot the scatter plot of vote rate against total quotes by election\n",
    "senti_byelection['vote_rate'] = senti_byelection.index.map(candidate_info_byname['vote_rate'])\n",
    "\n",
    "# linear regression\n",
    "senti_vote = senti_byelection.plot.scatter(x = 'mean_sentiment_byelection', y = 'vote_rate', logx=True)\n",
    "(corr1, pvalue) = pearsonr(senti_byelection['mean_sentiment_byelection'], senti_byelection['vote_rate'])\n",
    "print(f'Pearson coefficient: {corr1}, p value: {pvalue}')"
   ]
  },
  {
   "cell_type": "markdown",
   "id": "86104964",
   "metadata": {},
   "source": [
    "There is no significant (p-value > 0.05) correlation between the sentiment in quotes and final vote rate!"
   ]
  },
  {
   "cell_type": "markdown",
   "id": "fdfb9a52",
   "metadata": {
    "jp-MarkdownHeadingCollapsed": true,
    "tags": []
   },
   "source": [
    "## 3. Features for Prediction Model (This is the OLD CODE)\n",
    "In the proposal, we decide to build a model predicting election results based on quotation data. Here, we preprocess the quote data and candidate data to generate the features for training our model.\n",
    "\n",
    "The first feature is the change of quotation number over time. We will also use this for clustering analysis in proposed question 3."
   ]
  },
  {
   "cell_type": "code",
   "execution_count": null,
   "id": "7a550200",
   "metadata": {},
   "outputs": [],
   "source": [
    "date_start=pd.to_datetime('2015-01-01', format='%Y-%m-%d') \n",
    "all_date = (pd.to_datetime('2020-12-31', format='%Y-%m-%d') - date_start).days # number of days.\n",
    "candidate_quotes_name = candidate_quotes_byday.index.map(lambda x:x[0]).drop_duplicates()\n",
    "candidate_quotes_feature = pd.DataFrame(np.zeros([all_date,len(candidate_quotes_name)]), columns=candidate_quotes_name) # initialize frequency vector\n",
    "\n",
    "for candidate in candidate_quotes_name:\n",
    "    candidate_mention = candidate_quotes_byday[candidate]\n",
    "    for date in candidate_mention.index:\n",
    "        date2days = (pd.to_datetime(date, format='%Y-%m-%d') - date_start).days # convert date to num of days w.r.t. start date\n",
    "        candidate_quotes_feature[candidate].iloc[date2days] = candidate_mention.loc[date]"
   ]
  },
  {
   "cell_type": "code",
   "execution_count": 84,
   "id": "f5fda582-1c44-4dd5-8678-8915cc5d3328",
   "metadata": {},
   "outputs": [
    {
     "data": {
      "text/plain": [
       "speaker           date_only \n",
       "A. WAYNE JOHNSON  2015-01-06    0.601997\n",
       "                  2015-02-09    0.602585\n",
       "                  2015-02-11    1.205169\n",
       "                  2015-02-20    0.602585\n",
       "                  2015-03-01    0.535357\n",
       "                                  ...   \n",
       "ZAK RINGELSTEIN   2018-10-30    5.125275\n",
       "                  2018-11-01    2.381878\n",
       "                  2018-11-05    0.476376\n",
       "                  2018-11-07    0.476376\n",
       "                  2019-03-21    0.503878\n",
       "Name: normalize_quotes, Length: 136070, dtype: float64"
      ]
     },
     "execution_count": 84,
     "metadata": {},
     "output_type": "execute_result"
    }
   ],
   "source": [
    "candidate_quotes_byday"
   ]
  },
  {
   "cell_type": "markdown",
   "id": "0e62d3a6",
   "metadata": {},
   "source": [
    "We also include the party affiliation of each candidate. Moreover, we also consider the affiliated party's vote rate in the most recent presidential election. Since we are looking at the election from 2016 to 2021, we will use the 2016 presidential election data for the senate election from 2016 to 2019, and use the 2020 presidential election data for the senate election from 2020 to 2021.\n",
    "\n",
    "The presidential election data also comes from the MIT Election Data and Science Lab[2]. It contains the presidential election voting result by each state.\n",
    "\n",
    "[2]MIT Election Data and Science Lab, 2017, \"U.S. President 1976–2020\", https://doi.org/10.7910/DVN/42MVDX, Harvard Dataverse, V6."
   ]
  },
  {
   "cell_type": "code",
   "execution_count": 85,
   "id": "9d307c4a",
   "metadata": {},
   "outputs": [
    {
     "data": {
      "text/html": [
       "<div>\n",
       "<style scoped>\n",
       "    .dataframe tbody tr th:only-of-type {\n",
       "        vertical-align: middle;\n",
       "    }\n",
       "\n",
       "    .dataframe tbody tr th {\n",
       "        vertical-align: top;\n",
       "    }\n",
       "\n",
       "    .dataframe thead th {\n",
       "        text-align: right;\n",
       "    }\n",
       "</style>\n",
       "<table border=\"1\" class=\"dataframe\">\n",
       "  <thead>\n",
       "    <tr style=\"text-align: right;\">\n",
       "      <th></th>\n",
       "      <th>year</th>\n",
       "      <th>state</th>\n",
       "      <th>state_po</th>\n",
       "      <th>state_fips</th>\n",
       "      <th>state_cen</th>\n",
       "      <th>state_ic</th>\n",
       "      <th>office</th>\n",
       "      <th>candidate</th>\n",
       "      <th>party_detailed</th>\n",
       "      <th>writein</th>\n",
       "      <th>candidatevotes</th>\n",
       "      <th>totalvotes</th>\n",
       "      <th>version</th>\n",
       "      <th>notes</th>\n",
       "      <th>party_simplified</th>\n",
       "    </tr>\n",
       "  </thead>\n",
       "  <tbody>\n",
       "    <tr>\n",
       "      <th>3432</th>\n",
       "      <td>2016</td>\n",
       "      <td>COLORADO</td>\n",
       "      <td>CO</td>\n",
       "      <td>8</td>\n",
       "      <td>84</td>\n",
       "      <td>62</td>\n",
       "      <td>US PRESIDENT</td>\n",
       "      <td>TRUMP, DONALD J.</td>\n",
       "      <td>REPUBLICAN</td>\n",
       "      <td>False</td>\n",
       "      <td>1202484</td>\n",
       "      <td>2780220</td>\n",
       "      <td>20210113</td>\n",
       "      <td>NaN</td>\n",
       "      <td>REPUBLICAN</td>\n",
       "    </tr>\n",
       "    <tr>\n",
       "      <th>3652</th>\n",
       "      <td>2016</td>\n",
       "      <td>OKLAHOMA</td>\n",
       "      <td>OK</td>\n",
       "      <td>40</td>\n",
       "      <td>73</td>\n",
       "      <td>53</td>\n",
       "      <td>US PRESIDENT</td>\n",
       "      <td>JOHNSON, GARY</td>\n",
       "      <td>LIBERTARIAN</td>\n",
       "      <td>False</td>\n",
       "      <td>83481</td>\n",
       "      <td>1452992</td>\n",
       "      <td>20210113</td>\n",
       "      <td>NaN</td>\n",
       "      <td>LIBERTARIAN</td>\n",
       "    </tr>\n",
       "    <tr>\n",
       "      <th>3636</th>\n",
       "      <td>2016</td>\n",
       "      <td>NORTH CAROLINA</td>\n",
       "      <td>NC</td>\n",
       "      <td>37</td>\n",
       "      <td>56</td>\n",
       "      <td>47</td>\n",
       "      <td>US PRESIDENT</td>\n",
       "      <td>SCATTERING</td>\n",
       "      <td>NaN</td>\n",
       "      <td>True</td>\n",
       "      <td>47386</td>\n",
       "      <td>4741564</td>\n",
       "      <td>20210113</td>\n",
       "      <td>NaN</td>\n",
       "      <td>OTHER</td>\n",
       "    </tr>\n",
       "    <tr>\n",
       "      <th>3534</th>\n",
       "      <td>2016</td>\n",
       "      <td>MAINE</td>\n",
       "      <td>ME</td>\n",
       "      <td>23</td>\n",
       "      <td>11</td>\n",
       "      <td>2</td>\n",
       "      <td>US PRESIDENT</td>\n",
       "      <td>NaN</td>\n",
       "      <td>UNENROLLED</td>\n",
       "      <td>False</td>\n",
       "      <td>2243</td>\n",
       "      <td>771892</td>\n",
       "      <td>20210113</td>\n",
       "      <td>NaN</td>\n",
       "      <td>OTHER</td>\n",
       "    </tr>\n",
       "  </tbody>\n",
       "</table>\n",
       "</div>"
      ],
      "text/plain": [
       "      year           state state_po  state_fips  state_cen  state_ic  \\\n",
       "3432  2016        COLORADO       CO           8         84        62   \n",
       "3652  2016        OKLAHOMA       OK          40         73        53   \n",
       "3636  2016  NORTH CAROLINA       NC          37         56        47   \n",
       "3534  2016           MAINE       ME          23         11         2   \n",
       "\n",
       "            office         candidate party_detailed writein  candidatevotes  \\\n",
       "3432  US PRESIDENT  TRUMP, DONALD J.     REPUBLICAN   False         1202484   \n",
       "3652  US PRESIDENT     JOHNSON, GARY    LIBERTARIAN   False           83481   \n",
       "3636  US PRESIDENT        SCATTERING            NaN    True           47386   \n",
       "3534  US PRESIDENT               NaN     UNENROLLED   False            2243   \n",
       "\n",
       "      totalvotes   version  notes party_simplified  \n",
       "3432     2780220  20210113    NaN       REPUBLICAN  \n",
       "3652     1452992  20210113    NaN      LIBERTARIAN  \n",
       "3636     4741564  20210113    NaN            OTHER  \n",
       "3534      771892  20210113    NaN            OTHER  "
      ]
     },
     "execution_count": 85,
     "metadata": {},
     "output_type": "execute_result"
    }
   ],
   "source": [
    "# We load 2016 and 2020 result separately\n",
    "president = pd.read_csv('SenateData/1976-2020-president.csv')\n",
    "president16 = president[president['year'] == 2016].copy()\n",
    "president20 = president[president['year'] == 2020].copy()\n",
    "president16.sample(4) #display format of president election data"
   ]
  },
  {
   "cell_type": "code",
   "execution_count": 86,
   "id": "e10bd410",
   "metadata": {},
   "outputs": [],
   "source": [
    "# We add vote rate to each candidate in each state\n",
    "president16['vote_rate'] = president16['candidatevotes']/president16['totalvotes']\n",
    "president20['vote_rate'] = president20['candidatevotes']/president20['totalvotes']"
   ]
  },
  {
   "cell_type": "code",
   "execution_count": 87,
   "id": "036b6612",
   "metadata": {},
   "outputs": [
    {
     "data": {
      "text/plain": [
       "state      party_simplified\n",
       "ALABAMA    DEMOCRAT            0.343579\n",
       "           LIBERTARIAN         0.020942\n",
       "           OTHER               0.014648\n",
       "           REPUBLICAN          0.620831\n",
       "ALASKA     DEMOCRAT            0.365509\n",
       "                                 ...   \n",
       "WISCONSIN  REPUBLICAN          0.472182\n",
       "WYOMING    DEMOCRAT            0.216289\n",
       "           LIBERTARIAN         0.051343\n",
       "           OTHER               0.058384\n",
       "           REPUBLICAN          0.673984\n",
       "Name: vote_rate, Length: 201, dtype: float64"
      ]
     },
     "execution_count": 87,
     "metadata": {},
     "output_type": "execute_result"
    }
   ],
   "source": [
    "# We group the data by states and party_simplified (represent small parties, independent, NaN all by 'Others'). \n",
    "# We take sum of vote rates of cadidates from the same party_simplified\n",
    "vote_byparty16 = president16.groupby(['state', 'party_simplified'])['vote_rate'].sum()\n",
    "vote_byparty20 = president20.groupby(['state', 'party_simplified'])['vote_rate'].sum()\n",
    "vote_byparty16"
   ]
  },
  {
   "cell_type": "code",
   "execution_count": 88,
   "id": "0e25e62d",
   "metadata": {},
   "outputs": [],
   "source": [
    "# We create feature dataframe and add in party_simplified, party vote rate in most recent presidential election, and final vote rate\n",
    "# If the senate candidate's affiliated party does not show up in the most recent president election, party_vote_rate is 0\n",
    "features = candidate_info_byname[['party_simplified', 'vote_rate']].copy()\n",
    "for name in features.index:\n",
    "    state_ = candidate_info_byname.loc[name, 'state']\n",
    "    party_ = candidate_info_byname.loc[name, 'party_simplified']\n",
    "    if candidate_info_byname.loc[name, 'year'] < 2020: #for candidate before 2020\n",
    "        if party_ in vote_byparty16[state_].index:  #check whether the affiliated party is in recent president election\n",
    "            features.loc[name, 'party_vote_rate'] = vote_byparty16[state_][party_]\n",
    "        else: \n",
    "            features.loc[name, 'party_vote_rate'] = 0\n",
    "    else:\n",
    "        if party_ in vote_byparty20[state_].index: \n",
    "            features.loc[name, 'party_vote_rate'] = vote_byparty20[state_][party_]\n",
    "        else: \n",
    "            features.loc[name, 'party_vote_rate'] = 0"
   ]
  },
  {
   "cell_type": "markdown",
   "id": "a0f6e1c4-eb2d-452f-b697-a833e7c0ce7a",
   "metadata": {
    "jp-MarkdownHeadingCollapsed": true,
    "tags": []
   },
   "source": [
    "# 4. statistics of sentence complexity (ALSO OLD Code)"
   ]
  },
  {
   "cell_type": "markdown",
   "id": "48abacfb-91b9-4177-9c27-14d76114f0e0",
   "metadata": {},
   "source": [
    "We also calculated the average length of sentence and word of each quotation. This information may be used in our analysis about speech style (question 6)."
   ]
  },
  {
   "cell_type": "code",
   "execution_count": 89,
   "id": "c22ad51d-32f3-4e9f-821f-912eaba1d640",
   "metadata": {},
   "outputs": [
    {
     "data": {
      "text/html": [
       "<div>\n",
       "<style scoped>\n",
       "    .dataframe tbody tr th:only-of-type {\n",
       "        vertical-align: middle;\n",
       "    }\n",
       "\n",
       "    .dataframe tbody tr th {\n",
       "        vertical-align: top;\n",
       "    }\n",
       "\n",
       "    .dataframe thead th {\n",
       "        text-align: right;\n",
       "    }\n",
       "</style>\n",
       "<table border=\"1\" class=\"dataframe\">\n",
       "  <thead>\n",
       "    <tr style=\"text-align: right;\">\n",
       "      <th></th>\n",
       "      <th>index</th>\n",
       "      <th>quoteID</th>\n",
       "      <th>quotation</th>\n",
       "      <th>speaker</th>\n",
       "      <th>qids</th>\n",
       "      <th>date</th>\n",
       "      <th>numOccurrences</th>\n",
       "      <th>probas</th>\n",
       "      <th>urls</th>\n",
       "      <th>phase</th>\n",
       "      <th>domains</th>\n",
       "      <th>normalize_factor</th>\n",
       "      <th>normalize_quotes</th>\n",
       "      <th>date_only</th>\n",
       "      <th>election_day</th>\n",
       "      <th>views</th>\n",
       "      <th>normalize_views</th>\n",
       "      <th>days_before_election</th>\n",
       "      <th>split_quotation</th>\n",
       "      <th>avg_sentence_length</th>\n",
       "    </tr>\n",
       "  </thead>\n",
       "  <tbody>\n",
       "    <tr>\n",
       "      <th>0</th>\n",
       "      <td>0</td>\n",
       "      <td>2015-08-31-000271</td>\n",
       "      <td>... a great day for veterans here in Littleton...</td>\n",
       "      <td>JEANNE SHAHEEN</td>\n",
       "      <td>[Q270316]</td>\n",
       "      <td>2015-08-31 02:10:00</td>\n",
       "      <td>2</td>\n",
       "      <td>[[Jeanne Shaheen, 0.742], [None, 0.2359], [Kel...</td>\n",
       "      <td>[http://www.unionleader.com/article/20150831/N...</td>\n",
       "      <td>E</td>\n",
       "      <td>[com, com]</td>\n",
       "      <td>0.473512</td>\n",
       "      <td>0.947023</td>\n",
       "      <td>2015-08-31</td>\n",
       "      <td>2020-11-01</td>\n",
       "      <td>1.350</td>\n",
       "      <td>0.639241</td>\n",
       "      <td>1889</td>\n",
       "      <td>[ a great day for veterans here in Littleton a...</td>\n",
       "      <td>21.500000</td>\n",
       "    </tr>\n",
       "    <tr>\n",
       "      <th>1</th>\n",
       "      <td>1</td>\n",
       "      <td>2015-10-25-000242</td>\n",
       "      <td>' It is not now, nor has it ever been, the gol...</td>\n",
       "      <td>BERNIE SANDERS</td>\n",
       "      <td>[Q359442]</td>\n",
       "      <td>2015-10-25 14:12:35</td>\n",
       "      <td>1</td>\n",
       "      <td>[[Bernie Sanders, 0.5395], [None, 0.3128], [Hi...</td>\n",
       "      <td>[http://examiner.com/article/bernie-sanders-sl...</td>\n",
       "      <td>E</td>\n",
       "      <td>[com]</td>\n",
       "      <td>0.416694</td>\n",
       "      <td>0.416694</td>\n",
       "      <td>2015-10-25</td>\n",
       "      <td>2018-11-01</td>\n",
       "      <td>0.675</td>\n",
       "      <td>0.281269</td>\n",
       "      <td>1103</td>\n",
       "      <td>[' It is not now, nor has it ever been, the go...</td>\n",
       "      <td>24.333333</td>\n",
       "    </tr>\n",
       "    <tr>\n",
       "      <th>2</th>\n",
       "      <td>2</td>\n",
       "      <td>2015-11-13-000427</td>\n",
       "      <td>[ My dad ] saw what a great opportunity it was,</td>\n",
       "      <td>PAUL STANTON</td>\n",
       "      <td>[Q255668, Q27842994]</td>\n",
       "      <td>2015-11-13 08:45:01</td>\n",
       "      <td>1</td>\n",
       "      <td>[[Paul Stanton, 0.6521], [None, 0.3479]]</td>\n",
       "      <td>[http://thecrimson.com/article/2015/11/13/paul...</td>\n",
       "      <td>E</td>\n",
       "      <td>[com]</td>\n",
       "      <td>0.559562</td>\n",
       "      <td>0.559562</td>\n",
       "      <td>2015-11-13</td>\n",
       "      <td>2016-11-01</td>\n",
       "      <td>0.675</td>\n",
       "      <td>0.377704</td>\n",
       "      <td>354</td>\n",
       "      <td>[[ My dad ] saw what a great opportunity it was,]</td>\n",
       "      <td>11.000000</td>\n",
       "    </tr>\n",
       "    <tr>\n",
       "      <th>3</th>\n",
       "      <td>3</td>\n",
       "      <td>2015-06-26-015863</td>\n",
       "      <td>hurt Michigan workers and cost thousands of Am...</td>\n",
       "      <td>GARY PETERS</td>\n",
       "      <td>[Q1230954, Q1494930, Q5525742, Q56560036]</td>\n",
       "      <td>2015-06-26 22:31:05</td>\n",
       "      <td>1</td>\n",
       "      <td>[[Gary Peters, 0.7907], [None, 0.2093]]</td>\n",
       "      <td>[http://detroitnews.com/story/news/politics/20...</td>\n",
       "      <td>E</td>\n",
       "      <td>[com]</td>\n",
       "      <td>1.007044</td>\n",
       "      <td>1.007044</td>\n",
       "      <td>2015-06-26</td>\n",
       "      <td>2020-11-01</td>\n",
       "      <td>0.675</td>\n",
       "      <td>0.679755</td>\n",
       "      <td>1955</td>\n",
       "      <td>[hurt Michigan workers and cost thousands of A...</td>\n",
       "      <td>10.000000</td>\n",
       "    </tr>\n",
       "  </tbody>\n",
       "</table>\n",
       "</div>"
      ],
      "text/plain": [
       "   index            quoteID  \\\n",
       "0      0  2015-08-31-000271   \n",
       "1      1  2015-10-25-000242   \n",
       "2      2  2015-11-13-000427   \n",
       "3      3  2015-06-26-015863   \n",
       "\n",
       "                                           quotation         speaker  \\\n",
       "0  ... a great day for veterans here in Littleton...  JEANNE SHAHEEN   \n",
       "1  ' It is not now, nor has it ever been, the gol...  BERNIE SANDERS   \n",
       "2    [ My dad ] saw what a great opportunity it was,    PAUL STANTON   \n",
       "3  hurt Michigan workers and cost thousands of Am...     GARY PETERS   \n",
       "\n",
       "                                        qids                date  \\\n",
       "0                                  [Q270316] 2015-08-31 02:10:00   \n",
       "1                                  [Q359442] 2015-10-25 14:12:35   \n",
       "2                       [Q255668, Q27842994] 2015-11-13 08:45:01   \n",
       "3  [Q1230954, Q1494930, Q5525742, Q56560036] 2015-06-26 22:31:05   \n",
       "\n",
       "   numOccurrences                                             probas  \\\n",
       "0               2  [[Jeanne Shaheen, 0.742], [None, 0.2359], [Kel...   \n",
       "1               1  [[Bernie Sanders, 0.5395], [None, 0.3128], [Hi...   \n",
       "2               1           [[Paul Stanton, 0.6521], [None, 0.3479]]   \n",
       "3               1            [[Gary Peters, 0.7907], [None, 0.2093]]   \n",
       "\n",
       "                                                urls phase     domains  \\\n",
       "0  [http://www.unionleader.com/article/20150831/N...     E  [com, com]   \n",
       "1  [http://examiner.com/article/bernie-sanders-sl...     E       [com]   \n",
       "2  [http://thecrimson.com/article/2015/11/13/paul...     E       [com]   \n",
       "3  [http://detroitnews.com/story/news/politics/20...     E       [com]   \n",
       "\n",
       "   normalize_factor  normalize_quotes   date_only election_day  views  \\\n",
       "0          0.473512          0.947023  2015-08-31   2020-11-01  1.350   \n",
       "1          0.416694          0.416694  2015-10-25   2018-11-01  0.675   \n",
       "2          0.559562          0.559562  2015-11-13   2016-11-01  0.675   \n",
       "3          1.007044          1.007044  2015-06-26   2020-11-01  0.675   \n",
       "\n",
       "   normalize_views  days_before_election  \\\n",
       "0         0.639241                  1889   \n",
       "1         0.281269                  1103   \n",
       "2         0.377704                   354   \n",
       "3         0.679755                  1955   \n",
       "\n",
       "                                     split_quotation  avg_sentence_length  \n",
       "0  [ a great day for veterans here in Littleton a...            21.500000  \n",
       "1  [' It is not now, nor has it ever been, the go...            24.333333  \n",
       "2  [[ My dad ] saw what a great opportunity it was,]            11.000000  \n",
       "3  [hurt Michigan workers and cost thousands of A...            10.000000  "
      ]
     },
     "execution_count": 89,
     "metadata": {},
     "output_type": "execute_result"
    }
   ],
   "source": [
    "# calculate average sentence length (by word number)\n",
    "import re\n",
    "candidate_quotes['split_quotation']=candidate_quotes.quotation.map(lambda x:re.split(r'\\.|!|\\?',x))\n",
    "candidate_quotes['split_quotation']=candidate_quotes.split_quotation.map(lambda x:list(filter(None, x))) # remove empty string\n",
    "candidate_quotes['avg_sentence_length'] = candidate_quotes.split_quotation.map(lambda x:np.mean(list(map(lambda s:len(s.split()), x))))\n",
    "candidate_quotes.head(4)"
   ]
  },
  {
   "cell_type": "code",
   "execution_count": 33,
   "id": "4b7ad7c8-5cbe-4728-9878-dea36503f42f",
   "metadata": {},
   "outputs": [
    {
     "data": {
      "text/html": [
       "<div>\n",
       "<style scoped>\n",
       "    .dataframe tbody tr th:only-of-type {\n",
       "        vertical-align: middle;\n",
       "    }\n",
       "\n",
       "    .dataframe tbody tr th {\n",
       "        vertical-align: top;\n",
       "    }\n",
       "\n",
       "    .dataframe thead th {\n",
       "        text-align: right;\n",
       "    }\n",
       "</style>\n",
       "<table border=\"1\" class=\"dataframe\">\n",
       "  <thead>\n",
       "    <tr style=\"text-align: right;\">\n",
       "      <th></th>\n",
       "      <th>quoteID</th>\n",
       "      <th>quotation</th>\n",
       "      <th>speaker</th>\n",
       "      <th>qids</th>\n",
       "      <th>date</th>\n",
       "      <th>numOccurrences</th>\n",
       "      <th>probas</th>\n",
       "      <th>urls</th>\n",
       "      <th>phase</th>\n",
       "      <th>domains</th>\n",
       "      <th>date_only</th>\n",
       "      <th>election_day</th>\n",
       "      <th>split_quotation</th>\n",
       "      <th>avg_sentence_length</th>\n",
       "      <th>split_words</th>\n",
       "      <th>avg_word_length</th>\n",
       "    </tr>\n",
       "  </thead>\n",
       "  <tbody>\n",
       "    <tr>\n",
       "      <th>0</th>\n",
       "      <td>2015-08-31-000271</td>\n",
       "      <td>... a great day for veterans here in Littleton...</td>\n",
       "      <td>JEANNE SHAHEEN</td>\n",
       "      <td>[Q270316]</td>\n",
       "      <td>2015-08-31 02:10:00</td>\n",
       "      <td>2</td>\n",
       "      <td>[[Jeanne Shaheen, 0.742], [None, 0.2359], [Kel...</td>\n",
       "      <td>[http://www.unionleader.com/article/20150831/N...</td>\n",
       "      <td>E</td>\n",
       "      <td>[com, com]</td>\n",
       "      <td>2015-08-31</td>\n",
       "      <td>2020-11-01</td>\n",
       "      <td>[ a great day for veterans here in Littleton a...</td>\n",
       "      <td>21.500000</td>\n",
       "      <td>[..., a, great, day, for, veterans, here, in, ...</td>\n",
       "      <td>4.318182</td>\n",
       "    </tr>\n",
       "    <tr>\n",
       "      <th>1</th>\n",
       "      <td>2015-10-25-000242</td>\n",
       "      <td>' It is not now, nor has it ever been, the gol...</td>\n",
       "      <td>BERNIE SANDERS</td>\n",
       "      <td>[Q359442]</td>\n",
       "      <td>2015-10-25 14:12:35</td>\n",
       "      <td>1</td>\n",
       "      <td>[[Bernie Sanders, 0.5395], [None, 0.3128], [Hi...</td>\n",
       "      <td>[http://examiner.com/article/bernie-sanders-sl...</td>\n",
       "      <td>E</td>\n",
       "      <td>[com]</td>\n",
       "      <td>2015-10-25</td>\n",
       "      <td>2018-11-01</td>\n",
       "      <td>[' It is not now, nor has it ever been, the go...</td>\n",
       "      <td>24.333333</td>\n",
       "      <td>[', It, is, not, now,, nor, has, it, ever, bee...</td>\n",
       "      <td>3.931507</td>\n",
       "    </tr>\n",
       "    <tr>\n",
       "      <th>2</th>\n",
       "      <td>2015-11-13-000427</td>\n",
       "      <td>[ My dad ] saw what a great opportunity it was,</td>\n",
       "      <td>PAUL STANTON</td>\n",
       "      <td>[Q255668, Q27842994]</td>\n",
       "      <td>2015-11-13 08:45:01</td>\n",
       "      <td>1</td>\n",
       "      <td>[[Paul Stanton, 0.6521], [None, 0.3479]]</td>\n",
       "      <td>[http://thecrimson.com/article/2015/11/13/paul...</td>\n",
       "      <td>E</td>\n",
       "      <td>[com]</td>\n",
       "      <td>2015-11-13</td>\n",
       "      <td>2016-11-01</td>\n",
       "      <td>[[ My dad ] saw what a great opportunity it was,]</td>\n",
       "      <td>11.000000</td>\n",
       "      <td>[[, My, dad, ], saw, what, a, great, opportuni...</td>\n",
       "      <td>3.363636</td>\n",
       "    </tr>\n",
       "    <tr>\n",
       "      <th>3</th>\n",
       "      <td>2015-06-26-015863</td>\n",
       "      <td>hurt Michigan workers and cost thousands of Am...</td>\n",
       "      <td>GARY PETERS</td>\n",
       "      <td>[Q1230954, Q1494930, Q5525742, Q56560036]</td>\n",
       "      <td>2015-06-26 22:31:05</td>\n",
       "      <td>1</td>\n",
       "      <td>[[Gary Peters, 0.7907], [None, 0.2093]]</td>\n",
       "      <td>[http://detroitnews.com/story/news/politics/20...</td>\n",
       "      <td>E</td>\n",
       "      <td>[com]</td>\n",
       "      <td>2015-06-26</td>\n",
       "      <td>2020-11-01</td>\n",
       "      <td>[hurt Michigan workers and cost thousands of A...</td>\n",
       "      <td>10.000000</td>\n",
       "      <td>[hurt, Michigan, workers, and, cost, thousands...</td>\n",
       "      <td>6.300000</td>\n",
       "    </tr>\n",
       "  </tbody>\n",
       "</table>\n",
       "</div>"
      ],
      "text/plain": [
       "             quoteID                                          quotation  \\\n",
       "0  2015-08-31-000271  ... a great day for veterans here in Littleton...   \n",
       "1  2015-10-25-000242  ' It is not now, nor has it ever been, the gol...   \n",
       "2  2015-11-13-000427    [ My dad ] saw what a great opportunity it was,   \n",
       "3  2015-06-26-015863  hurt Michigan workers and cost thousands of Am...   \n",
       "\n",
       "          speaker                                       qids  \\\n",
       "0  JEANNE SHAHEEN                                  [Q270316]   \n",
       "1  BERNIE SANDERS                                  [Q359442]   \n",
       "2    PAUL STANTON                       [Q255668, Q27842994]   \n",
       "3     GARY PETERS  [Q1230954, Q1494930, Q5525742, Q56560036]   \n",
       "\n",
       "                 date  numOccurrences  \\\n",
       "0 2015-08-31 02:10:00               2   \n",
       "1 2015-10-25 14:12:35               1   \n",
       "2 2015-11-13 08:45:01               1   \n",
       "3 2015-06-26 22:31:05               1   \n",
       "\n",
       "                                              probas  \\\n",
       "0  [[Jeanne Shaheen, 0.742], [None, 0.2359], [Kel...   \n",
       "1  [[Bernie Sanders, 0.5395], [None, 0.3128], [Hi...   \n",
       "2           [[Paul Stanton, 0.6521], [None, 0.3479]]   \n",
       "3            [[Gary Peters, 0.7907], [None, 0.2093]]   \n",
       "\n",
       "                                                urls phase     domains  \\\n",
       "0  [http://www.unionleader.com/article/20150831/N...     E  [com, com]   \n",
       "1  [http://examiner.com/article/bernie-sanders-sl...     E       [com]   \n",
       "2  [http://thecrimson.com/article/2015/11/13/paul...     E       [com]   \n",
       "3  [http://detroitnews.com/story/news/politics/20...     E       [com]   \n",
       "\n",
       "    date_only election_day                                    split_quotation  \\\n",
       "0  2015-08-31   2020-11-01  [ a great day for veterans here in Littleton a...   \n",
       "1  2015-10-25   2018-11-01  [' It is not now, nor has it ever been, the go...   \n",
       "2  2015-11-13   2016-11-01  [[ My dad ] saw what a great opportunity it was,]   \n",
       "3  2015-06-26   2020-11-01  [hurt Michigan workers and cost thousands of A...   \n",
       "\n",
       "   avg_sentence_length                                        split_words  \\\n",
       "0            21.500000  [..., a, great, day, for, veterans, here, in, ...   \n",
       "1            24.333333  [', It, is, not, now,, nor, has, it, ever, bee...   \n",
       "2            11.000000  [[, My, dad, ], saw, what, a, great, opportuni...   \n",
       "3            10.000000  [hurt, Michigan, workers, and, cost, thousands...   \n",
       "\n",
       "   avg_word_length  \n",
       "0         4.318182  \n",
       "1         3.931507  \n",
       "2         3.363636  \n",
       "3         6.300000  "
      ]
     },
     "execution_count": 33,
     "metadata": {},
     "output_type": "execute_result"
    }
   ],
   "source": [
    "# calculate average word lenghth for each quotation\n",
    "candidate_quotes['split_words'] = candidate_quotes.quotation.map(lambda x:x.split())\n",
    "candidate_quotes['avg_word_length'] = candidate_quotes.split_words.map(lambda x:np.mean(list(map(lambda w:len(w), x))))\n",
    "candidate_quotes.head(4)"
   ]
  }
 ],
 "metadata": {
  "interpreter": {
   "hash": "db666ba5cfc1e6b340ffb8c99ac64e84d1885a4fc4ce42ed4b6eb0071bb1085a"
  },
  "kernelspec": {
   "display_name": "Python [conda env:ada] *",
   "language": "python",
   "name": "python3"
  },
  "language_info": {
   "codemirror_mode": {
    "name": "ipython",
    "version": 3
   },
   "file_extension": ".py",
   "mimetype": "text/x-python",
   "name": "python",
   "nbconvert_exporter": "python",
   "pygments_lexer": "ipython3",
   "version": "3.8.5"
  }
 },
 "nbformat": 4,
 "nbformat_minor": 5
}
